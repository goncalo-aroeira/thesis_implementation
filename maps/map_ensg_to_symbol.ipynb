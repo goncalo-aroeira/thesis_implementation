{
 "cells": [
  {
   "cell_type": "markdown",
   "id": "ef02121a",
   "metadata": {},
   "source": [
    "# 🧬 Map Ensembl IDs to Gene Symbols (Breast Pseudo-Bulk)\n",
    "\n",
    "This notebook maps Ensembl gene IDs in the breast cancer pseudo-bulk dataset to HGNC gene symbols using the `gene_info.csv` reference file.\n"
   ]
  },
  {
   "cell_type": "code",
   "execution_count": 9,
   "id": "4499a8ae",
   "metadata": {},
   "outputs": [],
   "source": [
    "import pandas as pd\n",
    "import scanpy as sc\n"
   ]
  },
  {
   "cell_type": "markdown",
   "id": "e7f31739",
   "metadata": {},
   "source": [
    "## 📥 Load Breast Dataset and Gene Mapping File\n"
   ]
  },
  {
   "cell_type": "code",
   "execution_count": 10,
   "id": "1a491e3b",
   "metadata": {},
   "outputs": [
    {
     "name": "stdout",
     "output_type": "stream",
     "text": [
      "Original shape: (30523, 47096)\n"
     ]
    }
   ],
   "source": [
    "# Load h5ad file\n",
    "adata = sc.read_h5ad(\"data/breast_cancer_dimred.h5ad\")  # replace with actual file\n",
    "\n",
    "# Load mapping file\n",
    "gene_info = pd.read_csv(\"gene_info.csv\")  # must contain columns 'feature_id' and 'feature_name'\n",
    "ensg_to_symbol = dict(zip(gene_info[\"feature_id\"], gene_info[\"feature_name\"]))\n",
    "\n",
    "print(\"Original shape:\", adata.shape)\n",
    "\n"
   ]
  },
  {
   "cell_type": "markdown",
   "id": "ee2cdaed",
   "metadata": {},
   "source": [
    "## 🔁 Rename Columns Using Mapping\n"
   ]
  },
  {
   "cell_type": "code",
   "execution_count": 11,
   "id": "04ca1bb7",
   "metadata": {},
   "outputs": [
    {
     "name": "stdout",
     "output_type": "stream",
     "text": [
      "✅ Mapped 47022 / 47096 genes\n"
     ]
    }
   ],
   "source": [
    "# Map using .var_names or .var.index\n",
    "adata.var[\"original_id\"] = adata.var_names\n",
    "adata.var[\"mapped_symbol\"] = adata.var[\"original_id\"].map(ensg_to_symbol)\n",
    "\n",
    "# Drop genes that failed to map (optional but recommended)\n",
    "mapped_mask = adata.var[\"mapped_symbol\"].notnull()\n",
    "print(f\"✅ Mapped {mapped_mask.sum()} / {adata.shape[1]} genes\")\n",
    "\n",
    "adata = adata[:, mapped_mask].copy()\n",
    "adata.var_names = adata.var[\"mapped_symbol\"]\n",
    "adata.var_names_make_unique()\n"
   ]
  },
  {
   "cell_type": "markdown",
   "id": "017adbf0",
   "metadata": {},
   "source": [
    "## 🧪 Check for Duplicated Gene Symbols (Optional)\n"
   ]
  },
  {
   "cell_type": "code",
   "execution_count": 12,
   "id": "c115a7e0",
   "metadata": {},
   "outputs": [
    {
     "name": "stdout",
     "output_type": "stream",
     "text": [
      "📁 Saved mapped file to 'your_data_mapped.h5ad'\n"
     ]
    }
   ],
   "source": [
    "adata.write(\"breast_cancer_mapped.h5ad\")\n",
    "print(\"📁 Saved mapped file to 'your_data_mapped.h5ad'\")\n"
   ]
  }
 ],
 "metadata": {
  "kernelspec": {
   "display_name": "tese-env",
   "language": "python",
   "name": "python3"
  },
  "language_info": {
   "codemirror_mode": {
    "name": "ipython",
    "version": 3
   },
   "file_extension": ".py",
   "mimetype": "text/x-python",
   "name": "python",
   "nbconvert_exporter": "python",
   "pygments_lexer": "ipython3",
   "version": "3.10.16"
  }
 },
 "nbformat": 4,
 "nbformat_minor": 5
}
