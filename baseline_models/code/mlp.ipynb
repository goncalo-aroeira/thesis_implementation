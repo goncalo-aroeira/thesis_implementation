{
 "cells": [
  {
   "cell_type": "code",
   "execution_count": 1,
   "metadata": {},
   "outputs": [],
   "source": [
    "# Cell 1: Imports\n",
    "import pandas as pd\n",
    "import numpy as np\n",
    "import os\n",
    "import joblib\n",
    "from sklearn.model_selection import train_test_split\n",
    "from sklearn.neural_network import MLPRegressor\n",
    "from sklearn.metrics import mean_squared_error, r2_score"
   ]
  },
  {
   "cell_type": "code",
   "execution_count": 2,
   "metadata": {},
   "outputs": [
    {
     "name": "stdout",
     "output_type": "stream",
     "text": [
      "Expression data shape: (575197, 2003)\n",
      "Gene embedding matrix shape: (37307, 512)\n"
     ]
    }
   ],
   "source": [
    "# Cell 2: Load Data\n",
    "data = pd.read_parquet(\"data/gdsc_single_cell_aligned.parquet\")\n",
    "gene_emb = pd.read_parquet(\"data/gene_embeddings.parquet\")\n",
    "\n",
    "# If \"gene\" is a column instead of index, fix it\n",
    "if \"gene\" in gene_emb.columns:\n",
    "    gene_emb.set_index(\"gene\", inplace=True)\n",
    "\n",
    "print(\"Expression data shape:\", data.shape)\n",
    "print(\"Gene embedding matrix shape:\", gene_emb.shape)"
   ]
  },
  {
   "cell_type": "code",
   "execution_count": null,
   "metadata": {},
   "outputs": [
    {
     "name": "stdout",
     "output_type": "stream",
     "text": [
      "\n",
      "🧠 Drug ID: 1\n",
      "✅ RMSE: 6.2404 | R²: -25.5605\n",
      "\n",
      "🧠 Drug ID: 3\n",
      "✅ RMSE: 7.2750 | R²: -10.2046\n",
      "\n",
      "🧠 Drug ID: 5\n",
      "✅ RMSE: 5.5731 | R²: -10.4041\n",
      "\n",
      "🧠 Drug ID: 6\n",
      "✅ RMSE: 7.0630 | R²: -67.3452\n",
      "\n",
      "🧠 Drug ID: 9\n",
      "✅ RMSE: 8.2615 | R²: -30.1136\n",
      "\n",
      "🧠 Drug ID: 11\n",
      "✅ RMSE: 6.6312 | R²: -9.6132\n",
      "\n",
      "🧠 Drug ID: 17\n"
     ]
    },
    {
     "name": "stderr",
     "output_type": "stream",
     "text": [
      "/home/guests3/gba/.conda/envs/tese-env/lib/python3.10/site-packages/sklearn/neural_network/_multilayer_perceptron.py:698: UserWarning: Training interrupted by user.\n",
      "  warnings.warn(\"Training interrupted by user.\")\n"
     ]
    },
    {
     "name": "stdout",
     "output_type": "stream",
     "text": [
      "✅ RMSE: 7.2452 | R²: -59.2025\n",
      "\n",
      "🧠 Drug ID: 29\n",
      "✅ RMSE: 5.9654 | R²: -9.4958\n",
      "\n",
      "🧠 Drug ID: 30\n"
     ]
    }
   ],
   "source": [
    "# Cell 2: Train per-drug MLP models with gene embeddings\n",
    "os.makedirs(\"models_mlp\", exist_ok=True)\n",
    "\n",
    "gene_cols = [col for col in data.columns if col not in [\"SANGER_MODEL_ID\", \"DRUG_ID\", \"LN_IC50\"]]\n",
    "embed_dim = gene_emb.shape[1]\n",
    "all_results = []\n",
    "\n",
    "for drug_id in sorted(data[\"DRUG_ID\"].unique())[:20]:  # First 20 drugs\n",
    "    print(f\"\\n🧠 Drug ID: {drug_id}\")\n",
    "    \n",
    "    df = data[data[\"DRUG_ID\"] == drug_id].dropna(subset=[\"LN_IC50\"])\n",
    "    \n",
    "    if df.shape[0] < 10:\n",
    "        print(\"❗ Skipped (not enough samples)\")\n",
    "        continue\n",
    "    \n",
    "    # Expression matrix\n",
    "    X_expr = df[gene_cols]\n",
    "    y = df[\"LN_IC50\"].values\n",
    "    \n",
    "    # Filter HVGs that exist in the embedding file\n",
    "    valid_genes = [g for g in gene_cols if g in gene_emb.index]\n",
    "    if len(valid_genes) == 0:\n",
    "        print(\"⚠️ No valid genes with embeddings found.\")\n",
    "        continue\n",
    "    \n",
    "    expr_matrix = X_expr[valid_genes].values\n",
    "    emb_matrix = gene_emb.loc[valid_genes].values  # (genes, 512)\n",
    "    \n",
    "    # Weighted avg of gene embeddings\n",
    "    emb_features = expr_matrix @ emb_matrix  # (samples, 512)\n",
    "\n",
    "    # Final input = expression + embedding\n",
    "    X_final = np.hstack([expr_matrix, emb_features])\n",
    "\n",
    "    # Drop any rows with NaNs\n",
    "    valid_rows = ~np.isnan(X_final).any(axis=1)\n",
    "    X_final = X_final[valid_rows]\n",
    "    y = y[valid_rows]\n",
    "    \n",
    "    # Train/Test split\n",
    "    X_train, X_test, y_train, y_test = train_test_split(\n",
    "        X_final, y, test_size=0.2, random_state=42\n",
    "    )\n",
    "    \n",
    "    # Train MLP\n",
    "    model = MLPRegressor(hidden_layer_sizes=(256, 128), max_iter=500, random_state=42)\n",
    "    model.fit(X_train, y_train)\n",
    "    \n",
    "    # Eval\n",
    "    preds = model.predict(X_test)\n",
    "    rmse = np.sqrt(mean_squared_error(y_test, preds))\n",
    "    r2 = r2_score(y_test, preds)\n",
    "    \n",
    "    print(f\"✅ RMSE: {rmse:.4f} | R²: {r2:.4f}\")\n",
    "    \n",
    "    # Save\n",
    "    path = f\"models_mlp/mlp_drug_{drug_id}.pkl\"\n",
    "    joblib.dump(model, path)\n",
    "    \n",
    "    all_results.append({\n",
    "        \"DRUG_ID\": drug_id,\n",
    "        \"num_samples\": len(df),\n",
    "        \"rmse\": rmse,\n",
    "        \"r2\": r2,\n",
    "        \"model_path\": path\n",
    "    })\n"
   ]
  },
  {
   "cell_type": "code",
   "execution_count": null,
   "metadata": {},
   "outputs": [],
   "source": [
    "# Cell 4: Save performance summary\n",
    "results_df = pd.DataFrame(all_results)\n",
    "results_df.to_csv(\"models_mlp/model_performance_summary.csv\", index=False)\n",
    "results_df.head()"
   ]
  }
 ],
 "metadata": {
  "kernelspec": {
   "display_name": "tese-env",
   "language": "python",
   "name": "python3"
  },
  "language_info": {
   "codemirror_mode": {
    "name": "ipython",
    "version": 3
   },
   "file_extension": ".py",
   "mimetype": "text/x-python",
   "name": "python",
   "nbconvert_exporter": "python",
   "pygments_lexer": "ipython3",
   "version": "3.10.16"
  }
 },
 "nbformat": 4,
 "nbformat_minor": 2
}
