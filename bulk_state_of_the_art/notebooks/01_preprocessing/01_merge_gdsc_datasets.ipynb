{
 "cells": [
  {
   "cell_type": "code",
   "execution_count": 1,
   "metadata": {},
   "outputs": [],
   "source": [
    "import polars as pl"
   ]
  },
  {
   "cell_type": "code",
   "execution_count": 4,
   "metadata": {},
   "outputs": [
    {
     "name": "stdout",
     "output_type": "stream",
     "text": [
      "shape: (5, 19)\n",
      "┌─────────┬─────────────┬─────────────┬───────────┬───┬──────────┬──────────┬──────────┬───────────┐\n",
      "│ DATASET ┆ NLME_RESULT ┆ NLME_CURVE_ ┆ COSMIC_ID ┆ … ┆ LN_IC50  ┆ AUC      ┆ RMSE     ┆ Z_SCORE   │\n",
      "│ ---     ┆ _ID         ┆ ID          ┆ ---       ┆   ┆ ---      ┆ ---      ┆ ---      ┆ ---       │\n",
      "│ str     ┆ ---         ┆ ---         ┆ i64       ┆   ┆ f64      ┆ f64      ┆ f64      ┆ f64       │\n",
      "│         ┆ i64         ┆ i64         ┆           ┆   ┆          ┆          ┆          ┆           │\n",
      "╞═════════╪═════════════╪═════════════╪═══════════╪═══╪══════════╪══════════╪══════════╪═══════════╡\n",
      "│ GDSC1   ┆ 342         ┆ 15580432    ┆ 684057    ┆ … ┆ 3.966813 ┆ 0.985678 ┆ 0.026081 ┆ 1.299144  │\n",
      "│ GDSC1   ┆ 342         ┆ 15580806    ┆ 684059    ┆ … ┆ 2.69209  ┆ 0.97269  ┆ 0.110059 ┆ 0.156076  │\n",
      "│ GDSC1   ┆ 342         ┆ 15581198    ┆ 684062    ┆ … ┆ 2.47799  ┆ 0.944459 ┆ 0.087019 ┆ -0.035912 │\n",
      "│ GDSC1   ┆ 342         ┆ 15581542    ┆ 684072    ┆ … ┆ 2.033564 ┆ 0.950758 ┆ 0.01629  ┆ -0.434437 │\n",
      "│ GDSC1   ┆ 342         ┆ 15581930    ┆ 687448    ┆ … ┆ 2.966007 ┆ 0.954778 ┆ 0.180255 ┆ 0.401702  │\n",
      "└─────────┴─────────────┴─────────────┴───────────┴───┴──────────┴──────────┴──────────┴───────────┘\n",
      "shape: (5, 19)\n",
      "┌─────────┬─────────────┬────────────┬───────────┬───┬───────────┬──────────┬──────────┬───────────┐\n",
      "│ DATASET ┆ NLME_RESULT ┆ NLME_CURVE ┆ COSMIC_ID ┆ … ┆ LN_IC50   ┆ AUC      ┆ RMSE     ┆ Z_SCORE   │\n",
      "│ ---     ┆ _ID         ┆ _ID        ┆ ---       ┆   ┆ ---       ┆ ---      ┆ ---      ┆ ---       │\n",
      "│ str     ┆ ---         ┆ ---        ┆ i64       ┆   ┆ f64       ┆ f64      ┆ f64      ┆ f64       │\n",
      "│         ┆ i64         ┆ i64        ┆           ┆   ┆           ┆          ┆          ┆           │\n",
      "╞═════════╪═════════════╪════════════╪═══════════╪═══╪═══════════╪══════════╪══════════╪═══════════╡\n",
      "│ GDSC2   ┆ 343         ┆ 15946310   ┆ 683667    ┆ … ┆ -1.463887 ┆ 0.93022  ┆ 0.089052 ┆ 0.433123  │\n",
      "│ GDSC2   ┆ 343         ┆ 15946548   ┆ 684052    ┆ … ┆ -4.869455 ┆ 0.61497  ┆ 0.111351 ┆ -1.4211   │\n",
      "│ GDSC2   ┆ 343         ┆ 15946830   ┆ 684057    ┆ … ┆ -3.360586 ┆ 0.791072 ┆ 0.142855 ┆ -0.599569 │\n",
      "│ GDSC2   ┆ 343         ┆ 15947087   ┆ 684059    ┆ … ┆ -5.04494  ┆ 0.59266  ┆ 0.135539 ┆ -1.516647 │\n",
      "│ GDSC2   ┆ 343         ┆ 15947369   ┆ 684062    ┆ … ┆ -3.741991 ┆ 0.734047 ┆ 0.128059 ┆ -0.807232 │\n",
      "└─────────┴─────────────┴────────────┴───────────┴───┴───────────┴──────────┴──────────┴───────────┘\n"
     ]
    }
   ],
   "source": [
    "# Load GDSC1 and GDSC2\n",
    "gdsc1 = pl.read_parquet(\"../../data/bulk/gdsc1_fitted_dose_response.parquet\")\n",
    "gdsc2 = pl.read_parquet(\"../../data/bulk/gdsc2_fitted_dose_response.parquet\")\n",
    "\n",
    "# Display first few rows\n",
    "print(gdsc1.head())\n",
    "print(gdsc2.head())"
   ]
  },
  {
   "cell_type": "code",
   "execution_count": 5,
   "metadata": {},
   "outputs": [
    {
     "name": "stdout",
     "output_type": "stream",
     "text": [
      "🔹 Merged dataset shape: (575197, 19)\n"
     ]
    }
   ],
   "source": [
    "# Merge and remove duplicates\n",
    "gdsc_merged = pl.concat([gdsc1, gdsc2]).unique()\n",
    "\n",
    "print(f\"🔹 Merged dataset shape: {gdsc_merged.shape}\")"
   ]
  },
  {
   "cell_type": "code",
   "execution_count": null,
   "metadata": {},
   "outputs": [
    {
     "name": "stdout",
     "output_type": "stream",
     "text": [
      "🔹 Cleaned dataset shape: (575197, 3)\n"
     ]
    }
   ],
   "source": [
    "# Essential columns to keep\n",
    "columns_to_keep = [\"SANGER_MODEL_ID\", \"DRUG_ID\", \"LN_IC50\"]\n",
    "\n",
    "# Drop unnecessary columns\n",
    "gdsc_cleaned = gdsc_merged[columns_to_keep]\n",
    "\n",
    "print(f\"🔹 Cleaned dataset shape: {gdsc_cleaned.shape}\")\n"
   ]
  },
  {
   "cell_type": "code",
   "execution_count": 5,
   "metadata": {},
   "outputs": [
    {
     "name": "stdout",
     "output_type": "stream",
     "text": [
      "\n",
      "📊 Missing Values in LN_IC50: 0\n"
     ]
    }
   ],
   "source": [
    "# Check for missing values\n",
    "missing_ln_ic50 = gdsc_cleaned.filter(pl.col(\"LN_IC50\").is_null()).shape[0]\n",
    "print(f\"\\n📊 Missing Values in LN_IC50: {missing_ln_ic50}\")\n",
    "\n",
    "if missing_ln_ic50 > 0:\n",
    "    # Fill NaNs with group mean\n",
    "    gdsc_cleaned = (\n",
    "        gdsc_cleaned\n",
    "        .with_columns([\n",
    "            pl.col(\"LN_IC50\").fill_null(\n",
    "                pl.col(\"LN_IC50\").mean().over([\"SANGER_MODEL_ID\", \"DRUG_ID\"])\n",
    "            )\n",
    "        ])\n",
    "        .with_columns([\n",
    "            pl.col(\"LN_IC50\").fill_null(0)  # Fill any remaining nulls with 0\n",
    "        ])\n",
    "    )\n"
   ]
  },
  {
   "cell_type": "code",
   "execution_count": 6,
   "metadata": {},
   "outputs": [
    {
     "name": "stdout",
     "output_type": "stream",
     "text": [
      "✅ Final merged and cleaned GDSC dataset saved!\n",
      "📌 Final dataset shape: (575197, 3)\n"
     ]
    }
   ],
   "source": [
    "gdsc_cleaned.write_parquet(\"gdsc/gdsc_final_cleaned.parquet\")\n",
    "print(\"✅ Final merged and cleaned GDSC dataset saved!\")\n",
    "print(f\"📌 Final dataset shape: {gdsc_cleaned.shape}\")\n"
   ]
  }
 ],
 "metadata": {
  "kernelspec": {
   "display_name": "Python 3",
   "language": "python",
   "name": "python3"
  },
  "language_info": {
   "codemirror_mode": {
    "name": "ipython",
    "version": 3
   },
   "file_extension": ".py",
   "mimetype": "text/x-python",
   "name": "python",
   "nbconvert_exporter": "python",
   "pygments_lexer": "ipython3",
   "version": "3.11.11"
  }
 },
 "nbformat": 4,
 "nbformat_minor": 2
}
