{
 "cells": [
  {
   "cell_type": "markdown",
   "metadata": {},
   "source": [
    "# Align gene expression and GDSC Data into Pseudo-Bulk Format\n",
    "\n",
    "This notebook performs the first preprocessing step in our pipeline:\n",
    "- Align GDSC drug response data with gene expression data.\n",
    "- Normalize expression values using `log1p`.\n",
    "\n",
    "\n"
   ]
  },
  {
   "cell_type": "code",
   "execution_count": 1,
   "metadata": {},
   "outputs": [],
   "source": [
    "# Cell 1: Imports and setup\n",
    "import polars as pl\n",
    "import numpy as np\n",
    "import os\n",
    "import pandas as pd\n"
   ]
  },
  {
   "cell_type": "markdown",
   "metadata": {},
   "source": [
    "## 1. Load GDSC Drug Response Data\n",
    "\n",
    "We load the cleaned GDSC data and select only the relevant columns:\n",
    "- `SANGER_MODEL_ID` for cell line\n",
    "- `DRUG_ID` for compound identity\n",
    "- `LN_IC50` for log-transformed drug sensitivity\n"
   ]
  },
  {
   "cell_type": "code",
   "execution_count": 2,
   "metadata": {},
   "outputs": [
    {
     "name": "stdout",
     "output_type": "stream",
     "text": [
      "✅ GDSC bulk data loaded.\n",
      "Shape: (571985, 3)\n"
     ]
    },
    {
     "data": {
      "text/html": [
       "<div><style>\n",
       ".dataframe > thead > tr,\n",
       ".dataframe > tbody > tr {\n",
       "  text-align: right;\n",
       "  white-space: pre-wrap;\n",
       "}\n",
       "</style>\n",
       "<small>shape: (5, 3)</small><table border=\"1\" class=\"dataframe\"><thead><tr><th>SANGER_MODEL_ID</th><th>DRUG_ID</th><th>LN_IC50</th></tr><tr><td>str</td><td>i32</td><td>f32</td></tr></thead><tbody><tr><td>&quot;SIDM00374&quot;</td><td>1009</td><td>4.13448</td></tr><tr><td>&quot;SIDM00255&quot;</td><td>268</td><td>-2.236015</td></tr><tr><td>&quot;SIDM01182&quot;</td><td>1012</td><td>1.321538</td></tr><tr><td>&quot;SIDM01160&quot;</td><td>1023</td><td>3.875126</td></tr><tr><td>&quot;SIDM00547&quot;</td><td>1197</td><td>4.457386</td></tr></tbody></table></div>"
      ],
      "text/plain": [
       "shape: (5, 3)\n",
       "┌─────────────────┬─────────┬───────────┐\n",
       "│ SANGER_MODEL_ID ┆ DRUG_ID ┆ LN_IC50   │\n",
       "│ ---             ┆ ---     ┆ ---       │\n",
       "│ str             ┆ i32     ┆ f32       │\n",
       "╞═════════════════╪═════════╪═══════════╡\n",
       "│ SIDM00374       ┆ 1009    ┆ 4.13448   │\n",
       "│ SIDM00255       ┆ 268     ┆ -2.236015 │\n",
       "│ SIDM01182       ┆ 1012    ┆ 1.321538  │\n",
       "│ SIDM01160       ┆ 1023    ┆ 3.875126  │\n",
       "│ SIDM00547       ┆ 1197    ┆ 4.457386  │\n",
       "└─────────────────┴─────────┴───────────┘"
      ]
     },
     "execution_count": 2,
     "metadata": {},
     "output_type": "execute_result"
    }
   ],
   "source": [
    "gdsc_bulk = pl.read_parquet(\"../../data/bulk/gdsc_final_cleaned.parquet\").select([\n",
    "    pl.col(\"SANGER_MODEL_ID\").cast(pl.Utf8),\n",
    "    pl.col(\"DRUG_ID\").cast(pl.Int32),\n",
    "    pl.col(\"LN_IC50\").cast(pl.Float32)\n",
    "])\n",
    "\n",
    "print(\"✅ GDSC bulk data loaded.\")\n",
    "print(f\"Shape: {gdsc_bulk.shape}\")\n",
    "gdsc_bulk.head()\n"
   ]
  },
  {
   "cell_type": "markdown",
   "metadata": {},
   "source": [
    "## 2. Load and Transpose Gene Expression\n",
    "\n",
    "We transpose the gene expression matrix to get a format where:\n",
    "- Each row = a cell line\n",
    "- Each column = a gene\n",
    "\n",
    "We also convert all values to numeric and fill missing values with `0.0`.\n"
   ]
  },
  {
   "cell_type": "code",
   "execution_count": 3,
   "metadata": {},
   "outputs": [
    {
     "name": "stdout",
     "output_type": "stream",
     "text": [
      "Transposed gene expression data to shape: rows = cell lines, cols = genes\n",
      "Shape: (1431, 37607)\n"
     ]
    },
    {
     "data": {
      "text/html": [
       "<div><style>\n",
       ".dataframe > thead > tr,\n",
       ".dataframe > tbody > tr {\n",
       "  text-align: right;\n",
       "  white-space: pre-wrap;\n",
       "}\n",
       "</style>\n",
       "<small>shape: (5, 37_607)</small><table border=\"1\" class=\"dataframe\"><thead><tr><th>SANGER_MODEL_ID</th><th>model_name</th><th>dataset_name</th><th>data_source</th><th>gene_id</th><th>SIDG00001</th><th>SIDG00002</th><th>SIDG00003</th><th>SIDG00004</th><th>SIDG00005</th><th>SIDG00006</th><th>SIDG00007</th><th>SIDG00008</th><th>SIDG00009</th><th>SIDG00010</th><th>SIDG00011</th><th>SIDG00012</th><th>SIDG00017</th><th>SIDG00019</th><th>SIDG00020</th><th>SIDG00021</th><th>SIDG00022</th><th>SIDG00023</th><th>SIDG00024</th><th>SIDG00025</th><th>SIDG00026</th><th>SIDG00027</th><th>SIDG00028</th><th>SIDG00029</th><th>SIDG00030</th><th>SIDG00031</th><th>SIDG00032</th><th>SIDG00033</th><th>SIDG00034</th><th>SIDG00035</th><th>SIDG00036</th><th>SIDG00037</th><th>&hellip;</th><th>SIDG42441</th><th>SIDG42442</th><th>SIDG42443</th><th>SIDG42444</th><th>SIDG42445</th><th>SIDG42446</th><th>SIDG42447</th><th>SIDG42448</th><th>SIDG42449</th><th>SIDG42450</th><th>SIDG42451</th><th>SIDG42452</th><th>SIDG42453</th><th>SIDG42454</th><th>SIDG42455</th><th>SIDG42456</th><th>SIDG42457</th><th>SIDG42458</th><th>SIDG42459</th><th>SIDG42460</th><th>SIDG42461</th><th>SIDG42462</th><th>SIDG42463</th><th>SIDG42464</th><th>SIDG42466</th><th>SIDG42467</th><th>SIDG42468</th><th>SIDG42469</th><th>SIDG42470</th><th>SIDG42471</th><th>SIDG42472</th><th>SIDG42473</th><th>SIDG42474</th><th>SIDG42475</th><th>SIDG42479</th><th>SIDG42480</th><th>SIDG42481</th></tr><tr><td>str</td><td>f64</td><td>f64</td><td>f64</td><td>f64</td><td>f64</td><td>f64</td><td>f64</td><td>f64</td><td>f64</td><td>f64</td><td>f64</td><td>f64</td><td>f64</td><td>f64</td><td>f64</td><td>f64</td><td>f64</td><td>f64</td><td>f64</td><td>f64</td><td>f64</td><td>f64</td><td>f64</td><td>f64</td><td>f64</td><td>f64</td><td>f64</td><td>f64</td><td>f64</td><td>f64</td><td>f64</td><td>f64</td><td>f64</td><td>f64</td><td>f64</td><td>f64</td><td>&hellip;</td><td>f64</td><td>f64</td><td>f64</td><td>f64</td><td>f64</td><td>f64</td><td>f64</td><td>f64</td><td>f64</td><td>f64</td><td>f64</td><td>f64</td><td>f64</td><td>f64</td><td>f64</td><td>f64</td><td>f64</td><td>f64</td><td>f64</td><td>f64</td><td>f64</td><td>f64</td><td>f64</td><td>f64</td><td>f64</td><td>f64</td><td>f64</td><td>f64</td><td>f64</td><td>f64</td><td>f64</td><td>f64</td><td>f64</td><td>f64</td><td>f64</td><td>f64</td><td>f64</td></tr></thead><tbody><tr><td>&quot;SIDM00001&quot;</td><td>0.0</td><td>0.0</td><td>0.0</td><td>0.0</td><td>0.16</td><td>0.73</td><td>0.01</td><td>0.1</td><td>0.0</td><td>0.0</td><td>0.0</td><td>0.92</td><td>0.0</td><td>0.0</td><td>0.16</td><td>0.0</td><td>7.28</td><td>4.04</td><td>0.0</td><td>0.0</td><td>0.0</td><td>0.0</td><td>0.0</td><td>0.0</td><td>0.0</td><td>0.0</td><td>5.49</td><td>20.05</td><td>1.53</td><td>2.48</td><td>25.7</td><td>0.89</td><td>11.79</td><td>0.75</td><td>203.63</td><td>10.6</td><td>&hellip;</td><td>0.0</td><td>5.53</td><td>3.35</td><td>7.32</td><td>4.41</td><td>0.75</td><td>1.41</td><td>4.8</td><td>0.0</td><td>2.16</td><td>3.21</td><td>0.1</td><td>0.0</td><td>0.0</td><td>0.0</td><td>2.24</td><td>1.05</td><td>7.2</td><td>0.21</td><td>5.03</td><td>4.34</td><td>10.32</td><td>11.04</td><td>72.98</td><td>0.58</td><td>2.32</td><td>2.7</td><td>0.86</td><td>0.0</td><td>2.73</td><td>8.44</td><td>0.0</td><td>3.53</td><td>4.27</td><td>2.5</td><td>1.81</td><td>0.62</td></tr><tr><td>&quot;SIDM00002&quot;</td><td>0.0</td><td>0.0</td><td>0.0</td><td>0.0</td><td>0.22</td><td>1.69</td><td>0.0</td><td>0.21</td><td>0.2</td><td>0.16</td><td>0.01</td><td>0.03</td><td>0.0</td><td>0.29</td><td>5.4</td><td>0.0</td><td>25.13</td><td>2.51</td><td>0.11</td><td>0.02</td><td>0.0</td><td>0.03</td><td>0.0</td><td>6.18</td><td>0.11</td><td>2.05</td><td>0.67</td><td>9.66</td><td>1.22</td><td>4.59</td><td>31.14</td><td>0.55</td><td>22.66</td><td>0.12</td><td>53.64</td><td>8.52</td><td>&hellip;</td><td>1.55</td><td>4.29</td><td>7.68</td><td>5.48</td><td>2.58</td><td>0.75</td><td>5.24</td><td>5.82</td><td>0.03</td><td>2.5</td><td>7.11</td><td>2.55</td><td>0.0</td><td>0.0</td><td>0.0</td><td>21.82</td><td>3.23</td><td>10.65</td><td>0.15</td><td>4.06</td><td>8.3</td><td>24.31</td><td>9.22</td><td>30.5</td><td>1.34</td><td>3.38</td><td>15.36</td><td>0.58</td><td>0.0</td><td>8.85</td><td>15.77</td><td>0.0</td><td>6.67</td><td>12.7</td><td>3.24</td><td>1.49</td><td>0.16</td></tr><tr><td>&quot;SIDM00003&quot;</td><td>0.0</td><td>0.0</td><td>0.0</td><td>0.0</td><td>0.14</td><td>3.33</td><td>0.0</td><td>8.41</td><td>0.24</td><td>0.0</td><td>0.0</td><td>0.0</td><td>0.01</td><td>0.09</td><td>0.0</td><td>0.0</td><td>18.38</td><td>3.74</td><td>0.51</td><td>0.0</td><td>0.0</td><td>0.01</td><td>0.0</td><td>0.0</td><td>0.0</td><td>4.51</td><td>8.32</td><td>21.28</td><td>2.81</td><td>2.51</td><td>35.65</td><td>0.06</td><td>16.7</td><td>0.12</td><td>20.04</td><td>10.36</td><td>&hellip;</td><td>0.01</td><td>3.84</td><td>4.06</td><td>3.19</td><td>1.19</td><td>0.34</td><td>2.8</td><td>4.76</td><td>0.0</td><td>1.73</td><td>1.46</td><td>0.03</td><td>0.0</td><td>0.0</td><td>0.0</td><td>3.64</td><td>5.83</td><td>6.88</td><td>0.11</td><td>2.45</td><td>2.53</td><td>21.46</td><td>23.29</td><td>79.94</td><td>0.67</td><td>2.01</td><td>4.92</td><td>3.83</td><td>0.09</td><td>8.62</td><td>51.84</td><td>0.0</td><td>7.28</td><td>12.9</td><td>2.19</td><td>1.7</td><td>0.56</td></tr><tr><td>&quot;SIDM00005&quot;</td><td>0.0</td><td>0.0</td><td>0.0</td><td>0.0</td><td>0.87</td><td>2.04</td><td>0.0</td><td>0.23</td><td>1.48</td><td>0.05</td><td>0.15</td><td>2.42</td><td>0.02</td><td>0.14</td><td>0.75</td><td>0.15</td><td>22.81</td><td>8.78</td><td>0.08</td><td>0.0</td><td>0.0</td><td>0.0</td><td>0.0</td><td>0.0</td><td>0.0</td><td>8.7</td><td>2.01</td><td>31.56</td><td>1.1</td><td>101.2</td><td>34.33</td><td>0.18</td><td>17.1</td><td>0.56</td><td>19.34</td><td>6.19</td><td>&hellip;</td><td>0.0</td><td>3.34</td><td>12.35</td><td>7.07</td><td>6.6</td><td>2.79</td><td>1.07</td><td>4.81</td><td>0.0</td><td>1.75</td><td>2.32</td><td>1.39</td><td>0.01</td><td>0.05</td><td>0.01</td><td>5.8</td><td>5.12</td><td>25.7</td><td>0.26</td><td>1.74</td><td>7.89</td><td>4.28</td><td>10.93</td><td>72.11</td><td>1.63</td><td>2.62</td><td>7.53</td><td>1.01</td><td>0.0</td><td>3.96</td><td>6.87</td><td>0.0</td><td>3.37</td><td>7.11</td><td>7.52</td><td>5.02</td><td>0.33</td></tr><tr><td>&quot;SIDM00006&quot;</td><td>0.0</td><td>0.0</td><td>0.0</td><td>0.0</td><td>0.15</td><td>2.03</td><td>0.01</td><td>23.22</td><td>0.28</td><td>0.0</td><td>0.01</td><td>0.0</td><td>0.01</td><td>0.16</td><td>3.86</td><td>0.0</td><td>7.87</td><td>1.81</td><td>0.12</td><td>0.0</td><td>0.0</td><td>0.02</td><td>0.0</td><td>0.07</td><td>0.02</td><td>3.49</td><td>5.16</td><td>16.44</td><td>4.01</td><td>3.11</td><td>32.19</td><td>0.08</td><td>18.61</td><td>1.53</td><td>67.8</td><td>7.13</td><td>&hellip;</td><td>0.71</td><td>4.09</td><td>3.72</td><td>4.28</td><td>2.41</td><td>3.21</td><td>4.52</td><td>5.17</td><td>0.12</td><td>1.75</td><td>3.39</td><td>2.79</td><td>0.0</td><td>0.0</td><td>0.0</td><td>8.07</td><td>3.21</td><td>7.11</td><td>0.1</td><td>2.53</td><td>5.38</td><td>15.49</td><td>11.14</td><td>29.36</td><td>0.85</td><td>2.23</td><td>4.29</td><td>4.49</td><td>0.0</td><td>7.51</td><td>141.7</td><td>0.0</td><td>3.48</td><td>8.75</td><td>2.94</td><td>1.29</td><td>0.11</td></tr></tbody></table></div>"
      ],
      "text/plain": [
       "shape: (5, 37_607)\n",
       "┌───────────┬───────────┬───────────┬───────────┬───┬───────────┬───────────┬───────────┬──────────┐\n",
       "│ SANGER_MO ┆ model_nam ┆ dataset_n ┆ data_sour ┆ … ┆ SIDG42475 ┆ SIDG42479 ┆ SIDG42480 ┆ SIDG4248 │\n",
       "│ DEL_ID    ┆ e         ┆ ame       ┆ ce        ┆   ┆ ---       ┆ ---       ┆ ---       ┆ 1        │\n",
       "│ ---       ┆ ---       ┆ ---       ┆ ---       ┆   ┆ f64       ┆ f64       ┆ f64       ┆ ---      │\n",
       "│ str       ┆ f64       ┆ f64       ┆ f64       ┆   ┆           ┆           ┆           ┆ f64      │\n",
       "╞═══════════╪═══════════╪═══════════╪═══════════╪═══╪═══════════╪═══════════╪═══════════╪══════════╡\n",
       "│ SIDM00001 ┆ 0.0       ┆ 0.0       ┆ 0.0       ┆ … ┆ 4.27      ┆ 2.5       ┆ 1.81      ┆ 0.62     │\n",
       "│ SIDM00002 ┆ 0.0       ┆ 0.0       ┆ 0.0       ┆ … ┆ 12.7      ┆ 3.24      ┆ 1.49      ┆ 0.16     │\n",
       "│ SIDM00003 ┆ 0.0       ┆ 0.0       ┆ 0.0       ┆ … ┆ 12.9      ┆ 2.19      ┆ 1.7       ┆ 0.56     │\n",
       "│ SIDM00005 ┆ 0.0       ┆ 0.0       ┆ 0.0       ┆ … ┆ 7.11      ┆ 7.52      ┆ 5.02      ┆ 0.33     │\n",
       "│ SIDM00006 ┆ 0.0       ┆ 0.0       ┆ 0.0       ┆ … ┆ 8.75      ┆ 2.94      ┆ 1.29      ┆ 0.11     │\n",
       "└───────────┴───────────┴───────────┴───────────┴───┴───────────┴───────────┴───────────┴──────────┘"
      ]
     },
     "execution_count": 3,
     "metadata": {},
     "output_type": "execute_result"
    }
   ],
   "source": [
    "# Cell 3: Load and transpose gene expression data\n",
    "cell_gene_df = pd.read_parquet(\"../../data/bulk/rnaseq_fpkm.parquet\")\n",
    "transposed_df = cell_gene_df.set_index(cell_gene_df.columns[0]).transpose()\n",
    "\n",
    "# Ensure all values are numeric and fill NAs with zeros or a small value\n",
    "transposed_df = transposed_df.apply(pd.to_numeric, errors='coerce').fillna(0.0)\n",
    "\n",
    "# Reset index to turn cell line names into a column\n",
    "transposed_df.index.name = \"SANGER_MODEL_ID\"\n",
    "transposed_df.reset_index(inplace=True)\n",
    "\n",
    "# Convert back to Polars\n",
    "cell_gene_matrix = pl.from_pandas(transposed_df)\n",
    "\n",
    "print(\"Transposed gene expression data to shape: rows = cell lines, cols = genes\")\n",
    "print(f\"Shape: {cell_gene_matrix.shape}\")\n",
    "cell_gene_matrix.head()\n"
   ]
  },
  {
   "cell_type": "code",
   "execution_count": 4,
   "metadata": {},
   "outputs": [
    {
     "name": "stdout",
     "output_type": "stream",
     "text": [
      "✅ No NaN values found in the dataset.\n"
     ]
    },
    {
     "data": {
      "text/html": [
       "<div><style>\n",
       ".dataframe > thead > tr,\n",
       ".dataframe > tbody > tr {\n",
       "  text-align: right;\n",
       "  white-space: pre-wrap;\n",
       "}\n",
       "</style>\n",
       "<small>shape: (5, 37_603)</small><table border=\"1\" class=\"dataframe\"><thead><tr><th>SANGER_MODEL_ID</th><th>SIDG00001</th><th>SIDG00002</th><th>SIDG00003</th><th>SIDG00004</th><th>SIDG00005</th><th>SIDG00006</th><th>SIDG00007</th><th>SIDG00008</th><th>SIDG00009</th><th>SIDG00010</th><th>SIDG00011</th><th>SIDG00012</th><th>SIDG00017</th><th>SIDG00019</th><th>SIDG00020</th><th>SIDG00021</th><th>SIDG00022</th><th>SIDG00023</th><th>SIDG00024</th><th>SIDG00025</th><th>SIDG00026</th><th>SIDG00027</th><th>SIDG00028</th><th>SIDG00029</th><th>SIDG00030</th><th>SIDG00031</th><th>SIDG00032</th><th>SIDG00033</th><th>SIDG00034</th><th>SIDG00035</th><th>SIDG00036</th><th>SIDG00037</th><th>SIDG00038</th><th>SIDG00039</th><th>SIDG00040</th><th>SIDG00041</th><th>&hellip;</th><th>SIDG42441</th><th>SIDG42442</th><th>SIDG42443</th><th>SIDG42444</th><th>SIDG42445</th><th>SIDG42446</th><th>SIDG42447</th><th>SIDG42448</th><th>SIDG42449</th><th>SIDG42450</th><th>SIDG42451</th><th>SIDG42452</th><th>SIDG42453</th><th>SIDG42454</th><th>SIDG42455</th><th>SIDG42456</th><th>SIDG42457</th><th>SIDG42458</th><th>SIDG42459</th><th>SIDG42460</th><th>SIDG42461</th><th>SIDG42462</th><th>SIDG42463</th><th>SIDG42464</th><th>SIDG42466</th><th>SIDG42467</th><th>SIDG42468</th><th>SIDG42469</th><th>SIDG42470</th><th>SIDG42471</th><th>SIDG42472</th><th>SIDG42473</th><th>SIDG42474</th><th>SIDG42475</th><th>SIDG42479</th><th>SIDG42480</th><th>SIDG42481</th></tr><tr><td>str</td><td>f64</td><td>f64</td><td>f64</td><td>f64</td><td>f64</td><td>f64</td><td>f64</td><td>f64</td><td>f64</td><td>f64</td><td>f64</td><td>f64</td><td>f64</td><td>f64</td><td>f64</td><td>f64</td><td>f64</td><td>f64</td><td>f64</td><td>f64</td><td>f64</td><td>f64</td><td>f64</td><td>f64</td><td>f64</td><td>f64</td><td>f64</td><td>f64</td><td>f64</td><td>f64</td><td>f64</td><td>f64</td><td>f64</td><td>f64</td><td>f64</td><td>f64</td><td>&hellip;</td><td>f64</td><td>f64</td><td>f64</td><td>f64</td><td>f64</td><td>f64</td><td>f64</td><td>f64</td><td>f64</td><td>f64</td><td>f64</td><td>f64</td><td>f64</td><td>f64</td><td>f64</td><td>f64</td><td>f64</td><td>f64</td><td>f64</td><td>f64</td><td>f64</td><td>f64</td><td>f64</td><td>f64</td><td>f64</td><td>f64</td><td>f64</td><td>f64</td><td>f64</td><td>f64</td><td>f64</td><td>f64</td><td>f64</td><td>f64</td><td>f64</td><td>f64</td><td>f64</td></tr></thead><tbody><tr><td>&quot;SIDM00001&quot;</td><td>0.16</td><td>0.73</td><td>0.01</td><td>0.1</td><td>0.0</td><td>0.0</td><td>0.0</td><td>0.92</td><td>0.0</td><td>0.0</td><td>0.16</td><td>0.0</td><td>7.28</td><td>4.04</td><td>0.0</td><td>0.0</td><td>0.0</td><td>0.0</td><td>0.0</td><td>0.0</td><td>0.0</td><td>0.0</td><td>5.49</td><td>20.05</td><td>1.53</td><td>2.48</td><td>25.7</td><td>0.89</td><td>11.79</td><td>0.75</td><td>203.63</td><td>10.6</td><td>4.7</td><td>0.0</td><td>4.28</td><td>10.57</td><td>&hellip;</td><td>0.0</td><td>5.53</td><td>3.35</td><td>7.32</td><td>4.41</td><td>0.75</td><td>1.41</td><td>4.8</td><td>0.0</td><td>2.16</td><td>3.21</td><td>0.1</td><td>0.0</td><td>0.0</td><td>0.0</td><td>2.24</td><td>1.05</td><td>7.2</td><td>0.21</td><td>5.03</td><td>4.34</td><td>10.32</td><td>11.04</td><td>72.98</td><td>0.58</td><td>2.32</td><td>2.7</td><td>0.86</td><td>0.0</td><td>2.73</td><td>8.44</td><td>0.0</td><td>3.53</td><td>4.27</td><td>2.5</td><td>1.81</td><td>0.62</td></tr><tr><td>&quot;SIDM00002&quot;</td><td>0.22</td><td>1.69</td><td>0.0</td><td>0.21</td><td>0.2</td><td>0.16</td><td>0.01</td><td>0.03</td><td>0.0</td><td>0.29</td><td>5.4</td><td>0.0</td><td>25.13</td><td>2.51</td><td>0.11</td><td>0.02</td><td>0.0</td><td>0.03</td><td>0.0</td><td>6.18</td><td>0.11</td><td>2.05</td><td>0.67</td><td>9.66</td><td>1.22</td><td>4.59</td><td>31.14</td><td>0.55</td><td>22.66</td><td>0.12</td><td>53.64</td><td>8.52</td><td>2.11</td><td>0.0</td><td>3.24</td><td>15.78</td><td>&hellip;</td><td>1.55</td><td>4.29</td><td>7.68</td><td>5.48</td><td>2.58</td><td>0.75</td><td>5.24</td><td>5.82</td><td>0.03</td><td>2.5</td><td>7.11</td><td>2.55</td><td>0.0</td><td>0.0</td><td>0.0</td><td>21.82</td><td>3.23</td><td>10.65</td><td>0.15</td><td>4.06</td><td>8.3</td><td>24.31</td><td>9.22</td><td>30.5</td><td>1.34</td><td>3.38</td><td>15.36</td><td>0.58</td><td>0.0</td><td>8.85</td><td>15.77</td><td>0.0</td><td>6.67</td><td>12.7</td><td>3.24</td><td>1.49</td><td>0.16</td></tr><tr><td>&quot;SIDM00003&quot;</td><td>0.14</td><td>3.33</td><td>0.0</td><td>8.41</td><td>0.24</td><td>0.0</td><td>0.0</td><td>0.0</td><td>0.01</td><td>0.09</td><td>0.0</td><td>0.0</td><td>18.38</td><td>3.74</td><td>0.51</td><td>0.0</td><td>0.0</td><td>0.01</td><td>0.0</td><td>0.0</td><td>0.0</td><td>4.51</td><td>8.32</td><td>21.28</td><td>2.81</td><td>2.51</td><td>35.65</td><td>0.06</td><td>16.7</td><td>0.12</td><td>20.04</td><td>10.36</td><td>1.14</td><td>0.0</td><td>2.29</td><td>11.33</td><td>&hellip;</td><td>0.01</td><td>3.84</td><td>4.06</td><td>3.19</td><td>1.19</td><td>0.34</td><td>2.8</td><td>4.76</td><td>0.0</td><td>1.73</td><td>1.46</td><td>0.03</td><td>0.0</td><td>0.0</td><td>0.0</td><td>3.64</td><td>5.83</td><td>6.88</td><td>0.11</td><td>2.45</td><td>2.53</td><td>21.46</td><td>23.29</td><td>79.94</td><td>0.67</td><td>2.01</td><td>4.92</td><td>3.83</td><td>0.09</td><td>8.62</td><td>51.84</td><td>0.0</td><td>7.28</td><td>12.9</td><td>2.19</td><td>1.7</td><td>0.56</td></tr><tr><td>&quot;SIDM00005&quot;</td><td>0.87</td><td>2.04</td><td>0.0</td><td>0.23</td><td>1.48</td><td>0.05</td><td>0.15</td><td>2.42</td><td>0.02</td><td>0.14</td><td>0.75</td><td>0.15</td><td>22.81</td><td>8.78</td><td>0.08</td><td>0.0</td><td>0.0</td><td>0.0</td><td>0.0</td><td>0.0</td><td>0.0</td><td>8.7</td><td>2.01</td><td>31.56</td><td>1.1</td><td>101.2</td><td>34.33</td><td>0.18</td><td>17.1</td><td>0.56</td><td>19.34</td><td>6.19</td><td>4.45</td><td>0.0</td><td>4.35</td><td>5.18</td><td>&hellip;</td><td>0.0</td><td>3.34</td><td>12.35</td><td>7.07</td><td>6.6</td><td>2.79</td><td>1.07</td><td>4.81</td><td>0.0</td><td>1.75</td><td>2.32</td><td>1.39</td><td>0.01</td><td>0.05</td><td>0.01</td><td>5.8</td><td>5.12</td><td>25.7</td><td>0.26</td><td>1.74</td><td>7.89</td><td>4.28</td><td>10.93</td><td>72.11</td><td>1.63</td><td>2.62</td><td>7.53</td><td>1.01</td><td>0.0</td><td>3.96</td><td>6.87</td><td>0.0</td><td>3.37</td><td>7.11</td><td>7.52</td><td>5.02</td><td>0.33</td></tr><tr><td>&quot;SIDM00006&quot;</td><td>0.15</td><td>2.03</td><td>0.01</td><td>23.22</td><td>0.28</td><td>0.0</td><td>0.01</td><td>0.0</td><td>0.01</td><td>0.16</td><td>3.86</td><td>0.0</td><td>7.87</td><td>1.81</td><td>0.12</td><td>0.0</td><td>0.0</td><td>0.02</td><td>0.0</td><td>0.07</td><td>0.02</td><td>3.49</td><td>5.16</td><td>16.44</td><td>4.01</td><td>3.11</td><td>32.19</td><td>0.08</td><td>18.61</td><td>1.53</td><td>67.8</td><td>7.13</td><td>1.25</td><td>0.0</td><td>2.11</td><td>8.32</td><td>&hellip;</td><td>0.71</td><td>4.09</td><td>3.72</td><td>4.28</td><td>2.41</td><td>3.21</td><td>4.52</td><td>5.17</td><td>0.12</td><td>1.75</td><td>3.39</td><td>2.79</td><td>0.0</td><td>0.0</td><td>0.0</td><td>8.07</td><td>3.21</td><td>7.11</td><td>0.1</td><td>2.53</td><td>5.38</td><td>15.49</td><td>11.14</td><td>29.36</td><td>0.85</td><td>2.23</td><td>4.29</td><td>4.49</td><td>0.0</td><td>7.51</td><td>141.7</td><td>0.0</td><td>3.48</td><td>8.75</td><td>2.94</td><td>1.29</td><td>0.11</td></tr></tbody></table></div>"
      ],
      "text/plain": [
       "shape: (5, 37_603)\n",
       "┌───────────┬───────────┬───────────┬───────────┬───┬───────────┬───────────┬───────────┬──────────┐\n",
       "│ SANGER_MO ┆ SIDG00001 ┆ SIDG00002 ┆ SIDG00003 ┆ … ┆ SIDG42475 ┆ SIDG42479 ┆ SIDG42480 ┆ SIDG4248 │\n",
       "│ DEL_ID    ┆ ---       ┆ ---       ┆ ---       ┆   ┆ ---       ┆ ---       ┆ ---       ┆ 1        │\n",
       "│ ---       ┆ f64       ┆ f64       ┆ f64       ┆   ┆ f64       ┆ f64       ┆ f64       ┆ ---      │\n",
       "│ str       ┆           ┆           ┆           ┆   ┆           ┆           ┆           ┆ f64      │\n",
       "╞═══════════╪═══════════╪═══════════╪═══════════╪═══╪═══════════╪═══════════╪═══════════╪══════════╡\n",
       "│ SIDM00001 ┆ 0.16      ┆ 0.73      ┆ 0.01      ┆ … ┆ 4.27      ┆ 2.5       ┆ 1.81      ┆ 0.62     │\n",
       "│ SIDM00002 ┆ 0.22      ┆ 1.69      ┆ 0.0       ┆ … ┆ 12.7      ┆ 3.24      ┆ 1.49      ┆ 0.16     │\n",
       "│ SIDM00003 ┆ 0.14      ┆ 3.33      ┆ 0.0       ┆ … ┆ 12.9      ┆ 2.19      ┆ 1.7       ┆ 0.56     │\n",
       "│ SIDM00005 ┆ 0.87      ┆ 2.04      ┆ 0.0       ┆ … ┆ 7.11      ┆ 7.52      ┆ 5.02      ┆ 0.33     │\n",
       "│ SIDM00006 ┆ 0.15      ┆ 2.03      ┆ 0.01      ┆ … ┆ 8.75      ┆ 2.94      ┆ 1.29      ┆ 0.11     │\n",
       "└───────────┴───────────┴───────────┴───────────┴───┴───────────┴───────────┴───────────┴──────────┘"
      ]
     },
     "execution_count": 4,
     "metadata": {},
     "output_type": "execute_result"
    }
   ],
   "source": [
    "# Drop unwanted columns\n",
    "cell_gene_matrix = cell_gene_matrix.drop([\"model_name\", \"dataset_name\", \"data_source\", \"gene_id\"])\n",
    "\n",
    "# Get null count per column and convert to 2-column format manually\n",
    "nulls_series = cell_gene_matrix.null_count()\n",
    "nulls_df = pl.DataFrame({\n",
    "    \"column\": nulls_series.columns,\n",
    "    \"null_count\": [nulls_series[0, col] for col in nulls_series.columns]\n",
    "})\n",
    "\n",
    "# Filter to only show columns with any nulls\n",
    "nan_summary = nulls_df.filter(pl.col(\"null_count\") > 0)\n",
    "\n",
    "# Print summary\n",
    "if nan_summary.height == 0:\n",
    "    print(\"✅ No NaN values found in the dataset.\")\n",
    "else:\n",
    "    print(\"⚠️ NaN values found in the following columns:\")\n",
    "    print(nan_summary)\n",
    "\n",
    "cell_gene_matrix.head()\n"
   ]
  },
  {
   "cell_type": "markdown",
   "metadata": {},
   "source": [
    "## 3. Normalize and Aggregate (Pseudo-Bulk)\n",
    "\n",
    "We apply `log1p` transformation to expression values for normalization,\n",
    "then group by `SANGER_MODEL_ID` to get a single profile per cell line (pseudo-bulk).\n"
   ]
  },
  {
   "cell_type": "code",
   "execution_count": 5,
   "metadata": {},
   "outputs": [
    {
     "name": "stdout",
     "output_type": "stream",
     "text": [
      "✅ Normalization and aggregation complete.\n",
      "Shape: (1431, 37603)\n"
     ]
    }
   ],
   "source": [
    "gene_cols = [col for col in cell_gene_matrix.columns if col != \"SANGER_MODEL_ID\"]\n",
    "\n",
    "# Normalize using log1p\n",
    "normalized = cell_gene_matrix.with_columns([\n",
    "    pl.col(col).cast(pl.Float64).log1p().alias(col) for col in gene_cols\n",
    "])\n",
    "\n",
    "# Aggregate expression by cell line\n",
    "pseudo_bulk = normalized.group_by(\"SANGER_MODEL_ID\").agg([\n",
    "    pl.col(col).mean().alias(col) for col in gene_cols\n",
    "])\n",
    "\n",
    "print(\"✅ Normalization and aggregation complete.\")\n",
    "print(f\"Shape: {pseudo_bulk.shape}\")\n"
   ]
  },
  {
   "cell_type": "markdown",
   "metadata": {},
   "source": [
    "## 4. Merge Pseudo-Bulk Expression with Drug Response\n",
    "\n",
    "We align the normalized expression matrix with drug response data by matching `SANGER_MODEL_ID`.\n"
   ]
  },
  {
   "cell_type": "code",
   "execution_count": 6,
   "metadata": {},
   "outputs": [
    {
     "name": "stdout",
     "output_type": "stream",
     "text": [
      "✅ Merged GDSC with pseudo-bulk expression.\n",
      "Final shape: (571985, 37605)\n"
     ]
    },
    {
     "data": {
      "text/html": [
       "<div><style>\n",
       ".dataframe > thead > tr,\n",
       ".dataframe > tbody > tr {\n",
       "  text-align: right;\n",
       "  white-space: pre-wrap;\n",
       "}\n",
       "</style>\n",
       "<small>shape: (5, 37_605)</small><table border=\"1\" class=\"dataframe\"><thead><tr><th>SANGER_MODEL_ID</th><th>DRUG_ID</th><th>LN_IC50</th><th>SIDG00001</th><th>SIDG00002</th><th>SIDG00003</th><th>SIDG00004</th><th>SIDG00005</th><th>SIDG00006</th><th>SIDG00007</th><th>SIDG00008</th><th>SIDG00009</th><th>SIDG00010</th><th>SIDG00011</th><th>SIDG00012</th><th>SIDG00017</th><th>SIDG00019</th><th>SIDG00020</th><th>SIDG00021</th><th>SIDG00022</th><th>SIDG00023</th><th>SIDG00024</th><th>SIDG00025</th><th>SIDG00026</th><th>SIDG00027</th><th>SIDG00028</th><th>SIDG00029</th><th>SIDG00030</th><th>SIDG00031</th><th>SIDG00032</th><th>SIDG00033</th><th>SIDG00034</th><th>SIDG00035</th><th>SIDG00036</th><th>SIDG00037</th><th>SIDG00038</th><th>SIDG00039</th><th>&hellip;</th><th>SIDG42441</th><th>SIDG42442</th><th>SIDG42443</th><th>SIDG42444</th><th>SIDG42445</th><th>SIDG42446</th><th>SIDG42447</th><th>SIDG42448</th><th>SIDG42449</th><th>SIDG42450</th><th>SIDG42451</th><th>SIDG42452</th><th>SIDG42453</th><th>SIDG42454</th><th>SIDG42455</th><th>SIDG42456</th><th>SIDG42457</th><th>SIDG42458</th><th>SIDG42459</th><th>SIDG42460</th><th>SIDG42461</th><th>SIDG42462</th><th>SIDG42463</th><th>SIDG42464</th><th>SIDG42466</th><th>SIDG42467</th><th>SIDG42468</th><th>SIDG42469</th><th>SIDG42470</th><th>SIDG42471</th><th>SIDG42472</th><th>SIDG42473</th><th>SIDG42474</th><th>SIDG42475</th><th>SIDG42479</th><th>SIDG42480</th><th>SIDG42481</th></tr><tr><td>str</td><td>i32</td><td>f32</td><td>f64</td><td>f64</td><td>f64</td><td>f64</td><td>f64</td><td>f64</td><td>f64</td><td>f64</td><td>f64</td><td>f64</td><td>f64</td><td>f64</td><td>f64</td><td>f64</td><td>f64</td><td>f64</td><td>f64</td><td>f64</td><td>f64</td><td>f64</td><td>f64</td><td>f64</td><td>f64</td><td>f64</td><td>f64</td><td>f64</td><td>f64</td><td>f64</td><td>f64</td><td>f64</td><td>f64</td><td>f64</td><td>f64</td><td>f64</td><td>&hellip;</td><td>f64</td><td>f64</td><td>f64</td><td>f64</td><td>f64</td><td>f64</td><td>f64</td><td>f64</td><td>f64</td><td>f64</td><td>f64</td><td>f64</td><td>f64</td><td>f64</td><td>f64</td><td>f64</td><td>f64</td><td>f64</td><td>f64</td><td>f64</td><td>f64</td><td>f64</td><td>f64</td><td>f64</td><td>f64</td><td>f64</td><td>f64</td><td>f64</td><td>f64</td><td>f64</td><td>f64</td><td>f64</td><td>f64</td><td>f64</td><td>f64</td><td>f64</td><td>f64</td></tr></thead><tbody><tr><td>&quot;SIDM00374&quot;</td><td>1009</td><td>4.13448</td><td>0.086178</td><td>1.373716</td><td>0.0</td><td>0.307485</td><td>0.029559</td><td>0.0</td><td>0.0</td><td>0.039221</td><td>0.0</td><td>0.019803</td><td>0.00995</td><td>0.0</td><td>2.493205</td><td>1.22083</td><td>0.131028</td><td>0.0</td><td>0.0</td><td>0.019803</td><td>0.0</td><td>0.0</td><td>0.0</td><td>0.0</td><td>1.871802</td><td>2.727199</td><td>1.521699</td><td>0.565314</td><td>3.236716</td><td>0.019803</td><td>2.537657</td><td>0.09531</td><td>4.564765</td><td>2.317474</td><td>1.160021</td><td>0.0</td><td>&hellip;</td><td>0.182322</td><td>1.510722</td><td>1.342865</td><td>1.947338</td><td>0.86289</td><td>0.182322</td><td>2.247072</td><td>1.591274</td><td>0.00995</td><td>0.978326</td><td>2.291524</td><td>0.04879</td><td>0.0</td><td>0.0</td><td>0.0</td><td>0.788457</td><td>0.518794</td><td>2.884801</td><td>0.371564</td><td>1.229641</td><td>1.60543</td><td>2.398804</td><td>1.7492</td><td>3.769307</td><td>0.0</td><td>1.088562</td><td>1.791759</td><td>1.532557</td><td>0.0</td><td>1.545433</td><td>3.14329</td><td>0.0</td><td>2.143589</td><td>1.7613</td><td>1.713798</td><td>0.932164</td><td>0.425268</td></tr><tr><td>&quot;SIDM00255&quot;</td><td>268</td><td>-2.236015</td><td>0.254642</td><td>0.732368</td><td>0.0</td><td>0.0</td><td>0.113329</td><td>0.0</td><td>0.00995</td><td>0.067659</td><td>0.0</td><td>0.09531</td><td>0.277632</td><td>0.0</td><td>2.74084</td><td>1.798404</td><td>0.039221</td><td>0.0</td><td>0.0</td><td>0.019803</td><td>0.0</td><td>0.00995</td><td>0.0</td><td>2.406044</td><td>1.137833</td><td>2.213754</td><td>1.671473</td><td>1.449269</td><td>3.249211</td><td>0.09531</td><td>3.12016</td><td>0.215111</td><td>3.894877</td><td>2.327278</td><td>1.495149</td><td>0.0</td><td>&hellip;</td><td>0.908259</td><td>1.981001</td><td>2.165619</td><td>1.951608</td><td>2.21047</td><td>0.993252</td><td>1.449269</td><td>1.829376</td><td>0.019803</td><td>1.205971</td><td>2.181547</td><td>1.510722</td><td>0.0</td><td>0.0</td><td>0.0</td><td>3.017983</td><td>1.693779</td><td>2.123458</td><td>0.157004</td><td>1.061257</td><td>1.90806</td><td>2.155245</td><td>2.400619</td><td>3.800868</td><td>0.173953</td><td>1.410987</td><td>2.450143</td><td>1.572774</td><td>0.0</td><td>2.276241</td><td>2.68239</td><td>0.0</td><td>1.860975</td><td>2.109</td><td>2.418589</td><td>1.196948</td><td>0.470004</td></tr><tr><td>&quot;SIDM01182&quot;</td><td>1012</td><td>1.321538</td><td>0.19062</td><td>0.329304</td><td>0.0</td><td>0.019803</td><td>0.0</td><td>0.0</td><td>0.0</td><td>0.463734</td><td>0.00995</td><td>0.076961</td><td>1.196948</td><td>0.00995</td><td>3.17346</td><td>0.845868</td><td>0.0</td><td>0.076961</td><td>0.0</td><td>0.165514</td><td>0.0</td><td>0.0</td><td>0.598837</td><td>1.958685</td><td>1.795087</td><td>3.709417</td><td>1.156881</td><td>1.809927</td><td>3.424263</td><td>0.00995</td><td>2.433613</td><td>0.00995</td><td>4.218772</td><td>1.888584</td><td>1.223775</td><td>0.0</td><td>&hellip;</td><td>0.951658</td><td>1.442202</td><td>2.187174</td><td>1.576915</td><td>0.947789</td><td>0.530628</td><td>0.71784</td><td>2.004179</td><td>0.0</td><td>1.18479</td><td>1.640937</td><td>0.086178</td><td>0.0</td><td>0.0</td><td>0.0</td><td>1.408545</td><td>1.902108</td><td>2.282382</td><td>0.113329</td><td>1.534714</td><td>2.302585</td><td>2.890372</td><td>3.572907</td><td>3.708437</td><td>0.405465</td><td>1.015231</td><td>1.517323</td><td>1.731656</td><td>0.0</td><td>2.042518</td><td>4.065259</td><td>0.0</td><td>2.236445</td><td>2.291524</td><td>1.517323</td><td>0.854415</td><td>0.157004</td></tr><tr><td>&quot;SIDM01160&quot;</td><td>1023</td><td>3.875126</td><td>0.039221</td><td>0.609766</td><td>0.0</td><td>0.0</td><td>0.10436</td><td>0.0</td><td>0.0</td><td>0.0</td><td>0.0</td><td>0.165514</td><td>2.247072</td><td>0.0</td><td>2.454447</td><td>1.34025</td><td>0.139762</td><td>4.280132</td><td>0.0</td><td>0.019803</td><td>0.0</td><td>0.0</td><td>2.008214</td><td>2.13061</td><td>1.166271</td><td>3.15359</td><td>1.934416</td><td>1.193922</td><td>3.716738</td><td>0.039221</td><td>3.261552</td><td>0.0</td><td>4.455509</td><td>2.346602</td><td>1.095273</td><td>0.0</td><td>&hellip;</td><td>0.476234</td><td>1.470176</td><td>2.119863</td><td>2.572612</td><td>1.015231</td><td>0.683097</td><td>1.967112</td><td>2.213754</td><td>0.0</td><td>1.366092</td><td>1.766442</td><td>0.559616</td><td>0.0</td><td>0.0</td><td>0.0</td><td>1.729884</td><td>1.928619</td><td>2.395164</td><td>0.10436</td><td>2.09433</td><td>1.629241</td><td>1.965713</td><td>2.048982</td><td>2.083185</td><td>0.883768</td><td>1.430311</td><td>2.372111</td><td>0.00995</td><td>0.0</td><td>2.109</td><td>3.501043</td><td>0.0</td><td>2.182675</td><td>2.131797</td><td>2.228939</td><td>0.970779</td><td>0.329304</td></tr><tr><td>&quot;SIDM00547&quot;</td><td>1197</td><td>4.457386</td><td>0.058269</td><td>0.157004</td><td>0.067659</td><td>0.039221</td><td>0.04879</td><td>0.0</td><td>0.04879</td><td>0.506818</td><td>0.0</td><td>0.0</td><td>0.300105</td><td>0.0</td><td>2.776332</td><td>1.18479</td><td>0.00995</td><td>3.129826</td><td>0.04879</td><td>0.982078</td><td>0.0</td><td>0.0</td><td>2.858766</td><td>0.662688</td><td>0.989541</td><td>3.158276</td><td>0.65752</td><td>1.798404</td><td>3.67402</td><td>0.113329</td><td>2.444085</td><td>0.00995</td><td>4.373994</td><td>2.643334</td><td>1.747459</td><td>0.0</td><td>&hellip;</td><td>0.542324</td><td>1.583094</td><td>1.472472</td><td>1.701105</td><td>0.536493</td><td>0.924259</td><td>0.451076</td><td>1.551809</td><td>0.0</td><td>0.737164</td><td>0.815365</td><td>1.710188</td><td>0.0</td><td>0.0</td><td>0.0</td><td>1.673351</td><td>1.941615</td><td>2.703373</td><td>0.113329</td><td>1.832581</td><td>2.313525</td><td>2.554122</td><td>2.890927</td><td>4.019082</td><td>0.336472</td><td>0.86289</td><td>1.675226</td><td>0.00995</td><td>0.0</td><td>1.280934</td><td>3.373484</td><td>0.0</td><td>1.93297</td><td>1.998774</td><td>1.401183</td><td>0.936093</td><td>0.198851</td></tr></tbody></table></div>"
      ],
      "text/plain": [
       "shape: (5, 37_605)\n",
       "┌────────────┬─────────┬───────────┬───────────┬───┬───────────┬───────────┬───────────┬───────────┐\n",
       "│ SANGER_MOD ┆ DRUG_ID ┆ LN_IC50   ┆ SIDG00001 ┆ … ┆ SIDG42475 ┆ SIDG42479 ┆ SIDG42480 ┆ SIDG42481 │\n",
       "│ EL_ID      ┆ ---     ┆ ---       ┆ ---       ┆   ┆ ---       ┆ ---       ┆ ---       ┆ ---       │\n",
       "│ ---        ┆ i32     ┆ f32       ┆ f64       ┆   ┆ f64       ┆ f64       ┆ f64       ┆ f64       │\n",
       "│ str        ┆         ┆           ┆           ┆   ┆           ┆           ┆           ┆           │\n",
       "╞════════════╪═════════╪═══════════╪═══════════╪═══╪═══════════╪═══════════╪═══════════╪═══════════╡\n",
       "│ SIDM00374  ┆ 1009    ┆ 4.13448   ┆ 0.086178  ┆ … ┆ 1.7613    ┆ 1.713798  ┆ 0.932164  ┆ 0.425268  │\n",
       "│ SIDM00255  ┆ 268     ┆ -2.236015 ┆ 0.254642  ┆ … ┆ 2.109     ┆ 2.418589  ┆ 1.196948  ┆ 0.470004  │\n",
       "│ SIDM01182  ┆ 1012    ┆ 1.321538  ┆ 0.19062   ┆ … ┆ 2.291524  ┆ 1.517323  ┆ 0.854415  ┆ 0.157004  │\n",
       "│ SIDM01160  ┆ 1023    ┆ 3.875126  ┆ 0.039221  ┆ … ┆ 2.131797  ┆ 2.228939  ┆ 0.970779  ┆ 0.329304  │\n",
       "│ SIDM00547  ┆ 1197    ┆ 4.457386  ┆ 0.058269  ┆ … ┆ 1.998774  ┆ 1.401183  ┆ 0.936093  ┆ 0.198851  │\n",
       "└────────────┴─────────┴───────────┴───────────┴───┴───────────┴───────────┴───────────┴───────────┘"
      ]
     },
     "execution_count": 6,
     "metadata": {},
     "output_type": "execute_result"
    }
   ],
   "source": [
    "merged = gdsc_bulk.join(pseudo_bulk, on=\"SANGER_MODEL_ID\", how=\"left\")\n",
    "\n",
    "print(\"✅ Merged GDSC with pseudo-bulk expression.\")\n",
    "print(f\"Final shape: {merged.shape}\")\n",
    "merged.head()\n"
   ]
  },
  {
   "cell_type": "markdown",
   "metadata": {},
   "source": [
    "## 5. Save Final Aligned Dataset\n",
    "\n",
    "We save the aligned (but unfiltered/unprojected) dataset to be used in downstream PCA or HVG filtering steps.\n"
   ]
  },
  {
   "cell_type": "code",
   "execution_count": null,
   "metadata": {},
   "outputs": [
    {
     "name": "stdout",
     "output_type": "stream",
     "text": [
      "📁 Saved aligned dataset to '../../data/bulk/bulk_final.parquet'\n"
     ]
    },
    {
     "ename": "",
     "evalue": "",
     "output_type": "error",
     "traceback": [
      "\u001b[1;31mThe Kernel crashed while executing code in the current cell or a previous cell. \n",
      "\u001b[1;31mPlease review the code in the cell(s) to identify a possible cause of the failure. \n",
      "\u001b[1;31mClick <a href='https://aka.ms/vscodeJupyterKernelCrash'>here</a> for more info. \n",
      "\u001b[1;31mView Jupyter <a href='command:jupyter.viewOutput'>log</a> for further details."
     ]
    }
   ],
   "source": [
    "merged.write_parquet(\"../../data/bulk/bulk_final.parquet\")\n",
    "print(\"📁 Saved aligned dataset to '../../data/bulk/bulk_final.parquet'\")\n"
   ]
  }
 ],
 "metadata": {
  "kernelspec": {
   "display_name": "tese-env",
   "language": "python",
   "name": "python3"
  },
  "language_info": {
   "codemirror_mode": {
    "name": "ipython",
    "version": 3
   },
   "file_extension": ".py",
   "mimetype": "text/x-python",
   "name": "python",
   "nbconvert_exporter": "python",
   "pygments_lexer": "ipython3",
   "version": "3.10.16"
  }
 },
 "nbformat": 4,
 "nbformat_minor": 2
}
