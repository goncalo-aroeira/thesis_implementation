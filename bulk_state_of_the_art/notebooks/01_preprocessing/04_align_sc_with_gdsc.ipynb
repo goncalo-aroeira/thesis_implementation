{
 "cells": [
  {
   "cell_type": "markdown",
   "metadata": {},
   "source": [
    "# Align gene expression and GDSC Data into Pseudo-Bulk Format\n",
    "\n",
    "This notebook performs the first preprocessing step in our pipeline:\n",
    "- Align GDSC drug response data with gene expression data.\n",
    "- Normalize expression values using `log1p`.\n",
    "\n",
    "\n"
   ]
  },
  {
   "cell_type": "code",
   "execution_count": 1,
   "metadata": {},
   "outputs": [],
   "source": [
    "# Cell 1: Imports and setup\n",
    "import polars as pl\n",
    "import numpy as np\n",
    "import os\n",
    "import pandas as pd\n"
   ]
  },
  {
   "cell_type": "markdown",
   "metadata": {},
   "source": [
    "## 1. Load GDSC Drug Response Data\n",
    "\n",
    "We load the cleaned GDSC data and select only the relevant columns:\n",
    "- `SANGER_MODEL_ID` for cell line\n",
    "- `DRUG_ID` for compound identity\n",
    "- `LN_IC50` for log-transformed drug sensitivity\n"
   ]
  },
  {
   "cell_type": "code",
   "execution_count": 2,
   "metadata": {},
   "outputs": [
    {
     "name": "stdout",
     "output_type": "stream",
     "text": [
      "✅ GDSC bulk data loaded.\n",
      "Shape: (571985, 3)\n"
     ]
    },
    {
     "data": {
      "text/html": [
       "<div><style>\n",
       ".dataframe > thead > tr,\n",
       ".dataframe > tbody > tr {\n",
       "  text-align: right;\n",
       "  white-space: pre-wrap;\n",
       "}\n",
       "</style>\n",
       "<small>shape: (5, 3)</small><table border=\"1\" class=\"dataframe\"><thead><tr><th>SANGER_MODEL_ID</th><th>DRUG_ID</th><th>LN_IC50</th></tr><tr><td>str</td><td>i32</td><td>f32</td></tr></thead><tbody><tr><td>&quot;SIDM00263&quot;</td><td>1</td><td>3.966813</td></tr><tr><td>&quot;SIDM00269&quot;</td><td>1</td><td>2.69209</td></tr><tr><td>&quot;SIDM00203&quot;</td><td>1</td><td>2.47799</td></tr><tr><td>&quot;SIDM01111&quot;</td><td>1</td><td>2.033564</td></tr><tr><td>&quot;SIDM00909&quot;</td><td>1</td><td>2.966007</td></tr></tbody></table></div>"
      ],
      "text/plain": [
       "shape: (5, 3)\n",
       "┌─────────────────┬─────────┬──────────┐\n",
       "│ SANGER_MODEL_ID ┆ DRUG_ID ┆ LN_IC50  │\n",
       "│ ---             ┆ ---     ┆ ---      │\n",
       "│ str             ┆ i32     ┆ f32      │\n",
       "╞═════════════════╪═════════╪══════════╡\n",
       "│ SIDM00263       ┆ 1       ┆ 3.966813 │\n",
       "│ SIDM00269       ┆ 1       ┆ 2.69209  │\n",
       "│ SIDM00203       ┆ 1       ┆ 2.47799  │\n",
       "│ SIDM01111       ┆ 1       ┆ 2.033564 │\n",
       "│ SIDM00909       ┆ 1       ┆ 2.966007 │\n",
       "└─────────────────┴─────────┴──────────┘"
      ]
     },
     "execution_count": 2,
     "metadata": {},
     "output_type": "execute_result"
    }
   ],
   "source": [
    "gdsc_bulk = pl.read_parquet(\"../../data/processed/gdsc_final_cleaned.parquet\").select([\n",
    "    pl.col(\"SANGER_MODEL_ID\").cast(pl.Utf8),\n",
    "    pl.col(\"DRUG_ID\").cast(pl.Int32),\n",
    "    pl.col(\"LN_IC50\").cast(pl.Float32)\n",
    "])\n",
    "\n",
    "print(\"✅ GDSC bulk data loaded.\")\n",
    "print(f\"Shape: {gdsc_bulk.shape}\")\n",
    "gdsc_bulk.head()\n"
   ]
  },
  {
   "cell_type": "markdown",
   "metadata": {},
   "source": [
    "## 2. Load and Transpose Gene Expression\n",
    "\n",
    "We transpose the gene expression matrix to get a format where:\n",
    "- Each row = a cell line\n",
    "- Each column = a gene\n",
    "\n",
    "We also convert all values to numeric and fill missing values with `0.0`.\n"
   ]
  },
  {
   "cell_type": "code",
   "execution_count": 5,
   "metadata": {},
   "outputs": [
    {
     "name": "stdout",
     "output_type": "stream",
     "text": [
      "Transformed gene expression data using log2(TPM + 1):\n",
      "Shape: (1432, 37607)\n"
     ]
    },
    {
     "data": {
      "text/html": [
       "<div><style>\n",
       ".dataframe > thead > tr,\n",
       ".dataframe > tbody > tr {\n",
       "  text-align: right;\n",
       "  white-space: pre-wrap;\n",
       "}\n",
       "</style>\n",
       "<small>shape: (5, 37_607)</small><table border=\"1\" class=\"dataframe\"><thead><tr><th>SANGER_MODEL_ID</th><th>model_name</th><th>dataset_name</th><th>data_source</th><th>gene_id</th><th>SIDG00001</th><th>SIDG00002</th><th>SIDG00003</th><th>SIDG00004</th><th>SIDG00005</th><th>SIDG00006</th><th>SIDG00007</th><th>SIDG00008</th><th>SIDG00009</th><th>SIDG00010</th><th>SIDG00011</th><th>SIDG00012</th><th>SIDG00017</th><th>SIDG00019</th><th>SIDG00020</th><th>SIDG00021</th><th>SIDG00022</th><th>SIDG00023</th><th>SIDG00024</th><th>SIDG00025</th><th>SIDG00026</th><th>SIDG00027</th><th>SIDG00028</th><th>SIDG00029</th><th>SIDG00030</th><th>SIDG00031</th><th>SIDG00032</th><th>SIDG00033</th><th>SIDG00034</th><th>SIDG00035</th><th>SIDG00036</th><th>SIDG00037</th><th>&hellip;</th><th>SIDG42441</th><th>SIDG42442</th><th>SIDG42443</th><th>SIDG42444</th><th>SIDG42445</th><th>SIDG42446</th><th>SIDG42447</th><th>SIDG42448</th><th>SIDG42449</th><th>SIDG42450</th><th>SIDG42451</th><th>SIDG42452</th><th>SIDG42453</th><th>SIDG42454</th><th>SIDG42455</th><th>SIDG42456</th><th>SIDG42457</th><th>SIDG42458</th><th>SIDG42459</th><th>SIDG42460</th><th>SIDG42461</th><th>SIDG42462</th><th>SIDG42463</th><th>SIDG42464</th><th>SIDG42466</th><th>SIDG42467</th><th>SIDG42468</th><th>SIDG42469</th><th>SIDG42470</th><th>SIDG42471</th><th>SIDG42472</th><th>SIDG42473</th><th>SIDG42474</th><th>SIDG42475</th><th>SIDG42479</th><th>SIDG42480</th><th>SIDG42481</th></tr><tr><td>str</td><td>f64</td><td>f64</td><td>f64</td><td>f64</td><td>f64</td><td>f64</td><td>f64</td><td>f64</td><td>f64</td><td>f64</td><td>f64</td><td>f64</td><td>f64</td><td>f64</td><td>f64</td><td>f64</td><td>f64</td><td>f64</td><td>f64</td><td>f64</td><td>f64</td><td>f64</td><td>f64</td><td>f64</td><td>f64</td><td>f64</td><td>f64</td><td>f64</td><td>f64</td><td>f64</td><td>f64</td><td>f64</td><td>f64</td><td>f64</td><td>f64</td><td>f64</td><td>&hellip;</td><td>f64</td><td>f64</td><td>f64</td><td>f64</td><td>f64</td><td>f64</td><td>f64</td><td>f64</td><td>f64</td><td>f64</td><td>f64</td><td>f64</td><td>f64</td><td>f64</td><td>f64</td><td>f64</td><td>f64</td><td>f64</td><td>f64</td><td>f64</td><td>f64</td><td>f64</td><td>f64</td><td>f64</td><td>f64</td><td>f64</td><td>f64</td><td>f64</td><td>f64</td><td>f64</td><td>f64</td><td>f64</td><td>f64</td><td>f64</td><td>f64</td><td>f64</td><td>f64</td></tr></thead><tbody><tr><td>&quot;Unnamed: 1&quot;</td><td>0.0</td><td>0.0</td><td>0.0</td><td>0.0</td><td>0.0</td><td>0.0</td><td>0.0</td><td>0.0</td><td>0.0</td><td>0.0</td><td>0.0</td><td>0.0</td><td>0.0</td><td>0.0</td><td>0.0</td><td>0.0</td><td>0.0</td><td>0.0</td><td>0.0</td><td>0.0</td><td>0.0</td><td>0.0</td><td>0.0</td><td>0.0</td><td>0.0</td><td>0.0</td><td>0.0</td><td>0.0</td><td>0.0</td><td>0.0</td><td>0.0</td><td>0.0</td><td>0.0</td><td>0.0</td><td>0.0</td><td>0.0</td><td>&hellip;</td><td>0.0</td><td>0.0</td><td>0.0</td><td>0.0</td><td>0.0</td><td>0.0</td><td>0.0</td><td>0.0</td><td>0.0</td><td>0.0</td><td>0.0</td><td>0.0</td><td>0.0</td><td>0.0</td><td>0.0</td><td>0.0</td><td>0.0</td><td>0.0</td><td>0.0</td><td>0.0</td><td>0.0</td><td>0.0</td><td>0.0</td><td>0.0</td><td>0.0</td><td>0.0</td><td>0.0</td><td>0.0</td><td>0.0</td><td>0.0</td><td>0.0</td><td>0.0</td><td>0.0</td><td>0.0</td><td>0.0</td><td>0.0</td><td>0.0</td></tr><tr><td>&quot;SIDM00001&quot;</td><td>0.0</td><td>0.0</td><td>0.0</td><td>0.0</td><td>0.613532</td><td>1.778209</td><td>0.042644</td><td>0.411426</td><td>0.0</td><td>0.0</td><td>0.0</td><td>2.02148</td><td>0.0</td><td>0.0</td><td>0.613532</td><td>0.0</td><td>4.657068</td><td>3.852998</td><td>0.0</td><td>0.0</td><td>0.0</td><td>0.0</td><td>0.0</td><td>0.0</td><td>0.0</td><td>0.0</td><td>4.269033</td><td>6.081936</td><td>2.606442</td><td>3.211012</td><td>6.435462</td><td>1.9855</td><td>5.330917</td><td>1.807355</td><td>9.406928</td><td>5.1815</td><td>&hellip;</td><td>0.0</td><td>4.278728</td><td>3.602884</td><td>4.665052</td><td>3.970854</td><td>1.807355</td><td>2.508429</td><td>4.085765</td><td>0.0</td><td>3.033863</td><td>3.547203</td><td>0.411426</td><td>0.0</td><td>0.0</td><td>0.0</td><td>3.080658</td><td>2.169925</td><td>4.642124</td><td>0.765535</td><td>4.148934</td><td>3.949535</td><td>5.143638</td><td>5.238405</td><td>7.930383</td><td>1.550901</td><td>3.124328</td><td>3.320485</td><td>1.948601</td><td>0.0</td><td>3.334854</td><td>4.862947</td><td>0.0</td><td>3.672425</td><td>3.926948</td><td>3.22033</td><td>2.813525</td><td>1.613532</td></tr><tr><td>&quot;SIDM00002&quot;</td><td>0.0</td><td>0.0</td><td>0.0</td><td>0.0</td><td>0.831877</td><td>2.809414</td><td>0.0</td><td>0.807355</td><td>0.773996</td><td>0.650765</td><td>0.056584</td><td>0.15056</td><td>0.0</td><td>1.02148</td><td>4.336283</td><td>0.0</td><td>6.497772</td><td>3.311794</td><td>0.475085</td><td>0.097611</td><td>0.0</td><td>0.15056</td><td>0.0</td><td>4.522307</td><td>0.475085</td><td>3.051372</td><td>1.757023</td><td>5.143638</td><td>2.41684</td><td>4.114367</td><td>6.804002</td><td>1.565597</td><td>6.350144</td><td>0.516015</td><td>7.583083</td><td>4.968091</td><td>&hellip;</td><td>2.702658</td><td>4.023255</td><td>4.82324</td><td>4.356848</td><td>3.346248</td><td>1.87578</td><td>4.294988</td><td>4.439623</td><td>0.15056</td><td>3.305971</td><td>4.715893</td><td>3.331992</td><td>0.0</td><td>0.0</td><td>0.0</td><td>6.296274</td><td>3.642702</td><td>5.280585</td><td>0.613532</td><td>3.948601</td><td>4.931683</td><td>6.450386</td><td>5.078524</td><td>6.77426</td><td>2.528571</td><td>3.702658</td><td>5.797532</td><td>1.613532</td><td>0.0</td><td>5.021035</td><td>5.834913</td><td>0.0</td><td>4.627607</td><td>5.528571</td><td>3.646163</td><td>2.655352</td><td>0.650765</td></tr><tr><td>&quot;SIDM00003&quot;</td><td>0.0</td><td>0.0</td><td>0.0</td><td>0.0</td><td>0.575312</td><td>3.648465</td><td>0.0</td><td>4.913608</td><td>0.871844</td><td>0.0</td><td>0.0</td><td>0.0</td><td>0.042644</td><td>0.389567</td><td>0.0</td><td>0.0</td><td>6.015471</td><td>3.803227</td><td>1.469886</td><td>0.0</td><td>0.0</td><td>0.042644</td><td>0.0</td><td>0.0</td><td>0.0</td><td>4.055716</td><td>4.898692</td><td>6.223809</td><td>3.424922</td><td>3.277985</td><td>6.96035</td><td>0.275007</td><td>5.879461</td><td>0.505891</td><td>6.138323</td><td>5.205549</td><td>&hellip;</td><td>0.042644</td><td>3.838952</td><td>3.913608</td><td>3.590961</td><td>2.356144</td><td>1.124328</td><td>3.419539</td><td>4.128458</td><td>0.0</td><td>2.805292</td><td>2.599318</td><td>0.137504</td><td>0.0</td><td>0.0</td><td>0.0</td><td>3.766595</td><td>4.405992</td><td>4.634593</td><td>0.464668</td><td>3.246408</td><td>3.288359</td><td>6.235727</td><td>6.352264</td><td>8.118941</td><td>1.731183</td><td>2.992768</td><td>4.173927</td><td>3.834913</td><td>0.389567</td><td>4.948134</td><td>7.496894</td><td>0.0</td><td>4.713146</td><td>5.514122</td><td>3.102658</td><td>2.784504</td><td>1.555816</td></tr><tr><td>&quot;SIDM00005&quot;</td><td>0.0</td><td>0.0</td><td>0.0</td><td>0.0</td><td>2.100978</td><td>3.122673</td><td>0.0</td><td>0.903038</td><td>2.720278</td><td>0.250962</td><td>0.650765</td><td>3.343408</td><td>0.111031</td><td>0.613532</td><td>1.937344</td><td>0.650765</td><td>6.446422</td><td>5.09508</td><td>0.378512</td><td>0.0</td><td>0.0</td><td>0.0</td><td>0.0</td><td>0.0</td><td>0.0</td><td>5.082362</td><td>3.104337</td><td>6.910253</td><td>2.367371</td><td>8.583008</td><td>7.030667</td><td>0.748461</td><td>6.036284</td><td>1.641546</td><td>6.211207</td><td>4.608218</td><td>&hellip;</td><td>0.0</td><td>3.767655</td><td>5.575312</td><td>4.792855</td><td>4.697107</td><td>3.528571</td><td>2.333424</td><td>4.261531</td><td>0.0</td><td>2.927896</td><td>3.288359</td><td>2.643856</td><td>0.056584</td><td>0.250962</td><td>0.056584</td><td>4.518535</td><td>4.346957</td><td>6.616622</td><td>0.9855</td><td>2.922198</td><td>4.945795</td><td>4.102658</td><td>5.402927</td><td>8.095555</td><td>2.83996</td><td>3.446256</td><td>4.880686</td><td>2.269033</td><td>0.0</td><td>3.997292</td><td>4.752749</td><td>0.0</td><td>3.78031</td><td>4.800641</td><td>4.878725</td><td>4.319762</td><td>1.169925</td></tr></tbody></table></div>"
      ],
      "text/plain": [
       "shape: (5, 37_607)\n",
       "┌───────────┬───────────┬───────────┬───────────┬───┬───────────┬───────────┬───────────┬──────────┐\n",
       "│ SANGER_MO ┆ model_nam ┆ dataset_n ┆ data_sour ┆ … ┆ SIDG42475 ┆ SIDG42479 ┆ SIDG42480 ┆ SIDG4248 │\n",
       "│ DEL_ID    ┆ e         ┆ ame       ┆ ce        ┆   ┆ ---       ┆ ---       ┆ ---       ┆ 1        │\n",
       "│ ---       ┆ ---       ┆ ---       ┆ ---       ┆   ┆ f64       ┆ f64       ┆ f64       ┆ ---      │\n",
       "│ str       ┆ f64       ┆ f64       ┆ f64       ┆   ┆           ┆           ┆           ┆ f64      │\n",
       "╞═══════════╪═══════════╪═══════════╪═══════════╪═══╪═══════════╪═══════════╪═══════════╪══════════╡\n",
       "│ Unnamed:  ┆ 0.0       ┆ 0.0       ┆ 0.0       ┆ … ┆ 0.0       ┆ 0.0       ┆ 0.0       ┆ 0.0      │\n",
       "│ 1         ┆           ┆           ┆           ┆   ┆           ┆           ┆           ┆          │\n",
       "│ SIDM00001 ┆ 0.0       ┆ 0.0       ┆ 0.0       ┆ … ┆ 3.926948  ┆ 3.22033   ┆ 2.813525  ┆ 1.613532 │\n",
       "│ SIDM00002 ┆ 0.0       ┆ 0.0       ┆ 0.0       ┆ … ┆ 5.528571  ┆ 3.646163  ┆ 2.655352  ┆ 0.650765 │\n",
       "│ SIDM00003 ┆ 0.0       ┆ 0.0       ┆ 0.0       ┆ … ┆ 5.514122  ┆ 3.102658  ┆ 2.784504  ┆ 1.555816 │\n",
       "│ SIDM00005 ┆ 0.0       ┆ 0.0       ┆ 0.0       ┆ … ┆ 4.800641  ┆ 4.878725  ┆ 4.319762  ┆ 1.169925 │\n",
       "└───────────┴───────────┴───────────┴───────────┴───┴───────────┴───────────┴───────────┴──────────┘"
      ]
     },
     "execution_count": 5,
     "metadata": {},
     "output_type": "execute_result"
    }
   ],
   "source": [
    "# Load and transpose gene expression data (TPM version)\n",
    "cell_gene_df = pd.read_parquet(\"../../data/original/rnaseq_tpm.parquet\")\n",
    "\n",
    "# Transpose: rows = cell lines, cols = genes\n",
    "transposed_df = cell_gene_df.set_index(cell_gene_df.columns[0]).transpose()\n",
    "\n",
    "# Ensure numeric and fill NAs with small value (optional)\n",
    "transposed_df = transposed_df.apply(pd.to_numeric, errors='coerce').fillna(0.0)\n",
    "\n",
    "# Apply log2(TPM + 1) transformation\n",
    "transformed_df = np.log2(transposed_df + 1)\n",
    "\n",
    "# Reset index to turn cell line names into a column\n",
    "transformed_df.index.name = \"SANGER_MODEL_ID\"\n",
    "transformed_df.reset_index(inplace=True)\n",
    "\n",
    "# Convert to Polars\n",
    "cell_gene_matrix = pl.from_pandas(transformed_df)\n",
    "\n",
    "print(\"Transformed gene expression data using log2(TPM + 1):\")\n",
    "print(f\"Shape: {cell_gene_matrix.shape}\")\n",
    "cell_gene_matrix.head()\n"
   ]
  },
  {
   "cell_type": "code",
   "execution_count": 6,
   "metadata": {},
   "outputs": [
    {
     "name": "stdout",
     "output_type": "stream",
     "text": [
      "✅ No NaN values found in the dataset.\n"
     ]
    },
    {
     "data": {
      "text/html": [
       "<div><style>\n",
       ".dataframe > thead > tr,\n",
       ".dataframe > tbody > tr {\n",
       "  text-align: right;\n",
       "  white-space: pre-wrap;\n",
       "}\n",
       "</style>\n",
       "<small>shape: (5, 37_603)</small><table border=\"1\" class=\"dataframe\"><thead><tr><th>SANGER_MODEL_ID</th><th>SIDG00001</th><th>SIDG00002</th><th>SIDG00003</th><th>SIDG00004</th><th>SIDG00005</th><th>SIDG00006</th><th>SIDG00007</th><th>SIDG00008</th><th>SIDG00009</th><th>SIDG00010</th><th>SIDG00011</th><th>SIDG00012</th><th>SIDG00017</th><th>SIDG00019</th><th>SIDG00020</th><th>SIDG00021</th><th>SIDG00022</th><th>SIDG00023</th><th>SIDG00024</th><th>SIDG00025</th><th>SIDG00026</th><th>SIDG00027</th><th>SIDG00028</th><th>SIDG00029</th><th>SIDG00030</th><th>SIDG00031</th><th>SIDG00032</th><th>SIDG00033</th><th>SIDG00034</th><th>SIDG00035</th><th>SIDG00036</th><th>SIDG00037</th><th>SIDG00038</th><th>SIDG00039</th><th>SIDG00040</th><th>SIDG00041</th><th>&hellip;</th><th>SIDG42441</th><th>SIDG42442</th><th>SIDG42443</th><th>SIDG42444</th><th>SIDG42445</th><th>SIDG42446</th><th>SIDG42447</th><th>SIDG42448</th><th>SIDG42449</th><th>SIDG42450</th><th>SIDG42451</th><th>SIDG42452</th><th>SIDG42453</th><th>SIDG42454</th><th>SIDG42455</th><th>SIDG42456</th><th>SIDG42457</th><th>SIDG42458</th><th>SIDG42459</th><th>SIDG42460</th><th>SIDG42461</th><th>SIDG42462</th><th>SIDG42463</th><th>SIDG42464</th><th>SIDG42466</th><th>SIDG42467</th><th>SIDG42468</th><th>SIDG42469</th><th>SIDG42470</th><th>SIDG42471</th><th>SIDG42472</th><th>SIDG42473</th><th>SIDG42474</th><th>SIDG42475</th><th>SIDG42479</th><th>SIDG42480</th><th>SIDG42481</th></tr><tr><td>str</td><td>f64</td><td>f64</td><td>f64</td><td>f64</td><td>f64</td><td>f64</td><td>f64</td><td>f64</td><td>f64</td><td>f64</td><td>f64</td><td>f64</td><td>f64</td><td>f64</td><td>f64</td><td>f64</td><td>f64</td><td>f64</td><td>f64</td><td>f64</td><td>f64</td><td>f64</td><td>f64</td><td>f64</td><td>f64</td><td>f64</td><td>f64</td><td>f64</td><td>f64</td><td>f64</td><td>f64</td><td>f64</td><td>f64</td><td>f64</td><td>f64</td><td>f64</td><td>&hellip;</td><td>f64</td><td>f64</td><td>f64</td><td>f64</td><td>f64</td><td>f64</td><td>f64</td><td>f64</td><td>f64</td><td>f64</td><td>f64</td><td>f64</td><td>f64</td><td>f64</td><td>f64</td><td>f64</td><td>f64</td><td>f64</td><td>f64</td><td>f64</td><td>f64</td><td>f64</td><td>f64</td><td>f64</td><td>f64</td><td>f64</td><td>f64</td><td>f64</td><td>f64</td><td>f64</td><td>f64</td><td>f64</td><td>f64</td><td>f64</td><td>f64</td><td>f64</td><td>f64</td></tr></thead><tbody><tr><td>&quot;Unnamed: 1&quot;</td><td>0.0</td><td>0.0</td><td>0.0</td><td>0.0</td><td>0.0</td><td>0.0</td><td>0.0</td><td>0.0</td><td>0.0</td><td>0.0</td><td>0.0</td><td>0.0</td><td>0.0</td><td>0.0</td><td>0.0</td><td>0.0</td><td>0.0</td><td>0.0</td><td>0.0</td><td>0.0</td><td>0.0</td><td>0.0</td><td>0.0</td><td>0.0</td><td>0.0</td><td>0.0</td><td>0.0</td><td>0.0</td><td>0.0</td><td>0.0</td><td>0.0</td><td>0.0</td><td>0.0</td><td>0.0</td><td>0.0</td><td>0.0</td><td>&hellip;</td><td>0.0</td><td>0.0</td><td>0.0</td><td>0.0</td><td>0.0</td><td>0.0</td><td>0.0</td><td>0.0</td><td>0.0</td><td>0.0</td><td>0.0</td><td>0.0</td><td>0.0</td><td>0.0</td><td>0.0</td><td>0.0</td><td>0.0</td><td>0.0</td><td>0.0</td><td>0.0</td><td>0.0</td><td>0.0</td><td>0.0</td><td>0.0</td><td>0.0</td><td>0.0</td><td>0.0</td><td>0.0</td><td>0.0</td><td>0.0</td><td>0.0</td><td>0.0</td><td>0.0</td><td>0.0</td><td>0.0</td><td>0.0</td><td>0.0</td></tr><tr><td>&quot;SIDM00001&quot;</td><td>0.613532</td><td>1.778209</td><td>0.042644</td><td>0.411426</td><td>0.0</td><td>0.0</td><td>0.0</td><td>2.02148</td><td>0.0</td><td>0.0</td><td>0.613532</td><td>0.0</td><td>4.657068</td><td>3.852998</td><td>0.0</td><td>0.0</td><td>0.0</td><td>0.0</td><td>0.0</td><td>0.0</td><td>0.0</td><td>0.0</td><td>4.269033</td><td>6.081936</td><td>2.606442</td><td>3.211012</td><td>6.435462</td><td>1.9855</td><td>5.330917</td><td>1.807355</td><td>9.406928</td><td>5.1815</td><td>4.05745</td><td>0.0</td><td>3.930737</td><td>5.177519</td><td>&hellip;</td><td>0.0</td><td>4.278728</td><td>3.602884</td><td>4.665052</td><td>3.970854</td><td>1.807355</td><td>2.508429</td><td>4.085765</td><td>0.0</td><td>3.033863</td><td>3.547203</td><td>0.411426</td><td>0.0</td><td>0.0</td><td>0.0</td><td>3.080658</td><td>2.169925</td><td>4.642124</td><td>0.765535</td><td>4.148934</td><td>3.949535</td><td>5.143638</td><td>5.238405</td><td>7.930383</td><td>1.550901</td><td>3.124328</td><td>3.320485</td><td>1.948601</td><td>0.0</td><td>3.334854</td><td>4.862947</td><td>0.0</td><td>3.672425</td><td>3.926948</td><td>3.22033</td><td>2.813525</td><td>1.613532</td></tr><tr><td>&quot;SIDM00002&quot;</td><td>0.831877</td><td>2.809414</td><td>0.0</td><td>0.807355</td><td>0.773996</td><td>0.650765</td><td>0.056584</td><td>0.15056</td><td>0.0</td><td>1.02148</td><td>4.336283</td><td>0.0</td><td>6.497772</td><td>3.311794</td><td>0.475085</td><td>0.097611</td><td>0.0</td><td>0.15056</td><td>0.0</td><td>4.522307</td><td>0.475085</td><td>3.051372</td><td>1.757023</td><td>5.143638</td><td>2.41684</td><td>4.114367</td><td>6.804002</td><td>1.565597</td><td>6.350144</td><td>0.516015</td><td>7.583083</td><td>4.968091</td><td>3.087463</td><td>0.0</td><td>3.646163</td><td>5.835924</td><td>&hellip;</td><td>2.702658</td><td>4.023255</td><td>4.82324</td><td>4.356848</td><td>3.346248</td><td>1.87578</td><td>4.294988</td><td>4.439623</td><td>0.15056</td><td>3.305971</td><td>4.715893</td><td>3.331992</td><td>0.0</td><td>0.0</td><td>0.0</td><td>6.296274</td><td>3.642702</td><td>5.280585</td><td>0.613532</td><td>3.948601</td><td>4.931683</td><td>6.450386</td><td>5.078524</td><td>6.77426</td><td>2.528571</td><td>3.702658</td><td>5.797532</td><td>1.613532</td><td>0.0</td><td>5.021035</td><td>5.834913</td><td>0.0</td><td>4.627607</td><td>5.528571</td><td>3.646163</td><td>2.655352</td><td>0.650765</td></tr><tr><td>&quot;SIDM00003&quot;</td><td>0.575312</td><td>3.648465</td><td>0.0</td><td>4.913608</td><td>0.871844</td><td>0.0</td><td>0.0</td><td>0.0</td><td>0.042644</td><td>0.389567</td><td>0.0</td><td>0.0</td><td>6.015471</td><td>3.803227</td><td>1.469886</td><td>0.0</td><td>0.0</td><td>0.042644</td><td>0.0</td><td>0.0</td><td>0.0</td><td>4.055716</td><td>4.898692</td><td>6.223809</td><td>3.424922</td><td>3.277985</td><td>6.96035</td><td>0.275007</td><td>5.879461</td><td>0.505891</td><td>6.138323</td><td>5.205549</td><td>2.307429</td><td>0.0</td><td>3.160275</td><td>5.331275</td><td>&hellip;</td><td>0.042644</td><td>3.838952</td><td>3.913608</td><td>3.590961</td><td>2.356144</td><td>1.124328</td><td>3.419539</td><td>4.128458</td><td>0.0</td><td>2.805292</td><td>2.599318</td><td>0.137504</td><td>0.0</td><td>0.0</td><td>0.0</td><td>3.766595</td><td>4.405992</td><td>4.634593</td><td>0.464668</td><td>3.246408</td><td>3.288359</td><td>6.235727</td><td>6.352264</td><td>8.118941</td><td>1.731183</td><td>2.992768</td><td>4.173927</td><td>3.834913</td><td>0.389567</td><td>4.948134</td><td>7.496894</td><td>0.0</td><td>4.713146</td><td>5.514122</td><td>3.102658</td><td>2.784504</td><td>1.555816</td></tr><tr><td>&quot;SIDM00005&quot;</td><td>2.100978</td><td>3.122673</td><td>0.0</td><td>0.903038</td><td>2.720278</td><td>0.250962</td><td>0.650765</td><td>3.343408</td><td>0.111031</td><td>0.613532</td><td>1.937344</td><td>0.650765</td><td>6.446422</td><td>5.09508</td><td>0.378512</td><td>0.0</td><td>0.0</td><td>0.0</td><td>0.0</td><td>0.0</td><td>0.0</td><td>5.082362</td><td>3.104337</td><td>6.910253</td><td>2.367371</td><td>8.583008</td><td>7.030667</td><td>0.748461</td><td>6.036284</td><td>1.641546</td><td>6.211207</td><td>4.608218</td><td>4.155425</td><td>0.0</td><td>4.124328</td><td>4.363171</td><td>&hellip;</td><td>0.0</td><td>3.767655</td><td>5.575312</td><td>4.792855</td><td>4.697107</td><td>3.528571</td><td>2.333424</td><td>4.261531</td><td>0.0</td><td>2.927896</td><td>3.288359</td><td>2.643856</td><td>0.056584</td><td>0.250962</td><td>0.056584</td><td>4.518535</td><td>4.346957</td><td>6.616622</td><td>0.9855</td><td>2.922198</td><td>4.945795</td><td>4.102658</td><td>5.402927</td><td>8.095555</td><td>2.83996</td><td>3.446256</td><td>4.880686</td><td>2.269033</td><td>0.0</td><td>3.997292</td><td>4.752749</td><td>0.0</td><td>3.78031</td><td>4.800641</td><td>4.878725</td><td>4.319762</td><td>1.169925</td></tr></tbody></table></div>"
      ],
      "text/plain": [
       "shape: (5, 37_603)\n",
       "┌───────────┬───────────┬───────────┬───────────┬───┬───────────┬───────────┬───────────┬──────────┐\n",
       "│ SANGER_MO ┆ SIDG00001 ┆ SIDG00002 ┆ SIDG00003 ┆ … ┆ SIDG42475 ┆ SIDG42479 ┆ SIDG42480 ┆ SIDG4248 │\n",
       "│ DEL_ID    ┆ ---       ┆ ---       ┆ ---       ┆   ┆ ---       ┆ ---       ┆ ---       ┆ 1        │\n",
       "│ ---       ┆ f64       ┆ f64       ┆ f64       ┆   ┆ f64       ┆ f64       ┆ f64       ┆ ---      │\n",
       "│ str       ┆           ┆           ┆           ┆   ┆           ┆           ┆           ┆ f64      │\n",
       "╞═══════════╪═══════════╪═══════════╪═══════════╪═══╪═══════════╪═══════════╪═══════════╪══════════╡\n",
       "│ Unnamed:  ┆ 0.0       ┆ 0.0       ┆ 0.0       ┆ … ┆ 0.0       ┆ 0.0       ┆ 0.0       ┆ 0.0      │\n",
       "│ 1         ┆           ┆           ┆           ┆   ┆           ┆           ┆           ┆          │\n",
       "│ SIDM00001 ┆ 0.613532  ┆ 1.778209  ┆ 0.042644  ┆ … ┆ 3.926948  ┆ 3.22033   ┆ 2.813525  ┆ 1.613532 │\n",
       "│ SIDM00002 ┆ 0.831877  ┆ 2.809414  ┆ 0.0       ┆ … ┆ 5.528571  ┆ 3.646163  ┆ 2.655352  ┆ 0.650765 │\n",
       "│ SIDM00003 ┆ 0.575312  ┆ 3.648465  ┆ 0.0       ┆ … ┆ 5.514122  ┆ 3.102658  ┆ 2.784504  ┆ 1.555816 │\n",
       "│ SIDM00005 ┆ 2.100978  ┆ 3.122673  ┆ 0.0       ┆ … ┆ 4.800641  ┆ 4.878725  ┆ 4.319762  ┆ 1.169925 │\n",
       "└───────────┴───────────┴───────────┴───────────┴───┴───────────┴───────────┴───────────┴──────────┘"
      ]
     },
     "execution_count": 6,
     "metadata": {},
     "output_type": "execute_result"
    }
   ],
   "source": [
    "# Drop unwanted columns\n",
    "cell_gene_matrix = cell_gene_matrix.drop([\"model_name\", \"dataset_name\", \"data_source\", \"gene_id\"])\n",
    "\n",
    "# Get null count per column and convert to 2-column format manually\n",
    "nulls_series = cell_gene_matrix.null_count()\n",
    "nulls_df = pl.DataFrame({\n",
    "    \"column\": nulls_series.columns,\n",
    "    \"null_count\": [nulls_series[0, col] for col in nulls_series.columns]\n",
    "})\n",
    "\n",
    "# Filter to only show columns with any nulls\n",
    "nan_summary = nulls_df.filter(pl.col(\"null_count\") > 0)\n",
    "\n",
    "# Print summary\n",
    "if nan_summary.height == 0:\n",
    "    print(\"✅ No NaN values found in the dataset.\")\n",
    "else:\n",
    "    print(\"⚠️ NaN values found in the following columns:\")\n",
    "    print(nan_summary)\n",
    "\n",
    "cell_gene_matrix.head()\n"
   ]
  },
  {
   "cell_type": "markdown",
   "metadata": {},
   "source": [
    "## 3. Normalize and Aggregate (Pseudo-Bulk)\n",
    "\n",
    "We apply `log1p` transformation to expression values for normalization,\n",
    "then group by `SANGER_MODEL_ID` to get a single profile per cell line (pseudo-bulk).\n"
   ]
  },
  {
   "cell_type": "code",
   "execution_count": null,
   "metadata": {},
   "outputs": [
    {
     "name": "stdout",
     "output_type": "stream",
     "text": [
      "✅ Normalization and aggregation complete.\n",
      "Shape: (1432, 37603)\n"
     ]
    },
    {
     "ename": "",
     "evalue": "",
     "output_type": "error",
     "traceback": [
      "\u001b[1;31mThe Kernel crashed while executing code in the current cell or a previous cell. \n",
      "\u001b[1;31mPlease review the code in the cell(s) to identify a possible cause of the failure. \n",
      "\u001b[1;31mClick <a href='https://aka.ms/vscodeJupyterKernelCrash'>here</a> for more info. \n",
      "\u001b[1;31mView Jupyter <a href='command:jupyter.viewOutput'>log</a> for further details."
     ]
    }
   ],
   "source": [
    "gene_cols = [col for col in cell_gene_matrix.columns if col != \"SANGER_MODEL_ID\"]\n",
    "\n",
    "# Normalize using log1p\n",
    "normalized = cell_gene_matrix.with_columns([\n",
    "    pl.col(col).cast(pl.Float64).log1p().alias(col) for col in gene_cols\n",
    "])\n",
    "\n",
    "# Aggregate expression by cell line\n",
    "pseudo_bulk = normalized.group_by(\"SANGER_MODEL_ID\").agg([\n",
    "    pl.col(col).mean().alias(col) for col in gene_cols\n",
    "])\n",
    "\n",
    "print(\"✅ Normalization and aggregation complete.\")\n",
    "print(f\"Shape: {pseudo_bulk.shape}\")\n"
   ]
  },
  {
   "cell_type": "markdown",
   "metadata": {},
   "source": [
    "## 4. Merge Pseudo-Bulk Expression with Drug Response\n",
    "\n",
    "We align the normalized expression matrix with drug response data by matching `SANGER_MODEL_ID`.\n"
   ]
  },
  {
   "cell_type": "code",
   "execution_count": null,
   "metadata": {},
   "outputs": [],
   "source": [
    "merged = gdsc_bulk.join(pseudo_bulk, on=\"SANGER_MODEL_ID\", how=\"left\")\n",
    "\n",
    "print(\"✅ Merged GDSC with pseudo-bulk expression.\")\n",
    "print(f\"Final shape: {merged.shape}\")\n",
    "merged.head()\n"
   ]
  },
  {
   "cell_type": "markdown",
   "metadata": {},
   "source": [
    "## 5. Save Final Aligned Dataset\n",
    "\n",
    "We save the aligned (but unfiltered/unprojected) dataset to be used in downstream PCA or HVG filtering steps.\n"
   ]
  },
  {
   "cell_type": "code",
   "execution_count": null,
   "metadata": {},
   "outputs": [
    {
     "name": "stdout",
     "output_type": "stream",
     "text": [
      "📁 Saved aligned dataset to '../../data/bulk/bulk_final.parquet'\n"
     ]
    }
   ],
   "source": [
    "merged.write_parquet(\"../../data/processed/bulk_final.parquet\")\n",
    "print(\"📁 Saved aligned dataset to '../../data/bulk/bulk_final.parquet'\")\n"
   ]
  }
 ],
 "metadata": {
  "kernelspec": {
   "display_name": "tese-env",
   "language": "python",
   "name": "python3"
  },
  "language_info": {
   "codemirror_mode": {
    "name": "ipython",
    "version": 3
   },
   "file_extension": ".py",
   "mimetype": "text/x-python",
   "name": "python",
   "nbconvert_exporter": "python",
   "pygments_lexer": "ipython3",
   "version": "3.10.16"
  }
 },
 "nbformat": 4,
 "nbformat_minor": 2
}
