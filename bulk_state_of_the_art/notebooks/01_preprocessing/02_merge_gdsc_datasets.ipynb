{
 "cells": [
  {
   "cell_type": "code",
   "execution_count": 1,
   "metadata": {},
   "outputs": [],
   "source": [
    "import polars as pl"
   ]
  },
  {
   "cell_type": "code",
   "execution_count": 2,
   "metadata": {},
   "outputs": [
    {
     "name": "stdout",
     "output_type": "stream",
     "text": [
      "shape: (5, 21)\n",
      "┌─────────┬─────────────┬─────────────┬───────────┬───┬──────────┬───────────┬────────┬────────────┐\n",
      "│ DATASET ┆ NLME_RESULT ┆ NLME_CURVE_ ┆ COSMIC_ID ┆ … ┆ RMSE     ┆ Z_SCORE   ┆ SOURCE ┆ DRUG_ID_OR │\n",
      "│ ---     ┆ _ID         ┆ ID          ┆ ---       ┆   ┆ ---      ┆ ---       ┆ ---    ┆ IGINAL     │\n",
      "│ str     ┆ ---         ┆ ---         ┆ i64       ┆   ┆ f64      ┆ f64       ┆ str    ┆ ---        │\n",
      "│         ┆ i64         ┆ i64         ┆           ┆   ┆          ┆           ┆        ┆ i64        │\n",
      "╞═════════╪═════════════╪═════════════╪═══════════╪═══╪══════════╪═══════════╪════════╪════════════╡\n",
      "│ GDSC1   ┆ 342         ┆ 15580432    ┆ 684057    ┆ … ┆ 0.026081 ┆ 1.299144  ┆ GDSC1  ┆ 1          │\n",
      "│ GDSC1   ┆ 342         ┆ 15580806    ┆ 684059    ┆ … ┆ 0.110059 ┆ 0.156076  ┆ GDSC1  ┆ 1          │\n",
      "│ GDSC1   ┆ 342         ┆ 15581198    ┆ 684062    ┆ … ┆ 0.087019 ┆ -0.035912 ┆ GDSC1  ┆ 1          │\n",
      "│ GDSC1   ┆ 342         ┆ 15581542    ┆ 684072    ┆ … ┆ 0.01629  ┆ -0.434437 ┆ GDSC1  ┆ 1          │\n",
      "│ GDSC1   ┆ 342         ┆ 15581930    ┆ 687448    ┆ … ┆ 0.180255 ┆ 0.401702  ┆ GDSC1  ┆ 1          │\n",
      "└─────────┴─────────────┴─────────────┴───────────┴───┴──────────┴───────────┴────────┴────────────┘\n"
     ]
    }
   ],
   "source": [
    "# Load GDSC1 and GDSC2\n",
    "gdsc = pl.read_parquet(\"../../data/processed/gdsc_with_split_drug_ids.parquet\")\n",
    "\n",
    "# Display first few rows\n",
    "print(gdsc.head())"
   ]
  },
  {
   "cell_type": "code",
   "execution_count": 4,
   "metadata": {},
   "outputs": [
    {
     "name": "stdout",
     "output_type": "stream",
     "text": [
      "🔹 Cleaned dataset shape: (575197, 3)\n"
     ]
    }
   ],
   "source": [
    "# Essential columns to keep\n",
    "columns_to_keep = [\"SANGER_MODEL_ID\", \"DRUG_ID\", \"LN_IC50\"]\n",
    "\n",
    "# Drop unnecessary columns\n",
    "gdsc_cleaned = gdsc[columns_to_keep]\n",
    "\n",
    "print(f\"🔹 Cleaned dataset shape: {gdsc_cleaned.shape}\")\n"
   ]
  },
  {
   "cell_type": "code",
   "execution_count": 5,
   "metadata": {},
   "outputs": [
    {
     "name": "stdout",
     "output_type": "stream",
     "text": [
      "\n",
      "📊 Missing Values in LN_IC50: 0\n"
     ]
    }
   ],
   "source": [
    "# Check for missing values\n",
    "missing_ln_ic50 = gdsc_cleaned.filter(pl.col(\"LN_IC50\").is_null()).shape[0]\n",
    "print(f\"\\n📊 Missing Values in LN_IC50: {missing_ln_ic50}\")\n",
    "\n",
    "if missing_ln_ic50 > 0:\n",
    "    # Fill NaNs with group mean\n",
    "    gdsc_cleaned = (\n",
    "        gdsc_cleaned\n",
    "        .with_columns([\n",
    "            pl.col(\"LN_IC50\").fill_null(\n",
    "                pl.col(\"LN_IC50\").mean().over([\"SANGER_MODEL_ID\", \"DRUG_ID\"])\n",
    "            )\n",
    "        ])\n",
    "        .with_columns([\n",
    "            pl.col(\"LN_IC50\").fill_null(0)  # Fill any remaining nulls with 0\n",
    "        ])\n",
    "    )\n"
   ]
  },
  {
   "cell_type": "code",
   "execution_count": 6,
   "metadata": {},
   "outputs": [
    {
     "name": "stdout",
     "output_type": "stream",
     "text": [
      "✅ Final merged and cleaned GDSC dataset saved!\n",
      "📌 Final dataset shape: (575197, 3)\n"
     ]
    }
   ],
   "source": [
    "gdsc_cleaned.write_parquet(\"../../data/processed/gdsc_final_cleaned.parquet\")\n",
    "print(\"✅ Final merged and cleaned GDSC dataset saved!\")\n",
    "print(f\"📌 Final dataset shape: {gdsc_cleaned.shape}\")\n"
   ]
  }
 ],
 "metadata": {
  "kernelspec": {
   "display_name": "tese-env",
   "language": "python",
   "name": "python3"
  },
  "language_info": {
   "codemirror_mode": {
    "name": "ipython",
    "version": 3
   },
   "file_extension": ".py",
   "mimetype": "text/x-python",
   "name": "python",
   "nbconvert_exporter": "python",
   "pygments_lexer": "ipython3",
   "version": "3.10.16"
  }
 },
 "nbformat": 4,
 "nbformat_minor": 2
}
