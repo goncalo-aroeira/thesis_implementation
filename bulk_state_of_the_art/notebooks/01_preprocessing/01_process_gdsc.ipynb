{
 "cells": [
  {
   "cell_type": "code",
   "execution_count": 40,
   "id": "8fe93730",
   "metadata": {},
   "outputs": [
    {
     "name": "stdout",
     "output_type": "stream",
     "text": [
      "✅ Loaded: (575197, 20)\n"
     ]
    }
   ],
   "source": [
    "import pandas as pd\n",
    "\n",
    "gdsc1 = pd.read_parquet(\"../../data/original/gdsc1_fitted_dose_response.parquet\")\n",
    "gdsc2 = pd.read_parquet(\"../../data/original/gdsc2_fitted_dose_response.parquet\")\n",
    "\n",
    "gdsc1[\"SOURCE\"] = \"GDSC1\"\n",
    "gdsc2[\"SOURCE\"] = \"GDSC2\"\n",
    "\n",
    "gdsc_all = pd.concat([gdsc1, gdsc2], ignore_index=True)\n",
    "print(\"✅ Loaded:\", gdsc_all.shape)\n"
   ]
  },
  {
   "cell_type": "code",
   "execution_count": 41,
   "id": "9b7baf08",
   "metadata": {},
   "outputs": [
    {
     "name": "stdout",
     "output_type": "stream",
     "text": [
      "🔁 Number of drugs with overlapping cell lines: 76\n"
     ]
    }
   ],
   "source": [
    "# Find drug–cell pairs that appear in both datasets\n",
    "pair_sources = gdsc_all.groupby([\"DRUG_ID\", \"SANGER_MODEL_ID\"])[\"SOURCE\"].nunique().reset_index()\n",
    "dup_pairs = pair_sources[pair_sources[\"SOURCE\"] > 1]\n",
    "\n",
    "# Now get only the drugs that appear in duplicated pairs\n",
    "dup_drugs = dup_pairs[\"DRUG_ID\"].unique()\n",
    "print(\"🔁 Number of drugs with overlapping cell lines:\", len(dup_drugs))\n"
   ]
  },
  {
   "cell_type": "code",
   "execution_count": 42,
   "id": "366fcc6a",
   "metadata": {},
   "outputs": [],
   "source": [
    "# Start new IDs after max DRUG_ID\n",
    "max_drug_id = gdsc_all[\"DRUG_ID\"].max()\n",
    "next_id = max_drug_id + 1\n",
    "\n",
    "# Assign one new ID per DRUG_ID that needs splitting\n",
    "drug_id_map = {}\n",
    "\n",
    "for drug in dup_drugs:\n",
    "    drug_id_map[drug] = next_id\n",
    "    next_id += 1\n"
   ]
  },
  {
   "cell_type": "code",
   "execution_count": 43,
   "id": "53843445",
   "metadata": {},
   "outputs": [],
   "source": [
    "# Preserve original\n",
    "gdsc_all[\"DRUG_ID_ORIGINAL\"] = gdsc_all[\"DRUG_ID\"]\n",
    "\n",
    "def split_drug_id(row):\n",
    "    if row[\"SOURCE\"] == \"GDSC2\" and row[\"DRUG_ID_ORIGINAL\"] in drug_id_map:\n",
    "        return drug_id_map[row[\"DRUG_ID_ORIGINAL\"]]\n",
    "    return row[\"DRUG_ID_ORIGINAL\"]\n",
    "\n",
    "gdsc_all[\"DRUG_ID\"] = gdsc_all.apply(split_drug_id, axis=1)\n"
   ]
  },
  {
   "cell_type": "code",
   "execution_count": 44,
   "id": "1f91ff96",
   "metadata": {},
   "outputs": [
    {
     "name": "stdout",
     "output_type": "stream",
     "text": [
      "🧪 Original unique DRUG_IDs: 621\n",
      "🆕 Final unique DRUG_IDs after split: 697\n",
      "➕ Number of reassigned IDs: 76\n",
      "📁 Saved cleaned data to: ../../data/processed/gdsc_with_split_drug_ids.parquet\n"
     ]
    }
   ],
   "source": [
    "print(\"🧪 Original unique DRUG_IDs:\", gdsc_all[\"DRUG_ID_ORIGINAL\"].nunique())\n",
    "print(\"🆕 Final unique DRUG_IDs after split:\", gdsc_all[\"DRUG_ID\"].nunique())\n",
    "print(\"➕ Number of reassigned IDs:\", len(drug_id_map))\n",
    "\n",
    "gdsc_all.to_parquet(\"../../data/processed/gdsc_with_split_drug_ids.parquet\", index=False)\n",
    "print(\"📁 Saved cleaned data to: ../../data/processed/gdsc_with_split_drug_ids.parquet\")\n"
   ]
  }
 ],
 "metadata": {
  "kernelspec": {
   "display_name": "tese-env",
   "language": "python",
   "name": "python3"
  },
  "language_info": {
   "codemirror_mode": {
    "name": "ipython",
    "version": 3
   },
   "file_extension": ".py",
   "mimetype": "text/x-python",
   "name": "python",
   "nbconvert_exporter": "python",
   "pygments_lexer": "ipython3",
   "version": "3.10.16"
  }
 },
 "nbformat": 4,
 "nbformat_minor": 5
}
