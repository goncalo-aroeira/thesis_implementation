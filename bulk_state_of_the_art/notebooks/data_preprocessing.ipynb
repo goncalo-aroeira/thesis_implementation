{
 "cells": [
  {
   "cell_type": "code",
   "execution_count": 2,
   "metadata": {},
   "outputs": [],
   "source": [
    "import pandas as pd\n",
    "import numpy as np\n",
    "import os"
   ]
  },
  {
   "cell_type": "code",
   "execution_count": 3,
   "metadata": {},
   "outputs": [
    {
     "name": "stdout",
     "output_type": "stream",
     "text": [
      "Loading pseudo-bulk expression data and gene embeddings...\n",
      "Expression matrix shape: (575197, 2003)\n",
      "  SANGER_MODEL_ID  DRUG_ID   LN_IC50  SIDG22565  SIDG00978  SIDG03466  \\\n",
      "0       SIDM00374     1009  4.134480   0.000000   0.095310   1.232560   \n",
      "1       SIDM00255      268 -2.236015   3.141995   0.019803   1.905088   \n",
      "2       SIDM01182     1012  1.321538   1.249902   3.724005   0.239017   \n",
      "3       SIDM01160     1023  3.875126   2.380472   0.000000   0.104360   \n",
      "4       SIDM00547     1197  4.457386   1.075002   0.737164   0.148420   \n",
      "\n",
      "   SIDG40295  SIDG03584  SIDG09724  SIDG16884  ...  SIDG09225  SIDG33597  \\\n",
      "0   0.000000   1.860975   0.095310   0.000000  ...   0.173953   1.470176   \n",
      "1   0.000000   3.955657   2.503892   1.860975  ...   2.885917   0.009950   \n",
      "2   0.029559   1.442202   0.000000   0.009950  ...   3.348500   0.165514   \n",
      "3   2.385086   2.057963   0.457425   0.371564  ...   2.254445   5.023091   \n",
      "4   0.000000   1.515127   0.048790   0.207014  ...   0.307485   3.288402   \n",
      "\n",
      "   SIDG00640  SIDG33601  SIDG07872  SIDG36158  SIDG40707  SIDG13984  \\\n",
      "0   0.009950   0.113329   0.039221   1.393766   5.471850   0.058269   \n",
      "1   0.000000   0.029559   0.357674   2.512035   4.614427   0.058269   \n",
      "2   0.086178   0.048790   0.246860   3.275634   5.750920   3.068983   \n",
      "3   3.135059   5.982575   4.023207   0.009950   0.009950   5.367703   \n",
      "4   5.493514   3.757706   3.898735   0.239017   4.798184   5.294209   \n",
      "\n",
      "   SIDG14133  SIDG19416  \n",
      "0   0.009950   8.201465  \n",
      "1   0.157004   7.795054  \n",
      "2   0.270027   0.000000  \n",
      "3   6.523768   2.879760  \n",
      "4   4.818829   0.000000  \n",
      "\n",
      "[5 rows x 2003 columns]\n",
      "Gene embedding matrix shape: (37307, 512)\n",
      "                0         1         2         3         4         5    \\\n",
      "gene                                                                    \n",
      "SIDG38205 -1.444938  0.323675  0.967373 -1.443467 -0.372598  1.204176   \n",
      "SIDG07106 -0.935147 -1.319843  0.454128  0.211628 -0.135888  0.980109   \n",
      "SIDG07101 -1.457487 -0.533191  1.229199 -1.106595 -1.231473 -0.482179   \n",
      "SIDG02205 -0.407190 -1.323809  0.774067  2.033904 -1.847124 -0.315992   \n",
      "SIDG34216 -0.857857 -0.492757  0.071677  1.181665 -0.398584 -0.768543   \n",
      "\n",
      "                6         7         8         9    ...       502       503  \\\n",
      "gene                                               ...                       \n",
      "SIDG38205  2.245135  1.559074  0.723714  1.917133  ...  1.867984 -1.592931   \n",
      "SIDG07106 -0.054262 -0.156036 -1.237035 -1.777112  ... -1.670017 -0.859036   \n",
      "SIDG07101 -0.940501  1.083143 -1.671948  1.962431  ...  1.102446 -0.091421   \n",
      "SIDG02205  1.643478  0.269127  0.746371  1.751552  ... -0.437938  0.630876   \n",
      "SIDG34216  0.646360  1.071122 -0.253285  1.985062  ...  0.968843  0.676258   \n",
      "\n",
      "                504       505       506       507       508       509  \\\n",
      "gene                                                                    \n",
      "SIDG38205 -0.342364  0.566963  1.412937 -1.059384  1.459860 -0.705074   \n",
      "SIDG07106  0.782012 -1.293740  1.436532  0.283056  1.622831  0.034738   \n",
      "SIDG07101 -1.927805 -0.913562 -1.572197 -0.945567  1.534361  1.736451   \n",
      "SIDG02205  1.281204  1.003419 -0.248663 -1.016555 -0.127696  0.876902   \n",
      "SIDG34216 -1.536362  0.123201 -1.752667 -0.211997 -0.561285  0.570532   \n",
      "\n",
      "                510       511  \n",
      "gene                           \n",
      "SIDG38205 -0.286853 -0.198409  \n",
      "SIDG07106 -1.398710 -1.889583  \n",
      "SIDG07101  0.032969  1.864797  \n",
      "SIDG02205  2.024246  0.154161  \n",
      "SIDG34216 -1.491653  0.108923  \n",
      "\n",
      "[5 rows x 512 columns]\n",
      "Expression matrix shape: (575197, 1997)\n",
      "Gene embedding matrix shape: (1997, 512)\n"
     ]
    }
   ],
   "source": [
    "print(\"Loading pseudo-bulk expression data and gene embeddings...\")\n",
    "\n",
    "# Expression: cell lines x genes\n",
    "expr_df = pd.read_parquet(\"data/gdsc_single_cell_aligned.parquet\")\n",
    "print(f\"Expression matrix shape: {expr_df.shape}\")\n",
    "print(expr_df.head())\n",
    "expr_df = expr_df.set_index(\"SANGER_MODEL_ID\")\n",
    "\n",
    "# Embeddings: genes x 512\n",
    "gene_embeds = pd.read_parquet(\"data/gene_embeddings.parquet\")\n",
    "print(f\"Gene embedding matrix shape: {gene_embeds.shape}\")\n",
    "print(gene_embeds.head())\n",
    "\n",
    "# Keep only common genes\n",
    "common_genes = list(set(expr_df.columns) & set(gene_embeds.index))\n",
    "expr_df = expr_df[common_genes]\n",
    "gene_embeds = gene_embeds.loc[common_genes]\n",
    "\n",
    "print(f\"Expression matrix shape: {expr_df.shape}\")\n",
    "print(f\"Gene embedding matrix shape: {gene_embeds.shape}\")\n"
   ]
  },
  {
   "cell_type": "code",
   "execution_count": 4,
   "metadata": {},
   "outputs": [
    {
     "name": "stdout",
     "output_type": "stream",
     "text": [
      "Projecting expression values into gene embedding space...\n"
     ]
    }
   ],
   "source": [
    "print(\"Projecting expression values into gene embedding space...\")\n",
    "\n",
    "expr_matrix = expr_df.values                # shape: [cells x genes]\n",
    "embed_matrix = gene_embeds.values          # shape: [genes x 512]\n",
    "\n",
    "cell_embeddings = expr_matrix @ embed_matrix  # shape: [cells x 512]\n",
    "\n",
    "# Create output DataFrame\n",
    "projected_df = pd.DataFrame(cell_embeddings, index=expr_df.index)\n",
    "projected_df.index.name = \"SANGER_MODEL_ID\""
   ]
  },
  {
   "cell_type": "code",
   "execution_count": 5,
   "metadata": {},
   "outputs": [
    {
     "name": "stdout",
     "output_type": "stream",
     "text": [
      "✅ Projected cell embeddings saved to data/projected_cell_embeddings.parquet\n"
     ]
    }
   ],
   "source": [
    "os.makedirs(\"data/\", exist_ok=True)\n",
    "projected_df.to_parquet(\"data/projected_cell_embeddings.parquet\")\n",
    "print(\"✅ Projected cell embeddings saved to data/projected_cell_embeddings.parquet\")"
   ]
  },
  {
   "cell_type": "code",
   "execution_count": null,
   "metadata": {},
   "outputs": [
    {
     "name": "stdout",
     "output_type": "stream",
     "text": [
      "                        0           1           2           3           4    \\\n",
      "SANGER_MODEL_ID                                                               \n",
      "SIDM00374        -24.609437  177.888497 -349.928097  170.851536  -88.744320   \n",
      "SIDM00255        293.870301  217.897788 -130.545389 -743.235378  -74.628916   \n",
      "SIDM01182        129.950107   17.931049 -137.786495 -234.101681  189.414975   \n",
      "SIDM01160        123.714384  234.402464   92.232606   99.429767  -62.015606   \n",
      "SIDM00547        -69.518765   70.101059  -53.708288   62.750489  -71.456198   \n",
      "\n",
      "                        5           6           7           8           9    \\\n",
      "SANGER_MODEL_ID                                                               \n",
      "SIDM00374        193.092302 -344.860870   -4.115366  617.891574   58.882229   \n",
      "SIDM00255        442.328807  122.458742  323.813067  191.203231  -63.319645   \n",
      "SIDM01182        206.345454  251.811201  160.569900  719.796956  -10.040541   \n",
      "SIDM01160        429.530658 -188.272192  216.461961  595.762855 -197.467281   \n",
      "SIDM00547        225.080010  -20.146480   17.897272  753.679865  -34.897266   \n",
      "\n",
      "                 ...         502         503          504          505  \\\n",
      "SANGER_MODEL_ID  ...                                                     \n",
      "SIDM00374        ... -337.239869  385.215677 -1703.226646  -904.657405   \n",
      "SIDM00255        ... -138.840501  438.068057 -1332.335967  -749.581848   \n",
      "SIDM01182        ... -108.914625  506.641308 -2099.978311  -765.663041   \n",
      "SIDM01160        ... -536.600283  867.941647 -2599.783876 -1276.756063   \n",
      "SIDM00547        ... -618.925095  710.523336 -2130.489007 -1083.308633   \n",
      "\n",
      "                         506         507         508         509         510  \\\n",
      "SANGER_MODEL_ID                                                                \n",
      "SIDM00374        -975.484649  466.028599 -283.901926 -276.223451  120.322352   \n",
      "SIDM00255        -685.067868  188.189715 -751.310770  116.804200 -485.002574   \n",
      "SIDM01182       -1084.300495  377.756880 -574.108237 -329.182985 -394.610532   \n",
      "SIDM01160       -1710.296900  761.374156  -21.198596 -439.901933 -234.520621   \n",
      "SIDM00547       -1565.622863  532.462131 -216.857738 -521.255063 -204.021883   \n",
      "\n",
      "                         511  \n",
      "SANGER_MODEL_ID               \n",
      "SIDM00374        -732.985103  \n",
      "SIDM00255        -741.473155  \n",
      "SIDM01182        -982.646760  \n",
      "SIDM01160       -1360.154017  \n",
      "SIDM00547       -1029.781783  \n",
      "\n",
      "[5 rows x 512 columns]\n",
      "(575197, 512)\n",
      "Done!\n"
     ]
    },
    {
     "ename": "",
     "evalue": "",
     "output_type": "error",
     "traceback": [
      "\u001b[1;31mThe Kernel crashed while executing code in the current cell or a previous cell. \n",
      "\u001b[1;31mPlease review the code in the cell(s) to identify a possible cause of the failure. \n",
      "\u001b[1;31mClick <a href='https://aka.ms/vscodeJupyterKernelCrash'>here</a> for more info. \n",
      "\u001b[1;31mView Jupyter <a href='command:jupyter.viewOutput'>log</a> for further details."
     ]
    }
   ],
   "source": [
    "print(projected_df.head())\n",
    "print(projected_df.shape)\n",
    "print(\"Done!\")"
   ]
  }
 ],
 "metadata": {
  "kernelspec": {
   "display_name": "tese-env",
   "language": "python",
   "name": "python3"
  },
  "language_info": {
   "codemirror_mode": {
    "name": "ipython",
    "version": 3
   },
   "file_extension": ".py",
   "mimetype": "text/x-python",
   "name": "python",
   "nbconvert_exporter": "python",
   "pygments_lexer": "ipython3",
   "version": "3.10.16"
  }
 },
 "nbformat": 4,
 "nbformat_minor": 2
}
