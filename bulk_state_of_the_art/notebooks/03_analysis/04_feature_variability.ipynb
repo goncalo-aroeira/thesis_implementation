{
 "cells": [
  {
   "cell_type": "markdown",
   "metadata": {},
   "source": [
    "# Feature Variability Analysis\n",
    "\n",
    "In this notebook, we analyze the variability of gene expression across the dataset. High variability in gene expression may indicate that the gene plays a crucial role in drug response prediction, while low variability may suggest the gene is less informative.\n",
    "\n",
    "We will calculate the **standard deviation** of gene expression across cell lines and identify the most variable genes.\n"
   ]
  },
  {
   "cell_type": "code",
   "execution_count": 1,
   "metadata": {},
   "outputs": [],
   "source": [
    "import os\n",
    "import polars as pl\n",
    "import pandas as pd\n"
   ]
  },
  {
   "cell_type": "code",
   "execution_count": 2,
   "metadata": {},
   "outputs": [
    {
     "name": "stdout",
     "output_type": "stream",
     "text": [
      "Transposed gene expression data to shape: rows = cell lines, cols = genes\n",
      "Shape: (1431, 37603)\n"
     ]
    }
   ],
   "source": [
    "aligned = pd.read_parquet(\"../../data/bulk/rnaseq_fpkm.parquet\")\n",
    "transposed_df = aligned.set_index(aligned.columns[0]).transpose()\n",
    "\n",
    "# Ensure all values are numeric and fill NAs with zeros or a small value\n",
    "transposed_df = transposed_df.apply(pd.to_numeric, errors='coerce').fillna(0.0)\n",
    "\n",
    "# Reset index to turn cell line names into a column\n",
    "transposed_df.index.name = \"SANGER_MODEL_ID\"\n",
    "transposed_df.reset_index(inplace=True)\n",
    "\n",
    "# Convert back to Polars\n",
    "cell_gene_matrix = pl.from_pandas(transposed_df)\n",
    "\n",
    "# Drop unwanted columns\n",
    "cell_gene_matrix = cell_gene_matrix.drop([\"model_name\", \"dataset_name\", \"data_source\", \"gene_id\"])\n",
    "\n",
    "print(\"Transposed gene expression data to shape: rows = cell lines, cols = genes\")\n",
    "print(f\"Shape: {cell_gene_matrix.shape}\")\n",
    "cell_gene_matrix.head()\n",
    "cell_gene_matrix = cell_gene_matrix.slice(1)\n",
    "\n",
    "non_gene_cols = [\"SANGER_MODEL_ID\"]\n",
    "gene_columns = [col for col in cell_gene_matrix.columns if col not in non_gene_cols]"
   ]
  },
  {
   "cell_type": "code",
   "execution_count": 3,
   "metadata": {},
   "outputs": [
    {
     "name": "stdout",
     "output_type": "stream",
     "text": [
      "📂 Most variable genes saved to 'statistics/most_variable_genes.csv'\n"
     ]
    }
   ],
   "source": [
    "# Select gene columns (assuming columns after 3rd are genes)\n",
    "gene_columns = cell_gene_matrix.columns[3:]\n",
    "\n",
    "# Calculate standard deviation for each gene\n",
    "gene_std = cell_gene_matrix[gene_columns].to_pandas().std().sort_values(ascending=False)\n",
    "\n",
    "# Save the most variable genes\n",
    "gene_std_df = pd.DataFrame({\"Gene\": gene_std.index, \"Standard Deviation\": gene_std.values})\n",
    "gene_std_df.to_csv(\"statistics/most_variable_genes.csv\", index=False)\n",
    "\n",
    "print(\"📂 Most variable genes saved to 'statistics/most_variable_genes.csv'\")\n"
   ]
  },
  {
   "cell_type": "markdown",
   "metadata": {},
   "source": [
    "### Conclusion\n",
    "\n",
    "We have calculated the standard deviation of gene expression values across cell lines, identifying the most variable genes in the dataset. These genes may be important for predicting drug sensitivity.\n",
    "\n",
    "- **Next Steps**: Proceed with dimensionality reduction and visualization to further explore the relationships between genes.\n"
   ]
  }
 ],
 "metadata": {
  "kernelspec": {
   "display_name": "tese-env",
   "language": "python",
   "name": "python3"
  },
  "language_info": {
   "codemirror_mode": {
    "name": "ipython",
    "version": 3
   },
   "file_extension": ".py",
   "mimetype": "text/x-python",
   "name": "python",
   "nbconvert_exporter": "python",
   "pygments_lexer": "ipython3",
   "version": "3.10.16"
  }
 },
 "nbformat": 4,
 "nbformat_minor": 2
}
