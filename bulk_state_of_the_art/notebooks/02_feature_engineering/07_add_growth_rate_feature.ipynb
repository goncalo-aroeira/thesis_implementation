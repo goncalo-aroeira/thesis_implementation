{
 "cells": [
  {
   "cell_type": "code",
   "execution_count": 5,
   "id": "54568173",
   "metadata": {},
   "outputs": [
    {
     "name": "stdout",
     "output_type": "stream",
     "text": [
      "📦 Main training dataset: (571985, 78)\n",
      "📈 Growth ratio dataset: (958, 2)\n"
     ]
    }
   ],
   "source": [
    "import pandas as pd\n",
    "\n",
    "# Paths\n",
    "MAIN_DATASET_PATH = \"../../data/processed/bulk_voom_30_pcs_embeddings_30_pcs_tissue.parquet\"\n",
    "GROWTH_PATH = \"feature_engineering/processed_growth_day4_ratio.csv\"\n",
    "\n",
    "# Load data\n",
    "df_main = pd.read_parquet(MAIN_DATASET_PATH)\n",
    "growth_df = pd.read_csv(GROWTH_PATH)\n",
    "\n",
    "print(f\"📦 Main training dataset: {df_main.shape}\")\n",
    "print(f\"📈 Growth ratio dataset: {growth_df.shape}\")\n"
   ]
  },
  {
   "cell_type": "code",
   "execution_count": 6,
   "id": "e3eb9411",
   "metadata": {},
   "outputs": [
    {
     "name": "stdout",
     "output_type": "stream",
     "text": [
      "📉 Filtered dataset shape (with growth info only): (566992, 78)\n"
     ]
    }
   ],
   "source": [
    "# Keep only rows with available growth data\n",
    "filtered_df = df_main[df_main[\"SANGER_MODEL_ID\"].isin(growth_df[\"SANGER_MODEL_ID\"])]\n",
    "\n",
    "print(f\"📉 Filtered dataset shape (with growth info only): {filtered_df.shape}\")\n"
   ]
  },
  {
   "cell_type": "code",
   "execution_count": 7,
   "id": "76f711c8",
   "metadata": {},
   "outputs": [
    {
     "name": "stdout",
     "output_type": "stream",
     "text": [
      "✅ All cell lines have growth values after filtering.\n"
     ]
    }
   ],
   "source": [
    "# Merge growth info\n",
    "merged_df = pd.merge(filtered_df, growth_df, on=\"SANGER_MODEL_ID\", how=\"left\")\n",
    "\n",
    "# Confirm no missing growth values remain\n",
    "missing = merged_df[\"day4_day1_ratio\"].isna().sum()\n",
    "assert missing == 0, f\"There are still {missing} missing growth values after filtering.\"\n",
    "print(f\"✅ All cell lines have growth values after filtering.\")\n"
   ]
  },
  {
   "cell_type": "code",
   "execution_count": 8,
   "id": "fcec64b9",
   "metadata": {},
   "outputs": [
    {
     "name": "stdout",
     "output_type": "stream",
     "text": [
      "✅ Final enriched training dataset saved to:\n",
      "../../data/processed/bulk_voom_30_pcs_embeddings_30_pcs_tissue_growth.parquet\n"
     ]
    }
   ],
   "source": [
    "OUTPUT_PATH = \"../../data/processed/bulk_voom_30_pcs_embeddings_30_pcs_tissue_growth.parquet\"\n",
    "merged_df.to_parquet(OUTPUT_PATH, index=False)\n",
    "\n",
    "print(f\"✅ Final enriched training dataset saved to:\\n{OUTPUT_PATH}\")\n"
   ]
  }
 ],
 "metadata": {
  "kernelspec": {
   "display_name": "tese-env",
   "language": "python",
   "name": "python3"
  },
  "language_info": {
   "codemirror_mode": {
    "name": "ipython",
    "version": 3
   },
   "file_extension": ".py",
   "mimetype": "text/x-python",
   "name": "python",
   "nbconvert_exporter": "python",
   "pygments_lexer": "ipython3",
   "version": "3.10.16"
  }
 },
 "nbformat": 4,
 "nbformat_minor": 5
}
