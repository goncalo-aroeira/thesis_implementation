{
 "cells": [
  {
   "cell_type": "markdown",
   "id": "85bb0dea",
   "metadata": {},
   "source": [
    "# 🔗 Merge PCA Embeddings with Drug Response Dataset\n",
    "\n",
    "In this notebook, we merge the PCA-transformed scFoundation embeddings with our drug response bulk dataset using the shared `SANGER_MODEL_ID`. This prepares the data for downstream modeling.\n"
   ]
  },
  {
   "cell_type": "code",
   "execution_count": 1,
   "id": "3f156266",
   "metadata": {},
   "outputs": [],
   "source": [
    "import polars as pl\n",
    "import pandas as pd\n"
   ]
  },
  {
   "cell_type": "markdown",
   "id": "346b89a3",
   "metadata": {},
   "source": [
    "## 📥 Load Datasets\n",
    "\n",
    "We load both:\n",
    "- `bulk_with_pca.parquet`: the original drug response dataset with PCA features.\n",
    "- `scfoundation_bulk_pca_top{N}.parquet`: the selected PCA-transformed scFoundation embeddings.\n"
   ]
  },
  {
   "cell_type": "code",
   "execution_count": 3,
   "id": "89bc0be6",
   "metadata": {},
   "outputs": [
    {
     "name": "stdout",
     "output_type": "stream",
     "text": [
      "Bulk shape: (571985, 33)\n",
      "scFoundation PCs shape: (1362, 31)\n"
     ]
    }
   ],
   "source": [
    "bulk_path = \"../../data/processed/bulk_voom_pca.parquet\"\n",
    "scf_pca_path = \"../../data/embeddings/scfoundation_bulk_pca_top30.parquet\"  # ← adjust as needed\n",
    "\n",
    "bulk_df = pl.read_parquet(bulk_path)\n",
    "scf_pcs_df = pl.read_parquet(scf_pca_path)\n",
    "\n",
    "print(\"Bulk shape:\", bulk_df.shape)\n",
    "print(\"scFoundation PCs shape:\", scf_pcs_df.shape)\n"
   ]
  },
  {
   "cell_type": "markdown",
   "id": "604ca6b7",
   "metadata": {},
   "source": [
    "## 🔗 Merge on SANGER_MODEL_ID\n",
    "\n",
    "We merge the two datasets using their shared cell line identifier.\n"
   ]
  },
  {
   "cell_type": "code",
   "execution_count": 4,
   "id": "eca69a57",
   "metadata": {},
   "outputs": [
    {
     "name": "stdout",
     "output_type": "stream",
     "text": [
      "✅ Merged shape: (571985, 63)\n"
     ]
    },
    {
     "data": {
      "text/html": [
       "<div><style>\n",
       ".dataframe > thead > tr,\n",
       ".dataframe > tbody > tr {\n",
       "  text-align: right;\n",
       "  white-space: pre-wrap;\n",
       "}\n",
       "</style>\n",
       "<small>shape: (5, 63)</small><table border=\"1\" class=\"dataframe\"><thead><tr><th>SANGER_MODEL_ID</th><th>DRUG_ID</th><th>LN_IC50</th><th>PC1</th><th>PC2</th><th>PC3</th><th>PC4</th><th>PC5</th><th>PC6</th><th>PC7</th><th>PC8</th><th>PC9</th><th>PC10</th><th>PC11</th><th>PC12</th><th>PC13</th><th>PC14</th><th>PC15</th><th>PC16</th><th>PC17</th><th>PC18</th><th>PC19</th><th>PC20</th><th>PC21</th><th>PC22</th><th>PC23</th><th>PC24</th><th>PC25</th><th>PC26</th><th>PC27</th><th>PC28</th><th>PC29</th><th>PC30</th><th>SCF_PC1</th><th>SCF_PC2</th><th>SCF_PC3</th><th>SCF_PC4</th><th>SCF_PC5</th><th>SCF_PC6</th><th>SCF_PC7</th><th>SCF_PC8</th><th>SCF_PC9</th><th>SCF_PC10</th><th>SCF_PC11</th><th>SCF_PC12</th><th>SCF_PC13</th><th>SCF_PC14</th><th>SCF_PC15</th><th>SCF_PC16</th><th>SCF_PC17</th><th>SCF_PC18</th><th>SCF_PC19</th><th>SCF_PC20</th><th>SCF_PC21</th><th>SCF_PC22</th><th>SCF_PC23</th><th>SCF_PC24</th><th>SCF_PC25</th><th>SCF_PC26</th><th>SCF_PC27</th><th>SCF_PC28</th><th>SCF_PC29</th><th>SCF_PC30</th></tr><tr><td>str</td><td>i32</td><td>f32</td><td>f64</td><td>f64</td><td>f64</td><td>f64</td><td>f64</td><td>f64</td><td>f64</td><td>f64</td><td>f64</td><td>f64</td><td>f64</td><td>f64</td><td>f64</td><td>f64</td><td>f64</td><td>f64</td><td>f64</td><td>f64</td><td>f64</td><td>f64</td><td>f64</td><td>f64</td><td>f64</td><td>f64</td><td>f64</td><td>f64</td><td>f64</td><td>f64</td><td>f64</td><td>f64</td><td>f64</td><td>f64</td><td>f64</td><td>f64</td><td>f64</td><td>f64</td><td>f64</td><td>f64</td><td>f64</td><td>f64</td><td>f64</td><td>f64</td><td>f64</td><td>f64</td><td>f64</td><td>f64</td><td>f64</td><td>f64</td><td>f64</td><td>f64</td><td>f64</td><td>f64</td><td>f64</td><td>f64</td><td>f64</td><td>f64</td><td>f64</td><td>f64</td><td>f64</td><td>f64</td></tr></thead><tbody><tr><td>&quot;SIDM00263&quot;</td><td>1</td><td>3.966813</td><td>-143.778935</td><td>22.048178</td><td>4.280085</td><td>19.168067</td><td>50.931954</td><td>23.76384</td><td>35.105506</td><td>-7.557743</td><td>-25.872173</td><td>-2.265482</td><td>15.551653</td><td>28.878574</td><td>0.729251</td><td>-2.310477</td><td>35.078013</td><td>6.821901</td><td>0.43975</td><td>24.288151</td><td>38.4536</td><td>3.593022</td><td>-13.151688</td><td>-18.905431</td><td>0.039227</td><td>-15.913891</td><td>13.568836</td><td>1.8595</td><td>-5.765744</td><td>0.822856</td><td>12.114901</td><td>-6.122686</td><td>-28.846116</td><td>197.069926</td><td>-19.870734</td><td>44.943251</td><td>120.252984</td><td>-11.736488</td><td>68.092467</td><td>-29.633144</td><td>91.464971</td><td>41.620078</td><td>52.285631</td><td>-35.3301</td><td>-32.147308</td><td>6.214343</td><td>29.959419</td><td>-7.097029</td><td>38.830909</td><td>-74.465648</td><td>52.187677</td><td>-78.937371</td><td>-6.240742</td><td>-7.679112</td><td>25.018095</td><td>19.223719</td><td>43.85122</td><td>12.267507</td><td>-27.04944</td><td>0.123455</td><td>-35.590873</td><td>25.689015</td></tr><tr><td>&quot;SIDM00269&quot;</td><td>1</td><td>2.69209</td><td>-111.73255</td><td>14.364681</td><td>-0.653152</td><td>25.571131</td><td>23.467472</td><td>31.98018</td><td>16.000345</td><td>-7.928904</td><td>-22.619169</td><td>2.675483</td><td>17.459836</td><td>8.891877</td><td>23.599511</td><td>5.672281</td><td>33.762119</td><td>0.189518</td><td>-5.222018</td><td>20.134318</td><td>40.333982</td><td>2.107782</td><td>-14.876624</td><td>-7.578567</td><td>-11.483378</td><td>5.171668</td><td>6.457112</td><td>-0.230956</td><td>-5.694266</td><td>10.885021</td><td>11.310926</td><td>-9.606058</td><td>-32.939312</td><td>178.0382</td><td>-36.558014</td><td>76.119477</td><td>61.616892</td><td>-41.88993</td><td>48.596424</td><td>-37.190455</td><td>82.099426</td><td>46.702968</td><td>27.989684</td><td>31.634995</td><td>-29.200714</td><td>31.125367</td><td>13.706163</td><td>23.301741</td><td>55.576769</td><td>-62.513778</td><td>71.743581</td><td>-95.87785</td><td>-11.069128</td><td>-19.595294</td><td>6.265651</td><td>17.007056</td><td>-6.088063</td><td>-8.697047</td><td>-40.467749</td><td>-24.798641</td><td>-56.610817</td><td>17.283725</td></tr><tr><td>&quot;SIDM00203&quot;</td><td>1</td><td>2.47799</td><td>-148.006587</td><td>19.783259</td><td>8.130793</td><td>25.784234</td><td>40.346497</td><td>31.19686</td><td>1.732747</td><td>-9.666782</td><td>-25.915788</td><td>0.8522</td><td>24.626296</td><td>12.840916</td><td>4.213448</td><td>1.068404</td><td>29.450339</td><td>0.9981</td><td>-15.276629</td><td>9.182074</td><td>53.597773</td><td>15.451569</td><td>-21.942138</td><td>7.481636</td><td>1.204341</td><td>1.737601</td><td>10.989763</td><td>3.207945</td><td>-0.843249</td><td>0.481544</td><td>4.961943</td><td>-1.700099</td><td>-50.438404</td><td>224.057089</td><td>-11.252632</td><td>68.074396</td><td>118.967199</td><td>-35.606544</td><td>15.422671</td><td>-40.264347</td><td>75.286824</td><td>31.04061</td><td>-0.754466</td><td>-17.128703</td><td>-32.427248</td><td>18.577229</td><td>10.784739</td><td>29.71613</td><td>58.01021</td><td>-71.174012</td><td>81.13907</td><td>-113.359174</td><td>-15.710645</td><td>6.542916</td><td>-22.992477</td><td>27.231422</td><td>19.003388</td><td>-9.602187</td><td>-16.024635</td><td>12.005549</td><td>-22.627371</td><td>16.511505</td></tr><tr><td>&quot;SIDM01111&quot;</td><td>1</td><td>2.033564</td><td>15.118393</td><td>12.841382</td><td>15.732082</td><td>41.373588</td><td>37.787587</td><td>0.417079</td><td>-4.834522</td><td>-6.587268</td><td>-27.756335</td><td>-1.28612</td><td>11.462113</td><td>10.154481</td><td>13.119134</td><td>-6.688721</td><td>25.686997</td><td>7.416178</td><td>-22.239027</td><td>8.614505</td><td>43.671845</td><td>0.069962</td><td>-11.825064</td><td>-1.911688</td><td>-6.976662</td><td>1.358369</td><td>7.157779</td><td>-2.333678</td><td>1.894014</td><td>8.626621</td><td>5.491428</td><td>6.344718</td><td>29.76666</td><td>21.063254</td><td>40.867959</td><td>121.35719</td><td>114.116486</td><td>0.979702</td><td>-9.181698</td><td>-47.983472</td><td>68.70998</td><td>23.675246</td><td>3.372241</td><td>10.180311</td><td>-17.352855</td><td>21.749337</td><td>2.267221</td><td>19.96751</td><td>41.28069</td><td>-99.118645</td><td>71.601726</td><td>-98.911898</td><td>-10.254515</td><td>1.635299</td><td>-0.909957</td><td>19.593254</td><td>-1.49993</td><td>3.332152</td><td>-8.211007</td><td>-15.952711</td><td>-30.330544</td><td>0.927991</td></tr><tr><td>&quot;SIDM00909&quot;</td><td>1</td><td>2.966007</td><td>78.295151</td><td>13.048277</td><td>-6.142006</td><td>30.198731</td><td>-12.473088</td><td>20.035509</td><td>-11.306615</td><td>34.484778</td><td>12.678192</td><td>-12.416095</td><td>23.642698</td><td>1.597616</td><td>-4.026455</td><td>12.684305</td><td>-6.056986</td><td>23.436657</td><td>7.150125</td><td>-1.144317</td><td>4.565311</td><td>-2.37132</td><td>5.29878</td><td>-5.207006</td><td>1.686584</td><td>-1.352605</td><td>6.404186</td><td>-0.311345</td><td>4.75044</td><td>8.890706</td><td>7.572978</td><td>-3.559355</td><td>82.63295</td><td>-44.422875</td><td>-0.794799</td><td>107.392113</td><td>-21.778333</td><td>-63.576354</td><td>-26.693674</td><td>129.934174</td><td>50.581084</td><td>6.868829</td><td>-33.734528</td><td>-16.218644</td><td>5.256505</td><td>-36.967547</td><td>-39.589633</td><td>0.016937</td><td>4.041995</td><td>-12.705802</td><td>-3.540488</td><td>3.325514</td><td>19.854883</td><td>-12.721371</td><td>-3.329058</td><td>6.16778</td><td>-2.854354</td><td>9.516999</td><td>4.914386</td><td>-12.083485</td><td>-21.174966</td><td>9.79956</td></tr></tbody></table></div>"
      ],
      "text/plain": [
       "shape: (5, 63)\n",
       "┌────────────┬─────────┬──────────┬────────────┬───┬───────────┬───────────┬───────────┬───────────┐\n",
       "│ SANGER_MOD ┆ DRUG_ID ┆ LN_IC50  ┆ PC1        ┆ … ┆ SCF_PC27  ┆ SCF_PC28  ┆ SCF_PC29  ┆ SCF_PC30  │\n",
       "│ EL_ID      ┆ ---     ┆ ---      ┆ ---        ┆   ┆ ---       ┆ ---       ┆ ---       ┆ ---       │\n",
       "│ ---        ┆ i32     ┆ f32      ┆ f64        ┆   ┆ f64       ┆ f64       ┆ f64       ┆ f64       │\n",
       "│ str        ┆         ┆          ┆            ┆   ┆           ┆           ┆           ┆           │\n",
       "╞════════════╪═════════╪══════════╪════════════╪═══╪═══════════╪═══════════╪═══════════╪═══════════╡\n",
       "│ SIDM00263  ┆ 1       ┆ 3.966813 ┆ -143.77893 ┆ … ┆ -27.04944 ┆ 0.123455  ┆ -35.59087 ┆ 25.689015 │\n",
       "│            ┆         ┆          ┆ 5          ┆   ┆           ┆           ┆ 3         ┆           │\n",
       "│ SIDM00269  ┆ 1       ┆ 2.69209  ┆ -111.73255 ┆ … ┆ -40.46774 ┆ -24.79864 ┆ -56.61081 ┆ 17.283725 │\n",
       "│            ┆         ┆          ┆            ┆   ┆ 9         ┆ 1         ┆ 7         ┆           │\n",
       "│ SIDM00203  ┆ 1       ┆ 2.47799  ┆ -148.00658 ┆ … ┆ -16.02463 ┆ 12.005549 ┆ -22.62737 ┆ 16.511505 │\n",
       "│            ┆         ┆          ┆ 7          ┆   ┆ 5         ┆           ┆ 1         ┆           │\n",
       "│ SIDM01111  ┆ 1       ┆ 2.033564 ┆ 15.118393  ┆ … ┆ -8.211007 ┆ -15.95271 ┆ -30.33054 ┆ 0.927991  │\n",
       "│            ┆         ┆          ┆            ┆   ┆           ┆ 1         ┆ 4         ┆           │\n",
       "│ SIDM00909  ┆ 1       ┆ 2.966007 ┆ 78.295151  ┆ … ┆ 4.914386  ┆ -12.08348 ┆ -21.17496 ┆ 9.79956   │\n",
       "│            ┆         ┆          ┆            ┆   ┆           ┆ 5         ┆ 6         ┆           │\n",
       "└────────────┴─────────┴──────────┴────────────┴───┴───────────┴───────────┴───────────┴───────────┘"
      ]
     },
     "execution_count": 4,
     "metadata": {},
     "output_type": "execute_result"
    }
   ],
   "source": [
    "merged_df = bulk_df.join(scf_pcs_df, on=\"SANGER_MODEL_ID\", how=\"inner\")\n",
    "\n",
    "print(\"✅ Merged shape:\", merged_df.shape)\n",
    "merged_df.head()\n"
   ]
  },
  {
   "cell_type": "markdown",
   "id": "667e4476",
   "metadata": {},
   "source": [
    "## 💾 Save Merged Dataset\n",
    "\n",
    "We'll save the merged dataset to a new Parquet file for downstream training and evaluation.\n"
   ]
  },
  {
   "cell_type": "code",
   "execution_count": 6,
   "id": "d6b8632d",
   "metadata": {},
   "outputs": [
    {
     "name": "stdout",
     "output_type": "stream",
     "text": [
      "✅ Saved to ../../data/processed/bulk_voom_30_pcs_embeddings_30_pcs.parquet\n"
     ]
    }
   ],
   "source": [
    "output_path = f\"../../data/processed/bulk_voom_30_pcs_embeddings_30_pcs.parquet\"  # adjust number if needed\n",
    "merged_df.write_parquet(output_path)\n",
    "print(f\"✅ Saved to {output_path}\")\n"
   ]
  }
 ],
 "metadata": {
  "kernelspec": {
   "display_name": "tese-env",
   "language": "python",
   "name": "python3"
  },
  "language_info": {
   "codemirror_mode": {
    "name": "ipython",
    "version": 3
   },
   "file_extension": ".py",
   "mimetype": "text/x-python",
   "name": "python",
   "nbconvert_exporter": "python",
   "pygments_lexer": "ipython3",
   "version": "3.10.16"
  }
 },
 "nbformat": 4,
 "nbformat_minor": 5
}
