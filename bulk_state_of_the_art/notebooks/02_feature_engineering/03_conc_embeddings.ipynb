{
 "cells": [
  {
   "cell_type": "markdown",
   "id": "85bb0dea",
   "metadata": {},
   "source": [
    "# 🔗 Merge PCA Embeddings with Drug Response Dataset\n",
    "\n",
    "In this notebook, we merge the PCA-transformed scFoundation embeddings with our drug response bulk dataset using the shared `SANGER_MODEL_ID`. This prepares the data for downstream modeling.\n"
   ]
  },
  {
   "cell_type": "code",
   "execution_count": 9,
   "id": "3f156266",
   "metadata": {},
   "outputs": [],
   "source": [
    "import pandas as pd\n"
   ]
  },
  {
   "cell_type": "markdown",
   "id": "346b89a3",
   "metadata": {},
   "source": [
    "## 📥 Load Datasets\n",
    "\n",
    "We load both:\n",
    "- `bulk_with_pca.parquet`: the original drug response dataset with PCA features.\n",
    "- `scfoundation_bulk_pca_top{N}.parquet`: the selected PCA-transformed scFoundation embeddings.\n"
   ]
  },
  {
   "cell_type": "code",
   "execution_count": 10,
   "id": "89bc0be6",
   "metadata": {},
   "outputs": [
    {
     "name": "stdout",
     "output_type": "stream",
     "text": [
      "✅ Renamed columns in gene_pca_df: ['VOOM_PC1', 'VOOM_PC2', 'VOOM_PC3', 'VOOM_PC4', 'VOOM_PC5'] ...\n"
     ]
    }
   ],
   "source": [
    "# Load both DataFrames\n",
    "gene_pca_df = pd.read_parquet(\"../../data/processed/bulk_with_pca.parquet\")\n",
    "emb_pca_df = pd.read_parquet(\"../../data/processed/bulk_with_pca_embeddings.parquet\")\n",
    "\n",
    "# Rename PCA columns in gene_pca_df\n",
    "gene_pca_cols = [col for col in gene_pca_df.columns if col.startswith(\"SCF_PC\")]\n",
    "voom_renaming = {col: col.replace(\"SCF_PC\", \"VOOM_PC\") for col in gene_pca_cols}\n",
    "gene_pca_df = gene_pca_df.rename(columns=voom_renaming)\n",
    "\n",
    "# Confirm\n",
    "print(\"✅ Renamed columns in gene_pca_df:\", list(voom_renaming.values())[:5], \"...\")\n"
   ]
  },
  {
   "cell_type": "markdown",
   "id": "604ca6b7",
   "metadata": {},
   "source": [
    "## 🔗 Merge on SANGER_MODEL_ID\n",
    "\n",
    "We merge the two datasets using their shared cell line identifier.\n"
   ]
  },
  {
   "cell_type": "code",
   "execution_count": 11,
   "id": "eca69a57",
   "metadata": {},
   "outputs": [
    {
     "name": "stdout",
     "output_type": "stream",
     "text": [
      "✅ Merged shape: (571985, 64)\n",
      "✅ Columns: ['SANGER_MODEL_ID', 'DRUG_ID', 'LN_IC50_x', 'VOOM_PC1', 'VOOM_PC2', 'VOOM_PC3', 'VOOM_PC4', 'VOOM_PC5', 'VOOM_PC6', 'VOOM_PC7'] ...\n"
     ]
    }
   ],
   "source": [
    "# Identify merge keys\n",
    "merge_keys = [\"SANGER_MODEL_ID\", \"DRUG_ID\"]\n",
    "\n",
    "# Merge DataFrames\n",
    "merged_df = gene_pca_df.merge(\n",
    "    emb_pca_df,\n",
    "    on=merge_keys,\n",
    "    how=\"inner\"\n",
    ")\n",
    "\n",
    "print(\"✅ Merged shape:\", merged_df.shape)\n",
    "print(\"✅ Columns:\", merged_df.columns[:10].tolist(), \"...\")\n"
   ]
  },
  {
   "cell_type": "markdown",
   "id": "667e4476",
   "metadata": {},
   "source": [
    "## 💾 Save Merged Dataset\n",
    "\n",
    "We'll save the merged dataset to a new Parquet file for downstream training and evaluation.\n"
   ]
  },
  {
   "cell_type": "code",
   "execution_count": null,
   "id": "d6b8632d",
   "metadata": {},
   "outputs": [
    {
     "name": "stdout",
     "output_type": "stream",
     "text": [
      "✅ Prepared embeddings DataFrame for merging: (571985, 32)\n"
     ]
    }
   ],
   "source": [
    "# Keep only merge keys + PCA columns in embeddings DataFrame\n",
    "emb_pca_keep = emb_pca_df[merge_keys + voom_renaming].copy()\n",
    "\n",
    "print(\"✅ Prepared embeddings DataFrame for merging:\", emb_pca_keep.shape)\n"
   ]
  },
  {
   "cell_type": "code",
   "execution_count": 13,
   "id": "8df048e4",
   "metadata": {},
   "outputs": [
    {
     "name": "stdout",
     "output_type": "stream",
     "text": [
      "✅ Merged shape: (571985, 63)\n",
      "✅ Columns preview: ['SANGER_MODEL_ID', 'DRUG_ID', 'LN_IC50', 'VOOM_PC1', 'VOOM_PC2', 'VOOM_PC3', 'VOOM_PC4', 'VOOM_PC5', 'VOOM_PC6', 'VOOM_PC7'] ...\n",
      "  SANGER_MODEL_ID  DRUG_ID   LN_IC50   VOOM_PC1    VOOM_PC2   VOOM_PC3  \\\n",
      "0       SIDM00263        1  3.966813 -28.846116  197.069926 -19.870734   \n",
      "1       SIDM00269        1  2.692090 -32.939312  178.038200 -36.558014   \n",
      "2       SIDM00203        1  2.477990 -50.438404  224.057089 -11.252632   \n",
      "3       SIDM01111        1  2.033564  29.766660   21.063254  40.867959   \n",
      "4       SIDM00909        1  2.966007  82.632950  -44.422875  -0.794799   \n",
      "\n",
      "     VOOM_PC4    VOOM_PC5   VOOM_PC6   VOOM_PC7  ...  SCF_PC21  SCF_PC22  \\\n",
      "0   44.943251  120.252984 -11.736488  68.092467  ... -0.622784  0.211736   \n",
      "1   76.119477   61.616892 -41.889930  48.596424  ...  0.163480  0.171078   \n",
      "2   68.074396  118.967199 -35.606544  15.422671  ... -0.252287  0.144818   \n",
      "3  121.357190  114.116486   0.979702  -9.181698  ... -0.379239  0.281085   \n",
      "4  107.392113  -21.778333 -63.576354 -26.693674  ... -0.209442 -0.351091   \n",
      "\n",
      "   SCF_PC23  SCF_PC24  SCF_PC25  SCF_PC26  SCF_PC27  SCF_PC28  SCF_PC29  \\\n",
      "0 -0.242650 -0.310544 -0.419786 -0.005573  0.540313  0.413279  0.224131   \n",
      "1 -0.208389 -0.610594  0.155628  0.076471 -0.703864  0.484257 -0.145249   \n",
      "2 -0.478050 -0.723075 -0.070194 -0.284992 -0.279616  0.354736 -0.157464   \n",
      "3  0.039051 -0.408470 -0.193307  0.343148 -0.293278  0.682862 -0.133743   \n",
      "4 -0.386386 -0.304337 -0.027707  0.405539 -0.052340  0.122573 -0.523267   \n",
      "\n",
      "   SCF_PC30  \n",
      "0  0.418165  \n",
      "1 -0.446545  \n",
      "2 -0.373929  \n",
      "3 -0.129406  \n",
      "4 -0.016671  \n",
      "\n",
      "[5 rows x 63 columns]\n"
     ]
    }
   ],
   "source": [
    "# Merge on SANGER_MODEL_ID and DRUG_ID\n",
    "merged_df = gene_pca_df.merge(\n",
    "    emb_pca_keep,\n",
    "    on=merge_keys,\n",
    "    how=\"inner\"\n",
    ")\n",
    "\n",
    "# Confirm shape and columns\n",
    "print(\"✅ Merged shape:\", merged_df.shape)\n",
    "print(\"✅ Columns preview:\", merged_df.columns[:10].tolist(), \"...\")\n",
    "print(merged_df.head())\n"
   ]
  },
  {
   "cell_type": "code",
   "execution_count": 15,
   "id": "ae1e1b5e",
   "metadata": {},
   "outputs": [
    {
     "name": "stdout",
     "output_type": "stream",
     "text": [
      "✅ Saved concatenated PCA feature table to '../../data/processed/bulk_with_pca_concat.parquet'.\n"
     ]
    }
   ],
   "source": [
    "# Save to parquet\n",
    "merged_df.to_parquet(\"../../data/processed/bulk_conc_pca_gene_embeddings.parquet\", index=False)\n",
    "print(\"✅ Saved concatenated PCA feature table to '../../data/processed/bulk_with_pca_concat.parquet'.\")\n"
   ]
  }
 ],
 "metadata": {
  "kernelspec": {
   "display_name": "tese-env",
   "language": "python",
   "name": "python3"
  },
  "language_info": {
   "codemirror_mode": {
    "name": "ipython",
    "version": 3
   },
   "file_extension": ".py",
   "mimetype": "text/x-python",
   "name": "python",
   "nbconvert_exporter": "python",
   "pygments_lexer": "ipython3",
   "version": "3.10.16"
  }
 },
 "nbformat": 4,
 "nbformat_minor": 5
}
