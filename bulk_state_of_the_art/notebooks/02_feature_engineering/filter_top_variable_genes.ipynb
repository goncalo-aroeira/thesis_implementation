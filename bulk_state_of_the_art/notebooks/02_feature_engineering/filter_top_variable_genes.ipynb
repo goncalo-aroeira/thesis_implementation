{
 "cells": [
  {
   "cell_type": "markdown",
   "metadata": {},
   "source": [
    "# Extract Top Highly Variable Genes (HVGs)\n",
    "\n",
    "This notebook identifies and selects the top **N most variable genes** across all pseudo-bulk cell line expression profiles.\n",
    "\n",
    "The result will be a reduced matrix of expression features that retains only the genes with the most variation — typically the most biologically informative ones.\n"
   ]
  },
  {
   "cell_type": "code",
   "execution_count": 6,
   "metadata": {},
   "outputs": [],
   "source": [
    "import polars as pl\n",
    "import numpy as np\n",
    "import pandas as pd\n",
    "import os\n"
   ]
  },
  {
   "cell_type": "markdown",
   "metadata": {},
   "source": [
    "## 1. Load and Preprocess Pseudo-Bulk Expression Matrix\n",
    "\n",
    "We load the raw single-cell pseudo-bulk expression matrix and prepare it for variance calculation. This includes:\n",
    "- Transposing\n",
    "- Dropping metadata columns\n",
    "- Removing gene identifier header rows\n"
   ]
  },
  {
   "cell_type": "code",
   "execution_count": 7,
   "metadata": {},
   "outputs": [
    {
     "name": "stdout",
     "output_type": "stream",
     "text": [
      "✅ Raw data loaded: (37606, 1432)\n",
      "✅ Transposition complete. Shape: (1431, 37607)\n",
      "✅ Cleaned gene matrix shape: (1430, 37603)\n"
     ]
    }
   ],
   "source": [
    "# Load original expression matrix\n",
    "aligned = pd.read_parquet(\"../../data/sc_data/rnaseq_fpkm.parquet\")\n",
    "print(\"✅ Raw data loaded:\", aligned.shape)\n",
    "\n",
    "# Transpose\n",
    "transposed_df = aligned.set_index(aligned.columns[0]).transpose()\n",
    "transposed_df = transposed_df.apply(pd.to_numeric, errors='coerce').fillna(0.0)\n",
    "\n",
    "# Reset index to make SANGER_MODEL_ID a column\n",
    "transposed_df.index.name = \"SANGER_MODEL_ID\"\n",
    "transposed_df.reset_index(inplace=True)\n",
    "print(\"✅ Transposition complete. Shape:\", transposed_df.shape)\n",
    "\n",
    "# Convert to Polars\n",
    "cell_gene_matrix = pl.from_pandas(transposed_df)\n",
    "\n",
    "# Drop metadata columns\n",
    "cell_gene_matrix = cell_gene_matrix.drop([\"model_name\", \"dataset_name\", \"data_source\", \"gene_id\"])\n",
    "\n",
    "# Drop the first row (transposed gene IDs)\n",
    "cell_gene_matrix = cell_gene_matrix.slice(1)\n",
    "\n",
    "print(\"✅ Cleaned gene matrix shape:\", cell_gene_matrix.shape)\n"
   ]
  },
  {
   "cell_type": "markdown",
   "metadata": {},
   "source": [
    "## 2. Compute Variance and Select Top Genes\n",
    "\n",
    "We compute variance for each gene across all cell lines and keep the top N most variable genes.\n"
   ]
  },
  {
   "cell_type": "code",
   "execution_count": 8,
   "metadata": {},
   "outputs": [
    {
     "name": "stdout",
     "output_type": "stream",
     "text": [
      "✅ Gene matrix extracted. Shape: (1430, 37602)\n",
      "✅ Selected top 2000 HVGs.\n",
      "Top HVGs preview: ['SIDG38622', 'SIDG26269', 'SIDG07496', 'SIDG39680', 'SIDG05293']\n"
     ]
    }
   ],
   "source": [
    "non_gene_cols = [\"SANGER_MODEL_ID\"]\n",
    "gene_cols = [col for col in cell_gene_matrix.columns if col not in non_gene_cols]\n",
    "\n",
    "# Store IDs and gene matrix\n",
    "sanger_ids = cell_gene_matrix.select(\"SANGER_MODEL_ID\").to_pandas()\n",
    "X = cell_gene_matrix.select(gene_cols).to_pandas().to_numpy()\n",
    "\n",
    "print(\"✅ Gene matrix extracted. Shape:\", X.shape)\n",
    "\n",
    "# Compute variance\n",
    "TOP_N = 2000\n",
    "variances = np.var(X, axis=0)\n",
    "top_indices = np.argsort(variances)[-TOP_N:]\n",
    "top_genes = [gene_cols[i] for i in top_indices]\n",
    "\n",
    "print(f\"✅ Selected top {TOP_N} HVGs.\")\n",
    "print(\"Top HVGs preview:\", top_genes[:5])\n"
   ]
  },
  {
   "cell_type": "markdown",
   "metadata": {},
   "source": [
    "## 3. Merge HVG Matrix with Drug Response Data\n",
    "\n",
    "We combine the top HVG expression features with the drug sensitivity matrix (LN_IC50), yielding one row per (cell line, drug) pair.\n"
   ]
  },
  {
   "cell_type": "code",
   "execution_count": 9,
   "metadata": {},
   "outputs": [
    {
     "name": "stdout",
     "output_type": "stream",
     "text": [
      "✅ Filtered expression matrix shape: (1430, 2001)\n",
      "✅ Loaded GDSC drug response. Shape: (571985, 3)\n",
      "✅ Merged shape: (571985, 2003)\n",
      "shape: (5, 2_003)\n",
      "┌────────────┬─────────┬───────────┬───────────┬───┬───────────┬───────────┬───────────┬───────────┐\n",
      "│ SANGER_MOD ┆ DRUG_ID ┆ LN_IC50   ┆ SIDG38622 ┆ … ┆ SIDG20383 ┆ SIDG20381 ┆ SIDG20382 ┆ SIDG19416 │\n",
      "│ EL_ID      ┆ ---     ┆ ---       ┆ ---       ┆   ┆ ---       ┆ ---       ┆ ---       ┆ ---       │\n",
      "│ ---        ┆ i32     ┆ f32       ┆ f64       ┆   ┆ f64       ┆ f64       ┆ f64       ┆ f64       │\n",
      "│ str        ┆         ┆           ┆           ┆   ┆           ┆           ┆           ┆           │\n",
      "╞════════════╪═════════╪═══════════╪═══════════╪═══╪═══════════╪═══════════╪═══════════╪═══════════╡\n",
      "│ SIDM00374  ┆ 1009    ┆ 4.13448   ┆ 38.79     ┆ … ┆ 15125.9   ┆ 12108.8   ┆ 12398.1   ┆ 3645.29   │\n",
      "│ SIDM00255  ┆ 268     ┆ -2.236015 ┆ 24.37     ┆ … ┆ 8855.12   ┆ 8250.84   ┆ 7095.92   ┆ 2427.56   │\n",
      "│ SIDM01182  ┆ 1012    ┆ 1.321538  ┆ 54.09     ┆ … ┆ 4693.24   ┆ 4568.77   ┆ 6028.6    ┆ 0.0       │\n",
      "│ SIDM01160  ┆ 1023    ┆ 3.875126  ┆ 55.1      ┆ … ┆ 6328.63   ┆ 8725.58   ┆ 9502.37   ┆ 16.81     │\n",
      "│ SIDM00547  ┆ 1197    ┆ 4.457386  ┆ 39.13     ┆ … ┆ 6003.69   ┆ 6656.55   ┆ 8699.29   ┆ 0.0       │\n",
      "└────────────┴─────────┴───────────┴───────────┴───┴───────────┴───────────┴───────────┴───────────┘\n",
      "📁 Saved to: gdsc_single_cell_top_hvgs.parquet\n"
     ]
    }
   ],
   "source": [
    "# Filter expression data\n",
    "cols_to_keep = non_gene_cols + top_genes\n",
    "filtered_expr = cell_gene_matrix.select(cols_to_keep)\n",
    "print(\"✅ Filtered expression matrix shape:\", filtered_expr.shape)\n",
    "\n",
    "# Load drug response data\n",
    "gdsc_bulk = pl.read_parquet(\"../../data/gdsc/gdsc_final_cleaned.parquet\").select([\n",
    "    pl.col(\"SANGER_MODEL_ID\").cast(pl.Utf8),\n",
    "    pl.col(\"DRUG_ID\").cast(pl.Int32),\n",
    "    pl.col(\"LN_IC50\").cast(pl.Float32)\n",
    "])\n",
    "print(\"✅ Loaded GDSC drug response. Shape:\", gdsc_bulk.shape)\n",
    "\n",
    "# Merge with GDSC\n",
    "merged = gdsc_bulk.join(filtered_expr, on=\"SANGER_MODEL_ID\", how=\"left\")\n",
    "print(\"✅ Merged shape:\", merged.shape)\n",
    "print(merged.head())\n",
    "\n",
    "# Save\n",
    "merged.write_parquet(\"../../data/pseudo_bulk/gdsc_single_cell_top_hvgs.parquet\")\n",
    "print(\"📁 Saved to: gdsc_single_cell_top_hvgs.parquet\")\n"
   ]
  }
 ],
 "metadata": {
  "kernelspec": {
   "display_name": "tese-env",
   "language": "python",
   "name": "python3"
  },
  "language_info": {
   "codemirror_mode": {
    "name": "ipython",
    "version": 3
   },
   "file_extension": ".py",
   "mimetype": "text/x-python",
   "name": "python",
   "nbconvert_exporter": "python",
   "pygments_lexer": "ipython3",
   "version": "3.10.16"
  }
 },
 "nbformat": 4,
 "nbformat_minor": 2
}
