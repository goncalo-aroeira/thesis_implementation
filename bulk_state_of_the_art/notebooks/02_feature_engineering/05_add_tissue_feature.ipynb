{
 "cells": [
  {
   "cell_type": "code",
   "execution_count": 4,
   "id": "ace5f420",
   "metadata": {},
   "outputs": [
    {
     "name": "stdout",
     "output_type": "stream",
     "text": [
      "🧬 Embeddings dataset shape: (571985, 63)\n",
      "🏷️ Tissue features shape: (1431, 16)\n"
     ]
    }
   ],
   "source": [
    "import pandas as pd\n",
    "\n",
    "# Paths\n",
    "EMBEDDINGS_PATH = \"../../data/processed/bulk_voom_30_pcs_embeddings_30_pcs.parquet\"  # or raw_embeddings if needed\n",
    "TISSUE_PATH = \"feature_engineering/processed_tissue_dummies.csv\"\n",
    "\n",
    "# Load datasets\n",
    "df_embed = pd.read_parquet(EMBEDDINGS_PATH)\n",
    "tissue_df = pd.read_csv(TISSUE_PATH)\n",
    "\n",
    "print(f\"🧬 Embeddings dataset shape: {df_embed.shape}\")\n",
    "print(f\"🏷️ Tissue features shape: {tissue_df.shape}\")\n"
   ]
  },
  {
   "cell_type": "code",
   "execution_count": 5,
   "id": "2d2392f5",
   "metadata": {},
   "outputs": [
    {
     "name": "stdout",
     "output_type": "stream",
     "text": [
      "⚠️ Missing tissue dummy entries: 0\n",
      "✅ Tissue features successfully merged and cleaned.\n"
     ]
    }
   ],
   "source": [
    "# Merge on SANGER_MODEL_ID\n",
    "merged_df = pd.merge(df_embed, tissue_df, on=\"SANGER_MODEL_ID\", how=\"left\")\n",
    "\n",
    "# Check if there are missing tissue assignments\n",
    "tissue_cols = [col for col in merged_df.columns if col.startswith(\"Tissue_\")]\n",
    "missing_tissues = merged_df[tissue_cols].isna().sum().sum()\n",
    "print(f\"⚠️ Missing tissue dummy entries: {missing_tissues}\")\n",
    "\n",
    "# Fill NaNs (if any) with 0\n",
    "merged_df[tissue_cols] = merged_df[tissue_cols].fillna(0).astype(int)\n",
    "\n",
    "print(\"✅ Tissue features successfully merged and cleaned.\")\n"
   ]
  },
  {
   "cell_type": "code",
   "execution_count": 7,
   "id": "98aa01a4",
   "metadata": {},
   "outputs": [
    {
     "name": "stdout",
     "output_type": "stream",
     "text": [
      "📁 Saved dataset with tissue features to:\n",
      "../../data/processed/bulk_voom_30_pcs_embeddings_30_pcs_tissue.parquet\n"
     ]
    }
   ],
   "source": [
    "OUTPUT_PATH = \"../../data/processed/bulk_voom_30_pcs_embeddings_30_pcs_tissue.parquet\"\n",
    "merged_df.to_parquet(OUTPUT_PATH, index=False)\n",
    "\n",
    "print(f\"📁 Saved dataset with tissue features to:\\n{OUTPUT_PATH}\")\n"
   ]
  }
 ],
 "metadata": {
  "kernelspec": {
   "display_name": "tese-env",
   "language": "python",
   "name": "python3"
  },
  "language_info": {
   "codemirror_mode": {
    "name": "ipython",
    "version": 3
   },
   "file_extension": ".py",
   "mimetype": "text/x-python",
   "name": "python",
   "nbconvert_exporter": "python",
   "pygments_lexer": "ipython3",
   "version": "3.10.16"
  }
 },
 "nbformat": 4,
 "nbformat_minor": 5
}
