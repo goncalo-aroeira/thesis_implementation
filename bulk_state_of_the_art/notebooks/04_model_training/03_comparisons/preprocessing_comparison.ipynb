{
 "cells": [
  {
   "cell_type": "code",
   "execution_count": 8,
   "id": "13a1dba3",
   "metadata": {},
   "outputs": [
    {
     "name": "stdout",
     "output_type": "stream",
     "text": [
      "✅ combined: (1394, 6)\n"
     ]
    },
    {
     "data": {
      "application/vnd.microsoft.datawrangler.viewer.v0+json": {
       "columns": [
        {
         "name": "index",
         "rawType": "int64",
         "type": "integer"
        },
        {
         "name": "DRUG_ID",
         "rawType": "int64",
         "type": "integer"
        },
        {
         "name": "n_samples",
         "rawType": "int64",
         "type": "integer"
        },
        {
         "name": "r2_mean",
         "rawType": "float64",
         "type": "float"
        },
        {
         "name": "rmse_mean",
         "rawType": "float64",
         "type": "float"
        },
        {
         "name": "Model",
         "rawType": "object",
         "type": "string"
        },
        {
         "name": "Set",
         "rawType": "object",
         "type": "string"
        }
       ],
       "ref": "0c28c012-6cab-4c29-8055-ee8054803833",
       "rows": [
        [
         "0",
         "1",
         "391",
         "0.0313593020963153",
         "1.0696945791561627",
         "ElasticNet",
         "voom"
        ],
        [
         "1",
         "3",
         "356",
         "0.0338485243229478",
         "1.9587205772434355",
         "ElasticNet",
         "voom"
        ],
        [
         "2",
         "5",
         "394",
         "0.1373132333382825",
         "1.5019349947485832",
         "ElasticNet",
         "voom"
        ],
        [
         "3",
         "6",
         "403",
         "-0.0035881521495697",
         "0.8841271677756591",
         "ElasticNet",
         "voom"
        ],
        [
         "4",
         "9",
         "396",
         "0.0730313167521281",
         "1.406064767322563",
         "ElasticNet",
         "voom"
        ]
       ],
       "shape": {
        "columns": 6,
        "rows": 5
       }
      },
      "text/html": [
       "<div>\n",
       "<style scoped>\n",
       "    .dataframe tbody tr th:only-of-type {\n",
       "        vertical-align: middle;\n",
       "    }\n",
       "\n",
       "    .dataframe tbody tr th {\n",
       "        vertical-align: top;\n",
       "    }\n",
       "\n",
       "    .dataframe thead th {\n",
       "        text-align: right;\n",
       "    }\n",
       "</style>\n",
       "<table border=\"1\" class=\"dataframe\">\n",
       "  <thead>\n",
       "    <tr style=\"text-align: right;\">\n",
       "      <th></th>\n",
       "      <th>DRUG_ID</th>\n",
       "      <th>n_samples</th>\n",
       "      <th>r2_mean</th>\n",
       "      <th>rmse_mean</th>\n",
       "      <th>Model</th>\n",
       "      <th>Set</th>\n",
       "    </tr>\n",
       "  </thead>\n",
       "  <tbody>\n",
       "    <tr>\n",
       "      <th>0</th>\n",
       "      <td>1</td>\n",
       "      <td>391</td>\n",
       "      <td>0.031359</td>\n",
       "      <td>1.069695</td>\n",
       "      <td>ElasticNet</td>\n",
       "      <td>voom</td>\n",
       "    </tr>\n",
       "    <tr>\n",
       "      <th>1</th>\n",
       "      <td>3</td>\n",
       "      <td>356</td>\n",
       "      <td>0.033849</td>\n",
       "      <td>1.958721</td>\n",
       "      <td>ElasticNet</td>\n",
       "      <td>voom</td>\n",
       "    </tr>\n",
       "    <tr>\n",
       "      <th>2</th>\n",
       "      <td>5</td>\n",
       "      <td>394</td>\n",
       "      <td>0.137313</td>\n",
       "      <td>1.501935</td>\n",
       "      <td>ElasticNet</td>\n",
       "      <td>voom</td>\n",
       "    </tr>\n",
       "    <tr>\n",
       "      <th>3</th>\n",
       "      <td>6</td>\n",
       "      <td>403</td>\n",
       "      <td>-0.003588</td>\n",
       "      <td>0.884127</td>\n",
       "      <td>ElasticNet</td>\n",
       "      <td>voom</td>\n",
       "    </tr>\n",
       "    <tr>\n",
       "      <th>4</th>\n",
       "      <td>9</td>\n",
       "      <td>396</td>\n",
       "      <td>0.073031</td>\n",
       "      <td>1.406065</td>\n",
       "      <td>ElasticNet</td>\n",
       "      <td>voom</td>\n",
       "    </tr>\n",
       "  </tbody>\n",
       "</table>\n",
       "</div>"
      ],
      "text/plain": [
       "   DRUG_ID  n_samples   r2_mean  rmse_mean       Model   Set\n",
       "0        1        391  0.031359   1.069695  ElasticNet  voom\n",
       "1        3        356  0.033849   1.958721  ElasticNet  voom\n",
       "2        5        394  0.137313   1.501935  ElasticNet  voom\n",
       "3        6        403 -0.003588   0.884127  ElasticNet  voom\n",
       "4        9        396  0.073031   1.406065  ElasticNet  voom"
      ]
     },
     "execution_count": 8,
     "metadata": {},
     "output_type": "execute_result"
    }
   ],
   "source": [
    "# %%\n",
    "import pandas as pd\n",
    "import seaborn as sns\n",
    "import matplotlib.pyplot as plt\n",
    "import numpy as np\n",
    "from scipy.stats import wilcoxon, ttest_rel\n",
    "\n",
    "NUM_PCS = 30\n",
    "EN_PATHS = {\n",
    "    \"voom\": f\"01_simple_baselines/results/elastic_net/voom_{NUM_PCS}_pcs.csv\",\n",
    "    \"log_tpm\": f\"01_simple_baselines/results/elastic_net/embeddings_{NUM_PCS}_pcs.csv\",\n",
    "}\n",
    "\n",
    "def load_en(path, set_tag):\n",
    "    df = pd.read_csv(path)\n",
    "    df[\"Model\"] = \"ElasticNet\"\n",
    "    df[\"Set\"] = set_tag  # 'voom' or 'log_tpm'\n",
    "    # normalize columns\n",
    "    df.rename(columns=lambda c: c.strip().replace(\"²\", \"^2\"), inplace=True)\n",
    "    if \"r2_mean\" not in df.columns and \"r2_global\" in df.columns:\n",
    "        df = df.rename(columns={\"r2_global\": \"r2_mean\", \"rmse\": \"rmse_mean\"})\n",
    "    keep = [\"DRUG_ID\",\"n_samples\",\"r2_mean\",\"rmse_mean\",\"Model\",\"Set\"]\n",
    "    missing = [c for c in keep if c not in df.columns]\n",
    "    if missing:\n",
    "        raise ValueError(f\"Missing expected columns in {path}: {missing}\")\n",
    "    return df[keep]\n",
    "\n",
    "feat_frames = [load_en(path, tag) for tag, path in EN_PATHS.items()]\n",
    "en_df = pd.concat(feat_frames, ignore_index=True)\n",
    "print(\"✅ combined:\", en_df.shape)\n",
    "en_df.head()\n"
   ]
  },
  {
   "cell_type": "code",
   "execution_count": 9,
   "id": "d8248df0",
   "metadata": {},
   "outputs": [],
   "source": [
    "# %%\n",
    "pretty_map = {\"ElasticNet\": \"Elastic Net\"}\n",
    "set_map = {\n",
    "    \"voom\": f\"Voom ({NUM_PCS} PCs)\",\n",
    "    \"log_tpm\": f\"Log-TPM ({NUM_PCS} PCs)\"\n",
    "}\n",
    "\n",
    "df_plot = en_df.copy()\n",
    "df_plot[\"ModelPretty\"] = df_plot[\"Model\"].map(pretty_map)\n",
    "df_plot[\"SetPretty\"] = df_plot[\"Set\"].map(set_map)\n"
   ]
  },
  {
   "cell_type": "code",
   "execution_count": 10,
   "id": "f667ecec",
   "metadata": {},
   "outputs": [
    {
     "data": {
      "application/vnd.microsoft.datawrangler.viewer.v0+json": {
       "columns": [
        {
         "name": "index",
         "rawType": "int64",
         "type": "integer"
        },
        {
         "name": "Model",
         "rawType": "object",
         "type": "string"
        },
        {
         "name": "Metric",
         "rawType": "object",
         "type": "string"
        },
        {
         "name": "n",
         "rawType": "int64",
         "type": "integer"
        },
        {
         "name": "delta_mean",
         "rawType": "float64",
         "type": "float"
        },
        {
         "name": "delta_median",
         "rawType": "float64",
         "type": "float"
        },
        {
         "name": "win_rate",
         "rawType": "float64",
         "type": "float"
        },
        {
         "name": "wilcoxon_p",
         "rawType": "float64",
         "type": "float"
        },
        {
         "name": "ttest_p",
         "rawType": "float64",
         "type": "float"
        }
       ],
       "ref": "3c390847-766d-451c-b312-1fb21d1f3038",
       "rows": [
        [
         "0",
         "ElasticNet",
         "R² (VOOM - LOG-TPM)",
         "697",
         "0.04075704859220896",
         "0.03698229622405802",
         "0.9067431850789096",
         "3.105097947535721e-102",
         "1.7495288751287695e-106"
        ],
        [
         "1",
         "ElasticNet",
         "RMSE (LOG-TPM - VOOM)",
         "697",
         "0.03239941260917112",
         "0.024744128573216395",
         "0.9139167862266858",
         "1.1496296554327145e-101",
         "2.520296711150201e-83"
        ]
       ],
       "shape": {
        "columns": 8,
        "rows": 2
       }
      },
      "text/html": [
       "<div>\n",
       "<style scoped>\n",
       "    .dataframe tbody tr th:only-of-type {\n",
       "        vertical-align: middle;\n",
       "    }\n",
       "\n",
       "    .dataframe tbody tr th {\n",
       "        vertical-align: top;\n",
       "    }\n",
       "\n",
       "    .dataframe thead th {\n",
       "        text-align: right;\n",
       "    }\n",
       "</style>\n",
       "<table border=\"1\" class=\"dataframe\">\n",
       "  <thead>\n",
       "    <tr style=\"text-align: right;\">\n",
       "      <th></th>\n",
       "      <th>Model</th>\n",
       "      <th>Metric</th>\n",
       "      <th>n</th>\n",
       "      <th>delta_mean</th>\n",
       "      <th>delta_median</th>\n",
       "      <th>win_rate</th>\n",
       "      <th>wilcoxon_p</th>\n",
       "      <th>ttest_p</th>\n",
       "    </tr>\n",
       "  </thead>\n",
       "  <tbody>\n",
       "    <tr>\n",
       "      <th>0</th>\n",
       "      <td>ElasticNet</td>\n",
       "      <td>R² (VOOM - LOG-TPM)</td>\n",
       "      <td>697</td>\n",
       "      <td>0.040757</td>\n",
       "      <td>0.036982</td>\n",
       "      <td>0.906743</td>\n",
       "      <td>3.105098e-102</td>\n",
       "      <td>1.749529e-106</td>\n",
       "    </tr>\n",
       "    <tr>\n",
       "      <th>1</th>\n",
       "      <td>ElasticNet</td>\n",
       "      <td>RMSE (LOG-TPM - VOOM)</td>\n",
       "      <td>697</td>\n",
       "      <td>0.032399</td>\n",
       "      <td>0.024744</td>\n",
       "      <td>0.913917</td>\n",
       "      <td>1.149630e-101</td>\n",
       "      <td>2.520297e-83</td>\n",
       "    </tr>\n",
       "  </tbody>\n",
       "</table>\n",
       "</div>"
      ],
      "text/plain": [
       "        Model                 Metric    n  delta_mean  delta_median  win_rate  \\\n",
       "0  ElasticNet    R² (VOOM - LOG-TPM)  697    0.040757      0.036982  0.906743   \n",
       "1  ElasticNet  RMSE (LOG-TPM - VOOM)  697    0.032399      0.024744  0.913917   \n",
       "\n",
       "      wilcoxon_p        ttest_p  \n",
       "0  3.105098e-102  1.749529e-106  \n",
       "1  1.149630e-101   2.520297e-83  "
      ]
     },
     "metadata": {},
     "output_type": "display_data"
    }
   ],
   "source": [
    "# %% paired tests: VOOM vs LOG-TPM within Elastic Net (per DRUG_ID)\n",
    "def paired_set_tests(df_model, metric=\"r2_mean\"):\n",
    "    wide = df_model.pivot_table(index=\"DRUG_ID\", columns=\"Set\", values=metric, aggfunc=\"mean\").dropna()\n",
    "    if wide.empty:\n",
    "        return None\n",
    "    # positive delta = VOOM better\n",
    "    if metric == \"r2_mean\":\n",
    "        d = wide[\"voom\"] - wide[\"log_tpm\"]\n",
    "    else:  # RMSE: lower is better\n",
    "        d = wide[\"log_tpm\"] - wide[\"voom\"]\n",
    "    n = len(d)\n",
    "    return {\n",
    "        \"n\": n,\n",
    "        \"delta_mean\": d.mean(),\n",
    "        \"delta_median\": d.median(),\n",
    "        \"win_rate\": (d > 0).mean(),  # fraction where VOOM wins\n",
    "        \"wilcoxon_p\": wilcoxon(d, zero_method=\"pratt\").pvalue if n >= 5 else np.nan,\n",
    "        \"ttest_p\": ttest_rel(wide[\"voom\"], wide[\"log_tpm\"], nan_policy=\"omit\").pvalue if n >= 5 else np.nan\n",
    "    }\n",
    "\n",
    "rows = []\n",
    "df_m = en_df[en_df[\"Model\"] == \"ElasticNet\"]\n",
    "out_r2 = paired_set_tests(df_m, \"r2_mean\")\n",
    "out_rmse = paired_set_tests(df_m, \"rmse_mean\")\n",
    "if out_r2: rows.append({\"Model\":\"ElasticNet\",\"Metric\":\"R² (VOOM - LOG-TPM)\",**out_r2})\n",
    "if out_rmse: rows.append({\"Model\":\"ElasticNet\",\"Metric\":\"RMSE (LOG-TPM - VOOM)\",**out_rmse})\n",
    "\n",
    "en_summary = pd.DataFrame(rows)\n",
    "display(en_summary)\n"
   ]
  },
  {
   "cell_type": "code",
   "execution_count": 11,
   "id": "223b36b1",
   "metadata": {},
   "outputs": [
    {
     "name": "stderr",
     "output_type": "stream",
     "text": [
      "/tmp/ipykernel_2229376/2642787290.py:16: UserWarning: set_ticklabels() should only be used with a fixed number of ticks, i.e. after set_ticks() or using a FixedLocator.\n",
      "  ax.set_yticklabels([short_map.get(t.get_text(), t.get_text()) for t in ax.get_yticklabels()])\n"
     ]
    },
    {
     "data": {
      "image/png": "[encoded data removed]",
      "text/plain": [
       "<Figure size 800x360 with 1 Axes>"
      ]
     },
     "metadata": {},
     "output_type": "display_data"
    },
    {
     "name": "stderr",
     "output_type": "stream",
     "text": [
      "/tmp/ipykernel_2229376/2642787290.py:16: UserWarning: set_ticklabels() should only be used with a fixed number of ticks, i.e. after set_ticks() or using a FixedLocator.\n",
      "  ax.set_yticklabels([short_map.get(t.get_text(), t.get_text()) for t in ax.get_yticklabels()])\n"
     ]
    },
    {
     "data": {
      "image/png": "[encoded data removed]",
      "text/plain": [
       "<Figure size 800x360 with 1 Axes>"
      ]
     },
     "metadata": {},
     "output_type": "display_data"
    }
   ],
   "source": [
    "# %% helper for the slim, consistent styling\n",
    "def nice_boxplot(df, x, title, xlabel_top):\n",
    "    fig, ax = plt.subplots(figsize=(8, 3.6))\n",
    "    sns.boxplot(\n",
    "        data=df, x=x, y=\"ModelPretty\",\n",
    "        hue=\"SetPretty\", palette=\"muted\",\n",
    "        showfliers=False, dodge=True, ax=ax,\n",
    "        boxprops=dict(linewidth=0.8),\n",
    "        whiskerprops=dict(linewidth=0.8),\n",
    "        capprops=dict(linewidth=0.8),\n",
    "        medianprops=dict(linewidth=1.0),\n",
    "    )\n",
    "\n",
    "    # shorten y labels (optional)\n",
    "    short_map = {\"Elastic Net\": \"Elastic Net\"}\n",
    "    ax.set_yticklabels([short_map.get(t.get_text(), t.get_text()) for t in ax.get_yticklabels()])\n",
    "    ax.tick_params(axis=\"y\", labelsize=10, pad=3)\n",
    "\n",
    "    ax.set_title(title, fontsize=12)\n",
    "    ax.xaxis.set_label_position('top' if xlabel_top else 'bottom')\n",
    "    ax.set_xlabel(\"R²\" if x==\"r2_mean\" else \"RMSE\", fontsize=10, labelpad=2)\n",
    "    ax.set_ylabel(\"\")\n",
    "\n",
    "    ax.legend(\n",
    "        title=\"Input Space\", frameon=False, loc=\"upper left\",\n",
    "        bbox_to_anchor=(1.01, 1.0), fontsize=9, title_fontsize=10,\n",
    "        handlelength=0.9, borderpad=0.2, labelspacing=0.25\n",
    "    )\n",
    "\n",
    "    for sp in ax.spines.values():\n",
    "        sp.set_linewidth(0.8)\n",
    "    ax.tick_params(axis=\"both\", labelsize=9, width=0.8, length=3, pad=2)\n",
    "    ax.grid(axis=\"x\", linestyle=\"--\", alpha=0.5, linewidth=0.5)\n",
    "\n",
    "    plt.subplots_adjust(left=0.14, right=0.98, top=0.88, bottom=0.08)\n",
    "    plt.show()\n",
    "\n",
    "# --- R²\n",
    "nice_boxplot(\n",
    "    df=df_plot,\n",
    "    x=\"r2_mean\",\n",
    "    title=\"R² Distribution: Elastic Net (Voom vs. Log-TPM, per drug)\",\n",
    "    xlabel_top=True\n",
    ")\n",
    "\n",
    "# --- RMSE\n",
    "nice_boxplot(\n",
    "    df=df_plot,\n",
    "    x=\"rmse_mean\",\n",
    "    title=\"RMSE Distribution: Elastic Net (Voom vs. Log-TPM, per drug)\",\n",
    "    xlabel_top=True\n",
    ")\n"
   ]
  },
  {
   "cell_type": "code",
   "execution_count": 12,
   "id": "acf8b95c",
   "metadata": {},
   "outputs": [
    {
     "data": {
      "application/vnd.microsoft.datawrangler.viewer.v0+json": {
       "columns": [
        {
         "name": "index",
         "rawType": "int64",
         "type": "integer"
        },
        {
         "name": "metric",
         "rawType": "object",
         "type": "string"
        },
        {
         "name": "ModelPretty",
         "rawType": "object",
         "type": "string"
        },
        {
         "name": "SetPretty",
         "rawType": "object",
         "type": "string"
        },
        {
         "name": "N",
         "rawType": "int64",
         "type": "integer"
        },
        {
         "name": "Mean",
         "rawType": "float64",
         "type": "float"
        },
        {
         "name": "Std",
         "rawType": "float64",
         "type": "float"
        },
        {
         "name": "95% CI",
         "rawType": "float64",
         "type": "float"
        }
       ],
       "ref": "c53fc172-61c9-4a1f-8ad6-c190e2a96ce9",
       "rows": [
        [
         "0",
         "r2_mean",
         "Elastic Net",
         "Log-TPM (30 PCs)",
         "697",
         "0.1545",
         "0.0987",
         "0.0073"
        ],
        [
         "1",
         "r2_mean",
         "Elastic Net",
         "Voom (30 PCs)",
         "697",
         "0.1953",
         "0.1046",
         "0.0078"
        ],
        [
         "2",
         "rmse_mean",
         "Elastic Net",
         "Log-TPM (30 PCs)",
         "697",
         "1.2225",
         "0.3737",
         "0.0277"
        ],
        [
         "3",
         "rmse_mean",
         "Elastic Net",
         "Voom (30 PCs)",
         "697",
         "1.1901",
         "0.3607",
         "0.0268"
        ]
       ],
       "shape": {
        "columns": 7,
        "rows": 4
       }
      },
      "text/html": [
       "<div>\n",
       "<style scoped>\n",
       "    .dataframe tbody tr th:only-of-type {\n",
       "        vertical-align: middle;\n",
       "    }\n",
       "\n",
       "    .dataframe tbody tr th {\n",
       "        vertical-align: top;\n",
       "    }\n",
       "\n",
       "    .dataframe thead th {\n",
       "        text-align: right;\n",
       "    }\n",
       "</style>\n",
       "<table border=\"1\" class=\"dataframe\">\n",
       "  <thead>\n",
       "    <tr style=\"text-align: right;\">\n",
       "      <th></th>\n",
       "      <th>metric</th>\n",
       "      <th>ModelPretty</th>\n",
       "      <th>SetPretty</th>\n",
       "      <th>N</th>\n",
       "      <th>Mean</th>\n",
       "      <th>Std</th>\n",
       "      <th>95% CI</th>\n",
       "    </tr>\n",
       "  </thead>\n",
       "  <tbody>\n",
       "    <tr>\n",
       "      <th>0</th>\n",
       "      <td>r2_mean</td>\n",
       "      <td>Elastic Net</td>\n",
       "      <td>Log-TPM (30 PCs)</td>\n",
       "      <td>697</td>\n",
       "      <td>0.1545</td>\n",
       "      <td>0.0987</td>\n",
       "      <td>0.0073</td>\n",
       "    </tr>\n",
       "    <tr>\n",
       "      <th>1</th>\n",
       "      <td>r2_mean</td>\n",
       "      <td>Elastic Net</td>\n",
       "      <td>Voom (30 PCs)</td>\n",
       "      <td>697</td>\n",
       "      <td>0.1953</td>\n",
       "      <td>0.1046</td>\n",
       "      <td>0.0078</td>\n",
       "    </tr>\n",
       "    <tr>\n",
       "      <th>2</th>\n",
       "      <td>rmse_mean</td>\n",
       "      <td>Elastic Net</td>\n",
       "      <td>Log-TPM (30 PCs)</td>\n",
       "      <td>697</td>\n",
       "      <td>1.2225</td>\n",
       "      <td>0.3737</td>\n",
       "      <td>0.0277</td>\n",
       "    </tr>\n",
       "    <tr>\n",
       "      <th>3</th>\n",
       "      <td>rmse_mean</td>\n",
       "      <td>Elastic Net</td>\n",
       "      <td>Voom (30 PCs)</td>\n",
       "      <td>697</td>\n",
       "      <td>1.1901</td>\n",
       "      <td>0.3607</td>\n",
       "      <td>0.0268</td>\n",
       "    </tr>\n",
       "  </tbody>\n",
       "</table>\n",
       "</div>"
      ],
      "text/plain": [
       "      metric  ModelPretty         SetPretty    N    Mean     Std  95% CI\n",
       "0    r2_mean  Elastic Net  Log-TPM (30 PCs)  697  0.1545  0.0987  0.0073\n",
       "1    r2_mean  Elastic Net     Voom (30 PCs)  697  0.1953  0.1046  0.0078\n",
       "2  rmse_mean  Elastic Net  Log-TPM (30 PCs)  697  1.2225  0.3737  0.0277\n",
       "3  rmse_mean  Elastic Net     Voom (30 PCs)  697  1.1901  0.3607  0.0268"
      ]
     },
     "metadata": {},
     "output_type": "display_data"
    }
   ],
   "source": [
    "# %% aggregate stats table\n",
    "def agg_stats(df, metric):\n",
    "    g = (\n",
    "        df.groupby([\"ModelPretty\", \"SetPretty\"], as_index=False)[metric]\n",
    "          .agg(mean=\"mean\", std=\"std\", n=\"count\")\n",
    "    )\n",
    "    g[\"se\"] = g[\"std\"] / np.sqrt(g[\"n\"])\n",
    "    g[\"ci95\"] = 1.96 * g[\"se\"]\n",
    "    g[\"metric\"] = metric\n",
    "    return g\n",
    "\n",
    "stats_r2 = agg_stats(df_plot, \"r2_mean\")\n",
    "stats_rmse = agg_stats(df_plot, \"rmse_mean\")\n",
    "summary_table = pd.concat([stats_r2, stats_rmse], ignore_index=True).rename(\n",
    "    columns={\"mean\":\"Mean\",\"std\":\"Std\",\"n\":\"N\",\"ci95\":\"95% CI\"}\n",
    ")\n",
    "display(summary_table[[\"metric\",\"ModelPretty\",\"SetPretty\",\"N\",\"Mean\",\"Std\",\"95% CI\"]].round(4))\n"
   ]
  }
 ],
 "metadata": {
  "kernelspec": {
   "display_name": "tese-env",
   "language": "python",
   "name": "python3"
  },
  "language_info": {
   "codemirror_mode": {
    "name": "ipython",
    "version": 3
   },
   "file_extension": ".py",
   "mimetype": "text/x-python",
   "name": "python",
   "nbconvert_exporter": "python",
   "pygments_lexer": "ipython3",
   "version": "3.10.16"
  }
 },
 "nbformat": 4,
 "nbformat_minor": 5
}
