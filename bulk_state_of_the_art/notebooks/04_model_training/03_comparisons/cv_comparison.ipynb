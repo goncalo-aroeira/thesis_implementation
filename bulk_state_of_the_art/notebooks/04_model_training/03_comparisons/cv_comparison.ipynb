{
 "cells": [
  {
   "cell_type": "code",
   "execution_count": 8,
   "id": "22399125",
   "metadata": {},
   "outputs": [
    {
     "name": "stdout",
     "output_type": "stream",
     "text": [
      "✅ combined: (2778, 6)\n"
     ]
    },
    {
     "data": {
      "application/vnd.microsoft.datawrangler.viewer.v0+json": {
       "columns": [
        {
         "name": "index",
         "rawType": "int64",
         "type": "integer"
        },
        {
         "name": "DRUG_ID",
         "rawType": "int64",
         "type": "integer"
        },
        {
         "name": "n_samples",
         "rawType": "int64",
         "type": "integer"
        },
        {
         "name": "r2_mean",
         "rawType": "float64",
         "type": "float"
        },
        {
         "name": "rmse_mean",
         "rawType": "float64",
         "type": "float"
        },
        {
         "name": "Model",
         "rawType": "object",
         "type": "string"
        },
        {
         "name": "CV",
         "rawType": "object",
         "type": "string"
        }
       ],
       "ref": "61cafb53-869e-4fd3-8121-afe29cdf721c",
       "rows": [
        [
         "0",
         "1",
         "384",
         "0.06393209386371",
         "1.0646237286492484",
         "ElasticNet",
         "cv5"
        ],
        [
         "1",
         "3",
         "350",
         "0.0381007824668797",
         "1.9384709151096595",
         "ElasticNet",
         "cv5"
        ],
        [
         "2",
         "5",
         "387",
         "0.1437648986368195",
         "1.5180723575183888",
         "ElasticNet",
         "cv5"
        ],
        [
         "3",
         "6",
         "396",
         "-0.0192826391827201",
         "0.8853688796623015",
         "ElasticNet",
         "cv5"
        ],
        [
         "4",
         "9",
         "390",
         "0.0649536093735625",
         "1.3988261942881597",
         "ElasticNet",
         "cv5"
        ]
       ],
       "shape": {
        "columns": 6,
        "rows": 5
       }
      },
      "text/html": [
       "<div>\n",
       "<style scoped>\n",
       "    .dataframe tbody tr th:only-of-type {\n",
       "        vertical-align: middle;\n",
       "    }\n",
       "\n",
       "    .dataframe tbody tr th {\n",
       "        vertical-align: top;\n",
       "    }\n",
       "\n",
       "    .dataframe thead th {\n",
       "        text-align: right;\n",
       "    }\n",
       "</style>\n",
       "<table border=\"1\" class=\"dataframe\">\n",
       "  <thead>\n",
       "    <tr style=\"text-align: right;\">\n",
       "      <th></th>\n",
       "      <th>DRUG_ID</th>\n",
       "      <th>n_samples</th>\n",
       "      <th>r2_mean</th>\n",
       "      <th>rmse_mean</th>\n",
       "      <th>Model</th>\n",
       "      <th>CV</th>\n",
       "    </tr>\n",
       "  </thead>\n",
       "  <tbody>\n",
       "    <tr>\n",
       "      <th>0</th>\n",
       "      <td>1</td>\n",
       "      <td>384</td>\n",
       "      <td>0.063932</td>\n",
       "      <td>1.064624</td>\n",
       "      <td>ElasticNet</td>\n",
       "      <td>cv5</td>\n",
       "    </tr>\n",
       "    <tr>\n",
       "      <th>1</th>\n",
       "      <td>3</td>\n",
       "      <td>350</td>\n",
       "      <td>0.038101</td>\n",
       "      <td>1.938471</td>\n",
       "      <td>ElasticNet</td>\n",
       "      <td>cv5</td>\n",
       "    </tr>\n",
       "    <tr>\n",
       "      <th>2</th>\n",
       "      <td>5</td>\n",
       "      <td>387</td>\n",
       "      <td>0.143765</td>\n",
       "      <td>1.518072</td>\n",
       "      <td>ElasticNet</td>\n",
       "      <td>cv5</td>\n",
       "    </tr>\n",
       "    <tr>\n",
       "      <th>3</th>\n",
       "      <td>6</td>\n",
       "      <td>396</td>\n",
       "      <td>-0.019283</td>\n",
       "      <td>0.885369</td>\n",
       "      <td>ElasticNet</td>\n",
       "      <td>cv5</td>\n",
       "    </tr>\n",
       "    <tr>\n",
       "      <th>4</th>\n",
       "      <td>9</td>\n",
       "      <td>390</td>\n",
       "      <td>0.064954</td>\n",
       "      <td>1.398826</td>\n",
       "      <td>ElasticNet</td>\n",
       "      <td>cv5</td>\n",
       "    </tr>\n",
       "  </tbody>\n",
       "</table>\n",
       "</div>"
      ],
      "text/plain": [
       "   DRUG_ID  n_samples   r2_mean  rmse_mean       Model   CV\n",
       "0        1        384  0.063932   1.064624  ElasticNet  cv5\n",
       "1        3        350  0.038101   1.938471  ElasticNet  cv5\n",
       "2        5        387  0.143765   1.518072  ElasticNet  cv5\n",
       "3        6        396 -0.019283   0.885369  ElasticNet  cv5\n",
       "4        9        390  0.064954   1.398826  ElasticNet  cv5"
      ]
     },
     "execution_count": 8,
     "metadata": {},
     "output_type": "execute_result"
    }
   ],
   "source": [
    "# %%\n",
    "import pandas as pd\n",
    "import seaborn as sns\n",
    "import matplotlib.pyplot as plt\n",
    "import numpy as np\n",
    "from scipy.stats import wilcoxon, ttest_rel\n",
    "\n",
    "CV_PATHS = {\n",
    "    \"ElasticNet\": {\n",
    "        \"cv5\": \"01_simple_baselines/results/elastic_net/voom_30_pcs_tissue_growth.csv\",\n",
    "        \"cv10\": \"01_simple_baselines/results/elastic_net/10_fold_voom_30_pcs_tissue_growth.csv\",\n",
    "    },\n",
    "    \"RandomForest\": {\n",
    "        \"cv5\": \"02_complex_baselines/results/rf/voom_30_pcs_tissue_growth.csv\",\n",
    "        \"cv10\": \"02_complex_baselines/results/rf/10_fold_voom_30_pcs_tissue_growth.csv\",\n",
    "    }\n",
    "}\n",
    "\n",
    "def load_cv(path, model, cvtag):\n",
    "    df = pd.read_csv(path)\n",
    "    df[\"Model\"] = model\n",
    "    df[\"CV\"] = cvtag\n",
    "    # normalize columns\n",
    "    df.rename(columns=lambda c: c.strip().replace(\"²\", \"^2\"), inplace=True)\n",
    "    if \"r2_mean\" not in df.columns and \"r2_global\" in df.columns:\n",
    "        df = df.rename(columns={\"r2_global\": \"r2_mean\", \"rmse\": \"rmse_mean\"})\n",
    "    return df[[\"DRUG_ID\",\"n_samples\",\"r2_mean\",\"rmse_mean\",\"Model\",\"CV\"]]\n",
    "\n",
    "frames = []\n",
    "for model, paths in CV_PATHS.items():\n",
    "    for cvtag, path in paths.items():\n",
    "        frames.append(load_cv(path, model, cvtag))\n",
    "\n",
    "cv_df = pd.concat(frames, ignore_index=True)\n",
    "print(\"✅ combined:\", cv_df.shape)\n",
    "cv_df.head()\n"
   ]
  },
  {
   "cell_type": "code",
   "execution_count": 16,
   "id": "e8dbed65",
   "metadata": {},
   "outputs": [
    {
     "data": {
      "image/png": "[encoded data removed]",
      "text/plain": [
       "<Figure size 1000x500 with 1 Axes>"
      ]
     },
     "metadata": {},
     "output_type": "display_data"
    },
    {
     "data": {
      "image/png": "[encoded data removed]",
      "text/plain": [
       "<Figure size 1000x500 with 1 Axes>"
      ]
     },
     "metadata": {},
     "output_type": "display_data"
    }
   ],
   "source": [
    "# %%\n",
    "pretty_map = {\"ElasticNet\":\"Elastic Net\",\"RandomForest\":\"Random Forest\"}\n",
    "cv_map = {\"cv5\":\"5-fold CV\",\"cv10\":\"10-fold CV\"}\n",
    "\n",
    "df_plot = cv_df.copy()\n",
    "df_plot[\"ModelPretty\"] = df_plot[\"Model\"].map(pretty_map)\n",
    "df_plot[\"CVPretty\"] = df_plot[\"CV\"].map(cv_map)\n",
    "\n",
    "# %%\n",
    "# --- R² ---\n",
    "plt.figure(figsize=(10,5))\n",
    "sns.boxplot(\n",
    "    data=df_plot,\n",
    "    x=\"r2_mean\", y=\"ModelPretty\",\n",
    "    hue=\"CVPretty\", palette=\"muted\",\n",
    "    showfliers=False, dodge=True\n",
    ")\n",
    "plt.title(\"R² Distribution per CV Strategy (per drug)\")\n",
    "plt.xlabel(\"R²\"); plt.ylabel(\"\")\n",
    "plt.grid(axis=\"x\", linestyle=\"--\", alpha=0.6)\n",
    "\n",
    "# move legend outside\n",
    "plt.legend(\n",
    "    title=\"CV Strategy\", frameon=False,\n",
    "    bbox_to_anchor=(1.02, 1), loc=\"upper left\"\n",
    ")\n",
    "plt.tight_layout(); plt.show()\n",
    "\n",
    "# --- RMSE ---\n",
    "plt.figure(figsize=(10,5))\n",
    "sns.boxplot(\n",
    "    data=df_plot,\n",
    "    x=\"rmse_mean\", y=\"ModelPretty\",\n",
    "    hue=\"CVPretty\", palette=\"muted\",\n",
    "    showfliers=False, dodge=True\n",
    ")\n",
    "plt.title(\"RMSE Distribution per CV Strategy (per drug)\")\n",
    "plt.xlabel(\"RMSE\"); plt.ylabel(\"\")\n",
    "plt.grid(axis=\"x\", linestyle=\"--\", alpha=0.6)\n",
    "\n",
    "plt.legend(\n",
    "    title=\"CV Strategy\", frameon=False,\n",
    "    bbox_to_anchor=(1.02, 1), loc=\"upper left\"\n",
    ")\n",
    "plt.tight_layout(); plt.show()\n"
   ]
  },
  {
   "cell_type": "code",
   "execution_count": 10,
   "id": "e06a438a",
   "metadata": {},
   "outputs": [
    {
     "data": {
      "application/vnd.microsoft.datawrangler.viewer.v0+json": {
       "columns": [
        {
         "name": "index",
         "rawType": "int64",
         "type": "integer"
        },
        {
         "name": "Model",
         "rawType": "object",
         "type": "string"
        },
        {
         "name": "Metric",
         "rawType": "object",
         "type": "string"
        },
        {
         "name": "n",
         "rawType": "int64",
         "type": "integer"
        },
        {
         "name": "delta_mean",
         "rawType": "float64",
         "type": "float"
        },
        {
         "name": "delta_median",
         "rawType": "float64",
         "type": "float"
        },
        {
         "name": "win_rate",
         "rawType": "float64",
         "type": "float"
        },
        {
         "name": "wilcoxon_p",
         "rawType": "float64",
         "type": "float"
        },
        {
         "name": "ttest_p",
         "rawType": "float64",
         "type": "float"
        }
       ],
       "ref": "7d56c647-14e6-4a06-a1bd-7090742aa7e8",
       "rows": [
        [
         "0",
         "ElasticNet",
         "R²",
         "692",
         "0.020949997877552546",
         "0.017586852079537252",
         "0.9176300578034682",
         "1.8570149553157535e-101",
         "1.2044057860332855e-77"
        ],
        [
         "1",
         "ElasticNet",
         "RMSE (lower better)",
         "692",
         "0.007725265742885912",
         "0.006353456081470088",
         "0.7817919075144508",
         "4.6101488874437365e-57",
         "5.860092796655274e-42"
        ],
        [
         "2",
         "RandomForest",
         "R²",
         "692",
         "0.011689209779799313",
         "0.0098306974552968",
         "0.7673410404624278",
         "1.617852525960693e-60",
         "1.955902379345106e-49"
        ],
        [
         "3",
         "RandomForest",
         "RMSE (lower better)",
         "692",
         "0.0008728594374002739",
         "0.0011934694803341639",
         "0.5606936416184971",
         "0.050393988530074235",
         "0.03182044566208776"
        ]
       ],
       "shape": {
        "columns": 8,
        "rows": 4
       }
      },
      "text/html": [
       "<div>\n",
       "<style scoped>\n",
       "    .dataframe tbody tr th:only-of-type {\n",
       "        vertical-align: middle;\n",
       "    }\n",
       "\n",
       "    .dataframe tbody tr th {\n",
       "        vertical-align: top;\n",
       "    }\n",
       "\n",
       "    .dataframe thead th {\n",
       "        text-align: right;\n",
       "    }\n",
       "</style>\n",
       "<table border=\"1\" class=\"dataframe\">\n",
       "  <thead>\n",
       "    <tr style=\"text-align: right;\">\n",
       "      <th></th>\n",
       "      <th>Model</th>\n",
       "      <th>Metric</th>\n",
       "      <th>n</th>\n",
       "      <th>delta_mean</th>\n",
       "      <th>delta_median</th>\n",
       "      <th>win_rate</th>\n",
       "      <th>wilcoxon_p</th>\n",
       "      <th>ttest_p</th>\n",
       "    </tr>\n",
       "  </thead>\n",
       "  <tbody>\n",
       "    <tr>\n",
       "      <th>0</th>\n",
       "      <td>ElasticNet</td>\n",
       "      <td>R²</td>\n",
       "      <td>692</td>\n",
       "      <td>0.020950</td>\n",
       "      <td>0.017587</td>\n",
       "      <td>0.917630</td>\n",
       "      <td>1.857015e-101</td>\n",
       "      <td>1.204406e-77</td>\n",
       "    </tr>\n",
       "    <tr>\n",
       "      <th>1</th>\n",
       "      <td>ElasticNet</td>\n",
       "      <td>RMSE (lower better)</td>\n",
       "      <td>692</td>\n",
       "      <td>0.007725</td>\n",
       "      <td>0.006353</td>\n",
       "      <td>0.781792</td>\n",
       "      <td>4.610149e-57</td>\n",
       "      <td>5.860093e-42</td>\n",
       "    </tr>\n",
       "    <tr>\n",
       "      <th>2</th>\n",
       "      <td>RandomForest</td>\n",
       "      <td>R²</td>\n",
       "      <td>692</td>\n",
       "      <td>0.011689</td>\n",
       "      <td>0.009831</td>\n",
       "      <td>0.767341</td>\n",
       "      <td>1.617853e-60</td>\n",
       "      <td>1.955902e-49</td>\n",
       "    </tr>\n",
       "    <tr>\n",
       "      <th>3</th>\n",
       "      <td>RandomForest</td>\n",
       "      <td>RMSE (lower better)</td>\n",
       "      <td>692</td>\n",
       "      <td>0.000873</td>\n",
       "      <td>0.001193</td>\n",
       "      <td>0.560694</td>\n",
       "      <td>5.039399e-02</td>\n",
       "      <td>3.182045e-02</td>\n",
       "    </tr>\n",
       "  </tbody>\n",
       "</table>\n",
       "</div>"
      ],
      "text/plain": [
       "          Model               Metric    n  delta_mean  delta_median  win_rate  \\\n",
       "0    ElasticNet                   R²  692    0.020950      0.017587  0.917630   \n",
       "1    ElasticNet  RMSE (lower better)  692    0.007725      0.006353  0.781792   \n",
       "2  RandomForest                   R²  692    0.011689      0.009831  0.767341   \n",
       "3  RandomForest  RMSE (lower better)  692    0.000873      0.001193  0.560694   \n",
       "\n",
       "      wilcoxon_p       ttest_p  \n",
       "0  1.857015e-101  1.204406e-77  \n",
       "1   4.610149e-57  5.860093e-42  \n",
       "2   1.617853e-60  1.955902e-49  \n",
       "3   5.039399e-02  3.182045e-02  "
      ]
     },
     "metadata": {},
     "output_type": "display_data"
    }
   ],
   "source": [
    "# %%\n",
    "def paired_cv_tests(df_model, metric=\"r2_mean\"):\n",
    "    wide = df_model.pivot_table(index=\"DRUG_ID\", columns=\"CV\", values=metric, aggfunc=\"mean\").dropna()\n",
    "    if wide.empty: \n",
    "        return None\n",
    "    x, y = wide[\"cv10\"], wide[\"cv5\"]\n",
    "    d = x - y if metric==\"r2_mean\" else y - x   # positive = 10-fold better\n",
    "    n = len(d)\n",
    "    return {\n",
    "        \"n\": n,\n",
    "        \"delta_mean\": d.mean(),\n",
    "        \"delta_median\": d.median(),\n",
    "        \"win_rate\": (d > 0).mean(),\n",
    "        \"wilcoxon_p\": wilcoxon(d, zero_method=\"pratt\").pvalue if n>=5 else np.nan,\n",
    "        \"ttest_p\": ttest_rel(x, y, nan_policy=\"omit\").pvalue if n>=5 else np.nan\n",
    "    }\n",
    "\n",
    "rows = []\n",
    "for model in [\"ElasticNet\",\"RandomForest\"]:\n",
    "    df_m = cv_df[cv_df[\"Model\"]==model]\n",
    "    out_r2 = paired_cv_tests(df_m, \"r2_mean\")\n",
    "    out_rmse = paired_cv_tests(df_m, \"rmse_mean\")\n",
    "    if out_r2: rows.append({\"Model\":model,\"Metric\":\"R²\",**out_r2})\n",
    "    if out_rmse: rows.append({\"Model\":model,\"Metric\":\"RMSE (lower better)\",**out_rmse})\n",
    "\n",
    "cv_summary = pd.DataFrame(rows)\n",
    "display(cv_summary)\n"
   ]
  },
  {
   "cell_type": "code",
   "execution_count": 11,
   "id": "5d53c9e4",
   "metadata": {},
   "outputs": [
    {
     "data": {
      "application/vnd.microsoft.datawrangler.viewer.v0+json": {
       "columns": [
        {
         "name": "index",
         "rawType": "int64",
         "type": "integer"
        },
        {
         "name": "metric",
         "rawType": "object",
         "type": "string"
        },
        {
         "name": "ModelPretty",
         "rawType": "object",
         "type": "string"
        },
        {
         "name": "CVPretty",
         "rawType": "object",
         "type": "string"
        },
        {
         "name": "N",
         "rawType": "int64",
         "type": "integer"
        },
        {
         "name": "Mean",
         "rawType": "float64",
         "type": "float"
        },
        {
         "name": "Std",
         "rawType": "float64",
         "type": "float"
        },
        {
         "name": "95% CI",
         "rawType": "float64",
         "type": "float"
        }
       ],
       "ref": "285bd6cc-e74c-4a86-8890-fd20b4e65a51",
       "rows": [
        [
         "0",
         "r2_mean",
         "Elastic Net",
         "10-fold CV",
         "692",
         "0.24",
         "0.11",
         "0.0082"
        ],
        [
         "1",
         "r2_mean",
         "Elastic Net",
         "5-fold CV",
         "697",
         "0.2179",
         "0.1155",
         "0.0086"
        ],
        [
         "2",
         "r2_mean",
         "Random Forest",
         "10-fold CV",
         "692",
         "0.2267",
         "0.1164",
         "0.0087"
        ],
        [
         "3",
         "r2_mean",
         "Random Forest",
         "5-fold CV",
         "697",
         "0.2137",
         "0.1206",
         "0.009"
        ],
        [
         "4",
         "rmse_mean",
         "Elastic Net",
         "10-fold CV",
         "692",
         "1.1612",
         "0.3496",
         "0.026"
        ],
        [
         "5",
         "rmse_mean",
         "Elastic Net",
         "5-fold CV",
         "697",
         "1.1693",
         "0.3506",
         "0.026"
        ],
        [
         "6",
         "rmse_mean",
         "Random Forest",
         "10-fold CV",
         "692",
         "1.1698",
         "0.3488",
         "0.026"
        ],
        [
         "7",
         "rmse_mean",
         "Random Forest",
         "5-fold CV",
         "697",
         "1.1712",
         "0.3488",
         "0.0259"
        ]
       ],
       "shape": {
        "columns": 7,
        "rows": 8
       }
      },
      "text/html": [
       "<div>\n",
       "<style scoped>\n",
       "    .dataframe tbody tr th:only-of-type {\n",
       "        vertical-align: middle;\n",
       "    }\n",
       "\n",
       "    .dataframe tbody tr th {\n",
       "        vertical-align: top;\n",
       "    }\n",
       "\n",
       "    .dataframe thead th {\n",
       "        text-align: right;\n",
       "    }\n",
       "</style>\n",
       "<table border=\"1\" class=\"dataframe\">\n",
       "  <thead>\n",
       "    <tr style=\"text-align: right;\">\n",
       "      <th></th>\n",
       "      <th>metric</th>\n",
       "      <th>ModelPretty</th>\n",
       "      <th>CVPretty</th>\n",
       "      <th>N</th>\n",
       "      <th>Mean</th>\n",
       "      <th>Std</th>\n",
       "      <th>95% CI</th>\n",
       "    </tr>\n",
       "  </thead>\n",
       "  <tbody>\n",
       "    <tr>\n",
       "      <th>0</th>\n",
       "      <td>r2_mean</td>\n",
       "      <td>Elastic Net</td>\n",
       "      <td>10-fold CV</td>\n",
       "      <td>692</td>\n",
       "      <td>0.2400</td>\n",
       "      <td>0.1100</td>\n",
       "      <td>0.0082</td>\n",
       "    </tr>\n",
       "    <tr>\n",
       "      <th>1</th>\n",
       "      <td>r2_mean</td>\n",
       "      <td>Elastic Net</td>\n",
       "      <td>5-fold CV</td>\n",
       "      <td>697</td>\n",
       "      <td>0.2179</td>\n",
       "      <td>0.1155</td>\n",
       "      <td>0.0086</td>\n",
       "    </tr>\n",
       "    <tr>\n",
       "      <th>2</th>\n",
       "      <td>r2_mean</td>\n",
       "      <td>Random Forest</td>\n",
       "      <td>10-fold CV</td>\n",
       "      <td>692</td>\n",
       "      <td>0.2267</td>\n",
       "      <td>0.1164</td>\n",
       "      <td>0.0087</td>\n",
       "    </tr>\n",
       "    <tr>\n",
       "      <th>3</th>\n",
       "      <td>r2_mean</td>\n",
       "      <td>Random Forest</td>\n",
       "      <td>5-fold CV</td>\n",
       "      <td>697</td>\n",
       "      <td>0.2137</td>\n",
       "      <td>0.1206</td>\n",
       "      <td>0.0090</td>\n",
       "    </tr>\n",
       "    <tr>\n",
       "      <th>4</th>\n",
       "      <td>rmse_mean</td>\n",
       "      <td>Elastic Net</td>\n",
       "      <td>10-fold CV</td>\n",
       "      <td>692</td>\n",
       "      <td>1.1612</td>\n",
       "      <td>0.3496</td>\n",
       "      <td>0.0260</td>\n",
       "    </tr>\n",
       "    <tr>\n",
       "      <th>5</th>\n",
       "      <td>rmse_mean</td>\n",
       "      <td>Elastic Net</td>\n",
       "      <td>5-fold CV</td>\n",
       "      <td>697</td>\n",
       "      <td>1.1693</td>\n",
       "      <td>0.3506</td>\n",
       "      <td>0.0260</td>\n",
       "    </tr>\n",
       "    <tr>\n",
       "      <th>6</th>\n",
       "      <td>rmse_mean</td>\n",
       "      <td>Random Forest</td>\n",
       "      <td>10-fold CV</td>\n",
       "      <td>692</td>\n",
       "      <td>1.1698</td>\n",
       "      <td>0.3488</td>\n",
       "      <td>0.0260</td>\n",
       "    </tr>\n",
       "    <tr>\n",
       "      <th>7</th>\n",
       "      <td>rmse_mean</td>\n",
       "      <td>Random Forest</td>\n",
       "      <td>5-fold CV</td>\n",
       "      <td>697</td>\n",
       "      <td>1.1712</td>\n",
       "      <td>0.3488</td>\n",
       "      <td>0.0259</td>\n",
       "    </tr>\n",
       "  </tbody>\n",
       "</table>\n",
       "</div>"
      ],
      "text/plain": [
       "      metric    ModelPretty    CVPretty    N    Mean     Std  95% CI\n",
       "0    r2_mean    Elastic Net  10-fold CV  692  0.2400  0.1100  0.0082\n",
       "1    r2_mean    Elastic Net   5-fold CV  697  0.2179  0.1155  0.0086\n",
       "2    r2_mean  Random Forest  10-fold CV  692  0.2267  0.1164  0.0087\n",
       "3    r2_mean  Random Forest   5-fold CV  697  0.2137  0.1206  0.0090\n",
       "4  rmse_mean    Elastic Net  10-fold CV  692  1.1612  0.3496  0.0260\n",
       "5  rmse_mean    Elastic Net   5-fold CV  697  1.1693  0.3506  0.0260\n",
       "6  rmse_mean  Random Forest  10-fold CV  692  1.1698  0.3488  0.0260\n",
       "7  rmse_mean  Random Forest   5-fold CV  697  1.1712  0.3488  0.0259"
      ]
     },
     "metadata": {},
     "output_type": "display_data"
    }
   ],
   "source": [
    "# %%\n",
    "def agg_stats(df, metric):\n",
    "    g = (\n",
    "        df.groupby([\"ModelPretty\",\"CVPretty\"], as_index=False)[metric]\n",
    "          .agg(mean=\"mean\", std=\"std\", n=\"count\")\n",
    "    )\n",
    "    g[\"se\"] = g[\"std\"] / np.sqrt(g[\"n\"])\n",
    "    g[\"ci95\"] = 1.96 * g[\"se\"]\n",
    "    g[\"metric\"] = metric\n",
    "    return g\n",
    "\n",
    "stats_r2 = agg_stats(df_plot, \"r2_mean\")\n",
    "stats_rmse = agg_stats(df_plot, \"rmse_mean\")\n",
    "\n",
    "summary_table = pd.concat([stats_r2, stats_rmse], ignore_index=True)\n",
    "summary_table = summary_table.rename(columns={\n",
    "    \"mean\":\"Mean\", \"std\":\"Std\", \"n\":\"N\", \"ci95\":\"95% CI\"\n",
    "})\n",
    "\n",
    "display(summary_table[[\"metric\",\"ModelPretty\",\"CVPretty\",\"N\",\"Mean\",\"Std\",\"95% CI\"]].round(4))\n"
   ]
  }
 ],
 "metadata": {
  "kernelspec": {
   "display_name": "tese-env",
   "language": "python",
   "name": "python3"
  },
  "language_info": {
   "codemirror_mode": {
    "name": "ipython",
    "version": 3
   },
   "file_extension": ".py",
   "mimetype": "text/x-python",
   "name": "python",
   "nbconvert_exporter": "python",
   "pygments_lexer": "ipython3",
   "version": "3.10.16"
  }
 },
 "nbformat": 4,
 "nbformat_minor": 5
}
