{
 "cells": [
  {
   "cell_type": "code",
   "execution_count": 52,
   "id": "62f31d13",
   "metadata": {},
   "outputs": [
    {
     "name": "stdout",
     "output_type": "stream",
     "text": [
      "✅ combined: (2788, 6)\n"
     ]
    },
    {
     "data": {
      "application/vnd.microsoft.datawrangler.viewer.v0+json": {
       "columns": [
        {
         "name": "index",
         "rawType": "int64",
         "type": "integer"
        },
        {
         "name": "DRUG_ID",
         "rawType": "int64",
         "type": "integer"
        },
        {
         "name": "n_samples",
         "rawType": "int64",
         "type": "integer"
        },
        {
         "name": "r2_mean",
         "rawType": "float64",
         "type": "float"
        },
        {
         "name": "rmse_mean",
         "rawType": "float64",
         "type": "float"
        },
        {
         "name": "Model",
         "rawType": "object",
         "type": "string"
        },
        {
         "name": "Set",
         "rawType": "object",
         "type": "string"
        }
       ],
       "ref": "32544b80-38a8-40ea-9811-77642ce4b7d6",
       "rows": [
        [
         "0",
         "1",
         "391",
         "0.0313593020963153",
         "1.0696945791561627",
         "ElasticNet",
         "base"
        ],
        [
         "1",
         "3",
         "356",
         "0.0338485243229478",
         "1.9587205772434355",
         "ElasticNet",
         "base"
        ],
        [
         "2",
         "5",
         "394",
         "0.1373132333382825",
         "1.5019349947485832",
         "ElasticNet",
         "base"
        ],
        [
         "3",
         "6",
         "403",
         "-0.0035881521495697",
         "0.8841271677756591",
         "ElasticNet",
         "base"
        ],
        [
         "4",
         "9",
         "396",
         "0.0730313167521281",
         "1.406064767322563",
         "ElasticNet",
         "base"
        ]
       ],
       "shape": {
        "columns": 6,
        "rows": 5
       }
      },
      "text/html": [
       "<div>\n",
       "<style scoped>\n",
       "    .dataframe tbody tr th:only-of-type {\n",
       "        vertical-align: middle;\n",
       "    }\n",
       "\n",
       "    .dataframe tbody tr th {\n",
       "        vertical-align: top;\n",
       "    }\n",
       "\n",
       "    .dataframe thead th {\n",
       "        text-align: right;\n",
       "    }\n",
       "</style>\n",
       "<table border=\"1\" class=\"dataframe\">\n",
       "  <thead>\n",
       "    <tr style=\"text-align: right;\">\n",
       "      <th></th>\n",
       "      <th>DRUG_ID</th>\n",
       "      <th>n_samples</th>\n",
       "      <th>r2_mean</th>\n",
       "      <th>rmse_mean</th>\n",
       "      <th>Model</th>\n",
       "      <th>Set</th>\n",
       "    </tr>\n",
       "  </thead>\n",
       "  <tbody>\n",
       "    <tr>\n",
       "      <th>0</th>\n",
       "      <td>1</td>\n",
       "      <td>391</td>\n",
       "      <td>0.031359</td>\n",
       "      <td>1.069695</td>\n",
       "      <td>ElasticNet</td>\n",
       "      <td>base</td>\n",
       "    </tr>\n",
       "    <tr>\n",
       "      <th>1</th>\n",
       "      <td>3</td>\n",
       "      <td>356</td>\n",
       "      <td>0.033849</td>\n",
       "      <td>1.958721</td>\n",
       "      <td>ElasticNet</td>\n",
       "      <td>base</td>\n",
       "    </tr>\n",
       "    <tr>\n",
       "      <th>2</th>\n",
       "      <td>5</td>\n",
       "      <td>394</td>\n",
       "      <td>0.137313</td>\n",
       "      <td>1.501935</td>\n",
       "      <td>ElasticNet</td>\n",
       "      <td>base</td>\n",
       "    </tr>\n",
       "    <tr>\n",
       "      <th>3</th>\n",
       "      <td>6</td>\n",
       "      <td>403</td>\n",
       "      <td>-0.003588</td>\n",
       "      <td>0.884127</td>\n",
       "      <td>ElasticNet</td>\n",
       "      <td>base</td>\n",
       "    </tr>\n",
       "    <tr>\n",
       "      <th>4</th>\n",
       "      <td>9</td>\n",
       "      <td>396</td>\n",
       "      <td>0.073031</td>\n",
       "      <td>1.406065</td>\n",
       "      <td>ElasticNet</td>\n",
       "      <td>base</td>\n",
       "    </tr>\n",
       "  </tbody>\n",
       "</table>\n",
       "</div>"
      ],
      "text/plain": [
       "   DRUG_ID  n_samples   r2_mean  rmse_mean       Model   Set\n",
       "0        1        391  0.031359   1.069695  ElasticNet  base\n",
       "1        3        356  0.033849   1.958721  ElasticNet  base\n",
       "2        5        394  0.137313   1.501935  ElasticNet  base\n",
       "3        6        403 -0.003588   0.884127  ElasticNet  base\n",
       "4        9        396  0.073031   1.406065  ElasticNet  base"
      ]
     },
     "execution_count": 52,
     "metadata": {},
     "output_type": "execute_result"
    }
   ],
   "source": [
    "# %%\n",
    "import pandas as pd\n",
    "import seaborn as sns\n",
    "import matplotlib.pyplot as plt\n",
    "import numpy as np\n",
    "from scipy.stats import wilcoxon, ttest_rel\n",
    "\n",
    "NUM_PCS = 30\n",
    "PATHS = {\n",
    "    \"ElasticNet\": {\n",
    "        \"base\": f\"01_simple_baselines/results/elastic_net/voom_{NUM_PCS}_pcs.csv\",\n",
    "        \"feat\": f\"01_simple_baselines/results/elastic_net/voom_{NUM_PCS}_pcs_tissue_growth.csv\",\n",
    "    },\n",
    "    \"RandomForest\": {\n",
    "        \"base\": f\"02_complex_baselines/results/rf/voom_{NUM_PCS}_pcs.csv\",\n",
    "        \"feat\": f\"02_complex_baselines/results/rf/voom_{NUM_PCS}_pcs_tissue_growth.csv\",\n",
    "    },\n",
    "}\n",
    "\n",
    "def load_set(path, model, set_tag):\n",
    "    df = pd.read_csv(path)\n",
    "    df[\"Model\"] = model\n",
    "    df[\"Set\"] = set_tag  # base / feat\n",
    "    # normalize columns\n",
    "    df.rename(columns=lambda c: c.strip().replace(\"²\", \"^2\"), inplace=True)\n",
    "    if \"r2_mean\" not in df.columns and \"r2_global\" in df.columns:\n",
    "        df = df.rename(columns={\"r2_global\": \"r2_mean\", \"rmse\": \"rmse_mean\"})\n",
    "    # keep a tidy subset\n",
    "    keep = [\"DRUG_ID\", \"n_samples\", \"r2_mean\", \"rmse_mean\", \"Model\", \"Set\"]\n",
    "    missing = [c for c in keep if c not in df.columns]\n",
    "    if missing:\n",
    "        raise ValueError(f\"Missing expected columns in {path}: {missing}\")\n",
    "    return df[keep]\n",
    "\n",
    "frames = []\n",
    "for model, paths in PATHS.items():\n",
    "    for set_tag, path in paths.items():\n",
    "        frames.append(load_set(path, model, set_tag))\n",
    "\n",
    "feat_df = pd.concat(frames, ignore_index=True)\n",
    "print(\"✅ combined:\", feat_df.shape)\n",
    "feat_df.head()\n"
   ]
  },
  {
   "cell_type": "code",
   "execution_count": 53,
   "id": "d2a85128",
   "metadata": {},
   "outputs": [],
   "source": [
    "# %%\n",
    "pretty_map = {\"ElasticNet\": \"Elastic Net\", \"RandomForest\": \"Random Forest\"}\n",
    "set_map = {\"base\": f\"Baseline ({NUM_PCS} PCs)\", \"feat\": \"+ Tissue & Growth\"}\n",
    "\n",
    "df_plot = feat_df.copy()\n",
    "df_plot[\"ModelPretty\"] = df_plot[\"Model\"].map(pretty_map)\n",
    "df_plot[\"SetPretty\"] = df_plot[\"Set\"].map(set_map)\n"
   ]
  },
  {
   "cell_type": "code",
   "execution_count": 61,
   "id": "a8542547",
   "metadata": {},
   "outputs": [
    {
     "data": {
      "image/png": "[encoded data removed]",
      "text/plain": [
       "<Figure size 960x432 with 1 Axes>"
      ]
     },
     "metadata": {},
     "output_type": "display_data"
    },
    {
     "name": "stderr",
     "output_type": "stream",
     "text": [
      "/tmp/ipykernel_2203172/1774827040.py:55: UserWarning: set_ticklabels() should only be used with a fixed number of ticks, i.e. after set_ticks() or using a FixedLocator.\n",
      "  ax.set_yticklabels([short_map.get(t.get_text(), t.get_text()) for t in ax.get_yticklabels()])\n"
     ]
    },
    {
     "data": {
      "image/png": "[encoded data removed]",
      "text/plain": [
       "<Figure size 960x432 with 1 Axes>"
      ]
     },
     "metadata": {},
     "output_type": "display_data"
    }
   ],
   "source": [
    "# --- R² ---\n",
    "fig, ax = plt.subplots(figsize=(8, 3.6))  # a bit shorter vertically\n",
    "sns.boxplot(\n",
    "    data=df_plot, x=\"r2_mean\", y=\"ModelPretty\",\n",
    "    hue=\"SetPretty\", palette=\"muted\",\n",
    "    showfliers=False, dodge=True, ax=ax,\n",
    "    boxprops=dict(linewidth=0.8),\n",
    "    whiskerprops=dict(linewidth=0.8),\n",
    "    capprops=dict(linewidth=0.8),\n",
    "    medianprops=dict(linewidth=1.0),   # keep median slightly clearer\n",
    ")\n",
    "\n",
    "# labels/title\n",
    "ax.set_title(\"R² Distribution per Feature Set (per drug)\", fontsize=12)\n",
    "ax.set_xlabel(\"R²\", fontsize=10, labelpad=1)  # smaller + closer\n",
    "plt.subplots_adjust(bottom=0.07)              # shrink bottom margin a bit more\n",
    "ax.set_ylabel(\"\")\n",
    "\n",
    "# slimmer legend (Option A)\n",
    "leg = ax.legend(\n",
    "    title=\"Feature Set\", frameon=False, loc=\"upper left\",\n",
    "    bbox_to_anchor=(1.01, 1.0), fontsize=9, title_fontsize=10,\n",
    "    handlelength=0.9, borderpad=0.2, labelspacing=0.25\n",
    ")\n",
    "\n",
    "# thin spines + ticks\n",
    "for sp in ax.spines.values():\n",
    "    sp.set_linewidth(0.8)\n",
    "ax.tick_params(axis=\"both\", labelsize=9, width=0.8, length=3, pad=2)\n",
    "\n",
    "# lighter grid\n",
    "ax.grid(axis=\"x\", linestyle=\"--\", alpha=0.5, linewidth=0.5)\n",
    "\n",
    "# tighten the bottom margin\n",
    "plt.subplots_adjust(left=0.14, right=0.98, top=0.90, bottom=0.12)\n",
    "\n",
    "plt.show()\n",
    "\n",
    "\n",
    "\n",
    "# %% RMSE\n",
    "fig, ax = plt.subplots(figsize=(8, 3.6))\n",
    "sns.boxplot(\n",
    "    data=df_plot, x=\"rmse_mean\", y=\"ModelPretty\",\n",
    "    hue=\"SetPretty\", palette=\"muted\",\n",
    "    showfliers=False, dodge=True, ax=ax,\n",
    "    boxprops=dict(linewidth=0.8),\n",
    "    whiskerprops=dict(linewidth=0.8),\n",
    "    capprops=dict(linewidth=0.8),\n",
    "    medianprops=dict(linewidth=1.0),\n",
    ")\n",
    "\n",
    "# (optional) shorten y labels if you haven't already\n",
    "short_map = {\"Elastic Net\": \"ElasticNet\", \"Random Forest\": \"RandomForest\"}\n",
    "ax.set_yticklabels([short_map.get(t.get_text(), t.get_text()) for t in ax.get_yticklabels()])\n",
    "ax.tick_params(axis=\"y\", labelsize=10, pad=3)\n",
    "\n",
    "# title + label on TOP (set to 'bottom' and tweak bottom= if you prefer)\n",
    "ax.set_title(\"RMSE Distribution per Feature Set (per drug)\", fontsize=12)\n",
    "ax.xaxis.set_label_position('top')  # <- change to 'bottom' to keep it below\n",
    "ax.set_xlabel(\"RMSE\", fontsize=10, labelpad=2)\n",
    "ax.set_ylabel(\"\")\n",
    "\n",
    "# slim legend\n",
    "ax.legend(\n",
    "    title=\"Feature Set\", frameon=False, loc=\"upper left\",\n",
    "    bbox_to_anchor=(1.01, 1.0), fontsize=9, title_fontsize=10,\n",
    "    handlelength=0.9, borderpad=0.2, labelspacing=0.25\n",
    ")\n",
    "\n",
    "# thin spines/ticks + lighter grid\n",
    "for sp in ax.spines.values():\n",
    "    sp.set_linewidth(0.8)\n",
    "ax.tick_params(axis=\"both\", labelsize=9, width=0.8, length=3, pad=2)\n",
    "ax.grid(axis=\"x\", linestyle=\"--\", alpha=0.5, linewidth=0.5)\n",
    "\n",
    "# tight layout (shrink bottom; adjust to taste)\n",
    "plt.subplots_adjust(left=0.14, right=0.98, top=0.88, bottom=0.08)\n",
    "plt.show()\n"
   ]
  },
  {
   "cell_type": "code",
   "execution_count": 55,
   "id": "665e5a76",
   "metadata": {},
   "outputs": [
    {
     "data": {
      "application/vnd.microsoft.datawrangler.viewer.v0+json": {
       "columns": [
        {
         "name": "index",
         "rawType": "int64",
         "type": "integer"
        },
        {
         "name": "Model",
         "rawType": "object",
         "type": "string"
        },
        {
         "name": "Metric",
         "rawType": "object",
         "type": "string"
        },
        {
         "name": "n",
         "rawType": "int64",
         "type": "integer"
        },
        {
         "name": "delta_mean",
         "rawType": "float64",
         "type": "float"
        },
        {
         "name": "delta_median",
         "rawType": "float64",
         "type": "float"
        },
        {
         "name": "win_rate",
         "rawType": "float64",
         "type": "float"
        },
        {
         "name": "wilcoxon_p",
         "rawType": "float64",
         "type": "float"
        },
        {
         "name": "ttest_p",
         "rawType": "float64",
         "type": "float"
        }
       ],
       "ref": "c5c29975-ffe8-4802-8781-17011c603895",
       "rows": [
        [
         "0",
         "ElasticNet",
         "R² (FEAT - BASE)",
         "697",
         "0.022554728960561057",
         "0.013129015234222094",
         "0.7302725968436155",
         "1.9820853735058837e-46",
         "1.7330188177711993e-45"
        ],
        [
         "1",
         "ElasticNet",
         "RMSE (BASE - FEAT)",
         "697",
         "0.020778055534544794",
         "0.009587237876858334",
         "0.733142037302726",
         "1.0195609316636658e-53",
         "1.304720991164627e-50"
        ],
        [
         "2",
         "RandomForest",
         "R² (FEAT - BASE)",
         "697",
         "0.04033025710492676",
         "0.03425629169799049",
         "0.8622668579626973",
         "1.339150649999287e-88",
         "3.3015855658005314e-95"
        ],
        [
         "3",
         "RandomForest",
         "RMSE (BASE - FEAT)",
         "697",
         "0.03351588929846899",
         "0.022324433977910507",
         "0.8780487804878049",
         "5.8022103563783695e-92",
         "5.532314508845799e-79"
        ]
       ],
       "shape": {
        "columns": 8,
        "rows": 4
       }
      },
      "text/html": [
       "<div>\n",
       "<style scoped>\n",
       "    .dataframe tbody tr th:only-of-type {\n",
       "        vertical-align: middle;\n",
       "    }\n",
       "\n",
       "    .dataframe tbody tr th {\n",
       "        vertical-align: top;\n",
       "    }\n",
       "\n",
       "    .dataframe thead th {\n",
       "        text-align: right;\n",
       "    }\n",
       "</style>\n",
       "<table border=\"1\" class=\"dataframe\">\n",
       "  <thead>\n",
       "    <tr style=\"text-align: right;\">\n",
       "      <th></th>\n",
       "      <th>Model</th>\n",
       "      <th>Metric</th>\n",
       "      <th>n</th>\n",
       "      <th>delta_mean</th>\n",
       "      <th>delta_median</th>\n",
       "      <th>win_rate</th>\n",
       "      <th>wilcoxon_p</th>\n",
       "      <th>ttest_p</th>\n",
       "    </tr>\n",
       "  </thead>\n",
       "  <tbody>\n",
       "    <tr>\n",
       "      <th>0</th>\n",
       "      <td>ElasticNet</td>\n",
       "      <td>R² (FEAT - BASE)</td>\n",
       "      <td>697</td>\n",
       "      <td>0.022555</td>\n",
       "      <td>0.013129</td>\n",
       "      <td>0.730273</td>\n",
       "      <td>1.982085e-46</td>\n",
       "      <td>1.733019e-45</td>\n",
       "    </tr>\n",
       "    <tr>\n",
       "      <th>1</th>\n",
       "      <td>ElasticNet</td>\n",
       "      <td>RMSE (BASE - FEAT)</td>\n",
       "      <td>697</td>\n",
       "      <td>0.020778</td>\n",
       "      <td>0.009587</td>\n",
       "      <td>0.733142</td>\n",
       "      <td>1.019561e-53</td>\n",
       "      <td>1.304721e-50</td>\n",
       "    </tr>\n",
       "    <tr>\n",
       "      <th>2</th>\n",
       "      <td>RandomForest</td>\n",
       "      <td>R² (FEAT - BASE)</td>\n",
       "      <td>697</td>\n",
       "      <td>0.040330</td>\n",
       "      <td>0.034256</td>\n",
       "      <td>0.862267</td>\n",
       "      <td>1.339151e-88</td>\n",
       "      <td>3.301586e-95</td>\n",
       "    </tr>\n",
       "    <tr>\n",
       "      <th>3</th>\n",
       "      <td>RandomForest</td>\n",
       "      <td>RMSE (BASE - FEAT)</td>\n",
       "      <td>697</td>\n",
       "      <td>0.033516</td>\n",
       "      <td>0.022324</td>\n",
       "      <td>0.878049</td>\n",
       "      <td>5.802210e-92</td>\n",
       "      <td>5.532315e-79</td>\n",
       "    </tr>\n",
       "  </tbody>\n",
       "</table>\n",
       "</div>"
      ],
      "text/plain": [
       "          Model              Metric    n  delta_mean  delta_median  win_rate  \\\n",
       "0    ElasticNet    R² (FEAT - BASE)  697    0.022555      0.013129  0.730273   \n",
       "1    ElasticNet  RMSE (BASE - FEAT)  697    0.020778      0.009587  0.733142   \n",
       "2  RandomForest    R² (FEAT - BASE)  697    0.040330      0.034256  0.862267   \n",
       "3  RandomForest  RMSE (BASE - FEAT)  697    0.033516      0.022324  0.878049   \n",
       "\n",
       "     wilcoxon_p       ttest_p  \n",
       "0  1.982085e-46  1.733019e-45  \n",
       "1  1.019561e-53  1.304721e-50  \n",
       "2  1.339151e-88  3.301586e-95  \n",
       "3  5.802210e-92  5.532315e-79  "
      ]
     },
     "metadata": {},
     "output_type": "display_data"
    }
   ],
   "source": [
    "# %% paired tests: feat vs base within each model (per DRUG_ID)\n",
    "def paired_set_tests(df_model, metric=\"r2_mean\"):\n",
    "    wide = df_model.pivot_table(index=\"DRUG_ID\", columns=\"Set\", values=metric, aggfunc=\"mean\").dropna()\n",
    "    if wide.empty:\n",
    "        return None\n",
    "    # positive delta means FEAT is better\n",
    "    if metric == \"r2_mean\":\n",
    "        d = wide[\"feat\"] - wide[\"base\"]\n",
    "    else:  # rmse: lower is better\n",
    "        d = wide[\"base\"] - wide[\"feat\"]\n",
    "    n = len(d)\n",
    "    return {\n",
    "        \"n\": n,\n",
    "        \"delta_mean\": d.mean(),\n",
    "        \"delta_median\": d.median(),\n",
    "        \"win_rate\": (d > 0).mean(),  # fraction of drugs where FEAT wins\n",
    "        \"wilcoxon_p\": wilcoxon(d, zero_method=\"pratt\").pvalue if n >= 5 else np.nan,\n",
    "        \"ttest_p\": ttest_rel(wide[\"feat\"], wide[\"base\"], nan_policy=\"omit\").pvalue if n >= 5 else np.nan\n",
    "    }\n",
    "\n",
    "rows = []\n",
    "for model in [\"ElasticNet\", \"RandomForest\"]:\n",
    "    df_m = feat_df[feat_df[\"Model\"] == model]\n",
    "    out_r2 = paired_set_tests(df_m, \"r2_mean\")\n",
    "    out_rmse = paired_set_tests(df_m, \"rmse_mean\")\n",
    "    if out_r2: rows.append({\"Model\": model, \"Metric\": \"R² (FEAT - BASE)\", **out_r2})\n",
    "    if out_rmse: rows.append({\"Model\": model, \"Metric\": \"RMSE (BASE - FEAT)\", **out_rmse})\n",
    "\n",
    "set_summary = pd.DataFrame(rows)\n",
    "display(set_summary)\n"
   ]
  },
  {
   "cell_type": "code",
   "execution_count": 56,
   "id": "d820e795",
   "metadata": {},
   "outputs": [
    {
     "data": {
      "application/vnd.microsoft.datawrangler.viewer.v0+json": {
       "columns": [
        {
         "name": "index",
         "rawType": "int64",
         "type": "integer"
        },
        {
         "name": "metric",
         "rawType": "object",
         "type": "string"
        },
        {
         "name": "ModelPretty",
         "rawType": "object",
         "type": "string"
        },
        {
         "name": "SetPretty",
         "rawType": "object",
         "type": "string"
        },
        {
         "name": "N",
         "rawType": "int64",
         "type": "integer"
        },
        {
         "name": "Mean",
         "rawType": "float64",
         "type": "float"
        },
        {
         "name": "Std",
         "rawType": "float64",
         "type": "float"
        },
        {
         "name": "95% CI",
         "rawType": "float64",
         "type": "float"
        }
       ],
       "ref": "4bd61ae6-a0b9-47ec-a6f1-e27ee136fea3",
       "rows": [
        [
         "0",
         "r2_mean",
         "Elastic Net",
         "+ Tissue & Growth",
         "697",
         "0.2179",
         "0.1155",
         "0.0086"
        ],
        [
         "1",
         "r2_mean",
         "Elastic Net",
         "Baseline (30 PCs)",
         "697",
         "0.1953",
         "0.1046",
         "0.0078"
        ],
        [
         "2",
         "r2_mean",
         "Random Forest",
         "+ Tissue & Growth",
         "697",
         "0.2137",
         "0.1206",
         "0.009"
        ],
        [
         "3",
         "r2_mean",
         "Random Forest",
         "Baseline (30 PCs)",
         "697",
         "0.1733",
         "0.1094",
         "0.0081"
        ],
        [
         "4",
         "rmse_mean",
         "Elastic Net",
         "+ Tissue & Growth",
         "697",
         "1.1693",
         "0.3506",
         "0.026"
        ],
        [
         "5",
         "rmse_mean",
         "Elastic Net",
         "Baseline (30 PCs)",
         "697",
         "1.1901",
         "0.3607",
         "0.0268"
        ],
        [
         "6",
         "rmse_mean",
         "Random Forest",
         "+ Tissue & Growth",
         "697",
         "1.1712",
         "0.3488",
         "0.0259"
        ],
        [
         "7",
         "rmse_mean",
         "Random Forest",
         "Baseline (30 PCs)",
         "697",
         "1.2047",
         "0.3626",
         "0.0269"
        ]
       ],
       "shape": {
        "columns": 7,
        "rows": 8
       }
      },
      "text/html": [
       "<div>\n",
       "<style scoped>\n",
       "    .dataframe tbody tr th:only-of-type {\n",
       "        vertical-align: middle;\n",
       "    }\n",
       "\n",
       "    .dataframe tbody tr th {\n",
       "        vertical-align: top;\n",
       "    }\n",
       "\n",
       "    .dataframe thead th {\n",
       "        text-align: right;\n",
       "    }\n",
       "</style>\n",
       "<table border=\"1\" class=\"dataframe\">\n",
       "  <thead>\n",
       "    <tr style=\"text-align: right;\">\n",
       "      <th></th>\n",
       "      <th>metric</th>\n",
       "      <th>ModelPretty</th>\n",
       "      <th>SetPretty</th>\n",
       "      <th>N</th>\n",
       "      <th>Mean</th>\n",
       "      <th>Std</th>\n",
       "      <th>95% CI</th>\n",
       "    </tr>\n",
       "  </thead>\n",
       "  <tbody>\n",
       "    <tr>\n",
       "      <th>0</th>\n",
       "      <td>r2_mean</td>\n",
       "      <td>Elastic Net</td>\n",
       "      <td>+ Tissue &amp; Growth</td>\n",
       "      <td>697</td>\n",
       "      <td>0.2179</td>\n",
       "      <td>0.1155</td>\n",
       "      <td>0.0086</td>\n",
       "    </tr>\n",
       "    <tr>\n",
       "      <th>1</th>\n",
       "      <td>r2_mean</td>\n",
       "      <td>Elastic Net</td>\n",
       "      <td>Baseline (30 PCs)</td>\n",
       "      <td>697</td>\n",
       "      <td>0.1953</td>\n",
       "      <td>0.1046</td>\n",
       "      <td>0.0078</td>\n",
       "    </tr>\n",
       "    <tr>\n",
       "      <th>2</th>\n",
       "      <td>r2_mean</td>\n",
       "      <td>Random Forest</td>\n",
       "      <td>+ Tissue &amp; Growth</td>\n",
       "      <td>697</td>\n",
       "      <td>0.2137</td>\n",
       "      <td>0.1206</td>\n",
       "      <td>0.0090</td>\n",
       "    </tr>\n",
       "    <tr>\n",
       "      <th>3</th>\n",
       "      <td>r2_mean</td>\n",
       "      <td>Random Forest</td>\n",
       "      <td>Baseline (30 PCs)</td>\n",
       "      <td>697</td>\n",
       "      <td>0.1733</td>\n",
       "      <td>0.1094</td>\n",
       "      <td>0.0081</td>\n",
       "    </tr>\n",
       "    <tr>\n",
       "      <th>4</th>\n",
       "      <td>rmse_mean</td>\n",
       "      <td>Elastic Net</td>\n",
       "      <td>+ Tissue &amp; Growth</td>\n",
       "      <td>697</td>\n",
       "      <td>1.1693</td>\n",
       "      <td>0.3506</td>\n",
       "      <td>0.0260</td>\n",
       "    </tr>\n",
       "    <tr>\n",
       "      <th>5</th>\n",
       "      <td>rmse_mean</td>\n",
       "      <td>Elastic Net</td>\n",
       "      <td>Baseline (30 PCs)</td>\n",
       "      <td>697</td>\n",
       "      <td>1.1901</td>\n",
       "      <td>0.3607</td>\n",
       "      <td>0.0268</td>\n",
       "    </tr>\n",
       "    <tr>\n",
       "      <th>6</th>\n",
       "      <td>rmse_mean</td>\n",
       "      <td>Random Forest</td>\n",
       "      <td>+ Tissue &amp; Growth</td>\n",
       "      <td>697</td>\n",
       "      <td>1.1712</td>\n",
       "      <td>0.3488</td>\n",
       "      <td>0.0259</td>\n",
       "    </tr>\n",
       "    <tr>\n",
       "      <th>7</th>\n",
       "      <td>rmse_mean</td>\n",
       "      <td>Random Forest</td>\n",
       "      <td>Baseline (30 PCs)</td>\n",
       "      <td>697</td>\n",
       "      <td>1.2047</td>\n",
       "      <td>0.3626</td>\n",
       "      <td>0.0269</td>\n",
       "    </tr>\n",
       "  </tbody>\n",
       "</table>\n",
       "</div>"
      ],
      "text/plain": [
       "      metric    ModelPretty          SetPretty    N    Mean     Std  95% CI\n",
       "0    r2_mean    Elastic Net  + Tissue & Growth  697  0.2179  0.1155  0.0086\n",
       "1    r2_mean    Elastic Net  Baseline (30 PCs)  697  0.1953  0.1046  0.0078\n",
       "2    r2_mean  Random Forest  + Tissue & Growth  697  0.2137  0.1206  0.0090\n",
       "3    r2_mean  Random Forest  Baseline (30 PCs)  697  0.1733  0.1094  0.0081\n",
       "4  rmse_mean    Elastic Net  + Tissue & Growth  697  1.1693  0.3506  0.0260\n",
       "5  rmse_mean    Elastic Net  Baseline (30 PCs)  697  1.1901  0.3607  0.0268\n",
       "6  rmse_mean  Random Forest  + Tissue & Growth  697  1.1712  0.3488  0.0259\n",
       "7  rmse_mean  Random Forest  Baseline (30 PCs)  697  1.2047  0.3626  0.0269"
      ]
     },
     "metadata": {},
     "output_type": "display_data"
    }
   ],
   "source": [
    "# %% aggregate stats per feature set\n",
    "def agg_stats(df, metric):\n",
    "    g = (\n",
    "        df.groupby([\"ModelPretty\", \"SetPretty\"], as_index=False)[metric]\n",
    "          .agg(mean=\"mean\", std=\"std\", n=\"count\")\n",
    "    )\n",
    "    g[\"se\"] = g[\"std\"] / np.sqrt(g[\"n\"])\n",
    "    g[\"ci95\"] = 1.96 * g[\"se\"]\n",
    "    g[\"metric\"] = metric\n",
    "    return g\n",
    "\n",
    "stats_r2 = agg_stats(df_plot, \"r2_mean\")\n",
    "stats_rmse = agg_stats(df_plot, \"rmse_mean\")\n",
    "\n",
    "summary_table = pd.concat([stats_r2, stats_rmse], ignore_index=True)\n",
    "summary_table = summary_table.rename(columns={\"mean\": \"Mean\", \"std\": \"Std\", \"n\": \"N\", \"ci95\": \"95% CI\"})\n",
    "\n",
    "display(summary_table[[\"metric\", \"ModelPretty\", \"SetPretty\", \"N\", \"Mean\", \"Std\", \"95% CI\"]].round(4))\n"
   ]
  }
 ],
 "metadata": {
  "kernelspec": {
   "display_name": "tese-env",
   "language": "python",
   "name": "python3"
  },
  "language_info": {
   "codemirror_mode": {
    "name": "ipython",
    "version": 3
   },
   "file_extension": ".py",
   "mimetype": "text/x-python",
   "name": "python",
   "nbconvert_exporter": "python",
   "pygments_lexer": "ipython3",
   "version": "3.10.16"
  }
 },
 "nbformat": 4,
 "nbformat_minor": 5
}
