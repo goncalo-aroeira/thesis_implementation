{
 "cells": [
  {
   "cell_type": "markdown",
   "metadata": {},
   "source": [
    "# 📊 Baseline Model Comparison (Simple Models)\n",
    "\n",
    "In this notebook, we compare the performance of:\n",
    "- Dummy Regressor\n",
    "- Ridge Regression\n",
    "- Elastic Net\n",
    "\n",
    "Metrics used: **RMSE** and **R²**, evaluated via 5-fold cross-validation.\n"
   ]
  },
  {
   "cell_type": "code",
   "execution_count": 2,
   "metadata": {},
   "outputs": [
    {
     "name": "stdout",
     "output_type": "stream",
     "text": [
      "✅ Combined shape: (1863, 9)\n"
     ]
    },
    {
     "data": {
      "text/html": [
       "<div>\n",
       "<style scoped>\n",
       "    .dataframe tbody tr th:only-of-type {\n",
       "        vertical-align: middle;\n",
       "    }\n",
       "\n",
       "    .dataframe tbody tr th {\n",
       "        vertical-align: top;\n",
       "    }\n",
       "\n",
       "    .dataframe thead th {\n",
       "        text-align: right;\n",
       "    }\n",
       "</style>\n",
       "<table border=\"1\" class=\"dataframe\">\n",
       "  <thead>\n",
       "    <tr style=\"text-align: right;\">\n",
       "      <th></th>\n",
       "      <th>DRUG_ID</th>\n",
       "      <th>rmse_mean</th>\n",
       "      <th>rmse_std</th>\n",
       "      <th>r2_mean</th>\n",
       "      <th>r2_std</th>\n",
       "      <th>Model</th>\n",
       "      <th>n_samples</th>\n",
       "      <th>alpha</th>\n",
       "      <th>l1_ratio</th>\n",
       "    </tr>\n",
       "  </thead>\n",
       "  <tbody>\n",
       "    <tr>\n",
       "      <th>0</th>\n",
       "      <td>1</td>\n",
       "      <td>1.104208</td>\n",
       "      <td>0.179391</td>\n",
       "      <td>-0.013131</td>\n",
       "      <td>0.009566</td>\n",
       "      <td>Dummy</td>\n",
       "      <td>NaN</td>\n",
       "      <td>NaN</td>\n",
       "      <td>NaN</td>\n",
       "    </tr>\n",
       "    <tr>\n",
       "      <th>1</th>\n",
       "      <td>3</td>\n",
       "      <td>1.996720</td>\n",
       "      <td>0.195808</td>\n",
       "      <td>-0.011937</td>\n",
       "      <td>0.010725</td>\n",
       "      <td>Dummy</td>\n",
       "      <td>NaN</td>\n",
       "      <td>NaN</td>\n",
       "      <td>NaN</td>\n",
       "    </tr>\n",
       "    <tr>\n",
       "      <th>2</th>\n",
       "      <td>5</td>\n",
       "      <td>1.654191</td>\n",
       "      <td>0.080096</td>\n",
       "      <td>-0.010329</td>\n",
       "      <td>0.007584</td>\n",
       "      <td>Dummy</td>\n",
       "      <td>NaN</td>\n",
       "      <td>NaN</td>\n",
       "      <td>NaN</td>\n",
       "    </tr>\n",
       "    <tr>\n",
       "      <th>3</th>\n",
       "      <td>6</td>\n",
       "      <td>0.894635</td>\n",
       "      <td>0.073578</td>\n",
       "      <td>-0.024514</td>\n",
       "      <td>0.013300</td>\n",
       "      <td>Dummy</td>\n",
       "      <td>NaN</td>\n",
       "      <td>NaN</td>\n",
       "      <td>NaN</td>\n",
       "    </tr>\n",
       "    <tr>\n",
       "      <th>4</th>\n",
       "      <td>9</td>\n",
       "      <td>1.465387</td>\n",
       "      <td>0.102352</td>\n",
       "      <td>-0.019805</td>\n",
       "      <td>0.019980</td>\n",
       "      <td>Dummy</td>\n",
       "      <td>NaN</td>\n",
       "      <td>NaN</td>\n",
       "      <td>NaN</td>\n",
       "    </tr>\n",
       "  </tbody>\n",
       "</table>\n",
       "</div>"
      ],
      "text/plain": [
       "   DRUG_ID  rmse_mean  rmse_std   r2_mean    r2_std  Model  n_samples  alpha  \\\n",
       "0        1   1.104208  0.179391 -0.013131  0.009566  Dummy        NaN    NaN   \n",
       "1        3   1.996720  0.195808 -0.011937  0.010725  Dummy        NaN    NaN   \n",
       "2        5   1.654191  0.080096 -0.010329  0.007584  Dummy        NaN    NaN   \n",
       "3        6   0.894635  0.073578 -0.024514  0.013300  Dummy        NaN    NaN   \n",
       "4        9   1.465387  0.102352 -0.019805  0.019980  Dummy        NaN    NaN   \n",
       "\n",
       "   l1_ratio  \n",
       "0       NaN  \n",
       "1       NaN  \n",
       "2       NaN  \n",
       "3       NaN  \n",
       "4       NaN  "
      ]
     },
     "execution_count": 2,
     "metadata": {},
     "output_type": "execute_result"
    }
   ],
   "source": [
    "import pandas as pd\n",
    "import matplotlib.pyplot as plt\n",
    "import seaborn as sns\n",
    "\n",
    "NUM_PCS = 20  # Number of principal components\n",
    "\n",
    "# Load each model's summary\n",
    "dummy = pd.read_csv(f\"results/dummy_regressor/dummy_regressor_results_{NUM_PCS}_pcs.csv\").assign(Model=\"Dummy\")\n",
    "ridge = pd.read_csv(f\"results/ridge_regression/ridge_regression_results_{NUM_PCS}_pcs.csv\").assign(Model=\"Ridge\")\n",
    "elastic = pd.read_csv(f\"results/elastic_net/elastic_net_results_{NUM_PCS}_pcs.csv\").assign(Model=\"ElasticNet\")\n",
    "\n",
    "# Standardize column names if needed\n",
    "for df in [dummy, ridge, elastic]:\n",
    "    df.rename(columns=lambda c: c.strip().replace(\"²\", \"^2\"), inplace=True)\n",
    "\n",
    "# Combine all results\n",
    "baseline_df = pd.concat([dummy, ridge, elastic], ignore_index=True)\n",
    "print(\"✅ Combined shape:\", baseline_df.shape)\n",
    "baseline_df.head()\n"
   ]
  },
  {
   "cell_type": "code",
   "execution_count": 3,
   "metadata": {},
   "outputs": [
    {
     "name": "stdout",
     "output_type": "stream",
     "text": [
      "🧼 Filtered dataset shape: (1863, 9)\n"
     ]
    }
   ],
   "source": [
    "# Filter out extreme RMSE > 3.5 and R² < -1\n",
    "filtered_baseline_df = baseline_df[\n",
    "    (baseline_df[\"rmse_mean\"] <= 3.5) &\n",
    "    (baseline_df[\"r2_mean\"] >= -1)\n",
    "].copy()\n",
    "\n",
    "print(f\"🧼 Filtered dataset shape: {filtered_baseline_df.shape}\")\n"
   ]
  },
  {
   "cell_type": "code",
   "execution_count": null,
   "metadata": {},
   "outputs": [
    {
     "data": {
      "image/png": "[encoded data removed]",
      "text/plain": [
       "<Figure size 800x500 with 1 Axes>"
      ]
     },
     "metadata": {},
     "output_type": "display_data"
    }
   ],
   "source": [
    "plt.figure(figsize=(8, 5))\n",
    "sns.boxplot(data=filtered_baseline_df, x=\"Model\", y=\"rmse_mean\", hue=\"Model\", legend=False, palette=\"Set2\")\n",
    "plt.title(f\"RMSE Comparison for {NUM_PCS} (Filtered, RMSE ≤ 3.5)\")\n",
    "plt.ylabel(\"Root Mean Squared Error\")\n",
    "plt.grid(True)\n",
    "plt.savefig(f\"results/rmse_comparison_{NUM_PCS}_pcs.png\", dpi=300)\n",
    "plt.show()\n",
    "plt.close()"
   ]
  },
  {
   "cell_type": "code",
   "execution_count": null,
   "metadata": {},
   "outputs": [
    {
     "data": {
      "image/png": "[encoded data removed]",
      "text/plain": [
       "<Figure size 800x500 with 1 Axes>"
      ]
     },
     "metadata": {},
     "output_type": "display_data"
    }
   ],
   "source": [
    "plt.figure(figsize=(8, 5))\n",
    "sns.boxplot(data=filtered_baseline_df, x=\"Model\", y=\"r2_mean\", hue=\"Model\", legend=False, palette=\"Set1\")\n",
    "plt.title(f\"R² Comparison {NUM_PCS} (Filtered, R² ≥ -1)\")\n",
    "plt.ylabel(\"R² Score\")\n",
    "plt.grid(True)\n",
    "plt.savefig(f\"results/r2_comparison_{NUM_PCS}_pcs.png\", dpi=300)\n",
    "plt.show()\n",
    "plt.close()"
   ]
  },
  {
   "cell_type": "markdown",
   "metadata": {},
   "source": [
    "### 📌 Summary Statistics (Simple Models)\n"
   ]
  },
  {
   "cell_type": "code",
   "execution_count": 8,
   "metadata": {},
   "outputs": [
    {
     "data": {
      "text/html": [
       "<div>\n",
       "<style scoped>\n",
       "    .dataframe tbody tr th:only-of-type {\n",
       "        vertical-align: middle;\n",
       "    }\n",
       "\n",
       "    .dataframe tbody tr th {\n",
       "        vertical-align: top;\n",
       "    }\n",
       "\n",
       "    .dataframe thead tr th {\n",
       "        text-align: left;\n",
       "    }\n",
       "\n",
       "    .dataframe thead tr:last-of-type th {\n",
       "        text-align: right;\n",
       "    }\n",
       "</style>\n",
       "<table border=\"1\" class=\"dataframe\">\n",
       "  <thead>\n",
       "    <tr>\n",
       "      <th></th>\n",
       "      <th colspan=\"3\" halign=\"left\">rmse_mean</th>\n",
       "      <th colspan=\"3\" halign=\"left\">r2_mean</th>\n",
       "    </tr>\n",
       "    <tr>\n",
       "      <th></th>\n",
       "      <th>mean</th>\n",
       "      <th>std</th>\n",
       "      <th>median</th>\n",
       "      <th>mean</th>\n",
       "      <th>std</th>\n",
       "      <th>median</th>\n",
       "    </tr>\n",
       "    <tr>\n",
       "      <th>Model</th>\n",
       "      <th></th>\n",
       "      <th></th>\n",
       "      <th></th>\n",
       "      <th></th>\n",
       "      <th></th>\n",
       "      <th></th>\n",
       "    </tr>\n",
       "  </thead>\n",
       "  <tbody>\n",
       "    <tr>\n",
       "      <th>Dummy</th>\n",
       "      <td>1.3535</td>\n",
       "      <td>0.4179</td>\n",
       "      <td>1.2984</td>\n",
       "      <td>-0.0081</td>\n",
       "      <td>0.0085</td>\n",
       "      <td>-0.0061</td>\n",
       "    </tr>\n",
       "    <tr>\n",
       "      <th>ElasticNet</th>\n",
       "      <td>1.2068</td>\n",
       "      <td>0.3645</td>\n",
       "      <td>1.1616</td>\n",
       "      <td>0.1879</td>\n",
       "      <td>0.1014</td>\n",
       "      <td>0.1766</td>\n",
       "    </tr>\n",
       "    <tr>\n",
       "      <th>Ridge</th>\n",
       "      <td>1.2100</td>\n",
       "      <td>0.3662</td>\n",
       "      <td>1.1655</td>\n",
       "      <td>0.1822</td>\n",
       "      <td>0.1122</td>\n",
       "      <td>0.1738</td>\n",
       "    </tr>\n",
       "  </tbody>\n",
       "</table>\n",
       "</div>"
      ],
      "text/plain": [
       "           rmse_mean                 r2_mean                \n",
       "                mean     std  median    mean     std  median\n",
       "Model                                                       \n",
       "Dummy         1.3535  0.4179  1.2984 -0.0081  0.0085 -0.0061\n",
       "ElasticNet    1.2068  0.3645  1.1616  0.1879  0.1014  0.1766\n",
       "Ridge         1.2100  0.3662  1.1655  0.1822  0.1122  0.1738"
      ]
     },
     "execution_count": 8,
     "metadata": {},
     "output_type": "execute_result"
    }
   ],
   "source": [
    "filtered_baseline_df.groupby(\"Model\")[[\"rmse_mean\", \"r2_mean\"]].agg([\"mean\", \"std\", \"median\"]).round(4)\n"
   ]
  }
 ],
 "metadata": {
  "kernelspec": {
   "display_name": "tese-env",
   "language": "python",
   "name": "python3"
  },
  "language_info": {
   "codemirror_mode": {
    "name": "ipython",
    "version": 3
   },
   "file_extension": ".py",
   "mimetype": "text/x-python",
   "name": "python",
   "nbconvert_exporter": "python",
   "pygments_lexer": "ipython3",
   "version": "3.10.16"
  }
 },
 "nbformat": 4,
 "nbformat_minor": 2
}
