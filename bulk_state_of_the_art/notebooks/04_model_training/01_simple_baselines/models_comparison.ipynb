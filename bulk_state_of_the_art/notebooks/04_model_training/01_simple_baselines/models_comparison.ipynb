{
 "cells": [
  {
   "cell_type": "markdown",
   "metadata": {},
   "source": [
    "# 📊 Baseline Model Comparison (Simple Models)\n",
    "\n",
    "In this notebook, we compare the performance of:\n",
    "- Dummy Regressor\n",
    "- Ridge Regression\n",
    "- Elastic Net\n",
    "\n",
    "Metrics used: **RMSE** and **R²**, evaluated via 5-fold cross-validation.\n"
   ]
  },
  {
   "cell_type": "code",
   "execution_count": 1,
   "metadata": {},
   "outputs": [
    {
     "name": "stdout",
     "output_type": "stream",
     "text": [
      "✅ Combined shape: (2091, 9)\n"
     ]
    },
    {
     "data": {
      "application/vnd.microsoft.datawrangler.viewer.v0+json": {
       "columns": [
        {
         "name": "index",
         "rawType": "int64",
         "type": "integer"
        },
        {
         "name": "DRUG_ID",
         "rawType": "int64",
         "type": "integer"
        },
        {
         "name": "rmse_mean",
         "rawType": "float64",
         "type": "float"
        },
        {
         "name": "rmse_std",
         "rawType": "float64",
         "type": "float"
        },
        {
         "name": "r2_mean",
         "rawType": "float64",
         "type": "float"
        },
        {
         "name": "r2_std",
         "rawType": "float64",
         "type": "float"
        },
        {
         "name": "Model",
         "rawType": "object",
         "type": "string"
        },
        {
         "name": "n_samples",
         "rawType": "float64",
         "type": "float"
        },
        {
         "name": "alpha",
         "rawType": "float64",
         "type": "float"
        },
        {
         "name": "l1_ratio",
         "rawType": "float64",
         "type": "float"
        }
       ],
       "ref": "df3190d5-c405-4591-acbe-77ffd0ee9a2b",
       "rows": [
        [
         "0",
         "1",
         "1.1089857578277589",
         "0.1714021211155706",
         "-0.0363635063171386",
         "0.0329884733222683",
         "Dummy",
         null,
         null,
         null
        ],
        [
         "1",
         "3",
         "2.003307580947876",
         "0.1141499405925028",
         "-0.0088608264923095",
         "0.012806809784908",
         "Dummy",
         null,
         null,
         null
        ],
        [
         "2",
         "5",
         "1.6505687236785889",
         "0.1925327741357572",
         "-0.0345946311950683",
         "0.0365485377298955",
         "Dummy",
         null,
         null,
         null
        ],
        [
         "3",
         "6",
         "0.8875105500221252",
         "0.1263315067976417",
         "-0.0206912279129028",
         "0.0292013888818389",
         "Dummy",
         null,
         null,
         null
        ],
        [
         "4",
         "9",
         "1.462639617919922",
         "0.0608714344594613",
         "-0.0027954816818237",
         "0.0027705681382886",
         "Dummy",
         null,
         null,
         null
        ]
       ],
       "shape": {
        "columns": 9,
        "rows": 5
       }
      },
      "text/html": [
       "<div>\n",
       "<style scoped>\n",
       "    .dataframe tbody tr th:only-of-type {\n",
       "        vertical-align: middle;\n",
       "    }\n",
       "\n",
       "    .dataframe tbody tr th {\n",
       "        vertical-align: top;\n",
       "    }\n",
       "\n",
       "    .dataframe thead th {\n",
       "        text-align: right;\n",
       "    }\n",
       "</style>\n",
       "<table border=\"1\" class=\"dataframe\">\n",
       "  <thead>\n",
       "    <tr style=\"text-align: right;\">\n",
       "      <th></th>\n",
       "      <th>DRUG_ID</th>\n",
       "      <th>rmse_mean</th>\n",
       "      <th>rmse_std</th>\n",
       "      <th>r2_mean</th>\n",
       "      <th>r2_std</th>\n",
       "      <th>Model</th>\n",
       "      <th>n_samples</th>\n",
       "      <th>alpha</th>\n",
       "      <th>l1_ratio</th>\n",
       "    </tr>\n",
       "  </thead>\n",
       "  <tbody>\n",
       "    <tr>\n",
       "      <th>0</th>\n",
       "      <td>1</td>\n",
       "      <td>1.108986</td>\n",
       "      <td>0.171402</td>\n",
       "      <td>-0.036364</td>\n",
       "      <td>0.032988</td>\n",
       "      <td>Dummy</td>\n",
       "      <td>NaN</td>\n",
       "      <td>NaN</td>\n",
       "      <td>NaN</td>\n",
       "    </tr>\n",
       "    <tr>\n",
       "      <th>1</th>\n",
       "      <td>3</td>\n",
       "      <td>2.003308</td>\n",
       "      <td>0.114150</td>\n",
       "      <td>-0.008861</td>\n",
       "      <td>0.012807</td>\n",
       "      <td>Dummy</td>\n",
       "      <td>NaN</td>\n",
       "      <td>NaN</td>\n",
       "      <td>NaN</td>\n",
       "    </tr>\n",
       "    <tr>\n",
       "      <th>2</th>\n",
       "      <td>5</td>\n",
       "      <td>1.650569</td>\n",
       "      <td>0.192533</td>\n",
       "      <td>-0.034595</td>\n",
       "      <td>0.036549</td>\n",
       "      <td>Dummy</td>\n",
       "      <td>NaN</td>\n",
       "      <td>NaN</td>\n",
       "      <td>NaN</td>\n",
       "    </tr>\n",
       "    <tr>\n",
       "      <th>3</th>\n",
       "      <td>6</td>\n",
       "      <td>0.887511</td>\n",
       "      <td>0.126332</td>\n",
       "      <td>-0.020691</td>\n",
       "      <td>0.029201</td>\n",
       "      <td>Dummy</td>\n",
       "      <td>NaN</td>\n",
       "      <td>NaN</td>\n",
       "      <td>NaN</td>\n",
       "    </tr>\n",
       "    <tr>\n",
       "      <th>4</th>\n",
       "      <td>9</td>\n",
       "      <td>1.462640</td>\n",
       "      <td>0.060871</td>\n",
       "      <td>-0.002795</td>\n",
       "      <td>0.002771</td>\n",
       "      <td>Dummy</td>\n",
       "      <td>NaN</td>\n",
       "      <td>NaN</td>\n",
       "      <td>NaN</td>\n",
       "    </tr>\n",
       "  </tbody>\n",
       "</table>\n",
       "</div>"
      ],
      "text/plain": [
       "   DRUG_ID  rmse_mean  rmse_std   r2_mean    r2_std  Model  n_samples  alpha  \\\n",
       "0        1   1.108986  0.171402 -0.036364  0.032988  Dummy        NaN    NaN   \n",
       "1        3   2.003308  0.114150 -0.008861  0.012807  Dummy        NaN    NaN   \n",
       "2        5   1.650569  0.192533 -0.034595  0.036549  Dummy        NaN    NaN   \n",
       "3        6   0.887511  0.126332 -0.020691  0.029201  Dummy        NaN    NaN   \n",
       "4        9   1.462640  0.060871 -0.002795  0.002771  Dummy        NaN    NaN   \n",
       "\n",
       "   l1_ratio  \n",
       "0       NaN  \n",
       "1       NaN  \n",
       "2       NaN  \n",
       "3       NaN  \n",
       "4       NaN  "
      ]
     },
     "execution_count": 1,
     "metadata": {},
     "output_type": "execute_result"
    }
   ],
   "source": [
    "import pandas as pd\n",
    "import matplotlib.pyplot as plt\n",
    "import seaborn as sns\n",
    "\n",
    "NUM_PCS = 30  # Number of principal components\n",
    "\n",
    "# Load each model's summary\n",
    "dummy = pd.read_csv(f\"results/dummy_regressor/dummy_regressor_results_{NUM_PCS}_pcs.csv\").assign(Model=\"Dummy\")\n",
    "ridge = pd.read_csv(f\"results/ridge_regression/ridge_regression_results_{NUM_PCS}_pcs.csv\").assign(Model=\"Ridge\")\n",
    "elastic = pd.read_csv(f\"results/elastic_net/voom_{NUM_PCS}_pcs.csv\").assign(Model=\"ElasticNet\")\n",
    "\n",
    "# Standardize column names if needed\n",
    "for df in [dummy, ridge, elastic]:\n",
    "    df.rename(columns=lambda c: c.strip().replace(\"²\", \"^2\"), inplace=True)\n",
    "\n",
    "# Combine all results\n",
    "baseline_df = pd.concat([dummy, ridge, elastic], ignore_index=True)\n",
    "print(\"✅ Combined shape:\", baseline_df.shape)\n",
    "baseline_df.head()\n"
   ]
  },
  {
   "cell_type": "code",
   "execution_count": 2,
   "metadata": {},
   "outputs": [
    {
     "name": "stdout",
     "output_type": "stream",
     "text": [
      "🧼 Filtered dataset shape: (2091, 9)\n"
     ]
    }
   ],
   "source": [
    "# Filter out extreme RMSE > 3.5 and R² < -1\n",
    "filtered_baseline_df = baseline_df[\n",
    "    (baseline_df[\"rmse_mean\"] <= 3.5) &\n",
    "    (baseline_df[\"r2_mean\"] >= -1)\n",
    "].copy()\n",
    "\n",
    "print(f\"🧼 Filtered dataset shape: {filtered_baseline_df.shape}\")\n"
   ]
  },
  {
   "cell_type": "code",
   "execution_count": 3,
   "metadata": {},
   "outputs": [
    {
     "data": {
      "image/png": "[encoded data removed]",
      "text/plain": [
       "<Figure size 800x500 with 1 Axes>"
      ]
     },
     "metadata": {},
     "output_type": "display_data"
    }
   ],
   "source": [
    "plt.figure(figsize=(8, 5))\n",
    "sns.boxplot(data=filtered_baseline_df, x=\"Model\", y=\"rmse_mean\", hue=\"Model\", legend=False, palette=\"Set2\")\n",
    "plt.title(f\"RMSE Comparison for {NUM_PCS} (Filtered, RMSE ≤ 3.5)\")\n",
    "plt.ylabel(\"Root Mean Squared Error\")\n",
    "plt.grid(True)\n",
    "plt.savefig(f\"results/rmse_comparison_{NUM_PCS}_pcs.png\", dpi=300)\n",
    "plt.show()\n",
    "plt.close()"
   ]
  },
  {
   "cell_type": "code",
   "execution_count": 4,
   "metadata": {},
   "outputs": [
    {
     "data": {
      "image/png": "[encoded data removed]",
      "text/plain": [
       "<Figure size 800x500 with 1 Axes>"
      ]
     },
     "metadata": {},
     "output_type": "display_data"
    }
   ],
   "source": [
    "plt.figure(figsize=(8, 5))\n",
    "sns.boxplot(data=filtered_baseline_df, x=\"Model\", y=\"r2_mean\", hue=\"Model\", legend=False, palette=\"Set1\")\n",
    "plt.title(f\"R² Comparison {NUM_PCS} (Filtered, R² ≥ -1)\")\n",
    "plt.ylabel(\"R² Score\")\n",
    "plt.grid(True)\n",
    "plt.savefig(f\"results/r2_comparison_{NUM_PCS}_pcs.png\", dpi=300)\n",
    "plt.show()\n",
    "plt.close()"
   ]
  },
  {
   "cell_type": "markdown",
   "metadata": {},
   "source": [
    "### 📌 Summary Statistics (Simple Models)\n"
   ]
  },
  {
   "cell_type": "code",
   "execution_count": 5,
   "metadata": {},
   "outputs": [
    {
     "data": {
      "application/vnd.microsoft.datawrangler.viewer.v0+json": {
       "columns": [
        {
         "name": "Model",
         "rawType": "object",
         "type": "string"
        },
        {
         "name": "('rmse_mean', 'mean')",
         "rawType": "float64",
         "type": "float"
        },
        {
         "name": "('rmse_mean', 'std')",
         "rawType": "float64",
         "type": "float"
        },
        {
         "name": "('rmse_mean', 'median')",
         "rawType": "float64",
         "type": "float"
        },
        {
         "name": "('r2_mean', 'mean')",
         "rawType": "float64",
         "type": "float"
        },
        {
         "name": "('r2_mean', 'std')",
         "rawType": "float64",
         "type": "float"
        },
        {
         "name": "('r2_mean', 'median')",
         "rawType": "float64",
         "type": "float"
        }
       ],
       "ref": "8f5eb51b-3f70-4c80-a4b4-6c1a9c3bd606",
       "rows": [
        [
         "Dummy",
         "1.3441",
         "0.4203",
         "1.2825",
         "-0.0102",
         "0.0138",
         "-0.0074"
        ],
        [
         "ElasticNet",
         "1.1901",
         "0.3607",
         "1.1465",
         "0.1953",
         "0.1046",
         "0.1884"
        ],
        [
         "Ridge",
         "1.2015",
         "0.3645",
         "1.1567",
         "0.1765",
         "0.1299",
         "0.1768"
        ]
       ],
       "shape": {
        "columns": 6,
        "rows": 3
       }
      },
      "text/html": [
       "<div>\n",
       "<style scoped>\n",
       "    .dataframe tbody tr th:only-of-type {\n",
       "        vertical-align: middle;\n",
       "    }\n",
       "\n",
       "    .dataframe tbody tr th {\n",
       "        vertical-align: top;\n",
       "    }\n",
       "\n",
       "    .dataframe thead tr th {\n",
       "        text-align: left;\n",
       "    }\n",
       "\n",
       "    .dataframe thead tr:last-of-type th {\n",
       "        text-align: right;\n",
       "    }\n",
       "</style>\n",
       "<table border=\"1\" class=\"dataframe\">\n",
       "  <thead>\n",
       "    <tr>\n",
       "      <th></th>\n",
       "      <th colspan=\"3\" halign=\"left\">rmse_mean</th>\n",
       "      <th colspan=\"3\" halign=\"left\">r2_mean</th>\n",
       "    </tr>\n",
       "    <tr>\n",
       "      <th></th>\n",
       "      <th>mean</th>\n",
       "      <th>std</th>\n",
       "      <th>median</th>\n",
       "      <th>mean</th>\n",
       "      <th>std</th>\n",
       "      <th>median</th>\n",
       "    </tr>\n",
       "    <tr>\n",
       "      <th>Model</th>\n",
       "      <th></th>\n",
       "      <th></th>\n",
       "      <th></th>\n",
       "      <th></th>\n",
       "      <th></th>\n",
       "      <th></th>\n",
       "    </tr>\n",
       "  </thead>\n",
       "  <tbody>\n",
       "    <tr>\n",
       "      <th>Dummy</th>\n",
       "      <td>1.3441</td>\n",
       "      <td>0.4203</td>\n",
       "      <td>1.2825</td>\n",
       "      <td>-0.0102</td>\n",
       "      <td>0.0138</td>\n",
       "      <td>-0.0074</td>\n",
       "    </tr>\n",
       "    <tr>\n",
       "      <th>ElasticNet</th>\n",
       "      <td>1.1901</td>\n",
       "      <td>0.3607</td>\n",
       "      <td>1.1465</td>\n",
       "      <td>0.1953</td>\n",
       "      <td>0.1046</td>\n",
       "      <td>0.1884</td>\n",
       "    </tr>\n",
       "    <tr>\n",
       "      <th>Ridge</th>\n",
       "      <td>1.2015</td>\n",
       "      <td>0.3645</td>\n",
       "      <td>1.1567</td>\n",
       "      <td>0.1765</td>\n",
       "      <td>0.1299</td>\n",
       "      <td>0.1768</td>\n",
       "    </tr>\n",
       "  </tbody>\n",
       "</table>\n",
       "</div>"
      ],
      "text/plain": [
       "           rmse_mean                 r2_mean                \n",
       "                mean     std  median    mean     std  median\n",
       "Model                                                       \n",
       "Dummy         1.3441  0.4203  1.2825 -0.0102  0.0138 -0.0074\n",
       "ElasticNet    1.1901  0.3607  1.1465  0.1953  0.1046  0.1884\n",
       "Ridge         1.2015  0.3645  1.1567  0.1765  0.1299  0.1768"
      ]
     },
     "execution_count": 5,
     "metadata": {},
     "output_type": "execute_result"
    }
   ],
   "source": [
    "filtered_baseline_df.groupby(\"Model\")[[\"rmse_mean\", \"r2_mean\"]].agg([\"mean\", \"std\", \"median\"]).round(4)\n"
   ]
  }
 ],
 "metadata": {
  "kernelspec": {
   "display_name": "tese-env",
   "language": "python",
   "name": "python3"
  },
  "language_info": {
   "codemirror_mode": {
    "name": "ipython",
    "version": 3
   },
   "file_extension": ".py",
   "mimetype": "text/x-python",
   "name": "python",
   "nbconvert_exporter": "python",
   "pygments_lexer": "ipython3",
   "version": "3.10.16"
  }
 },
 "nbformat": 4,
 "nbformat_minor": 2
}
