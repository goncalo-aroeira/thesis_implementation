{
 "cells": [
  {
   "cell_type": "code",
   "execution_count": 1,
   "id": "3a7c01cb",
   "metadata": {},
   "outputs": [
    {
     "name": "stdout",
     "output_type": "stream",
     "text": [
      "Loaded: (692, 6)\n"
     ]
    },
    {
     "data": {
      "application/vnd.microsoft.datawrangler.viewer.v0+json": {
       "columns": [
        {
         "name": "index",
         "rawType": "int64",
         "type": "integer"
        },
        {
         "name": "DRUG_ID",
         "rawType": "int64",
         "type": "integer"
        },
        {
         "name": "n_samples",
         "rawType": "int64",
         "type": "integer"
        },
        {
         "name": "r2_global",
         "rawType": "float64",
         "type": "float"
        },
        {
         "name": "pearson_r",
         "rawType": "float64",
         "type": "float"
        },
        {
         "name": "pearson_pval",
         "rawType": "float64",
         "type": "float"
        },
        {
         "name": "rmse",
         "rawType": "float64",
         "type": "float"
        }
       ],
       "ref": "dec2e6af-1a22-498b-ba26-3bbceff8252e",
       "rows": [
        [
         "0",
         "1",
         "384",
         "0.0797183243696966",
         "0.2877012094467009",
         "9.399584083726492e-09",
         "1.0670337576746842"
        ],
        [
         "1",
         "3",
         "350",
         "0.0741710206112339",
         "0.2726003001059679",
         "2.218010689185689e-07",
         "1.9343453639644064"
        ],
        [
         "2",
         "5",
         "387",
         "0.1963459260821907",
         "0.4461124735764743",
         "2.527155284516131e-20",
         "1.4824660587686798"
        ],
        [
         "3",
         "6",
         "396",
         "0.0041247958428284",
         "0.0842412787683984",
         "0.0941192401551379",
         "0.8930954275145401"
        ],
        [
         "4",
         "9",
         "390",
         "0.0574556941279283",
         "0.2447085250718687",
         "9.998762361294183e-07",
         "1.4133164561618303"
        ]
       ],
       "shape": {
        "columns": 6,
        "rows": 5
       }
      },
      "text/html": [
       "<div>\n",
       "<style scoped>\n",
       "    .dataframe tbody tr th:only-of-type {\n",
       "        vertical-align: middle;\n",
       "    }\n",
       "\n",
       "    .dataframe tbody tr th {\n",
       "        vertical-align: top;\n",
       "    }\n",
       "\n",
       "    .dataframe thead th {\n",
       "        text-align: right;\n",
       "    }\n",
       "</style>\n",
       "<table border=\"1\" class=\"dataframe\">\n",
       "  <thead>\n",
       "    <tr style=\"text-align: right;\">\n",
       "      <th></th>\n",
       "      <th>DRUG_ID</th>\n",
       "      <th>n_samples</th>\n",
       "      <th>r2_global</th>\n",
       "      <th>pearson_r</th>\n",
       "      <th>pearson_pval</th>\n",
       "      <th>rmse</th>\n",
       "    </tr>\n",
       "  </thead>\n",
       "  <tbody>\n",
       "    <tr>\n",
       "      <th>0</th>\n",
       "      <td>1</td>\n",
       "      <td>384</td>\n",
       "      <td>0.079718</td>\n",
       "      <td>0.287701</td>\n",
       "      <td>9.399584e-09</td>\n",
       "      <td>1.067034</td>\n",
       "    </tr>\n",
       "    <tr>\n",
       "      <th>1</th>\n",
       "      <td>3</td>\n",
       "      <td>350</td>\n",
       "      <td>0.074171</td>\n",
       "      <td>0.272600</td>\n",
       "      <td>2.218011e-07</td>\n",
       "      <td>1.934345</td>\n",
       "    </tr>\n",
       "    <tr>\n",
       "      <th>2</th>\n",
       "      <td>5</td>\n",
       "      <td>387</td>\n",
       "      <td>0.196346</td>\n",
       "      <td>0.446112</td>\n",
       "      <td>2.527155e-20</td>\n",
       "      <td>1.482466</td>\n",
       "    </tr>\n",
       "    <tr>\n",
       "      <th>3</th>\n",
       "      <td>6</td>\n",
       "      <td>396</td>\n",
       "      <td>0.004125</td>\n",
       "      <td>0.084241</td>\n",
       "      <td>9.411924e-02</td>\n",
       "      <td>0.893095</td>\n",
       "    </tr>\n",
       "    <tr>\n",
       "      <th>4</th>\n",
       "      <td>9</td>\n",
       "      <td>390</td>\n",
       "      <td>0.057456</td>\n",
       "      <td>0.244709</td>\n",
       "      <td>9.998762e-07</td>\n",
       "      <td>1.413316</td>\n",
       "    </tr>\n",
       "  </tbody>\n",
       "</table>\n",
       "</div>"
      ],
      "text/plain": [
       "   DRUG_ID  n_samples  r2_global  pearson_r  pearson_pval      rmse\n",
       "0        1        384   0.079718   0.287701  9.399584e-09  1.067034\n",
       "1        3        350   0.074171   0.272600  2.218011e-07  1.934345\n",
       "2        5        387   0.196346   0.446112  2.527155e-20  1.482466\n",
       "3        6        396   0.004125   0.084241  9.411924e-02  0.893095\n",
       "4        9        390   0.057456   0.244709  9.998762e-07  1.413316"
      ]
     },
     "execution_count": 1,
     "metadata": {},
     "output_type": "execute_result"
    }
   ],
   "source": [
    "import pandas as pd\n",
    "\n",
    "FILE = \"10_fold_voom_30_pcs_tissue_growth.csv\"\n",
    "\n",
    "df = pd.read_csv(FILE)\n",
    "print(\"Loaded:\", df.shape)\n",
    "df.head()\n"
   ]
  },
  {
   "cell_type": "code",
   "execution_count": 2,
   "id": "8f789729",
   "metadata": {},
   "outputs": [
    {
     "name": "stdout",
     "output_type": "stream",
     "text": [
      "   DRUG_ID  n_samples  r2_global  pearson_r   pearson_pval      rmse\n",
      "0     1845        712   0.521007   0.722608  5.772288e-116  1.613971\n",
      "1     2540        956   0.517618   0.719504  3.185975e-153  1.092630\n",
      "2     2038        728   0.514508   0.717732  3.118649e-116  0.989396\n",
      "3     2508        947   0.513038   0.716284  7.749874e-150  0.761473\n",
      "4     1096        260   0.510800   0.715251   4.938554e-42  1.674370\n",
      "5     1931        954   0.507774   0.712620  1.017114e-148  0.863162\n",
      "6     2515        938   0.494971   0.703567  5.081002e-141  0.759103\n",
      "7     1089        955   0.485209   0.696773  1.113740e-139  1.246028\n",
      "8      427        889   0.480576   0.693242  2.613705e-128  0.742777\n",
      "9     1526        847   0.478830   0.692106  9.075230e-122  1.215987\n"
     ]
    }
   ],
   "source": [
    "# Sort by r2_global (descending)\n",
    "df_sorted = df.sort_values(\"r2_global\", ascending=False)\n",
    "\n",
    "# Top 10\n",
    "top10 = df_sorted.head(10).reset_index(drop=True)\n",
    "print(top10)\n",
    "\n",
    "# Save\n",
    "top10.to_csv(\"top10_drugs_by_r2.csv\", index=False)\n"
   ]
  },
  {
   "cell_type": "code",
   "execution_count": 3,
   "id": "2b9b8c9f",
   "metadata": {},
   "outputs": [
    {
     "name": "stdout",
     "output_type": "stream",
     "text": [
      "Top 10 by lowest RMSE:\n",
      "     DRUG_ID  n_samples  r2_global  pearson_r  pearson_pval      rmse\n",
      "349     1262        883   0.278807   0.528998  7.985689e-65  0.464078\n",
      "122      266        897   0.290392   0.538990  9.805578e-69  0.468546\n",
      "189      409        900   0.281690   0.530895  1.379283e-66  0.471834\n",
      "188      408        902   0.277282   0.527529  9.232056e-66  0.472181\n",
      "47       150        855   0.210683   0.459309  7.657151e-46  0.475646\n",
      "351     1264        882   0.151513   0.389291  2.708771e-33  0.507761\n",
      "345     1253        893   0.228577   0.478579  2.621239e-52  0.514264\n",
      "425     1530        820   0.246595   0.496651  2.732737e-52  0.529657\n",
      "350     1263        869   0.180188   0.424495  2.488606e-39  0.549614\n",
      "33        91        392   0.134606   0.367447  5.630910e-14  0.552342\n",
      "Top 10 by highest Pearson r:\n",
      "     DRUG_ID  n_samples  r2_global  pearson_r   pearson_pval      rmse\n",
      "528     1845        712   0.521007   0.722608  5.772288e-116  1.613971\n",
      "656     2540        956   0.517618   0.719504  3.185975e-153  1.092630\n",
      "573     2038        728   0.514508   0.717732  3.118649e-116  0.989396\n",
      "624     2508        947   0.513038   0.716284  7.749874e-150  0.761473\n",
      "290     1096        260   0.510800   0.715251   4.938554e-42  1.674370\n",
      "556     1931        954   0.507774   0.712620  1.017114e-148  0.863162\n",
      "631     2515        938   0.494971   0.703567  5.081002e-141  0.759103\n",
      "287     1089        955   0.485209   0.696773  1.113740e-139  1.246028\n",
      "194      427        889   0.480576   0.693242  2.613705e-128  0.742777\n",
      "422     1526        847   0.478830   0.692106  9.075230e-122  1.215987\n"
     ]
    }
   ],
   "source": [
    "# If you want to double-check consistency across metrics\n",
    "print(\"Top 10 by lowest RMSE:\")\n",
    "print(df.sort_values(\"rmse\").head(10))\n",
    "\n",
    "print(\"Top 10 by highest Pearson r:\")\n",
    "print(df.sort_values(\"pearson_r\", ascending=False).head(10))\n"
   ]
  },
  {
   "cell_type": "code",
   "execution_count": 4,
   "id": "3569619f",
   "metadata": {},
   "outputs": [
    {
     "name": "stdout",
     "output_type": "stream",
     "text": [
      "Selected best drugs: [1845, 2540, 2038, 2508, 1096, 1931, 2515, 1089, 427, 1526]\n"
     ]
    }
   ],
   "source": [
    "# Pick top 5–10 drug IDs (from R² ranking)\n",
    "best_drugs = top10[\"DRUG_ID\"].tolist()\n",
    "print(\"Selected best drugs:\", best_drugs)\n"
   ]
  }
 ],
 "metadata": {
  "kernelspec": {
   "display_name": "tese-env",
   "language": "python",
   "name": "python3"
  },
  "language_info": {
   "codemirror_mode": {
    "name": "ipython",
    "version": 3
   },
   "file_extension": ".py",
   "mimetype": "text/x-python",
   "name": "python",
   "nbconvert_exporter": "python",
   "pygments_lexer": "ipython3",
   "version": "3.10.16"
  }
 },
 "nbformat": 4,
 "nbformat_minor": 5
}
