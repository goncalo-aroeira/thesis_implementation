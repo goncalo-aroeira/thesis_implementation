{
 "cells": [
  {
   "cell_type": "markdown",
   "id": "85bb0dea",
   "metadata": {},
   "source": [
    "# 🔗 Merge PCA Embeddings with Drug Response Dataset\n",
    "\n",
    "In this notebook, we merge the PCA-transformed scFoundation embeddings with our drug response bulk dataset using the shared `SANGER_MODEL_ID`. This prepares the data for downstream modeling.\n"
   ]
  },
  {
   "cell_type": "code",
   "execution_count": 1,
   "id": "3f156266",
   "metadata": {},
   "outputs": [],
   "source": [
    "import polars as pl\n",
    "import pandas as pd\n"
   ]
  },
  {
   "cell_type": "markdown",
   "id": "346b89a3",
   "metadata": {},
   "source": [
    "## 📥 Load Datasets\n",
    "\n",
    "We load both:\n",
    "- `bulk_with_pca.parquet`: the original drug response dataset with PCA features.\n",
    "- `scfoundation_bulk_pca_top{N}.parquet`: the selected PCA-transformed scFoundation embeddings.\n"
   ]
  },
  {
   "cell_type": "code",
   "execution_count": 2,
   "id": "89bc0be6",
   "metadata": {},
   "outputs": [
    {
     "name": "stdout",
     "output_type": "stream",
     "text": [
      "Bulk shape: (571985, 23)\n",
      "scFoundation PCs shape: (1431, 31)\n"
     ]
    }
   ],
   "source": [
    "bulk_path = \"../../data/bulk/bulk_with_pca.parquet\"\n",
    "scf_pca_path = \"../../data/embeddings/scfoundation_bulk_pca_top30.parquet\"  # ← adjust as needed\n",
    "\n",
    "bulk_df = pl.read_parquet(bulk_path)\n",
    "scf_pcs_df = pl.read_parquet(scf_pca_path)\n",
    "\n",
    "print(\"Bulk shape:\", bulk_df.shape)\n",
    "print(\"scFoundation PCs shape:\", scf_pcs_df.shape)\n"
   ]
  },
  {
   "cell_type": "markdown",
   "id": "604ca6b7",
   "metadata": {},
   "source": [
    "## 🔗 Merge on SANGER_MODEL_ID\n",
    "\n",
    "We merge the two datasets using their shared cell line identifier.\n"
   ]
  },
  {
   "cell_type": "code",
   "execution_count": 3,
   "id": "eca69a57",
   "metadata": {},
   "outputs": [
    {
     "name": "stdout",
     "output_type": "stream",
     "text": [
      "✅ Merged shape: (571985, 53)\n"
     ]
    },
    {
     "data": {
      "text/html": [
       "<div><style>\n",
       ".dataframe > thead > tr,\n",
       ".dataframe > tbody > tr {\n",
       "  text-align: right;\n",
       "  white-space: pre-wrap;\n",
       "}\n",
       "</style>\n",
       "<small>shape: (5, 53)</small><table border=\"1\" class=\"dataframe\"><thead><tr><th>SANGER_MODEL_ID</th><th>DRUG_ID</th><th>LN_IC50</th><th>PC1</th><th>PC2</th><th>PC3</th><th>PC4</th><th>PC5</th><th>PC6</th><th>PC7</th><th>PC8</th><th>PC9</th><th>PC10</th><th>PC11</th><th>PC12</th><th>PC13</th><th>PC14</th><th>PC15</th><th>PC16</th><th>PC17</th><th>PC18</th><th>PC19</th><th>PC20</th><th>SCF_PC1</th><th>SCF_PC2</th><th>SCF_PC3</th><th>SCF_PC4</th><th>SCF_PC5</th><th>SCF_PC6</th><th>SCF_PC7</th><th>SCF_PC8</th><th>SCF_PC9</th><th>SCF_PC10</th><th>SCF_PC11</th><th>SCF_PC12</th><th>SCF_PC13</th><th>SCF_PC14</th><th>SCF_PC15</th><th>SCF_PC16</th><th>SCF_PC17</th><th>SCF_PC18</th><th>SCF_PC19</th><th>SCF_PC20</th><th>SCF_PC21</th><th>SCF_PC22</th><th>SCF_PC23</th><th>SCF_PC24</th><th>SCF_PC25</th><th>SCF_PC26</th><th>SCF_PC27</th><th>SCF_PC28</th><th>SCF_PC29</th><th>SCF_PC30</th></tr><tr><td>str</td><td>i32</td><td>f32</td><td>f64</td><td>f64</td><td>f64</td><td>f64</td><td>f64</td><td>f64</td><td>f64</td><td>f64</td><td>f64</td><td>f64</td><td>f64</td><td>f64</td><td>f64</td><td>f64</td><td>f64</td><td>f64</td><td>f64</td><td>f64</td><td>f64</td><td>f64</td><td>f32</td><td>f32</td><td>f32</td><td>f32</td><td>f32</td><td>f32</td><td>f32</td><td>f32</td><td>f32</td><td>f32</td><td>f32</td><td>f32</td><td>f32</td><td>f32</td><td>f32</td><td>f32</td><td>f32</td><td>f32</td><td>f32</td><td>f32</td><td>f32</td><td>f32</td><td>f32</td><td>f32</td><td>f32</td><td>f32</td><td>f32</td><td>f32</td><td>f32</td><td>f32</td></tr></thead><tbody><tr><td>&quot;SIDM00374&quot;</td><td>1009</td><td>4.13448</td><td>-28.505416</td><td>15.954326</td><td>-15.403949</td><td>77.513751</td><td>-0.946082</td><td>-6.623787</td><td>-0.623556</td><td>-10.833356</td><td>38.380781</td><td>20.099759</td><td>2.175345</td><td>-16.464194</td><td>-10.640596</td><td>20.195702</td><td>9.752242</td><td>14.056471</td><td>53.575456</td><td>15.126258</td><td>3.522584</td><td>7.078355</td><td>11.742195</td><td>5.695343</td><td>-0.980334</td><td>1.374318</td><td>1.677247</td><td>-0.751574</td><td>2.265758</td><td>0.109941</td><td>1.176413</td><td>-1.322149</td><td>-0.528211</td><td>-0.990986</td><td>0.875835</td><td>-1.111073</td><td>0.924814</td><td>-0.413847</td><td>0.053407</td><td>-0.414999</td><td>0.509911</td><td>-1.369889</td><td>0.06681</td><td>-0.710609</td><td>2.056372</td><td>-0.384537</td><td>-2.237147</td><td>-0.324567</td><td>0.040354</td><td>-0.083504</td><td>0.197229</td><td>-0.108249</td></tr><tr><td>&quot;SIDM00255&quot;</td><td>268</td><td>-2.236015</td><td>-72.539809</td><td>70.288927</td><td>47.149003</td><td>-35.875317</td><td>-14.800827</td><td>-61.821066</td><td>-22.695374</td><td>9.278978</td><td>-14.422315</td><td>11.052211</td><td>16.081292</td><td>-8.262185</td><td>6.421972</td><td>55.240793</td><td>-0.754531</td><td>-31.702417</td><td>11.489405</td><td>-33.517716</td><td>14.455342</td><td>24.926537</td><td>3.332758</td><td>-9.180953</td><td>5.904081</td><td>-2.008322</td><td>-2.860039</td><td>-1.119856</td><td>0.428514</td><td>1.568974</td><td>1.41685</td><td>0.53232</td><td>1.367796</td><td>0.047008</td><td>1.239683</td><td>-1.417038</td><td>0.879389</td><td>0.679442</td><td>0.825101</td><td>0.434853</td><td>0.623342</td><td>0.910059</td><td>0.424401</td><td>1.252568</td><td>0.261637</td><td>-1.331824</td><td>-1.260733</td><td>0.094333</td><td>-0.012018</td><td>0.273703</td><td>0.18038</td><td>0.306647</td></tr><tr><td>&quot;SIDM01182&quot;</td><td>1012</td><td>1.321538</td><td>-11.762381</td><td>-15.510162</td><td>-13.228404</td><td>-12.442003</td><td>29.096062</td><td>2.482356</td><td>1.617503</td><td>27.191232</td><td>-0.356424</td><td>-9.37755</td><td>1.051495</td><td>6.730509</td><td>0.671253</td><td>15.4325</td><td>-1.134384</td><td>4.364938</td><td>-5.846964</td><td>14.106168</td><td>-7.001153</td><td>-7.485627</td><td>0.536576</td><td>-5.31786</td><td>0.857577</td><td>-1.52326</td><td>0.952468</td><td>-1.815738</td><td>-0.326957</td><td>-2.981958</td><td>-0.331892</td><td>0.252378</td><td>-1.03911</td><td>-2.24098</td><td>0.318295</td><td>0.711528</td><td>0.414811</td><td>0.843296</td><td>-1.001374</td><td>0.66648</td><td>0.639443</td><td>-0.639352</td><td>0.024757</td><td>0.703827</td><td>-0.793418</td><td>0.607032</td><td>0.52742</td><td>-0.343146</td><td>-0.18588</td><td>-0.493611</td><td>-0.034714</td><td>0.672391</td></tr><tr><td>&quot;SIDM01160&quot;</td><td>1023</td><td>3.875126</td><td>0.441912</td><td>-3.967296</td><td>31.176757</td><td>19.107893</td><td>-30.850983</td><td>25.624592</td><td>-11.967721</td><td>-9.186016</td><td>-5.26644</td><td>-4.365537</td><td>0.739011</td><td>-0.654428</td><td>-5.116252</td><td>-5.523746</td><td>5.747823</td><td>-10.201446</td><td>1.273372</td><td>-11.593635</td><td>-0.940643</td><td>9.067345</td><td>-2.219563</td><td>3.435795</td><td>-0.59132</td><td>-6.10627</td><td>-1.400329</td><td>3.127556</td><td>2.096093</td><td>0.052474</td><td>1.649546</td><td>-0.801234</td><td>-0.326037</td><td>0.456042</td><td>1.090816</td><td>1.426403</td><td>0.393986</td><td>1.265444</td><td>1.079708</td><td>-0.139628</td><td>-0.667466</td><td>-1.38687</td><td>0.605876</td><td>0.063188</td><td>-0.164596</td><td>0.310941</td><td>0.279967</td><td>0.357943</td><td>0.244326</td><td>-0.219723</td><td>1.020183</td><td>-0.20317</td></tr><tr><td>&quot;SIDM00547&quot;</td><td>1197</td><td>4.457386</td><td>4.734531</td><td>-15.370917</td><td>-26.561868</td><td>-8.833916</td><td>6.84145</td><td>17.041301</td><td>-7.185372</td><td>6.106195</td><td>-9.474964</td><td>12.378004</td><td>1.889727</td><td>-4.694882</td><td>7.752625</td><td>3.787118</td><td>-6.225207</td><td>9.836332</td><td>-1.443811</td><td>1.359039</td><td>-9.641303</td><td>2.451467</td><td>-4.084301</td><td>3.194926</td><td>-1.897031</td><td>2.301683</td><td>-2.020154</td><td>-1.465294</td><td>-0.101874</td><td>-0.808305</td><td>-1.192596</td><td>-0.198156</td><td>-1.752649</td><td>-0.036972</td><td>-2.315455</td><td>0.615455</td><td>-0.142696</td><td>0.112447</td><td>-0.815359</td><td>0.011182</td><td>-0.59948</td><td>0.7406</td><td>-1.416897</td><td>0.318786</td><td>-1.222698</td><td>-2.190403</td><td>0.320682</td><td>-0.069942</td><td>0.374796</td><td>-0.667876</td><td>-0.497415</td><td>0.16118</td></tr></tbody></table></div>"
      ],
      "text/plain": [
       "shape: (5, 53)\n",
       "┌────────────┬─────────┬───────────┬───────────┬───┬───────────┬───────────┬───────────┬───────────┐\n",
       "│ SANGER_MOD ┆ DRUG_ID ┆ LN_IC50   ┆ PC1       ┆ … ┆ SCF_PC27  ┆ SCF_PC28  ┆ SCF_PC29  ┆ SCF_PC30  │\n",
       "│ EL_ID      ┆ ---     ┆ ---       ┆ ---       ┆   ┆ ---       ┆ ---       ┆ ---       ┆ ---       │\n",
       "│ ---        ┆ i32     ┆ f32       ┆ f64       ┆   ┆ f32       ┆ f32       ┆ f32       ┆ f32       │\n",
       "│ str        ┆         ┆           ┆           ┆   ┆           ┆           ┆           ┆           │\n",
       "╞════════════╪═════════╪═══════════╪═══════════╪═══╪═══════════╪═══════════╪═══════════╪═══════════╡\n",
       "│ SIDM00374  ┆ 1009    ┆ 4.13448   ┆ -28.50541 ┆ … ┆ 0.040354  ┆ -0.083504 ┆ 0.197229  ┆ -0.108249 │\n",
       "│            ┆         ┆           ┆ 6         ┆   ┆           ┆           ┆           ┆           │\n",
       "│ SIDM00255  ┆ 268     ┆ -2.236015 ┆ -72.53980 ┆ … ┆ -0.012018 ┆ 0.273703  ┆ 0.18038   ┆ 0.306647  │\n",
       "│            ┆         ┆           ┆ 9         ┆   ┆           ┆           ┆           ┆           │\n",
       "│ SIDM01182  ┆ 1012    ┆ 1.321538  ┆ -11.76238 ┆ … ┆ -0.18588  ┆ -0.493611 ┆ -0.034714 ┆ 0.672391  │\n",
       "│            ┆         ┆           ┆ 1         ┆   ┆           ┆           ┆           ┆           │\n",
       "│ SIDM01160  ┆ 1023    ┆ 3.875126  ┆ 0.441912  ┆ … ┆ 0.244326  ┆ -0.219723 ┆ 1.020183  ┆ -0.20317  │\n",
       "│ SIDM00547  ┆ 1197    ┆ 4.457386  ┆ 4.734531  ┆ … ┆ 0.374796  ┆ -0.667876 ┆ -0.497415 ┆ 0.16118   │\n",
       "└────────────┴─────────┴───────────┴───────────┴───┴───────────┴───────────┴───────────┴───────────┘"
      ]
     },
     "execution_count": 3,
     "metadata": {},
     "output_type": "execute_result"
    }
   ],
   "source": [
    "merged_df = bulk_df.join(scf_pcs_df, on=\"SANGER_MODEL_ID\", how=\"inner\")\n",
    "\n",
    "print(\"✅ Merged shape:\", merged_df.shape)\n",
    "merged_df.head()\n"
   ]
  },
  {
   "cell_type": "markdown",
   "id": "667e4476",
   "metadata": {},
   "source": [
    "## 💾 Save Merged Dataset\n",
    "\n",
    "We'll save the merged dataset to a new Parquet file for downstream training and evaluation.\n"
   ]
  },
  {
   "cell_type": "code",
   "execution_count": 5,
   "id": "d6b8632d",
   "metadata": {},
   "outputs": [
    {
     "name": "stdout",
     "output_type": "stream",
     "text": [
      "✅ Saved to ../../data/bulk/bulk_with_scfoundation_pca_top30.parquet\n"
     ]
    }
   ],
   "source": [
    "output_path = f\"../../data/bulk/bulk_with_scfoundation_pca_top30.parquet\"  # adjust number if needed\n",
    "merged_df.write_parquet(output_path)\n",
    "print(f\"✅ Saved to {output_path}\")\n"
   ]
  }
 ],
 "metadata": {
  "kernelspec": {
   "display_name": "tese-env",
   "language": "python",
   "name": "python3"
  },
  "language_info": {
   "codemirror_mode": {
    "name": "ipython",
    "version": 3
   },
   "file_extension": ".py",
   "mimetype": "text/x-python",
   "name": "python",
   "nbconvert_exporter": "python",
   "pygments_lexer": "ipython3",
   "version": "3.10.16"
  }
 },
 "nbformat": 4,
 "nbformat_minor": 5
}
