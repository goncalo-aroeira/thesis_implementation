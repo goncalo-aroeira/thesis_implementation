{
 "cells": [
  {
   "cell_type": "code",
   "execution_count": 5,
   "metadata": {},
   "outputs": [
    {
     "name": "stdout",
     "output_type": "stream",
     "text": [
      "🧠 All columns:\n",
      "['SANGER_MODEL_ID', 'DRUG_ID', 'LN_IC50', 'model_name', 'dataset_name', 'data_source', 'gene_id', 'SIDG00001', 'SIDG00002', 'SIDG00003']\n",
      "🧼 Dropped columns: ['model_name', 'dataset_name', 'data_source', 'gene_id']\n",
      "✅ Cleaned shape: (575197, 37605)\n"
     ]
    }
   ],
   "source": [
    "import polars as pl\n",
    "\n",
    "# Load the pseudo-bulk dataset\n",
    "pseudo_bulk = pl.read_parquet(\"../../data/pseudo_bulk/gdsc_single_cell_aligned.parquet\")\n",
    "\n",
    "# Preview columns\n",
    "print(\"🧠 All columns:\")\n",
    "print(pseudo_bulk.columns[:10])  # show first few for context\n",
    "\n",
    "# Drop metadata columns if present\n",
    "columns_to_drop = [\"model_name\", \"dataset_name\", \"data_source\", \"gene_id\"]\n",
    "columns_present = [col for col in columns_to_drop if col in pseudo_bulk.columns]\n",
    "cleaned = pseudo_bulk.drop(columns_present)\n",
    "\n",
    "print(f\"🧼 Dropped columns: {columns_present}\")\n",
    "print(f\"✅ Cleaned shape: {cleaned.shape}\")\n"
   ]
  },
  {
   "cell_type": "code",
   "execution_count": null,
   "metadata": {},
   "outputs": [
    {
     "name": "stdout",
     "output_type": "stream",
     "text": [
      "\n",
      "🔎 Sample rows:\n",
      "shape: (5, 37_605)\n",
      "┌────────────┬─────────┬───────────┬───────────┬───┬───────────┬───────────┬───────────┬───────────┐\n",
      "│ SANGER_MOD ┆ DRUG_ID ┆ LN_IC50   ┆ SIDG00001 ┆ … ┆ SIDG42475 ┆ SIDG42479 ┆ SIDG42480 ┆ SIDG42481 │\n",
      "│ EL_ID      ┆ ---     ┆ ---       ┆ ---       ┆   ┆ ---       ┆ ---       ┆ ---       ┆ ---       │\n",
      "│ ---        ┆ i32     ┆ f32       ┆ f64       ┆   ┆ f64       ┆ f64       ┆ f64       ┆ f64       │\n",
      "│ str        ┆         ┆           ┆           ┆   ┆           ┆           ┆           ┆           │\n",
      "╞════════════╪═════════╪═══════════╪═══════════╪═══╪═══════════╪═══════════╪═══════════╪═══════════╡\n",
      "│ SIDM00374  ┆ 1009    ┆ 4.13448   ┆ 0.086178  ┆ … ┆ 1.7613    ┆ 1.713798  ┆ 0.932164  ┆ 0.425268  │\n",
      "│ SIDM00255  ┆ 268     ┆ -2.236015 ┆ 0.254642  ┆ … ┆ 2.109     ┆ 2.418589  ┆ 1.196948  ┆ 0.470004  │\n",
      "│ SIDM01182  ┆ 1012    ┆ 1.321538  ┆ 0.19062   ┆ … ┆ 2.291524  ┆ 1.517323  ┆ 0.854415  ┆ 0.157004  │\n",
      "│ SIDM01160  ┆ 1023    ┆ 3.875126  ┆ 0.039221  ┆ … ┆ 2.131797  ┆ 2.228939  ┆ 0.970779  ┆ 0.329304  │\n",
      "│ SIDM00547  ┆ 1197    ┆ 4.457386  ┆ 0.058269  ┆ … ┆ 1.998774  ┆ 1.401183  ┆ 0.936093  ┆ 0.198851  │\n",
      "└────────────┴─────────┴───────────┴───────────┴───┴───────────┴───────────┴───────────┴───────────┘\n",
      "\n",
      "🧪 Null values per column (top 5):\n",
      "shape: (1, 37_605)\n",
      "┌──────────────┬─────────┬─────────┬───────────┬───┬───────────┬───────────┬───────────┬───────────┐\n",
      "│ SANGER_MODEL ┆ DRUG_ID ┆ LN_IC50 ┆ SIDG00001 ┆ … ┆ SIDG42475 ┆ SIDG42479 ┆ SIDG42480 ┆ SIDG42481 │\n",
      "│ _ID          ┆ ---     ┆ ---     ┆ ---       ┆   ┆ ---       ┆ ---       ┆ ---       ┆ ---       │\n",
      "│ ---          ┆ u32     ┆ u32     ┆ u32       ┆   ┆ u32       ┆ u32       ┆ u32       ┆ u32       │\n",
      "│ u32          ┆         ┆         ┆           ┆   ┆           ┆           ┆           ┆           │\n",
      "╞══════════════╪═════════╪═════════╪═══════════╪═══╪═══════════╪═══════════╪═══════════╪═══════════╡\n",
      "│ 0            ┆ 0       ┆ 0       ┆ 2627      ┆ … ┆ 2627      ┆ 2627      ┆ 2627      ┆ 2627      │\n",
      "└──────────────┴─────────┴─────────┴───────────┴───┴───────────┴───────────┴───────────┴───────────┘\n"
     ]
    },
    {
     "ename": "AttributeError",
     "evalue": "'Expr' object has no attribute 'describe'",
     "output_type": "error",
     "traceback": [
      "\u001b[0;31m---------------------------------------------------------------------------\u001b[0m",
      "\u001b[0;31mAttributeError\u001b[0m                            Traceback (most recent call last)",
      "Cell \u001b[0;32mIn[6], line 15\u001b[0m\n\u001b[1;32m     12\u001b[0m gene_cols \u001b[38;5;241m=\u001b[39m [col \u001b[38;5;28;01mfor\u001b[39;00m col \u001b[38;5;129;01min\u001b[39;00m cleaned\u001b[38;5;241m.\u001b[39mcolumns \u001b[38;5;28;01mif\u001b[39;00m col \u001b[38;5;129;01mnot\u001b[39;00m \u001b[38;5;129;01min\u001b[39;00m non_gene_cols]\n\u001b[1;32m     14\u001b[0m \u001b[38;5;66;03m# Check basic stats across all gene columns\u001b[39;00m\n\u001b[0;32m---> 15\u001b[0m stats \u001b[38;5;241m=\u001b[39m cleaned\u001b[38;5;241m.\u001b[39mselect([\n\u001b[1;32m     16\u001b[0m     pl\u001b[38;5;241m.\u001b[39mcol(col)\u001b[38;5;241m.\u001b[39mcast(pl\u001b[38;5;241m.\u001b[39mFloat64)\u001b[38;5;241m.\u001b[39mdescribe()\u001b[38;5;241m.\u001b[39malias(col) \u001b[38;5;28;01mfor\u001b[39;00m col \u001b[38;5;129;01min\u001b[39;00m gene_cols[:\u001b[38;5;241m5\u001b[39m]  \u001b[38;5;66;03m# first 5 genes\u001b[39;00m\n\u001b[1;32m     17\u001b[0m ])\n\u001b[1;32m     18\u001b[0m \u001b[38;5;28mprint\u001b[39m(\u001b[38;5;124m\"\u001b[39m\u001b[38;5;130;01m\\n\u001b[39;00m\u001b[38;5;124m📊 Example gene stats (first 5 genes):\u001b[39m\u001b[38;5;124m\"\u001b[39m)\n\u001b[1;32m     19\u001b[0m \u001b[38;5;28mprint\u001b[39m(stats)\n",
      "Cell \u001b[0;32mIn[6], line 16\u001b[0m, in \u001b[0;36m<listcomp>\u001b[0;34m(.0)\u001b[0m\n\u001b[1;32m     12\u001b[0m gene_cols \u001b[38;5;241m=\u001b[39m [col \u001b[38;5;28;01mfor\u001b[39;00m col \u001b[38;5;129;01min\u001b[39;00m cleaned\u001b[38;5;241m.\u001b[39mcolumns \u001b[38;5;28;01mif\u001b[39;00m col \u001b[38;5;129;01mnot\u001b[39;00m \u001b[38;5;129;01min\u001b[39;00m non_gene_cols]\n\u001b[1;32m     14\u001b[0m \u001b[38;5;66;03m# Check basic stats across all gene columns\u001b[39;00m\n\u001b[1;32m     15\u001b[0m stats \u001b[38;5;241m=\u001b[39m cleaned\u001b[38;5;241m.\u001b[39mselect([\n\u001b[0;32m---> 16\u001b[0m     \u001b[43mpl\u001b[49m\u001b[38;5;241;43m.\u001b[39;49m\u001b[43mcol\u001b[49m\u001b[43m(\u001b[49m\u001b[43mcol\u001b[49m\u001b[43m)\u001b[49m\u001b[38;5;241;43m.\u001b[39;49m\u001b[43mcast\u001b[49m\u001b[43m(\u001b[49m\u001b[43mpl\u001b[49m\u001b[38;5;241;43m.\u001b[39;49m\u001b[43mFloat64\u001b[49m\u001b[43m)\u001b[49m\u001b[38;5;241;43m.\u001b[39;49m\u001b[43mdescribe\u001b[49m()\u001b[38;5;241m.\u001b[39malias(col) \u001b[38;5;28;01mfor\u001b[39;00m col \u001b[38;5;129;01min\u001b[39;00m gene_cols[:\u001b[38;5;241m5\u001b[39m]  \u001b[38;5;66;03m# first 5 genes\u001b[39;00m\n\u001b[1;32m     17\u001b[0m ])\n\u001b[1;32m     18\u001b[0m \u001b[38;5;28mprint\u001b[39m(\u001b[38;5;124m\"\u001b[39m\u001b[38;5;130;01m\\n\u001b[39;00m\u001b[38;5;124m📊 Example gene stats (first 5 genes):\u001b[39m\u001b[38;5;124m\"\u001b[39m)\n\u001b[1;32m     19\u001b[0m \u001b[38;5;28mprint\u001b[39m(stats)\n",
      "\u001b[0;31mAttributeError\u001b[0m: 'Expr' object has no attribute 'describe'"
     ]
    },
    {
     "ename": "",
     "evalue": "",
     "output_type": "error",
     "traceback": [
      "\u001b[1;31mThe Kernel crashed while executing code in the current cell or a previous cell. \n",
      "\u001b[1;31mPlease review the code in the cell(s) to identify a possible cause of the failure. \n",
      "\u001b[1;31mClick <a href='https://aka.ms/vscodeJupyterKernelCrash'>here</a> for more info. \n",
      "\u001b[1;31mView Jupyter <a href='command:jupyter.viewOutput'>log</a> for further details."
     ]
    }
   ],
   "source": [
    "# 1. Print a few rows\n",
    "print(\"\\n🔎 Sample rows:\")\n",
    "print(cleaned.head())\n",
    "\n",
    "# 2. Check for NaNs (there shouldn’t be any)\n",
    "null_counts = cleaned.null_count()\n",
    "print(\"\\n🧪 Null values per column (top 5):\")\n",
    "print(null_counts[:5])\n",
    "\n",
    "# 3. Check that gene expression columns have numeric values\n",
    "non_gene_cols = [\"SANGER_MODEL_ID\", \"DRUG_ID\", \"LN_IC50\"]\n",
    "gene_cols = [col for col in cleaned.columns if col not in non_gene_cols]\n",
    "\n",
    "# Check basic stats across all gene columns\n",
    "stats = cleaned.select([\n",
    "    pl.col(col).cast(pl.Float64).describe().alias(col) for col in gene_cols[:5]  # first 5 genes\n",
    "])\n",
    "print(\"\\n📊 Example gene stats (first 5 genes):\")\n",
    "print(stats)\n"
   ]
  },
  {
   "cell_type": "code",
   "execution_count": null,
   "metadata": {},
   "outputs": [
    {
     "name": "stdout",
     "output_type": "stream",
     "text": [
      "🔹 Number of unique cell lines in single-cell: 37606\n",
      "✅ Number of matching cell line IDs: 0\n",
      "🔗 Sample matching IDs: []\n",
      "❌ Cell lines in GDSC not found in single-cell: 978\n"
     ]
    }
   ],
   "source": [
    "# Look at the distribution of values for one example gene\n",
    "import matplotlib.pyplot as plt\n",
    "\n",
    "sample_gene = gene_cols[0]  # pick first gene\n",
    "gene_values = cleaned[sample_gene].to_numpy()\n",
    "\n",
    "plt.hist(gene_values, bins=30)\n",
    "plt.title(f\"Distribution of Expression Values: {sample_gene}\")\n",
    "plt.xlabel(\"Expression (log1p)\")\n",
    "plt.ylabel(\"Frequency\")\n",
    "plt.grid(True)\n",
    "plt.show()\n"
   ]
  }
 ],
 "metadata": {
  "kernelspec": {
   "display_name": "tese-env",
   "language": "python",
   "name": "python3"
  },
  "language_info": {
   "codemirror_mode": {
    "name": "ipython",
    "version": 3
   },
   "file_extension": ".py",
   "mimetype": "text/x-python",
   "name": "python",
   "nbconvert_exporter": "python",
   "pygments_lexer": "ipython3",
   "version": "3.10.16"
  }
 },
 "nbformat": 4,
 "nbformat_minor": 2
}
