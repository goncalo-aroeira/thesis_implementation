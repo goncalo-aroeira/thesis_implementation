{
 "cells": [
  {
   "cell_type": "markdown",
   "metadata": {},
   "source": [
    "### 🚫 Remove Cell Lines Not Present in Expression Matrix\n",
    "\n",
    "Some cell lines in the GDSC drug response data do not appear in the single-cell expression matrix. To ensure consistent alignment and avoid missing PCA values later, we remove these unmatched rows before merging.\n"
   ]
  },
  {
   "cell_type": "code",
   "execution_count": 1,
   "metadata": {},
   "outputs": [
    {
     "name": "stdout",
     "output_type": "stream",
     "text": [
      "🧬 Cell lines with gene expression data: 1427\n",
      "✅ GDSC rows before filtering: 575197\n",
      "✅ GDSC rows after filtering:  571985\n",
      "🧹 Removed 3212 unmatched cell line rows.\n",
      "❗ Cell lines in GDSC but NOT in gene expression matrix:\n",
      "shape: (7, 1)\n",
      "┌─────────────────┐\n",
      "│ SANGER_MODEL_ID │\n",
      "│ ---             │\n",
      "│ str             │\n",
      "╞═════════════════╡\n",
      "│ SIDM00361       │\n",
      "│ SIDM01201       │\n",
      "│ SIDM01261       │\n",
      "│ SIDM00205       │\n",
      "│ SIDM01219       │\n",
      "│ SIDM00003       │\n",
      "│ SIDM01021       │\n",
      "└─────────────────┘\n",
      "💾 Saved filtered GDSC dataset to 'gdsc_final_cleaned.parquet'\n"
     ]
    }
   ],
   "source": [
    "import polars as pl\n",
    "\n",
    "# Load GDSC drug response dataset\n",
    "gdsc_bulk = pl.read_parquet(\"../../data/gdsc/gdsc_final_cleaned.parquet\")\n",
    "\n",
    "# Load single-cell gene expression (transposed version)\n",
    "# We'll just extract the first row to get cell line names (i.e., column names from original matrix)\n",
    "cell_expr_df = pl.read_parquet(\"../../data/sc_data/rnaseq_fpkm.parquet\")\n",
    "expr_cell_lines = cell_expr_df.columns[5:]  # Skip first 5 non-gene columns (SANGER_MODEL_ID, etc.)\n",
    "\n",
    "print(f\"🧬 Cell lines with gene expression data: {len(expr_cell_lines)}\")\n",
    "\n",
    "# Keep only GDSC rows where cell line has expression\n",
    "gdsc_filtered = gdsc_bulk.filter(pl.col(\"SANGER_MODEL_ID\").is_in(expr_cell_lines))\n",
    "\n",
    "print(f\"✅ GDSC rows before filtering: {gdsc_bulk.shape[0]}\")\n",
    "print(f\"✅ GDSC rows after filtering:  {gdsc_filtered.shape[0]}\")\n",
    "print(f\"🧹 Removed {gdsc_bulk.shape[0] - gdsc_filtered.shape[0]} unmatched cell line rows.\")\n",
    "\n",
    "# Find missing cell lines (in GDSC but not in expression matrix)\n",
    "missing_cell_lines = gdsc_bulk.select(\"SANGER_MODEL_ID\").unique().filter(\n",
    "    ~pl.col(\"SANGER_MODEL_ID\").is_in(expr_cell_lines)\n",
    ")\n",
    "\n",
    "# Print summary\n",
    "print(\"❗ Cell lines in GDSC but NOT in gene expression matrix:\")\n",
    "print(missing_cell_lines)\n",
    "\n",
    "# Save the filtered GDSC dataset\n",
    "gdsc_filtered.write_parquet(\"../../data/gdsc/gdsc_final_cleaned.parquet\")\n",
    "print(\"💾 Saved filtered GDSC dataset to 'gdsc_final_cleaned.parquet'\")\n",
    "\n"
   ]
  }
 ],
 "metadata": {
  "kernelspec": {
   "display_name": "tese-env",
   "language": "python",
   "name": "python3"
  },
  "language_info": {
   "codemirror_mode": {
    "name": "ipython",
    "version": 3
   },
   "file_extension": ".py",
   "mimetype": "text/x-python",
   "name": "python",
   "nbconvert_exporter": "python",
   "pygments_lexer": "ipython3",
   "version": "3.10.16"
  }
 },
 "nbformat": 4,
 "nbformat_minor": 2
}
