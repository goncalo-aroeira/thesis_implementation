{
 "cells": [
  {
   "cell_type": "code",
   "execution_count": 1,
   "metadata": {},
   "outputs": [],
   "source": [
    "import polars as pl\n",
    "\n",
    "# Load data\n",
    "final_data = pl.read_parquet(\"data/gdsc_single_cell_aligned.parquet\")\n",
    "\n",
    "# Count unique cell lines per drug\n",
    "drug_counts = (\n",
    "    final_data\n",
    "    .group_by(\"DRUG_ID\")\n",
    "    .agg(\n",
    "        pl.col(\"SANGER_MODEL_ID\").n_unique().alias(\"num_cell_lines\")\n",
    "    )\n",
    "    .sort(\"num_cell_lines\", descending=True)\n",
    ")\n",
    "\n",
    "# Get top 20 drug IDs\n",
    "top_20_drugs = drug_counts.head(20)[\"DRUG_ID\"].to_list()\n",
    "\n",
    "# Filter the full dataset to include only those top 20 drugs\n",
    "filtered_data = final_data.filter(pl.col(\"DRUG_ID\").is_in(top_20_drugs))\n",
    "\n",
    "# Save the filtered dataset\n",
    "filtered_data.write_parquet(\"data/top20_drugs_dataset.parquet\")\n"
   ]
  }
 ],
 "metadata": {
  "kernelspec": {
   "display_name": "tese-env",
   "language": "python",
   "name": "python3"
  },
  "language_info": {
   "codemirror_mode": {
    "name": "ipython",
    "version": 3
   },
   "file_extension": ".py",
   "mimetype": "text/x-python",
   "name": "python",
   "nbconvert_exporter": "python",
   "pygments_lexer": "ipython3",
   "version": "3.10.16"
  }
 },
 "nbformat": 4,
 "nbformat_minor": 2
}
