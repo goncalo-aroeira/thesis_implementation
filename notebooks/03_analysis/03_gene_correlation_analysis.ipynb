{
 "cells": [
  {
   "cell_type": "markdown",
   "metadata": {},
   "source": [
    "# Extended Gene Correlation Analysis with IC50\n",
    "\n",
    "In addition to the correlation between genes and IC50 values, we will explore the following:\n",
    "1. **Correlation Matrix of Genes**: Visualize pairwise correlations between genes.\n",
    "2. **Correlation Between PCA Components and IC50**: Analyze how PCA components correlate with IC50.\n",
    "3. **Heatmap of Gene-IC50 Correlations**: Plot a heatmap showing the correlation between the most correlated genes and IC50.\n",
    "4. **Gene-to-Gene Correlation**: Explore the correlation between different genes.\n"
   ]
  },
  {
   "cell_type": "code",
   "execution_count": 2,
   "metadata": {},
   "outputs": [],
   "source": [
    "import os\n",
    "import polars as pl\n",
    "import pandas as pd\n",
    "import seaborn as sns\n",
    "import matplotlib.pyplot as plt\n"
   ]
  },
  {
   "cell_type": "code",
   "execution_count": null,
   "metadata": {},
   "outputs": [
    {
     "ename": "",
     "evalue": "",
     "output_type": "error",
     "traceback": [
      "\u001b[1;31mThe Kernel crashed while executing code in the current cell or a previous cell. \n",
      "\u001b[1;31mPlease review the code in the cell(s) to identify a possible cause of the failure. \n",
      "\u001b[1;31mClick <a href='https://aka.ms/vscodeJupyterKernelCrash'>here</a> for more info. \n",
      "\u001b[1;31mView Jupyter <a href='command:jupyter.viewOutput'>log</a> for further details."
     ]
    }
   ],
   "source": [
    "# Load final dataset\n",
    "final_data = pl.read_parquet(\"../../data/pseudo_bulk/gdsc_single_cell_aligned.parquet\")\n"
   ]
  },
  {
   "cell_type": "code",
   "execution_count": null,
   "metadata": {},
   "outputs": [],
   "source": [
    "# Select gene columns (assuming columns after 3rd are genes)\n",
    "gene_columns = final_data.columns[3:]\n",
    "\n",
    "# Calculate correlation between genes and IC50\n",
    "correlations = final_data[gene_columns].to_pandas().corrwith(final_data[\"LN_IC50\"].to_pandas()).sort_values()\n",
    "\n",
    "# Save top correlated genes (both positive and negative)\n",
    "correlations_df = pd.DataFrame({\n",
    "    \"Top Positively Correlated Genes\": correlations.tail(10).index.tolist(),\n",
    "    \"Top Negatively Correlated Genes\": correlations.head(10).index.tolist()\n",
    "})\n",
    "\n",
    "correlations_df.to_csv(\"statistics/gene_ic50_correlations.csv\", index=False)\n",
    "print(\"📂 Gene-IC50 correlations saved to 'statistics/gene_ic50_correlations.csv'\")\n"
   ]
  },
  {
   "cell_type": "code",
   "execution_count": null,
   "metadata": {},
   "outputs": [],
   "source": [
    "# Correlation Matrix of Genes\n",
    "gene_corr = final_data[gene_columns].to_pandas().corr()\n",
    "\n",
    "# Plot heatmap\n",
    "plt.figure(figsize=(12, 8))\n",
    "sns.heatmap(gene_corr, cmap=\"coolwarm\", annot=False, fmt=\".2f\", linewidths=0.5)\n",
    "plt.title(\"Gene-to-Gene Correlation Matrix\")\n",
    "plt.savefig(\"statistics/gene_correlation_matrix.png\")\n",
    "plt.show()\n",
    "plt.close()\n"
   ]
  },
  {
   "cell_type": "code",
   "execution_count": null,
   "metadata": {},
   "outputs": [],
   "source": [
    "# Select PCA components (assuming columns start with 'PC')\n",
    "pca_columns = [col for col in final_data.columns if col.startswith('PC')]\n",
    "\n",
    "# Calculate correlation between PCA components and IC50\n",
    "pca_corr = final_data[pca_columns].to_pandas().corrwith(final_data[\"LN_IC50\"].to_pandas()).sort_values()\n",
    "\n",
    "# Display the top 5 most positively and negatively correlated PCA components\n",
    "print(\"Top Positive PCA Correlations with IC50:\")\n",
    "print(pca_corr.tail(5))\n",
    "print(\"\\nTop Negative PCA Correlations with IC50:\")\n",
    "print(pca_corr.head(5))\n"
   ]
  },
  {
   "cell_type": "code",
   "execution_count": null,
   "metadata": {},
   "outputs": [],
   "source": [
    "# Get the top 10 positively correlated genes\n",
    "top_genes = correlations.tail(10).index.tolist()\n",
    "\n",
    "# Extract gene expressions for the top correlated genes\n",
    "gene_ic50_df = final_data[top_genes + [\"LN_IC50\"]].to_pandas()\n",
    "\n",
    "# Calculate correlation matrix between the top genes and IC50\n",
    "gene_ic50_corr = gene_ic50_df.corr()\n",
    "\n",
    "# Plot heatmap\n",
    "plt.figure(figsize=(8, 6))\n",
    "sns.heatmap(gene_ic50_corr, annot=True, cmap=\"coolwarm\", fmt=\".2f\", linewidths=0.5)\n",
    "plt.title(\"Top Gene-IC50 Correlation Heatmap\")\n",
    "plt.savefig(\"statistics/gene_ic50_correlation_heatmap.png\")\n",
    "plt.show()\n",
    "plt.close()\n"
   ]
  },
  {
   "cell_type": "code",
   "execution_count": null,
   "metadata": {},
   "outputs": [],
   "source": [
    "# Plot the pairwise gene-to-gene correlation heatmap\n",
    "plt.figure(figsize=(12, 8))\n",
    "sns.heatmap(gene_corr, cmap=\"coolwarm\", annot=False, fmt=\".2f\", linewidths=0.5)\n",
    "plt.title(\"Pairwise Gene Correlation Matrix\")\n",
    "plt.savefig(\"statistics/gene_pairwise_correlation_heatmap.png\")\n",
    "plt.show()\n",
    "plt.close()\n"
   ]
  },
  {
   "cell_type": "markdown",
   "metadata": {},
   "source": [
    "### Conclusion\n",
    "\n",
    "In addition to the gene-IC50 correlation analysis, we have:\n",
    "1. Generated a **correlation matrix** of genes to identify redundant features.\n",
    "2. Explored the **relationship between PCA components and IC50**.\n",
    "3. Created a **gene-IC50 correlation heatmap** to highlight important genes.\n",
    "4. Visualized **gene-to-gene correlations** for better understanding of feature interactions.\n",
    "\n",
    "- **Next Steps**: Proceed with feature variability analysis to identify the most variable genes across the dataset.\n"
   ]
  }
 ],
 "metadata": {
  "kernelspec": {
   "display_name": "tese-env",
   "language": "python",
   "name": "python3"
  },
  "language_info": {
   "codemirror_mode": {
    "name": "ipython",
    "version": 3
   },
   "file_extension": ".py",
   "mimetype": "text/x-python",
   "name": "python",
   "nbconvert_exporter": "python",
   "pygments_lexer": "ipython3",
   "version": "3.10.16"
  }
 },
 "nbformat": 4,
 "nbformat_minor": 2
}
