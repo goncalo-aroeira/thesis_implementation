{
 "cells": [
  {
   "cell_type": "markdown",
   "metadata": {},
   "source": [
    "# Dataset Statistics Analysis\n",
    "\n",
    "This notebook performs an initial overview of the dataset, providing basic statistics about the cell lines, drugs, and features in both the **GDSC** and **final datasets**. It will also include basic counts and summaries of the unique values and distribution in the dataset.\n",
    "\n",
    "## Steps:\n",
    "1. **Load datasets**: Load the GDSC, single-cell, and final processed datasets.\n",
    "2. **Dataset statistics**: Calculate key metrics for the data.\n",
    "3. **Save the results**: Save all statistics to CSV files for future use.\n"
   ]
  },
  {
   "cell_type": "code",
   "execution_count": 2,
   "metadata": {},
   "outputs": [],
   "source": [
    "import os\n",
    "import polars as pl\n",
    "\n",
    "# Create a directory to store statistics\n",
    "output_dir = \"statistics\"\n",
    "os.makedirs(output_dir, exist_ok=True)"
   ]
  },
  {
   "cell_type": "code",
   "execution_count": 3,
   "metadata": {},
   "outputs": [],
   "source": [
    "# Load datasets\n",
    "gdsc_bulk = pl.read_parquet(\"../../data/gdsc/gdsc_final_cleaned.parquet\").select([\n",
    "    \"SANGER_MODEL_ID\", \"DRUG_ID\", \"LN_IC50\"\n",
    "])\n",
    "sc_data = pl.read_parquet(\"../../data/sc_data/rnaseq_all_data.parquet\").select([\n",
    "    \"model_id\", \"gene_symbol\", \"fpkm\"\n",
    "])\n",
    "final_data = pl.read_parquet(\"../../data/pseudo_bulk/gdsc_single_cell_aligned.parquet\")"
   ]
  },
  {
   "cell_type": "markdown",
   "metadata": {},
   "source": [
    "## 2. Compute Summary Statistics\n",
    "This includes dataset dimensions, number of unique elements (genes, cell lines, drugs), and shape of the final modeling matrix.\n"
   ]
  },
  {
   "cell_type": "code",
   "execution_count": 4,
   "metadata": {},
   "outputs": [
    {
     "name": "stdout",
     "output_type": "stream",
     "text": [
      "📁 Saved summary to 'statistics/dataset_statistics.csv'\n"
     ]
    },
    {
     "data": {
      "text/html": [
       "<div><style>\n",
       ".dataframe > thead > tr,\n",
       ".dataframe > tbody > tr {\n",
       "  text-align: right;\n",
       "  white-space: pre-wrap;\n",
       "}\n",
       "</style>\n",
       "<small>shape: (9, 2)</small><table border=\"1\" class=\"dataframe\"><thead><tr><th>Metric</th><th>Value</th></tr><tr><td>str</td><td>i64</td></tr></thead><tbody><tr><td>&quot;🧬 Unique Genes in Raw Single-C…</td><td>37601</td></tr><tr><td>&quot;🧬 Unique Cell Lines in Single-…</td><td>1363</td></tr><tr><td>&quot;🧪 Total (Cell Line, Drug) Pair…</td><td>571985</td></tr><tr><td>&quot;🧬 Total Cell Lines in GDSC&quot;</td><td>971</td></tr><tr><td>&quot;💊 Total Unique Drugs in GDSC&quot;</td><td>621</td></tr><tr><td>&quot;📉 Features After PCA (Principa…</td><td>37602</td></tr><tr><td>&quot;📈 Cell Lines in Final Dataset&quot;</td><td>971</td></tr><tr><td>&quot;📈 Drugs in Final Dataset&quot;</td><td>621</td></tr><tr><td>&quot;📊 (Cell Line, Drug) Pairs in F…</td><td>571985</td></tr></tbody></table></div>"
      ],
      "text/plain": [
       "shape: (9, 2)\n",
       "┌─────────────────────────────────┬────────┐\n",
       "│ Metric                          ┆ Value  │\n",
       "│ ---                             ┆ ---    │\n",
       "│ str                             ┆ i64    │\n",
       "╞═════════════════════════════════╪════════╡\n",
       "│ 🧬 Unique Genes in Raw          ┆ 37601  │\n",
       "│ Single-C…                       ┆        │\n",
       "│ 🧬 Unique Cell Lines in         ┆ 1363   │\n",
       "│ Single-…                        ┆        │\n",
       "│ 🧪 Total (Cell Line, Drug)      ┆ 571985 │\n",
       "│ Pair…                           ┆        │\n",
       "│ 🧬 Total Cell Lines in GDSC     ┆ 971    │\n",
       "│ 💊 Total Unique Drugs in GDSC   ┆ 621    │\n",
       "│ 📉 Features After PCA           ┆ 37602  │\n",
       "│ (Principa…                      ┆        │\n",
       "│ 📈 Cell Lines in Final Dataset  ┆ 971    │\n",
       "│ 📈 Drugs in Final Dataset       ┆ 621    │\n",
       "│ 📊 (Cell Line, Drug) Pairs in   ┆ 571985 │\n",
       "│ F…                              ┆        │\n",
       "└─────────────────────────────────┴────────┘"
      ]
     },
     "execution_count": 4,
     "metadata": {},
     "output_type": "execute_result"
    }
   ],
   "source": [
    "stats_dict = {\n",
    "    \"🧬 Unique Genes in Raw Single-Cell\": sc_data.select(pl.col(\"gene_symbol\").n_unique()).item(),\n",
    "    \"🧬 Unique Cell Lines in Single-Cell\": sc_data.select(pl.col(\"model_id\").n_unique()).item(),\n",
    "    \"🧪 Total (Cell Line, Drug) Pairs in GDSC\": gdsc_bulk.shape[0],\n",
    "    \"🧬 Total Cell Lines in GDSC\": gdsc_bulk.select(pl.col(\"SANGER_MODEL_ID\").n_unique()).item(),\n",
    "    \"💊 Total Unique Drugs in GDSC\": gdsc_bulk.select(pl.col(\"DRUG_ID\").n_unique()).item(),\n",
    "    \"📉 Features After PCA (Principal Components)\": final_data.shape[1] - 3,  # remove ID, DRUG_ID, LN_IC50\n",
    "    \"📈 Cell Lines in Final Dataset\": final_data.select(pl.col(\"SANGER_MODEL_ID\").n_unique()).item(),\n",
    "    \"📈 Drugs in Final Dataset\": final_data.select(pl.col(\"DRUG_ID\").n_unique()).item(),\n",
    "    \"📊 (Cell Line, Drug) Pairs in Final Dataset\": final_data.shape[0],\n",
    "}\n",
    "\n",
    "\n",
    "# Convert to Polars for CSV export\n",
    "stats_df = pl.DataFrame([{\"Metric\": k, \"Value\": v} for k, v in stats_dict.items()])\n",
    "stats_df.write_csv(f\"{output_dir}/dataset_statistics.csv\")\n",
    "\n",
    "print(\"📁 Saved summary to 'statistics/dataset_statistics.csv'\")\n",
    "stats_df\n"
   ]
  },
  {
   "cell_type": "markdown",
   "metadata": {},
   "source": [
    "### Conclusion\n",
    "\n",
    "The dataset statistics have been calculated and saved successfully. You now have an overview of the number of cell lines, drugs, and the general structure of the dataset across GDSC, single-cell, and final datasets. This forms a foundation for further analysis and modeling.\n",
    "\n",
    "- **Next Steps**: Proceed to further explore the distribution of IC50 values and correlation of genes with IC50.\n"
   ]
  }
 ],
 "metadata": {
  "kernelspec": {
   "display_name": "tese-env",
   "language": "python",
   "name": "python3"
  },
  "language_info": {
   "codemirror_mode": {
    "name": "ipython",
    "version": 3
   },
   "file_extension": ".py",
   "mimetype": "text/x-python",
   "name": "python",
   "nbconvert_exporter": "python",
   "pygments_lexer": "ipython3",
   "version": "3.10.16"
  }
 },
 "nbformat": 4,
 "nbformat_minor": 2
}
