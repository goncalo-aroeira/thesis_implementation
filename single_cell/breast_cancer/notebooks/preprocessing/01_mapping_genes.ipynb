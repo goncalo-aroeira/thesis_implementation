{
 "cells": [
  {
   "cell_type": "code",
   "execution_count": null,
   "id": "3bbaa5b7",
   "metadata": {},
   "outputs": [
    {
     "name": "stdout",
     "output_type": "stream",
     "text": [
      "AnnData object with n_obs × n_vars = 35276 × 47096\n"
     ]
    }
   ],
   "source": [
    "import pandas as pd\n",
    "import scipy.io\n",
    "import scipy.sparse\n",
    "import scanpy as sc\n",
    "import gzip\n",
    "\n",
    "# Paths\n",
    "matrix_path = \"../../data/matrix.mtx.gz\"\n",
    "barcodes_path = \"../../data/barcodes.tsv.gz\"\n",
    "features_path = \"../../data/features.tsv.gz\"\n",
    "\n",
    "# Load\n",
    "matrix = scipy.io.mmread(gzip.open(matrix_path)).tocsr()\n",
    "barcodes = pd.read_csv(barcodes_path, header=None, compression=\"gzip\")[0].values\n",
    "features = pd.read_csv(features_path, header=None, compression=\"gzip\")[0].values\n",
    "\n",
    "# Transpose matrix to have (cells x genes)\n",
    "adata = sc.AnnData(X=matrix.T)\n",
    "\n",
    "# Assign barcodes and features\n",
    "adata.obs_names = barcodes  # cells\n",
    "adata.var_names = features  # genes\n",
    "\n",
    "print(adata)"
   ]
  },
  {
   "cell_type": "code",
   "execution_count": null,
   "id": "1c88f738",
   "metadata": {},
   "outputs": [],
   "source": [
    "import pandas as pd\n",
    "\n",
    "# Path to GTF\n",
    "gtf_path = \"../../data/gencode.v43.annotation.gtf.gz\"\n",
    "\n",
    "# Load GTF\n",
    "gtf = pd.read_csv(\n",
    "    gtf_path,\n",
    "    sep=\"\\t\",\n",
    "    comment=\"#\",\n",
    "    header=None,\n",
    "    names=[\n",
    "        \"chromosome\", \"source\", \"feature\", \"start\", \"end\",\n",
    "        \"score\", \"strand\", \"frame\", \"attribute\"\n",
    "    ],\n",
    "    compression=\"gzip\"\n",
    ")\n",
    "\n",
    "# Filter genes only\n",
    "gtf_genes = gtf[gtf[\"feature\"] == \"gene\"].copy()  # ⚡ Added .copy() to avoid SettingWithCopyWarning\n",
    "\n",
    "# Extract gene_id and gene_name\n",
    "gtf_genes[\"gene_id\"] = gtf_genes[\"attribute\"].str.extract('gene_id \"([^\"]+)\"')\n",
    "gtf_genes[\"gene_name\"] = gtf_genes[\"attribute\"].str.extract('gene_name \"([^\"]+)\"')\n",
    "\n",
    "# 🔥 REMOVE version numbers\n",
    "gtf_genes[\"gene_id\"] = gtf_genes[\"gene_id\"].str.split(\".\").str[0]\n",
    "\n",
    "# Build mapping\n",
    "id_to_symbol = pd.Series(gtf_genes.gene_name.values, index=gtf_genes.gene_id).to_dict()\n"
   ]
  },
  {
   "cell_type": "code",
   "execution_count": 14,
   "id": "32cc63ef",
   "metadata": {},
   "outputs": [
    {
     "name": "stdout",
     "output_type": "stream",
     "text": [
      "                gene_symbol\n",
      "ENSG00000000003      TSPAN6\n",
      "ENSG00000000419        DPM1\n",
      "ENSG00000000457       SCYL3\n",
      "ENSG00000000460    C1orf112\n",
      "ENSG00000001036       FUCA2\n"
     ]
    }
   ],
   "source": [
    "# Map gene symbols into adata\n",
    "adata.var[\"gene_symbol\"] = adata.var_names.map(id_to_symbol)\n",
    "\n",
    "# Check\n",
    "print(adata.var.head())\n"
   ]
  },
  {
   "cell_type": "code",
   "execution_count": null,
   "id": "d53dc15c",
   "metadata": {},
   "outputs": [],
   "source": [
    "adata.write(\"../../data/breast_cancer_raw_annotated.h5ad\")\n"
   ]
  }
 ],
 "metadata": {
  "kernelspec": {
   "display_name": "tese-env",
   "language": "python",
   "name": "python3"
  },
  "language_info": {
   "codemirror_mode": {
    "name": "ipython",
    "version": 3
   },
   "file_extension": ".py",
   "mimetype": "text/x-python",
   "name": "python",
   "nbconvert_exporter": "python",
   "pygments_lexer": "ipython3",
   "version": "3.10.16"
  }
 },
 "nbformat": 4,
 "nbformat_minor": 5
}
