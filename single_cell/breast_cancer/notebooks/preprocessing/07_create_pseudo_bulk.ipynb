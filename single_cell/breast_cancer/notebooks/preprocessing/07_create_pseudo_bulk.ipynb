{
 "cells": [
  {
   "cell_type": "code",
   "execution_count": 1,
   "id": "2f54fc60",
   "metadata": {},
   "outputs": [
    {
     "name": "stderr",
     "output_type": "stream",
     "text": [
      "/tmp/ipykernel_337154/994894137.py:15: FutureWarning: The default of observed=False is deprecated and will be changed to True in a future version of pandas. Pass observed=False to retain current behavior or observed=True to adopt the future default and silence this warning.\n",
      "  pseudobulk_df = expr_df.groupby(expr_df.index).mean()\n"
     ]
    },
    {
     "name": "stdout",
     "output_type": "stream",
     "text": [
      "✅ Pseudo-bulk matrix shape: (28, 47096)\n",
      "           ENSG00000000003  ENSG00000000419  ENSG00000000457  ENSG00000000460  \\\n",
      "SIDM                                                                            \n",
      "SIDM00097         0.159171         0.821657         0.037504         0.023015   \n",
      "SIDM00122         0.111349         0.780787         0.014637         0.035092   \n",
      "SIDM00135         0.052900         0.693550         0.015469         0.008199   \n",
      "SIDM00148         0.088177         0.819970         0.042099         0.012329   \n",
      "SIDM00272         0.002693         0.677463         0.094412         0.021891   \n",
      "\n",
      "           ENSG00000001036  ENSG00000001084  ENSG00000001167  ENSG00000001460  \\\n",
      "SIDM                                                                            \n",
      "SIDM00097         0.209755         0.081563         0.030173         0.042859   \n",
      "SIDM00122         0.708178         0.052642         0.076766         0.008354   \n",
      "SIDM00135         0.685742         0.152940         0.093721         0.105723   \n",
      "SIDM00148         0.477069         0.065080         0.070938         0.023402   \n",
      "SIDM00272         0.386451         0.097320         0.082375         0.024237   \n",
      "\n",
      "           ENSG00000001461  ENSG00000001497  ...  ENSG00000271681  \\\n",
      "SIDM                                         ...                    \n",
      "SIDM00097         0.314253         0.198347  ...         0.000000   \n",
      "SIDM00122         0.009870         0.503049  ...         0.000000   \n",
      "SIDM00135         0.175342         0.190094  ...         0.000000   \n",
      "SIDM00148         0.078875         0.343278  ...         0.000000   \n",
      "SIDM00272         0.117149         0.442587  ...         0.000546   \n",
      "\n",
      "           ENSG00000276605  ENSG00000277206  ENSG00000277591  ENSG00000278658  \\\n",
      "SIDM                                                                            \n",
      "SIDM00097         0.000000         0.000000         0.000000         0.000000   \n",
      "SIDM00122         0.000000         0.000000         0.000000         0.000000   \n",
      "SIDM00135         0.000000         0.000000         0.000000         0.000000   \n",
      "SIDM00148         0.000000         0.000000         0.000000         0.000000   \n",
      "SIDM00272         0.000761         0.000475         0.000518         0.000645   \n",
      "\n",
      "           ENSG00000279270  ENSG00000280920  ENSG00000283420  ENSG00000284003  \\\n",
      "SIDM                                                                            \n",
      "SIDM00097         0.000000          0.00000         0.000000         0.000000   \n",
      "SIDM00122         0.000000          0.00000         0.000000         0.000000   \n",
      "SIDM00135         0.000000          0.00000         0.000000         0.000000   \n",
      "SIDM00148         0.000000          0.00000         0.000000         0.000000   \n",
      "SIDM00272         0.000596          0.00077         0.000356         0.000643   \n",
      "\n",
      "           ENSG00000284685  \n",
      "SIDM                        \n",
      "SIDM00097         0.000000  \n",
      "SIDM00122         0.000000  \n",
      "SIDM00135         0.000000  \n",
      "SIDM00148         0.000000  \n",
      "SIDM00272         0.000576  \n",
      "\n",
      "[5 rows x 47096 columns]\n",
      "✅ Saved pseudo-bulk dataset to '../../data/pseudobulk_expression_mean.csv'\n"
     ]
    }
   ],
   "source": [
    "import pandas as pd\n",
    "import numpy as np\n",
    "import scanpy as sc\n",
    "\n",
    "# Load the AnnData object (already has SIDM mapping in .obs)\n",
    "adata = sc.read(\"../../data/breast_cancer_dimred.h5ad\")\n",
    "\n",
    "# Convert adata.X to dense array if it's sparse\n",
    "X = adata.X.toarray() if hasattr(adata.X, \"toarray\") else adata.X\n",
    "\n",
    "# Build a DataFrame with cells as rows and genes as columns\n",
    "expr_df = pd.DataFrame(X, columns=adata.var_names, index=adata.obs['SIDM'])\n",
    "\n",
    "# Group by SIDM (cell line) and take the mean expression per gene\n",
    "pseudobulk_df = expr_df.groupby(expr_df.index).mean()\n",
    "\n",
    "# Preview the result\n",
    "print(\"✅ Pseudo-bulk matrix shape:\", pseudobulk_df.shape)\n",
    "print(pseudobulk_df.head())\n",
    "\n",
    "# Save to CSV file\n",
    "pseudobulk_df.to_csv(\"../../data/pseudobulk_expression_mean.csv\")\n",
    "\n",
    "print(\"✅ Saved pseudo-bulk dataset to '../../data/pseudobulk_expression_mean.csv'\")\n"
   ]
  }
 ],
 "metadata": {
  "kernelspec": {
   "display_name": "tese-env",
   "language": "python",
   "name": "python3"
  },
  "language_info": {
   "codemirror_mode": {
    "name": "ipython",
    "version": 3
   },
   "file_extension": ".py",
   "mimetype": "text/x-python",
   "name": "python",
   "nbconvert_exporter": "python",
   "pygments_lexer": "ipython3",
   "version": "3.10.16"
  }
 },
 "nbformat": 4,
 "nbformat_minor": 5
}
