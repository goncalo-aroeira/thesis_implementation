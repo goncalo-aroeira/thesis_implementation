{
 "cells": [
  {
   "cell_type": "code",
   "execution_count": 1,
   "id": "7eefa113",
   "metadata": {},
   "outputs": [],
   "source": [
    "import os\n",
    "import pandas as pd\n",
    "import numpy as np\n",
    "import scanpy as sc\n",
    "import scipy.sparse as sp\n",
    "\n",
    "# Paths\n",
    "H5AD = \"../../data/processed/breast_cancer_raw_annotated.h5ad\"\n",
    "MAP_CSV = \"../../../../maps/gene_info.csv\"\n",
    "CELL_MAP = \"../../../../maps/cell_sanger_map.csv\"\n",
    "OUT_PARQUET = \"../../data/processed/breast_sc_log1pCP10k__symbols_sidm_mapped.parquet\""
   ]
  },
  {
   "cell_type": "code",
   "execution_count": 2,
   "id": "8b45e3c9",
   "metadata": {},
   "outputs": [
    {
     "name": "stdout",
     "output_type": "stream",
     "text": [
      "Loaded AnnData: AnnData object with n_obs × n_vars = 35276 × 47096\n",
      "    var: 'gene_symbol'\n"
     ]
    }
   ],
   "source": [
    "adata = sc.read_h5ad(H5AD)\n",
    "print(\"Loaded AnnData:\", adata)\n"
   ]
  },
  {
   "cell_type": "code",
   "execution_count": 3,
   "id": "407c5dd6",
   "metadata": {},
   "outputs": [
    {
     "name": "stdout",
     "output_type": "stream",
     "text": [
      "✅ Normalized and log-transformed data\n"
     ]
    }
   ],
   "source": [
    "sc.pp.normalize_total(adata, target_sum=1e4)\n",
    "sc.pp.log1p(adata)\n",
    "print(\"✅ Normalized and log-transformed data\")"
   ]
  },
  {
   "cell_type": "code",
   "execution_count": 4,
   "id": "772e7079",
   "metadata": {},
   "outputs": [
    {
     "name": "stdout",
     "output_type": "stream",
     "text": [
      "Dense matrix shape: (35276, 47096)\n"
     ]
    }
   ],
   "source": [
    "X = adata.X.toarray() if sp.issparse(adata.X) else adata.X\n",
    "print(\"Dense matrix shape:\", X.shape)"
   ]
  },
  {
   "cell_type": "code",
   "execution_count": 5,
   "id": "5fefb197",
   "metadata": {},
   "outputs": [
    {
     "name": "stdout",
     "output_type": "stream",
     "text": [
      "Initial DataFrame shape: (35276, 47096)\n",
      "Unmapped genes to drop: 74\n",
      "After symbol mapping: (35276, 47022)\n"
     ]
    }
   ],
   "source": [
    "ens_novers = pd.Index(adata.var_names.astype(str)).str.split(\".\").str[0]\n",
    "gmap = pd.read_csv(MAP_CSV)\n",
    "gmap[\"ensembl_novers\"] = gmap[\"feature_id\"].astype(str).str.split(\".\").str[0]\n",
    "gmap[\"symbol\"] = gmap[\"feature_name\"].astype(str)\n",
    "ens2sym = dict(zip(gmap[\"ensembl_novers\"], gmap[\"symbol\"]))\n",
    "\n",
    "mapped_symbols = pd.Series(ens_novers).map(ens2sym)\n",
    "colnames = mapped_symbols.fillna(pd.Series(ens_novers)).values\n",
    "\n",
    "df = pd.DataFrame(X, index=adata.obs_names.astype(str), columns=colnames)\n",
    "print(\"Initial DataFrame shape:\", df.shape)\n",
    "\n",
    "# Drop unmapped genes\n",
    "is_ensembl_like = pd.Index(df.columns).str.match(r\"ENSG\\d+$\")\n",
    "print(\"Unmapped genes to drop:\", int(is_ensembl_like.sum()))\n",
    "df = df.loc[:, ~is_ensembl_like]\n",
    "\n",
    "# Collapse duplicates by mean\n",
    "if not df.columns.is_unique:\n",
    "    df = df.T.groupby(level=0).mean().T\n",
    "    print(\"Collapsed duplicate symbols by mean.\")\n",
    "print(\"After symbol mapping:\", df.shape)"
   ]
  },
  {
   "cell_type": "code",
   "execution_count": 6,
   "id": "f618c7b3",
   "metadata": {},
   "outputs": [
    {
     "name": "stdout",
     "output_type": "stream",
     "text": [
      "❗ Unmapped cell lines: ['MCF12A' 'KPL1' 'ZR751' 'MX1']\n",
      "Total unmapped: 4\n",
      "✅ Filtered to mapped cell lines. Final n_cells: 30827\n"
     ]
    }
   ],
   "source": [
    "mapping_df = pd.read_csv(CELL_MAP).drop_duplicates()\n",
    "mapping_df.columns = ['SANGER_MODEL_ID', 'CELL_LINE_NAME']\n",
    "\n",
    "# Normalize names in both datasets\n",
    "adata.obs['cell_line'] = adata.obs.index.str.split('_').str[0]\n",
    "adata.obs['cell_line_norm'] = adata.obs['cell_line'].str.replace('-', '', regex=False).str.upper()\n",
    "mapping_df['CELL_LINE_NAME_NORM'] = mapping_df['CELL_LINE_NAME'].str.replace('-', '', regex=False).str.upper()\n",
    "\n",
    "# Create dictionary and map\n",
    "name_to_sidm = dict(zip(mapping_df['CELL_LINE_NAME_NORM'], mapping_df['SANGER_MODEL_ID']))\n",
    "adata.obs['SANGER_MODEL_ID'] = adata.obs['cell_line_norm'].map(name_to_sidm)\n",
    "\n",
    "# Filter unmapped cells\n",
    "unmapped = adata.obs[adata.obs['SANGER_MODEL_ID'].isna()]['cell_line'].unique()\n",
    "print(\"❗ Unmapped cell lines:\", unmapped)\n",
    "print(\"Total unmapped:\", len(unmapped))\n",
    "adata = adata[~adata.obs['SANGER_MODEL_ID'].isna()].copy()\n",
    "print(\"✅ Filtered to mapped cell lines. Final n_cells:\", adata.n_obs)"
   ]
  },
  {
   "cell_type": "code",
   "execution_count": 12,
   "id": "95f5214c",
   "metadata": {},
   "outputs": [
    {
     "name": "stdout",
     "output_type": "stream",
     "text": [
      "🧠 AnnData summary:\n",
      "AnnData object with n_obs × n_vars = 30827 × 47096\n",
      "    obs: 'cell_line', 'cell_line_norm', 'SANGER_MODEL_ID'\n",
      "    var: 'gene_symbol'\n",
      "    uns: 'log1p'\n",
      "\n",
      "obs keys: ['cell_line', 'cell_line_norm', 'SANGER_MODEL_ID']\n",
      "\n",
      "var shape: (47096, 1)\n",
      "obs shape: (30827, 3)\n",
      "\n",
      "First few obs rows:\n"
     ]
    },
    {
     "data": {
      "application/vnd.microsoft.datawrangler.viewer.v0+json": {
       "columns": [
        {
         "name": "index",
         "rawType": "object",
         "type": "string"
        },
        {
         "name": "cell_line",
         "rawType": "object",
         "type": "string"
        },
        {
         "name": "cell_line_norm",
         "rawType": "object",
         "type": "string"
        },
        {
         "name": "SANGER_MODEL_ID",
         "rawType": "object",
         "type": "string"
        }
       ],
       "ref": "8ad29a29-ff9a-403b-af25-ad11a22313d9",
       "rows": [
        [
         "AU565_AAACCAGTTTGG",
         "AU565",
         "AU565",
         "SIDM00898"
        ],
        [
         "AU565_AAACGTGCAGCG",
         "AU565",
         "AU565",
         "SIDM00898"
        ],
        [
         "AU565_AAAGCCACATGC",
         "AU565",
         "AU565",
         "SIDM00898"
        ],
        [
         "AU565_AAAGTCGGCTGG",
         "AU565",
         "AU565",
         "SIDM00898"
        ],
        [
         "AU565_AAAGTGCCTAAA",
         "AU565",
         "AU565",
         "SIDM00898"
        ]
       ],
       "shape": {
        "columns": 3,
        "rows": 5
       }
      },
      "text/html": [
       "<div>\n",
       "<style scoped>\n",
       "    .dataframe tbody tr th:only-of-type {\n",
       "        vertical-align: middle;\n",
       "    }\n",
       "\n",
       "    .dataframe tbody tr th {\n",
       "        vertical-align: top;\n",
       "    }\n",
       "\n",
       "    .dataframe thead th {\n",
       "        text-align: right;\n",
       "    }\n",
       "</style>\n",
       "<table border=\"1\" class=\"dataframe\">\n",
       "  <thead>\n",
       "    <tr style=\"text-align: right;\">\n",
       "      <th></th>\n",
       "      <th>cell_line</th>\n",
       "      <th>cell_line_norm</th>\n",
       "      <th>SANGER_MODEL_ID</th>\n",
       "    </tr>\n",
       "  </thead>\n",
       "  <tbody>\n",
       "    <tr>\n",
       "      <th>AU565_AAACCAGTTTGG</th>\n",
       "      <td>AU565</td>\n",
       "      <td>AU565</td>\n",
       "      <td>SIDM00898</td>\n",
       "    </tr>\n",
       "    <tr>\n",
       "      <th>AU565_AAACGTGCAGCG</th>\n",
       "      <td>AU565</td>\n",
       "      <td>AU565</td>\n",
       "      <td>SIDM00898</td>\n",
       "    </tr>\n",
       "    <tr>\n",
       "      <th>AU565_AAAGCCACATGC</th>\n",
       "      <td>AU565</td>\n",
       "      <td>AU565</td>\n",
       "      <td>SIDM00898</td>\n",
       "    </tr>\n",
       "    <tr>\n",
       "      <th>AU565_AAAGTCGGCTGG</th>\n",
       "      <td>AU565</td>\n",
       "      <td>AU565</td>\n",
       "      <td>SIDM00898</td>\n",
       "    </tr>\n",
       "    <tr>\n",
       "      <th>AU565_AAAGTGCCTAAA</th>\n",
       "      <td>AU565</td>\n",
       "      <td>AU565</td>\n",
       "      <td>SIDM00898</td>\n",
       "    </tr>\n",
       "  </tbody>\n",
       "</table>\n",
       "</div>"
      ],
      "text/plain": [
       "                   cell_line cell_line_norm SANGER_MODEL_ID\n",
       "AU565_AAACCAGTTTGG     AU565          AU565       SIDM00898\n",
       "AU565_AAACGTGCAGCG     AU565          AU565       SIDM00898\n",
       "AU565_AAAGCCACATGC     AU565          AU565       SIDM00898\n",
       "AU565_AAAGTCGGCTGG     AU565          AU565       SIDM00898\n",
       "AU565_AAAGTGCCTAAA     AU565          AU565       SIDM00898"
      ]
     },
     "metadata": {},
     "output_type": "display_data"
    },
    {
     "name": "stdout",
     "output_type": "stream",
     "text": [
      "\n",
      "Index sample (first 5):\n",
      "['AU565_AAACCAGTTTGG', 'AU565_AAACGTGCAGCG', 'AU565_AAAGCCACATGC', 'AU565_AAAGTCGGCTGG', 'AU565_AAAGTGCCTAAA']\n",
      "\n",
      "✅ 'SANGER_MODEL_ID' column found.\n",
      "Unique SANGER_MODEL_IDs: 28\n",
      "Missing values: 0\n",
      "\n",
      "Top 10 value counts:\n",
      "SANGER_MODEL_ID\n",
      "SIDM00629    2821\n",
      "SIDM00673    2818\n",
      "SIDM00122    2296\n",
      "SIDM00963    2158\n",
      "SIDM00872    1623\n",
      "SIDM00628    1573\n",
      "SIDM01056    1316\n",
      "SIDM00866    1280\n",
      "SIDM00933    1260\n",
      "SIDM00885    1147\n",
      "Name: count, dtype: int64\n"
     ]
    }
   ],
   "source": [
    "# %%\n",
    "import pandas as pd\n",
    "\n",
    "print(\"🧠 AnnData summary:\")\n",
    "print(adata)\n",
    "print(\"\\nobs keys:\", list(adata.obs.keys()))\n",
    "print(\"\\nvar shape:\", adata.var.shape)\n",
    "print(\"obs shape:\", adata.obs.shape)\n",
    "\n",
    "print(\"\\nFirst few obs rows:\")\n",
    "display(adata.obs.head())\n",
    "\n",
    "print(\"\\nIndex sample (first 5):\")\n",
    "print(adata.obs.index[:5].tolist())\n",
    "\n",
    "# Check if SANGER_MODEL_ID exists and how many are missing\n",
    "if \"SANGER_MODEL_ID\" in adata.obs.columns:\n",
    "    missing = adata.obs[\"SANGER_MODEL_ID\"].isna().sum()\n",
    "    unique = adata.obs[\"SANGER_MODEL_ID\"].nunique()\n",
    "    print(f\"\\n✅ 'SANGER_MODEL_ID' column found.\")\n",
    "    print(f\"Unique SANGER_MODEL_IDs: {unique}\")\n",
    "    print(f\"Missing values: {missing}\")\n",
    "    print(\"\\nTop 10 value counts:\")\n",
    "    print(adata.obs['SANGER_MODEL_ID'].value_counts().head(10))\n",
    "else:\n",
    "    print(\"\\n❌ 'SANGER_MODEL_ID' column not found in adata.obs\")\n"
   ]
  },
  {
   "cell_type": "code",
   "execution_count": 13,
   "id": "9ef8bbda",
   "metadata": {},
   "outputs": [
    {
     "name": "stdout",
     "output_type": "stream",
     "text": [
      "✅ Shared barcodes between df and adata: 30827\n",
      "✅ All cells have valid SANGER_MODEL_IDs: True\n",
      "\n",
      "📊 Cells per SANGER_MODEL_ID (top 10):\n",
      "SANGER_MODEL_ID\n",
      "SIDM00097     825\n",
      "SIDM00122    2296\n",
      "SIDM00135     879\n",
      "SIDM00148     839\n",
      "SIDM00272    1119\n",
      "SIDM00528     753\n",
      "SIDM00628    1573\n",
      "SIDM00629    2821\n",
      "SIDM00630     877\n",
      "SIDM00673    2818\n",
      "Name: count, dtype: int64\n",
      "\n",
      "Total mapped cell lines: 28\n",
      "Total mapped cells: 30827\n",
      "\n",
      "Index set to SANGER_MODEL_ID.\n",
      "Final shape: (30827, 47024)\n",
      "\n",
      "💾 Saved mapped single-cell matrix to: ../../data/processed/breast_sc_log1pCP10k__symbols_sidm_mapped.parquet\n"
     ]
    }
   ],
   "source": [
    "# %%\n",
    "# Align df and adata based on shared barcodes\n",
    "common_barcodes = df.index.intersection(adata.obs.index)\n",
    "print(f\"✅ Shared barcodes between df and adata: {len(common_barcodes)}\")\n",
    "\n",
    "# Subset both to the intersection\n",
    "df = df.loc[common_barcodes].copy()\n",
    "meta = adata.obs.loc[common_barcodes, [\"SANGER_MODEL_ID\"]]\n",
    "\n",
    "# Attach SANGER_MODEL_ID\n",
    "df.insert(0, \"SANGER_MODEL_ID\", meta[\"SANGER_MODEL_ID\"].values)\n",
    "\n",
    "# Verification\n",
    "print(\"✅ All cells have valid SANGER_MODEL_IDs:\", df[\"SANGER_MODEL_ID\"].isna().sum() == 0)\n",
    "summary = df[\"SANGER_MODEL_ID\"].value_counts().sort_index()\n",
    "print(\"\\n📊 Cells per SANGER_MODEL_ID (top 10):\")\n",
    "print(summary.head(10))\n",
    "print(f\"\\nTotal mapped cell lines: {summary.shape[0]}\")\n",
    "print(f\"Total mapped cells: {df.shape[0]}\")\n",
    "\n",
    "# Set index to SANGER_MODEL_ID for downstream analyses\n",
    "df = df.set_index(\"SANGER_MODEL_ID\")\n",
    "print(\"\\nIndex set to SANGER_MODEL_ID.\")\n",
    "print(\"Final shape:\", df.shape)\n",
    "\n",
    "# Save\n",
    "df.to_parquet(OUT_PARQUET)\n",
    "print(f\"\\n💾 Saved mapped single-cell matrix to: {OUT_PARQUET}\")\n"
   ]
  }
 ],
 "metadata": {
  "kernelspec": {
   "display_name": "tese-env",
   "language": "python",
   "name": "python3"
  },
  "language_info": {
   "codemirror_mode": {
    "name": "ipython",
    "version": 3
   },
   "file_extension": ".py",
   "mimetype": "text/x-python",
   "name": "python",
   "nbconvert_exporter": "python",
   "pygments_lexer": "ipython3",
   "version": "3.10.16"
  }
 },
 "nbformat": 4,
 "nbformat_minor": 5
}
