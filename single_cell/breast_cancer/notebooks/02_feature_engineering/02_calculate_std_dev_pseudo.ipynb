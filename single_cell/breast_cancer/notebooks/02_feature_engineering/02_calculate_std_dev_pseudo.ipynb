{
 "cells": [
  {
   "cell_type": "code",
   "execution_count": 11,
   "id": "3b97e8d0",
   "metadata": {},
   "outputs": [],
   "source": [
    "# Pseudobulk HVG selection (2-comp GMM)\n",
    "\n",
    "import os, numpy as np, pandas as pd, scanpy as sc\n",
    "import scipy.sparse as sp\n",
    "import matplotlib.pyplot as plt\n",
    "from sklearn.mixture import GaussianMixture\n",
    "\n",
    "# Paths (adjust)\n",
    "H5AD_RAW   = \"../../data/processed/breast_cancer_raw_annotated.h5ad\"     # RAW counts with cells × genes\n",
    "GENE_MAP   = \"../../../../maps/gene_info.csv\"                                   # columns: feature_id (Ensembl), feature_name (symbol)\n",
    "SIDG_MAP   = \"../../../../maps/gene_id_to_symbol_mapping.csv\"                   # optional: columns: gene_id (SIDG...), symbol\n",
    "BULK_PARQ  = \"../../data/processed/voom_transformed_data.parquet\"  # optional (for overlap)\n",
    "\n",
    "OUTDIR = \"hvg_analysis_outputs_pseudobulk\"\n",
    "os.makedirs(OUTDIR, exist_ok=True)\n",
    "\n",
    "TOPK_SC = 3000          # mirror bulk (e.g., 3000)\n",
    "EPS = 1e-12\n",
    "RNG = 42\n"
   ]
  },
  {
   "cell_type": "code",
   "execution_count": 12,
   "id": "b1d4ce78",
   "metadata": {},
   "outputs": [
    {
     "name": "stdout",
     "output_type": "stream",
     "text": [
      "AnnData object with n_obs × n_vars = 35276 × 47096\n",
      "    var: 'gene_symbol'\n"
     ]
    }
   ],
   "source": [
    "adata = sc.read_h5ad(H5AD_RAW)\n",
    "print(adata)"
   ]
  },
  {
   "cell_type": "code",
   "execution_count": 13,
   "id": "ecbebff6",
   "metadata": {},
   "outputs": [
    {
     "name": "stdout",
     "output_type": "stream",
     "text": [
      "✅ Loaded mapping_df\n",
      "Mapping sample:\n",
      "  SANGER_MODEL_ID CELL_LINE_NAME\n",
      "0       SIDM00853            GCT\n",
      "1       SIDM00567         ONS-76\n",
      "2       SIDM00042            PL4\n",
      "3       SIDM00455     PA-TU-8902\n",
      "4       SIDM00881        HCC1428\n",
      "✅ Normalized cell line names in adata and mapping_df\n",
      "✅ Applied SIDM mapping\n",
      "                      cell_line cell_line_norm SANGER_MODEL_ID\n",
      "AU565_AAACCAGTTTGG        AU565          AU565       SIDM00898\n",
      "HCC1937_AAAACAACTGTT    HCC1937        HCC1937       SIDM00874\n",
      "HCC38_AAAAGGCTGCGC        HCC38          HCC38       SIDM00675\n",
      "MDAMB468_AAAAACATCCGA  MDAMB468       MDAMB468       SIDM00628\n",
      "EFM19_AAAATAATTCGG        EFM19          EFM19       SIDM01056\n",
      "HCC1187_AAAATGCGAAAC    HCC1187        HCC1187       SIDM00885\n",
      "JIMT1_AAAAATGGCCAG        JIMT1          JIMT1       SIDM01037\n",
      "MDAMB361_AAAATGTCCCAG  MDAMB361       MDAMB361       SIDM00528\n",
      "HCC1500_AAAATCAGGACC    HCC1500        HCC1500       SIDM00879\n",
      "HCC70_AAAAGACTATAG        HCC70          HCC70       SIDM00673\n",
      "❗ Unmapped cell lines: ['MCF12A' 'KPL1' 'ZR751' 'MX1']\n",
      "Total unmapped: 4\n",
      "✅ Filtered adata to only include mapped cell lines\n",
      "Remaining shape: (30827, 47096)\n"
     ]
    }
   ],
   "source": [
    "# --- Add SANGER_MODEL_ID to adata.obs ---\n",
    "import pandas as pd\n",
    "\n",
    "# Load mapping table (CELL_LINE_NAME -> SANGER_MODEL_ID)\n",
    "mapping_df = pd.read_csv(\"../../data/cell_sanger_map.csv\").drop_duplicates()\n",
    "mapping_df.columns = ['SANGER_MODEL_ID', 'CELL_LINE_NAME']\n",
    "\n",
    "print(\"✅ Loaded mapping_df\")\n",
    "print(\"Mapping sample:\")\n",
    "print(mapping_df.head())\n",
    "\n",
    "# Extract the cell line prefix from adata.obs.index (everything before the first underscore)\n",
    "adata.obs['cell_line'] = adata.obs.index.str.split('_').str[0]\n",
    "\n",
    "# Normalize names (remove dashes, uppercase)\n",
    "adata.obs['cell_line_norm'] = (\n",
    "    adata.obs['cell_line']\n",
    "    .str.replace('-', '', regex=False)\n",
    "    .str.upper()\n",
    ")\n",
    "\n",
    "mapping_df['CELL_LINE_NAME_NORM'] = (\n",
    "    mapping_df['CELL_LINE_NAME']\n",
    "    .str.replace('-', '', regex=False)\n",
    "    .str.upper()\n",
    ")\n",
    "\n",
    "print(\"✅ Normalized cell line names in adata and mapping_df\")\n",
    "\n",
    "# Build mapping dict and map onto obs\n",
    "name_to_sidm = dict(zip(mapping_df['CELL_LINE_NAME_NORM'], mapping_df['SANGER_MODEL_ID']))\n",
    "adata.obs['SANGER_MODEL_ID'] = adata.obs['cell_line_norm'].map(name_to_sidm)\n",
    "\n",
    "# Check mapping success\n",
    "print(\"✅ Applied SIDM mapping\")\n",
    "print(adata.obs[['cell_line', 'cell_line_norm', 'SANGER_MODEL_ID']].drop_duplicates().head(10))\n",
    "\n",
    "# Report unmapped\n",
    "unmapped = adata.obs[adata.obs['SANGER_MODEL_ID'].isna()]['cell_line'].unique()\n",
    "print(\"❗ Unmapped cell lines:\", unmapped)\n",
    "print(\"Total unmapped:\", len(unmapped))\n",
    "\n",
    "# Drop unmapped if needed\n",
    "adata = adata[~adata.obs['SANGER_MODEL_ID'].isna()].copy()\n",
    "print(\"✅ Filtered adata to only include mapped cell lines\")\n",
    "print(\"Remaining shape:\", adata.shape)\n"
   ]
  },
  {
   "cell_type": "code",
   "execution_count": 14,
   "id": "5116ba65",
   "metadata": {},
   "outputs": [
    {
     "name": "stdout",
     "output_type": "stream",
     "text": [
      "obs columns: ['cell_line', 'cell_line_norm', 'SANGER_MODEL_ID']\n",
      "                   cell_line cell_line_norm SANGER_MODEL_ID\n",
      "AU565_AAACCAGTTTGG     AU565          AU565       SIDM00898\n",
      "AU565_AAACGTGCAGCG     AU565          AU565       SIDM00898\n",
      "AU565_AAAGCCACATGC     AU565          AU565       SIDM00898\n",
      "AU565_AAAGTCGGCTGG     AU565          AU565       SIDM00898\n",
      "AU565_AAAGTGCCTAAA     AU565          AU565       SIDM00898\n",
      "Unique pseudo-bulk samples: 28\n"
     ]
    }
   ],
   "source": [
    "print(\"obs columns:\", adata.obs.columns.tolist())\n",
    "print(adata.obs.head())\n",
    "\n",
    "# We need a grouping key per pseudo-bulk sample.\n",
    "# Preferred: obs['SANGER_MODEL_ID']. If you use another field, change here.\n",
    "group_col = \"SANGER_MODEL_ID\"\n",
    "assert group_col in adata.obs.columns, f\"'{group_col}' not found in adata.obs\"\n",
    "\n",
    "X = adata.X.tocsr() if not sp.isspmatrix_csr(adata.X) else adata.X\n",
    "groups = adata.obs[group_col].astype(str).values\n",
    "uniq_groups = pd.Index(groups).unique().tolist()\n",
    "print(\"Unique pseudo-bulk samples:\", len(uniq_groups))\n"
   ]
  },
  {
   "cell_type": "code",
   "execution_count": 17,
   "id": "3e066b43",
   "metadata": {},
   "outputs": [],
   "source": [
    "# Ensembl IDs without version\n",
    "ens = pd.Index(adata.var_names.astype(str)).str.split(\".\").str[0]\n",
    "\n",
    "# Load mapping Ensembl -> symbol\n",
    "gmap = pd.read_csv(GENE_MAP)\n",
    "gmap[\"ensembl_novers\"] = gmap[\"feature_id\"].astype(str).str.split(\".\").str[0]\n",
    "gmap[\"symbol\"] = gmap[\"feature_name\"].astype(str)\n",
    "ens2sym = dict(zip(gmap[\"ensembl_novers\"], gmap[\"symbol\"]))\n",
    "\n",
    "# Convert ens to Series so we can fillna with it\n",
    "ens_series = pd.Series(ens, index=ens)\n",
    "\n",
    "# Map to symbols, fallback to original ENS IDs\n",
    "sym = ens_series.map(ens2sym).fillna(ens_series).astype(str)\n",
    "\n",
    "# Optionally convert back to Index\n",
    "sym = pd.Index(sym)\n"
   ]
  },
  {
   "cell_type": "code",
   "execution_count": 19,
   "id": "fdf6c363",
   "metadata": {},
   "outputs": [
    {
     "name": "stdout",
     "output_type": "stream",
     "text": [
      "Pseudo-bulk counts shape: (28, 47096)\n"
     ]
    }
   ],
   "source": [
    "rows = []\n",
    "for sid in uniq_groups:\n",
    "    idx = np.where(groups == sid)[0]\n",
    "    row = X[idx, :].sum(axis=0)       # could be ndarray or matrix\n",
    "    row = sp.csr_matrix(row)          # ensure it's 2D sparse\n",
    "    rows.append(row)\n",
    "\n",
    "pb_counts = sp.vstack(rows).tocsr().toarray()  # (#groups × #genes)\n",
    "pb = pd.DataFrame(pb_counts, index=uniq_groups, columns=sym)\n",
    "print(\"Pseudo-bulk counts shape:\", pb.shape)\n"
   ]
  },
  {
   "cell_type": "code",
   "execution_count": 20,
   "id": "9658f063",
   "metadata": {},
   "outputs": [
    {
     "name": "stdout",
     "output_type": "stream",
     "text": [
      "Pseudo-bulk log1p CPM shape: (28, 47096)\n"
     ]
    }
   ],
   "source": [
    "# Library-size normalize and log-transform\n",
    "lib = pb.sum(axis=1).replace(0, np.nan)\n",
    "pb_cpm   = (pb.div(lib, axis=0) * 1e6).fillna(0.0)\n",
    "pb_log1p = np.log1p(pb_cpm)\n",
    "\n",
    "print(\"Pseudo-bulk log1p CPM shape:\", pb_log1p.shape)\n",
    "pb_log1p.to_parquet(os.path.join(OUTDIR, \"sc_pseudobulk_log1pCPM.parquet\"))\n"
   ]
  },
  {
   "cell_type": "code",
   "execution_count": 21,
   "id": "01ed06a0",
   "metadata": {},
   "outputs": [
    {
     "name": "stdout",
     "output_type": "stream",
     "text": [
      "count    47096.000000\n",
      "mean         0.339513\n",
      "std          0.358981\n",
      "min          0.000000\n",
      "25%          0.053775\n",
      "50%          0.220252\n",
      "75%          0.512045\n",
      "max          3.421836\n",
      "dtype: float64\n",
      "GMM means (log10 SD): [ -0.77172602 -12.        ] | weights: [0.99069985 0.00930015]\n",
      "High-variance candidates: 46658\n"
     ]
    }
   ],
   "source": [
    "# SD per gene across pseudo-bulk samples\n",
    "sd = pb_log1p.std(axis=0)\n",
    "print(sd.describe())\n",
    "\n",
    "# GMM on log10(SD)\n",
    "logsd = np.log10(sd.values + EPS).reshape(-1, 1)\n",
    "gmm = GaussianMixture(n_components=2, random_state=RNG).fit(logsd)\n",
    "\n",
    "means   = gmm.means_.flatten()\n",
    "weights = gmm.weights_.flatten()\n",
    "vars_   = gmm.covariances_.reshape(-1)\n",
    "\n",
    "hi_comp = int(np.argmax(means))\n",
    "assign  = gmm.predict(logsd)\n",
    "cands   = sd.index[assign == hi_comp]\n",
    "\n",
    "print(\"GMM means (log10 SD):\", means, \"| weights:\", weights)\n",
    "print(\"High-variance candidates:\", len(cands))\n"
   ]
  },
  {
   "cell_type": "code",
   "execution_count": 25,
   "id": "e01ee36e",
   "metadata": {},
   "outputs": [
    {
     "name": "stdout",
     "output_type": "stream",
     "text": [
      "Genes with SD=0 (excluded from GMM): 438 / 47096\n",
      "GMM means (log10 SD): [-1.30870682 -0.31269411] | weights: [0.46086953 0.53913047]\n",
      "High-variance candidates: 25388\n",
      "Selected HVGs (top-3000): 3000\n"
     ]
    }
   ],
   "source": [
    "# SD across pseudo-bulk samples\n",
    "sd = pb_log1p.std(axis=0)\n",
    "\n",
    "# Drop zero-variance genes from the log/GMM step\n",
    "n_zero = int((sd == 0).sum())\n",
    "sd_pos = sd[sd > 0]\n",
    "print(f\"Genes with SD=0 (excluded from GMM): {n_zero} / {len(sd)}\")\n",
    "\n",
    "# Log10(SD) only for positive SD\n",
    "logsd = np.log10(sd_pos.values).reshape(-1, 1)\n",
    "\n",
    "# 2-component GMM on log10(SD)\n",
    "gmm = GaussianMixture(n_components=2, random_state=42).fit(logsd)\n",
    "means   = gmm.means_.flatten()\n",
    "weights = gmm.weights_.flatten()\n",
    "hi_comp = int(np.argmax(means))\n",
    "\n",
    "# Assign only the positive-SD genes, then map back to the full index\n",
    "assign_pos = pd.Series(gmm.predict(logsd), index=sd_pos.index)\n",
    "assign_all = pd.Series(-1, index=sd.index)               # -1 for zero-SD genes\n",
    "assign_all.loc[assign_pos.index] = assign_pos.values\n",
    "\n",
    "# Candidates = genes in the high-variance component among SD>0\n",
    "cands = sd.index[assign_all == hi_comp]\n",
    "print(\"GMM means (log10 SD):\", means, \"| weights:\", weights)\n",
    "print(\"High-variance candidates:\", len(cands))\n",
    "\n",
    "# Select top-K within that component\n",
    "TOPK_SC = 3000\n",
    "hvg_sc = sd.loc[cands].sort_values(ascending=False).head(TOPK_SC).index.tolist()\n",
    "print(f\"Selected HVGs (top-{TOPK_SC}):\", len(hvg_sc))\n"
   ]
  },
  {
   "cell_type": "code",
   "execution_count": 26,
   "id": "3b43eb3a",
   "metadata": {},
   "outputs": [
    {
     "data": {
      "image/png": "[encoded data removed]",
      "text/plain": [
       "<Figure size 1000x400 with 2 Axes>"
      ]
     },
     "metadata": {},
     "output_type": "display_data"
    }
   ],
   "source": [
    "# Histogram uses log10(SD) of positive-SD genes only\n",
    "fig, ax = plt.subplots(1, 2, figsize=(10,4))\n",
    "\n",
    "# Left: histogram + mixture + cutoff\n",
    "xs = np.linspace(logsd.min(), logsd.max(), 512).reshape(-1,1)\n",
    "mix_pdf = np.exp(gmm.score_samples(xs))\n",
    "ax[0].hist(logsd.ravel(), bins=60, density=True, alpha=0.5, color=\"steelblue\")\n",
    "ax[0].plot(xs, mix_pdf, 'r-', lw=2, label=\"GMM mixture\")\n",
    "sd_cut = sd.loc[hvg_sc].min()\n",
    "ax[0].axvline(np.log10(sd_cut), color=\"green\", ls=\"--\", lw=2, label=f\"cutoff top-{TOPK_SC}\")\n",
    "ax[0].set_xlabel(\"log10(SD)\")\n",
    "ax[0].set_title(\"log10(SD) with 2-comp GMM (SD>0)\")\n",
    "ax[0].legend()\n",
    "\n",
    "# Right: ranked SD with cut lines (all genes; SD is non-negative)\n",
    "sd_sorted = sd.sort_values(ascending=False).values\n",
    "ax[1].plot(np.arange(1, len(sd_sorted)+1), sd_sorted)\n",
    "ax[1].axhline(sd_cut, color=\"green\", ls=\"--\", lw=2)\n",
    "ax[1].axvline(len(hvg_sc), color=\"orange\", ls=\"--\", lw=2)\n",
    "ax[1].set_xlabel(\"Gene rank\"); ax[1].set_ylabel(\"SD\"); ax[1].set_title(\"Ranked per-gene SD\")\n",
    "plt.tight_layout(); plt.show()\n"
   ]
  },
  {
   "cell_type": "code",
   "execution_count": 27,
   "id": "b935347b",
   "metadata": {},
   "outputs": [
    {
     "name": "stdout",
     "output_type": "stream",
     "text": [
      "sc HVGs mapped to SIDG: 2760\n",
      "Overlap (SIDG) with bulk: 2760\n"
     ]
    }
   ],
   "source": [
    "# Only if your bulk genes are in SIDG namespace and you want the overlap list now\n",
    "if os.path.exists(SIDG_MAP) and os.path.exists(BULK_PARQ):\n",
    "    sidg_map = pd.read_csv(SIDG_MAP)\n",
    "    sym2sidg = dict(zip(sidg_map[\"symbol\"].astype(str), sidg_map[\"gene_id\"].astype(str)))\n",
    "    sc_hvg_sidg = pd.Series(hvg_sc).map(sym2sidg).dropna().unique().tolist()\n",
    "    print(\"sc HVGs mapped to SIDG:\", len(sc_hvg_sidg))\n",
    "\n",
    "    bulk = pd.read_parquet(BULK_PARQ)\n",
    "    bulk_genes = set(bulk.columns.astype(str))\n",
    "    overlap_sidg = sorted(set(sc_hvg_sidg) & bulk_genes)\n",
    "    print(\"Overlap (SIDG) with bulk:\", len(overlap_sidg))\n",
    "\n",
    "    pd.Series(overlap_sidg, name=\"SIDG\").to_csv(\n",
    "        os.path.join(OUTDIR, f\"HVG_overlap_bulk__sc_pseudobulk_top{TOPK_SC}.csv\"),\n",
    "        index=False\n",
    "    )\n"
   ]
  }
 ],
 "metadata": {
  "kernelspec": {
   "display_name": "tese-env",
   "language": "python",
   "name": "python3"
  },
  "language_info": {
   "codemirror_mode": {
    "name": "ipython",
    "version": 3
   },
   "file_extension": ".py",
   "mimetype": "text/x-python",
   "name": "python",
   "nbconvert_exporter": "python",
   "pygments_lexer": "ipython3",
   "version": "3.10.16"
  }
 },
 "nbformat": 4,
 "nbformat_minor": 5
}
