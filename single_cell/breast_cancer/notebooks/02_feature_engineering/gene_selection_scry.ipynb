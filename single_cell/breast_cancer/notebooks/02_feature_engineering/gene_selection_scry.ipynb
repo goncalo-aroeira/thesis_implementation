{
 "cells": [
  {
   "cell_type": "code",
   "execution_count": null,
   "id": "b96e8ef6",
   "metadata": {},
   "outputs": [],
   "source": [
    "import os\n",
    "import pandas as pd\n",
    "import numpy as np\n",
    "import scanpy as sc\n",
    "\n",
    "# Files\n",
    "H5AD_FEATURES = \"../../data/processed/breast_cancer_dimred.h5ad\"   # has adata.var['highly_deviant']\n",
    "SC_PARQUET_SYM = \"../../data/processed/breast_sc_log1pCP10k__symbols_mapped.parquet\"  # sc (cells×genes) with SYMBOL columns\n",
    "BULK_VOOM      = \"../../data/processed/voom_transformed_data.parquet\"                 # bulk (samples×genes) with SIDG columns\n",
    "\n",
    "OUTDIR = \"scry_hvg_outputs\"\n",
    "os.makedirs(OUTDIR, exist_ok=True)\n"
   ]
  },
  {
   "cell_type": "code",
   "execution_count": 2,
   "id": "2ea8be39",
   "metadata": {},
   "outputs": [],
   "source": [
    "adata = sc.read(H5AD_FEATURES)\n",
    "var = adata.var.copy()\n"
   ]
  },
  {
   "cell_type": "code",
   "execution_count": 3,
   "id": "c9a0277b",
   "metadata": {},
   "outputs": [
    {
     "name": "stdout",
     "output_type": "stream",
     "text": [
      "Genes (símbolos) selecionados pelo scry: 3999\n"
     ]
    }
   ],
   "source": [
    "assert (\"highly_deviant\" in var.columns) or (\"binomial_deviance\" in var.columns), \\\n",
    "    \"Esperava 'highly_deviant' ou 'binomial_deviance' em adata.var.\"\n",
    "\n",
    "# Prefer the boolean mask you saved:\n",
    "if \"highly_deviant\" in var.columns:\n",
    "    mask = var[\"highly_deviant\"].astype(bool).values\n",
    "else:\n",
    "    # Fallback: take top 4000 by binomial deviance\n",
    "    top_k = 4000\n",
    "    mask = np.zeros(len(var), dtype=bool)\n",
    "    mask[np.argsort(var[\"binomial_deviance\"].values)[-top_k:]] = True\n",
    "\n",
    "# Get symbols robustly\n",
    "if \"gene_symbol\" in var.columns:\n",
    "    symbols = pd.Index(var.loc[mask, \"gene_symbol\"].astype(str))\n",
    "else:\n",
    "    # If var_names are already symbols, this is a no-op\n",
    "    symbols = pd.Index(adata.var_names.astype(str))[mask]\n",
    "\n",
    "# Deduplicate while preserving order\n",
    "symbols = pd.Index(pd.unique(symbols))\n",
    "print(\"Genes (símbolos) selecionados pelo scry:\", len(symbols))\n",
    "\n",
    "# Save symbol list\n",
    "symbols.to_series().to_csv(os.path.join(OUTDIR, \"scry_genes_symbols.csv\"), index=False, header=[\"symbol\"])\n"
   ]
  },
  {
   "cell_type": "code",
   "execution_count": null,
   "id": "80530b4d",
   "metadata": {},
   "outputs": [
    {
     "name": "stdout",
     "output_type": "stream",
     "text": [
      "Scry genes mapeados para SIDG: 3952\n",
      "Overlap com bulk (SIDG): 3952\n"
     ]
    },
    {
     "ename": "",
     "evalue": "",
     "output_type": "error",
     "traceback": [
      "\u001b[1;31mThe Kernel crashed while executing code in the current cell or a previous cell. \n",
      "\u001b[1;31mPlease review the code in the cell(s) to identify a possible cause of the failure. \n",
      "\u001b[1;31mClick <a href='https://aka.ms/vscodeJupyterKernelCrash'>here</a> for more info. \n",
      "\u001b[1;31mView Jupyter <a href='command:jupyter.viewOutput'>log</a> for further details."
     ]
    }
   ],
   "source": [
    "SIDG_MAP_CSV   = \"../../../../maps/gene_id_to_symbol_mapping.csv\"                           # columns: gene_id (SIDG...), symbol\n",
    "# Load SIDG mapping and build symbol->SIDG dict\n",
    "m = pd.read_csv(SIDG_MAP_CSV)\n",
    "sym2sidg = dict(zip(m[\"symbol\"].astype(str), m[\"gene_id\"].astype(str)))\n",
    "\n",
    "sidg_list = symbols.map(sym2sidg).dropna().unique().tolist()\n",
    "print(\"Scry genes mapeados para SIDG:\", len(sidg_list))\n",
    "\n",
    "# Bulk genes (SIDG space)\n",
    "bulk = pd.read_parquet(BULK_VOOM)\n",
    "bulk_cols = bulk.columns.astype(str)\n",
    "\n",
    "overlap_sidg = [g for g in sidg_list if g in bulk_cols]\n",
    "print(\"Overlap com bulk (SIDG):\", len(overlap_sidg))\n",
    "\n",
    "# Save overlap lists\n",
    "pd.Series(overlap_sidg, name=\"SIDG\").to_csv(os.path.join(OUTDIR, \"scry_bulk_overlap_SIDG.csv\"), index=False)\n",
    "pd.Series(symbols, name=\"symbol\").to_csv(os.path.join(OUTDIR, \"scry_symbols_all.csv\"), index=False)\n"
   ]
  },
  {
   "cell_type": "code",
   "execution_count": null,
   "id": "f53afe86",
   "metadata": {},
   "outputs": [
    {
     "name": "stdout",
     "output_type": "stream",
     "text": [
      "Saved bulk filtered: (1362, 3952)\n"
     ]
    }
   ],
   "source": [
    "# BULK filtered (SIDG), columns in overlap order\n",
    "bulk_f = bulk.loc[:, overlap_sidg]\n",
    "bulk_f.to_parquet(os.path.join(OUTDIR, \"bulk_scry_overlap_SIDG.parquet\"))\n",
    "print(\"Saved bulk filtered:\", bulk_f.shape)\n",
    "\n",
    "# SC filtered by symbols (keep only those that map into overlap_sidg)\n",
    "sc_sym = pd.read_parquet(SC_PARQUET_SYM)\n",
    "print(\"Single-cell (símbolos) original:\", sc_sym.shape)\n",
    "\n",
    "# Determine the symbol order corresponding to overlap_sidg\n",
    "sidg2sym = {v:k for k,v in sym2sidg.items()}\n",
    "overlap_symbols = [sidg2sym[s] for s in overlap_sidg if s in sidg2sym]\n",
    "\n",
    "# Keep available symbols only\n",
    "overlap_symbols_present = [g for g in overlap_symbols if g in sc_sym.columns]\n",
    "\n",
    "sc_sym_f = sc_sym.loc[:, overlap_symbols_present]\n",
    "sc_sym_f.to_parquet(os.path.join(OUTDIR, \"sc_scry_overlap_SYMBOLS.parquet\"))\n",
    "print(\"Saved sc (símbolos) filtered:\", sc_sym_f.shape)\n",
    "\n",
    "# Also produce an SC matrix with SIDG columns (to plug directly into bulk-trained models)\n",
    "sc_sidg_cols = [sym2sidg.get(g) for g in sc_sym_f.columns]\n",
    "sc_sidg = sc_sym_f.copy()\n",
    "sc_sidg.columns = sc_sidg_cols\n",
    "\n",
    "# Align to overlap_sidg order and drop any NAs/missing\n",
    "sc_sidg = sc_sidg.loc[:, [g for g in overlap_sidg if g in sc_sidg.columns]]\n",
    "# Enforce exact same order as bulk_f\n",
    "sc_sidg = sc_sidg[overlap_sidg]\n",
    "\n",
    "sc_sidg.to_parquet(os.path.join(OUTDIR, \"sc_scry_overlap_SIDG.parquet\"))\n",
    "print(\"Saved sc (SIDG) filtered/aligned:\", sc_sidg.shape)\n",
    "\n",
    "# Final sanity check: identical column order with bulk_f\n",
    "assert list(sc_sidg.columns) == list(bulk_f.columns)\n",
    "print(\"✅ Column order aligned between bulk and sc.\")\n"
   ]
  }
 ],
 "metadata": {
  "kernelspec": {
   "display_name": "tese-env",
   "language": "python",
   "name": "python3"
  },
  "language_info": {
   "codemirror_mode": {
    "name": "ipython",
    "version": 3
   },
   "file_extension": ".py",
   "mimetype": "text/x-python",
   "name": "python",
   "nbconvert_exporter": "python",
   "pygments_lexer": "ipython3",
   "version": "3.10.16"
  }
 },
 "nbformat": 4,
 "nbformat_minor": 5
}
