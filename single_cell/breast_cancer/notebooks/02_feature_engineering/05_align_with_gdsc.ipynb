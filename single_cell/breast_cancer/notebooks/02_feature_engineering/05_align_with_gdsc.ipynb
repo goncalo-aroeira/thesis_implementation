{
 "cells": [
  {
   "cell_type": "code",
   "execution_count": 1,
   "id": "3fcf4b48",
   "metadata": {},
   "outputs": [],
   "source": [
    "import pandas as pd\n",
    "\n",
    "# Paths\n",
    "GDSC_PARQUET = \"../../../../bulk_state_of_the_art/data/processed/gdsc_final_cleaned.parquet\"\n",
    "BULK_PARQUET = \"../../data/filtered_datasets/bulk_embeddings_voom.parquet\"   # bulk matrix filtered to overlap HVGs\n",
    "\n",
    "OUT_PARQUET  = \"../../data/gdsc_bulk_embeddings_voom.parquet\"\n"
   ]
  },
  {
   "cell_type": "code",
   "execution_count": 2,
   "id": "2696b64f",
   "metadata": {},
   "outputs": [
    {
     "name": "stdout",
     "output_type": "stream",
     "text": [
      "✅ Loaded data:\n",
      "GDSC shape: (571985, 3)\n",
      "Bulk (overlap genes): (1362, 3073)\n"
     ]
    }
   ],
   "source": [
    "# Load GDSC drug response data\n",
    "gdsc_df = pd.read_parquet(GDSC_PARQUET)\n",
    "\n",
    "# Load bulk overlap gene matrix\n",
    "bulk_df = pd.read_parquet(BULK_PARQUET)\n",
    "\n",
    "if \"model_id\" in bulk_df.columns:\n",
    "    bulk_df = bulk_df.rename(columns={\"model_id\": \"SANGER_MODEL_ID\"})\n",
    "if bulk_df.index.name == \"model_id\":\n",
    "    bulk_df.index.name = \"SANGER_MODEL_ID\"\n",
    "\n",
    "print(\"✅ Loaded data:\")\n",
    "print(\"GDSC shape:\", gdsc_df.shape)\n",
    "print(\"Bulk (overlap genes):\", bulk_df.shape)\n"
   ]
  },
  {
   "cell_type": "code",
   "execution_count": 3,
   "id": "596bc79e",
   "metadata": {},
   "outputs": [
    {
     "name": "stdout",
     "output_type": "stream",
     "text": [
      "📌 GDSC columns: ['SANGER_MODEL_ID', 'DRUG_ID', 'LN_IC50']\n",
      "✅ Cleaned GDSC data: (571985, 3)\n"
     ]
    }
   ],
   "source": [
    "# Preview GDSC columns\n",
    "print(\"📌 GDSC columns:\", gdsc_df.columns.tolist())\n",
    "\n",
    "# Make sure required fields exist\n",
    "required_cols = {\"SANGER_MODEL_ID\", \"DRUG_ID\", \"LN_IC50\"}\n",
    "assert required_cols.issubset(gdsc_df.columns), \"❌ Missing required columns in GDSC!\"\n",
    "\n",
    "# Drop missing entries\n",
    "gdsc_df = gdsc_df.dropna(subset=[\"SANGER_MODEL_ID\", \"DRUG_ID\", \"LN_IC50\"])\n",
    "gdsc_df[\"SANGER_MODEL_ID\"] = gdsc_df[\"SANGER_MODEL_ID\"].astype(str)\n",
    "\n",
    "print(\"✅ Cleaned GDSC data:\", gdsc_df.shape)\n"
   ]
  },
  {
   "cell_type": "code",
   "execution_count": 4,
   "id": "bd0c3dc2",
   "metadata": {},
   "outputs": [
    {
     "name": "stdout",
     "output_type": "stream",
     "text": [
      "✅ Filtered GDSC data: (8238, 3)\n",
      "✅ Merged with bulk gene expression:\n",
      "Shape: (8238, 3075)\n",
      "  SANGER_MODEL_ID  DRUG_ID   LN_IC50   emb_000   emb_001   emb_002   emb_003  \\\n",
      "0       SIDM01132      427  5.463586 -0.727664  1.814604  0.828872  1.003094   \n",
      "1       SIDM00848      427  4.186610 -0.849247  1.660583  0.726541  1.192063   \n",
      "2       SIDM00269      427  4.004458 -0.833046  1.799614  0.714298  1.102611   \n",
      "\n",
      "    emb_004   emb_005   emb_006  ...  emb_3062  emb_3063  emb_3064  emb_3065  \\\n",
      "0 -1.001114 -0.287234  1.069429  ...  0.694305 -0.754860 -2.229427  0.854278   \n",
      "1 -1.035015 -0.455297  1.070964  ...  0.818762 -0.375695 -2.179980  0.944036   \n",
      "2 -1.217057 -0.355538  0.966995  ...  0.971395 -0.387273 -2.284683  0.675352   \n",
      "\n",
      "   emb_3066  emb_3067  emb_3068  emb_3069  emb_3070  emb_3071  \n",
      "0  1.463058 -0.430300  0.447072  1.813935 -1.090608 -0.814830  \n",
      "1  1.357933 -0.281219  0.410931  1.632804 -1.220379 -0.839649  \n",
      "2  1.357754 -0.268246  0.324645  1.755962 -1.065003 -0.813306  \n",
      "\n",
      "[3 rows x 3075 columns]\n",
      "💾 Saved training data to: ../../data/gdsc_bulk_embeddings_voom.parquet\n"
     ]
    }
   ],
   "source": [
    "# List of drugs you care about\n",
    "selected_drugs = [1845, 2540, 2038, 2508, 1096, 1931, 2515, 1089, 427, 1526]\n",
    "\n",
    "# 🔹 Filter GDSC first (only these drugs)\n",
    "gdsc_df = gdsc_df[gdsc_df[\"DRUG_ID\"].isin(selected_drugs)]\n",
    "\n",
    "print(\"✅ Filtered GDSC data:\", gdsc_df.shape)\n",
    "\n",
    "# 🔹 Now merge with much smaller dataset\n",
    "merged = gdsc_df.merge(bulk_df, on=\"SANGER_MODEL_ID\", how=\"inner\")\n",
    "\n",
    "print(\"✅ Merged with bulk gene expression:\")\n",
    "print(\"Shape:\", merged.shape)\n",
    "print(merged.head(3))\n",
    "\n",
    "# Save\n",
    "merged.to_parquet(OUT_PARQUET, index=False)\n",
    "print(\"💾 Saved training data to:\", OUT_PARQUET)\n"
   ]
  },
  {
   "cell_type": "code",
   "execution_count": 5,
   "id": "3ae74955",
   "metadata": {},
   "outputs": [
    {
     "name": "stdout",
     "output_type": "stream",
     "text": [
      "💾 Saved training data to: ../../data/gdsc_bulk_embeddings_voom.parquet\n"
     ]
    }
   ],
   "source": [
    "\n",
    "\n",
    "merged.to_parquet(OUT_PARQUET, index=False)\n",
    "print(\"💾 Saved training data to:\", OUT_PARQUET)\n"
   ]
  }
 ],
 "metadata": {
  "kernelspec": {
   "display_name": "tese-env",
   "language": "python",
   "name": "python3"
  },
  "language_info": {
   "codemirror_mode": {
    "name": "ipython",
    "version": 3
   },
   "file_extension": ".py",
   "mimetype": "text/x-python",
   "name": "python",
   "nbconvert_exporter": "python",
   "pygments_lexer": "ipython3",
   "version": "3.10.16"
  }
 },
 "nbformat": 4,
 "nbformat_minor": 5
}
