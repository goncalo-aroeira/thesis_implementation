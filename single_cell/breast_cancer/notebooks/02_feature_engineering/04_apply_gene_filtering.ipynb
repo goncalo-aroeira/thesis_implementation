{
 "cells": [
  {
   "cell_type": "code",
   "execution_count": 1,
   "id": "bc2ab8ff",
   "metadata": {},
   "outputs": [],
   "source": [
    "import pandas as pd\n",
    "import os\n",
    "\n",
    "# Paths\n",
    "BULK_PARQUET   = \"../../data/processed/bulk_log1p.parquet\"   # bulk full voom matrix\n",
    "SC_PARQUET     = \"../../data/processed/breast_sc_log1pCP10k__symbols_sidm_mapped.parquet\"  # sc mapped to symbols\n",
    "OVERLAP_CSV    = \"hvg_overlap_outputs/HVG_overlap_bulk_sc.csv\"    # overlap list (symbols)\n",
    "\n",
    "OUTDIR = \"../../data/filtered_datasets\"\n",
    "os.makedirs(OUTDIR, exist_ok=True)\n",
    "\n",
    "OUT_BULK = os.path.join(OUTDIR, \"bulk_overlap_genes.parquet\")\n",
    "OUT_SC   = os.path.join(OUTDIR, \"sc_overlap_genes.parquet\")\n"
   ]
  },
  {
   "cell_type": "code",
   "execution_count": 2,
   "id": "524ec0d1",
   "metadata": {},
   "outputs": [
    {
     "name": "stdout",
     "output_type": "stream",
     "text": [
      "Bulk shape: (1362, 37602)\n",
      "Overlap genes: 2044\n"
     ]
    }
   ],
   "source": [
    "# Bulk expression (samples × genes)\n",
    "bulk = pd.read_parquet(BULK_PARQUET)\n",
    "print(\"Bulk shape:\", bulk.shape)\n",
    "\n",
    "# sc expression (cells × genes)\n",
    "#sc = pd.read_parquet(SC_PARQUET)\n",
    "#print(\"sc shape:\", sc.shape)\n",
    "\n",
    "# Overlap gene list\n",
    "overlap = pd.read_csv(OVERLAP_CSV).iloc[:,0].astype(str).tolist()\n",
    "print(\"Overlap genes:\", len(overlap))\n"
   ]
  },
  {
   "cell_type": "code",
   "execution_count": 3,
   "id": "bae56d4d",
   "metadata": {},
   "outputs": [],
   "source": [
    "# Load SIDG -> symbol mapping\n",
    "mapping = pd.read_csv(\"../../../../maps/gene_id_to_symbol_mapping.csv\")\n",
    "sym2sidg = dict(zip(mapping[\"symbol\"], mapping[\"gene_id\"]))\n"
   ]
  },
  {
   "cell_type": "code",
   "execution_count": 5,
   "id": "cc528ae0",
   "metadata": {},
   "outputs": [],
   "source": [
    "# Vectorized reindexing of columns\n",
    "#sc = sc.rename(columns=sym2sidg)\n",
    "\n",
    "# Drop columns that failed to map (those still strings instead of IDs)\n",
    "#sc = sc.loc[:, sc.columns.isin(mapping[\"gene_id\"])]\n",
    "\n",
    "#print(\"sc shape after remapping to SIDG IDs:\", sc.shape)\n"
   ]
  },
  {
   "cell_type": "code",
   "execution_count": 6,
   "id": "59660842",
   "metadata": {},
   "outputs": [
    {
     "name": "stdout",
     "output_type": "stream",
     "text": [
      "Filtered bulk shape: (1362, 2044)\n"
     ]
    }
   ],
   "source": [
    "# Now filter both bulk and sc to the overlap genes\n",
    "overlap = pd.read_csv(OVERLAP_CSV).iloc[:,0].astype(str).tolist()\n",
    "\n",
    "bulk_filtered = bulk.loc[:, [g for g in overlap if g in bulk.columns]]\n",
    "#sc_filtered   = sc.loc[:,   [g for g in overlap if g in sc.columns]]\n",
    "\n",
    "# Enforce same order\n",
    "bulk_filtered = bulk_filtered[overlap]\n",
    "#sc_filtered   = sc_filtered[overlap]\n",
    "\n",
    "print(\"Filtered bulk shape:\", bulk_filtered.shape)\n",
    "#print(\"Filtered sc shape:\", sc_filtered.shape)\n",
    "\n",
    "# Sanity check\n",
    "#assert list(bulk_filtered.columns) == list(sc_filtered.columns)\n"
   ]
  },
  {
   "cell_type": "code",
   "execution_count": 7,
   "id": "0caf5254",
   "metadata": {},
   "outputs": [
    {
     "name": "stdout",
     "output_type": "stream",
     "text": [
      "Saved bulk: ../../data/filtered_datasets/bulk_overlap_genes.parquet\n",
      "Saved sc: ../../data/filtered_datasets/sc_overlap_genes.parquet\n"
     ]
    }
   ],
   "source": [
    "bulk_filtered.to_parquet(OUT_BULK)\n",
    "#sc_filtered.to_parquet(OUT_SC)\n",
    "\n",
    "print(\"Saved bulk:\", OUT_BULK)\n",
    "print(\"Saved sc:\", OUT_SC)\n"
   ]
  }
 ],
 "metadata": {
  "kernelspec": {
   "display_name": "tese-env",
   "language": "python",
   "name": "python3"
  },
  "language_info": {
   "codemirror_mode": {
    "name": "ipython",
    "version": 3
   },
   "file_extension": ".py",
   "mimetype": "text/x-python",
   "name": "python",
   "nbconvert_exporter": "python",
   "pygments_lexer": "ipython3",
   "version": "3.10.16"
  }
 },
 "nbformat": 4,
 "nbformat_minor": 5
}
