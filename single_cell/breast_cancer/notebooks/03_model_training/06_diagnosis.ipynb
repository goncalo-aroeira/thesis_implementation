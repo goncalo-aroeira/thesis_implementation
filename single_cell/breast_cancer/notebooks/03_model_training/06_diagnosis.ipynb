{
 "cells": [
  {
   "cell_type": "code",
   "execution_count": 4,
   "id": "77ee1ca4",
   "metadata": {},
   "outputs": [],
   "source": [
    "# Cell 1: imports & config\n",
    "from __future__ import annotations\n",
    "\n",
    "import os, re\n",
    "import numpy as np\n",
    "import pandas as pd\n",
    "import joblib\n",
    "\n",
    "# your paths (tweak if needed)\n",
    "PRED_PARQUET = \"out/per_cell_predictions.parquet\"            # from File 2\n",
    "BULK_LONG    = \"../../data/gdsc_bulk_overlap_genes.parquet\"  # long table with drug, cell_line, IC50 or LN_IC50\n",
    "SC_PARQUET   = \"../../data/filtered_datasets/sc_overlap_genes.parquet\"  # cells × genes (aligned)\n",
    "\n",
    "np.set_printoptions(suppress=True, precision=4)\n",
    "pd.set_option(\"display.width\", 160)\n",
    "pd.set_option(\"display.max_columns\", 20)\n"
   ]
  },
  {
   "cell_type": "code",
   "execution_count": 5,
   "id": "a695ca16",
   "metadata": {},
   "outputs": [],
   "source": [
    "# Cell 2: helpers\n",
    "\n",
    "def load_bulk_long_to_wide(bulk_path: str) -> pd.DataFrame:\n",
    "    df = pd.read_parquet(bulk_path) if bulk_path.endswith(\".parquet\") else pd.read_csv(bulk_path)\n",
    "    lower = {c.lower(): c for c in df.columns}\n",
    "    drug_col = lower.get(\"drug\") or lower.get(\"drug_id\")\n",
    "    line_col = lower.get(\"cell_line\") or lower.get(\"sanger_model_id\") or lower.get(\"line\")\n",
    "    ln_col   = lower.get(\"ln_ic50\") or lower.get(\"lnic50\")\n",
    "    ic50_col = lower.get(\"ic50\")\n",
    "    if not drug_col or not line_col or (not ln_col and not ic50_col):\n",
    "        raise KeyError(f\"Bulk must have drug, cell_line, and IC50 or LN_IC50. Columns: {list(df.columns)}\")\n",
    "    if ln_col is None:\n",
    "        df[\"LN_IC50\"] = np.log(df[ic50_col].astype(float))\n",
    "        ln_col = \"LN_IC50\"\n",
    "    df[\"_drug\"] = df[drug_col].astype(str)\n",
    "    df[\"_line\"] = df[line_col].astype(str)\n",
    "    wide = df.pivot_table(index=\"_line\", columns=\"_drug\", values=ln_col, aggfunc=\"mean\")\n",
    "    wide.index.name = \"SANGER_MODEL_ID\"\n",
    "    wide.columns = wide.columns.astype(str)\n",
    "    return wide\n",
    "\n",
    "def check_bulk_units(bulk_path: str) -> None:\n",
    "    df = pd.read_parquet(bulk_path) if bulk_path.endswith(\".parquet\") else pd.read_csv(bulk_path)\n",
    "    lower = {c.lower(): c for c in df.columns}\n",
    "    ln_col   = lower.get(\"ln_ic50\") or lower.get(\"lnic50\")\n",
    "    ic50_col = lower.get(\"ic50\")\n",
    "    print(\"=== Bulk unit check ===\")\n",
    "    print(\"Columns:\", list(df.columns))\n",
    "    if ic50_col:\n",
    "        print(\"\\nIC50 summary:\")\n",
    "        display(df[ic50_col].describe())\n",
    "    if ln_col:\n",
    "        print(\"\\nLN_IC50 summary:\")\n",
    "        display(df[ln_col].describe())\n",
    "    if ic50_col and ln_col:\n",
    "        comp = (np.log(df[ic50_col].astype(float)) - df[ln_col].astype(float)).dropna()\n",
    "        print(f\"\\nmedian |ln(IC50) - LN_IC50| = {comp.abs().median():.4g} (n={comp.size})\")\n",
    "        print(f\"mean   ln(IC50) - LN_IC50   = {comp.mean():.4g}\")\n",
    "\n",
    "def available_models(model_dir: str, allowed_drugs=None):\n",
    "    paths = {}\n",
    "    if not (model_dir and os.path.isdir(model_dir)):\n",
    "        return paths\n",
    "    allow = None if allowed_drugs is None else set(map(str, allowed_drugs))\n",
    "    for fname in os.listdir(model_dir):\n",
    "        if not fname.endswith(\".joblib\"):\n",
    "            continue\n",
    "        m = re.search(r\"(\\d+)\\.joblib$\", fname)  # grabs trailing digits\n",
    "        if not m:\n",
    "            continue\n",
    "        drug_id = m.group(1)\n",
    "        if (allow is None) or (drug_id in allow):\n",
    "            paths[drug_id] = os.path.join(model_dir, fname)\n",
    "    return paths\n",
    "\n",
    "def simple_linfit(x, y):\n",
    "    x = np.asarray(x, float); y = np.asarray(y, float)\n",
    "    if x.size < 2 or np.var(x, ddof=1) == 0:\n",
    "        return np.nan, np.nan\n",
    "    a = np.cov(x, y, ddof=1)[0,1] / np.var(x, ddof=1)\n",
    "    b = y.mean() - a * x.mean()\n",
    "    return float(a), float(b)\n"
   ]
  },
  {
   "cell_type": "code",
   "execution_count": 6,
   "id": "6f9e2970",
   "metadata": {},
   "outputs": [
    {
     "name": "stdout",
     "output_type": "stream",
     "text": [
      "=== Bulk unit check ===\n",
      "Columns: ['SANGER_MODEL_ID', 'DRUG_ID', 'LN_IC50', 'SIDG00004', 'SIDG00036', 'SIDG00100', 'SIDG00101', 'SIDG00147', 'SIDG00152', 'SIDG00178', 'SIDG00181', 'SIDG00202', 'SIDG00218', 'SIDG00229', 'SIDG00244', 'SIDG00245', 'SIDG00262', 'SIDG00279', 'SIDG00313', 'SIDG00317', 'SIDG00323', 'SIDG00324', 'SIDG00372', 'SIDG00373', 'SIDG00377', 'SIDG00396', 'SIDG00429', 'SIDG00455', 'SIDG00474', 'SIDG00481', 'SIDG00498', 'SIDG00513', 'SIDG00520', 'SIDG00567', 'SIDG00574', 'SIDG00577', 'SIDG00629', 'SIDG00637', 'SIDG00640', 'SIDG00654', 'SIDG00655', 'SIDG00667', 'SIDG00668', 'SIDG00671', 'SIDG00703', 'SIDG00706', 'SIDG00737', 'SIDG00741', 'SIDG00747', 'SIDG00756', 'SIDG00765', 'SIDG00769', 'SIDG00770', 'SIDG00771', 'SIDG00794', 'SIDG00795', 'SIDG00797', 'SIDG00805', 'SIDG00811', 'SIDG00882', 'SIDG00911', 'SIDG00960', 'SIDG01000', 'SIDG01003', 'SIDG01012', 'SIDG01014', 'SIDG01015', 'SIDG01021', 'SIDG01113', 'SIDG01129', 'SIDG01132', 'SIDG01138', 'SIDG01139', 'SIDG01146', 'SIDG01147', 'SIDG01152', 'SIDG01153', 'SIDG01154', 'SIDG01155', 'SIDG01156', 'SIDG01161', 'SIDG01182', 'SIDG01187', 'SIDG01188', 'SIDG01222', 'SIDG01224', 'SIDG01234', 'SIDG01235', 'SIDG01263', 'SIDG01273', 'SIDG01284', 'SIDG01294', 'SIDG01312', 'SIDG01323', 'SIDG01325', 'SIDG01327', 'SIDG01333', 'SIDG01341', 'SIDG01345', 'SIDG01347', 'SIDG01356', 'SIDG01359', 'SIDG01365', 'SIDG01375', 'SIDG01390', 'SIDG01409', 'SIDG01456', 'SIDG01458', 'SIDG01492', 'SIDG01497', 'SIDG01500', 'SIDG01548', 'SIDG01549', 'SIDG01550', 'SIDG01551', 'SIDG01559', 'SIDG01562', 'SIDG01603', 'SIDG01606', 'SIDG01633', 'SIDG01645', 'SIDG01675', 'SIDG01678', 'SIDG01683', 'SIDG01709', 'SIDG01724', 'SIDG01730', 'SIDG01733', 'SIDG01760', 'SIDG01763', 'SIDG01771', 'SIDG01776', 'SIDG01779', 'SIDG01787', 'SIDG01801', 'SIDG01809', 'SIDG01811', 'SIDG01814', 'SIDG01827', 'SIDG01832', 'SIDG01844', 'SIDG01855', 'SIDG01872', 'SIDG01874', 'SIDG01875', 'SIDG01880', 'SIDG01883', 'SIDG01904', 'SIDG01927', 'SIDG01945', 'SIDG01959', 'SIDG01971', 'SIDG01974', 'SIDG01978', 'SIDG01979', 'SIDG02012', 'SIDG02017', 'SIDG02052', 'SIDG02073', 'SIDG02097', 'SIDG02105', 'SIDG02121', 'SIDG02128', 'SIDG02129', 'SIDG02146', 'SIDG02147', 'SIDG02150', 'SIDG02165', 'SIDG02203', 'SIDG02235', 'SIDG02263', 'SIDG02279', 'SIDG02288', 'SIDG02302', 'SIDG02303', 'SIDG02304', 'SIDG02315', 'SIDG02392', 'SIDG02393', 'SIDG02394', 'SIDG02440', 'SIDG02485', 'SIDG02503', 'SIDG02506', 'SIDG02507', 'SIDG02523', 'SIDG02524', 'SIDG02546', 'SIDG02556', 'SIDG02568', 'SIDG02592', 'SIDG02614', 'SIDG02616', 'SIDG02640', 'SIDG02641', 'SIDG02644', 'SIDG02656', 'SIDG02659', 'SIDG02677', 'SIDG02727', 'SIDG02751', 'SIDG02754', 'SIDG02801', 'SIDG02884', 'SIDG02888', 'SIDG02889', 'SIDG03030', 'SIDG03067', 'SIDG03201', 'SIDG03271', 'SIDG03335', 'SIDG03340', 'SIDG03357', 'SIDG03361', 'SIDG03368', 'SIDG03371', 'SIDG03376', 'SIDG03383', 'SIDG03386', 'SIDG03395', 'SIDG03405', 'SIDG03411', 'SIDG03414', 'SIDG03415', 'SIDG03421', 'SIDG03422', 'SIDG03423', 'SIDG03437', 'SIDG03440', 'SIDG03445', 'SIDG03447', 'SIDG03449', 'SIDG03462', 'SIDG03471', 'SIDG03480', 'SIDG03524', 'SIDG03529', 'SIDG03546', 'SIDG03547', 'SIDG03549', 'SIDG03578', 'SIDG03585', 'SIDG03596', 'SIDG03609', 'SIDG03616', 'SIDG03625', 'SIDG03650', 'SIDG03651', 'SIDG03680', 'SIDG03690', 'SIDG03827', 'SIDG03828', 'SIDG03838', 'SIDG03855', 'SIDG03862', 'SIDG03863', 'SIDG03898', 'SIDG03899', 'SIDG03901', 'SIDG03904', 'SIDG03907', 'SIDG03914', 'SIDG03917', 'SIDG03930', 'SIDG03945', 'SIDG03949', 'SIDG03964', 'SIDG03966', 'SIDG03968', 'SIDG03972', 'SIDG03974', 'SIDG03975', 'SIDG03980', 'SIDG03986', 'SIDG03998', 'SIDG04002', 'SIDG04032', 'SIDG04033', 'SIDG04039', 'SIDG04048', 'SIDG04061', 'SIDG04067', 'SIDG04069', 'SIDG04074', 'SIDG04084', 'SIDG04097', 'SIDG04098', 'SIDG04099', 'SIDG04100', 'SIDG04102', 'SIDG04104', 'SIDG04139', 'SIDG04154', 'SIDG04156', 'SIDG04166', 'SIDG04181', 'SIDG04183', 'SIDG04185', 'SIDG04194', 'SIDG04226', 'SIDG04264', 'SIDG04291', 'SIDG04292', 'SIDG04305', 'SIDG04331', 'SIDG04358', 'SIDG04359', 'SIDG04394', 'SIDG04472', 'SIDG04481', 'SIDG04482', 'SIDG04516', 'SIDG04542', 'SIDG04544', 'SIDG04545', 'SIDG04546', 'SIDG04548', 'SIDG04550', 'SIDG04551', 'SIDG04567', 'SIDG04568', 'SIDG04585', 'SIDG04595', 'SIDG04607', 'SIDG04663', 'SIDG04719', 'SIDG04729', 'SIDG04732', 'SIDG04735', 'SIDG04736', 'SIDG04737', 'SIDG04747', 'SIDG04771', 'SIDG04783', 'SIDG04785', 'SIDG04786', 'SIDG04789', 'SIDG04809', 'SIDG04847', 'SIDG04851', 'SIDG04857', 'SIDG04858', 'SIDG04881', 'SIDG04891', 'SIDG04903', 'SIDG04905', 'SIDG04909', 'SIDG04942', 'SIDG04945', 'SIDG04958', 'SIDG04969', 'SIDG04972', 'SIDG04981', 'SIDG05002', 'SIDG05018', 'SIDG05075', 'SIDG05089', 'SIDG05090', 'SIDG05094', 'SIDG05095', 'SIDG05110', 'SIDG05130', 'SIDG05149', 'SIDG05169', 'SIDG05170', 'SIDG05171', 'SIDG05172', 'SIDG05177', 'SIDG05178', 'SIDG05183', 'SIDG05191', 'SIDG05220', 'SIDG05223', 'SIDG05227', 'SIDG05230', 'SIDG05239', 'SIDG05253', 'SIDG05274', 'SIDG05281', 'SIDG05283', 'SIDG05300', 'SIDG05314', 'SIDG05334', 'SIDG05336', 'SIDG05352', 'SIDG05356', 'SIDG05358', 'SIDG05373', 'SIDG05397', 'SIDG05406', 'SIDG05412', 'SIDG05421', 'SIDG05444', 'SIDG05455', 'SIDG05486', 'SIDG05493', 'SIDG05494', 'SIDG05520', 'SIDG05525', 'SIDG05532', 'SIDG05554', 'SIDG05558', 'SIDG05561', 'SIDG05575', 'SIDG05634', 'SIDG05656', 'SIDG05664', 'SIDG05668', 'SIDG05669', 'SIDG05672', 'SIDG05676', 'SIDG05684', 'SIDG05685', 'SIDG05686', 'SIDG05691', 'SIDG05693', 'SIDG05702', 'SIDG05706', 'SIDG05735', 'SIDG05754', 'SIDG05758', 'SIDG05760', 'SIDG05766', 'SIDG05795', 'SIDG05803', 'SIDG05811', 'SIDG05815', 'SIDG05819', 'SIDG05820', 'SIDG05867', 'SIDG05879', 'SIDG05891', 'SIDG05997', 'SIDG06019', 'SIDG06042', 'SIDG06043', 'SIDG06052', 'SIDG06062', 'SIDG06073', 'SIDG06096', 'SIDG06105', 'SIDG06115', 'SIDG06119', 'SIDG06136', 'SIDG06147', 'SIDG06165', 'SIDG06175', 'SIDG06181', 'SIDG06182', 'SIDG06190', 'SIDG06194', 'SIDG06197', 'SIDG06198', 'SIDG06222', 'SIDG06223', 'SIDG06234', 'SIDG06235', 'SIDG06236', 'SIDG06241', 'SIDG06248', 'SIDG06253', 'SIDG06357', 'SIDG06359', 'SIDG06378', 'SIDG06390', 'SIDG06395', 'SIDG06399', 'SIDG06510', 'SIDG06524', 'SIDG06541', 'SIDG06543', 'SIDG06551', 'SIDG06560', 'SIDG06566', 'SIDG06591', 'SIDG06603', 'SIDG06604', 'SIDG06607', 'SIDG06612', 'SIDG06621', 'SIDG06714', 'SIDG06724', 'SIDG06732', 'SIDG06737', 'SIDG06743', 'SIDG06751', 'SIDG06755', 'SIDG06808', 'SIDG06847', 'SIDG06915', 'SIDG06965', 'SIDG06970', 'SIDG06974', 'SIDG06992', 'SIDG06995', 'SIDG07012', 'SIDG07017', 'SIDG07019', 'SIDG07020', 'SIDG07055', 'SIDG07058', 'SIDG07062', 'SIDG07087', 'SIDG07175', 'SIDG07177', 'SIDG07180', 'SIDG07183', 'SIDG07202', 'SIDG07259', 'SIDG07261', 'SIDG07287', 'SIDG07290', 'SIDG07307', 'SIDG07321', 'SIDG07372', 'SIDG07402', 'SIDG07421', 'SIDG07425', 'SIDG07443', 'SIDG07457', 'SIDG07467', 'SIDG07478', 'SIDG07484', 'SIDG07490', 'SIDG07494', 'SIDG07496', 'SIDG07510', 'SIDG07511', 'SIDG07512', 'SIDG07514', 'SIDG07525', 'SIDG07526', 'SIDG07534', 'SIDG07536', 'SIDG07537', 'SIDG07540', 'SIDG07541', 'SIDG07546', 'SIDG07550', 'SIDG07551', 'SIDG07552', 'SIDG07554', 'SIDG07556', 'SIDG07564', 'SIDG07580', 'SIDG07586', 'SIDG07588', 'SIDG07604', 'SIDG07618', 'SIDG07619', 'SIDG07620', 'SIDG07624', 'SIDG07625', 'SIDG07632', 'SIDG07635', 'SIDG07642', 'SIDG07647', 'SIDG07653', 'SIDG07667', 'SIDG07737', 'SIDG07741', 'SIDG07772', 'SIDG07775', 'SIDG07776', 'SIDG07785', 'SIDG07797', 'SIDG07835', 'SIDG07859', 'SIDG07861', 'SIDG07862', 'SIDG07872', 'SIDG07911', 'SIDG07912', 'SIDG07927', 'SIDG07928', 'SIDG07930', 'SIDG07946', 'SIDG07951', 'SIDG07953', 'SIDG07954', 'SIDG07982', 'SIDG07985', 'SIDG07990', 'SIDG08132', 'SIDG08148', 'SIDG08152', 'SIDG08164', 'SIDG08191', 'SIDG08206', 'SIDG08244', 'SIDG08246', 'SIDG08254', 'SIDG08267', 'SIDG08286', 'SIDG08303', 'SIDG08311', 'SIDG08312', 'SIDG08317', 'SIDG08330', 'SIDG08410', 'SIDG08453', 'SIDG08465', 'SIDG08545', 'SIDG08550', 'SIDG08559', 'SIDG08711', 'SIDG08716', 'SIDG08792', 'SIDG08818', 'SIDG08830', 'SIDG08839', 'SIDG08842', 'SIDG08843', 'SIDG08897', 'SIDG08976', 'SIDG08977', 'SIDG09009', 'SIDG09019', 'SIDG09020', 'SIDG09042', 'SIDG09108', 'SIDG09112', 'SIDG09113', 'SIDG09142', 'SIDG09153', 'SIDG09179', 'SIDG09180', 'SIDG09185', 'SIDG09225', 'SIDG09228', 'SIDG09229', 'SIDG09232', 'SIDG09236', 'SIDG09265', 'SIDG09267', 'SIDG09271', 'SIDG09526', 'SIDG09540', 'SIDG09541', 'SIDG09548', 'SIDG09577', 'SIDG09604', 'SIDG09618', 'SIDG09636', 'SIDG09640', 'SIDG09642', 'SIDG09653', 'SIDG09669', 'SIDG09670', 'SIDG09674', 'SIDG09692', 'SIDG09721', 'SIDG09762', 'SIDG09768', 'SIDG09794', 'SIDG09868', 'SIDG09870', 'SIDG09879', 'SIDG09892', 'SIDG09945', 'SIDG09990', 'SIDG09991', 'SIDG09992', 'SIDG10028', 'SIDG10030', 'SIDG10069', 'SIDG10174', 'SIDG10191', 'SIDG10228', 'SIDG10248', 'SIDG10272', 'SIDG10284', 'SIDG10287', 'SIDG10289', 'SIDG10295', 'SIDG10297', 'SIDG10304', 'SIDG10316', 'SIDG10323', 'SIDG10325', 'SIDG10334', 'SIDG10344', 'SIDG10357', 'SIDG10406', 'SIDG10407', 'SIDG10408', 'SIDG10409', 'SIDG10418', 'SIDG10436', 'SIDG10452', 'SIDG10456', 'SIDG10479', 'SIDG10492', 'SIDG10588', 'SIDG10597', 'SIDG10606', 'SIDG10609', 'SIDG10611', 'SIDG10635', 'SIDG10636', 'SIDG10646', 'SIDG10670', 'SIDG10695', 'SIDG10704', 'SIDG10710', 'SIDG10719', 'SIDG10727', 'SIDG10730', 'SIDG10732', 'SIDG10753', 'SIDG10759', 'SIDG10762', 'SIDG10793', 'SIDG10821', 'SIDG10841', 'SIDG10867', 'SIDG10919', 'SIDG10922', 'SIDG10928', 'SIDG10930', 'SIDG10931', 'SIDG10933', 'SIDG10951', 'SIDG10962', 'SIDG10963', 'SIDG10968', 'SIDG10971', 'SIDG11023', 'SIDG11112', 'SIDG11115', 'SIDG11130', 'SIDG11133', 'SIDG11139', 'SIDG11152', 'SIDG11196', 'SIDG11198', 'SIDG11206', 'SIDG11208', 'SIDG11241', 'SIDG11274', 'SIDG11284', 'SIDG11386', 'SIDG11393', 'SIDG11394', 'SIDG11395', 'SIDG11411', 'SIDG11412', 'SIDG11421', 'SIDG11443', 'SIDG11447', 'SIDG11461', 'SIDG11462', 'SIDG11471', 'SIDG11472', 'SIDG11523', 'SIDG11525', 'SIDG11562', 'SIDG11564', 'SIDG11603', 'SIDG11678', 'SIDG11679', 'SIDG11758', 'SIDG11759', 'SIDG11776', 'SIDG11778', 'SIDG11792', 'SIDG11793', 'SIDG11801', 'SIDG11803', 'SIDG11808', 'SIDG11810', 'SIDG11820', 'SIDG11823', 'SIDG11827', 'SIDG11828', 'SIDG11841', 'SIDG11843', 'SIDG11908', 'SIDG11911', 'SIDG11919', 'SIDG11976', 'SIDG11997', 'SIDG12005', 'SIDG12029', 'SIDG12035', 'SIDG12042', 'SIDG12050', 'SIDG12052', 'SIDG12055', 'SIDG12076', 'SIDG12084', 'SIDG12098', 'SIDG12121', 'SIDG12152', 'SIDG12155', 'SIDG12201', 'SIDG12227', 'SIDG12228', 'SIDG12242', 'SIDG12252', 'SIDG12265', 'SIDG12266', 'SIDG12269', 'SIDG12285', 'SIDG12287', 'SIDG12292', 'SIDG12301', 'SIDG12302', 'SIDG12309', 'SIDG12310', 'SIDG12311', 'SIDG12317', 'SIDG12328', 'SIDG12382', 'SIDG12416', 'SIDG12423', 'SIDG12424', 'SIDG12425', 'SIDG12426', 'SIDG12427', 'SIDG12921', 'SIDG12934', 'SIDG12955', 'SIDG12959', 'SIDG13024', 'SIDG13035', 'SIDG13038', 'SIDG13048', 'SIDG13071', 'SIDG13090', 'SIDG13122', 'SIDG13166', 'SIDG13168', 'SIDG13173', 'SIDG13205', 'SIDG13225', 'SIDG13261', 'SIDG13275', 'SIDG13281', 'SIDG13289', 'SIDG13291', 'SIDG13294', 'SIDG13308', 'SIDG13336', 'SIDG13338', 'SIDG13349', 'SIDG13359', 'SIDG13371', 'SIDG13374', 'SIDG13395', 'SIDG13410', 'SIDG13411', 'SIDG13417', 'SIDG13419', 'SIDG13420', 'SIDG13422', 'SIDG13437', 'SIDG13558', 'SIDG13595', 'SIDG13619', 'SIDG13625', 'SIDG13626', 'SIDG13629', 'SIDG13631', 'SIDG13642', 'SIDG13643', 'SIDG13654', 'SIDG13663', 'SIDG13664', 'SIDG13695', 'SIDG13701', 'SIDG13721', 'SIDG13726', 'SIDG13735', 'SIDG13741', 'SIDG13755', 'SIDG13757', 'SIDG13758', 'SIDG13768', 'SIDG13821', 'SIDG13822', 'SIDG13842', 'SIDG13895', 'SIDG13896', 'SIDG13900', 'SIDG13924', 'SIDG13926', 'SIDG13928', 'SIDG13936', 'SIDG13947', 'SIDG13953', 'SIDG13955', 'SIDG13957', 'SIDG13960', 'SIDG13972', 'SIDG13978', 'SIDG13979', 'SIDG13982', 'SIDG13984', 'SIDG14040', 'SIDG14044', 'SIDG14046', 'SIDG14055', 'SIDG14064', 'SIDG14133', 'SIDG14141', 'SIDG14172', 'SIDG14310', 'SIDG14351', 'SIDG14355', 'SIDG14358', 'SIDG14360', 'SIDG14362', 'SIDG14364', 'SIDG14366', 'SIDG14381', 'SIDG14386', 'SIDG14387', 'SIDG14395', 'SIDG14401', 'SIDG14402', 'SIDG14410', 'SIDG14414', 'SIDG14426', 'SIDG14466', 'SIDG14485', 'SIDG14498', 'SIDG14535', 'SIDG14546', 'SIDG14548', 'SIDG14549', 'SIDG14553', 'SIDG14622', 'SIDG14623', 'SIDG14630', 'SIDG16629', 'SIDG16638', 'SIDG16644', 'SIDG16646', 'SIDG16660', 'SIDG16661', 'SIDG16663', 'SIDG16670', 'SIDG16671', 'SIDG16698', 'SIDG16705', 'SIDG16709', 'SIDG16726', 'SIDG16733', 'SIDG16774', 'SIDG16777', 'SIDG16778', 'SIDG16858', 'SIDG16859', 'SIDG16871', 'SIDG16876', 'SIDG16912', 'SIDG16923', 'SIDG16935', 'SIDG16943', 'SIDG16954', 'SIDG16962', 'SIDG16970', 'SIDG16992', 'SIDG17003', 'SIDG17042', 'SIDG17052', 'SIDG17069', 'SIDG17087', 'SIDG17113', 'SIDG17114', 'SIDG17136', 'SIDG17142', 'SIDG17144', 'SIDG17159', 'SIDG17182', 'SIDG17184', 'SIDG17218', 'SIDG17221', 'SIDG17225', 'SIDG17236', 'SIDG17239', 'SIDG17260', 'SIDG17267', 'SIDG17283', 'SIDG17284', 'SIDG17289', 'SIDG17290', 'SIDG17316', 'SIDG17321', 'SIDG17372', 'SIDG17374', 'SIDG17380', 'SIDG17385', 'SIDG17397', 'SIDG17411', 'SIDG17418', 'SIDG17419', 'SIDG17420', 'SIDG17423', 'SIDG17425', 'SIDG17426', 'SIDG17462', 'SIDG17464', 'SIDG17465', 'SIDG17467', 'SIDG17468', 'SIDG17481', 'SIDG17483', 'SIDG17496', 'SIDG17522', 'SIDG17535', 'SIDG17607', 'SIDG17622', 'SIDG17699', 'SIDG17700', 'SIDG17703', 'SIDG17705', 'SIDG17717', 'SIDG17749', 'SIDG17752', 'SIDG17970', 'SIDG19772', 'SIDG19783', 'SIDG19799', 'SIDG19802', 'SIDG19811', 'SIDG19818', 'SIDG19841', 'SIDG19880', 'SIDG19913', 'SIDG19921', 'SIDG19977', 'SIDG19990', 'SIDG20026', 'SIDG20069', 'SIDG20076', 'SIDG20308', 'SIDG20313', 'SIDG20315', 'SIDG20357', 'SIDG20359', 'SIDG20434', 'SIDG20445', 'SIDG20482', 'SIDG20672', 'SIDG20691', 'SIDG20694', 'SIDG20792', 'SIDG20995', 'SIDG20997', 'SIDG21035', 'SIDG21074', 'SIDG21084', 'SIDG21097', 'SIDG21116', 'SIDG21127', 'SIDG21128', 'SIDG21141', 'SIDG21151', 'SIDG21153', 'SIDG21155', 'SIDG21159', 'SIDG21174', 'SIDG21175', 'SIDG21189', 'SIDG21194', 'SIDG21207', 'SIDG21258', 'SIDG21264', 'SIDG21272', 'SIDG21285', 'SIDG21316', 'SIDG21341', 'SIDG21347', 'SIDG21367', 'SIDG21371', 'SIDG21410', 'SIDG21441', 'SIDG21444', 'SIDG21445', 'SIDG21451', 'SIDG21474', 'SIDG21481', 'SIDG21482', 'SIDG21489', 'SIDG21491', 'SIDG21519', 'SIDG21521', 'SIDG21528', 'SIDG21546', 'SIDG21623', 'SIDG21635', 'SIDG21636', 'SIDG21639', 'SIDG21651', 'SIDG21656', 'SIDG21677', 'SIDG21712', 'SIDG21727', 'SIDG21775', 'SIDG21776', 'SIDG21784', 'SIDG21785', 'SIDG21787', 'SIDG21795', 'SIDG21800', 'SIDG21856', 'SIDG21876', 'SIDG21878', 'SIDG21879', 'SIDG21903', 'SIDG21964', 'SIDG21984', 'SIDG22017', 'SIDG22047', 'SIDG22052', 'SIDG22061', 'SIDG22063', 'SIDG22067', 'SIDG22068', 'SIDG22083', 'SIDG22116', 'SIDG22120', 'SIDG22155', 'SIDG22221', 'SIDG22235', 'SIDG22254', 'SIDG22257', 'SIDG22282', 'SIDG22285', 'SIDG22287', 'SIDG22298', 'SIDG22308', 'SIDG22319', 'SIDG22320', 'SIDG22321', 'SIDG22337', 'SIDG22361', 'SIDG22401', 'SIDG22402', 'SIDG22404', 'SIDG22413', 'SIDG22441', 'SIDG22447', 'SIDG22457', 'SIDG22465', 'SIDG22471', 'SIDG22474', 'SIDG22485', 'SIDG22492', 'SIDG22554', 'SIDG22556', 'SIDG22570', 'SIDG22582', 'SIDG22633', 'SIDG22635', 'SIDG22648', 'SIDG22668', 'SIDG22698', 'SIDG23628', 'SIDG23629', 'SIDG23633', 'SIDG23638', 'SIDG23639', 'SIDG23659', 'SIDG23729', 'SIDG23730', 'SIDG23742', 'SIDG23769', 'SIDG23774', 'SIDG23777', 'SIDG23785', 'SIDG23804', 'SIDG23831', 'SIDG23834', 'SIDG23846', 'SIDG23854', 'SIDG23856', 'SIDG23860', 'SIDG23867', 'SIDG23894', 'SIDG23902', 'SIDG23912', 'SIDG23922', 'SIDG23930', 'SIDG23942', 'SIDG23946', 'SIDG23967', 'SIDG23981', 'SIDG23994', 'SIDG23995', 'SIDG24018', 'SIDG24131', 'SIDG24143', 'SIDG24151', 'SIDG24157', 'SIDG24163', 'SIDG24182', 'SIDG24184', 'SIDG24188', 'SIDG24198', 'SIDG24203', 'SIDG24204', 'SIDG24257', 'SIDG24261', 'SIDG24263', 'SIDG24266', 'SIDG24268', 'SIDG24276', 'SIDG24284', 'SIDG24285', 'SIDG24286', 'SIDG24294', 'SIDG24295', 'SIDG24301', 'SIDG24303', 'SIDG24321', 'SIDG24325', 'SIDG24336', 'SIDG24353', 'SIDG24385', 'SIDG24391', 'SIDG24393', 'SIDG24395', 'SIDG24406', 'SIDG24457', 'SIDG24465', 'SIDG24491', 'SIDG24492', 'SIDG24502', 'SIDG24537', 'SIDG24545', 'SIDG24556', 'SIDG24561', 'SIDG24563', 'SIDG24578', 'SIDG24582', 'SIDG24607', 'SIDG24654', 'SIDG24691', 'SIDG24839', 'SIDG24880', 'SIDG24888', 'SIDG24940', 'SIDG24951', 'SIDG24994', 'SIDG25025', 'SIDG25030', 'SIDG25037', 'SIDG25040', 'SIDG25057', 'SIDG25059', 'SIDG25081', 'SIDG25086', 'SIDG25097', 'SIDG25127', 'SIDG25150', 'SIDG25169', 'SIDG25190', 'SIDG25195', 'SIDG25199', 'SIDG25219', 'SIDG25222', 'SIDG25226', 'SIDG25283', 'SIDG25293', 'SIDG25339', 'SIDG25357', 'SIDG25362', 'SIDG25367', 'SIDG25371', 'SIDG25472', 'SIDG25474', 'SIDG25475', 'SIDG25496', 'SIDG25505', 'SIDG25506', 'SIDG25507', 'SIDG25541', 'SIDG25559', 'SIDG25579', 'SIDG25582', 'SIDG25584', 'SIDG25595', 'SIDG25598', 'SIDG25599', 'SIDG25611', 'SIDG25621', 'SIDG25623', 'SIDG25647', 'SIDG25708', 'SIDG25715', 'SIDG25723', 'SIDG25724', 'SIDG25734', 'SIDG25781', 'SIDG25784', 'SIDG25794', 'SIDG25797', 'SIDG25803', 'SIDG25819', 'SIDG25823', 'SIDG25836', 'SIDG25866', 'SIDG25867', 'SIDG25868', 'SIDG25870', 'SIDG25878', 'SIDG25897', 'SIDG25943', 'SIDG25955', 'SIDG25972', 'SIDG26015', 'SIDG26017', 'SIDG26023', 'SIDG26048', 'SIDG26061', 'SIDG26062', 'SIDG26068', 'SIDG26071', 'SIDG26072', 'SIDG26073', 'SIDG26076', 'SIDG26077', 'SIDG26079', 'SIDG26086', 'SIDG26100', 'SIDG26101', 'SIDG26104', 'SIDG26105', 'SIDG26110', 'SIDG26111', 'SIDG26113', 'SIDG26114', 'SIDG26120', 'SIDG26122', 'SIDG26125', 'SIDG26129', 'SIDG26130', 'SIDG26132', 'SIDG26133', 'SIDG26134', 'SIDG26135', 'SIDG26144', 'SIDG26176', 'SIDG26179', 'SIDG26184', 'SIDG26198', 'SIDG26216', 'SIDG26219', 'SIDG26231', 'SIDG26240', 'SIDG26246', 'SIDG26255', 'SIDG26261', 'SIDG26269', 'SIDG26277', 'SIDG26287', 'SIDG26288', 'SIDG26290', 'SIDG26306', 'SIDG26330', 'SIDG26334', 'SIDG26345', 'SIDG26350', 'SIDG26382', 'SIDG26401', 'SIDG26435', 'SIDG26437', 'SIDG26440', 'SIDG26463', 'SIDG26466', 'SIDG26485', 'SIDG26490', 'SIDG26502', 'SIDG26503', 'SIDG26508', 'SIDG26515', 'SIDG26516', 'SIDG26539', 'SIDG26561', 'SIDG26570', 'SIDG26576', 'SIDG26588', 'SIDG26591', 'SIDG26601', 'SIDG26604', 'SIDG26605', 'SIDG26641', 'SIDG26644', 'SIDG26651', 'SIDG26652', 'SIDG26661', 'SIDG26662', 'SIDG26671', 'SIDG26684', 'SIDG26710', 'SIDG26724', 'SIDG26777', 'SIDG26781', 'SIDG26789', 'SIDG26791', 'SIDG26792', 'SIDG26797', 'SIDG26801', 'SIDG26805', 'SIDG26806', 'SIDG26809', 'SIDG26811', 'SIDG26813', 'SIDG26848', 'SIDG26849', 'SIDG26856', 'SIDG26864', 'SIDG26867', 'SIDG26875', 'SIDG26923', 'SIDG26929', 'SIDG26949', 'SIDG26956', 'SIDG26972', 'SIDG26975', 'SIDG26977', 'SIDG26988', 'SIDG26995', 'SIDG27001', 'SIDG27007', 'SIDG27009', 'SIDG27033', 'SIDG27052', 'SIDG27070', 'SIDG27176', 'SIDG27184', 'SIDG27189', 'SIDG27190', 'SIDG27227', 'SIDG29073', 'SIDG29076', 'SIDG29087', 'SIDG29089', 'SIDG29095', 'SIDG29118', 'SIDG29139', 'SIDG29169', 'SIDG29172', 'SIDG29193', 'SIDG29195', 'SIDG29203', 'SIDG31241', 'SIDG31243', 'SIDG31312', 'SIDG31327', 'SIDG31334', 'SIDG31370', 'SIDG31399', 'SIDG31400', 'SIDG31473', 'SIDG31548', 'SIDG31554', 'SIDG31587', 'SIDG31588', 'SIDG31622', 'SIDG31628', 'SIDG31679', 'SIDG31680', 'SIDG31719', 'SIDG31725', 'SIDG31800', 'SIDG31801', 'SIDG31831', 'SIDG31853', 'SIDG31990', 'SIDG32014', 'SIDG32015', 'SIDG32122', 'SIDG32131', 'SIDG32169', 'SIDG32170', 'SIDG32190', 'SIDG32196', 'SIDG32229', 'SIDG32246', 'SIDG32310', 'SIDG32347', 'SIDG32384', 'SIDG32385', 'SIDG32432', 'SIDG32433', 'SIDG32508', 'SIDG32509', 'SIDG32544', 'SIDG32549', 'SIDG32592', 'SIDG32600', 'SIDG32601', 'SIDG32619', 'SIDG32635', 'SIDG32636', 'SIDG32655', 'SIDG32711', 'SIDG32712', 'SIDG32773', 'SIDG32800', 'SIDG32809', 'SIDG32849', 'SIDG32865', 'SIDG32875', 'SIDG32880', 'SIDG32913', 'SIDG32921', 'SIDG32953', 'SIDG32962', 'SIDG32973', 'SIDG32974', 'SIDG33024', 'SIDG33035', 'SIDG33054', 'SIDG33069', 'SIDG33078', 'SIDG33114', 'SIDG33123', 'SIDG33134', 'SIDG33154', 'SIDG33165', 'SIDG33224', 'SIDG33225', 'SIDG33275', 'SIDG33285', 'SIDG33319', 'SIDG33410', 'SIDG33413', 'SIDG33415', 'SIDG33427', 'SIDG33443', 'SIDG33446', 'SIDG33447', 'SIDG33503', 'SIDG33505', 'SIDG33515', 'SIDG33538', 'SIDG33577', 'SIDG33579', 'SIDG33581', 'SIDG33588', 'SIDG33589', 'SIDG33590', 'SIDG33597', 'SIDG33598', 'SIDG33601', 'SIDG33616', 'SIDG33617', 'SIDG33647', 'SIDG33681', 'SIDG33687', 'SIDG33691', 'SIDG33698', 'SIDG33711', 'SIDG33720', 'SIDG33739', 'SIDG33758', 'SIDG33796', 'SIDG33803', 'SIDG33817', 'SIDG33863', 'SIDG33866', 'SIDG33894', 'SIDG33895', 'SIDG33897', 'SIDG33899', 'SIDG33913', 'SIDG33914', 'SIDG33923', 'SIDG33956', 'SIDG33958', 'SIDG33959', 'SIDG33975', 'SIDG33983', 'SIDG33988', 'SIDG33989', 'SIDG33991', 'SIDG33998', 'SIDG34002', 'SIDG34003', 'SIDG34014', 'SIDG34030', 'SIDG34065', 'SIDG34075', 'SIDG34080', 'SIDG34087', 'SIDG34100', 'SIDG34102', 'SIDG34129', 'SIDG34139', 'SIDG34143', 'SIDG34144', 'SIDG34145', 'SIDG34148', 'SIDG34164', 'SIDG34165', 'SIDG34171', 'SIDG34183', 'SIDG34184', 'SIDG34190', 'SIDG34205', 'SIDG34209', 'SIDG34212', 'SIDG34241', 'SIDG34244', 'SIDG34246', 'SIDG34247', 'SIDG34249', 'SIDG34252', 'SIDG34253', 'SIDG34255', 'SIDG34262', 'SIDG34263', 'SIDG34268', 'SIDG34274', 'SIDG34287', 'SIDG34334', 'SIDG34336', 'SIDG34351', 'SIDG34353', 'SIDG34391', 'SIDG34402', 'SIDG34415', 'SIDG34454', 'SIDG34467', 'SIDG34509', 'SIDG34514', 'SIDG34534', 'SIDG34559', 'SIDG34568', 'SIDG34641', 'SIDG34672', 'SIDG34695', 'SIDG34699', 'SIDG34730', 'SIDG34774', 'SIDG34781', 'SIDG34786', 'SIDG34844', 'SIDG34846', 'SIDG34849', 'SIDG34953', 'SIDG34954', 'SIDG34964', 'SIDG34969', 'SIDG34970', 'SIDG34973', 'SIDG34978', 'SIDG34986', 'SIDG34987', 'SIDG35030', 'SIDG35050', 'SIDG35053', 'SIDG35054', 'SIDG35071', 'SIDG35081', 'SIDG35082', 'SIDG35083', 'SIDG35084', 'SIDG35089', 'SIDG35090', 'SIDG35103', 'SIDG35105', 'SIDG35107', 'SIDG35108', 'SIDG35113', 'SIDG35213', 'SIDG35287', 'SIDG35288', 'SIDG35290', 'SIDG35872', 'SIDG35873', 'SIDG35876', 'SIDG35902', 'SIDG35906', 'SIDG35952', 'SIDG35957', 'SIDG35961', 'SIDG35965', 'SIDG35968', 'SIDG35972', 'SIDG36046', 'SIDG36058', 'SIDG36085', 'SIDG36092', 'SIDG36135', 'SIDG36140', 'SIDG36158', 'SIDG36160', 'SIDG36219', 'SIDG36228', 'SIDG36265', 'SIDG36298', 'SIDG36315', 'SIDG36317', 'SIDG36334', 'SIDG36338', 'SIDG36380', 'SIDG36390', 'SIDG36398', 'SIDG36400', 'SIDG36416', 'SIDG36432', 'SIDG36439', 'SIDG36444', 'SIDG36446', 'SIDG36453', 'SIDG36459', 'SIDG36462', 'SIDG36466', 'SIDG36472', 'SIDG36476', 'SIDG36481', 'SIDG36482', 'SIDG36484', 'SIDG36485', 'SIDG36486', 'SIDG36487', 'SIDG36488', 'SIDG36489', 'SIDG36493', 'SIDG36496', 'SIDG36508', 'SIDG36516', 'SIDG36524', 'SIDG36527', 'SIDG36528', 'SIDG36529', 'SIDG36531', 'SIDG36541', 'SIDG36574', 'SIDG36611', 'SIDG36646', 'SIDG36662', 'SIDG36668', 'SIDG36672', 'SIDG36679', 'SIDG36681', 'SIDG36687', 'SIDG36691', 'SIDG36692', 'SIDG36699', 'SIDG36705', 'SIDG36710', 'SIDG36741', 'SIDG36750', 'SIDG36771', 'SIDG36772', 'SIDG36783', 'SIDG36785', 'SIDG36801', 'SIDG36821', 'SIDG36839', 'SIDG36845', 'SIDG36853', 'SIDG36854', 'SIDG36875', 'SIDG36881', 'SIDG36901', 'SIDG36912', 'SIDG36915', 'SIDG36923', 'SIDG36936', 'SIDG36944', 'SIDG36950', 'SIDG36979', 'SIDG36984', 'SIDG36990', 'SIDG37009', 'SIDG37015', 'SIDG37034', 'SIDG37061', 'SIDG37064', 'SIDG37069', 'SIDG37079', 'SIDG37090', 'SIDG37106', 'SIDG37109', 'SIDG37115', 'SIDG37123', 'SIDG37128', 'SIDG37136', 'SIDG37141', 'SIDG37197', 'SIDG37273', 'SIDG37288', 'SIDG37315', 'SIDG37336', 'SIDG37344', 'SIDG37355', 'SIDG37368', 'SIDG37369', 'SIDG37420', 'SIDG37427', 'SIDG37473', 'SIDG37533', 'SIDG37536', 'SIDG37545', 'SIDG37547', 'SIDG37552', 'SIDG37554', 'SIDG37555', 'SIDG37558', 'SIDG37559', 'SIDG37562', 'SIDG37570', 'SIDG37575', 'SIDG37599', 'SIDG37633', 'SIDG37652', 'SIDG37662', 'SIDG37686', 'SIDG37688', 'SIDG37707', 'SIDG37730', 'SIDG37732', 'SIDG37746', 'SIDG37750', 'SIDG37754', 'SIDG37775', 'SIDG37797', 'SIDG37811', 'SIDG37812', 'SIDG37820', 'SIDG37844', 'SIDG37845', 'SIDG37846', 'SIDG37847', 'SIDG37849', 'SIDG37852', 'SIDG37853', 'SIDG37876', 'SIDG37880', 'SIDG37892', 'SIDG37908', 'SIDG37956', 'SIDG37957', 'SIDG37972', 'SIDG38020', 'SIDG38096', 'SIDG38157', 'SIDG38159', 'SIDG38182', 'SIDG38192', 'SIDG38208', 'SIDG38209', 'SIDG38212', 'SIDG38232', 'SIDG38233', 'SIDG38242', 'SIDG38247', 'SIDG38257', 'SIDG38280', 'SIDG38289', 'SIDG38290', 'SIDG38304', 'SIDG38318', 'SIDG38319', 'SIDG38335', 'SIDG38338', 'SIDG38342', 'SIDG38343', 'SIDG38348', 'SIDG38353', 'SIDG38388', 'SIDG38392', 'SIDG38394', 'SIDG38397', 'SIDG38400', 'SIDG38406', 'SIDG38408', 'SIDG38409', 'SIDG38419', 'SIDG38428', 'SIDG38432', 'SIDG38457', 'SIDG38484', 'SIDG38533', 'SIDG38616', 'SIDG38618', 'SIDG39046', 'SIDG39079', 'SIDG39094', 'SIDG39121', 'SIDG39172', 'SIDG39175', 'SIDG39178', 'SIDG39366', 'SIDG39416', 'SIDG39643', 'SIDG39673', 'SIDG39678', 'SIDG39680', 'SIDG39691', 'SIDG39739', 'SIDG39759', 'SIDG39776', 'SIDG39887', 'SIDG39895', 'SIDG39904', 'SIDG39916', 'SIDG39924', 'SIDG39961', 'SIDG39964', 'SIDG39975', 'SIDG39987', 'SIDG40001', 'SIDG40013', 'SIDG40025', 'SIDG40031', 'SIDG40052', 'SIDG40053', 'SIDG40054', 'SIDG40056', 'SIDG40057', 'SIDG40060', 'SIDG40063', 'SIDG40082', 'SIDG40085', 'SIDG40091', 'SIDG40096', 'SIDG40103', 'SIDG40104', 'SIDG40123', 'SIDG40124', 'SIDG40126', 'SIDG40127', 'SIDG40129', 'SIDG40132', 'SIDG40138', 'SIDG40142', 'SIDG40158', 'SIDG40189', 'SIDG40200', 'SIDG40216', 'SIDG40228', 'SIDG40233', 'SIDG40248', 'SIDG40256', 'SIDG40258', 'SIDG40264', 'SIDG40272', 'SIDG40279', 'SIDG40282', 'SIDG40283', 'SIDG40288', 'SIDG40323', 'SIDG40398', 'SIDG40407', 'SIDG40411', 'SIDG40412', 'SIDG40419', 'SIDG40433', 'SIDG40453', 'SIDG40454', 'SIDG40463', 'SIDG40466', 'SIDG40504', 'SIDG40515', 'SIDG40569', 'SIDG40584', 'SIDG40585', 'SIDG40605', 'SIDG40619', 'SIDG40627', 'SIDG40628', 'SIDG40636', 'SIDG40647', 'SIDG40649', 'SIDG40650', 'SIDG40659', 'SIDG40673', 'SIDG40678', 'SIDG40682', 'SIDG40695', 'SIDG40707', 'SIDG40715', 'SIDG40728', 'SIDG40874', 'SIDG40890', 'SIDG40965', 'SIDG40967', 'SIDG40976', 'SIDG40997', 'SIDG41012', 'SIDG41016', 'SIDG41031', 'SIDG41032', 'SIDG41049', 'SIDG41053', 'SIDG41059', 'SIDG41062', 'SIDG41138', 'SIDG41144', 'SIDG41145', 'SIDG41176', 'SIDG41188', 'SIDG41198', 'SIDG41212', 'SIDG41224', 'SIDG41258', 'SIDG41263', 'SIDG41271', 'SIDG41272', 'SIDG41280', 'SIDG41281', 'SIDG41298', 'SIDG41301', 'SIDG41314', 'SIDG41320', 'SIDG41335', 'SIDG41354', 'SIDG41358', 'SIDG41361', 'SIDG41369', 'SIDG41370', 'SIDG41371', 'SIDG41381', 'SIDG41391', 'SIDG41456', 'SIDG41488', 'SIDG41493', 'SIDG41505', 'SIDG41560', 'SIDG41563', 'SIDG41566', 'SIDG41569', 'SIDG41578', 'SIDG41579', 'SIDG41580', 'SIDG41599', 'SIDG41636', 'SIDG41649', 'SIDG41652', 'SIDG41662', 'SIDG41686', 'SIDG41769', 'SIDG41804', 'SIDG41847', 'SIDG41856', 'SIDG41917', 'SIDG42177', 'SIDG42417']\n",
      "\n",
      "LN_IC50 summary:\n"
     ]
    },
    {
     "data": {
      "application/vnd.microsoft.datawrangler.viewer.v0+json": {
       "columns": [
        {
         "name": "index",
         "rawType": "object",
         "type": "string"
        },
        {
         "name": "LN_IC50",
         "rawType": "float64",
         "type": "float"
        }
       ],
       "ref": "3f49fb9c-9410-488e-bc7c-cebe9c66e1e3",
       "rows": [
        [
         "count",
         "8238.0"
        ],
        [
         "mean",
         "3.4876228387958244"
        ],
        [
         "std",
         "2.1809954809480177"
        ],
        [
         "min",
         "-5.015997"
        ],
        [
         "25%",
         "1.9384375"
        ],
        [
         "50%",
         "3.830331"
        ],
        [
         "75%",
         "5.25491175"
        ],
        [
         "max",
         "9.159444"
        ]
       ],
       "shape": {
        "columns": 1,
        "rows": 8
       }
      },
      "text/plain": [
       "count    8238.000000\n",
       "mean        3.487623\n",
       "std         2.180995\n",
       "min        -5.015997\n",
       "25%         1.938438\n",
       "50%         3.830331\n",
       "75%         5.254912\n",
       "max         9.159444\n",
       "Name: LN_IC50, dtype: float64"
      ]
     },
     "metadata": {},
     "output_type": "display_data"
    }
   ],
   "source": [
    "# Cell 3: bulk unit diagnostics\n",
    "check_bulk_units(BULK_LONG)\n"
   ]
  },
  {
   "cell_type": "code",
   "execution_count": 7,
   "id": "45d30adb",
   "metadata": {},
   "outputs": [
    {
     "name": "stdout",
     "output_type": "stream",
     "text": [
      "=== Global SC mean vs bulk ===\n",
      "Merged pairs: 26\n",
      "corr(sc_mean, bulk) = 0.816\n",
      "global slope (bulk ≈ a*sc_mean + b) = 1.258\n",
      "global intercept = -1.191\n"
     ]
    },
    {
     "data": {
      "application/vnd.microsoft.datawrangler.viewer.v0+json": {
       "columns": [
        {
         "name": "index",
         "rawType": "int64",
         "type": "integer"
        },
        {
         "name": "SANGER_MODEL_ID",
         "rawType": "object",
         "type": "string"
        },
        {
         "name": "drug_id",
         "rawType": "object",
         "type": "string"
        },
        {
         "name": "sc_mean",
         "rawType": "float64",
         "type": "float"
        },
        {
         "name": "bulk",
         "rawType": "float64",
         "type": "float"
        }
       ],
       "ref": "ab4c82bc-1ea3-4e2d-99c8-ac574726a410",
       "rows": [
        [
         "2",
         "SIDM00148",
         "1931",
         "5.517494160246463",
         "6.289278"
        ],
        [
         "20",
         "SIDM00928",
         "1526",
         "1.853073567032754",
         "0.975542"
        ],
        [
         "14",
         "SIDM00885",
         "1096",
         "2.7812263340818544",
         "2.72312"
        ],
        [
         "17",
         "SIDM00893",
         "2508",
         "2.0012841375724735",
         "3.037925"
        ],
        [
         "5",
         "SIDM00630",
         "2038",
         "4.930230777265321",
         "3.2624"
        ],
        [
         "11",
         "SIDM00872",
         "1845",
         "1.5422930395574797",
         "-2.378115"
        ],
        [
         "22",
         "SIDM01037",
         "1096",
         "2.968024381565559",
         "5.241832"
        ],
        [
         "13",
         "SIDM00879",
         "427",
         "5.217322697134632",
         "5.450255"
        ],
        [
         "18",
         "SIDM00920",
         "2508",
         "1.9114962628545247",
         "0.819275"
        ],
        [
         "19",
         "SIDM00920",
         "427",
         "5.265456556169687",
         "5.133296"
        ]
       ],
       "shape": {
        "columns": 4,
        "rows": 10
       }
      },
      "text/html": [
       "<div>\n",
       "<style scoped>\n",
       "    .dataframe tbody tr th:only-of-type {\n",
       "        vertical-align: middle;\n",
       "    }\n",
       "\n",
       "    .dataframe tbody tr th {\n",
       "        vertical-align: top;\n",
       "    }\n",
       "\n",
       "    .dataframe thead th {\n",
       "        text-align: right;\n",
       "    }\n",
       "</style>\n",
       "<table border=\"1\" class=\"dataframe\">\n",
       "  <thead>\n",
       "    <tr style=\"text-align: right;\">\n",
       "      <th></th>\n",
       "      <th>SANGER_MODEL_ID</th>\n",
       "      <th>drug_id</th>\n",
       "      <th>sc_mean</th>\n",
       "      <th>bulk</th>\n",
       "    </tr>\n",
       "  </thead>\n",
       "  <tbody>\n",
       "    <tr>\n",
       "      <th>2</th>\n",
       "      <td>SIDM00148</td>\n",
       "      <td>1931</td>\n",
       "      <td>5.517494</td>\n",
       "      <td>6.289278</td>\n",
       "    </tr>\n",
       "    <tr>\n",
       "      <th>20</th>\n",
       "      <td>SIDM00928</td>\n",
       "      <td>1526</td>\n",
       "      <td>1.853074</td>\n",
       "      <td>0.975542</td>\n",
       "    </tr>\n",
       "    <tr>\n",
       "      <th>14</th>\n",
       "      <td>SIDM00885</td>\n",
       "      <td>1096</td>\n",
       "      <td>2.781226</td>\n",
       "      <td>2.723120</td>\n",
       "    </tr>\n",
       "    <tr>\n",
       "      <th>17</th>\n",
       "      <td>SIDM00893</td>\n",
       "      <td>2508</td>\n",
       "      <td>2.001284</td>\n",
       "      <td>3.037925</td>\n",
       "    </tr>\n",
       "    <tr>\n",
       "      <th>5</th>\n",
       "      <td>SIDM00630</td>\n",
       "      <td>2038</td>\n",
       "      <td>4.930231</td>\n",
       "      <td>3.262400</td>\n",
       "    </tr>\n",
       "    <tr>\n",
       "      <th>11</th>\n",
       "      <td>SIDM00872</td>\n",
       "      <td>1845</td>\n",
       "      <td>1.542293</td>\n",
       "      <td>-2.378115</td>\n",
       "    </tr>\n",
       "    <tr>\n",
       "      <th>22</th>\n",
       "      <td>SIDM01037</td>\n",
       "      <td>1096</td>\n",
       "      <td>2.968024</td>\n",
       "      <td>5.241832</td>\n",
       "    </tr>\n",
       "    <tr>\n",
       "      <th>13</th>\n",
       "      <td>SIDM00879</td>\n",
       "      <td>427</td>\n",
       "      <td>5.217323</td>\n",
       "      <td>5.450255</td>\n",
       "    </tr>\n",
       "    <tr>\n",
       "      <th>18</th>\n",
       "      <td>SIDM00920</td>\n",
       "      <td>2508</td>\n",
       "      <td>1.911496</td>\n",
       "      <td>0.819275</td>\n",
       "    </tr>\n",
       "    <tr>\n",
       "      <th>19</th>\n",
       "      <td>SIDM00920</td>\n",
       "      <td>427</td>\n",
       "      <td>5.265457</td>\n",
       "      <td>5.133296</td>\n",
       "    </tr>\n",
       "  </tbody>\n",
       "</table>\n",
       "</div>"
      ],
      "text/plain": [
       "   SANGER_MODEL_ID drug_id   sc_mean      bulk\n",
       "2        SIDM00148    1931  5.517494  6.289278\n",
       "20       SIDM00928    1526  1.853074  0.975542\n",
       "14       SIDM00885    1096  2.781226  2.723120\n",
       "17       SIDM00893    2508  2.001284  3.037925\n",
       "5        SIDM00630    2038  4.930231  3.262400\n",
       "11       SIDM00872    1845  1.542293 -2.378115\n",
       "22       SIDM01037    1096  2.968024  5.241832\n",
       "13       SIDM00879     427  5.217323  5.450255\n",
       "18       SIDM00920    2508  1.911496  0.819275\n",
       "19       SIDM00920     427  5.265457  5.133296"
      ]
     },
     "metadata": {},
     "output_type": "display_data"
    }
   ],
   "source": [
    "# Cell 4: global bias diagnostics\n",
    "\n",
    "# per-cell preds\n",
    "preds = pd.read_parquet(PRED_PARQUET) if PRED_PARQUET.endswith(\".parquet\") else pd.read_csv(PRED_PARQUET)\n",
    "preds[\"SANGER_MODEL_ID\"] = preds[\"SANGER_MODEL_ID\"].astype(str)\n",
    "preds[\"drug_id\"] = preds[\"drug_id\"].astype(str)\n",
    "\n",
    "# per-(line,drug) SC mean\n",
    "sc_means = preds.groupby([\"SANGER_MODEL_ID\",\"drug_id\"])[\"y_pred\"].mean().rename(\"sc_mean\").reset_index()\n",
    "\n",
    "# bulk wide\n",
    "ln_wide = load_bulk_long_to_wide(BULK_LONG)\n",
    "bulk_long = ln_wide.stack().rename(\"bulk\").reset_index().rename(columns={\"_line\":\"SANGER_MODEL_ID\",\"_drug\":\"drug_id\"})\n",
    "\n",
    "merged = sc_means.merge(bulk_long, on=[\"SANGER_MODEL_ID\",\"drug_id\"], how=\"inner\")\n",
    "print(\"=== Global SC mean vs bulk ===\")\n",
    "print(\"Merged pairs:\", len(merged))\n",
    "if len(merged) >= 2:\n",
    "    corr = merged[\"sc_mean\"].corr(merged[\"bulk\"])\n",
    "    a, b = simple_linfit(merged[\"sc_mean\"].values, merged[\"bulk\"].values)\n",
    "    print(f\"corr(sc_mean, bulk) = {corr:.3f}\")\n",
    "    print(f\"global slope (bulk ≈ a*sc_mean + b) = {a:.3f}\")\n",
    "    print(f\"global intercept = {b:.3f}\")\n",
    "    display(merged.sample(min(10, len(merged)), random_state=0))\n",
    "else:\n",
    "    print(\"Not enough pairs to compute correlation.\")\n"
   ]
  },
  {
   "cell_type": "code",
   "execution_count": 8,
   "id": "5122aa3f",
   "metadata": {},
   "outputs": [
    {
     "name": "stdout",
     "output_type": "stream",
     "text": [
      "=== Per-drug calibration estimates ===\n",
      "Top 10 by correlation:\n"
     ]
    },
    {
     "data": {
      "application/vnd.microsoft.datawrangler.viewer.v0+json": {
       "columns": [
        {
         "name": "index",
         "rawType": "int64",
         "type": "integer"
        },
        {
         "name": "drug_id",
         "rawType": "object",
         "type": "string"
        },
        {
         "name": "n_lines",
         "rawType": "int64",
         "type": "integer"
        },
        {
         "name": "slope",
         "rawType": "float64",
         "type": "float"
        },
        {
         "name": "intercept",
         "rawType": "float64",
         "type": "float"
        },
        {
         "name": "corr",
         "rawType": "float64",
         "type": "float"
        }
       ],
       "ref": "d2d7a19f-d5f2-4254-a807-610a81ba4f84",
       "rows": [
        [
         "2",
         "1931",
         "3",
         "63.93218549382535",
         "-346.6160096940416",
         "0.9869177014297843"
        ],
        [
         "0",
         "1096",
         "3",
         "6.478394314249431",
         "-14.91303280142813",
         "0.7884294688906014"
        ],
        [
         "1",
         "1845",
         "3",
         "6.523471110868084",
         "-11.622633857833298",
         "0.504447055700986"
        ],
        [
         "3",
         "2508",
         "3",
         "6.379974250653967",
         "-10.118283821333879",
         "0.35545912432942095"
        ],
        [
         "4",
         "427",
         "6",
         "2.74082619668195",
         "-9.409872020932287",
         "0.13819447982743466"
        ]
       ],
       "shape": {
        "columns": 5,
        "rows": 5
       }
      },
      "text/html": [
       "<div>\n",
       "<style scoped>\n",
       "    .dataframe tbody tr th:only-of-type {\n",
       "        vertical-align: middle;\n",
       "    }\n",
       "\n",
       "    .dataframe tbody tr th {\n",
       "        vertical-align: top;\n",
       "    }\n",
       "\n",
       "    .dataframe thead th {\n",
       "        text-align: right;\n",
       "    }\n",
       "</style>\n",
       "<table border=\"1\" class=\"dataframe\">\n",
       "  <thead>\n",
       "    <tr style=\"text-align: right;\">\n",
       "      <th></th>\n",
       "      <th>drug_id</th>\n",
       "      <th>n_lines</th>\n",
       "      <th>slope</th>\n",
       "      <th>intercept</th>\n",
       "      <th>corr</th>\n",
       "    </tr>\n",
       "  </thead>\n",
       "  <tbody>\n",
       "    <tr>\n",
       "      <th>2</th>\n",
       "      <td>1931</td>\n",
       "      <td>3</td>\n",
       "      <td>63.932185</td>\n",
       "      <td>-346.616010</td>\n",
       "      <td>0.986918</td>\n",
       "    </tr>\n",
       "    <tr>\n",
       "      <th>0</th>\n",
       "      <td>1096</td>\n",
       "      <td>3</td>\n",
       "      <td>6.478394</td>\n",
       "      <td>-14.913033</td>\n",
       "      <td>0.788429</td>\n",
       "    </tr>\n",
       "    <tr>\n",
       "      <th>1</th>\n",
       "      <td>1845</td>\n",
       "      <td>3</td>\n",
       "      <td>6.523471</td>\n",
       "      <td>-11.622634</td>\n",
       "      <td>0.504447</td>\n",
       "    </tr>\n",
       "    <tr>\n",
       "      <th>3</th>\n",
       "      <td>2508</td>\n",
       "      <td>3</td>\n",
       "      <td>6.379974</td>\n",
       "      <td>-10.118284</td>\n",
       "      <td>0.355459</td>\n",
       "    </tr>\n",
       "    <tr>\n",
       "      <th>4</th>\n",
       "      <td>427</td>\n",
       "      <td>6</td>\n",
       "      <td>2.740826</td>\n",
       "      <td>-9.409872</td>\n",
       "      <td>0.138194</td>\n",
       "    </tr>\n",
       "  </tbody>\n",
       "</table>\n",
       "</div>"
      ],
      "text/plain": [
       "  drug_id  n_lines      slope   intercept      corr\n",
       "2    1931        3  63.932185 -346.616010  0.986918\n",
       "0    1096        3   6.478394  -14.913033  0.788429\n",
       "1    1845        3   6.523471  -11.622634  0.504447\n",
       "3    2508        3   6.379974  -10.118284  0.355459\n",
       "4     427        6   2.740826   -9.409872  0.138194"
      ]
     },
     "metadata": {},
     "output_type": "display_data"
    },
    {
     "name": "stdout",
     "output_type": "stream",
     "text": [
      "Bottom 10 by correlation:\n"
     ]
    },
    {
     "data": {
      "application/vnd.microsoft.datawrangler.viewer.v0+json": {
       "columns": [
        {
         "name": "index",
         "rawType": "int64",
         "type": "integer"
        },
        {
         "name": "drug_id",
         "rawType": "object",
         "type": "string"
        },
        {
         "name": "n_lines",
         "rawType": "int64",
         "type": "integer"
        },
        {
         "name": "slope",
         "rawType": "float64",
         "type": "float"
        },
        {
         "name": "intercept",
         "rawType": "float64",
         "type": "float"
        },
        {
         "name": "corr",
         "rawType": "float64",
         "type": "float"
        }
       ],
       "ref": "b151de59-2923-4784-a8d7-0c91246cfd0b",
       "rows": [
        [
         "2",
         "1931",
         "3",
         "63.93218549382535",
         "-346.6160096940416",
         "0.9869177014297843"
        ],
        [
         "0",
         "1096",
         "3",
         "6.478394314249431",
         "-14.91303280142813",
         "0.7884294688906014"
        ],
        [
         "1",
         "1845",
         "3",
         "6.523471110868084",
         "-11.622633857833298",
         "0.504447055700986"
        ],
        [
         "3",
         "2508",
         "3",
         "6.379974250653967",
         "-10.118283821333879",
         "0.35545912432942095"
        ],
        [
         "4",
         "427",
         "6",
         "2.74082619668195",
         "-9.409872020932287",
         "0.13819447982743466"
        ]
       ],
       "shape": {
        "columns": 5,
        "rows": 5
       }
      },
      "text/html": [
       "<div>\n",
       "<style scoped>\n",
       "    .dataframe tbody tr th:only-of-type {\n",
       "        vertical-align: middle;\n",
       "    }\n",
       "\n",
       "    .dataframe tbody tr th {\n",
       "        vertical-align: top;\n",
       "    }\n",
       "\n",
       "    .dataframe thead th {\n",
       "        text-align: right;\n",
       "    }\n",
       "</style>\n",
       "<table border=\"1\" class=\"dataframe\">\n",
       "  <thead>\n",
       "    <tr style=\"text-align: right;\">\n",
       "      <th></th>\n",
       "      <th>drug_id</th>\n",
       "      <th>n_lines</th>\n",
       "      <th>slope</th>\n",
       "      <th>intercept</th>\n",
       "      <th>corr</th>\n",
       "    </tr>\n",
       "  </thead>\n",
       "  <tbody>\n",
       "    <tr>\n",
       "      <th>2</th>\n",
       "      <td>1931</td>\n",
       "      <td>3</td>\n",
       "      <td>63.932185</td>\n",
       "      <td>-346.616010</td>\n",
       "      <td>0.986918</td>\n",
       "    </tr>\n",
       "    <tr>\n",
       "      <th>0</th>\n",
       "      <td>1096</td>\n",
       "      <td>3</td>\n",
       "      <td>6.478394</td>\n",
       "      <td>-14.913033</td>\n",
       "      <td>0.788429</td>\n",
       "    </tr>\n",
       "    <tr>\n",
       "      <th>1</th>\n",
       "      <td>1845</td>\n",
       "      <td>3</td>\n",
       "      <td>6.523471</td>\n",
       "      <td>-11.622634</td>\n",
       "      <td>0.504447</td>\n",
       "    </tr>\n",
       "    <tr>\n",
       "      <th>3</th>\n",
       "      <td>2508</td>\n",
       "      <td>3</td>\n",
       "      <td>6.379974</td>\n",
       "      <td>-10.118284</td>\n",
       "      <td>0.355459</td>\n",
       "    </tr>\n",
       "    <tr>\n",
       "      <th>4</th>\n",
       "      <td>427</td>\n",
       "      <td>6</td>\n",
       "      <td>2.740826</td>\n",
       "      <td>-9.409872</td>\n",
       "      <td>0.138194</td>\n",
       "    </tr>\n",
       "  </tbody>\n",
       "</table>\n",
       "</div>"
      ],
      "text/plain": [
       "  drug_id  n_lines      slope   intercept      corr\n",
       "2    1931        3  63.932185 -346.616010  0.986918\n",
       "0    1096        3   6.478394  -14.913033  0.788429\n",
       "1    1845        3   6.523471  -11.622634  0.504447\n",
       "3    2508        3   6.379974  -10.118284  0.355459\n",
       "4     427        6   2.740826   -9.409872  0.138194"
      ]
     },
     "metadata": {},
     "output_type": "display_data"
    }
   ],
   "source": [
    "# Cell 5: per-drug calibration (bulk ≈ a*sc_mean + b)\n",
    "\n",
    "rows = []\n",
    "for d, sub in merged.groupby(\"drug_id\"):\n",
    "    if len(sub) >= 3:\n",
    "        a, b = simple_linfit(sub[\"sc_mean\"].values, sub[\"bulk\"].values)\n",
    "        corr = sub[\"sc_mean\"].corr(sub[\"bulk\"])\n",
    "        rows.append({\"drug_id\": d, \"n_lines\": int(len(sub)), \"slope\": a, \"intercept\": b, \"corr\": corr})\n",
    "\n",
    "calib_df = pd.DataFrame(rows).sort_values(\"corr\", ascending=False)\n",
    "print(\"=== Per-drug calibration estimates ===\")\n",
    "if calib_df.empty:\n",
    "    print(\"No drug had ≥3 lines to fit calibration.\")\n",
    "else:\n",
    "    print(\"Top 10 by correlation:\")\n",
    "    display(calib_df.head(10))\n",
    "    print(\"Bottom 10 by correlation:\")\n",
    "    display(calib_df.tail(10))\n"
   ]
  },
  {
   "cell_type": "code",
   "execution_count": 9,
   "id": "dd237725",
   "metadata": {},
   "outputs": [
    {
     "name": "stdout",
     "output_type": "stream",
     "text": [
      "=== Missing genes per model ===\n"
     ]
    },
    {
     "data": {
      "application/vnd.microsoft.datawrangler.viewer.v0+json": {
       "columns": [
        {
         "name": "index",
         "rawType": "int64",
         "type": "integer"
        },
        {
         "name": "drug_id",
         "rawType": "object",
         "type": "string"
        },
        {
         "name": "n_model_features",
         "rawType": "int64",
         "type": "integer"
        },
        {
         "name": "n_missing",
         "rawType": "int64",
         "type": "integer"
        },
        {
         "name": "frac_missing",
         "rawType": "float64",
         "type": "float"
        }
       ],
       "ref": "51dce849-d87b-4fc9-b62b-e5e0ad765478",
       "rows": [
        [
         "0",
         "2508",
         "2044",
         "0",
         "0.0"
        ],
        [
         "1",
         "2540",
         "2044",
         "0",
         "0.0"
        ],
        [
         "2",
         "1931",
         "2044",
         "0",
         "0.0"
        ],
        [
         "3",
         "2515",
         "2044",
         "0",
         "0.0"
        ],
        [
         "4",
         "1096",
         "2044",
         "0",
         "0.0"
        ],
        [
         "5",
         "1845",
         "2044",
         "0",
         "0.0"
        ],
        [
         "6",
         "1089",
         "2044",
         "0",
         "0.0"
        ],
        [
         "7",
         "427",
         "2044",
         "0",
         "0.0"
        ],
        [
         "8",
         "1526",
         "2044",
         "0",
         "0.0"
        ],
        [
         "9",
         "2038",
         "2044",
         "0",
         "0.0"
        ]
       ],
       "shape": {
        "columns": 4,
        "rows": 10
       }
      },
      "text/html": [
       "<div>\n",
       "<style scoped>\n",
       "    .dataframe tbody tr th:only-of-type {\n",
       "        vertical-align: middle;\n",
       "    }\n",
       "\n",
       "    .dataframe tbody tr th {\n",
       "        vertical-align: top;\n",
       "    }\n",
       "\n",
       "    .dataframe thead th {\n",
       "        text-align: right;\n",
       "    }\n",
       "</style>\n",
       "<table border=\"1\" class=\"dataframe\">\n",
       "  <thead>\n",
       "    <tr style=\"text-align: right;\">\n",
       "      <th></th>\n",
       "      <th>drug_id</th>\n",
       "      <th>n_model_features</th>\n",
       "      <th>n_missing</th>\n",
       "      <th>frac_missing</th>\n",
       "    </tr>\n",
       "  </thead>\n",
       "  <tbody>\n",
       "    <tr>\n",
       "      <th>0</th>\n",
       "      <td>2508</td>\n",
       "      <td>2044</td>\n",
       "      <td>0</td>\n",
       "      <td>0.0</td>\n",
       "    </tr>\n",
       "    <tr>\n",
       "      <th>1</th>\n",
       "      <td>2540</td>\n",
       "      <td>2044</td>\n",
       "      <td>0</td>\n",
       "      <td>0.0</td>\n",
       "    </tr>\n",
       "    <tr>\n",
       "      <th>2</th>\n",
       "      <td>1931</td>\n",
       "      <td>2044</td>\n",
       "      <td>0</td>\n",
       "      <td>0.0</td>\n",
       "    </tr>\n",
       "    <tr>\n",
       "      <th>3</th>\n",
       "      <td>2515</td>\n",
       "      <td>2044</td>\n",
       "      <td>0</td>\n",
       "      <td>0.0</td>\n",
       "    </tr>\n",
       "    <tr>\n",
       "      <th>4</th>\n",
       "      <td>1096</td>\n",
       "      <td>2044</td>\n",
       "      <td>0</td>\n",
       "      <td>0.0</td>\n",
       "    </tr>\n",
       "    <tr>\n",
       "      <th>5</th>\n",
       "      <td>1845</td>\n",
       "      <td>2044</td>\n",
       "      <td>0</td>\n",
       "      <td>0.0</td>\n",
       "    </tr>\n",
       "    <tr>\n",
       "      <th>6</th>\n",
       "      <td>1089</td>\n",
       "      <td>2044</td>\n",
       "      <td>0</td>\n",
       "      <td>0.0</td>\n",
       "    </tr>\n",
       "    <tr>\n",
       "      <th>7</th>\n",
       "      <td>427</td>\n",
       "      <td>2044</td>\n",
       "      <td>0</td>\n",
       "      <td>0.0</td>\n",
       "    </tr>\n",
       "    <tr>\n",
       "      <th>8</th>\n",
       "      <td>1526</td>\n",
       "      <td>2044</td>\n",
       "      <td>0</td>\n",
       "      <td>0.0</td>\n",
       "    </tr>\n",
       "    <tr>\n",
       "      <th>9</th>\n",
       "      <td>2038</td>\n",
       "      <td>2044</td>\n",
       "      <td>0</td>\n",
       "      <td>0.0</td>\n",
       "    </tr>\n",
       "  </tbody>\n",
       "</table>\n",
       "</div>"
      ],
      "text/plain": [
       "  drug_id  n_model_features  n_missing  frac_missing\n",
       "0    2508              2044          0           0.0\n",
       "1    2540              2044          0           0.0\n",
       "2    1931              2044          0           0.0\n",
       "3    2515              2044          0           0.0\n",
       "4    1096              2044          0           0.0\n",
       "5    1845              2044          0           0.0\n",
       "6    1089              2044          0           0.0\n",
       "7     427              2044          0           0.0\n",
       "8    1526              2044          0           0.0\n",
       "9    2038              2044          0           0.0"
      ]
     },
     "metadata": {},
     "output_type": "display_data"
    },
    {
     "name": "stdout",
     "output_type": "stream",
     "text": [
      "Max frac_missing: 0.0\n"
     ]
    }
   ],
   "source": [
    "# Cell 6: missing genes per model (defensive check)\n",
    "\n",
    "# load sc just to get gene columns; tolerate 'cell_id' if present\n",
    "sc = pd.read_parquet(SC_PARQUET) if SC_PARQUET.endswith(\".parquet\") else pd.read_csv(SC_PARQUET, index_col=0)\n",
    "sc_cols = [c for c in sc.columns if c != \"cell_id\"]\n",
    "sc_set = set(map(str, sc_cols))\n",
    "\n",
    "# discover bundles for drugs present in preds\n",
    "needed = sorted(preds[\"drug_id\"].unique())\n",
    "model_paths = available_models(\"models\", allowed_drugs=needed)\n",
    "\n",
    "miss_rows = []\n",
    "for d, p in model_paths.items():\n",
    "    try:\n",
    "        b = joblib.load(p)\n",
    "        want = set(map(str, b[\"gene_cols\"]))\n",
    "        miss = want - sc_set\n",
    "        miss_rows.append({\n",
    "            \"drug_id\": d,\n",
    "            \"n_model_features\": len(want),\n",
    "            \"n_missing\": len(miss),\n",
    "            \"frac_missing\": (len(miss) / len(want)) if len(want) else np.nan\n",
    "        })\n",
    "    except Exception as e:\n",
    "        miss_rows.append({\"drug_id\": d, \"n_model_features\": np.nan, \"n_missing\": np.nan, \"frac_missing\": np.nan})\n",
    "        print(f\"[warn] skip {d}: {e}\")\n",
    "\n",
    "miss_df = pd.DataFrame(miss_rows).sort_values(\"frac_missing\", ascending=False)\n",
    "print(\"=== Missing genes per model ===\")\n",
    "display(miss_df.head(10))\n",
    "if not miss_df.empty:\n",
    "    print(\"Max frac_missing:\", miss_df[\"frac_missing\"].max())\n"
   ]
  },
  {
   "cell_type": "code",
   "execution_count": 10,
   "id": "561ae594",
   "metadata": {},
   "outputs": [
    {
     "name": "stdout",
     "output_type": "stream",
     "text": [
      "=== Agreement preview (bulk within per-cell [25,75]) ===\n",
      "before calibration: 0.000\n",
      "after  calibration: 0.154   (only calibrated drugs included)\n"
     ]
    }
   ],
   "source": [
    "# Cell 7 (optional): preview agreement improvement after calibration\n",
    "\n",
    "def percentile_of_value(arr: np.ndarray, value: float) -> float:\n",
    "    arr = np.asarray(arr, float)\n",
    "    if arr.size == 0 or np.isnan(value):\n",
    "        return np.nan\n",
    "    lt = np.sum(arr < value)\n",
    "    eq = np.sum(arr == value)\n",
    "    return 100.0 * (lt + 0.5*eq) / arr.size\n",
    "\n",
    "def label_agreement(pct, agree=(25,75), disc=(10,90)):\n",
    "    if np.isnan(pct): return \"NA\"\n",
    "    if agree[0] <= pct <= agree[1]: return \"agree\"\n",
    "    if pct < disc[0] or pct > disc[1]: return \"discordant\"\n",
    "    return \"borderline\"\n",
    "\n",
    "# before\n",
    "rows0 = []\n",
    "for (line, drug), sub in preds.groupby([\"SANGER_MODEL_ID\",\"drug_id\"]):\n",
    "    if (line in ln_wide.index) and (drug in ln_wide.columns):\n",
    "        pct = percentile_of_value(sub[\"y_pred\"].values, ln_wide.loc[line, drug])\n",
    "        rows0.append(label_agreement(pct))\n",
    "before_agree = (np.array(rows0) == \"agree\").mean() if rows0 else np.nan\n",
    "\n",
    "# after (only for drugs with fitted calibration)\n",
    "preds_cal = preds.copy()\n",
    "if not calib_df.empty:\n",
    "    preds_cal[\"y_pred_cal\"] = preds_cal[\"y_pred\"].astype(float)\n",
    "    for d, row in calib_df.set_index(\"drug_id\").iterrows():\n",
    "        m = preds_cal[\"drug_id\"].eq(d)\n",
    "        preds_cal.loc[m, \"y_pred_cal\"] = row[\"slope\"] * preds_cal.loc[m, \"y_pred_cal\"] + row[\"intercept\"]\n",
    "\n",
    "    rows1 = []\n",
    "    for (line, drug), sub in preds_cal.groupby([\"SANGER_MODEL_ID\",\"drug_id\"]):\n",
    "        if (line in ln_wide.index) and (drug in ln_wide.columns):\n",
    "            val = ln_wide.loc[line, drug]\n",
    "            y = sub[\"y_pred_cal\"].values if \"y_pred_cal\" in sub else sub[\"y_pred\"].values\n",
    "            pct = percentile_of_value(y, val)\n",
    "            rows1.append(label_agreement(pct))\n",
    "    after_agree = (np.array(rows1) == \"agree\").mean() if rows1 else np.nan\n",
    "else:\n",
    "    after_agree = np.nan\n",
    "\n",
    "print(\"=== Agreement preview (bulk within per-cell [25,75]) ===\")\n",
    "print(f\"before calibration: {before_agree:.3f}\")\n",
    "print(f\"after  calibration: {after_agree:.3f}   (only calibrated drugs included)\")\n"
   ]
  }
 ],
 "metadata": {
  "kernelspec": {
   "display_name": "tese-env",
   "language": "python",
   "name": "python3"
  },
  "language_info": {
   "codemirror_mode": {
    "name": "ipython",
    "version": 3
   },
   "file_extension": ".py",
   "mimetype": "text/x-python",
   "name": "python",
   "nbconvert_exporter": "python",
   "pygments_lexer": "ipython3",
   "version": "3.10.16"
  }
 },
 "nbformat": 4,
 "nbformat_minor": 5
}
