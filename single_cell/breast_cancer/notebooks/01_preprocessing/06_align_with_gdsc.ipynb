{
 "cells": [
  {
   "cell_type": "code",
   "execution_count": 1,
   "id": "412f7361",
   "metadata": {},
   "outputs": [
    {
     "name": "stdout",
     "output_type": "stream",
     "text": [
      "✅ Loaded mapping_df and adata\n",
      "Mapping sample:\n",
      "  SANGER_MODEL_ID CELL_LINE_NAME\n",
      "0       SIDM00853            GCT\n",
      "1       SIDM00567         ONS-76\n",
      "2       SIDM00042            PL4\n",
      "3       SIDM00455     PA-TU-8902\n",
      "4       SIDM00881        HCC1428\n",
      "AnnData shape: (34945, 47096)\n"
     ]
    }
   ],
   "source": [
    "import pandas as pd\n",
    "import scanpy as sc\n",
    "\n",
    "# Load AnnData object\n",
    "adata = sc.read(\"../../data/breast_cancer_dimred.h5ad\")\n",
    "\n",
    "# Load and clean the mapping DataFrame\n",
    "mapping_df = pd.read_csv(\"../../data/cell_sanger_map.csv\").drop_duplicates()\n",
    "mapping_df.columns = ['SANGER_MODEL_ID', 'CELL_LINE_NAME']\n",
    "\n",
    "print(\"✅ Loaded mapping_df and adata\")\n",
    "print(\"Mapping sample:\")\n",
    "print(mapping_df.head())\n",
    "print(\"AnnData shape:\", adata.shape)\n"
   ]
  },
  {
   "cell_type": "code",
   "execution_count": 2,
   "id": "1f93ef29",
   "metadata": {},
   "outputs": [
    {
     "name": "stdout",
     "output_type": "stream",
     "text": [
      "✅ Extracted and normalized cell line names from adata.obs.index\n",
      "Unique normalized cell lines (first 10): ['AU565' 'HCC1937' 'HCC38' 'MDAMB468' 'EFM19' 'HCC1187' 'JIMT1' 'MDAMB361'\n",
      " 'HCC1500' 'HCC70']\n"
     ]
    }
   ],
   "source": [
    "# Extract the cell line name prefix from the index (before the underscore)\n",
    "adata.obs['cell_line'] = adata.obs.index.str.split('_').str[0]\n",
    "\n",
    "# Normalize cell line names (remove dashes, uppercase)\n",
    "adata.obs['cell_line_norm'] = adata.obs['cell_line'].str.replace('-', '', regex=False).str.upper()\n",
    "\n",
    "print(\"✅ Extracted and normalized cell line names from adata.obs.index\")\n",
    "print(\"Unique normalized cell lines (first 10):\", adata.obs['cell_line_norm'].unique()[:10])\n"
   ]
  },
  {
   "cell_type": "code",
   "execution_count": 3,
   "id": "5fb0df72",
   "metadata": {},
   "outputs": [
    {
     "name": "stdout",
     "output_type": "stream",
     "text": [
      "✅ Normalized cell line names in mapping_df\n",
      "  CELL_LINE_NAME CELL_LINE_NAME_NORM\n",
      "0            GCT                 GCT\n",
      "1         ONS-76               ONS76\n",
      "2            PL4                 PL4\n",
      "3     PA-TU-8902            PATU8902\n",
      "4        HCC1428             HCC1428\n"
     ]
    }
   ],
   "source": [
    "# Normalize mapping_df cell line names similarly\n",
    "mapping_df['CELL_LINE_NAME_NORM'] = mapping_df['CELL_LINE_NAME'].str.replace('-', '', regex=False).str.upper()\n",
    "\n",
    "# Print for validation\n",
    "print(\"✅ Normalized cell line names in mapping_df\")\n",
    "print(mapping_df[['CELL_LINE_NAME', 'CELL_LINE_NAME_NORM']].drop_duplicates().head())\n"
   ]
  },
  {
   "cell_type": "code",
   "execution_count": 4,
   "id": "a858b274",
   "metadata": {},
   "outputs": [
    {
     "name": "stdout",
     "output_type": "stream",
     "text": [
      "✅ Mapped cell lines to SIDM codes\n",
      "                      cell_line cell_line_norm       SIDM\n",
      "AU565_AAACCAGTTTGG        AU565          AU565  SIDM00898\n",
      "HCC1937_AAAACAACTGTT    HCC1937        HCC1937  SIDM00874\n",
      "HCC38_AAAAGGCTGCGC        HCC38          HCC38  SIDM00675\n",
      "MDAMB468_AAAAACATCCGA  MDAMB468       MDAMB468  SIDM00628\n",
      "EFM19_AAAATAATTCGG        EFM19          EFM19  SIDM01056\n",
      "HCC1187_AAAATGCGAAAC    HCC1187        HCC1187  SIDM00885\n",
      "JIMT1_AAAAATGGCCAG        JIMT1          JIMT1  SIDM01037\n",
      "MDAMB361_AAAATGTCCCAG  MDAMB361       MDAMB361  SIDM00528\n",
      "HCC1500_AAAATCAGGACC    HCC1500        HCC1500  SIDM00879\n",
      "HCC70_AAAAGACTATAG        HCC70          HCC70  SIDM00673\n"
     ]
    }
   ],
   "source": [
    "# Create a mapping from normalized name to SIDM\n",
    "name_to_sidm = dict(zip(mapping_df['CELL_LINE_NAME_NORM'], mapping_df['SANGER_MODEL_ID']))\n",
    "\n",
    "# Apply the mapping\n",
    "adata.obs['SIDM'] = adata.obs['cell_line_norm'].map(name_to_sidm)\n",
    "\n",
    "# Preview mapped values\n",
    "print(\"✅ Mapped cell lines to SIDM codes\")\n",
    "print(adata.obs[['cell_line', 'cell_line_norm', 'SIDM']].drop_duplicates().head(10))\n"
   ]
  },
  {
   "cell_type": "code",
   "execution_count": 5,
   "id": "5045a55a",
   "metadata": {},
   "outputs": [
    {
     "name": "stdout",
     "output_type": "stream",
     "text": [
      "❗ Unmapped cell lines: ['MCF12A' 'KPL1' 'ZR751' 'MX1']\n",
      "Total unmapped: 4\n"
     ]
    }
   ],
   "source": [
    "unmapped = adata.obs[adata.obs['SIDM'].isna()]['cell_line'].unique()\n",
    "print(\"❗ Unmapped cell lines:\", unmapped)\n",
    "print(\"Total unmapped:\", len(unmapped))\n"
   ]
  },
  {
   "cell_type": "code",
   "execution_count": 6,
   "id": "17c62e5e",
   "metadata": {},
   "outputs": [
    {
     "name": "stdout",
     "output_type": "stream",
     "text": [
      "✅ Filtered adata to only include mapped cell lines\n"
     ]
    }
   ],
   "source": [
    "# Keep only cells that have a mapped SIDM code\n",
    "adata = adata[~adata.obs['SIDM'].isna()].copy()\n",
    "print(\"✅ Filtered adata to only include mapped cell lines\")"
   ]
  },
  {
   "cell_type": "code",
   "execution_count": 7,
   "id": "c8faef80",
   "metadata": {},
   "outputs": [
    {
     "name": "stdout",
     "output_type": "stream",
     "text": [
      "✅ Overwritten the original AnnData file with SIDM-enhanced metadata.\n"
     ]
    }
   ],
   "source": [
    "# Overwrite the original file with updated AnnData object\n",
    "adata.write(\"../../data/breast_cancer_dimred.h5ad\")\n",
    "\n",
    "print(\"✅ Overwritten the original AnnData file with SIDM-enhanced metadata.\")\n"
   ]
  }
 ],
 "metadata": {
  "kernelspec": {
   "display_name": "tese-env",
   "language": "python",
   "name": "python3"
  },
  "language_info": {
   "codemirror_mode": {
    "name": "ipython",
    "version": 3
   },
   "file_extension": ".py",
   "mimetype": "text/x-python",
   "name": "python",
   "nbconvert_exporter": "python",
   "pygments_lexer": "ipython3",
   "version": "3.10.16"
  }
 },
 "nbformat": 4,
 "nbformat_minor": 5
}
