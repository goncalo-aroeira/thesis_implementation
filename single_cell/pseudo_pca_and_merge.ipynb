{
 "cells": [
  {
   "cell_type": "markdown",
   "id": "1048c003",
   "metadata": {},
   "source": [
    "# 🧬 PCA + Merge: Pseudo-Bulk Datasets\n",
    "\n",
    "This notebook loads the pancancer and breast cancer pseudo-bulk expression matrices, applies PCA, and merges them into the main GDSC dataset for downstream modeling.\n"
   ]
  },
  {
   "cell_type": "code",
   "execution_count": null,
   "id": "ba83406e",
   "metadata": {
    "vscode": {
     "languageId": "plaintext"
    }
   },
   "outputs": [],
   "source": [
    "import pandas as pd\n",
    "import numpy as np\n",
    "from sklearn.decomposition import PCA\n",
    "import matplotlib.pyplot as plt\n",
    "import seaborn as sns\n",
    "import polars as pl\n"
   ]
  },
  {
   "cell_type": "markdown",
   "id": "d70bd619",
   "metadata": {},
   "source": [
    "## 📥 Load Pancancer and Breast Cancer Pseudo-Bulk Expression Data\n"
   ]
  },
  {
   "cell_type": "code",
   "execution_count": null,
   "id": "d7139ed9",
   "metadata": {
    "vscode": {
     "languageId": "plaintext"
    }
   },
   "outputs": [],
   "source": [
    "# Load both datasets\n",
    "pan_df = pd.read_csv(\"pancancer_pseudo_bulk_expression.csv\", index_col=0)\n",
    "breast_df = pd.read_csv(\"breast_cancer_pseudo_bulk_expression.csv\", index_col=0)\n",
    "\n",
    "# Tag origin (optional)\n",
    "pan_df[\"pseudo_source\"] = \"pancancer\"\n",
    "breast_df[\"pseudo_source\"] = \"breast\"\n",
    "\n",
    "print(\"✅ Loaded pancancer:\", pan_df.shape)\n",
    "print(\"✅ Loaded breast:\", breast_df.shape)\n"
   ]
  },
  {
   "cell_type": "markdown",
   "id": "7f05b370",
   "metadata": {},
   "source": [
    "## 🧹 Combine and Apply PCA\n",
    "We combine both datasets and apply PCA to expression values only (exclude labels/identifiers).\n"
   ]
  },
  {
   "cell_type": "code",
   "execution_count": null,
   "id": "1611247e",
   "metadata": {
    "vscode": {
     "languageId": "plaintext"
    }
   },
   "outputs": [],
   "source": [
    "NUM_PCS = 30\n",
    "\n",
    "# Combine (drop metadata column for PCA)\n",
    "combined = pd.concat([pan_df, breast_df])\n",
    "expr_data = combined.drop(columns=[\"pseudo_source\"])\n",
    "\n",
    "# Fit PCA\n",
    "pca = PCA(n_components=NUM_PCS, random_state=42)\n",
    "pcs = pca.fit_transform(expr_data)\n",
    "\n",
    "# Rebuild DataFrame\n",
    "pcs_df = pd.DataFrame(pcs, columns=[f\"PSEUDO_PC{i+1}\" for i in range(NUM_PCS)])\n",
    "pcs_df[\"SANGER_MODEL_ID\"] = combined.index\n",
    "pcs_df[\"pseudo_source\"] = combined[\"pseudo_source\"].values\n",
    "\n",
    "print(\"✅ PCA complete. Shape:\", pcs_df.shape)\n"
   ]
  },
  {
   "cell_type": "markdown",
   "id": "bc29e078",
   "metadata": {},
   "source": [
    "## 📊 Explained Variance from PCA\n"
   ]
  },
  {
   "cell_type": "code",
   "execution_count": null,
   "id": "46ce2efc",
   "metadata": {
    "vscode": {
     "languageId": "plaintext"
    }
   },
   "outputs": [],
   "source": [
    "plt.figure(figsize=(8, 4))\n",
    "sns.barplot(x=np.arange(1, NUM_PCS + 1), y=pca.explained_variance_ratio_ * 100, color=\"steelblue\")\n",
    "plt.title(\"Explained Variance by Pseudo-Bulk PCA Components\")\n",
    "plt.xlabel(\"Principal Component\")\n",
    "plt.ylabel(\"Variance Explained (%)\")\n",
    "plt.grid(True)\n",
    "plt.tight_layout()\n",
    "plt.show()\n"
   ]
  },
  {
   "cell_type": "markdown",
   "id": "787440c1",
   "metadata": {},
   "source": [
    "## 🔗 Merge PCA with Drug Response Labels (GDSC)\n"
   ]
  },
  {
   "cell_type": "code",
   "execution_count": null,
   "id": "6ccafdfb",
   "metadata": {
    "vscode": {
     "languageId": "plaintext"
    }
   },
   "outputs": [],
   "source": [
    "gdsc_path = \"../../../data/bulk/bulk_with_pca.parquet\"\n",
    "gdsc_df = pl.read_parquet(gdsc_path).to_pandas()\n",
    "\n",
    "merged_df = gdsc_df.merge(pcs_df, on=\"SANGER_MODEL_ID\", how=\"inner\")\n",
    "\n",
    "print(\"✅ Merged dataset shape:\", merged_df.shape)\n",
    "merged_df.head()\n"
   ]
  },
  {
   "cell_type": "markdown",
   "id": "c6587678",
   "metadata": {},
   "source": [
    "## 💾 Save Merged Dataset\n"
   ]
  },
  {
   "cell_type": "code",
   "execution_count": null,
   "id": "bc6eeb1b",
   "metadata": {
    "vscode": {
     "languageId": "plaintext"
    }
   },
   "outputs": [],
   "source": [
    "output_path = \"../../../data/bulk/bulk_with_pseudobulk_pca.parquet\"\n",
    "pl.DataFrame(merged_df).write_parquet(output_path)\n",
    "print(f\"📁 Saved to {output_path}\")\n"
   ]
  }
 ],
 "metadata": {
  "language_info": {
   "name": "python"
  }
 },
 "nbformat": 4,
 "nbformat_minor": 5
}
