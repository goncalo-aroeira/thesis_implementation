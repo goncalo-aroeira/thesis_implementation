{
 "cells": [
  {
   "cell_type": "code",
   "execution_count": 1,
   "id": "68e1684b",
   "metadata": {},
   "outputs": [
    {
     "name": "stdout",
     "output_type": "stream",
     "text": [
      "Breast columns: Index(['SIDM'], dtype='object')\n",
      "Pancancer columns: Index(['cell_line'], dtype='object')\n",
      "Corrected Tahoe normalized file with CELL_LINE_NAME column.\n",
      "  CELL_LINE_NAME   DepMap_ID Cellosaurus_ID   Organ\n",
      "0           A549  ACH-000681      CVCL_0023    Lung\n",
      "1       COLO 205  ACH-001039      CVCL_0218   Bowel\n",
      "2          HT-29  ACH-000552      CVCL_0320   Bowel\n",
      "3          SW480  ACH-000842      CVCL_0546   Bowel\n",
      "4        HS-578T  ACH-000148      CVCL_0332  Breast\n"
     ]
    }
   ],
   "source": [
    "import pandas as pd\n",
    "\n",
    "# --- Load reference map ---\n",
    "map_path = \"cell_sanger_map.csv\"\n",
    "df_map = pd.read_csv(map_path)\n",
    "sidm_to_name = dict(zip(df_map[\"SANGER_MODEL_ID\"], df_map[\"CELL_LINE_NAME\"]))\n",
    "\n",
    "# --- Load breast (column = 'SIDM') ---\n",
    "breast = pd.read_csv(\"breast_cancer_cell_lines.csv\")\n",
    "print(\"Breast columns:\", breast.columns)\n",
    "\n",
    "breast_norm = breast.copy()\n",
    "breast_norm[\"CELL_LINE_NAME\"] = breast_norm[\"SIDM\"].map(sidm_to_name).fillna(breast_norm[\"SIDM\"])\n",
    "\n",
    "# --- Load pancancer (column = 'cell_line') ---\n",
    "pancancer = pd.read_csv(\"pancancer_cell_lines.csv\")\n",
    "print(\"Pancancer columns:\", pancancer.columns)\n",
    "\n",
    "pancancer_norm = pancancer.copy()\n",
    "pancancer_norm[\"CELL_LINE_NAME\"] = pancancer_norm[\"cell_line\"].map(sidm_to_name).fillna(pancancer_norm[\"cell_line\"])\n",
    "\n",
    "# Load Tahoe reference\n",
    "tahoe = pd.read_csv(\"tahoe_cell_lines_50.csv\")\n",
    "\n",
    "# Use the proper column 'Cell_Name' (capitalized)\n",
    "tahoe_norm = tahoe.rename(columns={\"Cell_Name\": \"CELL_LINE_NAME\"})\n",
    "\n",
    "# Save corrected normalized file\n",
    "tahoe_norm.to_csv(\"tahoe_cell_lines_normalized.csv\", index=False)\n",
    "\n",
    "print(\"Corrected Tahoe normalized file with CELL_LINE_NAME column.\")\n",
    "print(tahoe_norm.head())\n"
   ]
  },
  {
   "cell_type": "code",
   "execution_count": 2,
   "id": "95cd2e41",
   "metadata": {},
   "outputs": [
    {
     "name": "stdout",
     "output_type": "stream",
     "text": [
      "Breast lines: 28\n",
      "Pan-cancer lines: 140\n",
      "Tahoe lines: 50\n",
      "\n",
      "Pairwise overlaps:\n",
      "Breast ∩ Pan-cancer: {'MDA-MB-436', 'BT-474', 'MDA-MB-361', 'HCC38', 'T47D', 'HDQ-P1', 'CAMA-1', 'MCF7', 'BT-549'}\n",
      "Breast ∩ Tahoe: {'BT-474'}\n",
      "Pan-cancer ∩ Tahoe: {'AsPC-1', 'C32', 'BT-474', 'NCI-H460', 'NCI-H2347', 'NCI-H1792', 'SNU-423', 'SK-MEL-2'}\n",
      "\n",
      "Triple overlap (all 3): {'BT-474'}\n"
     ]
    }
   ],
   "source": [
    "# Load all normalized\n",
    "breast_norm = pd.read_csv(\"breast_cell_lines_normalized.csv\")\n",
    "pancancer_norm = pd.read_csv(\"pancancer_cell_lines_normalized.csv\")\n",
    "tahoe_norm = pd.read_csv(\"tahoe_cell_lines_normalized.csv\")\n",
    "\n",
    "# Convert to sets\n",
    "breast_set = set(breast_norm[\"CELL_LINE_NAME\"].dropna().unique())\n",
    "pancancer_set = set(pancancer_norm[\"CELL_LINE_NAME\"].dropna().unique())\n",
    "tahoe_set = set(tahoe_norm[\"CELL_LINE_NAME\"].dropna().unique())\n",
    "\n",
    "print(\"Breast lines:\", len(breast_set))\n",
    "print(\"Pan-cancer lines:\", len(pancancer_set))\n",
    "print(\"Tahoe lines:\", len(tahoe_set))\n",
    "\n",
    "print(\"\\nPairwise overlaps:\")\n",
    "print(\"Breast ∩ Pan-cancer:\", breast_set & pancancer_set)\n",
    "print(\"Breast ∩ Tahoe:\", breast_set & tahoe_set)\n",
    "print(\"Pan-cancer ∩ Tahoe:\", pancancer_set & tahoe_set)\n",
    "\n",
    "print(\"\\nTriple overlap (all 3):\", breast_set & pancancer_set & tahoe_set)\n"
   ]
  },
  {
   "cell_type": "code",
   "execution_count": 3,
   "id": "d54b68be",
   "metadata": {},
   "outputs": [
    {
     "name": "stdout",
     "output_type": "stream",
     "text": [
      "Overlap table shape: (201, 4)\n"
     ]
    },
    {
     "data": {
      "application/vnd.microsoft.datawrangler.viewer.v0+json": {
       "columns": [
        {
         "name": "index",
         "rawType": "int64",
         "type": "integer"
        },
        {
         "name": "CELL_LINE_NAME",
         "rawType": "object",
         "type": "string"
        },
        {
         "name": "Present_in_Breast",
         "rawType": "int64",
         "type": "integer"
        },
        {
         "name": "Present_in_PanCancer",
         "rawType": "int64",
         "type": "integer"
        },
        {
         "name": "Present_in_Tahoe",
         "rawType": "int64",
         "type": "integer"
        }
       ],
       "ref": "0ae726a4-8860-4dbf-bfc2-92cb3c049a79",
       "rows": [
        [
         "0",
         "23132-87",
         "0",
         "1",
         "0"
        ],
        [
         "1",
         "42-MG-BA",
         "0",
         "1",
         "0"
        ],
        [
         "2",
         "8305C",
         "0",
         "1",
         "0"
        ],
        [
         "3",
         "A-172",
         "0",
         "0",
         "1"
        ],
        [
         "4",
         "A-427",
         "0",
         "0",
         "1"
        ],
        [
         "5",
         "A204",
         "0",
         "1",
         "0"
        ],
        [
         "6",
         "A2058",
         "0",
         "1",
         "0"
        ],
        [
         "7",
         "A375",
         "0",
         "1",
         "0"
        ],
        [
         "8",
         "A498",
         "0",
         "0",
         "1"
        ],
        [
         "9",
         "A549",
         "0",
         "0",
         "1"
        ],
        [
         "10",
         "ABC-1",
         "0",
         "1",
         "0"
        ],
        [
         "11",
         "AN3 CA",
         "0",
         "0",
         "1"
        ]
       ],
       "shape": {
        "columns": 4,
        "rows": 12
       }
      },
      "text/html": [
       "<div>\n",
       "<style scoped>\n",
       "    .dataframe tbody tr th:only-of-type {\n",
       "        vertical-align: middle;\n",
       "    }\n",
       "\n",
       "    .dataframe tbody tr th {\n",
       "        vertical-align: top;\n",
       "    }\n",
       "\n",
       "    .dataframe thead th {\n",
       "        text-align: right;\n",
       "    }\n",
       "</style>\n",
       "<table border=\"1\" class=\"dataframe\">\n",
       "  <thead>\n",
       "    <tr style=\"text-align: right;\">\n",
       "      <th></th>\n",
       "      <th>CELL_LINE_NAME</th>\n",
       "      <th>Present_in_Breast</th>\n",
       "      <th>Present_in_PanCancer</th>\n",
       "      <th>Present_in_Tahoe</th>\n",
       "    </tr>\n",
       "  </thead>\n",
       "  <tbody>\n",
       "    <tr>\n",
       "      <th>0</th>\n",
       "      <td>23132-87</td>\n",
       "      <td>0</td>\n",
       "      <td>1</td>\n",
       "      <td>0</td>\n",
       "    </tr>\n",
       "    <tr>\n",
       "      <th>1</th>\n",
       "      <td>42-MG-BA</td>\n",
       "      <td>0</td>\n",
       "      <td>1</td>\n",
       "      <td>0</td>\n",
       "    </tr>\n",
       "    <tr>\n",
       "      <th>2</th>\n",
       "      <td>8305C</td>\n",
       "      <td>0</td>\n",
       "      <td>1</td>\n",
       "      <td>0</td>\n",
       "    </tr>\n",
       "    <tr>\n",
       "      <th>3</th>\n",
       "      <td>A-172</td>\n",
       "      <td>0</td>\n",
       "      <td>0</td>\n",
       "      <td>1</td>\n",
       "    </tr>\n",
       "    <tr>\n",
       "      <th>4</th>\n",
       "      <td>A-427</td>\n",
       "      <td>0</td>\n",
       "      <td>0</td>\n",
       "      <td>1</td>\n",
       "    </tr>\n",
       "    <tr>\n",
       "      <th>5</th>\n",
       "      <td>A204</td>\n",
       "      <td>0</td>\n",
       "      <td>1</td>\n",
       "      <td>0</td>\n",
       "    </tr>\n",
       "    <tr>\n",
       "      <th>6</th>\n",
       "      <td>A2058</td>\n",
       "      <td>0</td>\n",
       "      <td>1</td>\n",
       "      <td>0</td>\n",
       "    </tr>\n",
       "    <tr>\n",
       "      <th>7</th>\n",
       "      <td>A375</td>\n",
       "      <td>0</td>\n",
       "      <td>1</td>\n",
       "      <td>0</td>\n",
       "    </tr>\n",
       "    <tr>\n",
       "      <th>8</th>\n",
       "      <td>A498</td>\n",
       "      <td>0</td>\n",
       "      <td>0</td>\n",
       "      <td>1</td>\n",
       "    </tr>\n",
       "    <tr>\n",
       "      <th>9</th>\n",
       "      <td>A549</td>\n",
       "      <td>0</td>\n",
       "      <td>0</td>\n",
       "      <td>1</td>\n",
       "    </tr>\n",
       "    <tr>\n",
       "      <th>10</th>\n",
       "      <td>ABC-1</td>\n",
       "      <td>0</td>\n",
       "      <td>1</td>\n",
       "      <td>0</td>\n",
       "    </tr>\n",
       "    <tr>\n",
       "      <th>11</th>\n",
       "      <td>AN3 CA</td>\n",
       "      <td>0</td>\n",
       "      <td>0</td>\n",
       "      <td>1</td>\n",
       "    </tr>\n",
       "  </tbody>\n",
       "</table>\n",
       "</div>"
      ],
      "text/plain": [
       "   CELL_LINE_NAME  Present_in_Breast  Present_in_PanCancer  Present_in_Tahoe\n",
       "0        23132-87                  0                     1                 0\n",
       "1        42-MG-BA                  0                     1                 0\n",
       "2           8305C                  0                     1                 0\n",
       "3           A-172                  0                     0                 1\n",
       "4           A-427                  0                     0                 1\n",
       "5            A204                  0                     1                 0\n",
       "6           A2058                  0                     1                 0\n",
       "7            A375                  0                     1                 0\n",
       "8            A498                  0                     0                 1\n",
       "9            A549                  0                     0                 1\n",
       "10          ABC-1                  0                     1                 0\n",
       "11         AN3 CA                  0                     0                 1"
      ]
     },
     "metadata": {},
     "output_type": "display_data"
    },
    {
     "name": "stdout",
     "output_type": "stream",
     "text": [
      "Saved: cell_line_overlap_table.csv\n"
     ]
    }
   ],
   "source": [
    "import pandas as pd\n",
    "\n",
    "# Load normalized reference files\n",
    "breast = pd.read_csv(\"breast_cell_lines_normalized.csv\")\n",
    "pancancer = pd.read_csv(\"pancancer_cell_lines_normalized.csv\")\n",
    "tahoe = pd.read_csv(\"tahoe_cell_lines_normalized.csv\")\n",
    "\n",
    "# Turn into sets\n",
    "breast_set = set(breast[\"CELL_LINE_NAME\"].dropna().unique())\n",
    "pancancer_set = set(pancancer[\"CELL_LINE_NAME\"].dropna().unique())\n",
    "tahoe_set = set(tahoe[\"CELL_LINE_NAME\"].dropna().unique())\n",
    "\n",
    "# Union of all lines\n",
    "all_lines = sorted(breast_set | pancancer_set | tahoe_set)\n",
    "\n",
    "# Presence table\n",
    "rows = []\n",
    "for line in all_lines:\n",
    "    rows.append({\n",
    "        \"CELL_LINE_NAME\": line,\n",
    "        \"Present_in_Breast\": int(line in breast_set),\n",
    "        \"Present_in_PanCancer\": int(line in pancancer_set),\n",
    "        \"Present_in_Tahoe\": int(line in tahoe_set),\n",
    "    })\n",
    "overlap_df = pd.DataFrame(rows)\n",
    "\n",
    "print(\"Overlap table shape:\", overlap_df.shape)\n",
    "display(overlap_df.head(12))\n",
    "\n",
    "# Save\n",
    "overlap_df.to_csv(\"cell_line_overlap_table.csv\", index=False)\n",
    "print(\"Saved: cell_line_overlap_table.csv\")\n"
   ]
  },
  {
   "cell_type": "code",
   "execution_count": 4,
   "id": "f4461d31",
   "metadata": {},
   "outputs": [
    {
     "data": {
      "image/png": "[encoded data removed]",
      "text/plain": [
       "<Figure size 500x500 with 1 Axes>"
      ]
     },
     "metadata": {},
     "output_type": "display_data"
    }
   ],
   "source": [
    "from matplotlib_venn import venn3\n",
    "import matplotlib.pyplot as plt\n",
    "\n",
    "plt.figure(figsize=(5,5))\n",
    "venn3(\n",
    "    subsets=(len(breast_set - pancancer_set - tahoe_set),\n",
    "             len(pancancer_set - breast_set - tahoe_set),\n",
    "             len(breast_set & pancancer_set - tahoe_set),\n",
    "             len(tahoe_set - breast_set - pancancer_set),\n",
    "             len(breast_set & tahoe_set - pancancer_set),\n",
    "             len(pancancer_set & tahoe_set - breast_set),\n",
    "             len(breast_set & pancancer_set & tahoe_set)),\n",
    "    set_labels=(\"Breast\", \"Pan-cancer\", \"Tahoe\")\n",
    ")\n",
    "plt.title(\"Cell line overlap across datasets\")\n",
    "plt.show()\n"
   ]
  },
  {
   "cell_type": "code",
   "execution_count": 5,
   "id": "66278589",
   "metadata": {},
   "outputs": [
    {
     "data": {
      "application/vnd.microsoft.datawrangler.viewer.v0+json": {
       "columns": [
        {
         "name": "Organ",
         "rawType": "object",
         "type": "string"
        },
        {
         "name": "Present_in_Breast",
         "rawType": "int64",
         "type": "integer"
        },
        {
         "name": "Present_in_PanCancer",
         "rawType": "int64",
         "type": "integer"
        },
        {
         "name": "Present_in_Tahoe",
         "rawType": "int64",
         "type": "integer"
        }
       ],
       "ref": "e3c2d888-730c-4ff8-a9d7-82f01c4b97e6",
       "rows": [
        [
         "Lung",
         "0",
         "3",
         "15"
        ],
        [
         "Bowel",
         "0",
         "0",
         "9"
        ],
        [
         "Pancreas",
         "0",
         "1",
         "7"
        ],
        [
         "Skin",
         "0",
         "2",
         "4"
        ],
        [
         "CNS/Brain",
         "0",
         "0",
         "3"
        ],
        [
         "Uterus",
         "0",
         "0",
         "2"
        ],
        [
         "Liver",
         "0",
         "1",
         "2"
        ],
        [
         "Breast",
         "1",
         "1",
         "2"
        ],
        [
         "Esophagus/Stomach",
         "0",
         "0",
         "2"
        ],
        [
         "Cervix",
         "0",
         "0",
         "1"
        ]
       ],
       "shape": {
        "columns": 3,
        "rows": 10
       }
      },
      "text/html": [
       "<div>\n",
       "<style scoped>\n",
       "    .dataframe tbody tr th:only-of-type {\n",
       "        vertical-align: middle;\n",
       "    }\n",
       "\n",
       "    .dataframe tbody tr th {\n",
       "        vertical-align: top;\n",
       "    }\n",
       "\n",
       "    .dataframe thead th {\n",
       "        text-align: right;\n",
       "    }\n",
       "</style>\n",
       "<table border=\"1\" class=\"dataframe\">\n",
       "  <thead>\n",
       "    <tr style=\"text-align: right;\">\n",
       "      <th></th>\n",
       "      <th>Present_in_Breast</th>\n",
       "      <th>Present_in_PanCancer</th>\n",
       "      <th>Present_in_Tahoe</th>\n",
       "    </tr>\n",
       "    <tr>\n",
       "      <th>Organ</th>\n",
       "      <th></th>\n",
       "      <th></th>\n",
       "      <th></th>\n",
       "    </tr>\n",
       "  </thead>\n",
       "  <tbody>\n",
       "    <tr>\n",
       "      <th>Lung</th>\n",
       "      <td>0</td>\n",
       "      <td>3</td>\n",
       "      <td>15</td>\n",
       "    </tr>\n",
       "    <tr>\n",
       "      <th>Bowel</th>\n",
       "      <td>0</td>\n",
       "      <td>0</td>\n",
       "      <td>9</td>\n",
       "    </tr>\n",
       "    <tr>\n",
       "      <th>Pancreas</th>\n",
       "      <td>0</td>\n",
       "      <td>1</td>\n",
       "      <td>7</td>\n",
       "    </tr>\n",
       "    <tr>\n",
       "      <th>Skin</th>\n",
       "      <td>0</td>\n",
       "      <td>2</td>\n",
       "      <td>4</td>\n",
       "    </tr>\n",
       "    <tr>\n",
       "      <th>CNS/Brain</th>\n",
       "      <td>0</td>\n",
       "      <td>0</td>\n",
       "      <td>3</td>\n",
       "    </tr>\n",
       "    <tr>\n",
       "      <th>Uterus</th>\n",
       "      <td>0</td>\n",
       "      <td>0</td>\n",
       "      <td>2</td>\n",
       "    </tr>\n",
       "    <tr>\n",
       "      <th>Liver</th>\n",
       "      <td>0</td>\n",
       "      <td>1</td>\n",
       "      <td>2</td>\n",
       "    </tr>\n",
       "    <tr>\n",
       "      <th>Breast</th>\n",
       "      <td>1</td>\n",
       "      <td>1</td>\n",
       "      <td>2</td>\n",
       "    </tr>\n",
       "    <tr>\n",
       "      <th>Esophagus/Stomach</th>\n",
       "      <td>0</td>\n",
       "      <td>0</td>\n",
       "      <td>2</td>\n",
       "    </tr>\n",
       "    <tr>\n",
       "      <th>Cervix</th>\n",
       "      <td>0</td>\n",
       "      <td>0</td>\n",
       "      <td>1</td>\n",
       "    </tr>\n",
       "  </tbody>\n",
       "</table>\n",
       "</div>"
      ],
      "text/plain": [
       "                   Present_in_Breast  Present_in_PanCancer  Present_in_Tahoe\n",
       "Organ                                                                       \n",
       "Lung                               0                     3                15\n",
       "Bowel                              0                     0                 9\n",
       "Pancreas                           0                     1                 7\n",
       "Skin                               0                     2                 4\n",
       "CNS/Brain                          0                     0                 3\n",
       "Uterus                             0                     0                 2\n",
       "Liver                              0                     1                 2\n",
       "Breast                             1                     1                 2\n",
       "Esophagus/Stomach                  0                     0                 2\n",
       "Cervix                             0                     0                 1"
      ]
     },
     "metadata": {},
     "output_type": "display_data"
    }
   ],
   "source": [
    "# Example: merge Tahoe organ annotations\n",
    "if \"Organ\" in tahoe.columns:\n",
    "    overlap_df = overlap_df.merge(\n",
    "        tahoe[[\"CELL_LINE_NAME\",\"Organ\"]].drop_duplicates(),\n",
    "        on=\"CELL_LINE_NAME\", how=\"left\"\n",
    "    )\n",
    "\n",
    "tissue_counts = (overlap_df.groupby(\"Organ\")[[\"Present_in_Breast\",\"Present_in_PanCancer\",\"Present_in_Tahoe\"]]\n",
    "                 .sum().sort_values(\"Present_in_Tahoe\", ascending=False))\n",
    "display(tissue_counts.head(10))\n"
   ]
  }
 ],
 "metadata": {
  "kernelspec": {
   "display_name": "tese-env",
   "language": "python",
   "name": "python3"
  },
  "language_info": {
   "codemirror_mode": {
    "name": "ipython",
    "version": 3
   },
   "file_extension": ".py",
   "mimetype": "text/x-python",
   "name": "python",
   "nbconvert_exporter": "python",
   "pygments_lexer": "ipython3",
   "version": "3.10.16"
  }
 },
 "nbformat": 4,
 "nbformat_minor": 5
}
