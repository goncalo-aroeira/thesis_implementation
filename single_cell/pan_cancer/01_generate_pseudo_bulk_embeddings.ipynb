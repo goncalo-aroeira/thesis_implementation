{
 "cells": [
  {
   "cell_type": "markdown",
   "id": "868a9668",
   "metadata": {},
   "source": [
    "# 🧬 Generate Pseudo-Bulk Embeddings from Single-Cell Embeddings\n",
    "\n",
    "This notebook aggregates per-cell embeddings into per-cell-line (pseudo-bulk) embeddings by averaging all embeddings for each `SANGER_MODEL_ID`.\n"
   ]
  },
  {
   "cell_type": "code",
   "execution_count": 1,
   "id": "bb858ddc",
   "metadata": {},
   "outputs": [],
   "source": [
    "import numpy as np\n",
    "import pandas as pd\n"
   ]
  },
  {
   "cell_type": "code",
   "execution_count": 2,
   "id": "686311a7",
   "metadata": {},
   "outputs": [
    {
     "name": "stdout",
     "output_type": "stream",
     "text": [
      "✅ Metadata shape: (39715, 19265)\n",
      "✅ Embeddings shape: (39715, 3072)\n"
     ]
    }
   ],
   "source": [
    "# Paths\n",
    "embedding_path = \"embeddings/pancancer_embeddings_scfoundation.npy\"\n",
    "metadata_path = \"data/pancancer_filtered_for_scfoundation.csv\"\n",
    "\n",
    "# Load metadata\n",
    "metadata = pd.read_csv(metadata_path, header=0)\n",
    "embeddings = np.load(embedding_path)\n",
    "\n",
    "# Sanity check\n",
    "assert len(metadata) == embeddings.shape[0], \"Mismatch between metadata and embeddings!\"\n",
    "\n",
    "print(f\"✅ Metadata shape: {metadata.shape}\")\n",
    "print(f\"✅ Embeddings shape: {embeddings.shape}\")\n"
   ]
  },
  {
   "cell_type": "code",
   "execution_count": 17,
   "id": "d710154d",
   "metadata": {},
   "outputs": [
    {
     "name": "stdout",
     "output_type": "stream",
     "text": [
      "📌 Sample extracted cell lines: ['C32' 'NCIH446' 'MFE319' 'SKNAS' 'NCIH2452']\n",
      "📌 Sample normalized cell lines: ['C32' 'NCIH446' 'MFE319' 'SKNAS' 'NCIH2452']\n"
     ]
    }
   ],
   "source": [
    "# Extract base cell line name\n",
    "cell_ids = metadata.iloc[:, 0].astype(str)\n",
    "cell_lines = cell_ids.str.extract(r\"^([^_\\.\\-]+)\")[0]\n",
    "\n",
    "# Normalize: remove dashes and uppercase\n",
    "cell_lines_norm = cell_lines.str.replace('-', '', regex=False).str.upper()\n",
    "\n",
    "print(\"📌 Sample extracted cell lines:\", cell_lines.unique()[:5])\n",
    "print(\"📌 Sample normalized cell lines:\", cell_lines_norm.unique()[:5])\n"
   ]
  },
  {
   "cell_type": "code",
   "execution_count": 18,
   "id": "3688710d",
   "metadata": {},
   "outputs": [
    {
     "name": "stdout",
     "output_type": "stream",
     "text": [
      "✅ Added CELL_LINE_NAME_NORM to embedding_df\n",
      "📌 Sample rows:\n",
      "           0         1         2         3         4         5         6  \\\n",
      "0 -3.488941  1.394992  0.397312  0.215693 -0.962930 -0.749498 -0.785672   \n",
      "1 -1.825061  0.575112 -0.896027 -0.297870 -0.880810  0.054988  0.284411   \n",
      "2 -2.441955  0.972837 -0.828298 -0.115014  0.506222 -0.652835 -0.173292   \n",
      "3 -2.680915  0.816473 -0.711007 -0.689018  0.233623 -0.389738  0.635181   \n",
      "4 -2.624959  1.031120 -0.383724  0.208368 -0.058529 -0.733210 -0.343108   \n",
      "\n",
      "          7         8         9  ...      3063      3064      3065      3066  \\\n",
      "0  0.801274  0.457623  0.195104  ...  0.516343 -0.878057  0.264915  0.206443   \n",
      "1  0.127365  0.111809  1.150152  ... -0.057807 -1.709587  0.067718 -0.725656   \n",
      "2 -0.166358  0.409530  0.693187  ...  0.915426 -1.490793 -0.031970  1.141678   \n",
      "3  0.362828 -0.482695  0.726599  ...  0.606620 -2.069781  0.637838  0.752461   \n",
      "4  0.048420  0.366079  0.505155  ...  1.252378 -1.838147  0.541138  0.013296   \n",
      "\n",
      "       3067      3068      3069      3070      3071  CELL_LINE_NAME_NORM  \n",
      "0 -0.442530 -1.557819 -0.440920 -0.272982  0.106823                  C32  \n",
      "1  0.805136 -1.268069  0.580300 -1.398285 -0.387327              NCIH446  \n",
      "2 -0.465493 -1.073851  0.571218 -0.894729 -0.033402               MFE319  \n",
      "3 -0.442677 -1.907650  1.088027 -0.600049 -0.213624                SKNAS  \n",
      "4 -0.406163 -1.380620  0.593876 -0.558730 -0.175103             NCIH2452  \n",
      "\n",
      "[5 rows x 3073 columns]\n"
     ]
    }
   ],
   "source": [
    "embedding_df = pd.DataFrame(embeddings)\n",
    "embedding_df[\"CELL_LINE_NAME_NORM\"] = cell_lines_norm\n",
    "\n",
    "print(\"✅ Added CELL_LINE_NAME_NORM to embedding_df\")\n",
    "print(\"📌 Sample rows:\\n\", embedding_df.head())\n"
   ]
  },
  {
   "cell_type": "code",
   "execution_count": 19,
   "id": "124b597e",
   "metadata": {},
   "outputs": [
    {
     "name": "stdout",
     "output_type": "stream",
     "text": [
      "✅ Loaded mapping_df\n",
      "📌 Mapping sample:\n",
      "   SANGER_MODEL_ID CELL_LINE_NAME CELL_LINE_NAME_NORM\n",
      "0       SIDM00853            GCT                 GCT\n",
      "1       SIDM00567         ONS-76               ONS76\n",
      "2       SIDM00042            PL4                 PL4\n",
      "3       SIDM00455     PA-TU-8902            PATU8902\n",
      "4       SIDM00881        HCC1428             HCC1428\n",
      "📌 Sample normalized mapping names:\n",
      " ['GCT' 'ONS76' 'PL4' 'PATU8902' 'HCC1428']\n"
     ]
    }
   ],
   "source": [
    "mapping_path = \"cell_sanger_map.csv\"\n",
    "mapping_df = pd.read_csv(mapping_path).drop_duplicates()\n",
    "mapping_df.columns = ['SANGER_MODEL_ID', 'CELL_LINE_NAME']\n",
    "\n",
    "# Normalize\n",
    "mapping_df['CELL_LINE_NAME_NORM'] = mapping_df['CELL_LINE_NAME'].str.replace('-', '', regex=False).str.upper()\n",
    "\n",
    "print(\"✅ Loaded mapping_df\")\n",
    "print(\"📌 Mapping sample:\\n\", mapping_df.head())\n",
    "print(\"📌 Sample normalized mapping names:\\n\", mapping_df['CELL_LINE_NAME_NORM'].unique()[:5])\n"
   ]
  },
  {
   "cell_type": "code",
   "execution_count": 20,
   "id": "8e49e66a",
   "metadata": {},
   "outputs": [
    {
     "name": "stdout",
     "output_type": "stream",
     "text": [
      "📌 Sample merged rows:\n",
      "    CELL_LINE_NAME_NORM SANGER_MODEL_ID\n",
      "0                  C32       SIDM00890\n",
      "1              NCIH446       SIDM00965\n",
      "2               MFE319       SIDM00333\n",
      "3                SKNAS       SIDM01101\n",
      "4             NCIH2452       SIDM00722\n",
      "5                 JHH7       SIDM00614\n",
      "6                KNS42       SIDM00607\n",
      "8                 MCF7       SIDM00148\n",
      "9               HT1197       SIDM00676\n",
      "10               HCC38       SIDM00675\n",
      "✅ Total rows: 39715\n",
      "✅ Mapped rows: 39715\n",
      "❗ Unmapped rows: 0\n"
     ]
    }
   ],
   "source": [
    "# Merge\n",
    "merged_df = embedding_df.merge(mapping_df[['SANGER_MODEL_ID', 'CELL_LINE_NAME_NORM']],\n",
    "                                on=\"CELL_LINE_NAME_NORM\", how=\"left\")\n",
    "\n",
    "# Show a sample of the merge\n",
    "print(\"📌 Sample merged rows:\\n\", merged_df[['CELL_LINE_NAME_NORM', 'SANGER_MODEL_ID']].drop_duplicates().head(10))\n",
    "\n",
    "# Count mapped and unmapped\n",
    "num_total = len(merged_df)\n",
    "num_mapped = merged_df['SANGER_MODEL_ID'].notna().sum()\n",
    "num_unmapped = merged_df['SANGER_MODEL_ID'].isna().sum()\n",
    "\n",
    "print(f\"✅ Total rows: {num_total}\")\n",
    "print(f\"✅ Mapped rows: {num_mapped}\")\n",
    "print(f\"❗ Unmapped rows: {num_unmapped}\")\n",
    "\n",
    "if num_unmapped > 0:\n",
    "    print(\"❗ Example unmapped names:\", merged_df[merged_df['SANGER_MODEL_ID'].isna()]['CELL_LINE_NAME_NORM'].unique()[:5])\n"
   ]
  },
  {
   "cell_type": "code",
   "execution_count": 21,
   "id": "c6e86175",
   "metadata": {},
   "outputs": [
    {
     "name": "stdout",
     "output_type": "stream",
     "text": [
      "✅ Grouped by SANGER_MODEL_ID\n",
      "📌 Pseudo-bulk shape: (140, 3072)\n"
     ]
    }
   ],
   "source": [
    "# Remove unmapped\n",
    "mapped_df = merged_df[~merged_df['SANGER_MODEL_ID'].isna()].copy()\n",
    "\n",
    "# Group by SIDM\n",
    "pseudo_bulk_embeddings = mapped_df.drop(columns=[\"CELL_LINE_NAME_NORM\"]).groupby(\"SANGER_MODEL_ID\").mean()\n",
    "\n",
    "print(\"✅ Grouped by SANGER_MODEL_ID\")\n",
    "print(\"📌 Pseudo-bulk shape:\", pseudo_bulk_embeddings.shape)\n"
   ]
  },
  {
   "cell_type": "code",
   "execution_count": 23,
   "id": "d86d6f30",
   "metadata": {},
   "outputs": [
    {
     "name": "stdout",
     "output_type": "stream",
     "text": [
      "✅ Pseudo-bulk embeddings saved to: data/pseudobulk_sc_embeddings_aligned.csv\n",
      "Final shape: (140, 3072)\n",
      "                     0         1         2         3         4         5     \\\n",
      "SANGER_MODEL_ID                                                               \n",
      "SIDM00078       -2.195639  0.357319 -0.862047 -0.790186  0.284951  0.375345   \n",
      "SIDM00080       -2.959613  1.425849  0.573694  0.053191 -0.848321 -0.502302   \n",
      "SIDM00082       -3.326083  1.041083  0.139121 -0.128704 -0.890527 -0.332816   \n",
      "SIDM00088       -2.943385  1.145860 -0.228418  0.207987 -0.040858 -0.138065   \n",
      "SIDM00092       -2.059386  1.363968 -0.845383 -0.103630  0.807727 -0.527988   \n",
      "\n",
      "                     6         7         8         9     ...      3062  \\\n",
      "SANGER_MODEL_ID                                          ...             \n",
      "SIDM00078       -0.467491  0.113661  0.304275  0.899682  ... -0.499465   \n",
      "SIDM00080       -0.681997  1.324688  0.123628  0.169735  ... -0.374767   \n",
      "SIDM00082       -0.323405  0.875065  0.159454  0.334553  ... -0.408435   \n",
      "SIDM00088       -0.215032 -0.286964 -0.191988  0.704702  ... -0.267111   \n",
      "SIDM00092       -0.257303  0.327082  0.348697  0.172206  ...  0.082585   \n",
      "\n",
      "                     3063      3064      3065      3066      3067      3068  \\\n",
      "SANGER_MODEL_ID                                                               \n",
      "SIDM00078        0.968250 -0.920737  0.638991 -0.041997 -0.233030 -1.156571   \n",
      "SIDM00080        0.794484 -1.203371  1.081665  0.567119 -0.840442 -1.038114   \n",
      "SIDM00082        0.480492 -1.171758  0.466017  0.080264 -0.252248 -1.419128   \n",
      "SIDM00088        1.076274 -1.373347  0.557468  0.067131 -0.147699 -0.763191   \n",
      "SIDM00092        0.978455 -1.169253  0.828175  0.725429 -1.198906 -0.790684   \n",
      "\n",
      "                     3069      3070      3071  \n",
      "SANGER_MODEL_ID                                \n",
      "SIDM00078        0.583150 -0.113126 -0.085160  \n",
      "SIDM00080       -0.434650  0.040282  0.156814  \n",
      "SIDM00082        0.017032 -0.132182  0.261733  \n",
      "SIDM00088        0.380379 -0.354309 -0.117561  \n",
      "SIDM00092        0.479167 -0.267139 -0.147869  \n",
      "\n",
      "[5 rows x 3072 columns]\n"
     ]
    }
   ],
   "source": [
    "output_path = \"data/pseudobulk_sc_embeddings_aligned.csv\"\n",
    "pseudo_bulk_embeddings.to_csv(output_path)\n",
    "\n",
    "print(f\"✅ Pseudo-bulk embeddings saved to: {output_path}\")\n",
    "print(f\"Final shape: {pseudo_bulk_embeddings.shape}\")\n",
    "print(pseudo_bulk_embeddings.head())\n"
   ]
  }
 ],
 "metadata": {
  "kernelspec": {
   "display_name": "tese-env",
   "language": "python",
   "name": "python3"
  },
  "language_info": {
   "codemirror_mode": {
    "name": "ipython",
    "version": 3
   },
   "file_extension": ".py",
   "mimetype": "text/x-python",
   "name": "python",
   "nbconvert_exporter": "python",
   "pygments_lexer": "ipython3",
   "version": "3.10.16"
  }
 },
 "nbformat": 4,
 "nbformat_minor": 5
}
