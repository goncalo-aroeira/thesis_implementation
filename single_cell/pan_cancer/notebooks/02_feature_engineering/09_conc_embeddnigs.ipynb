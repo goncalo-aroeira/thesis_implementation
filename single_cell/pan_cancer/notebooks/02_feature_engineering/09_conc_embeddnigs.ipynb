{
 "cells": [
  {
   "cell_type": "code",
   "execution_count": 8,
   "id": "ba0d922e",
   "metadata": {},
   "outputs": [],
   "source": [
    "import pandas as pd\n"
   ]
  },
  {
   "cell_type": "code",
   "execution_count": null,
   "id": "3e6200b9",
   "metadata": {},
   "outputs": [
    {
     "name": "stdout",
     "output_type": "stream",
     "text": [
      "✅ Renamed columns in gene_pca_df: [] ...\n"
     ]
    }
   ],
   "source": [
    "# Load both DataFrames\n",
    "gene_pca_df = pd.read_parquet(\"../../data/processed/gdsc_pancancer_embeddings_30_pcs.parquet\")\n",
    "emb_pca_df = pd.read_parquet(\"../../data/processed/gdsc_pancancer_pseudobulk_30_pcs.parquet\")\n",
    "\n",
    "# Rename PCA columns in gene_pca_df\n",
    "gene_pca_cols = [col for col in gene_pca_df.columns if col.startswith(\"SCF_PC\")]\n",
    "voom_renaming = {col: col.replace(\"SCF_PC\", \"VOOM_PC\") for col in gene_pca_cols}\n",
    "gene_pca_df = gene_pca_df.rename(columns=voom_renaming)\n",
    "\n",
    "# Confirm\n",
    "print(\"✅ Renamed columns in gene_pca_df:\", list(voom_renaming.values())[:5], \"...\")\n"
   ]
  },
  {
   "cell_type": "code",
   "execution_count": 14,
   "id": "9833e071",
   "metadata": {},
   "outputs": [
    {
     "name": "stdout",
     "output_type": "stream",
     "text": [
      "✅ Embeddings PCA columns: ['SC_PC1', 'SC_PC2', 'SC_PC3', 'SC_PC4', 'SC_PC5'] ...\n"
     ]
    }
   ],
   "source": [
    "# Identify merge keys\n",
    "merge_keys = [\"SANGER_MODEL_ID\", \"DRUG_ID\"]\n",
    "\n",
    "# Identify PCA columns in embeddings DataFrame\n",
    "emb_pca_cols = [col for col in emb_pca_df.columns if col.startswith(\"SC_PC\")]\n",
    "\n",
    "print(\"✅ Embeddings PCA columns:\", emb_pca_cols[:5], \"...\")\n"
   ]
  },
  {
   "cell_type": "code",
   "execution_count": 15,
   "id": "2356454f",
   "metadata": {},
   "outputs": [
    {
     "name": "stdout",
     "output_type": "stream",
     "text": [
      "✅ Prepared embeddings DataFrame for merging: (84683, 32)\n"
     ]
    }
   ],
   "source": [
    "# Keep only merge keys + PCA columns for merging\n",
    "emb_pca_keep = emb_pca_df[merge_keys + emb_pca_cols].copy()\n",
    "\n",
    "print(\"✅ Prepared embeddings DataFrame for merging:\", emb_pca_keep.shape)\n"
   ]
  },
  {
   "cell_type": "code",
   "execution_count": 16,
   "id": "b113eaf0",
   "metadata": {},
   "outputs": [
    {
     "name": "stdout",
     "output_type": "stream",
     "text": [
      "✅ Merged shape: (84683, 63)\n",
      "✅ Columns preview: ['SANGER_MODEL_ID', 'DRUG_ID', 'LN_IC50', 'PC1', 'PC2', 'PC3', 'PC4', 'PC5', 'PC6', 'PC7'] ...\n",
      "  SANGER_MODEL_ID  DRUG_ID   LN_IC50       PC1        PC2        PC3  \\\n",
      "0       SIDM01111        1  2.033564 -5.927806   2.096332 -12.498588   \n",
      "1       SIDM00965        1  3.047965 -6.875136   2.150296 -11.770959   \n",
      "2       SIDM00921        1  3.009075 -4.583251  -3.857921  -3.565151   \n",
      "3       SIDM00395        1  3.381088 -2.114197  10.887882 -12.880151   \n",
      "4       SIDM00369        1 -1.395483  7.081503  -0.773096   0.600023   \n",
      "\n",
      "         PC4        PC5       PC6       PC7  ...   SC_PC21   SC_PC22  \\\n",
      "0   6.431199 -11.229197 -0.144861 -7.687607  ...  1.387883 -0.821981   \n",
      "1   2.239541  -4.746090 -6.712371 -4.839766  ...  1.058641  3.336473   \n",
      "2   5.554976   2.155770  2.658704 -5.520007  ...  1.501859 -1.195208   \n",
      "3  13.894074 -13.900619 -2.299033 -2.982558  ... -3.784482  1.070083   \n",
      "4  -1.613353   5.353582  1.364210 -0.744943  ...  3.252580  1.156574   \n",
      "\n",
      "    SC_PC23   SC_PC24   SC_PC25   SC_PC26   SC_PC27   SC_PC28   SC_PC29  \\\n",
      "0  0.065524  1.623661 -0.830621  2.517250 -2.749964 -0.000996 -2.331764   \n",
      "1  0.633779  2.496721 -1.339523  0.145900 -0.590071  0.850623 -0.349659   \n",
      "2  1.967132  2.557824  0.966494  1.325041  2.179234 -2.733089 -0.162911   \n",
      "3  4.487517 -1.599292 -5.003120  1.985422 -6.907330 -5.118853  0.254066   \n",
      "4  1.772722 -3.121680 -1.317221  1.300824 -0.328642 -3.100364  3.005074   \n",
      "\n",
      "    SC_PC30  \n",
      "0  3.067011  \n",
      "1 -3.990113  \n",
      "2 -1.485600  \n",
      "3  3.860861  \n",
      "4  2.051806  \n",
      "\n",
      "[5 rows x 63 columns]\n"
     ]
    }
   ],
   "source": [
    "# Merge gene PCA (renamed) with embeddings PCA\n",
    "merged_df = gene_pca_df.merge(\n",
    "    emb_pca_keep,\n",
    "    on=merge_keys,\n",
    "    how=\"inner\"\n",
    ")\n",
    "\n",
    "# Confirm structure\n",
    "print(\"✅ Merged shape:\", merged_df.shape)\n",
    "print(\"✅ Columns preview:\", merged_df.columns[:10].tolist(), \"...\")\n",
    "print(merged_df.head())\n"
   ]
  },
  {
   "cell_type": "code",
   "execution_count": 17,
   "id": "29dc9cf7",
   "metadata": {},
   "outputs": [
    {
     "name": "stdout",
     "output_type": "stream",
     "text": [
      "✅ Saved concatenated PCA feature table to '../../data/processed/gdsc_pancancer_embeddings_30_pcs.parquet'.\n"
     ]
    }
   ],
   "source": [
    "# Save to parquet\n",
    "merged_df.to_parquet(\"../../data/processed/gdsc_pancancer_embeddings_expression_30_pcs.parquet\", index=False)\n",
    "print(\"✅ Saved concatenated PCA feature table to '../../data/processed/gdsc_pancancer_embeddings_30_pcs.parquet'.\")\n"
   ]
  }
 ],
 "metadata": {
  "kernelspec": {
   "display_name": "tese-env",
   "language": "python",
   "name": "python3"
  },
  "language_info": {
   "codemirror_mode": {
    "name": "ipython",
    "version": 3
   },
   "file_extension": ".py",
   "mimetype": "text/x-python",
   "name": "python",
   "nbconvert_exporter": "python",
   "pygments_lexer": "ipython3",
   "version": "3.10.16"
  }
 },
 "nbformat": 4,
 "nbformat_minor": 5
}
