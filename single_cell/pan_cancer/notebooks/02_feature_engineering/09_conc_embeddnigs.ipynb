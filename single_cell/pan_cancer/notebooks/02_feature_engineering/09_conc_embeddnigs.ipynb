{
 "cells": [
  {
   "cell_type": "code",
   "execution_count": 1,
   "id": "ba0d922e",
   "metadata": {},
   "outputs": [],
   "source": [
    "import pandas as pd\n"
   ]
  },
  {
   "cell_type": "code",
   "execution_count": 7,
   "id": "3e6200b9",
   "metadata": {},
   "outputs": [
    {
     "name": "stdout",
     "output_type": "stream",
     "text": [
      "  SANGER_MODEL_ID  DRUG_ID   LN_IC50         0         1         2          3  \\\n",
      "0       SIDM01111        1  2.033564 -2.465400  1.202431 -0.944438  -9.463418   \n",
      "1       SIDM00965        1  3.047965 -3.944899  0.260618 -0.084734  -5.278831   \n",
      "2       SIDM00921        1  3.009075 -2.428348  3.057883 -6.248041   0.675703   \n",
      "3       SIDM00395        1  3.381088 -2.083047  9.835143  3.641217 -11.338659   \n",
      "4       SIDM00369        1 -1.395483  7.560895  4.969285  0.769833   4.234478   \n",
      "\n",
      "           4         5         6  ...        20        21        22        23  \\\n",
      "0   7.780813 -1.961875 -1.021320  ...  1.132296  4.170240 -2.783202  1.540082   \n",
      "1  11.148554 -5.640492  2.199688  ...  1.640393  0.575384 -0.514569  2.981020   \n",
      "2   0.930572 -1.085604  2.428111  ... -0.584436  0.425164  1.251663  0.168285   \n",
      "3   4.221368 -9.624701 -8.043923  ...  1.982270  1.046272  2.171780 -1.251443   \n",
      "4  -0.730354 -3.121336  1.328352  ...  1.308641 -1.104988  0.215362  1.251073   \n",
      "\n",
      "         24        25        26        27        28        29  \n",
      "0  2.382949  0.333869  0.671884  2.003590 -0.020226  0.290388  \n",
      "1 -0.428230 -0.465656  0.599798  0.715570 -1.602822 -0.792969  \n",
      "2  0.872158 -0.321614 -0.077460  0.062010  0.284773  0.079346  \n",
      "3  5.610908  2.171316  4.002097 -5.208480  0.516988  1.422065  \n",
      "4 -0.501633 -0.799267  1.460068 -0.139382  0.849597  0.065717  \n",
      "\n",
      "[5 rows x 33 columns]\n",
      "  SANGER_MODEL_ID  DRUG_ID   LN_IC50         PC1        PC2        PC3  \\\n",
      "0       SIDM01111        1  2.033564 -172.265313 -51.796883 -11.071435   \n",
      "1       SIDM00965        1  3.047965  -81.262914 -55.319854 -17.782211   \n",
      "2       SIDM00921        1  3.009075   10.979705 -29.469902 -10.681644   \n",
      "3       SIDM00395        1  3.381088 -304.697345 -43.906047 -13.665699   \n",
      "4       SIDM00369        1 -1.395483   62.272103  37.464477   2.038386   \n",
      "\n",
      "         PC4        PC5        PC6        PC7  ...       PC21       PC22  \\\n",
      "0  25.853181 -61.037926 -39.420659  -9.132707  ...  -5.437439 -24.638963   \n",
      "1  27.540480 -47.429667   0.828999  17.118149  ...   2.719752  -3.145686   \n",
      "2 -36.479603   0.222209 -38.839693 -13.986170  ...   1.018955 -37.570435   \n",
      "3  43.224581 -80.184329 -60.777082 -19.712689  ...  14.913421 -10.509331   \n",
      "4  -6.262093  -6.478788  27.344217 -38.406405  ...   6.107144 -27.715785   \n",
      "\n",
      "        PC23       PC24      PC25       PC26       PC27       PC28       PC29  \\\n",
      "0  -5.188729 -28.773648  4.644144  17.774298   5.484343  -8.192973 -29.998987   \n",
      "1   6.335053   2.200485 -5.481570 -42.096890   9.698209 -15.128104 -13.182873   \n",
      "2   6.468278   3.675248  6.911462   0.149621 -18.433772   3.558691  -6.293674   \n",
      "3 -52.265645  -2.857896  6.228067 -58.160214  15.111587  -5.947874   2.340878   \n",
      "4   7.977973  27.311726  6.625955  -3.984365  -9.442540  15.349245  15.961343   \n",
      "\n",
      "        PC30  \n",
      "0  19.086129  \n",
      "1 -11.824680  \n",
      "2 -14.944161  \n",
      "3   1.079279  \n",
      "4 -12.368706  \n",
      "\n",
      "[5 rows x 33 columns]\n",
      "✅ Renamed columns in gene_pca_df: [] ...\n"
     ]
    }
   ],
   "source": [
    "# Load both DataFrames\n",
    "gene_pca_df = pd.read_parquet(\"../../data/processed/gdsc_pancancer_embeddings_30_pcs.parquet\")\n",
    "print(gene_pca_df.head())\n",
    "\n",
    "emb_pca_df = pd.read_parquet(\"../../data/processed/gdsc_pseudobulk_voom_30_pcs.parquet\")\n",
    "print(emb_pca_df.head())\n",
    "\n",
    "# Rename PCA columns in gene_pca_df\n",
    "gene_pca_cols = [col for col in gene_pca_df.columns if col.startswith(\"SCF_PC\")]\n",
    "voom_renaming = {col: col.replace(\"SCF_PC\", \"VOOM_PC\") for col in gene_pca_cols}\n",
    "gene_pca_df = gene_pca_df.rename(columns=voom_renaming)\n",
    "\n",
    "# Confirm\n",
    "print(\"✅ Renamed columns in gene_pca_df:\", list(voom_renaming.values())[:5], \"...\")\n"
   ]
  },
  {
   "cell_type": "code",
   "execution_count": 8,
   "id": "9833e071",
   "metadata": {},
   "outputs": [
    {
     "name": "stdout",
     "output_type": "stream",
     "text": [
      "✅ Embeddings PCA columns: ['PC1', 'PC2', 'PC3', 'PC4', 'PC5'] ...\n"
     ]
    }
   ],
   "source": [
    "# Identify merge keys\n",
    "merge_keys = [\"SANGER_MODEL_ID\", \"DRUG_ID\"]\n",
    "\n",
    "# Identify PCA columns in embeddings DataFrame\n",
    "emb_pca_cols = [col for col in emb_pca_df.columns if col.startswith(\"PC\")]\n",
    "\n",
    "print(\"✅ Embeddings PCA columns:\", emb_pca_cols[:5], \"...\")\n"
   ]
  },
  {
   "cell_type": "code",
   "execution_count": 9,
   "id": "2356454f",
   "metadata": {},
   "outputs": [
    {
     "name": "stdout",
     "output_type": "stream",
     "text": [
      "✅ Prepared embeddings DataFrame for merging: (84683, 32)\n"
     ]
    }
   ],
   "source": [
    "# Keep only merge keys + PCA columns for merging\n",
    "emb_pca_keep = emb_pca_df[merge_keys + emb_pca_cols].copy()\n",
    "\n",
    "print(\"✅ Prepared embeddings DataFrame for merging:\", emb_pca_keep.shape)\n"
   ]
  },
  {
   "cell_type": "code",
   "execution_count": 10,
   "id": "b113eaf0",
   "metadata": {},
   "outputs": [
    {
     "name": "stdout",
     "output_type": "stream",
     "text": [
      "✅ Merged shape: (84683, 63)\n",
      "✅ Columns preview: ['SANGER_MODEL_ID', 'DRUG_ID', 'LN_IC50', '0', '1', '2', '3', '4', '5', '6'] ...\n",
      "  SANGER_MODEL_ID  DRUG_ID   LN_IC50         0         1         2          3  \\\n",
      "0       SIDM01111        1  2.033564 -2.465400  1.202431 -0.944438  -9.463418   \n",
      "1       SIDM00965        1  3.047965 -3.944899  0.260618 -0.084734  -5.278831   \n",
      "2       SIDM00921        1  3.009075 -2.428348  3.057883 -6.248041   0.675703   \n",
      "3       SIDM00395        1  3.381088 -2.083047  9.835143  3.641217 -11.338659   \n",
      "4       SIDM00369        1 -1.395483  7.560895  4.969285  0.769833   4.234478   \n",
      "\n",
      "           4         5         6  ...       PC21       PC22       PC23  \\\n",
      "0   7.780813 -1.961875 -1.021320  ...  -5.437439 -24.638963  -5.188729   \n",
      "1  11.148554 -5.640492  2.199688  ...   2.719752  -3.145686   6.335053   \n",
      "2   0.930572 -1.085604  2.428111  ...   1.018955 -37.570435   6.468278   \n",
      "3   4.221368 -9.624701 -8.043923  ...  14.913421 -10.509331 -52.265645   \n",
      "4  -0.730354 -3.121336  1.328352  ...   6.107144 -27.715785   7.977973   \n",
      "\n",
      "        PC24      PC25       PC26       PC27       PC28       PC29       PC30  \n",
      "0 -28.773648  4.644144  17.774298   5.484343  -8.192973 -29.998987  19.086129  \n",
      "1   2.200485 -5.481570 -42.096890   9.698209 -15.128104 -13.182873 -11.824680  \n",
      "2   3.675248  6.911462   0.149621 -18.433772   3.558691  -6.293674 -14.944161  \n",
      "3  -2.857896  6.228067 -58.160214  15.111587  -5.947874   2.340878   1.079279  \n",
      "4  27.311726  6.625955  -3.984365  -9.442540  15.349245  15.961343 -12.368706  \n",
      "\n",
      "[5 rows x 63 columns]\n"
     ]
    }
   ],
   "source": [
    "# Merge gene PCA (renamed) with embeddings PCA\n",
    "merged_df = gene_pca_df.merge(\n",
    "    emb_pca_keep,\n",
    "    on=merge_keys,\n",
    "    how=\"inner\"\n",
    ")\n",
    "\n",
    "# Confirm structure\n",
    "print(\"✅ Merged shape:\", merged_df.shape)\n",
    "print(\"✅ Columns preview:\", merged_df.columns[:10].tolist(), \"...\")\n",
    "print(merged_df.head())\n"
   ]
  },
  {
   "cell_type": "code",
   "execution_count": 1,
   "id": "29dc9cf7",
   "metadata": {},
   "outputs": [
    {
     "ename": "NameError",
     "evalue": "name 'merged_df' is not defined",
     "output_type": "error",
     "traceback": [
      "\u001b[0;31m---------------------------------------------------------------------------\u001b[0m",
      "\u001b[0;31mNameError\u001b[0m                                 Traceback (most recent call last)",
      "Cell \u001b[0;32mIn[1], line 2\u001b[0m\n\u001b[1;32m      1\u001b[0m \u001b[38;5;66;03m# Save to parquet\u001b[39;00m\n\u001b[0;32m----> 2\u001b[0m \u001b[43mmerged_df\u001b[49m\u001b[38;5;241m.\u001b[39mto_parquet(\u001b[38;5;124m\"\u001b[39m\u001b[38;5;124m../../data/processed/gdsc_pancancer_conc_30_pcs.parquet\u001b[39m\u001b[38;5;124m\"\u001b[39m, index\u001b[38;5;241m=\u001b[39m\u001b[38;5;28;01mFalse\u001b[39;00m)\n\u001b[1;32m      3\u001b[0m \u001b[38;5;28mprint\u001b[39m(\u001b[38;5;124m\"\u001b[39m\u001b[38;5;124m✅ Saved concatenated PCA feature table to \u001b[39m\u001b[38;5;124m'\u001b[39m\u001b[38;5;124m../../data/processed/gdsc_pancancer_conc_30_pcs.parquet\u001b[39m\u001b[38;5;124m'\u001b[39m\u001b[38;5;124m.\u001b[39m\u001b[38;5;124m\"\u001b[39m)\n",
      "\u001b[0;31mNameError\u001b[0m: name 'merged_df' is not defined"
     ]
    }
   ],
   "source": [
    "# Save to parquet\n",
    "merged_df.to_parquet(\"../../data/processed/gdsc_pancancer_conc_30_pcs.parquet\", index=False)\n",
    "print(\"✅ Saved concatenated PCA feature table to '../../data/processed/gdsc_pancancer_conc_30_pcs.parquet'.\")\n"
   ]
  }
 ],
 "metadata": {
  "kernelspec": {
   "display_name": "tese-env",
   "language": "python",
   "name": "python3"
  },
  "language_info": {
   "codemirror_mode": {
    "name": "ipython",
    "version": 3
   },
   "file_extension": ".py",
   "mimetype": "text/x-python",
   "name": "python",
   "nbconvert_exporter": "python",
   "pygments_lexer": "ipython3",
   "version": "3.10.16"
  }
 },
 "nbformat": 4,
 "nbformat_minor": 5
}
