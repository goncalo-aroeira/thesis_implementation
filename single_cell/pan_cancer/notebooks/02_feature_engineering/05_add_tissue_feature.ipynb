{
 "cells": [
  {
   "cell_type": "code",
   "execution_count": 1,
   "id": "ace5f420",
   "metadata": {},
   "outputs": [],
   "source": [
    "import pandas as pd\n",
    "\n",
    "# Paths\n",
    "EMBEDDINGS_PATH = \"../../data/processed/gdsc_pancancer_embeddings_expression_30_pcs.parquet\"  # or raw_embeddings if needed\n",
    "TISSUE_PATH = \"feature_engineering/processed_tissue_dummies.csv\"\n",
    "\n",
    "# Load datasets\n",
    "df_embed = pd.read_parquet(EMBEDDINGS_PATH)\n",
    "tissue_df = pd.read_csv(TISSUE_PATH)\n"
   ]
  },
  {
   "cell_type": "code",
   "execution_count": 2,
   "id": "2d2392f5",
   "metadata": {},
   "outputs": [
    {
     "name": "stdout",
     "output_type": "stream",
     "text": [
      "⚠️ Missing tissue dummy entries: 0\n",
      "✅ Tissue features successfully merged and cleaned.\n",
      "  SANGER_MODEL_ID  DRUG_ID   LN_IC50         0         1         2          3  \\\n",
      "0       SIDM01111        1  2.033564 -2.465400  1.202431 -0.944438  -9.463418   \n",
      "1       SIDM00965        1  3.047965 -3.944899  0.260618 -0.084734  -5.278831   \n",
      "2       SIDM00921        1  3.009075 -2.428348  3.057883 -6.248041   0.675703   \n",
      "3       SIDM00395        1  3.381088 -2.083047  9.835143  3.641217 -11.338659   \n",
      "4       SIDM00369        1 -1.395483  7.560895  4.969285  0.769833   4.234478   \n",
      "\n",
      "           4         5         6  ...  Tissue_Central Nervous System  \\\n",
      "0   7.780813 -1.961875 -1.021320  ...                              0   \n",
      "1  11.148554 -5.640492  2.199688  ...                              0   \n",
      "2   0.930572 -1.085604  2.428111  ...                              0   \n",
      "3   4.221368 -9.624701 -8.043923  ...                              0   \n",
      "4  -0.730354 -3.121336  1.328352  ...                              0   \n",
      "\n",
      "   Tissue_Esophagus  Tissue_Head And Neck  Tissue_Large Intestine  \\\n",
      "0                 0                     0                       0   \n",
      "1                 0                     0                       0   \n",
      "2                 0                     0                       0   \n",
      "3                 0                     0                       0   \n",
      "4                 1                     0                       0   \n",
      "\n",
      "   Tissue_Liver  Tissue_Lung  Tissue_Other  Tissue_Ovary  Tissue_Pancreas  \\\n",
      "0             0            0             1             0                0   \n",
      "1             0            1             0             0                0   \n",
      "2             0            1             0             0                0   \n",
      "3             0            0             1             0                0   \n",
      "4             0            0             0             0                0   \n",
      "\n",
      "   Tissue_Skin  \n",
      "0            0  \n",
      "1            0  \n",
      "2            0  \n",
      "3            0  \n",
      "4            0  \n",
      "\n",
      "[5 rows x 74 columns]\n"
     ]
    }
   ],
   "source": [
    "# Merge on SANGER_MODEL_ID\n",
    "merged_df = pd.merge(df_embed, tissue_df, on=\"SANGER_MODEL_ID\", how=\"left\")\n",
    "\n",
    "# Check if there are missing tissue assignments\n",
    "tissue_cols = [col for col in merged_df.columns if col.startswith(\"Tissue_\")]\n",
    "missing_tissues = merged_df[tissue_cols].isna().sum().sum()\n",
    "print(f\"⚠️ Missing tissue dummy entries: {missing_tissues}\")\n",
    "\n",
    "# Fill NaNs (if any) with 0\n",
    "merged_df[tissue_cols] = merged_df[tissue_cols].fillna(0).astype(int)\n",
    "\n",
    "print(\"✅ Tissue features successfully merged and cleaned.\")\n",
    "\n",
    "print(merged_df.head())\n"
   ]
  },
  {
   "cell_type": "code",
   "execution_count": 3,
   "id": "98aa01a4",
   "metadata": {},
   "outputs": [
    {
     "name": "stdout",
     "output_type": "stream",
     "text": [
      "📁 Saved dataset with tissue features to:\n",
      "../../data/processed/gdsc_pancancer_embeddings_expression_30_pcs_tissue.parquet\n"
     ]
    }
   ],
   "source": [
    "OUTPUT_PATH = \"../../data/processed/gdsc_pancancer_embeddings_expression_30_pcs_tissue.parquet\"\n",
    "merged_df.to_parquet(OUTPUT_PATH, index=False)\n",
    "\n",
    "print(f\"📁 Saved dataset with tissue features to:\\n{OUTPUT_PATH}\")\n"
   ]
  }
 ],
 "metadata": {
  "kernelspec": {
   "display_name": "tese-env",
   "language": "python",
   "name": "python3"
  },
  "language_info": {
   "codemirror_mode": {
    "name": "ipython",
    "version": 3
   },
   "file_extension": ".py",
   "mimetype": "text/x-python",
   "name": "python",
   "nbconvert_exporter": "python",
   "pygments_lexer": "ipython3",
   "version": "3.10.16"
  }
 },
 "nbformat": 4,
 "nbformat_minor": 5
}
