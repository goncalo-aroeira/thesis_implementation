{
 "cells": [
  {
   "cell_type": "code",
   "execution_count": 5,
   "id": "ace5f420",
   "metadata": {},
   "outputs": [
    {
     "name": "stdout",
     "output_type": "stream",
     "text": [
      "🧬 Embeddings dataset shape: (83624, 33)\n",
      "🏷️ Tissue features shape: (140, 12)\n"
     ]
    }
   ],
   "source": [
    "import pandas as pd\n",
    "\n",
    "# Paths\n",
    "EMBEDDINGS_PATH = \"../../data/processed/bulk_embeddings_30_pcs.parquet\"  # or raw_embeddings if needed\n",
    "TISSUE_PATH = \"feature_engineering/processed_tissue_dummies.csv\"\n",
    "\n",
    "# Load datasets\n",
    "df_embed = pd.read_parquet(EMBEDDINGS_PATH)\n",
    "tissue_df = pd.read_csv(TISSUE_PATH)\n",
    "\n",
    "print(f\"🧬 Embeddings dataset shape: {df_embed.shape}\")\n",
    "print(f\"🏷️ Tissue features shape: {tissue_df.shape}\")\n"
   ]
  },
  {
   "cell_type": "code",
   "execution_count": 6,
   "id": "2d2392f5",
   "metadata": {},
   "outputs": [
    {
     "name": "stdout",
     "output_type": "stream",
     "text": [
      "⚠️ Missing tissue dummy entries: 0\n",
      "✅ Tissue features successfully merged and cleaned.\n",
      "  SANGER_MODEL_ID  DRUG_ID   LN_IC50   SCF_PC1   SCF_PC2   SCF_PC3   SCF_PC4  \\\n",
      "0       SIDM01111        1  2.033564 -2.761284  5.308661 -1.074850 -0.946203   \n",
      "1       SIDM00965        1  3.047965 -0.906100  3.386841 -0.006393 -0.650798   \n",
      "2       SIDM00921        1  3.009075 -1.594771 -1.635437  1.053011 -0.952706   \n",
      "3       SIDM00395        1  3.381088 -0.956791  2.133660 -1.688075 -0.554651   \n",
      "4       SIDM00369        1 -1.395483 -0.319099 -2.202758 -1.629978 -0.385201   \n",
      "\n",
      "    SCF_PC5   SCF_PC6   SCF_PC7  ...  Tissue_Central Nervous System  \\\n",
      "0 -0.200081 -1.026378  1.316409  ...                              0   \n",
      "1  0.283100  0.112945  0.884774  ...                              0   \n",
      "2  0.886739 -0.113859  0.029168  ...                              0   \n",
      "3 -1.282332 -0.501545  0.873872  ...                              0   \n",
      "4  1.636648  0.748600 -0.135878  ...                              0   \n",
      "\n",
      "   Tissue_Esophagus  Tissue_Head And Neck  Tissue_Large Intestine  \\\n",
      "0                 0                     0                       0   \n",
      "1                 0                     0                       0   \n",
      "2                 0                     0                       0   \n",
      "3                 0                     0                       0   \n",
      "4                 1                     0                       0   \n",
      "\n",
      "   Tissue_Liver  Tissue_Lung  Tissue_Other  Tissue_Ovary  Tissue_Pancreas  \\\n",
      "0             0            0             1             0                0   \n",
      "1             0            1             0             0                0   \n",
      "2             0            1             0             0                0   \n",
      "3             0            0             1             0                0   \n",
      "4             0            0             0             0                0   \n",
      "\n",
      "   Tissue_Skin  \n",
      "0            0  \n",
      "1            0  \n",
      "2            0  \n",
      "3            0  \n",
      "4            0  \n",
      "\n",
      "[5 rows x 44 columns]\n"
     ]
    }
   ],
   "source": [
    "# Merge on SANGER_MODEL_ID\n",
    "merged_df = pd.merge(df_embed, tissue_df, on=\"SANGER_MODEL_ID\", how=\"left\")\n",
    "\n",
    "# Check if there are missing tissue assignments\n",
    "tissue_cols = [col for col in merged_df.columns if col.startswith(\"Tissue_\")]\n",
    "missing_tissues = merged_df[tissue_cols].isna().sum().sum()\n",
    "print(f\"⚠️ Missing tissue dummy entries: {missing_tissues}\")\n",
    "\n",
    "# Fill NaNs (if any) with 0\n",
    "merged_df[tissue_cols] = merged_df[tissue_cols].fillna(0).astype(int)\n",
    "\n",
    "print(\"✅ Tissue features successfully merged and cleaned.\")\n",
    "\n",
    "print(merged_df.head())\n"
   ]
  },
  {
   "cell_type": "code",
   "execution_count": 7,
   "id": "98aa01a4",
   "metadata": {},
   "outputs": [
    {
     "name": "stdout",
     "output_type": "stream",
     "text": [
      "📁 Saved dataset with tissue features to:\n",
      "../../data/processed/bulk_embeddings_30_pcs_tissue.parquet\n"
     ]
    }
   ],
   "source": [
    "OUTPUT_PATH = \"../../data/processed/bulk_embeddings_30_pcs_tissue.parquet\"\n",
    "merged_df.to_parquet(OUTPUT_PATH, index=False)\n",
    "\n",
    "print(f\"📁 Saved dataset with tissue features to:\\n{OUTPUT_PATH}\")\n"
   ]
  }
 ],
 "metadata": {
  "kernelspec": {
   "display_name": "tese-env",
   "language": "python",
   "name": "python3"
  },
  "language_info": {
   "codemirror_mode": {
    "name": "ipython",
    "version": 3
   },
   "file_extension": ".py",
   "mimetype": "text/x-python",
   "name": "python",
   "nbconvert_exporter": "python",
   "pygments_lexer": "ipython3",
   "version": "3.10.16"
  }
 },
 "nbformat": 4,
 "nbformat_minor": 5
}
