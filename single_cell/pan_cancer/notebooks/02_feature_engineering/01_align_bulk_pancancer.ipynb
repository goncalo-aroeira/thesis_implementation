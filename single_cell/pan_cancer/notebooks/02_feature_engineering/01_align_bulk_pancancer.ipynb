{
 "cells": [
  {
   "cell_type": "code",
   "execution_count": null,
   "id": "2a9a1247",
   "metadata": {},
   "outputs": [
    {
     "name": "stdout",
     "output_type": "stream",
     "text": [
      "✅ Extracted 138 unique single-cell model IDs\n"
     ]
    }
   ],
   "source": [
    "import pandas as pd\n",
    "\n",
    "# Load pseudo-bulk dataset\n",
    "pseudo_bulk = pd.read_csv(\"../../data/processed/pancancer_pseudobulk_30_pcs_tissue_growth.csv\")\n",
    "\n",
    "# Extract model IDs and clean them\n",
    "single_cell_ids = pseudo_bulk.iloc[:, 0].astype(str).str.strip().str.upper().unique()\n",
    "\n",
    "print(f\"✅ Extracted {len(single_cell_ids)} unique single-cell model IDs\")\n"
   ]
  },
  {
   "cell_type": "code",
   "execution_count": 6,
   "id": "df3e754e",
   "metadata": {},
   "outputs": [
    {
     "name": "stdout",
     "output_type": "stream",
     "text": [
      "📦 bulk_with_pca_tissue_growth: (571985, 33)\n",
      "📦 bulk_with_pca_embeddings_tissue_growth: (571985, 33)\n",
      "📦 bulk_with_pca_tissue_growth columns: 33\n",
      "📦 bulk_with_pca_embeddings_tissue_growth columns: 33\n",
      "\n",
      "🟢 Columns only in bulk_with_pca_tissue_growth:\n",
      "[]\n",
      "\n",
      "🔵 Columns only in bulk_with_pca_embeddings_tissue_growth:\n",
      "[]\n"
     ]
    }
   ],
   "source": [
    "# Load bulk datasets\n",
    "bulk_1 = pd.read_parquet(\"../../../../bulk_state_of_the_art/data/processed/bulk_with_pca.parquet\")\n",
    "bulk_2 = pd.read_parquet(\"../../../../bulk_state_of_the_art/data/processed/bulk_with_pca_embeddings.parquet\")\n",
    "\n",
    "# Clean SANGER_MODEL_IDs\n",
    "bulk_1[\"SANGER_MODEL_ID\"] = bulk_1[\"SANGER_MODEL_ID\"].str.strip().str.upper()\n",
    "bulk_2[\"SANGER_MODEL_ID\"] = bulk_2[\"SANGER_MODEL_ID\"].str.strip().str.upper()\n",
    "\n",
    "print(f\"📦 bulk_with_pca_tissue_growth: {bulk_1.shape}\")\n",
    "print(f\"📦 bulk_with_pca_embeddings_tissue_growth: {bulk_2.shape}\")\n",
    "\n",
    "# Print number of columns\n",
    "print(f\"📦 bulk_with_pca_tissue_growth columns: {len(bulk_1.columns)}\")\n",
    "print(f\"📦 bulk_with_pca_embeddings_tissue_growth columns: {len(bulk_2.columns)}\")\n",
    "\n",
    "# Compare columns\n",
    "cols_1 = set(bulk_1.columns)\n",
    "cols_2 = set(bulk_2.columns)\n",
    "\n",
    "only_in_1 = cols_1 - cols_2\n",
    "only_in_2 = cols_2 - cols_1\n",
    "\n",
    "print(\"\\n🟢 Columns only in bulk_with_pca_tissue_growth:\")\n",
    "print(sorted(only_in_1))\n",
    "\n",
    "print(\"\\n🔵 Columns only in bulk_with_pca_embeddings_tissue_growth:\")\n",
    "print(sorted(only_in_2))\n",
    "\n"
   ]
  },
  {
   "cell_type": "code",
   "execution_count": 7,
   "id": "7120e0f6",
   "metadata": {},
   "outputs": [
    {
     "name": "stdout",
     "output_type": "stream",
     "text": [
      "✅ Aligned bulk_1 shape: (83624, 33)\n",
      "✅ Aligned bulk_2 shape: (83624, 33)\n"
     ]
    }
   ],
   "source": [
    "bulk_1_aligned = bulk_1[bulk_1[\"SANGER_MODEL_ID\"].isin(single_cell_ids)].copy()\n",
    "bulk_2_aligned = bulk_2[bulk_2[\"SANGER_MODEL_ID\"].isin(single_cell_ids)].copy()\n",
    "\n",
    "print(f\"✅ Aligned bulk_1 shape: {bulk_1_aligned.shape}\")\n",
    "print(f\"✅ Aligned bulk_2 shape: {bulk_2_aligned.shape}\")\n"
   ]
  },
  {
   "cell_type": "code",
   "execution_count": 8,
   "id": "82414005",
   "metadata": {},
   "outputs": [
    {
     "name": "stdout",
     "output_type": "stream",
     "text": [
      "💾 Saved aligned datasets for single-cell training.\n"
     ]
    }
   ],
   "source": [
    "bulk_1_aligned.to_parquet(\"../../data/processed/bulk_30_pcs.parquet\", index=False)\n",
    "bulk_2_aligned.to_parquet(\"../../data/processed/bulk_embeddings_30_pcs.parquet\", index=False)\n",
    "\n",
    "print(\"💾 Saved aligned datasets for single-cell training.\")\n"
   ]
  }
 ],
 "metadata": {
  "kernelspec": {
   "display_name": "tese-env",
   "language": "python",
   "name": "python3"
  },
  "language_info": {
   "codemirror_mode": {
    "name": "ipython",
    "version": 3
   },
   "file_extension": ".py",
   "mimetype": "text/x-python",
   "name": "python",
   "nbconvert_exporter": "python",
   "pygments_lexer": "ipython3",
   "version": "3.10.16"
  }
 },
 "nbformat": 4,
 "nbformat_minor": 5
}
