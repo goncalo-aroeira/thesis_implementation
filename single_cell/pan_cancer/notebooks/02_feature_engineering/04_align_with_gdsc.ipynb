{
 "cells": [
  {
   "cell_type": "code",
   "execution_count": 1,
   "id": "586f1a98",
   "metadata": {},
   "outputs": [],
   "source": [
    "import pandas as pd\n"
   ]
  },
  {
   "cell_type": "code",
   "execution_count": 2,
   "id": "5676c554",
   "metadata": {},
   "outputs": [
    {
     "name": "stdout",
     "output_type": "stream",
     "text": [
      "✅ Loaded data:\n",
      "GDSC shape: (571985, 3)\n",
      "Bulk embeddings: (140, 31)\n"
     ]
    }
   ],
   "source": [
    "# Load GDSC drug response data\n",
    "gdsc_df = pd.read_parquet(\"../../../../bulk_state_of_the_art/data/processed/gdsc_final_cleaned.parquet\")\n",
    "# Load aligned bulk and SC embeddings\n",
    "df = pd.read_parquet(\"../../data/processed/pancancer_embeddings_30_pcs.parquet\")\n",
    "\n",
    "print(\"✅ Loaded data:\")\n",
    "print(\"GDSC shape:\", gdsc_df.shape)\n",
    "print(\"Bulk embeddings:\", df.shape)\n"
   ]
  },
  {
   "cell_type": "code",
   "execution_count": 3,
   "id": "bf6b7d6c",
   "metadata": {},
   "outputs": [
    {
     "name": "stdout",
     "output_type": "stream",
     "text": [
      "📌 GDSC columns: Index(['SANGER_MODEL_ID', 'DRUG_ID', 'LN_IC50'], dtype='object')\n",
      "✅ Cleaned GDSC data: (571985, 3)\n"
     ]
    }
   ],
   "source": [
    "# Preview columns\n",
    "print(\"📌 GDSC columns:\", gdsc_df.columns)\n",
    "\n",
    "# Make sure it has the required fields\n",
    "required_cols = {\"SANGER_MODEL_ID\", \"DRUG_ID\", \"LN_IC50\"}\n",
    "assert required_cols.issubset(set(gdsc_df.columns)), \"❌ GDSC dataset missing required columns!\"\n",
    "\n",
    "# Drop missing entries\n",
    "gdsc_df = gdsc_df.dropna(subset=[\"SANGER_MODEL_ID\", \"DRUG_ID\", \"LN_IC50\"])\n",
    "gdsc_df[\"SANGER_MODEL_ID\"] = gdsc_df[\"SANGER_MODEL_ID\"].astype(str)\n",
    "\n",
    "print(\"✅ Cleaned GDSC data:\", gdsc_df.shape)\n"
   ]
  },
  {
   "cell_type": "code",
   "execution_count": 4,
   "id": "7124d88c",
   "metadata": {},
   "outputs": [
    {
     "name": "stdout",
     "output_type": "stream",
     "text": [
      "✅ Merged with bulk embeddings:\n",
      "Shape: (84683, 33)\n",
      "  SANGER_MODEL_ID  DRUG_ID   LN_IC50         0         1         2         3  \\\n",
      "0       SIDM01111        1  2.033564 -2.465400  1.202431 -0.944438 -9.463418   \n",
      "1       SIDM00965        1  3.047965 -3.944899  0.260618 -0.084734 -5.278831   \n",
      "2       SIDM00921        1  3.009075 -2.428348  3.057883 -6.248041  0.675703   \n",
      "\n",
      "           4         5         6  ...        20        21        22        23  \\\n",
      "0   7.780813 -1.961875 -1.021320  ...  1.132296  4.170240 -2.783202  1.540082   \n",
      "1  11.148554 -5.640492  2.199688  ...  1.640393  0.575384 -0.514569  2.981020   \n",
      "2   0.930572 -1.085604  2.428111  ... -0.584436  0.425164  1.251663  0.168285   \n",
      "\n",
      "         24        25        26       27        28        29  \n",
      "0  2.382949  0.333869  0.671884  2.00359 -0.020226  0.290388  \n",
      "1 -0.428230 -0.465656  0.599798  0.71557 -1.602822 -0.792969  \n",
      "2  0.872158 -0.321614 -0.077460  0.06201  0.284773  0.079346  \n",
      "\n",
      "[3 rows x 33 columns]\n",
      "💾 Saved to: data/training_data_bulk.csv\n"
     ]
    }
   ],
   "source": [
    "# Merge using SANGER_MODEL_ID\n",
    "merged = gdsc_df.merge(df, on=\"SANGER_MODEL_ID\", how=\"inner\")\n",
    "\n",
    "print(\"✅ Merged with bulk embeddings:\")\n",
    "print(\"Shape:\", merged.shape)\n",
    "print(merged.head(3))\n",
    "\n",
    "# Save\n",
    "merged.to_parquet(\"../../data/processed/gdsc_pancancer_embeddings_30_pcs.parquet\", index=False)\n",
    "print(\"💾 Saved to: data/training_data_bulk.csv\")\n"
   ]
  }
 ],
 "metadata": {
  "kernelspec": {
   "display_name": "tese-env",
   "language": "python",
   "name": "python3"
  },
  "language_info": {
   "codemirror_mode": {
    "name": "ipython",
    "version": 3
   },
   "file_extension": ".py",
   "mimetype": "text/x-python",
   "name": "python",
   "nbconvert_exporter": "python",
   "pygments_lexer": "ipython3",
   "version": "3.10.16"
  }
 },
 "nbformat": 4,
 "nbformat_minor": 5
}
