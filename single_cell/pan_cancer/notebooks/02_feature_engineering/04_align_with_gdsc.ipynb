{
 "cells": [
  {
   "cell_type": "code",
   "execution_count": 7,
   "id": "586f1a98",
   "metadata": {},
   "outputs": [],
   "source": [
    "import pandas as pd\n"
   ]
  },
  {
   "cell_type": "code",
   "execution_count": 8,
   "id": "5676c554",
   "metadata": {},
   "outputs": [
    {
     "name": "stdout",
     "output_type": "stream",
     "text": [
      "✅ Loaded data:\n",
      "GDSC shape: (571985, 3)\n",
      "Bulk embeddings: (140, 30)\n"
     ]
    }
   ],
   "source": [
    "# Load GDSC drug response data\n",
    "gdsc_df = pd.read_parquet(\"../../../../bulk_state_of_the_art/data/processed/gdsc_final_cleaned.parquet\")\n",
    "# Load aligned bulk and SC embeddings\n",
    "df = pd.read_parquet(\"../../data/processed/pancancer_scran_norm_top8000_30_pcs.parquet\")\n",
    "\n",
    "print(\"✅ Loaded data:\")\n",
    "print(\"GDSC shape:\", gdsc_df.shape)\n",
    "print(\"Bulk embeddings:\", df.shape)\n"
   ]
  },
  {
   "cell_type": "code",
   "execution_count": 9,
   "id": "bf6b7d6c",
   "metadata": {},
   "outputs": [
    {
     "name": "stdout",
     "output_type": "stream",
     "text": [
      "📌 GDSC columns: Index(['SANGER_MODEL_ID', 'DRUG_ID', 'LN_IC50'], dtype='object')\n",
      "✅ Cleaned GDSC data: (571985, 3)\n"
     ]
    }
   ],
   "source": [
    "# Preview columns\n",
    "print(\"📌 GDSC columns:\", gdsc_df.columns)\n",
    "\n",
    "# Make sure it has the required fields\n",
    "required_cols = {\"SANGER_MODEL_ID\", \"DRUG_ID\", \"LN_IC50\"}\n",
    "assert required_cols.issubset(set(gdsc_df.columns)), \"❌ GDSC dataset missing required columns!\"\n",
    "\n",
    "# Drop missing entries\n",
    "gdsc_df = gdsc_df.dropna(subset=[\"SANGER_MODEL_ID\", \"DRUG_ID\", \"LN_IC50\"])\n",
    "gdsc_df[\"SANGER_MODEL_ID\"] = gdsc_df[\"SANGER_MODEL_ID\"].astype(str)\n",
    "\n",
    "print(\"✅ Cleaned GDSC data:\", gdsc_df.shape)\n"
   ]
  },
  {
   "cell_type": "code",
   "execution_count": 10,
   "id": "7124d88c",
   "metadata": {},
   "outputs": [
    {
     "name": "stdout",
     "output_type": "stream",
     "text": [
      "✅ Merged with bulk embeddings:\n",
      "Shape: (84683, 33)\n",
      "  SANGER_MODEL_ID  DRUG_ID   LN_IC50        PC1        PC2        PC3  \\\n",
      "0       SIDM01111        1  2.033564  14.349047 -15.438894 -16.920568   \n",
      "1       SIDM00965        1  3.047965 -26.882206 -15.254739   0.895702   \n",
      "2       SIDM00921        1  3.009075  -1.564049  11.030488 -13.788393   \n",
      "\n",
      "         PC4        PC5        PC6        PC7  ...       PC21       PC22  \\\n",
      "0  -6.622880 -45.079546  -4.714353  16.416442  ...   4.665252   4.232623   \n",
      "1   3.618226 -35.574114 -10.524117  22.682785  ... -15.790137 -10.618848   \n",
      "2  28.695032 -28.532984   6.682863  -0.432798  ...   8.170706  -0.438329   \n",
      "\n",
      "        PC23       PC24       PC25      PC26       PC27      PC28      PC29  \\\n",
      "0  23.387031  -2.679159   3.743278 -0.291716  -9.571731  9.949305  6.658633   \n",
      "1   5.793209  -8.035947 -14.255610 -3.835953  12.236363  2.128316 -1.957364   \n",
      "2   4.870733 -12.646082  -9.495665 -4.453162   6.780867 -1.465400  2.992637   \n",
      "\n",
      "        PC30  \n",
      "0  -2.719322  \n",
      "1  -4.302561  \n",
      "2  12.415980  \n",
      "\n",
      "[3 rows x 33 columns]\n",
      "💾 Saved to: data/training_data_bulk.csv\n"
     ]
    }
   ],
   "source": [
    "# Merge using SANGER_MODEL_ID\n",
    "merged = gdsc_df.merge(df, on=\"SANGER_MODEL_ID\", how=\"inner\")\n",
    "\n",
    "print(\"✅ Merged with bulk embeddings:\")\n",
    "print(\"Shape:\", merged.shape)\n",
    "print(merged.head(3))\n",
    "\n",
    "# Save\n",
    "merged.to_parquet(\"../../data/processed/gdsc_pancancer_scran_norm_top8000_30_pcs.parquet\", index=False)\n",
    "print(\"💾 Saved to: data/training_data_bulk.csv\")\n"
   ]
  }
 ],
 "metadata": {
  "kernelspec": {
   "display_name": "tese-env",
   "language": "python",
   "name": "python3"
  },
  "language_info": {
   "codemirror_mode": {
    "name": "ipython",
    "version": 3
   },
   "file_extension": ".py",
   "mimetype": "text/x-python",
   "name": "python",
   "nbconvert_exporter": "python",
   "pygments_lexer": "ipython3",
   "version": "3.10.16"
  }
 },
 "nbformat": 4,
 "nbformat_minor": 5
}
