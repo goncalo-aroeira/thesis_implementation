{
 "cells": [
  {
   "cell_type": "code",
   "execution_count": 5,
   "id": "586f1a98",
   "metadata": {},
   "outputs": [],
   "source": [
    "import pandas as pd\n"
   ]
  },
  {
   "cell_type": "code",
   "execution_count": 6,
   "id": "5676c554",
   "metadata": {},
   "outputs": [
    {
     "name": "stdout",
     "output_type": "stream",
     "text": [
      "✅ Loaded data:\n",
      "GDSC shape: (571985, 3)\n",
      "Bulk embeddings: (140, 30)\n"
     ]
    }
   ],
   "source": [
    "# Load GDSC drug response data\n",
    "gdsc_df = pd.read_parquet(\"../../../../bulk_state_of_the_art/data/processed/gdsc_final_cleaned.parquet\")\n",
    "# Load aligned bulk and SC embeddings\n",
    "df = pd.read_csv(\"../../data/processed/pancancer_embeddings_30_pcs.csv\", index_col=0)\n",
    "\n",
    "print(\"✅ Loaded data:\")\n",
    "print(\"GDSC shape:\", gdsc_df.shape)\n",
    "print(\"Bulk embeddings:\", df.shape)\n"
   ]
  },
  {
   "cell_type": "code",
   "execution_count": 7,
   "id": "bf6b7d6c",
   "metadata": {},
   "outputs": [
    {
     "name": "stdout",
     "output_type": "stream",
     "text": [
      "📌 GDSC columns: Index(['SANGER_MODEL_ID', 'DRUG_ID', 'LN_IC50'], dtype='object')\n",
      "✅ Cleaned GDSC data: (571985, 3)\n"
     ]
    }
   ],
   "source": [
    "# Preview columns\n",
    "print(\"📌 GDSC columns:\", gdsc_df.columns)\n",
    "\n",
    "# Make sure it has the required fields\n",
    "required_cols = {\"SANGER_MODEL_ID\", \"DRUG_ID\", \"LN_IC50\"}\n",
    "assert required_cols.issubset(set(gdsc_df.columns)), \"❌ GDSC dataset missing required columns!\"\n",
    "\n",
    "# Drop missing entries\n",
    "gdsc_df = gdsc_df.dropna(subset=[\"SANGER_MODEL_ID\", \"DRUG_ID\", \"LN_IC50\"])\n",
    "gdsc_df[\"SANGER_MODEL_ID\"] = gdsc_df[\"SANGER_MODEL_ID\"].astype(str)\n",
    "\n",
    "print(\"✅ Cleaned GDSC data:\", gdsc_df.shape)\n"
   ]
  },
  {
   "cell_type": "code",
   "execution_count": 8,
   "id": "7124d88c",
   "metadata": {},
   "outputs": [
    {
     "name": "stdout",
     "output_type": "stream",
     "text": [
      "✅ Merged with bulk embeddings:\n",
      "Shape: (84683, 33)\n",
      "  SANGER_MODEL_ID  DRUG_ID   LN_IC50       PC1       PC2        PC3       PC4  \\\n",
      "0       SIDM01111        1  2.033564 -5.927806  2.096332 -12.498588  6.431199   \n",
      "1       SIDM00965        1  3.047965 -6.875136  2.150296 -11.770959  2.239541   \n",
      "2       SIDM00921        1  3.009075 -4.583251 -3.857921  -3.565151  5.554976   \n",
      "\n",
      "         PC5       PC6       PC7  ...      PC21      PC22      PC23      PC24  \\\n",
      "0 -11.229197 -0.144861 -7.687607  ... -1.172920 -3.893046  1.233242 -0.689263   \n",
      "1  -4.746090 -6.712371 -4.839766  ...  0.812725 -0.839441  0.278099 -1.440266   \n",
      "2   2.155770  2.658704 -5.520007  ... -0.692494  2.679631  1.143657  1.657525   \n",
      "\n",
      "       PC25      PC26      PC27      PC28      PC29      PC30  \n",
      "0 -0.280161 -0.979857  0.066761 -0.991211  2.449783 -1.100517  \n",
      "1  1.127867  0.496000  0.403855 -0.737856  0.576991 -0.337974  \n",
      "2  0.374371  0.350960  0.499228  0.249566 -0.499244  0.014701  \n",
      "\n",
      "[3 rows x 33 columns]\n",
      "💾 Saved to: data/training_data_bulk.csv\n"
     ]
    }
   ],
   "source": [
    "# Merge using SANGER_MODEL_ID\n",
    "merged = gdsc_df.merge(df, on=\"SANGER_MODEL_ID\", how=\"inner\")\n",
    "\n",
    "print(\"✅ Merged with bulk embeddings:\")\n",
    "print(\"Shape:\", merged.shape)\n",
    "print(merged.head(3))\n",
    "\n",
    "# Save\n",
    "merged.to_parquet(\"../../data/processed/gdsc_pancancer_embeddings_30_pcs.parquet\", index=False)\n",
    "print(\"💾 Saved to: data/training_data_bulk.csv\")\n"
   ]
  }
 ],
 "metadata": {
  "kernelspec": {
   "display_name": "tese-env",
   "language": "python",
   "name": "python3"
  },
  "language_info": {
   "codemirror_mode": {
    "name": "ipython",
    "version": 3
   },
   "file_extension": ".py",
   "mimetype": "text/x-python",
   "name": "python",
   "nbconvert_exporter": "python",
   "pygments_lexer": "ipython3",
   "version": "3.10.16"
  }
 },
 "nbformat": 4,
 "nbformat_minor": 5
}
