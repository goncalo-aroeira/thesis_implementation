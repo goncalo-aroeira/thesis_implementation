{
 "cells": [
  {
   "cell_type": "code",
   "execution_count": 1,
   "id": "0cf43fe8",
   "metadata": {},
   "outputs": [
    {
     "name": "stdout",
     "output_type": "stream",
     "text": [
      "✅ Filtered growth dataset shape: (148, 7)\n"
     ]
    }
   ],
   "source": [
    "import pandas as pd\n",
    "\n",
    "# Load used model IDs\n",
    "bulk_all = pd.read_csv(\"../../data/processed/pancancer_embeddings_30_pcs.csv\")\n",
    "used_models = bulk_all[\"SANGER_MODEL_ID\"].unique()\n",
    "\n",
    "# Load growth dataset\n",
    "growth_df = pd.read_csv(\"../../data/original/growth_rate.csv\")\n",
    "\n",
    "# Clean + Filter to used models\n",
    "growth_df = growth_df[growth_df[\"model_id\"].isin(used_models)].copy()\n",
    "growth_df[\"day4_day1_ratio\"] = pd.to_numeric(growth_df[\"day4_day1_ratio\"], errors=\"coerce\")\n",
    "\n",
    "print(f\"✅ Filtered growth dataset shape: {growth_df.shape}\")\n"
   ]
  },
  {
   "cell_type": "code",
   "execution_count": 2,
   "id": "4f737deb",
   "metadata": {},
   "outputs": [
    {
     "name": "stdout",
     "output_type": "stream",
     "text": [
      "✅ Cleaned growth rate shape: (138, 2)\n"
     ]
    },
    {
     "data": {
      "text/html": [
       "<div>\n",
       "<style scoped>\n",
       "    .dataframe tbody tr th:only-of-type {\n",
       "        vertical-align: middle;\n",
       "    }\n",
       "\n",
       "    .dataframe tbody tr th {\n",
       "        vertical-align: top;\n",
       "    }\n",
       "\n",
       "    .dataframe thead th {\n",
       "        text-align: right;\n",
       "    }\n",
       "</style>\n",
       "<table border=\"1\" class=\"dataframe\">\n",
       "  <thead>\n",
       "    <tr style=\"text-align: right;\">\n",
       "      <th></th>\n",
       "      <th>SANGER_MODEL_ID</th>\n",
       "      <th>day4_day1_ratio</th>\n",
       "    </tr>\n",
       "  </thead>\n",
       "  <tbody>\n",
       "    <tr>\n",
       "      <th>0</th>\n",
       "      <td>SIDM00078</td>\n",
       "      <td>3.46</td>\n",
       "    </tr>\n",
       "    <tr>\n",
       "      <th>1</th>\n",
       "      <td>SIDM00080</td>\n",
       "      <td>1.99</td>\n",
       "    </tr>\n",
       "    <tr>\n",
       "      <th>2</th>\n",
       "      <td>SIDM00082</td>\n",
       "      <td>0.98</td>\n",
       "    </tr>\n",
       "    <tr>\n",
       "      <th>3</th>\n",
       "      <td>SIDM00088</td>\n",
       "      <td>2.18</td>\n",
       "    </tr>\n",
       "    <tr>\n",
       "      <th>4</th>\n",
       "      <td>SIDM00092</td>\n",
       "      <td>1.83</td>\n",
       "    </tr>\n",
       "  </tbody>\n",
       "</table>\n",
       "</div>"
      ],
      "text/plain": [
       "  SANGER_MODEL_ID  day4_day1_ratio\n",
       "0       SIDM00078             3.46\n",
       "1       SIDM00080             1.99\n",
       "2       SIDM00082             0.98\n",
       "3       SIDM00088             2.18\n",
       "4       SIDM00092             1.83"
      ]
     },
     "execution_count": 2,
     "metadata": {},
     "output_type": "execute_result"
    }
   ],
   "source": [
    "# Prioritize higher replicates and keep best per model\n",
    "growth_cleaned = (\n",
    "    growth_df.sort_values(\"replicates\", ascending=False)\n",
    "    .groupby(\"model_id\")[\"day4_day1_ratio\"]\n",
    "    .first()\n",
    "    .reset_index()\n",
    "    .rename(columns={\"model_id\": \"SANGER_MODEL_ID\"})\n",
    ")\n",
    "\n",
    "print(f\"✅ Cleaned growth rate shape: {growth_cleaned.shape}\")\n",
    "growth_cleaned.head()\n"
   ]
  },
  {
   "cell_type": "code",
   "execution_count": 3,
   "id": "a3eb1f22",
   "metadata": {},
   "outputs": [
    {
     "name": "stdout",
     "output_type": "stream",
     "text": [
      "📁 Saved growth rate features to: feature_engineering/processed_growth_day4_ratio.csv\n"
     ]
    }
   ],
   "source": [
    "import os\n",
    "os.makedirs(\"feature_engineering\", exist_ok=True)\n",
    "\n",
    "output_path = \"feature_engineering/processed_growth_day4_ratio.csv\"\n",
    "growth_cleaned.to_csv(output_path, index=False)\n",
    "\n",
    "print(f\"📁 Saved growth rate features to: {output_path}\")\n"
   ]
  }
 ],
 "metadata": {
  "kernelspec": {
   "display_name": "tese-env",
   "language": "python",
   "name": "python3"
  },
  "language_info": {
   "codemirror_mode": {
    "name": "ipython",
    "version": 3
   },
   "file_extension": ".py",
   "mimetype": "text/x-python",
   "name": "python",
   "nbconvert_exporter": "python",
   "pygments_lexer": "ipython3",
   "version": "3.10.16"
  }
 },
 "nbformat": 4,
 "nbformat_minor": 5
}
