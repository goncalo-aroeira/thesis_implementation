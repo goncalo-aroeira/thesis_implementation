{
 "cells": [
  {
   "cell_type": "markdown",
   "id": "32dc2579",
   "metadata": {},
   "source": [
    "# Step 10: Align Pan-Cancer Cell Lines with GDSC\n",
    "\n",
    "In this notebook, we map cell line names from the Pan-Cancer single-cell dataset to SANGER_MODEL_IDs from GDSC using a provided lookup table, and filter out unmapped cells.\n"
   ]
  },
  {
   "cell_type": "markdown",
   "id": "afe28324",
   "metadata": {},
   "source": [
    "## 10.1 Load Data and Cell Line Mapping\n"
   ]
  },
  {
   "cell_type": "code",
   "execution_count": 1,
   "id": "5d6e6b0b",
   "metadata": {},
   "outputs": [
    {
     "name": "stdout",
     "output_type": "stream",
     "text": [
      "✅ Loaded mapping_df and adata\n",
      "Mapping sample:\n",
      "  SANGER_MODEL_ID CELL_LINE_NAME\n",
      "0       SIDM00853            GCT\n",
      "1       SIDM00567         ONS-76\n",
      "2       SIDM00042            PL4\n",
      "3       SIDM00455     PA-TU-8902\n",
      "4       SIDM00881        HCC1428\n",
      "AnnData shape: (56970, 30314)\n"
     ]
    }
   ],
   "source": [
    "import pandas as pd\n",
    "import scanpy as sc\n",
    "\n",
    "# Load processed AnnData object\n",
    "adata = sc.read(\"../../data/pancancer_dimred.h5ad\")\n",
    "\n",
    "# Load cell line mapping file\n",
    "mapping_df = pd.read_csv(\"../../data/cell_sanger_map.csv\").drop_duplicates()\n",
    "mapping_df.columns = ['SANGER_MODEL_ID', 'CELL_LINE_NAME']\n",
    "\n",
    "print(\"✅ Loaded mapping_df and adata\")\n",
    "print(\"Mapping sample:\")\n",
    "print(mapping_df.head())\n",
    "print(\"AnnData shape:\", adata.shape)\n"
   ]
  },
  {
   "cell_type": "markdown",
   "id": "e71a26f8",
   "metadata": {},
   "source": [
    "## 10.2 Extract and Normalize Cell Line Names\n"
   ]
  },
  {
   "cell_type": "code",
   "execution_count": 2,
   "id": "c52f4202",
   "metadata": {},
   "outputs": [
    {
     "name": "stdout",
     "output_type": "stream",
     "text": [
      "✅ Extracted and normalized cell line names from adata.obs\n",
      "Unique normalized cell lines (first 10): ['NCIH2126' 'SW579' 'C32' 'NCIH446' 'HEC251' 'MFE319' 'SKNAS' 'NCIH2452'\n",
      " 'COLO741' 'WM88']\n"
     ]
    }
   ],
   "source": [
    "# Extract prefix (cell line) from barcode\n",
    "adata.obs['cell_line'] = adata.obs.index.str.split('_').str[0]\n",
    "\n",
    "# Normalize: remove dashes and uppercase\n",
    "adata.obs['cell_line_norm'] = adata.obs['cell_line'].str.replace('-', '', regex=False).str.upper()\n",
    "\n",
    "print(\"✅ Extracted and normalized cell line names from adata.obs\")\n",
    "print(\"Unique normalized cell lines (first 10):\", adata.obs['cell_line_norm'].unique()[:10])\n"
   ]
  },
  {
   "cell_type": "code",
   "execution_count": 3,
   "id": "118d57ee",
   "metadata": {},
   "outputs": [],
   "source": [
    "## 10.3 Normalize Mapping File and Apply Mapping\n"
   ]
  },
  {
   "cell_type": "code",
   "execution_count": 4,
   "id": "71a42924",
   "metadata": {},
   "outputs": [
    {
     "name": "stdout",
     "output_type": "stream",
     "text": [
      "✅ Mapped cell lines to SIDM codes\n",
      "                        cell_line cell_line_norm       SIDM\n",
      "NCIH2126_LUNG            NCIH2126       NCIH2126        NaN\n",
      "SW579_THYROID               SW579          SW579        NaN\n",
      "C32_SKIN                      C32            C32  SIDM00890\n",
      "NCIH446_LUNG              NCIH446        NCIH446  SIDM00965\n",
      "HEC251_ENDOMETRIUM         HEC251         HEC251        NaN\n",
      "MFE319_ENDOMETRIUM         MFE319         MFE319  SIDM00333\n",
      "SKNAS_AUTONOMIC_GANGLIA     SKNAS          SKNAS  SIDM01101\n",
      "NCIH2452_PLEURA          NCIH2452       NCIH2452  SIDM00722\n",
      "COLO741_SKIN              COLO741        COLO741        NaN\n",
      "WM88_SKIN                    WM88           WM88        NaN\n"
     ]
    }
   ],
   "source": [
    "# Normalize mapping file\n",
    "mapping_df['CELL_LINE_NAME_NORM'] = mapping_df['CELL_LINE_NAME'].str.replace('-', '', regex=False).str.upper()\n",
    "\n",
    "# Map normalized names to SIDM\n",
    "name_to_sidm = dict(zip(mapping_df['CELL_LINE_NAME_NORM'], mapping_df['SANGER_MODEL_ID']))\n",
    "adata.obs['SIDM'] = adata.obs['cell_line_norm'].map(name_to_sidm)\n",
    "\n",
    "# Preview mapping results\n",
    "print(\"✅ Mapped cell lines to SIDM codes\")\n",
    "print(adata.obs[['cell_line', 'cell_line_norm', 'SIDM']].drop_duplicates().head(10))\n"
   ]
  },
  {
   "cell_type": "markdown",
   "id": "230e345d",
   "metadata": {},
   "source": [
    "## 10.4 Filter Unmapped Cells\n"
   ]
  },
  {
   "cell_type": "code",
   "execution_count": 5,
   "id": "21147912",
   "metadata": {},
   "outputs": [
    {
     "name": "stdout",
     "output_type": "stream",
     "text": [
      "❗ Unmapped cell lines: ['NCIH2126' 'SW579' 'HEC251' 'COLO741' 'WM88' 'SNU899' 'HEC108' 'SNU308'\n",
      " 'TM31' 'KPNSI9S' 'BICR18' 'SQ1' 'BICR6' 'SH10TC' 'UMUC1' 'CCFSTTG1' 'TEN'\n",
      " 'RERFLCAD1' 'COV434' 'SNU1079' 'YD38' 'JHOC5' 'PANC1' 'VMCUB1' 'SNU1077'\n",
      " 'LI7' 'ACCMESO1' 'HMC18' 'SNU1076' 'EFE184' 'PECAPJ49' 'BICR56' 'PK59'\n",
      " 'HUH6' 'HS852T' 'LMSU' 'SNUC4' 'OVSAHO' 'GOS3' 'SNU738' 'PATU8988S'\n",
      " 'HEC59' 'HS729' 'KPL1' 'NCIH2077' 'KMRC3' 'CL34' 'ZR751' 'PK45H'\n",
      " 'RERFLCAI' 'SNU1196' 'OUMS23' 'HEC151' 'NCIH1373' 'HCC56' 'BICR16' 'HEC6'\n",
      " 'SNU46' 'SNU1214' 'NCIH2073' 'ONCODG1' 'HUH28' 'TE14' 'CAKI2' 'SCC47'\n",
      " '93VU' 'JHU006']\n",
      "Total unmapped: 67\n",
      "✅ Filtered AnnData object to mapped cell lines: (39715, 30314)\n"
     ]
    }
   ],
   "source": [
    "# Identify and report unmapped lines\n",
    "unmapped = adata.obs[adata.obs['SIDM'].isna()]['cell_line'].unique()\n",
    "print(\"❗ Unmapped cell lines:\", unmapped)\n",
    "print(\"Total unmapped:\", len(unmapped))\n",
    "\n",
    "# Filter only mapped cells\n",
    "adata = adata[~adata.obs['SIDM'].isna()].copy()\n",
    "print(\"✅ Filtered AnnData object to mapped cell lines:\", adata.shape)\n"
   ]
  },
  {
   "cell_type": "markdown",
   "id": "1e85c037",
   "metadata": {},
   "source": [
    "## 10.5 Save Updated Dataset\n"
   ]
  },
  {
   "cell_type": "code",
   "execution_count": 6,
   "id": "b13f6e69",
   "metadata": {},
   "outputs": [
    {
     "name": "stdout",
     "output_type": "stream",
     "text": [
      "✅ Overwritten the original file with SIDM-enhanced metadata\n"
     ]
    }
   ],
   "source": [
    "# Save with updated metadata\n",
    "adata.write(\"../../data/pancancer_dimred.h5ad\")\n",
    "print(\"✅ Overwritten the original file with SIDM-enhanced metadata\")\n"
   ]
  }
 ],
 "metadata": {
  "kernelspec": {
   "display_name": "tese-env",
   "language": "python",
   "name": "python3"
  },
  "language_info": {
   "codemirror_mode": {
    "name": "ipython",
    "version": 3
   },
   "file_extension": ".py",
   "mimetype": "text/x-python",
   "name": "python",
   "nbconvert_exporter": "python",
   "pygments_lexer": "ipython3",
   "version": "3.10.16"
  }
 },
 "nbformat": 4,
 "nbformat_minor": 5
}
