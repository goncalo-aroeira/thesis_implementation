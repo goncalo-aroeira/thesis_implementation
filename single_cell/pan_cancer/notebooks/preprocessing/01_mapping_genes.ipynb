{
 "cells": [
  {
   "cell_type": "code",
   "execution_count": 2,
   "id": "7cd440b0",
   "metadata": {},
   "outputs": [
    {
     "name": "stdout",
     "output_type": "stream",
     "text": [
      "✅ AnnData created with shape: (56982, 30314)\n",
      "✅ Saved raw UMI data to 'pancancer_raw_umi.h5ad'\n"
     ]
    }
   ],
   "source": [
    "import pandas as pd\n",
    "import scanpy as sc\n",
    "\n",
    "# 📥 Load cleaned UMI matrix\n",
    "umi_path = \"../../data/SCP542/other/UMIcount_data.txt\"  # Update to cleaned file\n",
    "umi_df = pd.read_csv(umi_path, sep=\"\\t\", index_col=0)\n",
    "\n",
    "# 🔁 Transpose to (cells × genes) for AnnData\n",
    "umi_df = umi_df.transpose()\n",
    "\n",
    "# 🔢 Ensure numeric data\n",
    "umi_df = umi_df.apply(pd.to_numeric, errors=\"coerce\").fillna(0)\n",
    "\n",
    "# 🧬 Build AnnData object\n",
    "adata = sc.AnnData(X=umi_df.values)\n",
    "adata.obs_names = umi_df.index  # Cell barcodes\n",
    "adata.var_names = umi_df.columns  # Gene names\n",
    "\n",
    "print(\"✅ AnnData created with shape:\", adata.shape)\n",
    "\n",
    "# 💾 Save AnnData\n",
    "adata.write(\"../../data/pancancer_raw_umi.h5ad\")\n",
    "print(\"✅ Saved raw UMI data to 'pancancer_raw_umi.h5ad'\")\n"
   ]
  }
 ],
 "metadata": {
  "kernelspec": {
   "display_name": "tese-env",
   "language": "python",
   "name": "python3"
  },
  "language_info": {
   "codemirror_mode": {
    "name": "ipython",
    "version": 3
   },
   "file_extension": ".py",
   "mimetype": "text/x-python",
   "name": "python",
   "nbconvert_exporter": "python",
   "pygments_lexer": "ipython3",
   "version": "3.10.16"
  }
 },
 "nbformat": 4,
 "nbformat_minor": 5
}
