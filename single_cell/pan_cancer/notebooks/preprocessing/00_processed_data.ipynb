{
 "cells": [
  {
   "cell_type": "markdown",
   "id": "fd9231c8",
   "metadata": {},
   "source": [
    "## Step 1: Map Pan-Cancer CPM Data to GDSC Cell Lines\n",
    "We extract cell line identifiers from CPM column names, normalize them, and align them with GDSC cell lines via the SIDM mapping table.\n"
   ]
  },
  {
   "cell_type": "code",
   "execution_count": 31,
   "id": "61aa7097",
   "metadata": {},
   "outputs": [
    {
     "name": "stdout",
     "output_type": "stream",
     "text": [
      "✅ Metadata loaded: (53513, 20)\n",
      "✅ CPM matrix loaded and transposed: (53513, 22722)\n",
      "✅ GDSC mapping loaded: (978, 3)\n"
     ]
    }
   ],
   "source": [
    "import pandas as pd\n",
    "import numpy as np\n",
    "\n",
    "# === Load metadata ===\n",
    "meta = pd.read_csv(\n",
    "    \"../../data/SCP542/metadata/Metadata.txt\",\n",
    "    sep=\"\\t\",\n",
    "    index_col=0,\n",
    "    skiprows=[1],  # Skip the row with data types\n",
    "    dtype=str,\n",
    "    low_memory=False\n",
    ")\n",
    "meta.index = meta.index.str.strip()\n",
    "print(\"✅ Metadata loaded:\", meta.shape)\n",
    "\n",
    "# === Load CPM expression matrix ===\n",
    "cpm_df = pd.read_csv(\"../../data/SCP542/expression/CPM_data.txt\", sep=\"\\t\")\n",
    "\n",
    "# Rename the first column to \"GENE\" just in case, then set it as index\n",
    "cpm_df.rename(columns={cpm_df.columns[0]: \"GENE\"}, inplace=True)\n",
    "cpm_df.set_index(\"GENE\", inplace=True)\n",
    "\n",
    "# Transpose to have cells as rows, genes as columns\n",
    "cpm_t = cpm_df.T\n",
    "cpm_t.index = cpm_t.index.str.strip()\n",
    "\n",
    "print(\"✅ CPM matrix loaded and transposed:\", cpm_t.shape)\n",
    "\n",
    "\n",
    "# === Load and normalize GDSC mapping ===\n",
    "mapping_df = pd.read_csv(\"../../data/cell_sanger_map.csv\").drop_duplicates()\n",
    "mapping_df.columns = ['SANGER_MODEL_ID', 'CELL_LINE_NAME']\n",
    "mapping_df[\"CELL_LINE_NAME_NORM\"] = mapping_df[\"CELL_LINE_NAME\"].str.replace(\"-\", \"\", regex=False).str.upper()\n",
    "print(\"✅ GDSC mapping loaded:\", mapping_df.shape)\n"
   ]
  },
  {
   "cell_type": "code",
   "execution_count": 32,
   "id": "19179539",
   "metadata": {},
   "outputs": [
    {
     "name": "stdout",
     "output_type": "stream",
     "text": [
      "✅ Successfully mapped 36871 cells\n",
      "❗ Unmapped cell lines: ['NCIH2126_LUNG' 'SW579_THYROID' 'HEC251_ENDOMETRIUM' 'COLO741_SKIN'\n",
      " 'WM88_SKIN' 'SNU899_UPPER_AERODIGESTIVE_TRACT' 'HEC108_ENDOMETRIUM'\n",
      " 'SNU308_BILIARY_TRACT' 'TM31_CENTRAL_NERVOUS_SYSTEM'\n",
      " 'KPNSI9S_AUTONOMIC_GANGLIA' 'SQ1_LUNG' 'BICR6_UPPER_AERODIGESTIVE_TRACT'\n",
      " 'SH10TC_STOMACH' 'UMUC1_URINARY_TRACT' 'CCFSTTG1_CENTRAL_NERVOUS_SYSTEM'\n",
      " 'TEN_ENDOMETRIUM' 'RERFLCAD1_LUNG' 'COV434_OVARY' 'SNU1079_BILIARY_TRACT'\n",
      " 'YD38_UPPER_AERODIGESTIVE_TRACT' 'PANC1_PANCREAS' 'VMCUB1_URINARY_TRACT'\n",
      " 'JHOC5_OVARY' 'SNU1077_ENDOMETRIUM' 'LI7_LIVER' 'ACCMESO1_PLEURA'\n",
      " 'HMC18_BREAST' 'EFE184_ENDOMETRIUM' 'PECAPJ49_UPPER_AERODIGESTIVE_TRACT'\n",
      " 'BICR56_UPPER_AERODIGESTIVE_TRACT' 'PK59_PANCREAS' 'HUH6_LIVER'\n",
      " 'HS852T_SKIN' 'LMSU_STOMACH' 'SNUC4_LARGE_INTESTINE' 'OVSAHO_OVARY'\n",
      " 'GOS3_CENTRAL_NERVOUS_SYSTEM' 'SNU738_CENTRAL_NERVOUS_SYSTEM'\n",
      " 'PATU8988S_PANCREAS' 'HEC59_ENDOMETRIUM' 'HS729_SOFT_TISSUE'\n",
      " 'KPL1_BREAST' 'NCIH2077_LUNG' 'KMRC3_KIDNEY' 'ZR751_BREAST'\n",
      " 'CL34_LARGE_INTESTINE' 'PK45H_PANCREAS' 'RERFLCAI_LUNG'\n",
      " 'SNU1196_BILIARY_TRACT' 'OUMS23_LARGE_INTESTINE' 'HEC151_ENDOMETRIUM'\n",
      " 'NCIH1373_LUNG' 'HCC56_LARGE_INTESTINE'\n",
      " 'BICR16_UPPER_AERODIGESTIVE_TRACT' 'HEC6_ENDOMETRIUM'\n",
      " 'SNU46_UPPER_AERODIGESTIVE_TRACT' 'SNU1214_UPPER_AERODIGESTIVE_TRACT'\n",
      " 'NCIH2073_LUNG' 'ONCODG1_OVARY' 'HUH28_BILIARY_TRACT' 'TE14_OESOPHAGUS'\n",
      " 'CAKI2_KIDNEY' 'SCC47_UPPER_AERODIGESTIVE_TRACT'\n",
      " '93VU_UPPER_AERODIGESTIVE_TRACT' 'JHU006_UPPER_AERODIGESTIVE_TRACT']\n"
     ]
    }
   ],
   "source": [
    "# Normalize metadata cell line names\n",
    "meta[\"cell_line_clean\"] = meta[\"Cell_line\"].str.split(\"_\").str[0]\n",
    "meta[\"cell_line_norm\"] = meta[\"cell_line_clean\"].str.replace(\"-\", \"\", regex=False).str.upper()\n",
    "\n",
    "# Map to SIDM using GDSC mapping\n",
    "name_to_sidm = dict(zip(mapping_df[\"CELL_LINE_NAME_NORM\"], mapping_df[\"SANGER_MODEL_ID\"]))\n",
    "meta[\"SIDM\"] = meta[\"cell_line_norm\"].map(name_to_sidm)\n",
    "\n",
    "# Print mapping results\n",
    "mapped = meta[\"SIDM\"].notna().sum()\n",
    "print(f\"✅ Successfully mapped {mapped} cells\")\n",
    "print(\"❗ Unmapped cell lines:\", meta[meta[\"SIDM\"].isna()][\"Cell_line\"].unique())\n"
   ]
  },
  {
   "cell_type": "code",
   "execution_count": 33,
   "id": "6b6dca84",
   "metadata": {},
   "outputs": [
    {
     "name": "stdout",
     "output_type": "stream",
     "text": [
      "🔗 Cells in common between CPM and metadata: 53513\n",
      "✅ Joined CPM with metadata: (53513, 22723)\n",
      "✅ Filtered CPM with SIDM-mapped cells: (36871, 22723)\n"
     ]
    }
   ],
   "source": [
    "# Check overlap between CPM and metadata barcodes\n",
    "common_cells = set(cpm_t.index).intersection(set(meta.index))\n",
    "print(f\"🔗 Cells in common between CPM and metadata: {len(common_cells)}\")\n",
    "\n",
    "# Join CPM with SIDM labels\n",
    "cpm_t = cpm_t.join(meta[[\"SIDM\"]])\n",
    "print(f\"✅ Joined CPM with metadata: {cpm_t.shape}\")\n",
    "\n",
    "# Keep only rows with a valid SIDM\n",
    "cpm_t = cpm_t[cpm_t[\"SIDM\"].notna()]\n",
    "print(f\"✅ Filtered CPM with SIDM-mapped cells: {cpm_t.shape}\")\n"
   ]
  },
  {
   "cell_type": "markdown",
   "id": "411b1dcb",
   "metadata": {},
   "source": [
    "## Step 2: Generate Pseudo-Bulk Expression Profiles from CPM\n",
    "Aggregate CPM-normalized expression by `SIDM` (cell line) to simulate pseudo-bulk RNA-seq expression.\n"
   ]
  },
  {
   "cell_type": "code",
   "execution_count": 34,
   "id": "691e31e2",
   "metadata": {},
   "outputs": [
    {
     "name": "stdout",
     "output_type": "stream",
     "text": [
      "✅ Final pseudo-bulk shape: (133, 22722)\n",
      "           RP11-34P13.7  AP006222.2  RP4-669L17.10  RP4-669L17.2  \\\n",
      "SIDM                                                               \n",
      "SIDM00078      0.000000   16.509676       0.000000           0.0   \n",
      "SIDM00080      0.280949   16.679514       0.000000           0.0   \n",
      "SIDM00082      0.000000   12.877808       0.972180           0.0   \n",
      "SIDM00088      0.161733   29.311156       0.000000           0.0   \n",
      "SIDM00092      0.236158   15.777871       0.489434           0.0   \n",
      "\n",
      "           RP5-857K21.2  RP5-857K21.4  RP11-206L10.9    FAM87B  LINC00115  \\\n",
      "SIDM                                                                        \n",
      "SIDM00078           0.0           0.0       0.627544  0.000000   1.783035   \n",
      "SIDM00080           0.0           0.0       0.342141  2.095253   0.861588   \n",
      "SIDM00082           0.0           0.0       1.472128  0.000000   0.953661   \n",
      "SIDM00088           0.0           0.0       1.017598  0.000000   2.129605   \n",
      "SIDM00092           0.0           0.0       1.343699  0.000000   0.468060   \n",
      "\n",
      "             FAM41C  ...       MT-ND3     MT-ND4L        MT-ND4       MT-ND5  \\\n",
      "SIDM                 ...                                                       \n",
      "SIDM00078  3.752999  ...   926.747751   59.389440   4341.730769   907.737780   \n",
      "SIDM00080  2.337945  ...  2761.105470  168.338605   9503.198366  1664.447249   \n",
      "SIDM00082  3.181135  ...  2320.252408  129.421917   7825.096052  1191.472851   \n",
      "SIDM00088  3.799425  ...  1408.259720   93.528332   5923.826458   767.184641   \n",
      "SIDM00092  0.890077  ...  2631.381606  222.108613  12250.735753  1626.552730   \n",
      "\n",
      "               MT-ND6       MT-CYB  MGC39584  AC011043.1  AL592183.1  \\\n",
      "SIDM                                                                   \n",
      "SIDM00078  196.011187  2831.699558       0.0    3.168145    1.298435   \n",
      "SIDM00080  290.813297  7306.629772       0.0    4.948437   41.645440   \n",
      "SIDM00082  168.867719  7130.459441       0.0    2.402850   43.157981   \n",
      "SIDM00088  315.808226  2778.806156       0.0    3.830488   17.897417   \n",
      "SIDM00092   78.288002  6725.366452       0.0   12.502430    8.477780   \n",
      "\n",
      "           AL354822.1  \n",
      "SIDM                   \n",
      "SIDM00078    0.279707  \n",
      "SIDM00080    0.411757  \n",
      "SIDM00082    0.466860  \n",
      "SIDM00088    2.140760  \n",
      "SIDM00092    0.210442  \n",
      "\n",
      "[5 rows x 22722 columns]\n",
      "✅ Saved pseudo-bulk dataset to '../../data/pseudobulk_SCP542_mean.csv'\n"
     ]
    }
   ],
   "source": [
    "# Group by SIDM and compute mean expression\n",
    "pseudobulk_df = cpm_t.groupby(\"SIDM\").mean()\n",
    "\n",
    "# Preview and save\n",
    "print(\"✅ Final pseudo-bulk shape:\", pseudobulk_df.shape)\n",
    "print(pseudobulk_df.head())\n",
    "\n",
    "pseudobulk_df.to_csv(\"../../data/pseudobulk_SCP542_mean.csv\")\n",
    "print(\"✅ Saved pseudo-bulk dataset to '../../data/pseudobulk_SCP542_mean.csv'\")\n"
   ]
  }
 ],
 "metadata": {
  "kernelspec": {
   "display_name": "tese-env",
   "language": "python",
   "name": "python3"
  },
  "language_info": {
   "codemirror_mode": {
    "name": "ipython",
    "version": 3
   },
   "file_extension": ".py",
   "mimetype": "text/x-python",
   "name": "python",
   "nbconvert_exporter": "python",
   "pygments_lexer": "ipython3",
   "version": "3.10.16"
  }
 },
 "nbformat": 4,
 "nbformat_minor": 5
}
