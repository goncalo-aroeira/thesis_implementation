{
 "cells": [
  {
   "cell_type": "code",
   "execution_count": 1,
   "id": "a4a05e5d",
   "metadata": {},
   "outputs": [
    {
     "name": "stdout",
     "output_type": "stream",
     "text": [
      "✅ Matrix ready with shape: (56982, 30314)\n",
      "✅ Saved raw UMI data to '../../data/processed/pancancer_raw_umi.parquet'\n"
     ]
    }
   ],
   "source": [
    "import pandas as pd\n",
    "\n",
    "# 📥 Load cleaned UMI matrix\n",
    "umi_path = \"../../data/original/SCP542/other/UMIcount_data.txt\"  # Update to cleaned file\n",
    "umi_df = pd.read_csv(umi_path, sep=\"\\t\", index_col=0)\n",
    "\n",
    "# 🔁 Transpose to (cells × genes)\n",
    "umi_df = umi_df.transpose()\n",
    "\n",
    "# 🔢 Ensure numeric data\n",
    "umi_df = umi_df.apply(pd.to_numeric, errors=\"coerce\").fillna(0)\n",
    "\n",
    "print(\"✅ Matrix ready with shape:\", umi_df.shape)\n",
    "\n",
    "# 💾 Save as Parquet (compressed, columnar format)\n",
    "parquet_path = \"../../data/processed/pancancer_raw_umi.parquet\"\n",
    "umi_df.to_parquet(parquet_path, engine=\"pyarrow\", compression=\"snappy\")\n",
    "\n",
    "print(f\"✅ Saved raw UMI data to '{parquet_path}'\")\n"
   ]
  },
  {
   "cell_type": "code",
   "execution_count": 4,
   "id": "7cd440b0",
   "metadata": {},
   "outputs": [
    {
     "name": "stdout",
     "output_type": "stream",
     "text": [
      "✅ AnnData created with shape: (56982, 30314)\n",
      "✅ Saved raw UMI data to 'pancancer_raw_umi.h5ad'\n"
     ]
    }
   ],
   "source": [
    "import scanpy as sc\n",
    "\n",
    "# 🧬 Build AnnData object\n",
    "adata = sc.AnnData(X=umi_df.values)\n",
    "adata.obs_names = umi_df.index  # Cell barcodes\n",
    "adata.var_names = umi_df.columns  # Gene names\n",
    "\n",
    "print(\"✅ AnnData created with shape:\", adata.shape)\n",
    "\n",
    "# 💾 Save AnnData\n",
    "adata.write(\"../../data/pancancer_raw_umi.h5ad\", compression=\"gzip\")\n",
    "print(\"✅ Saved raw UMI data to 'pancancer_raw_umi.h5ad'\")\n"
   ]
  },
  {
   "cell_type": "code",
   "execution_count": 5,
   "id": "e7432847",
   "metadata": {},
   "outputs": [
    {
     "name": "stdout",
     "output_type": "stream",
     "text": [
      "✅ Filtered AnnData object to mapped cell lines: (39726, 30314)\n",
      "Unique cell lines (SANGER_MODEL_ID): 140\n",
      "✅ Saved filtered UMI AnnData to 'pancancer_raw_umi_filtered.h5ad'\n"
     ]
    }
   ],
   "source": [
    "import pandas as pd\n",
    "\n",
    "# Reload AnnData (just to be safe)\n",
    "adata = sc.read(\"../../data/pancancer_raw_umi.h5ad\")\n",
    "\n",
    "# Load mapping file\n",
    "mapping_df = pd.read_csv(\"../../data/cell_sanger_map.csv\").drop_duplicates()\n",
    "mapping_df.columns = ['SANGER_MODEL_ID', 'CELL_LINE_NAME']\n",
    "mapping_df['CELL_LINE_NAME_NORM'] = (\n",
    "    mapping_df['CELL_LINE_NAME']\n",
    "    .str.replace('-', '', regex=False)\n",
    "    .str.upper()\n",
    ")\n",
    "\n",
    "# Extract cell line from barcodes\n",
    "adata.obs['cell_line'] = adata.obs_names.str.split('_').str[0]\n",
    "adata.obs['cell_line_norm'] = adata.obs['cell_line'].str.replace('-', '', regex=False).str.upper()\n",
    "\n",
    "# Map to SANGER_MODEL_ID\n",
    "name_to_sidm = dict(zip(mapping_df['CELL_LINE_NAME_NORM'], mapping_df['SANGER_MODEL_ID']))\n",
    "adata.obs['SIDM'] = adata.obs['cell_line_norm'].map(name_to_sidm)\n",
    "\n",
    "# Filter only mapped cells\n",
    "adata = adata[~adata.obs['SIDM'].isna()].copy()\n",
    "\n",
    "print(\"✅ Filtered AnnData object to mapped cell lines:\", adata.shape)\n",
    "print(\"Unique cell lines (SANGER_MODEL_ID):\", adata.obs['SIDM'].nunique())\n",
    "\n",
    "# Save filtered dataset\n",
    "adata.write(\"../../data/pancancer_raw_umi_filtered.h5ad\", compression = \"gzip\")\n",
    "print(\"✅ Saved filtered UMI AnnData to 'pancancer_raw_umi_filtered.h5ad'\")\n"
   ]
  }
 ],
 "metadata": {
  "kernelspec": {
   "display_name": "tese-env",
   "language": "python",
   "name": "python3"
  },
  "language_info": {
   "codemirror_mode": {
    "name": "ipython",
    "version": 3
   },
   "file_extension": ".py",
   "mimetype": "text/x-python",
   "name": "python",
   "nbconvert_exporter": "python",
   "pygments_lexer": "ipython3",
   "version": "3.10.16"
  }
 },
 "nbformat": 4,
 "nbformat_minor": 5
}
