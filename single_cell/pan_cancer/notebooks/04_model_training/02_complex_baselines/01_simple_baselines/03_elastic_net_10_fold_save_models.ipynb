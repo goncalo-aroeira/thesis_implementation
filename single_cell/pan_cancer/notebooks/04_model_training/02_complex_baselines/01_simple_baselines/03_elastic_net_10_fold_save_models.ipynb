{
 "cells": [
  {
   "cell_type": "markdown",
   "metadata": {},
   "source": [
    "# Elastic Net Evaluation\n",
    "\n",
    "This notebook trains **ElasticNet regression models per drug** using gene expression features.  \n",
    "ElasticNet combines L1 (Lasso) and L2 (Ridge) regularization. We use `ElasticNetCV` to tune hyperparameters using 5-fold cross-validation.\n",
    "\n",
    "Elastic Net combines both:\n",
    "- **L1 regularization** (Lasso) → promotes sparsity\n",
    "- **L2 regularization** (Ridge) → stabilizes coefficients\n",
    "\n",
    "This allows it to both regularize and select features, making it a simple but powerful linear model.\n",
    "\n",
    "We evaluate performance using:\n",
    "- **RMSE (Root Mean Squared Error)**\n",
    "- **R² (Coefficient of Determination)**\n",
    "\n",
    "and visualize their **distribution across all drugs**.\n"
   ]
  },
  {
   "cell_type": "code",
   "execution_count": 1,
   "metadata": {},
   "outputs": [],
   "source": [
    "import os\n",
    "import joblib\n",
    "import numpy as np\n",
    "import pandas as pd\n",
    "from sklearn.linear_model import ElasticNetCV\n",
    "from sklearn.model_selection import KFold, cross_val_predict\n",
    "from sklearn.metrics import r2_score, root_mean_squared_error\n",
    "from scipy.stats import pearsonr\n",
    "import matplotlib.pyplot as plt\n",
    "import seaborn as sns\n",
    "from sklearn.preprocessing import StandardScaler\n",
    "from scipy.stats import pearsonr, spearmanr\n"
   ]
  },
  {
   "cell_type": "code",
   "execution_count": 2,
   "metadata": {},
   "outputs": [
    {
     "name": "stdout",
     "output_type": "stream",
     "text": [
      "✅ Dataset loaded: (83624, 45)\n"
     ]
    }
   ],
   "source": [
    "# Parameters\n",
    "NUM_PCS = 30\n",
    "DATA_PATH = \"../../../data/processed/gdsc_pancancer_pseudobulk_30_pcs_tissue_growth.parquet\"\n",
    "data = pd.read_parquet(DATA_PATH)\n",
    "print(\"✅ Dataset loaded:\", data.shape)\n",
    "\n",
    "SAVE_DIR = \"results/elastic_net_selected\"\n",
    "os.makedirs(SAVE_DIR, exist_ok=True)\n",
    "\n",
    "TARGET_DRUGS = [179, 1089, 2156]   # 5-FU, Oxaliplatin, 5-Azacytidine"
   ]
  },
  {
   "cell_type": "markdown",
   "metadata": {},
   "source": [
    "## 1. Compute Metrics per Drug\n",
    "\n",
    "For each drug:\n",
    "- Select only rows where that drug was tested\n",
    "- Split the data into training and test sets\n",
    "- Fit an **Elastic Net** regressor on the PCA features\n",
    "- Evaluate on test set with **RMSE** and **R²**\n",
    "\n",
    "We only include drugs with **≥ 10 samples** to ensure meaningful evaluation.\n"
   ]
  },
  {
   "cell_type": "code",
   "execution_count": 3,
   "metadata": {},
   "outputs": [
    {
     "name": "stdout",
     "output_type": "stream",
     "text": [
      "🎯 Trained ElasticNet for drug 179 | Samples: 135\n",
      "💾 Saved model → results/elastic_net_selected/EN_drug179.joblib\n",
      "🎯 Trained ElasticNet for drug 1089 | Samples: 138\n",
      "💾 Saved model → results/elastic_net_selected/EN_drug1089.joblib\n",
      "🎯 Trained ElasticNet for drug 2156 | Samples: 112\n",
      "💾 Saved model → results/elastic_net_selected/EN_drug2156.joblib\n"
     ]
    }
   ],
   "source": [
    "non_features = [\"SANGER_MODEL_ID\", \"DRUG_ID\", \"LN_IC50\"]\n",
    "gene_cols = [c for c in data.columns if c not in non_features]\n",
    "kf = KFold(n_splits=10, shuffle=True, random_state=42)\n",
    "\n",
    "for drug_id in TARGET_DRUGS:\n",
    "    df = data[data[\"DRUG_ID\"] == drug_id].dropna(subset=[\"LN_IC50\"])\n",
    "    if df.shape[0] < 50:\n",
    "        print(f\"⚠️ Skipping drug {drug_id} (only {df.shape[0]} samples)\")\n",
    "        continue\n",
    "\n",
    "    X = df[gene_cols].values.astype(\"float64\")\n",
    "    y = df[\"LN_IC50\"].values.astype(\"float64\")\n",
    "\n",
    "    scaler = StandardScaler()\n",
    "    X_scaled = scaler.fit_transform(X)\n",
    "\n",
    "    model = ElasticNetCV(\n",
    "        alphas=[0.01, 0.1, 1.0, 10.0],\n",
    "        l1_ratio=[0.1, 0.5, 0.9],\n",
    "        cv=kf,\n",
    "        max_iter=5000,\n",
    "        random_state=42,\n",
    "        n_jobs=-1\n",
    "    )\n",
    "\n",
    "    model.fit(X_scaled, y)\n",
    "    print(f\"🎯 Trained ElasticNet for drug {drug_id} | Samples: {len(df)}\")\n",
    "\n",
    "    # save model + scaler\n",
    "    fname = f\"EN_drug{drug_id}.joblib\"\n",
    "    joblib.dump((scaler, model), os.path.join(SAVE_DIR, fname))\n",
    "    print(f\"💾 Saved model → {SAVE_DIR}/{fname}\")"
   ]
  }
 ],
 "metadata": {
  "kernelspec": {
   "display_name": "tese-env",
   "language": "python",
   "name": "python3"
  },
  "language_info": {
   "codemirror_mode": {
    "name": "ipython",
    "version": 3
   },
   "file_extension": ".py",
   "mimetype": "text/x-python",
   "name": "python",
   "nbconvert_exporter": "python",
   "pygments_lexer": "ipython3",
   "version": "3.10.16"
  }
 },
 "nbformat": 4,
 "nbformat_minor": 2
}
