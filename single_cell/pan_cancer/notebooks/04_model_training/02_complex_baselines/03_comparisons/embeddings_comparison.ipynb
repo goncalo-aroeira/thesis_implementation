{
 "cells": [
  {
   "cell_type": "code",
   "execution_count": 28,
   "id": "f8fa2b01",
   "metadata": {},
   "outputs": [],
   "source": [
    "# %%\n",
    "import pandas as pd\n",
    "import seaborn as sns\n",
    "import matplotlib.pyplot as plt\n",
    "import numpy as np\n",
    "from scipy.stats import wilcoxon, ttest_rel\n",
    "\n",
    "# ---------- paths\n",
    "PATHS = {\n",
    "    \"scFoundation (Raw SC)\": \"01_simple_baselines/results/elastic_net/scfoundation_10_fold_raw_embeddings_30_pcs_tissue_growth.csv\",\n",
    "    \"scFoundation (Preproc SC)\": \"01_simple_baselines/results/elastic_net/scfoundation_10_fold_embeddings_30_pcs_tissue_growth.csv\",\n",
    "    \"scGPT (Preproc SC)\": \"01_simple_baselines/results/elastic_net/scgpt_10_fold_embeddings_30_pcs_tissue_growth.csv\",\n",
    "}\n"
   ]
  },
  {
   "cell_type": "code",
   "execution_count": 33,
   "id": "42f7135c",
   "metadata": {},
   "outputs": [
    {
     "name": "stdout",
     "output_type": "stream",
     "text": [
      "✅ combined: (1875, 7)\n"
     ]
    },
    {
     "data": {
      "application/vnd.microsoft.datawrangler.viewer.v0+json": {
       "columns": [
        {
         "name": "index",
         "rawType": "int64",
         "type": "integer"
        },
        {
         "name": "DRUG_ID",
         "rawType": "int64",
         "type": "integer"
        },
        {
         "name": "n_samples",
         "rawType": "int64",
         "type": "integer"
        },
        {
         "name": "r2_mean",
         "rawType": "float64",
         "type": "float"
        },
        {
         "name": "rmse_mean",
         "rawType": "float64",
         "type": "float"
        },
        {
         "name": "pearson_r",
         "rawType": "float64",
         "type": "float"
        },
        {
         "name": "pearson_pval",
         "rawType": "float64",
         "type": "float"
        },
        {
         "name": "Model",
         "rawType": "object",
         "type": "string"
        }
       ],
       "ref": "7f1107ca-79a2-4883-9aa8-f1a78eb92c1a",
       "rows": [
        [
         "0",
         "133",
         "132",
         "0.0621791382025286",
         "1.64083085297787",
         "0.2651187871699597",
         "0.0021250016837708",
         "scFoundation (Raw SC)"
        ],
        [
         "1",
         "134",
         "132",
         "0.0188670126145658",
         "1.894260327981372",
         "0.2144368014545154",
         "0.0135471931127881",
         "scFoundation (Raw SC)"
        ],
        [
         "2",
         "135",
         "131",
         "0.002718993427079",
         "2.606634439937349",
         "0.1889059712859664",
         "0.0307030043130469",
         "scFoundation (Raw SC)"
        ],
        [
         "3",
         "136",
         "133",
         "-0.0260475514363669",
         "1.526372602080446",
         "0.1368579499266382",
         "0.1162232764844819",
         "scFoundation (Raw SC)"
        ],
        [
         "4",
         "140",
         "133",
         "0.007955936347285",
         "1.631816523661482",
         "0.1855003555908127",
         "0.0325418887499227",
         "scFoundation (Raw SC)"
        ]
       ],
       "shape": {
        "columns": 7,
        "rows": 5
       }
      },
      "text/html": [
       "<div>\n",
       "<style scoped>\n",
       "    .dataframe tbody tr th:only-of-type {\n",
       "        vertical-align: middle;\n",
       "    }\n",
       "\n",
       "    .dataframe tbody tr th {\n",
       "        vertical-align: top;\n",
       "    }\n",
       "\n",
       "    .dataframe thead th {\n",
       "        text-align: right;\n",
       "    }\n",
       "</style>\n",
       "<table border=\"1\" class=\"dataframe\">\n",
       "  <thead>\n",
       "    <tr style=\"text-align: right;\">\n",
       "      <th></th>\n",
       "      <th>DRUG_ID</th>\n",
       "      <th>n_samples</th>\n",
       "      <th>r2_mean</th>\n",
       "      <th>rmse_mean</th>\n",
       "      <th>pearson_r</th>\n",
       "      <th>pearson_pval</th>\n",
       "      <th>Model</th>\n",
       "    </tr>\n",
       "  </thead>\n",
       "  <tbody>\n",
       "    <tr>\n",
       "      <th>0</th>\n",
       "      <td>133</td>\n",
       "      <td>132</td>\n",
       "      <td>0.062179</td>\n",
       "      <td>1.640831</td>\n",
       "      <td>0.265119</td>\n",
       "      <td>0.002125</td>\n",
       "      <td>scFoundation (Raw SC)</td>\n",
       "    </tr>\n",
       "    <tr>\n",
       "      <th>1</th>\n",
       "      <td>134</td>\n",
       "      <td>132</td>\n",
       "      <td>0.018867</td>\n",
       "      <td>1.894260</td>\n",
       "      <td>0.214437</td>\n",
       "      <td>0.013547</td>\n",
       "      <td>scFoundation (Raw SC)</td>\n",
       "    </tr>\n",
       "    <tr>\n",
       "      <th>2</th>\n",
       "      <td>135</td>\n",
       "      <td>131</td>\n",
       "      <td>0.002719</td>\n",
       "      <td>2.606634</td>\n",
       "      <td>0.188906</td>\n",
       "      <td>0.030703</td>\n",
       "      <td>scFoundation (Raw SC)</td>\n",
       "    </tr>\n",
       "    <tr>\n",
       "      <th>3</th>\n",
       "      <td>136</td>\n",
       "      <td>133</td>\n",
       "      <td>-0.026048</td>\n",
       "      <td>1.526373</td>\n",
       "      <td>0.136858</td>\n",
       "      <td>0.116223</td>\n",
       "      <td>scFoundation (Raw SC)</td>\n",
       "    </tr>\n",
       "    <tr>\n",
       "      <th>4</th>\n",
       "      <td>140</td>\n",
       "      <td>133</td>\n",
       "      <td>0.007956</td>\n",
       "      <td>1.631817</td>\n",
       "      <td>0.185500</td>\n",
       "      <td>0.032542</td>\n",
       "      <td>scFoundation (Raw SC)</td>\n",
       "    </tr>\n",
       "  </tbody>\n",
       "</table>\n",
       "</div>"
      ],
      "text/plain": [
       "   DRUG_ID  n_samples   r2_mean  rmse_mean  pearson_r  pearson_pval  \\\n",
       "0      133        132  0.062179   1.640831   0.265119      0.002125   \n",
       "1      134        132  0.018867   1.894260   0.214437      0.013547   \n",
       "2      135        131  0.002719   2.606634   0.188906      0.030703   \n",
       "3      136        133 -0.026048   1.526373   0.136858      0.116223   \n",
       "4      140        133  0.007956   1.631817   0.185500      0.032542   \n",
       "\n",
       "                   Model  \n",
       "0  scFoundation (Raw SC)  \n",
       "1  scFoundation (Raw SC)  \n",
       "2  scFoundation (Raw SC)  \n",
       "3  scFoundation (Raw SC)  \n",
       "4  scFoundation (Raw SC)  "
      ]
     },
     "execution_count": 33,
     "metadata": {},
     "output_type": "execute_result"
    }
   ],
   "source": [
    "# %%\n",
    "def load_results(path, label):\n",
    "    df = pd.read_csv(path)\n",
    "    # Normalize column names\n",
    "    df.rename(columns=lambda c: c.strip().replace(\"²\", \"^2\"), inplace=True)\n",
    "    if \"r2_mean\" not in df.columns and \"r2_global\" in df.columns:\n",
    "        df = df.rename(columns={\"r2_global\":\"r2_mean\", \"rmse\":\"rmse_mean\"})\n",
    "    needed = {\"DRUG_ID\",\"n_samples\",\"r2_mean\",\"rmse_mean\",\"pearson_r\",\"pearson_pval\"}\n",
    "    missing = sorted(list(needed - set(df.columns)))\n",
    "    if missing:\n",
    "        raise ValueError(f\"Missing columns in {path}: {missing}\")\n",
    "    df[\"Model\"] = label\n",
    "    return df[[\"DRUG_ID\",\"n_samples\",\"r2_mean\",\"rmse_mean\",\"pearson_r\",\"pearson_pval\",\"Model\"]]\n",
    "\n",
    "frames = [load_results(p, m) for m,p in PATHS.items()]\n",
    "all_df = pd.concat(frames, ignore_index=True)\n",
    "print(\"✅ combined:\", all_df.shape)\n",
    "all_df.head()\n"
   ]
  },
  {
   "cell_type": "code",
   "execution_count": 34,
   "id": "3b695f0b",
   "metadata": {},
   "outputs": [
    {
     "data": {
      "image/png": "[encoded data removed]",
      "text/plain": [
       "<Figure size 750x400 with 1 Axes>"
      ]
     },
     "metadata": {},
     "output_type": "display_data"
    },
    {
     "data": {
      "image/png": "[encoded data removed]",
      "text/plain": [
       "<Figure size 750x400 with 1 Axes>"
      ]
     },
     "metadata": {},
     "output_type": "display_data"
    },
    {
     "data": {
      "image/png": "[encoded data removed]",
      "text/plain": [
       "<Figure size 750x400 with 1 Axes>"
      ]
     },
     "metadata": {},
     "output_type": "display_data"
    }
   ],
   "source": [
    "# %%\n",
    "def nice_boxplot(df, x, title):\n",
    "    fig, ax = plt.subplots(figsize=(7.5, 4))\n",
    "    sns.boxplot(\n",
    "        data=df, x=x, y=\"Model\", hue=\"Model\",\n",
    "        palette=\"muted\", showfliers=False, dodge=False, ax=ax,\n",
    "        boxprops=dict(linewidth=0.8),\n",
    "        whiskerprops=dict(linewidth=0.8),\n",
    "        capprops=dict(linewidth=0.8),\n",
    "        medianprops=dict(linewidth=1.0),\n",
    "    )\n",
    "    ax.set_title(title, fontsize=12)\n",
    "    ax.xaxis.set_label_position('top')\n",
    "    ax.set_xlabel({\"r2_mean\":\"R²\", \"rmse_mean\":\"RMSE\", \"pearson_r\":\"Pearson r\"}[x],\n",
    "                   fontsize=10, labelpad=2)\n",
    "    ax.set_ylabel(\"\")\n",
    "    ax.legend([],[], frameon=False)  # remove redundant legend\n",
    "    for sp in ax.spines.values(): sp.set_linewidth(0.8)\n",
    "    ax.tick_params(axis=\"both\", labelsize=9, width=0.8, length=3, pad=2)\n",
    "    ax.grid(axis=\"x\", linestyle=\"--\", alpha=0.5, linewidth=0.5)\n",
    "    plt.tight_layout(); plt.show()\n",
    "\n",
    "nice_boxplot(all_df, \"r2_mean\",    \"R² Distribution (Elastic Net, 10-fold CV)\")\n",
    "nice_boxplot(all_df, \"rmse_mean\",  \"RMSE Distribution (Elastic Net, 10-fold CV)\")\n",
    "nice_boxplot(all_df, \"pearson_r\",  \"Pearson r Distribution (Elastic Net, 10-fold CV)\")\n"
   ]
  },
  {
   "cell_type": "code",
   "execution_count": 35,
   "id": "dae576e7",
   "metadata": {},
   "outputs": [
    {
     "data": {
      "application/vnd.microsoft.datawrangler.viewer.v0+json": {
       "columns": [
        {
         "name": "index",
         "rawType": "int64",
         "type": "integer"
        },
        {
         "name": "metric",
         "rawType": "object",
         "type": "string"
        },
        {
         "name": "Model",
         "rawType": "object",
         "type": "string"
        },
        {
         "name": "N",
         "rawType": "int64",
         "type": "integer"
        },
        {
         "name": "Mean",
         "rawType": "float64",
         "type": "float"
        },
        {
         "name": "Std",
         "rawType": "float64",
         "type": "float"
        },
        {
         "name": "95% CI",
         "rawType": "float64",
         "type": "float"
        }
       ],
       "ref": "82f5ab8e-dd0c-4d97-b27e-5dfb5528491a",
       "rows": [
        [
         "0",
         "r2_mean",
         "scFoundation (Preproc SC)",
         "625",
         "0.0703",
         "0.1018",
         "0.008"
        ],
        [
         "1",
         "r2_mean",
         "scFoundation (Raw SC)",
         "625",
         "0.0554",
         "0.1113",
         "0.0087"
        ],
        [
         "2",
         "r2_mean",
         "scGPT (Preproc SC)",
         "625",
         "0.0662",
         "0.109",
         "0.0085"
        ],
        [
         "3",
         "rmse_mean",
         "scFoundation (Preproc SC)",
         "625",
         "1.1879",
         "0.3738",
         "0.0293"
        ],
        [
         "4",
         "rmse_mean",
         "scFoundation (Raw SC)",
         "625",
         "1.1969",
         "0.3765",
         "0.0295"
        ],
        [
         "5",
         "rmse_mean",
         "scGPT (Preproc SC)",
         "625",
         "1.1893",
         "0.3739",
         "0.0293"
        ],
        [
         "6",
         "pearson_r",
         "scFoundation (Preproc SC)",
         "625",
         "0.2249",
         "0.1987",
         "0.0156"
        ],
        [
         "7",
         "pearson_r",
         "scFoundation (Raw SC)",
         "625",
         "0.254",
         "0.1532",
         "0.012"
        ],
        [
         "8",
         "pearson_r",
         "scGPT (Preproc SC)",
         "625",
         "0.2136",
         "0.2087",
         "0.0164"
        ]
       ],
       "shape": {
        "columns": 6,
        "rows": 9
       }
      },
      "text/html": [
       "<div>\n",
       "<style scoped>\n",
       "    .dataframe tbody tr th:only-of-type {\n",
       "        vertical-align: middle;\n",
       "    }\n",
       "\n",
       "    .dataframe tbody tr th {\n",
       "        vertical-align: top;\n",
       "    }\n",
       "\n",
       "    .dataframe thead th {\n",
       "        text-align: right;\n",
       "    }\n",
       "</style>\n",
       "<table border=\"1\" class=\"dataframe\">\n",
       "  <thead>\n",
       "    <tr style=\"text-align: right;\">\n",
       "      <th></th>\n",
       "      <th>metric</th>\n",
       "      <th>Model</th>\n",
       "      <th>N</th>\n",
       "      <th>Mean</th>\n",
       "      <th>Std</th>\n",
       "      <th>95% CI</th>\n",
       "    </tr>\n",
       "  </thead>\n",
       "  <tbody>\n",
       "    <tr>\n",
       "      <th>0</th>\n",
       "      <td>r2_mean</td>\n",
       "      <td>scFoundation (Preproc SC)</td>\n",
       "      <td>625</td>\n",
       "      <td>0.0703</td>\n",
       "      <td>0.1018</td>\n",
       "      <td>0.0080</td>\n",
       "    </tr>\n",
       "    <tr>\n",
       "      <th>1</th>\n",
       "      <td>r2_mean</td>\n",
       "      <td>scFoundation (Raw SC)</td>\n",
       "      <td>625</td>\n",
       "      <td>0.0554</td>\n",
       "      <td>0.1113</td>\n",
       "      <td>0.0087</td>\n",
       "    </tr>\n",
       "    <tr>\n",
       "      <th>2</th>\n",
       "      <td>r2_mean</td>\n",
       "      <td>scGPT (Preproc SC)</td>\n",
       "      <td>625</td>\n",
       "      <td>0.0662</td>\n",
       "      <td>0.1090</td>\n",
       "      <td>0.0085</td>\n",
       "    </tr>\n",
       "    <tr>\n",
       "      <th>3</th>\n",
       "      <td>rmse_mean</td>\n",
       "      <td>scFoundation (Preproc SC)</td>\n",
       "      <td>625</td>\n",
       "      <td>1.1879</td>\n",
       "      <td>0.3738</td>\n",
       "      <td>0.0293</td>\n",
       "    </tr>\n",
       "    <tr>\n",
       "      <th>4</th>\n",
       "      <td>rmse_mean</td>\n",
       "      <td>scFoundation (Raw SC)</td>\n",
       "      <td>625</td>\n",
       "      <td>1.1969</td>\n",
       "      <td>0.3765</td>\n",
       "      <td>0.0295</td>\n",
       "    </tr>\n",
       "    <tr>\n",
       "      <th>5</th>\n",
       "      <td>rmse_mean</td>\n",
       "      <td>scGPT (Preproc SC)</td>\n",
       "      <td>625</td>\n",
       "      <td>1.1893</td>\n",
       "      <td>0.3739</td>\n",
       "      <td>0.0293</td>\n",
       "    </tr>\n",
       "    <tr>\n",
       "      <th>6</th>\n",
       "      <td>pearson_r</td>\n",
       "      <td>scFoundation (Preproc SC)</td>\n",
       "      <td>625</td>\n",
       "      <td>0.2249</td>\n",
       "      <td>0.1987</td>\n",
       "      <td>0.0156</td>\n",
       "    </tr>\n",
       "    <tr>\n",
       "      <th>7</th>\n",
       "      <td>pearson_r</td>\n",
       "      <td>scFoundation (Raw SC)</td>\n",
       "      <td>625</td>\n",
       "      <td>0.2540</td>\n",
       "      <td>0.1532</td>\n",
       "      <td>0.0120</td>\n",
       "    </tr>\n",
       "    <tr>\n",
       "      <th>8</th>\n",
       "      <td>pearson_r</td>\n",
       "      <td>scGPT (Preproc SC)</td>\n",
       "      <td>625</td>\n",
       "      <td>0.2136</td>\n",
       "      <td>0.2087</td>\n",
       "      <td>0.0164</td>\n",
       "    </tr>\n",
       "  </tbody>\n",
       "</table>\n",
       "</div>"
      ],
      "text/plain": [
       "      metric                      Model    N    Mean     Std  95% CI\n",
       "0    r2_mean  scFoundation (Preproc SC)  625  0.0703  0.1018  0.0080\n",
       "1    r2_mean      scFoundation (Raw SC)  625  0.0554  0.1113  0.0087\n",
       "2    r2_mean         scGPT (Preproc SC)  625  0.0662  0.1090  0.0085\n",
       "3  rmse_mean  scFoundation (Preproc SC)  625  1.1879  0.3738  0.0293\n",
       "4  rmse_mean      scFoundation (Raw SC)  625  1.1969  0.3765  0.0295\n",
       "5  rmse_mean         scGPT (Preproc SC)  625  1.1893  0.3739  0.0293\n",
       "6  pearson_r  scFoundation (Preproc SC)  625  0.2249  0.1987  0.0156\n",
       "7  pearson_r      scFoundation (Raw SC)  625  0.2540  0.1532  0.0120\n",
       "8  pearson_r         scGPT (Preproc SC)  625  0.2136  0.2087  0.0164"
      ]
     },
     "metadata": {},
     "output_type": "display_data"
    }
   ],
   "source": [
    "# %%\n",
    "def agg_stats(df, metric):\n",
    "    g = df.groupby([\"Model\"], as_index=False)[metric].agg(mean=\"mean\", std=\"std\", n=\"count\")\n",
    "    g[\"se\"] = g[\"std\"] / np.sqrt(g[\"n\"])\n",
    "    g[\"ci95\"] = 1.96 * g[\"se\"]\n",
    "    g[\"metric\"] = metric\n",
    "    return g.rename(columns={\"mean\":\"Mean\",\"std\":\"Std\",\"n\":\"N\",\"ci95\":\"95% CI\"})\n",
    "\n",
    "summary_table = pd.concat([\n",
    "    agg_stats(all_df, \"r2_mean\"),\n",
    "    agg_stats(all_df, \"rmse_mean\"),\n",
    "    agg_stats(all_df, \"pearson_r\"),\n",
    "], ignore_index=True)\n",
    "\n",
    "display(summary_table[[\"metric\",\"Model\",\"N\",\"Mean\",\"Std\",\"95% CI\"]].round(4))\n"
   ]
  },
  {
   "cell_type": "code",
   "execution_count": 36,
   "id": "665ef967",
   "metadata": {},
   "outputs": [
    {
     "data": {
      "application/vnd.microsoft.datawrangler.viewer.v0+json": {
       "columns": [
        {
         "name": "index",
         "rawType": "int64",
         "type": "integer"
        },
        {
         "name": "Model",
         "rawType": "object",
         "type": "string"
        },
        {
         "name": "% Pearson p<0.05",
         "rawType": "float64",
         "type": "float"
        },
        {
         "name": "N",
         "rawType": "int64",
         "type": "integer"
        }
       ],
       "ref": "ed6863cc-fe3f-44a2-bc8e-bebf3873a608",
       "rows": [
        [
         "0",
         "scFoundation (Preproc SC)",
         "68.5",
         "625"
        ],
        [
         "1",
         "scFoundation (Raw SC)",
         "70.1",
         "625"
        ],
        [
         "2",
         "scGPT (Preproc SC)",
         "65.4",
         "625"
        ]
       ],
       "shape": {
        "columns": 3,
        "rows": 3
       }
      },
      "text/html": [
       "<div>\n",
       "<style scoped>\n",
       "    .dataframe tbody tr th:only-of-type {\n",
       "        vertical-align: middle;\n",
       "    }\n",
       "\n",
       "    .dataframe tbody tr th {\n",
       "        vertical-align: top;\n",
       "    }\n",
       "\n",
       "    .dataframe thead th {\n",
       "        text-align: right;\n",
       "    }\n",
       "</style>\n",
       "<table border=\"1\" class=\"dataframe\">\n",
       "  <thead>\n",
       "    <tr style=\"text-align: right;\">\n",
       "      <th></th>\n",
       "      <th>Model</th>\n",
       "      <th>% Pearson p&lt;0.05</th>\n",
       "      <th>N</th>\n",
       "    </tr>\n",
       "  </thead>\n",
       "  <tbody>\n",
       "    <tr>\n",
       "      <th>0</th>\n",
       "      <td>scFoundation (Preproc SC)</td>\n",
       "      <td>68.5</td>\n",
       "      <td>625</td>\n",
       "    </tr>\n",
       "    <tr>\n",
       "      <th>1</th>\n",
       "      <td>scFoundation (Raw SC)</td>\n",
       "      <td>70.1</td>\n",
       "      <td>625</td>\n",
       "    </tr>\n",
       "    <tr>\n",
       "      <th>2</th>\n",
       "      <td>scGPT (Preproc SC)</td>\n",
       "      <td>65.4</td>\n",
       "      <td>625</td>\n",
       "    </tr>\n",
       "  </tbody>\n",
       "</table>\n",
       "</div>"
      ],
      "text/plain": [
       "                       Model  % Pearson p<0.05    N\n",
       "0  scFoundation (Preproc SC)              68.5  625\n",
       "1      scFoundation (Raw SC)              70.1  625\n",
       "2         scGPT (Preproc SC)              65.4  625"
      ]
     },
     "metadata": {},
     "output_type": "display_data"
    }
   ],
   "source": [
    "# %%\n",
    "sig_rates = (\n",
    "    all_df.assign(sig_pearson = all_df[\"pearson_pval\"] < 0.05)\n",
    "           .groupby(\"Model\")\n",
    "           .agg(pearson_rate=(\"sig_pearson\",\"mean\"),\n",
    "                N=(\"sig_pearson\",\"count\"))\n",
    "           .reset_index()\n",
    ")\n",
    "sig_rates[\"pearson_rate\"] = (100*sig_rates[\"pearson_rate\"]).round(1)\n",
    "sig_rates.rename(columns={\"pearson_rate\":\"% Pearson p<0.05\"}, inplace=True)\n",
    "display(sig_rates)\n"
   ]
  }
 ],
 "metadata": {
  "kernelspec": {
   "display_name": "tese-env",
   "language": "python",
   "name": "python3"
  },
  "language_info": {
   "codemirror_mode": {
    "name": "ipython",
    "version": 3
   },
   "file_extension": ".py",
   "mimetype": "text/x-python",
   "name": "python",
   "nbconvert_exporter": "python",
   "pygments_lexer": "ipython3",
   "version": "3.10.16"
  }
 },
 "nbformat": 4,
 "nbformat_minor": 5
}
