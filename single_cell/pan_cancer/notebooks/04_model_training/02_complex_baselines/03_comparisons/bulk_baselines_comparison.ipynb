{
 "cells": [
  {
   "cell_type": "code",
   "execution_count": 1,
   "id": "cd5e252d",
   "metadata": {},
   "outputs": [
    {
     "name": "stdout",
     "output_type": "stream",
     "text": [
      "✅ combined: (1250, 9)\n"
     ]
    },
    {
     "data": {
      "application/vnd.microsoft.datawrangler.viewer.v0+json": {
       "columns": [
        {
         "name": "index",
         "rawType": "int64",
         "type": "integer"
        },
        {
         "name": "DRUG_ID",
         "rawType": "int64",
         "type": "integer"
        },
        {
         "name": "n_samples",
         "rawType": "int64",
         "type": "integer"
        },
        {
         "name": "r2_mean",
         "rawType": "float64",
         "type": "float"
        },
        {
         "name": "rmse_mean",
         "rawType": "float64",
         "type": "float"
        },
        {
         "name": "pearson_r",
         "rawType": "float64",
         "type": "float"
        },
        {
         "name": "pearson_pval",
         "rawType": "float64",
         "type": "float"
        },
        {
         "name": "spearman_r",
         "rawType": "float64",
         "type": "float"
        },
        {
         "name": "spearman_pval",
         "rawType": "float64",
         "type": "float"
        },
        {
         "name": "Model",
         "rawType": "object",
         "type": "string"
        }
       ],
       "ref": "356fa717-6411-45ee-94f5-4b70b73efde3",
       "rows": [
        [
         "0",
         "133",
         "132",
         "0.0421697372952373",
         "1.6582429004641503",
         "0.207872631079217",
         "0.0167684043399297",
         "0.1884082169337291",
         "0.0305049151924276",
         "ElasticNet"
        ],
        [
         "1",
         "134",
         "132",
         "0.052034378518398",
         "1.8619671624453376",
         "0.2302906271021587",
         "0.0078961803105837",
         "0.2425946893604587",
         "0.0050679146817775",
         "ElasticNet"
        ],
        [
         "2",
         "135",
         "131",
         "0.0538097670882866",
         "2.538987636493854",
         "0.2462026894022461",
         "0.0045871449289202",
         "0.2691613729781669",
         "0.0018788206576443",
         "ElasticNet"
        ],
        [
         "3",
         "136",
         "133",
         "0.0164158254550327",
         "1.4944541113827208",
         "0.1733416185814206",
         "0.0460063884083107",
         "0.1395568296589506",
         "0.1091321582598143",
         "ElasticNet"
        ],
        [
         "4",
         "140",
         "133",
         "0.0494205554898257",
         "1.5973498860639737",
         "0.2223443807673642",
         "0.0101031489709672",
         "0.2139031432040073",
         "0.0134265569420983",
         "ElasticNet"
        ]
       ],
       "shape": {
        "columns": 9,
        "rows": 5
       }
      },
      "text/html": [
       "<div>\n",
       "<style scoped>\n",
       "    .dataframe tbody tr th:only-of-type {\n",
       "        vertical-align: middle;\n",
       "    }\n",
       "\n",
       "    .dataframe tbody tr th {\n",
       "        vertical-align: top;\n",
       "    }\n",
       "\n",
       "    .dataframe thead th {\n",
       "        text-align: right;\n",
       "    }\n",
       "</style>\n",
       "<table border=\"1\" class=\"dataframe\">\n",
       "  <thead>\n",
       "    <tr style=\"text-align: right;\">\n",
       "      <th></th>\n",
       "      <th>DRUG_ID</th>\n",
       "      <th>n_samples</th>\n",
       "      <th>r2_mean</th>\n",
       "      <th>rmse_mean</th>\n",
       "      <th>pearson_r</th>\n",
       "      <th>pearson_pval</th>\n",
       "      <th>spearman_r</th>\n",
       "      <th>spearman_pval</th>\n",
       "      <th>Model</th>\n",
       "    </tr>\n",
       "  </thead>\n",
       "  <tbody>\n",
       "    <tr>\n",
       "      <th>0</th>\n",
       "      <td>133</td>\n",
       "      <td>132</td>\n",
       "      <td>0.042170</td>\n",
       "      <td>1.658243</td>\n",
       "      <td>0.207873</td>\n",
       "      <td>0.016768</td>\n",
       "      <td>0.188408</td>\n",
       "      <td>0.030505</td>\n",
       "      <td>ElasticNet</td>\n",
       "    </tr>\n",
       "    <tr>\n",
       "      <th>1</th>\n",
       "      <td>134</td>\n",
       "      <td>132</td>\n",
       "      <td>0.052034</td>\n",
       "      <td>1.861967</td>\n",
       "      <td>0.230291</td>\n",
       "      <td>0.007896</td>\n",
       "      <td>0.242595</td>\n",
       "      <td>0.005068</td>\n",
       "      <td>ElasticNet</td>\n",
       "    </tr>\n",
       "    <tr>\n",
       "      <th>2</th>\n",
       "      <td>135</td>\n",
       "      <td>131</td>\n",
       "      <td>0.053810</td>\n",
       "      <td>2.538988</td>\n",
       "      <td>0.246203</td>\n",
       "      <td>0.004587</td>\n",
       "      <td>0.269161</td>\n",
       "      <td>0.001879</td>\n",
       "      <td>ElasticNet</td>\n",
       "    </tr>\n",
       "    <tr>\n",
       "      <th>3</th>\n",
       "      <td>136</td>\n",
       "      <td>133</td>\n",
       "      <td>0.016416</td>\n",
       "      <td>1.494454</td>\n",
       "      <td>0.173342</td>\n",
       "      <td>0.046006</td>\n",
       "      <td>0.139557</td>\n",
       "      <td>0.109132</td>\n",
       "      <td>ElasticNet</td>\n",
       "    </tr>\n",
       "    <tr>\n",
       "      <th>4</th>\n",
       "      <td>140</td>\n",
       "      <td>133</td>\n",
       "      <td>0.049421</td>\n",
       "      <td>1.597350</td>\n",
       "      <td>0.222344</td>\n",
       "      <td>0.010103</td>\n",
       "      <td>0.213903</td>\n",
       "      <td>0.013427</td>\n",
       "      <td>ElasticNet</td>\n",
       "    </tr>\n",
       "  </tbody>\n",
       "</table>\n",
       "</div>"
      ],
      "text/plain": [
       "   DRUG_ID  n_samples   r2_mean  rmse_mean  pearson_r  pearson_pval  \\\n",
       "0      133        132  0.042170   1.658243   0.207873      0.016768   \n",
       "1      134        132  0.052034   1.861967   0.230291      0.007896   \n",
       "2      135        131  0.053810   2.538988   0.246203      0.004587   \n",
       "3      136        133  0.016416   1.494454   0.173342      0.046006   \n",
       "4      140        133  0.049421   1.597350   0.222344      0.010103   \n",
       "\n",
       "   spearman_r  spearman_pval       Model  \n",
       "0    0.188408       0.030505  ElasticNet  \n",
       "1    0.242595       0.005068  ElasticNet  \n",
       "2    0.269161       0.001879  ElasticNet  \n",
       "3    0.139557       0.109132  ElasticNet  \n",
       "4    0.213903       0.013427  ElasticNet  "
      ]
     },
     "execution_count": 1,
     "metadata": {},
     "output_type": "execute_result"
    }
   ],
   "source": [
    "# %%\n",
    "import pandas as pd\n",
    "import seaborn as sns\n",
    "import matplotlib.pyplot as plt\n",
    "import numpy as np\n",
    "from scipy.stats import wilcoxon, ttest_rel\n",
    "\n",
    "# ---------- paths (assumes same filename in each model's results dir)\n",
    "BULK_FILE = \"voom_bulk_10_fold_30_pcs_tissue_growth.csv\"\n",
    "PATHS = {\n",
    "    \"ElasticNet\": f\"01_simple_baselines/results/elastic_net/{BULK_FILE}\",\n",
    "    \"RandomForest\": f\"02_complex_baselines/results/rf/{BULK_FILE}\",\n",
    "}\n",
    "\n",
    "def load_bulk(path, model):\n",
    "    df = pd.read_csv(path)\n",
    "    df[\"Model\"] = model\n",
    "    # Normalize column names (match previous code)\n",
    "    df.rename(columns=lambda c: c.strip().replace(\"²\", \"^2\"), inplace=True)\n",
    "    # Map r2_global/rmse -> r2_mean/rmse_mean for compatibility with plotting funcs\n",
    "    if \"r2_mean\" not in df.columns and \"r2_global\" in df.columns:\n",
    "        df = df.rename(columns={\"r2_global\":\"r2_mean\", \"rmse\":\"rmse_mean\"})\n",
    "    # Ensure expected columns exist\n",
    "    needed = {\"DRUG_ID\",\"n_samples\",\"r2_mean\",\"rmse_mean\",\"pearson_r\",\"pearson_pval\",\"Model\"}\n",
    "    missing = sorted(list(needed - set(df.columns)))\n",
    "    if missing:\n",
    "        raise ValueError(f\"Missing columns in {path}: {missing}\")\n",
    "    return df[[\"DRUG_ID\",\"n_samples\",\"r2_mean\",\"rmse_mean\",\n",
    "            \"pearson_r\",\"pearson_pval\",\n",
    "            \"spearman_r\",\"spearman_pval\",\"Model\"]]\n",
    "\n",
    "frames = [load_bulk(p, m) for m,p in PATHS.items()]\n",
    "bulk_df = pd.concat(frames, ignore_index=True)\n",
    "print(\"✅ combined:\", bulk_df.shape)\n",
    "bulk_df.head()\n"
   ]
  },
  {
   "cell_type": "code",
   "execution_count": 2,
   "id": "9bbb5ec9",
   "metadata": {},
   "outputs": [],
   "source": [
    "# %%\n",
    "pretty_map = {\"ElasticNet\":\"Elastic Net\",\"RandomForest\":\"Random Forest\"}\n",
    "df_plot = bulk_df.copy()\n",
    "df_plot[\"ModelPretty\"] = df_plot[\"Model\"].map(pretty_map)\n"
   ]
  },
  {
   "cell_type": "code",
   "execution_count": 3,
   "id": "ac3c2334",
   "metadata": {},
   "outputs": [],
   "source": [
    "# %% helpers for stats + plots\n",
    "def paired_model_tests(df, metric=\"r2_mean\"):\n",
    "    \"\"\"Paired EN vs RF per drug. Positive delta => RF better.\"\"\"\n",
    "    wide = df.pivot_table(index=\"DRUG_ID\", columns=\"Model\", values=metric, aggfunc=\"mean\").dropna()\n",
    "    if wide.empty: \n",
    "        return None\n",
    "    x, y = wide[\"RandomForest\"], wide[\"ElasticNet\"]\n",
    "    if metric in (\"r2_mean\",\"pearson_r\"):  # higher is better\n",
    "        d = x - y\n",
    "    else:  # rmse_mean: lower is better\n",
    "        d = y - x\n",
    "    n = len(d)\n",
    "    return {\n",
    "        \"n\": n,\n",
    "        \"delta_mean\": d.mean(),\n",
    "        \"delta_median\": d.median(),\n",
    "        \"win_rate\": (d > 0).mean(),  # fraction where RF wins\n",
    "        \"wilcoxon_p\": wilcoxon(d, zero_method=\"pratt\").pvalue if n>=5 else np.nan,\n",
    "        \"ttest_p\": ttest_rel(x, y, nan_policy=\"omit\").pvalue if n>=5 else np.nan\n",
    "    }\n",
    "\n",
    "def agg_stats(df, metric):\n",
    "    g = (\n",
    "        df.groupby([\"ModelPretty\"], as_index=False)[metric]\n",
    "          .agg(mean=\"mean\", std=\"std\", n=\"count\")\n",
    "    )\n",
    "    g[\"se\"] = g[\"std\"] / np.sqrt(g[\"n\"])\n",
    "    g[\"ci95\"] = 1.96 * g[\"se\"]\n",
    "    g[\"metric\"] = metric\n",
    "    return g.rename(columns={\"mean\":\"Mean\",\"std\":\"Std\",\"n\":\"N\",\"ci95\":\"95% CI\"})\n",
    "\n",
    "def nice_boxplot(df, x, title, legend_title=\"Model\"):\n",
    "    fig, ax = plt.subplots(figsize=(8, 3.6))\n",
    "    sns.boxplot(\n",
    "        data=df, x=x, y=\"ModelPretty\", hue=\"ModelPretty\",\n",
    "        palette=\"muted\", showfliers=False, dodge=False, ax=ax,\n",
    "        boxprops=dict(linewidth=0.8),\n",
    "        whiskerprops=dict(linewidth=0.8),\n",
    "        capprops=dict(linewidth=0.8),\n",
    "        medianprops=dict(linewidth=1.0),\n",
    "    )\n",
    "    # label on top to save space\n",
    "    ax.set_title(title, fontsize=12)\n",
    "    ax.xaxis.set_label_position('top')\n",
    "    ax.set_xlabel({\"r2_mean\":\"R²\", \"rmse_mean\":\"RMSE\"}.get(x, x), fontsize=10, labelpad=2)\n",
    "    ax.set_ylabel(\"\")\n",
    "\n",
    "    # slim legend (reuse handles/labels, set outside)\n",
    "    handles, labels = ax.get_legend_handles_labels()\n",
    "    ax.legend(handles[:2], labels[:2],\n",
    "              title=legend_title, frameon=False, loc=\"upper left\",\n",
    "              bbox_to_anchor=(1.01, 1.0), fontsize=9, title_fontsize=10,\n",
    "              handlelength=0.9, borderpad=0.2, labelspacing=0.25)\n",
    "\n",
    "    # cosmetics\n",
    "    for sp in ax.spines.values(): sp.set_linewidth(0.8)\n",
    "    ax.tick_params(axis=\"both\", labelsize=9, width=0.8, length=3, pad=2)\n",
    "    ax.grid(axis=\"x\", linestyle=\"--\", alpha=0.5, linewidth=0.5)\n",
    "    plt.subplots_adjust(left=0.14, right=0.98, top=0.88, bottom=0.08)\n",
    "    plt.show()\n"
   ]
  },
  {
   "cell_type": "code",
   "execution_count": 4,
   "id": "d6eeccd0",
   "metadata": {},
   "outputs": [
    {
     "data": {
      "image/png": "[encoded data removed]",
      "text/plain": [
       "<Figure size 800x360 with 1 Axes>"
      ]
     },
     "metadata": {},
     "output_type": "display_data"
    },
    {
     "data": {
      "image/png": "[encoded data removed]",
      "text/plain": [
       "<Figure size 800x360 with 1 Axes>"
      ]
     },
     "metadata": {},
     "output_type": "display_data"
    },
    {
     "data": {
      "image/png": "[encoded data removed]",
      "text/plain": [
       "<Figure size 800x360 with 1 Axes>"
      ]
     },
     "metadata": {},
     "output_type": "display_data"
    },
    {
     "data": {
      "image/png": "[encoded data removed]",
      "text/plain": [
       "<Figure size 800x360 with 1 Axes>"
      ]
     },
     "metadata": {},
     "output_type": "display_data"
    }
   ],
   "source": [
    "# %% boxplots (R², RMSE, Pearson r)\n",
    "nice_boxplot(df_plot, x=\"r2_mean\",  title=\"R² Distribution: Bulk (10-fold, 30 PCs + Tissue/Growth)\")\n",
    "nice_boxplot(df_plot, x=\"rmse_mean\", title=\"RMSE Distribution: Bulk (10-fold, 30 PCs + Tissue/Growth)\")\n",
    "\n",
    "# Pearson r uses same style but different x-label\n",
    "fig, ax = plt.subplots(figsize=(8, 3.6))\n",
    "sns.boxplot(\n",
    "    data=df_plot, x=\"pearson_r\", y=\"ModelPretty\", hue=\"ModelPretty\",\n",
    "    palette=\"muted\", showfliers=False, dodge=False, ax=ax,\n",
    "    boxprops=dict(linewidth=0.8), whiskerprops=dict(linewidth=0.8),\n",
    "    capprops=dict(linewidth=0.8), medianprops=dict(linewidth=1.0),\n",
    ")\n",
    "ax.set_title(\"Pearson r Distribution: Bulk (10-fold, 30 PCs + Tissue/Growth)\", fontsize=12)\n",
    "ax.xaxis.set_label_position('top'); ax.set_xlabel(\"Pearson r\", fontsize=10, labelpad=2); ax.set_ylabel(\"\")\n",
    "handles, labels = ax.get_legend_handles_labels()\n",
    "ax.legend(handles[:2], labels[:2], title=\"Model\", frameon=False, loc=\"upper left\",\n",
    "          bbox_to_anchor=(1.01, 1.0), fontsize=9, title_fontsize=10,\n",
    "          handlelength=0.9, borderpad=0.2, labelspacing=0.25)\n",
    "for sp in ax.spines.values(): sp.set_linewidth(0.8)\n",
    "ax.tick_params(axis=\"both\", labelsize=9, width=0.8, length=3, pad=2)\n",
    "ax.grid(axis=\"x\", linestyle=\"--\", alpha=0.5, linewidth=0.5)\n",
    "plt.subplots_adjust(left=0.14, right=0.98, top=0.88, bottom=0.08)\n",
    "plt.show()\n",
    "\n",
    "# %%\n",
    "# %% boxplot (Spearman ρ)\n",
    "fig, ax = plt.subplots(figsize=(8, 3.6))\n",
    "sns.boxplot(\n",
    "    data=df_plot, x=\"spearman_r\", y=\"ModelPretty\", hue=\"ModelPretty\",\n",
    "    palette=\"muted\", showfliers=False, dodge=False, ax=ax,\n",
    "    boxprops=dict(linewidth=0.8), whiskerprops=dict(linewidth=0.8),\n",
    "    capprops=dict(linewidth=0.8), medianprops=dict(linewidth=1.0),\n",
    ")\n",
    "ax.set_title(\"Spearman ρ Distribution: Bulk (10-fold, 30 PCs + Tissue/Growth)\", fontsize=12)\n",
    "ax.xaxis.set_label_position('top'); ax.set_xlabel(\"Spearman ρ\", fontsize=10, labelpad=2); ax.set_ylabel(\"\")\n",
    "handles, labels = ax.get_legend_handles_labels()\n",
    "ax.legend(handles[:2], labels[:2], title=\"Model\", frameon=False, loc=\"upper left\",\n",
    "          bbox_to_anchor=(1.01, 1.0), fontsize=9, title_fontsize=10,\n",
    "          handlelength=0.9, borderpad=0.2, labelspacing=0.25)\n",
    "for sp in ax.spines.values(): sp.set_linewidth(0.8)\n",
    "ax.tick_params(axis=\"both\", labelsize=9, width=0.8, length=3, pad=2)\n",
    "ax.grid(axis=\"x\", linestyle=\"--\", alpha=0.5, linewidth=0.5)\n",
    "plt.subplots_adjust(left=0.14, right=0.98, top=0.88, bottom=0.08)\n",
    "plt.show()\n",
    "\n"
   ]
  },
  {
   "cell_type": "code",
   "execution_count": 5,
   "id": "4dcf5ef6",
   "metadata": {},
   "outputs": [
    {
     "data": {
      "application/vnd.microsoft.datawrangler.viewer.v0+json": {
       "columns": [
        {
         "name": "index",
         "rawType": "int64",
         "type": "integer"
        },
        {
         "name": "Metric",
         "rawType": "object",
         "type": "string"
        },
        {
         "name": "n",
         "rawType": "int64",
         "type": "integer"
        },
        {
         "name": "delta_mean",
         "rawType": "float64",
         "type": "float"
        },
        {
         "name": "delta_median",
         "rawType": "float64",
         "type": "float"
        },
        {
         "name": "win_rate",
         "rawType": "float64",
         "type": "float"
        },
        {
         "name": "wilcoxon_p",
         "rawType": "float64",
         "type": "float"
        },
        {
         "name": "ttest_p",
         "rawType": "float64",
         "type": "float"
        }
       ],
       "ref": "cf271291-6539-4cc9-9785-adcecbea68d6",
       "rows": [
        [
         "0",
         "R² (RF - EN)",
         "625",
         "-0.020057369528820982",
         "-0.019701527561577503",
         "0.3904",
         "1.3795588729415253e-12",
         "8.802750492057745e-14"
        ],
        [
         "1",
         "RMSE (EN - RF)",
         "625",
         "-0.012167056340815963",
         "-0.010365100687648177",
         "0.3904",
         "1.901277880098457e-11",
         "8.267957201171038e-12"
        ],
        [
         "2",
         "Pearson r (RF - EN)",
         "625",
         "0.02591606352038308",
         "0.013504042053329113",
         "0.5536",
         "7.0205896075505675e-06",
         "2.751858584100793e-09"
        ],
        [
         "3",
         "Spearman ρ (RF - EN)",
         "625",
         "-0.01780538427197569",
         "0.0004243488440152654",
         "0.5024",
         "0.08308232302113588",
         "0.00010049954463270858"
        ]
       ],
       "shape": {
        "columns": 7,
        "rows": 4
       }
      },
      "text/html": [
       "<div>\n",
       "<style scoped>\n",
       "    .dataframe tbody tr th:only-of-type {\n",
       "        vertical-align: middle;\n",
       "    }\n",
       "\n",
       "    .dataframe tbody tr th {\n",
       "        vertical-align: top;\n",
       "    }\n",
       "\n",
       "    .dataframe thead th {\n",
       "        text-align: right;\n",
       "    }\n",
       "</style>\n",
       "<table border=\"1\" class=\"dataframe\">\n",
       "  <thead>\n",
       "    <tr style=\"text-align: right;\">\n",
       "      <th></th>\n",
       "      <th>Metric</th>\n",
       "      <th>n</th>\n",
       "      <th>delta_mean</th>\n",
       "      <th>delta_median</th>\n",
       "      <th>win_rate</th>\n",
       "      <th>wilcoxon_p</th>\n",
       "      <th>ttest_p</th>\n",
       "    </tr>\n",
       "  </thead>\n",
       "  <tbody>\n",
       "    <tr>\n",
       "      <th>0</th>\n",
       "      <td>R² (RF - EN)</td>\n",
       "      <td>625</td>\n",
       "      <td>-0.020057</td>\n",
       "      <td>-0.019702</td>\n",
       "      <td>0.3904</td>\n",
       "      <td>1.379559e-12</td>\n",
       "      <td>8.802750e-14</td>\n",
       "    </tr>\n",
       "    <tr>\n",
       "      <th>1</th>\n",
       "      <td>RMSE (EN - RF)</td>\n",
       "      <td>625</td>\n",
       "      <td>-0.012167</td>\n",
       "      <td>-0.010365</td>\n",
       "      <td>0.3904</td>\n",
       "      <td>1.901278e-11</td>\n",
       "      <td>8.267957e-12</td>\n",
       "    </tr>\n",
       "    <tr>\n",
       "      <th>2</th>\n",
       "      <td>Pearson r (RF - EN)</td>\n",
       "      <td>625</td>\n",
       "      <td>0.025916</td>\n",
       "      <td>0.013504</td>\n",
       "      <td>0.5536</td>\n",
       "      <td>7.020590e-06</td>\n",
       "      <td>2.751859e-09</td>\n",
       "    </tr>\n",
       "    <tr>\n",
       "      <th>3</th>\n",
       "      <td>Spearman ρ (RF - EN)</td>\n",
       "      <td>625</td>\n",
       "      <td>-0.017805</td>\n",
       "      <td>0.000424</td>\n",
       "      <td>0.5024</td>\n",
       "      <td>8.308232e-02</td>\n",
       "      <td>1.004995e-04</td>\n",
       "    </tr>\n",
       "  </tbody>\n",
       "</table>\n",
       "</div>"
      ],
      "text/plain": [
       "                 Metric    n  delta_mean  delta_median  win_rate  \\\n",
       "0          R² (RF - EN)  625   -0.020057     -0.019702    0.3904   \n",
       "1        RMSE (EN - RF)  625   -0.012167     -0.010365    0.3904   \n",
       "2   Pearson r (RF - EN)  625    0.025916      0.013504    0.5536   \n",
       "3  Spearman ρ (RF - EN)  625   -0.017805      0.000424    0.5024   \n",
       "\n",
       "     wilcoxon_p       ttest_p  \n",
       "0  1.379559e-12  8.802750e-14  \n",
       "1  1.901278e-11  8.267957e-12  \n",
       "2  7.020590e-06  2.751859e-09  \n",
       "3  8.308232e-02  1.004995e-04  "
      ]
     },
     "metadata": {},
     "output_type": "display_data"
    }
   ],
   "source": [
    "# %% paired tests: RF vs EN per drug (positive delta = RF better)\n",
    "rows = []\n",
    "for metric, nice in [(\"r2_mean\",\"R² (RF - EN)\"),\n",
    "                     (\"rmse_mean\",\"RMSE (EN - RF)\"),   # lower is better\n",
    "                     (\"pearson_r\",\"Pearson r (RF - EN)\"),\n",
    "                     (\"spearman_r\",\"Spearman ρ (RF - EN)\")]:\n",
    "    out = paired_model_tests(bulk_df, metric)\n",
    "    if out:\n",
    "        rows.append({\"Metric\": nice, **out})\n",
    "paired_summary = pd.DataFrame(rows)\n",
    "display(paired_summary)\n"
   ]
  },
  {
   "cell_type": "code",
   "execution_count": 6,
   "id": "d1f0f364",
   "metadata": {},
   "outputs": [
    {
     "data": {
      "application/vnd.microsoft.datawrangler.viewer.v0+json": {
       "columns": [
        {
         "name": "index",
         "rawType": "int64",
         "type": "integer"
        },
        {
         "name": "metric",
         "rawType": "object",
         "type": "string"
        },
        {
         "name": "ModelPretty",
         "rawType": "object",
         "type": "string"
        },
        {
         "name": "N",
         "rawType": "int64",
         "type": "integer"
        },
        {
         "name": "Mean",
         "rawType": "float64",
         "type": "float"
        },
        {
         "name": "Std",
         "rawType": "float64",
         "type": "float"
        },
        {
         "name": "95% CI",
         "rawType": "float64",
         "type": "float"
        }
       ],
       "ref": "9517729a-ba39-4eb6-921f-9c4efd0abb86",
       "rows": [
        [
         "0",
         "r2_mean",
         "Elastic Net",
         "625",
         "0.0776",
         "0.106",
         "0.0083"
        ],
        [
         "1",
         "r2_mean",
         "Random Forest",
         "625",
         "0.0575",
         "0.1185",
         "0.0093"
        ],
        [
         "2",
         "rmse_mean",
         "Elastic Net",
         "625",
         "1.1847",
         "0.3787",
         "0.0297"
        ],
        [
         "3",
         "rmse_mean",
         "Random Forest",
         "625",
         "1.1969",
         "0.3832",
         "0.03"
        ],
        [
         "4",
         "pearson_r",
         "Elastic Net",
         "625",
         "0.2356",
         "0.2035",
         "0.016"
        ],
        [
         "5",
         "pearson_r",
         "Random Forest",
         "625",
         "0.2615",
         "0.16",
         "0.0125"
        ],
        [
         "6",
         "spearman_r",
         "Elastic Net",
         "625",
         "0.2395",
         "0.2058",
         "0.0161"
        ],
        [
         "7",
         "spearman_r",
         "Random Forest",
         "625",
         "0.2573",
         "0.1513",
         "0.0119"
        ]
       ],
       "shape": {
        "columns": 6,
        "rows": 8
       }
      },
      "text/html": [
       "<div>\n",
       "<style scoped>\n",
       "    .dataframe tbody tr th:only-of-type {\n",
       "        vertical-align: middle;\n",
       "    }\n",
       "\n",
       "    .dataframe tbody tr th {\n",
       "        vertical-align: top;\n",
       "    }\n",
       "\n",
       "    .dataframe thead th {\n",
       "        text-align: right;\n",
       "    }\n",
       "</style>\n",
       "<table border=\"1\" class=\"dataframe\">\n",
       "  <thead>\n",
       "    <tr style=\"text-align: right;\">\n",
       "      <th></th>\n",
       "      <th>metric</th>\n",
       "      <th>ModelPretty</th>\n",
       "      <th>N</th>\n",
       "      <th>Mean</th>\n",
       "      <th>Std</th>\n",
       "      <th>95% CI</th>\n",
       "    </tr>\n",
       "  </thead>\n",
       "  <tbody>\n",
       "    <tr>\n",
       "      <th>0</th>\n",
       "      <td>r2_mean</td>\n",
       "      <td>Elastic Net</td>\n",
       "      <td>625</td>\n",
       "      <td>0.0776</td>\n",
       "      <td>0.1060</td>\n",
       "      <td>0.0083</td>\n",
       "    </tr>\n",
       "    <tr>\n",
       "      <th>1</th>\n",
       "      <td>r2_mean</td>\n",
       "      <td>Random Forest</td>\n",
       "      <td>625</td>\n",
       "      <td>0.0575</td>\n",
       "      <td>0.1185</td>\n",
       "      <td>0.0093</td>\n",
       "    </tr>\n",
       "    <tr>\n",
       "      <th>2</th>\n",
       "      <td>rmse_mean</td>\n",
       "      <td>Elastic Net</td>\n",
       "      <td>625</td>\n",
       "      <td>1.1847</td>\n",
       "      <td>0.3787</td>\n",
       "      <td>0.0297</td>\n",
       "    </tr>\n",
       "    <tr>\n",
       "      <th>3</th>\n",
       "      <td>rmse_mean</td>\n",
       "      <td>Random Forest</td>\n",
       "      <td>625</td>\n",
       "      <td>1.1969</td>\n",
       "      <td>0.3832</td>\n",
       "      <td>0.0300</td>\n",
       "    </tr>\n",
       "    <tr>\n",
       "      <th>4</th>\n",
       "      <td>pearson_r</td>\n",
       "      <td>Elastic Net</td>\n",
       "      <td>625</td>\n",
       "      <td>0.2356</td>\n",
       "      <td>0.2035</td>\n",
       "      <td>0.0160</td>\n",
       "    </tr>\n",
       "    <tr>\n",
       "      <th>5</th>\n",
       "      <td>pearson_r</td>\n",
       "      <td>Random Forest</td>\n",
       "      <td>625</td>\n",
       "      <td>0.2615</td>\n",
       "      <td>0.1600</td>\n",
       "      <td>0.0125</td>\n",
       "    </tr>\n",
       "    <tr>\n",
       "      <th>6</th>\n",
       "      <td>spearman_r</td>\n",
       "      <td>Elastic Net</td>\n",
       "      <td>625</td>\n",
       "      <td>0.2395</td>\n",
       "      <td>0.2058</td>\n",
       "      <td>0.0161</td>\n",
       "    </tr>\n",
       "    <tr>\n",
       "      <th>7</th>\n",
       "      <td>spearman_r</td>\n",
       "      <td>Random Forest</td>\n",
       "      <td>625</td>\n",
       "      <td>0.2573</td>\n",
       "      <td>0.1513</td>\n",
       "      <td>0.0119</td>\n",
       "    </tr>\n",
       "  </tbody>\n",
       "</table>\n",
       "</div>"
      ],
      "text/plain": [
       "       metric    ModelPretty    N    Mean     Std  95% CI\n",
       "0     r2_mean    Elastic Net  625  0.0776  0.1060  0.0083\n",
       "1     r2_mean  Random Forest  625  0.0575  0.1185  0.0093\n",
       "2   rmse_mean    Elastic Net  625  1.1847  0.3787  0.0297\n",
       "3   rmse_mean  Random Forest  625  1.1969  0.3832  0.0300\n",
       "4   pearson_r    Elastic Net  625  0.2356  0.2035  0.0160\n",
       "5   pearson_r  Random Forest  625  0.2615  0.1600  0.0125\n",
       "6  spearman_r    Elastic Net  625  0.2395  0.2058  0.0161\n",
       "7  spearman_r  Random Forest  625  0.2573  0.1513  0.0119"
      ]
     },
     "metadata": {},
     "output_type": "display_data"
    }
   ],
   "source": [
    "# %% aggregate stats per model (R², RMSE, Pearson r, Spearman ρ)\n",
    "summary_table = pd.concat([\n",
    "    agg_stats(df_plot, \"r2_mean\"),\n",
    "    agg_stats(df_plot, \"rmse_mean\"),\n",
    "    agg_stats(df_plot, \"pearson_r\"),\n",
    "    agg_stats(df_plot, \"spearman_r\"),\n",
    "], ignore_index=True)\n",
    "\n",
    "display(summary_table[[\"metric\",\"ModelPretty\",\"N\",\"Mean\",\"Std\",\"95% CI\"]].round(4))\n"
   ]
  },
  {
   "cell_type": "code",
   "execution_count": 7,
   "id": "f25acb7f",
   "metadata": {},
   "outputs": [
    {
     "data": {
      "application/vnd.microsoft.datawrangler.viewer.v0+json": {
       "columns": [
        {
         "name": "index",
         "rawType": "int64",
         "type": "integer"
        },
        {
         "name": "ModelPretty",
         "rawType": "object",
         "type": "string"
        },
        {
         "name": "% Pearson p<0.05",
         "rawType": "float64",
         "type": "float"
        },
        {
         "name": "N",
         "rawType": "int64",
         "type": "integer"
        }
       ],
       "ref": "27f537d4-3c72-4b4d-a522-f2f0fb2a5db5",
       "rows": [
        [
         "0",
         "Elastic Net",
         "72.2",
         "625"
        ],
        [
         "1",
         "Random Forest",
         "71.5",
         "625"
        ]
       ],
       "shape": {
        "columns": 3,
        "rows": 2
       }
      },
      "text/html": [
       "<div>\n",
       "<style scoped>\n",
       "    .dataframe tbody tr th:only-of-type {\n",
       "        vertical-align: middle;\n",
       "    }\n",
       "\n",
       "    .dataframe tbody tr th {\n",
       "        vertical-align: top;\n",
       "    }\n",
       "\n",
       "    .dataframe thead th {\n",
       "        text-align: right;\n",
       "    }\n",
       "</style>\n",
       "<table border=\"1\" class=\"dataframe\">\n",
       "  <thead>\n",
       "    <tr style=\"text-align: right;\">\n",
       "      <th></th>\n",
       "      <th>ModelPretty</th>\n",
       "      <th>% Pearson p&lt;0.05</th>\n",
       "      <th>N</th>\n",
       "    </tr>\n",
       "  </thead>\n",
       "  <tbody>\n",
       "    <tr>\n",
       "      <th>0</th>\n",
       "      <td>Elastic Net</td>\n",
       "      <td>72.2</td>\n",
       "      <td>625</td>\n",
       "    </tr>\n",
       "    <tr>\n",
       "      <th>1</th>\n",
       "      <td>Random Forest</td>\n",
       "      <td>71.5</td>\n",
       "      <td>625</td>\n",
       "    </tr>\n",
       "  </tbody>\n",
       "</table>\n",
       "</div>"
      ],
      "text/plain": [
       "     ModelPretty  % Pearson p<0.05    N\n",
       "0    Elastic Net              72.2  625\n",
       "1  Random Forest              71.5  625"
      ]
     },
     "metadata": {},
     "output_type": "display_data"
    }
   ],
   "source": [
    "# %% proportion of significant correlations (p < 0.05) per model\n",
    "sig_rates = (\n",
    "    df_plot.assign(sig = df_plot[\"pearson_pval\"] < 0.05)\n",
    "           .groupby(\"ModelPretty\")[\"sig\"]\n",
    "           .agg(rate=\"mean\", N=\"count\")\n",
    "           .reset_index()\n",
    ")\n",
    "sig_rates[\"rate\"] = (100*sig_rates[\"rate\"]).round(1)\n",
    "sig_rates.rename(columns={\"rate\":\"% Pearson p<0.05\"}, inplace=True)\n",
    "display(sig_rates)\n"
   ]
  },
  {
   "cell_type": "code",
   "execution_count": 8,
   "id": "63599063",
   "metadata": {},
   "outputs": [
    {
     "data": {
      "application/vnd.microsoft.datawrangler.viewer.v0+json": {
       "columns": [
        {
         "name": "index",
         "rawType": "int64",
         "type": "integer"
        },
        {
         "name": "Metric",
         "rawType": "object",
         "type": "string"
        },
        {
         "name": "RF wins",
         "rawType": "int64",
         "type": "integer"
        },
        {
         "name": "EN wins",
         "rawType": "int64",
         "type": "integer"
        },
        {
         "name": "Ties",
         "rawType": "int64",
         "type": "integer"
        },
        {
         "name": "RF win rate (no ties)",
         "rawType": "float64",
         "type": "float"
        },
        {
         "name": "Sign test p",
         "rawType": "float64",
         "type": "float"
        }
       ],
       "ref": "8ba44862-4a1c-414b-b24c-85a2fb5898c5",
       "rows": [
        [
         "0",
         "r2_mean",
         "235",
         "373",
         "17",
         "0.38651315789473684",
         "2.4154594881238507e-08"
        ]
       ],
       "shape": {
        "columns": 6,
        "rows": 1
       }
      },
      "text/html": [
       "<div>\n",
       "<style scoped>\n",
       "    .dataframe tbody tr th:only-of-type {\n",
       "        vertical-align: middle;\n",
       "    }\n",
       "\n",
       "    .dataframe tbody tr th {\n",
       "        vertical-align: top;\n",
       "    }\n",
       "\n",
       "    .dataframe thead th {\n",
       "        text-align: right;\n",
       "    }\n",
       "</style>\n",
       "<table border=\"1\" class=\"dataframe\">\n",
       "  <thead>\n",
       "    <tr style=\"text-align: right;\">\n",
       "      <th></th>\n",
       "      <th>Metric</th>\n",
       "      <th>RF wins</th>\n",
       "      <th>EN wins</th>\n",
       "      <th>Ties</th>\n",
       "      <th>RF win rate (no ties)</th>\n",
       "      <th>Sign test p</th>\n",
       "    </tr>\n",
       "  </thead>\n",
       "  <tbody>\n",
       "    <tr>\n",
       "      <th>0</th>\n",
       "      <td>r2_mean</td>\n",
       "      <td>235</td>\n",
       "      <td>373</td>\n",
       "      <td>17</td>\n",
       "      <td>0.386513</td>\n",
       "      <td>2.415459e-08</td>\n",
       "    </tr>\n",
       "  </tbody>\n",
       "</table>\n",
       "</div>"
      ],
      "text/plain": [
       "    Metric  RF wins  EN wins  Ties  RF win rate (no ties)   Sign test p\n",
       "0  r2_mean      235      373    17               0.386513  2.415459e-08"
      ]
     },
     "metadata": {},
     "output_type": "display_data"
    },
    {
     "data": {
      "application/vnd.microsoft.datawrangler.viewer.v0+json": {
       "columns": [
        {
         "name": "index",
         "rawType": "int64",
         "type": "integer"
        },
        {
         "name": "Metric",
         "rawType": "object",
         "type": "string"
        },
        {
         "name": "RF wins",
         "rawType": "int64",
         "type": "integer"
        },
        {
         "name": "EN wins",
         "rawType": "int64",
         "type": "integer"
        },
        {
         "name": "Ties",
         "rawType": "int64",
         "type": "integer"
        },
        {
         "name": "RF win rate (no ties)",
         "rawType": "float64",
         "type": "float"
        },
        {
         "name": "Sign test p",
         "rawType": "float64",
         "type": "float"
        }
       ],
       "ref": "4a4f718c-c716-418f-8362-7d25395664a3",
       "rows": [
        [
         "0",
         "rmse_mean",
         "216",
         "339",
         "70",
         "0.3891891891891892",
         "2.0031381110611216e-07"
        ]
       ],
       "shape": {
        "columns": 6,
        "rows": 1
       }
      },
      "text/html": [
       "<div>\n",
       "<style scoped>\n",
       "    .dataframe tbody tr th:only-of-type {\n",
       "        vertical-align: middle;\n",
       "    }\n",
       "\n",
       "    .dataframe tbody tr th {\n",
       "        vertical-align: top;\n",
       "    }\n",
       "\n",
       "    .dataframe thead th {\n",
       "        text-align: right;\n",
       "    }\n",
       "</style>\n",
       "<table border=\"1\" class=\"dataframe\">\n",
       "  <thead>\n",
       "    <tr style=\"text-align: right;\">\n",
       "      <th></th>\n",
       "      <th>Metric</th>\n",
       "      <th>RF wins</th>\n",
       "      <th>EN wins</th>\n",
       "      <th>Ties</th>\n",
       "      <th>RF win rate (no ties)</th>\n",
       "      <th>Sign test p</th>\n",
       "    </tr>\n",
       "  </thead>\n",
       "  <tbody>\n",
       "    <tr>\n",
       "      <th>0</th>\n",
       "      <td>rmse_mean</td>\n",
       "      <td>216</td>\n",
       "      <td>339</td>\n",
       "      <td>70</td>\n",
       "      <td>0.389189</td>\n",
       "      <td>2.003138e-07</td>\n",
       "    </tr>\n",
       "  </tbody>\n",
       "</table>\n",
       "</div>"
      ],
      "text/plain": [
       "      Metric  RF wins  EN wins  Ties  RF win rate (no ties)   Sign test p\n",
       "0  rmse_mean      216      339    70               0.389189  2.003138e-07"
      ]
     },
     "metadata": {},
     "output_type": "display_data"
    },
    {
     "data": {
      "application/vnd.microsoft.datawrangler.viewer.v0+json": {
       "columns": [
        {
         "name": "index",
         "rawType": "int64",
         "type": "integer"
        },
        {
         "name": "Metric",
         "rawType": "object",
         "type": "string"
        },
        {
         "name": "RF wins",
         "rawType": "int64",
         "type": "integer"
        },
        {
         "name": "EN wins",
         "rawType": "int64",
         "type": "integer"
        },
        {
         "name": "Ties",
         "rawType": "int64",
         "type": "integer"
        },
        {
         "name": "RF win rate (no ties)",
         "rawType": "float64",
         "type": "float"
        },
        {
         "name": "Sign test p",
         "rawType": "float64",
         "type": "float"
        }
       ],
       "ref": "5fc8da72-6025-4fdd-be0f-5aeae970fa3f",
       "rows": [
        [
         "0",
         "pearson_r",
         "322",
         "253",
         "50",
         "0.56",
         "0.004529710067976723"
        ]
       ],
       "shape": {
        "columns": 6,
        "rows": 1
       }
      },
      "text/html": [
       "<div>\n",
       "<style scoped>\n",
       "    .dataframe tbody tr th:only-of-type {\n",
       "        vertical-align: middle;\n",
       "    }\n",
       "\n",
       "    .dataframe tbody tr th {\n",
       "        vertical-align: top;\n",
       "    }\n",
       "\n",
       "    .dataframe thead th {\n",
       "        text-align: right;\n",
       "    }\n",
       "</style>\n",
       "<table border=\"1\" class=\"dataframe\">\n",
       "  <thead>\n",
       "    <tr style=\"text-align: right;\">\n",
       "      <th></th>\n",
       "      <th>Metric</th>\n",
       "      <th>RF wins</th>\n",
       "      <th>EN wins</th>\n",
       "      <th>Ties</th>\n",
       "      <th>RF win rate (no ties)</th>\n",
       "      <th>Sign test p</th>\n",
       "    </tr>\n",
       "  </thead>\n",
       "  <tbody>\n",
       "    <tr>\n",
       "      <th>0</th>\n",
       "      <td>pearson_r</td>\n",
       "      <td>322</td>\n",
       "      <td>253</td>\n",
       "      <td>50</td>\n",
       "      <td>0.56</td>\n",
       "      <td>0.00453</td>\n",
       "    </tr>\n",
       "  </tbody>\n",
       "</table>\n",
       "</div>"
      ],
      "text/plain": [
       "      Metric  RF wins  EN wins  Ties  RF win rate (no ties)  Sign test p\n",
       "0  pearson_r      322      253    50                   0.56      0.00453"
      ]
     },
     "metadata": {},
     "output_type": "display_data"
    },
    {
     "data": {
      "application/vnd.microsoft.datawrangler.viewer.v0+json": {
       "columns": [
        {
         "name": "index",
         "rawType": "int64",
         "type": "integer"
        },
        {
         "name": "Metric",
         "rawType": "object",
         "type": "string"
        },
        {
         "name": "RF wins",
         "rawType": "int64",
         "type": "integer"
        },
        {
         "name": "EN wins",
         "rawType": "int64",
         "type": "integer"
        },
        {
         "name": "Ties",
         "rawType": "int64",
         "type": "integer"
        },
        {
         "name": "RF win rate (no ties)",
         "rawType": "float64",
         "type": "float"
        },
        {
         "name": "Sign test p",
         "rawType": "float64",
         "type": "float"
        }
       ],
       "ref": "e5f18ee5-6816-465a-8191-6057ade38d20",
       "rows": [
        [
         "0",
         "spearman_r",
         "287",
         "290",
         "48",
         "0.49740034662045063",
         "0.9336534576706733"
        ]
       ],
       "shape": {
        "columns": 6,
        "rows": 1
       }
      },
      "text/html": [
       "<div>\n",
       "<style scoped>\n",
       "    .dataframe tbody tr th:only-of-type {\n",
       "        vertical-align: middle;\n",
       "    }\n",
       "\n",
       "    .dataframe tbody tr th {\n",
       "        vertical-align: top;\n",
       "    }\n",
       "\n",
       "    .dataframe thead th {\n",
       "        text-align: right;\n",
       "    }\n",
       "</style>\n",
       "<table border=\"1\" class=\"dataframe\">\n",
       "  <thead>\n",
       "    <tr style=\"text-align: right;\">\n",
       "      <th></th>\n",
       "      <th>Metric</th>\n",
       "      <th>RF wins</th>\n",
       "      <th>EN wins</th>\n",
       "      <th>Ties</th>\n",
       "      <th>RF win rate (no ties)</th>\n",
       "      <th>Sign test p</th>\n",
       "    </tr>\n",
       "  </thead>\n",
       "  <tbody>\n",
       "    <tr>\n",
       "      <th>0</th>\n",
       "      <td>spearman_r</td>\n",
       "      <td>287</td>\n",
       "      <td>290</td>\n",
       "      <td>48</td>\n",
       "      <td>0.4974</td>\n",
       "      <td>0.933653</td>\n",
       "    </tr>\n",
       "  </tbody>\n",
       "</table>\n",
       "</div>"
      ],
      "text/plain": [
       "       Metric  RF wins  EN wins  Ties  RF win rate (no ties)  Sign test p\n",
       "0  spearman_r      287      290    48                 0.4974     0.933653"
      ]
     },
     "metadata": {},
     "output_type": "display_data"
    },
    {
     "data": {
      "image/png": "[encoded data removed]",
      "text/plain": [
       "<Figure size 520x260 with 1 Axes>"
      ]
     },
     "metadata": {},
     "output_type": "display_data"
    },
    {
     "data": {
      "image/png": "[encoded data removed]",
      "text/plain": [
       "<Figure size 520x260 with 1 Axes>"
      ]
     },
     "metadata": {},
     "output_type": "display_data"
    },
    {
     "data": {
      "image/png": "[encoded data removed]",
      "text/plain": [
       "<Figure size 520x260 with 1 Axes>"
      ]
     },
     "metadata": {},
     "output_type": "display_data"
    },
    {
     "data": {
      "image/png": "[encoded data removed]",
      "text/plain": [
       "<Figure size 520x260 with 1 Axes>"
      ]
     },
     "metadata": {},
     "output_type": "display_data"
    }
   ],
   "source": [
    "# %% per-drug winners, counts, and sign tests\n",
    "import numpy as np\n",
    "from scipy.stats import binomtest\n",
    "\n",
    "def per_drug_wins(df, metric, tie_tol=0.002):\n",
    "    # wide table: one row per DRUG_ID with EN/RF values\n",
    "    wide = (df.pivot_table(index=\"DRUG_ID\", columns=\"Model\", values=metric, aggfunc=\"mean\")\n",
    "              .dropna(subset=[\"ElasticNet\",\"RandomForest\"]))\n",
    "    if wide.empty:\n",
    "        return None, None, None\n",
    "\n",
    "    if metric in (\"r2_mean\", \"pearson_r\", \"spearman_r\"):   # higher is better\n",
    "        d = wide[\"RandomForest\"] - wide[\"ElasticNet\"]   # positive => RF better\n",
    "    else:  # rmse_mean: lower is better\n",
    "        d = wide[\"ElasticNet\"] - wide[\"RandomForest\"]   # positive => RF better (lower RMSE)\n",
    "\n",
    "    winners = np.where(d >  tie_tol, \"Random Forest\",\n",
    "               np.where(d < -tie_tol, \"Elastic Net\", \"Tie\"))\n",
    "    wide = wide.assign(delta=d, winner=winners)\n",
    "\n",
    "    # counts\n",
    "    counts = (pd.Series(winners).value_counts()\n",
    "                .reindex([\"Elastic Net\",\"Random Forest\",\"Tie\"], fill_value=0)\n",
    "                .rename(\"count\"))\n",
    "    n_non_ties = int((winners != \"Tie\").sum())\n",
    "    n_rf = int((winners == \"Random Forest\").sum())\n",
    "\n",
    "    # two-sided sign test: H0 win rate = 0.5 among non-ties\n",
    "    sign_p = binomtest(n_rf, n_non_ties, 0.5, alternative=\"two-sided\").pvalue if n_non_ties>0 else np.nan\n",
    "\n",
    "    summary = pd.DataFrame({\n",
    "        \"Metric\":[metric],\n",
    "        \"RF wins\":[n_rf],\n",
    "        \"EN wins\":[int((winners == \"Elastic Net\").sum())],\n",
    "        \"Ties\":[int((winners == \"Tie\").sum())],\n",
    "        \"RF win rate (no ties)\":[n_rf / n_non_ties if n_non_ties else np.nan],\n",
    "        \"Sign test p\":[sign_p]\n",
    "    })\n",
    "    return wide, counts, summary\n",
    "\n",
    "wide_r2,      counts_r2,      summary_r2      = per_drug_wins(bulk_df, \"r2_mean\",   tie_tol=0.002)  # ~0.2 R² points\n",
    "wide_rmse,    counts_rmse,    summary_rmse    = per_drug_wins(bulk_df, \"rmse_mean\", tie_tol=0.005)  # ~0.005 RMSE units\n",
    "wide_r,       counts_r,       summary_r       = per_drug_wins(bulk_df, \"pearson_r\", tie_tol=0.01)   # ~0.01 r\n",
    "wide_spearman,counts_spearman,summary_spearman= per_drug_wins(bulk_df, \"spearman_r\", tie_tol=0.01)   # ~0.01 ρ\n",
    "\n",
    "display(summary_r2)\n",
    "display(summary_rmse)\n",
    "display(summary_r)\n",
    "display(summary_spearman)\n",
    "\n",
    "# quick bar charts of win/tie counts (same compact style)\n",
    "def win_bar(counts, title):\n",
    "    fig, ax = plt.subplots(figsize=(5.2,2.6))\n",
    "    order = [\"Elastic Net\",\"Random Forest\",\"Tie\"]\n",
    "    vals = counts.reindex(order, fill_value=0)\n",
    "    ax.bar(order, vals.values)\n",
    "    ax.set_title(title, fontsize=11)\n",
    "    ax.set_ylabel(\"Drugs\", fontsize=9)\n",
    "    ax.tick_params(axis=\"x\", labelsize=9)\n",
    "    for sp in ax.spines.values(): sp.set_linewidth(0.8)\n",
    "    ax.tick_params(axis=\"both\", labelsize=9, width=0.8, length=3, pad=2)\n",
    "    plt.tight_layout(); plt.show()\n",
    "\n",
    "win_bar(counts_r2,       \"Per-drug winners — R²\")\n",
    "win_bar(counts_rmse,     \"Per-drug winners — RMSE\")\n",
    "win_bar(counts_r,        \"Per-drug winners — Pearson r\")\n",
    "win_bar(counts_spearman, \"Per-drug winners — Spearman ρ\")\n"
   ]
  }
 ],
 "metadata": {
  "kernelspec": {
   "display_name": "tese-env",
   "language": "python",
   "name": "python3"
  },
  "language_info": {
   "codemirror_mode": {
    "name": "ipython",
    "version": 3
   },
   "file_extension": ".py",
   "mimetype": "text/x-python",
   "name": "python",
   "nbconvert_exporter": "python",
   "pygments_lexer": "ipython3",
   "version": "3.10.16"
  }
 },
 "nbformat": 4,
 "nbformat_minor": 5
}
