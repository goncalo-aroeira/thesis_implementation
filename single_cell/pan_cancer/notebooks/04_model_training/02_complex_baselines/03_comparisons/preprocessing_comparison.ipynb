{
 "cells": [
  {
   "cell_type": "code",
   "execution_count": 1,
   "id": "ba912b88",
   "metadata": {},
   "outputs": [
    {
     "name": "stdout",
     "output_type": "stream",
     "text": [
      "✅ combined: (1875, 9)\n"
     ]
    },
    {
     "data": {
      "application/vnd.microsoft.datawrangler.viewer.v0+json": {
       "columns": [
        {
         "name": "index",
         "rawType": "int64",
         "type": "integer"
        },
        {
         "name": "DRUG_ID",
         "rawType": "int64",
         "type": "integer"
        },
        {
         "name": "n_samples",
         "rawType": "int64",
         "type": "integer"
        },
        {
         "name": "r2_mean",
         "rawType": "float64",
         "type": "float"
        },
        {
         "name": "rmse_mean",
         "rawType": "float64",
         "type": "float"
        },
        {
         "name": "pearson_r",
         "rawType": "float64",
         "type": "float"
        },
        {
         "name": "pearson_pval",
         "rawType": "float64",
         "type": "float"
        },
        {
         "name": "spearman_r",
         "rawType": "float64",
         "type": "float"
        },
        {
         "name": "spearman_pval",
         "rawType": "float64",
         "type": "float"
        },
        {
         "name": "Preprocessing",
         "rawType": "object",
         "type": "string"
        }
       ],
       "ref": "8d2c9ee5-b0c9-401e-a3ad-ace75783f365",
       "rows": [
        [
         "0",
         "133",
         "132",
         "0.1247153772621872",
         "1.5851797590971834",
         "0.3590034050520461",
         "2.3661101969297195e-05",
         "0.3424157200774315",
         "5.849024320741708e-05",
         "log1p"
        ],
        [
         "1",
         "134",
         "132",
         "0.0682422898860219",
         "1.8459809823893727",
         "0.2621134536997914",
         "0.0023967718802599",
         "0.2766040708989684",
         "0.0013246144455553",
         "log1p"
        ],
        [
         "2",
         "135",
         "131",
         "0.0634835005857209",
         "2.525975137836736",
         "0.2527196913862943",
         "0.0035887758201001",
         "0.2786686595846901",
         "0.0012684110968884",
         "log1p"
        ],
        [
         "3",
         "136",
         "133",
         "0.0716322130526808",
         "1.451900481066742",
         "0.2755275022997573",
         "0.0013277621633609",
         "0.2024005060140174",
         "0.019470457006696",
         "log1p"
        ],
        [
         "4",
         "140",
         "133",
         "0.0637824760917147",
         "1.5852371011156896",
         "0.2667166432846051",
         "0.0019136987464022",
         "0.3126982993440181",
         "0.0002478148690056",
         "log1p"
        ]
       ],
       "shape": {
        "columns": 9,
        "rows": 5
       }
      },
      "text/html": [
       "<div>\n",
       "<style scoped>\n",
       "    .dataframe tbody tr th:only-of-type {\n",
       "        vertical-align: middle;\n",
       "    }\n",
       "\n",
       "    .dataframe tbody tr th {\n",
       "        vertical-align: top;\n",
       "    }\n",
       "\n",
       "    .dataframe thead th {\n",
       "        text-align: right;\n",
       "    }\n",
       "</style>\n",
       "<table border=\"1\" class=\"dataframe\">\n",
       "  <thead>\n",
       "    <tr style=\"text-align: right;\">\n",
       "      <th></th>\n",
       "      <th>DRUG_ID</th>\n",
       "      <th>n_samples</th>\n",
       "      <th>r2_mean</th>\n",
       "      <th>rmse_mean</th>\n",
       "      <th>pearson_r</th>\n",
       "      <th>pearson_pval</th>\n",
       "      <th>spearman_r</th>\n",
       "      <th>spearman_pval</th>\n",
       "      <th>Preprocessing</th>\n",
       "    </tr>\n",
       "  </thead>\n",
       "  <tbody>\n",
       "    <tr>\n",
       "      <th>0</th>\n",
       "      <td>133</td>\n",
       "      <td>132</td>\n",
       "      <td>0.124715</td>\n",
       "      <td>1.585180</td>\n",
       "      <td>0.359003</td>\n",
       "      <td>0.000024</td>\n",
       "      <td>0.342416</td>\n",
       "      <td>0.000058</td>\n",
       "      <td>log1p</td>\n",
       "    </tr>\n",
       "    <tr>\n",
       "      <th>1</th>\n",
       "      <td>134</td>\n",
       "      <td>132</td>\n",
       "      <td>0.068242</td>\n",
       "      <td>1.845981</td>\n",
       "      <td>0.262113</td>\n",
       "      <td>0.002397</td>\n",
       "      <td>0.276604</td>\n",
       "      <td>0.001325</td>\n",
       "      <td>log1p</td>\n",
       "    </tr>\n",
       "    <tr>\n",
       "      <th>2</th>\n",
       "      <td>135</td>\n",
       "      <td>131</td>\n",
       "      <td>0.063484</td>\n",
       "      <td>2.525975</td>\n",
       "      <td>0.252720</td>\n",
       "      <td>0.003589</td>\n",
       "      <td>0.278669</td>\n",
       "      <td>0.001268</td>\n",
       "      <td>log1p</td>\n",
       "    </tr>\n",
       "    <tr>\n",
       "      <th>3</th>\n",
       "      <td>136</td>\n",
       "      <td>133</td>\n",
       "      <td>0.071632</td>\n",
       "      <td>1.451900</td>\n",
       "      <td>0.275528</td>\n",
       "      <td>0.001328</td>\n",
       "      <td>0.202401</td>\n",
       "      <td>0.019470</td>\n",
       "      <td>log1p</td>\n",
       "    </tr>\n",
       "    <tr>\n",
       "      <th>4</th>\n",
       "      <td>140</td>\n",
       "      <td>133</td>\n",
       "      <td>0.063782</td>\n",
       "      <td>1.585237</td>\n",
       "      <td>0.266717</td>\n",
       "      <td>0.001914</td>\n",
       "      <td>0.312698</td>\n",
       "      <td>0.000248</td>\n",
       "      <td>log1p</td>\n",
       "    </tr>\n",
       "  </tbody>\n",
       "</table>\n",
       "</div>"
      ],
      "text/plain": [
       "   DRUG_ID  n_samples   r2_mean  rmse_mean  pearson_r  pearson_pval  \\\n",
       "0      133        132  0.124715   1.585180   0.359003      0.000024   \n",
       "1      134        132  0.068242   1.845981   0.262113      0.002397   \n",
       "2      135        131  0.063484   2.525975   0.252720      0.003589   \n",
       "3      136        133  0.071632   1.451900   0.275528      0.001328   \n",
       "4      140        133  0.063782   1.585237   0.266717      0.001914   \n",
       "\n",
       "   spearman_r  spearman_pval Preprocessing  \n",
       "0    0.342416       0.000058         log1p  \n",
       "1    0.276604       0.001325         log1p  \n",
       "2    0.278669       0.001268         log1p  \n",
       "3    0.202401       0.019470         log1p  \n",
       "4    0.312698       0.000248         log1p  "
      ]
     },
     "execution_count": 1,
     "metadata": {},
     "output_type": "execute_result"
    }
   ],
   "source": [
    "# %%\n",
    "# %%\n",
    "import pandas as pd\n",
    "import seaborn as sns\n",
    "import matplotlib.pyplot as plt\n",
    "import numpy as np\n",
    "from scipy.stats import wilcoxon, ttest_rel\n",
    "\n",
    "# ---------- paths for Elastic Net (3 preprocessing methods)\n",
    "LOG1P_FILE = \"10_fold_pseudobulk_log1p_30_pcs_tissue_growth.csv\"\n",
    "SCRAN_FILE = \"10_fold_pseudobulk_scran_30_pcs_tissue_growth.csv\"\n",
    "PEARSON_FILE = \"10_fold_pseudobulk_pearson_residuals_30_pcs_tissue_growth.csv\"\n",
    "\n",
    "PATHS = {\n",
    "    \"log1p\": f\"01_simple_baselines/results/elastic_net/{LOG1P_FILE}\",\n",
    "    \"scran\": f\"01_simple_baselines/results/elastic_net/{SCRAN_FILE}\",\n",
    "    \"pearson\": f\"01_simple_baselines/results/elastic_net/{PEARSON_FILE}\",\n",
    "}\n",
    "\n",
    "def load_results(path, label):\n",
    "    df = pd.read_csv(path)\n",
    "    # Normalize column names\n",
    "    df.rename(columns=lambda c: c.strip().replace(\"²\", \"^2\"), inplace=True)\n",
    "    if \"r2_mean\" not in df.columns and \"r2_global\" in df.columns:\n",
    "        df = df.rename(columns={\"r2_global\":\"r2_mean\", \"rmse\":\"rmse_mean\"})\n",
    "    needed = {\"DRUG_ID\",\"n_samples\",\"r2_mean\",\"rmse_mean\",\n",
    "              \"pearson_r\",\"pearson_pval\",\"spearman_r\",\"spearman_pval\"}\n",
    "    missing = sorted(list(needed - set(df.columns)))\n",
    "    if missing:\n",
    "        raise ValueError(f\"Missing columns in {path}: {missing}\")\n",
    "    df[\"Preprocessing\"] = label\n",
    "    return df[[\"DRUG_ID\",\"n_samples\",\"r2_mean\",\"rmse_mean\",\n",
    "               \"pearson_r\",\"pearson_pval\",\"spearman_r\",\"spearman_pval\",\"Preprocessing\"]]\n",
    "\n",
    "frames = [load_results(p, m) for m,p in PATHS.items()]\n",
    "df_all = pd.concat(frames, ignore_index=True)\n",
    "print(\"✅ combined:\", df_all.shape)\n",
    "df_all.head()\n"
   ]
  },
  {
   "cell_type": "code",
   "execution_count": 2,
   "id": "646304c9",
   "metadata": {},
   "outputs": [
    {
     "data": {
      "image/png": "[encoded data removed]",
      "text/plain": [
       "<Figure size 700x360 with 1 Axes>"
      ]
     },
     "metadata": {},
     "output_type": "display_data"
    },
    {
     "data": {
      "image/png": "[encoded data removed]",
      "text/plain": [
       "<Figure size 700x360 with 1 Axes>"
      ]
     },
     "metadata": {},
     "output_type": "display_data"
    },
    {
     "data": {
      "image/png": "[encoded data removed]",
      "text/plain": [
       "<Figure size 700x360 with 1 Axes>"
      ]
     },
     "metadata": {},
     "output_type": "display_data"
    },
    {
     "data": {
      "image/png": "[encoded data removed]",
      "text/plain": [
       "<Figure size 700x360 with 1 Axes>"
      ]
     },
     "metadata": {},
     "output_type": "display_data"
    }
   ],
   "source": [
    "# %%\n",
    "# %%\n",
    "# boxplots (R², RMSE, Pearson r, Spearman ρ) comparing preprocessing methods\n",
    "def nice_boxplot(df, x, title):\n",
    "    fig, ax = plt.subplots(figsize=(7, 3.6))\n",
    "    sns.boxplot(\n",
    "        data=df, x=x, y=\"Preprocessing\", hue=\"Preprocessing\",\n",
    "        palette=\"muted\", showfliers=False, dodge=False, ax=ax,\n",
    "        boxprops=dict(linewidth=0.8),\n",
    "        whiskerprops=dict(linewidth=0.8),\n",
    "        capprops=dict(linewidth=0.8),\n",
    "        medianprops=dict(linewidth=1.0),\n",
    "    )\n",
    "    ax.set_title(title, fontsize=12)\n",
    "    ax.xaxis.set_label_position('top')\n",
    "    ax.set_xlabel({\"r2_mean\":\"R²\", \"rmse_mean\":\"RMSE\",\n",
    "                   \"pearson_r\":\"Pearson r\",\"spearman_r\":\"Spearman ρ\"}[x],\n",
    "                   fontsize=10, labelpad=2)\n",
    "    ax.set_ylabel(\"\")\n",
    "    handles, labels = ax.get_legend_handles_labels()\n",
    "    ax.legend(handles, labels, title=\"Preprocessing\", frameon=False, loc=\"upper left\",\n",
    "              bbox_to_anchor=(1.01, 1.0), fontsize=9, title_fontsize=10)\n",
    "    for sp in ax.spines.values(): sp.set_linewidth(0.8)\n",
    "    ax.tick_params(axis=\"both\", labelsize=9, width=0.8, length=3, pad=2)\n",
    "    ax.grid(axis=\"x\", linestyle=\"--\", alpha=0.5, linewidth=0.5)\n",
    "    plt.tight_layout(); plt.show()\n",
    "\n",
    "nice_boxplot(df_all, \"r2_mean\",    \"R² Distribution: Preprocessing (Elastic Net)\")\n",
    "nice_boxplot(df_all, \"rmse_mean\",  \"RMSE Distribution: Preprocessing (Elastic Net)\")\n",
    "nice_boxplot(df_all, \"pearson_r\",  \"Pearson r Distribution: Preprocessing (Elastic Net)\")\n",
    "nice_boxplot(df_all, \"spearman_r\", \"Spearman ρ Distribution: Preprocessing (Elastic Net)\")\n"
   ]
  },
  {
   "cell_type": "code",
   "execution_count": 3,
   "id": "8ffca988",
   "metadata": {},
   "outputs": [
    {
     "data": {
      "application/vnd.microsoft.datawrangler.viewer.v0+json": {
       "columns": [
        {
         "name": "index",
         "rawType": "int64",
         "type": "integer"
        },
        {
         "name": "metric",
         "rawType": "object",
         "type": "string"
        },
        {
         "name": "Preprocessing",
         "rawType": "object",
         "type": "string"
        },
        {
         "name": "N",
         "rawType": "int64",
         "type": "integer"
        },
        {
         "name": "Mean",
         "rawType": "float64",
         "type": "float"
        },
        {
         "name": "Std",
         "rawType": "float64",
         "type": "float"
        },
        {
         "name": "95% CI",
         "rawType": "float64",
         "type": "float"
        }
       ],
       "ref": "6af24d85-b767-47cb-8a01-6e450c63b4df",
       "rows": [
        [
         "0",
         "r2_mean",
         "log1p",
         "625",
         "0.0588",
         "0.1051",
         "0.0082"
        ],
        [
         "1",
         "r2_mean",
         "pearson",
         "625",
         "0.057",
         "0.1056",
         "0.0083"
        ],
        [
         "2",
         "r2_mean",
         "scran",
         "625",
         "0.0583",
         "0.1093",
         "0.0086"
        ],
        [
         "3",
         "rmse_mean",
         "log1p",
         "625",
         "1.1946",
         "0.3751",
         "0.0294"
        ],
        [
         "4",
         "rmse_mean",
         "pearson",
         "625",
         "1.196",
         "0.3768",
         "0.0295"
        ],
        [
         "5",
         "rmse_mean",
         "scran",
         "625",
         "1.1946",
         "0.3757",
         "0.0295"
        ],
        [
         "6",
         "pearson_r",
         "log1p",
         "625",
         "0.2085",
         "0.2008",
         "0.0157"
        ],
        [
         "7",
         "pearson_r",
         "pearson",
         "625",
         "0.1969",
         "0.2093",
         "0.0164"
        ],
        [
         "8",
         "pearson_r",
         "scran",
         "625",
         "0.2087",
         "0.2083",
         "0.0163"
        ],
        [
         "9",
         "spearman_r",
         "log1p",
         "625",
         "0.2177",
         "0.2012",
         "0.0158"
        ],
        [
         "10",
         "spearman_r",
         "pearson",
         "625",
         "0.2026",
         "0.2108",
         "0.0165"
        ],
        [
         "11",
         "spearman_r",
         "scran",
         "625",
         "0.2185",
         "0.2081",
         "0.0163"
        ]
       ],
       "shape": {
        "columns": 6,
        "rows": 12
       }
      },
      "text/html": [
       "<div>\n",
       "<style scoped>\n",
       "    .dataframe tbody tr th:only-of-type {\n",
       "        vertical-align: middle;\n",
       "    }\n",
       "\n",
       "    .dataframe tbody tr th {\n",
       "        vertical-align: top;\n",
       "    }\n",
       "\n",
       "    .dataframe thead th {\n",
       "        text-align: right;\n",
       "    }\n",
       "</style>\n",
       "<table border=\"1\" class=\"dataframe\">\n",
       "  <thead>\n",
       "    <tr style=\"text-align: right;\">\n",
       "      <th></th>\n",
       "      <th>metric</th>\n",
       "      <th>Preprocessing</th>\n",
       "      <th>N</th>\n",
       "      <th>Mean</th>\n",
       "      <th>Std</th>\n",
       "      <th>95% CI</th>\n",
       "    </tr>\n",
       "  </thead>\n",
       "  <tbody>\n",
       "    <tr>\n",
       "      <th>0</th>\n",
       "      <td>r2_mean</td>\n",
       "      <td>log1p</td>\n",
       "      <td>625</td>\n",
       "      <td>0.0588</td>\n",
       "      <td>0.1051</td>\n",
       "      <td>0.0082</td>\n",
       "    </tr>\n",
       "    <tr>\n",
       "      <th>1</th>\n",
       "      <td>r2_mean</td>\n",
       "      <td>pearson</td>\n",
       "      <td>625</td>\n",
       "      <td>0.0570</td>\n",
       "      <td>0.1056</td>\n",
       "      <td>0.0083</td>\n",
       "    </tr>\n",
       "    <tr>\n",
       "      <th>2</th>\n",
       "      <td>r2_mean</td>\n",
       "      <td>scran</td>\n",
       "      <td>625</td>\n",
       "      <td>0.0583</td>\n",
       "      <td>0.1093</td>\n",
       "      <td>0.0086</td>\n",
       "    </tr>\n",
       "    <tr>\n",
       "      <th>3</th>\n",
       "      <td>rmse_mean</td>\n",
       "      <td>log1p</td>\n",
       "      <td>625</td>\n",
       "      <td>1.1946</td>\n",
       "      <td>0.3751</td>\n",
       "      <td>0.0294</td>\n",
       "    </tr>\n",
       "    <tr>\n",
       "      <th>4</th>\n",
       "      <td>rmse_mean</td>\n",
       "      <td>pearson</td>\n",
       "      <td>625</td>\n",
       "      <td>1.1960</td>\n",
       "      <td>0.3768</td>\n",
       "      <td>0.0295</td>\n",
       "    </tr>\n",
       "    <tr>\n",
       "      <th>5</th>\n",
       "      <td>rmse_mean</td>\n",
       "      <td>scran</td>\n",
       "      <td>625</td>\n",
       "      <td>1.1946</td>\n",
       "      <td>0.3757</td>\n",
       "      <td>0.0295</td>\n",
       "    </tr>\n",
       "    <tr>\n",
       "      <th>6</th>\n",
       "      <td>pearson_r</td>\n",
       "      <td>log1p</td>\n",
       "      <td>625</td>\n",
       "      <td>0.2085</td>\n",
       "      <td>0.2008</td>\n",
       "      <td>0.0157</td>\n",
       "    </tr>\n",
       "    <tr>\n",
       "      <th>7</th>\n",
       "      <td>pearson_r</td>\n",
       "      <td>pearson</td>\n",
       "      <td>625</td>\n",
       "      <td>0.1969</td>\n",
       "      <td>0.2093</td>\n",
       "      <td>0.0164</td>\n",
       "    </tr>\n",
       "    <tr>\n",
       "      <th>8</th>\n",
       "      <td>pearson_r</td>\n",
       "      <td>scran</td>\n",
       "      <td>625</td>\n",
       "      <td>0.2087</td>\n",
       "      <td>0.2083</td>\n",
       "      <td>0.0163</td>\n",
       "    </tr>\n",
       "    <tr>\n",
       "      <th>9</th>\n",
       "      <td>spearman_r</td>\n",
       "      <td>log1p</td>\n",
       "      <td>625</td>\n",
       "      <td>0.2177</td>\n",
       "      <td>0.2012</td>\n",
       "      <td>0.0158</td>\n",
       "    </tr>\n",
       "    <tr>\n",
       "      <th>10</th>\n",
       "      <td>spearman_r</td>\n",
       "      <td>pearson</td>\n",
       "      <td>625</td>\n",
       "      <td>0.2026</td>\n",
       "      <td>0.2108</td>\n",
       "      <td>0.0165</td>\n",
       "    </tr>\n",
       "    <tr>\n",
       "      <th>11</th>\n",
       "      <td>spearman_r</td>\n",
       "      <td>scran</td>\n",
       "      <td>625</td>\n",
       "      <td>0.2185</td>\n",
       "      <td>0.2081</td>\n",
       "      <td>0.0163</td>\n",
       "    </tr>\n",
       "  </tbody>\n",
       "</table>\n",
       "</div>"
      ],
      "text/plain": [
       "        metric Preprocessing    N    Mean     Std  95% CI\n",
       "0      r2_mean         log1p  625  0.0588  0.1051  0.0082\n",
       "1      r2_mean       pearson  625  0.0570  0.1056  0.0083\n",
       "2      r2_mean         scran  625  0.0583  0.1093  0.0086\n",
       "3    rmse_mean         log1p  625  1.1946  0.3751  0.0294\n",
       "4    rmse_mean       pearson  625  1.1960  0.3768  0.0295\n",
       "5    rmse_mean         scran  625  1.1946  0.3757  0.0295\n",
       "6    pearson_r         log1p  625  0.2085  0.2008  0.0157\n",
       "7    pearson_r       pearson  625  0.1969  0.2093  0.0164\n",
       "8    pearson_r         scran  625  0.2087  0.2083  0.0163\n",
       "9   spearman_r         log1p  625  0.2177  0.2012  0.0158\n",
       "10  spearman_r       pearson  625  0.2026  0.2108  0.0165\n",
       "11  spearman_r         scran  625  0.2185  0.2081  0.0163"
      ]
     },
     "metadata": {},
     "output_type": "display_data"
    }
   ],
   "source": [
    "# %%\n",
    "# %% aggregate stats per preprocessing\n",
    "def agg_stats(df, metric):\n",
    "    g = df.groupby([\"Preprocessing\"], as_index=False)[metric].agg(mean=\"mean\", std=\"std\", n=\"count\")\n",
    "    g[\"se\"] = g[\"std\"] / np.sqrt(g[\"n\"])\n",
    "    g[\"ci95\"] = 1.96 * g[\"se\"]\n",
    "    g[\"metric\"] = metric\n",
    "    return g.rename(columns={\"mean\":\"Mean\",\"std\":\"Std\",\"n\":\"N\",\"ci95\":\"95% CI\"})\n",
    "\n",
    "summary_table = pd.concat([\n",
    "    agg_stats(df_all, \"r2_mean\"),\n",
    "    agg_stats(df_all, \"rmse_mean\"),\n",
    "    agg_stats(df_all, \"pearson_r\"),\n",
    "    agg_stats(df_all, \"spearman_r\"),\n",
    "], ignore_index=True)\n",
    "\n",
    "display(summary_table[[\"metric\",\"Preprocessing\",\"N\",\"Mean\",\"Std\",\"95% CI\"]].round(4))\n"
   ]
  },
  {
   "cell_type": "code",
   "execution_count": 4,
   "id": "0e73095b",
   "metadata": {},
   "outputs": [
    {
     "data": {
      "application/vnd.microsoft.datawrangler.viewer.v0+json": {
       "columns": [
        {
         "name": "index",
         "rawType": "int64",
         "type": "integer"
        },
        {
         "name": "Preprocessing",
         "rawType": "object",
         "type": "string"
        },
        {
         "name": "% Pearson p<0.05",
         "rawType": "float64",
         "type": "float"
        },
        {
         "name": "% Spearman p<0.05",
         "rawType": "float64",
         "type": "float"
        },
        {
         "name": "N",
         "rawType": "int64",
         "type": "integer"
        }
       ],
       "ref": "1a49b043-9dce-4016-85d8-96f82f03614f",
       "rows": [
        [
         "0",
         "log1p",
         "62.4",
         "67.8",
         "625"
        ],
        [
         "1",
         "pearson",
         "62.2",
         "67.0",
         "625"
        ],
        [
         "2",
         "scran",
         "64.8",
         "70.7",
         "625"
        ]
       ],
       "shape": {
        "columns": 4,
        "rows": 3
       }
      },
      "text/html": [
       "<div>\n",
       "<style scoped>\n",
       "    .dataframe tbody tr th:only-of-type {\n",
       "        vertical-align: middle;\n",
       "    }\n",
       "\n",
       "    .dataframe tbody tr th {\n",
       "        vertical-align: top;\n",
       "    }\n",
       "\n",
       "    .dataframe thead th {\n",
       "        text-align: right;\n",
       "    }\n",
       "</style>\n",
       "<table border=\"1\" class=\"dataframe\">\n",
       "  <thead>\n",
       "    <tr style=\"text-align: right;\">\n",
       "      <th></th>\n",
       "      <th>Preprocessing</th>\n",
       "      <th>% Pearson p&lt;0.05</th>\n",
       "      <th>% Spearman p&lt;0.05</th>\n",
       "      <th>N</th>\n",
       "    </tr>\n",
       "  </thead>\n",
       "  <tbody>\n",
       "    <tr>\n",
       "      <th>0</th>\n",
       "      <td>log1p</td>\n",
       "      <td>62.4</td>\n",
       "      <td>67.8</td>\n",
       "      <td>625</td>\n",
       "    </tr>\n",
       "    <tr>\n",
       "      <th>1</th>\n",
       "      <td>pearson</td>\n",
       "      <td>62.2</td>\n",
       "      <td>67.0</td>\n",
       "      <td>625</td>\n",
       "    </tr>\n",
       "    <tr>\n",
       "      <th>2</th>\n",
       "      <td>scran</td>\n",
       "      <td>64.8</td>\n",
       "      <td>70.7</td>\n",
       "      <td>625</td>\n",
       "    </tr>\n",
       "  </tbody>\n",
       "</table>\n",
       "</div>"
      ],
      "text/plain": [
       "  Preprocessing  % Pearson p<0.05  % Spearman p<0.05    N\n",
       "0         log1p              62.4               67.8  625\n",
       "1       pearson              62.2               67.0  625\n",
       "2         scran              64.8               70.7  625"
      ]
     },
     "metadata": {},
     "output_type": "display_data"
    }
   ],
   "source": [
    "# %%\n",
    "# %% proportion of significant correlations (p < 0.05) per preprocessing\n",
    "sig_rates = (\n",
    "    df_all.assign(sig_pearson = df_all[\"pearson_pval\"] < 0.05,\n",
    "                  sig_spearman = df_all[\"spearman_pval\"] < 0.05)\n",
    "           .groupby(\"Preprocessing\")\n",
    "           .agg(pearson_rate=(\"sig_pearson\",\"mean\"),\n",
    "                spearman_rate=(\"sig_spearman\",\"mean\"),\n",
    "                N=(\"sig_pearson\",\"count\"))\n",
    "           .reset_index()\n",
    ")\n",
    "sig_rates[\"pearson_rate\"] = (100*sig_rates[\"pearson_rate\"]).round(1)\n",
    "sig_rates[\"spearman_rate\"] = (100*sig_rates[\"spearman_rate\"]).round(1)\n",
    "sig_rates.rename(columns={\"pearson_rate\":\"% Pearson p<0.05\",\n",
    "                          \"spearman_rate\":\"% Spearman p<0.05\"}, inplace=True)\n",
    "display(sig_rates)\n"
   ]
  }
 ],
 "metadata": {
  "kernelspec": {
   "display_name": "tese-env",
   "language": "python",
   "name": "python3"
  },
  "language_info": {
   "codemirror_mode": {
    "name": "ipython",
    "version": 3
   },
   "file_extension": ".py",
   "mimetype": "text/x-python",
   "name": "python",
   "nbconvert_exporter": "python",
   "pygments_lexer": "ipython3",
   "version": "3.10.16"
  }
 },
 "nbformat": 4,
 "nbformat_minor": 5
}
