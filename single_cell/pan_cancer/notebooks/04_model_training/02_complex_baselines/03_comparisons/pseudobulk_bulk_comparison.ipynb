{
 "cells": [
  {
   "cell_type": "code",
   "execution_count": 7,
   "id": "cd5e252d",
   "metadata": {},
   "outputs": [
    {
     "name": "stdout",
     "output_type": "stream",
     "text": [
      "✅ combined: (1250, 9)\n"
     ]
    },
    {
     "data": {
      "application/vnd.microsoft.datawrangler.viewer.v0+json": {
       "columns": [
        {
         "name": "index",
         "rawType": "int64",
         "type": "integer"
        },
        {
         "name": "DRUG_ID",
         "rawType": "int64",
         "type": "integer"
        },
        {
         "name": "n_samples",
         "rawType": "int64",
         "type": "integer"
        },
        {
         "name": "r2_mean",
         "rawType": "float64",
         "type": "float"
        },
        {
         "name": "rmse_mean",
         "rawType": "float64",
         "type": "float"
        },
        {
         "name": "pearson_r",
         "rawType": "float64",
         "type": "float"
        },
        {
         "name": "pearson_pval",
         "rawType": "float64",
         "type": "float"
        },
        {
         "name": "spearman_r",
         "rawType": "float64",
         "type": "float"
        },
        {
         "name": "spearman_pval",
         "rawType": "float64",
         "type": "float"
        },
        {
         "name": "DataType",
         "rawType": "object",
         "type": "string"
        }
       ],
       "ref": "d16ec3f5-e5f6-4b40-975b-843602179069",
       "rows": [
        [
         "0",
         "133",
         "132",
         "0.0421697372952373",
         "1.6582429004641503",
         "0.207872631079217",
         "0.0167684043399297",
         "0.1884082169337291",
         "0.0305049151924276",
         "Bulk"
        ],
        [
         "1",
         "134",
         "132",
         "0.052034378518398",
         "1.8619671624453376",
         "0.2302906271021587",
         "0.0078961803105837",
         "0.2425946893604587",
         "0.0050679146817775",
         "Bulk"
        ],
        [
         "2",
         "135",
         "131",
         "0.0538097670882866",
         "2.538987636493854",
         "0.2462026894022461",
         "0.0045871449289202",
         "0.2691613729781669",
         "0.0018788206576443",
         "Bulk"
        ],
        [
         "3",
         "136",
         "133",
         "0.0164158254550327",
         "1.4944541113827208",
         "0.1733416185814206",
         "0.0460063884083107",
         "0.1395568296589506",
         "0.1091321582598143",
         "Bulk"
        ],
        [
         "4",
         "140",
         "133",
         "0.0494205554898257",
         "1.5973498860639737",
         "0.2223443807673642",
         "0.0101031489709672",
         "0.2139031432040073",
         "0.0134265569420983",
         "Bulk"
        ]
       ],
       "shape": {
        "columns": 9,
        "rows": 5
       }
      },
      "text/html": [
       "<div>\n",
       "<style scoped>\n",
       "    .dataframe tbody tr th:only-of-type {\n",
       "        vertical-align: middle;\n",
       "    }\n",
       "\n",
       "    .dataframe tbody tr th {\n",
       "        vertical-align: top;\n",
       "    }\n",
       "\n",
       "    .dataframe thead th {\n",
       "        text-align: right;\n",
       "    }\n",
       "</style>\n",
       "<table border=\"1\" class=\"dataframe\">\n",
       "  <thead>\n",
       "    <tr style=\"text-align: right;\">\n",
       "      <th></th>\n",
       "      <th>DRUG_ID</th>\n",
       "      <th>n_samples</th>\n",
       "      <th>r2_mean</th>\n",
       "      <th>rmse_mean</th>\n",
       "      <th>pearson_r</th>\n",
       "      <th>pearson_pval</th>\n",
       "      <th>spearman_r</th>\n",
       "      <th>spearman_pval</th>\n",
       "      <th>DataType</th>\n",
       "    </tr>\n",
       "  </thead>\n",
       "  <tbody>\n",
       "    <tr>\n",
       "      <th>0</th>\n",
       "      <td>133</td>\n",
       "      <td>132</td>\n",
       "      <td>0.042170</td>\n",
       "      <td>1.658243</td>\n",
       "      <td>0.207873</td>\n",
       "      <td>0.016768</td>\n",
       "      <td>0.188408</td>\n",
       "      <td>0.030505</td>\n",
       "      <td>Bulk</td>\n",
       "    </tr>\n",
       "    <tr>\n",
       "      <th>1</th>\n",
       "      <td>134</td>\n",
       "      <td>132</td>\n",
       "      <td>0.052034</td>\n",
       "      <td>1.861967</td>\n",
       "      <td>0.230291</td>\n",
       "      <td>0.007896</td>\n",
       "      <td>0.242595</td>\n",
       "      <td>0.005068</td>\n",
       "      <td>Bulk</td>\n",
       "    </tr>\n",
       "    <tr>\n",
       "      <th>2</th>\n",
       "      <td>135</td>\n",
       "      <td>131</td>\n",
       "      <td>0.053810</td>\n",
       "      <td>2.538988</td>\n",
       "      <td>0.246203</td>\n",
       "      <td>0.004587</td>\n",
       "      <td>0.269161</td>\n",
       "      <td>0.001879</td>\n",
       "      <td>Bulk</td>\n",
       "    </tr>\n",
       "    <tr>\n",
       "      <th>3</th>\n",
       "      <td>136</td>\n",
       "      <td>133</td>\n",
       "      <td>0.016416</td>\n",
       "      <td>1.494454</td>\n",
       "      <td>0.173342</td>\n",
       "      <td>0.046006</td>\n",
       "      <td>0.139557</td>\n",
       "      <td>0.109132</td>\n",
       "      <td>Bulk</td>\n",
       "    </tr>\n",
       "    <tr>\n",
       "      <th>4</th>\n",
       "      <td>140</td>\n",
       "      <td>133</td>\n",
       "      <td>0.049421</td>\n",
       "      <td>1.597350</td>\n",
       "      <td>0.222344</td>\n",
       "      <td>0.010103</td>\n",
       "      <td>0.213903</td>\n",
       "      <td>0.013427</td>\n",
       "      <td>Bulk</td>\n",
       "    </tr>\n",
       "  </tbody>\n",
       "</table>\n",
       "</div>"
      ],
      "text/plain": [
       "   DRUG_ID  n_samples   r2_mean  rmse_mean  pearson_r  pearson_pval  \\\n",
       "0      133        132  0.042170   1.658243   0.207873      0.016768   \n",
       "1      134        132  0.052034   1.861967   0.230291      0.007896   \n",
       "2      135        131  0.053810   2.538988   0.246203      0.004587   \n",
       "3      136        133  0.016416   1.494454   0.173342      0.046006   \n",
       "4      140        133  0.049421   1.597350   0.222344      0.010103   \n",
       "\n",
       "   spearman_r  spearman_pval DataType  \n",
       "0    0.188408       0.030505     Bulk  \n",
       "1    0.242595       0.005068     Bulk  \n",
       "2    0.269161       0.001879     Bulk  \n",
       "3    0.139557       0.109132     Bulk  \n",
       "4    0.213903       0.013427     Bulk  "
      ]
     },
     "execution_count": 7,
     "metadata": {},
     "output_type": "execute_result"
    }
   ],
   "source": [
    "# %%\n",
    "import pandas as pd\n",
    "import seaborn as sns\n",
    "import matplotlib.pyplot as plt\n",
    "import numpy as np\n",
    "from scipy.stats import wilcoxon, ttest_rel\n",
    "\n",
    "# ---------- paths for Elastic Net only (bulk vs pseudobulk)\n",
    "BULK_FILE = \"voom_bulk_10_fold_30_pcs_tissue_growth.csv\"\n",
    "PSEUDO_FILE = \"10_fold_pseudobulk_voom_30_pcs_tissue_growth.csv\"\n",
    "\n",
    "PATHS = {\n",
    "    \"Bulk\": f\"01_simple_baselines/results/elastic_net/{BULK_FILE}\",\n",
    "    \"Pseudobulk\": f\"01_simple_baselines/results/elastic_net/{PSEUDO_FILE}\",\n",
    "}\n",
    "\n",
    "def load_results(path, label):\n",
    "    df = pd.read_csv(path)\n",
    "    # Normalize column names\n",
    "    df.rename(columns=lambda c: c.strip().replace(\"²\", \"^2\"), inplace=True)\n",
    "    if \"r2_mean\" not in df.columns and \"r2_global\" in df.columns:\n",
    "        df = df.rename(columns={\"r2_global\":\"r2_mean\", \"rmse\":\"rmse_mean\"})\n",
    "    needed = {\"DRUG_ID\",\"n_samples\",\"r2_mean\",\"rmse_mean\",\n",
    "              \"pearson_r\",\"pearson_pval\",\"spearman_r\",\"spearman_pval\"}\n",
    "    missing = sorted(list(needed - set(df.columns)))\n",
    "    if missing:\n",
    "        raise ValueError(f\"Missing columns in {path}: {missing}\")\n",
    "    df[\"DataType\"] = label\n",
    "    return df[[\"DRUG_ID\",\"n_samples\",\"r2_mean\",\"rmse_mean\",\n",
    "               \"pearson_r\",\"pearson_pval\",\"spearman_r\",\"spearman_pval\",\"DataType\"]]\n",
    "\n",
    "frames = [load_results(p, m) for m,p in PATHS.items()]\n",
    "bulk_df = pd.concat(frames, ignore_index=True)\n",
    "print(\"✅ combined:\", bulk_df.shape)\n",
    "bulk_df.head()\n"
   ]
  },
  {
   "cell_type": "code",
   "execution_count": 8,
   "id": "9bbb5ec9",
   "metadata": {},
   "outputs": [
    {
     "data": {
      "image/png": "[encoded data removed]",
      "text/plain": [
       "<Figure size 700x360 with 1 Axes>"
      ]
     },
     "metadata": {},
     "output_type": "display_data"
    },
    {
     "data": {
      "image/png": "[encoded data removed]",
      "text/plain": [
       "<Figure size 700x360 with 1 Axes>"
      ]
     },
     "metadata": {},
     "output_type": "display_data"
    },
    {
     "data": {
      "image/png": "[encoded data removed]",
      "text/plain": [
       "<Figure size 700x360 with 1 Axes>"
      ]
     },
     "metadata": {},
     "output_type": "display_data"
    },
    {
     "data": {
      "image/png": "[encoded data removed]",
      "text/plain": [
       "<Figure size 700x360 with 1 Axes>"
      ]
     },
     "metadata": {},
     "output_type": "display_data"
    }
   ],
   "source": [
    "# %%\n",
    "# boxplots (R², RMSE, Pearson r, Spearman ρ) comparing Bulk vs Pseudobulk\n",
    "def nice_boxplot(df, x, title):\n",
    "    fig, ax = plt.subplots(figsize=(7, 3.6))\n",
    "    sns.boxplot(\n",
    "        data=df, x=x, y=\"DataType\", hue=\"DataType\",\n",
    "        palette=\"muted\", showfliers=False, dodge=False, ax=ax,\n",
    "        boxprops=dict(linewidth=0.8),\n",
    "        whiskerprops=dict(linewidth=0.8),\n",
    "        capprops=dict(linewidth=0.8),\n",
    "        medianprops=dict(linewidth=1.0),\n",
    "    )\n",
    "    ax.set_title(title, fontsize=12)\n",
    "    ax.xaxis.set_label_position('top')\n",
    "    ax.set_xlabel({\"r2_mean\":\"R²\", \"rmse_mean\":\"RMSE\",\n",
    "                   \"pearson_r\":\"Pearson r\",\"spearman_r\":\"Spearman ρ\"}[x],\n",
    "                   fontsize=10, labelpad=2)\n",
    "    ax.set_ylabel(\"\")\n",
    "    handles, labels = ax.get_legend_handles_labels()\n",
    "    ax.legend(handles[:2], labels[:2], title=\"Data Type\", frameon=False, loc=\"upper left\",\n",
    "              bbox_to_anchor=(1.01, 1.0), fontsize=9, title_fontsize=10)\n",
    "    for sp in ax.spines.values(): sp.set_linewidth(0.8)\n",
    "    ax.tick_params(axis=\"both\", labelsize=9, width=0.8, length=3, pad=2)\n",
    "    ax.grid(axis=\"x\", linestyle=\"--\", alpha=0.5, linewidth=0.5)\n",
    "    plt.tight_layout(); plt.show()\n",
    "\n",
    "nice_boxplot(bulk_df, \"r2_mean\",    \"R² Distribution: Bulk vs Pseudobulk (Elastic Net)\")\n",
    "nice_boxplot(bulk_df, \"rmse_mean\",  \"RMSE Distribution: Bulk vs Pseudobulk (Elastic Net)\")\n",
    "nice_boxplot(bulk_df, \"pearson_r\",  \"Pearson r Distribution: Bulk vs Pseudobulk (Elastic Net)\")\n",
    "nice_boxplot(bulk_df, \"spearman_r\", \"Spearman ρ Distribution: Bulk vs Pseudobulk (Elastic Net)\")\n"
   ]
  },
  {
   "cell_type": "code",
   "execution_count": 9,
   "id": "ac3c2334",
   "metadata": {},
   "outputs": [
    {
     "data": {
      "application/vnd.microsoft.datawrangler.viewer.v0+json": {
       "columns": [
        {
         "name": "index",
         "rawType": "int64",
         "type": "integer"
        },
        {
         "name": "Metric",
         "rawType": "object",
         "type": "string"
        },
        {
         "name": "n",
         "rawType": "int64",
         "type": "integer"
        },
        {
         "name": "delta_mean",
         "rawType": "float64",
         "type": "float"
        },
        {
         "name": "delta_median",
         "rawType": "float64",
         "type": "float"
        },
        {
         "name": "win_rate",
         "rawType": "float64",
         "type": "float"
        },
        {
         "name": "wilcoxon_p",
         "rawType": "float64",
         "type": "float"
        },
        {
         "name": "ttest_p",
         "rawType": "float64",
         "type": "float"
        }
       ],
       "ref": "c0a9af6b-ef77-4d72-abe8-d2b63c9133ec",
       "rows": [
        [
         "0",
         "R² (Pseudo - Bulk)",
         "625",
         "-0.013212106331092812",
         "-0.013791034434501897",
         "0.3904",
         "1.4559227719945228e-08",
         "6.301686157572418e-07"
        ],
        [
         "1",
         "RMSE (Bulk - Pseudo)",
         "625",
         "-0.0062361389386404835",
         "-0.007999007511328315",
         "0.3888",
         "2.208817767541978e-07",
         "0.0005226444294379536"
        ],
        [
         "2",
         "Pearson r (Pseudo - Bulk)",
         "625",
         "-0.02854981392687482",
         "-0.025487741232761763",
         "0.3952",
         "1.310125075730415e-09",
         "6.19807607329481e-08"
        ],
        [
         "3",
         "Spearman ρ (Pseudo - Bulk)",
         "625",
         "-0.03335504844608145",
         "-0.030192385855575266",
         "0.3808",
         "2.9849535654489213e-11",
         "1.044398683029619e-09"
        ]
       ],
       "shape": {
        "columns": 7,
        "rows": 4
       }
      },
      "text/html": [
       "<div>\n",
       "<style scoped>\n",
       "    .dataframe tbody tr th:only-of-type {\n",
       "        vertical-align: middle;\n",
       "    }\n",
       "\n",
       "    .dataframe tbody tr th {\n",
       "        vertical-align: top;\n",
       "    }\n",
       "\n",
       "    .dataframe thead th {\n",
       "        text-align: right;\n",
       "    }\n",
       "</style>\n",
       "<table border=\"1\" class=\"dataframe\">\n",
       "  <thead>\n",
       "    <tr style=\"text-align: right;\">\n",
       "      <th></th>\n",
       "      <th>Metric</th>\n",
       "      <th>n</th>\n",
       "      <th>delta_mean</th>\n",
       "      <th>delta_median</th>\n",
       "      <th>win_rate</th>\n",
       "      <th>wilcoxon_p</th>\n",
       "      <th>ttest_p</th>\n",
       "    </tr>\n",
       "  </thead>\n",
       "  <tbody>\n",
       "    <tr>\n",
       "      <th>0</th>\n",
       "      <td>R² (Pseudo - Bulk)</td>\n",
       "      <td>625</td>\n",
       "      <td>-0.013212</td>\n",
       "      <td>-0.013791</td>\n",
       "      <td>0.3904</td>\n",
       "      <td>1.455923e-08</td>\n",
       "      <td>6.301686e-07</td>\n",
       "    </tr>\n",
       "    <tr>\n",
       "      <th>1</th>\n",
       "      <td>RMSE (Bulk - Pseudo)</td>\n",
       "      <td>625</td>\n",
       "      <td>-0.006236</td>\n",
       "      <td>-0.007999</td>\n",
       "      <td>0.3888</td>\n",
       "      <td>2.208818e-07</td>\n",
       "      <td>5.226444e-04</td>\n",
       "    </tr>\n",
       "    <tr>\n",
       "      <th>2</th>\n",
       "      <td>Pearson r (Pseudo - Bulk)</td>\n",
       "      <td>625</td>\n",
       "      <td>-0.028550</td>\n",
       "      <td>-0.025488</td>\n",
       "      <td>0.3952</td>\n",
       "      <td>1.310125e-09</td>\n",
       "      <td>6.198076e-08</td>\n",
       "    </tr>\n",
       "    <tr>\n",
       "      <th>3</th>\n",
       "      <td>Spearman ρ (Pseudo - Bulk)</td>\n",
       "      <td>625</td>\n",
       "      <td>-0.033355</td>\n",
       "      <td>-0.030192</td>\n",
       "      <td>0.3808</td>\n",
       "      <td>2.984954e-11</td>\n",
       "      <td>1.044399e-09</td>\n",
       "    </tr>\n",
       "  </tbody>\n",
       "</table>\n",
       "</div>"
      ],
      "text/plain": [
       "                       Metric    n  delta_mean  delta_median  win_rate  \\\n",
       "0          R² (Pseudo - Bulk)  625   -0.013212     -0.013791    0.3904   \n",
       "1        RMSE (Bulk - Pseudo)  625   -0.006236     -0.007999    0.3888   \n",
       "2   Pearson r (Pseudo - Bulk)  625   -0.028550     -0.025488    0.3952   \n",
       "3  Spearman ρ (Pseudo - Bulk)  625   -0.033355     -0.030192    0.3808   \n",
       "\n",
       "     wilcoxon_p       ttest_p  \n",
       "0  1.455923e-08  6.301686e-07  \n",
       "1  2.208818e-07  5.226444e-04  \n",
       "2  1.310125e-09  6.198076e-08  \n",
       "3  2.984954e-11  1.044399e-09  "
      ]
     },
     "metadata": {},
     "output_type": "display_data"
    }
   ],
   "source": [
    "# %% paired tests: Bulk vs Pseudobulk per drug (positive delta = Pseudobulk better)\n",
    "def paired_tests(df, metric=\"r2_mean\"):\n",
    "    wide = df.pivot_table(index=\"DRUG_ID\", columns=\"DataType\", values=metric, aggfunc=\"mean\").dropna()\n",
    "    if wide.empty:\n",
    "        return None\n",
    "    x, y = wide[\"Pseudobulk\"], wide[\"Bulk\"]\n",
    "    if metric in (\"r2_mean\",\"pearson_r\",\"spearman_r\"):  # higher is better\n",
    "        d = x - y\n",
    "    else:  # rmse_mean: lower is better\n",
    "        d = y - x\n",
    "    n = len(d)\n",
    "    return {\n",
    "        \"n\": n,\n",
    "        \"delta_mean\": d.mean(),\n",
    "        \"delta_median\": d.median(),\n",
    "        \"win_rate\": (d > 0).mean(),  # fraction where Pseudobulk wins\n",
    "        \"wilcoxon_p\": wilcoxon(d, zero_method=\"pratt\").pvalue if n>=5 else np.nan,\n",
    "        \"ttest_p\": ttest_rel(x, y, nan_policy=\"omit\").pvalue if n>=5 else np.nan\n",
    "    }\n",
    "\n",
    "rows = []\n",
    "for metric, nice in [(\"r2_mean\",\"R² (Pseudo - Bulk)\"),\n",
    "                     (\"rmse_mean\",\"RMSE (Bulk - Pseudo)\"),   # lower is better\n",
    "                     (\"pearson_r\",\"Pearson r (Pseudo - Bulk)\"),\n",
    "                     (\"spearman_r\",\"Spearman ρ (Pseudo - Bulk)\")]:\n",
    "    out = paired_tests(bulk_df, metric)\n",
    "    if out:\n",
    "        rows.append({\"Metric\": nice, **out})\n",
    "paired_summary = pd.DataFrame(rows)\n",
    "display(paired_summary)\n"
   ]
  },
  {
   "cell_type": "code",
   "execution_count": 10,
   "id": "d6eeccd0",
   "metadata": {},
   "outputs": [
    {
     "data": {
      "application/vnd.microsoft.datawrangler.viewer.v0+json": {
       "columns": [
        {
         "name": "index",
         "rawType": "int64",
         "type": "integer"
        },
        {
         "name": "metric",
         "rawType": "object",
         "type": "string"
        },
        {
         "name": "DataType",
         "rawType": "object",
         "type": "string"
        },
        {
         "name": "N",
         "rawType": "int64",
         "type": "integer"
        },
        {
         "name": "Mean",
         "rawType": "float64",
         "type": "float"
        },
        {
         "name": "Std",
         "rawType": "float64",
         "type": "float"
        },
        {
         "name": "95% CI",
         "rawType": "float64",
         "type": "float"
        }
       ],
       "ref": "292572bc-0569-4dca-8bf3-f72050be76a0",
       "rows": [
        [
         "0",
         "r2_mean",
         "Bulk",
         "625",
         "0.0776",
         "0.106",
         "0.0083"
        ],
        [
         "1",
         "r2_mean",
         "Pseudobulk",
         "625",
         "0.0644",
         "0.1078",
         "0.0085"
        ],
        [
         "2",
         "rmse_mean",
         "Bulk",
         "625",
         "1.1847",
         "0.3787",
         "0.0297"
        ],
        [
         "3",
         "rmse_mean",
         "Pseudobulk",
         "625",
         "1.1909",
         "0.3755",
         "0.0294"
        ],
        [
         "4",
         "pearson_r",
         "Bulk",
         "625",
         "0.2356",
         "0.2035",
         "0.016"
        ],
        [
         "5",
         "pearson_r",
         "Pseudobulk",
         "625",
         "0.2071",
         "0.2114",
         "0.0166"
        ],
        [
         "6",
         "spearman_r",
         "Bulk",
         "625",
         "0.2395",
         "0.2058",
         "0.0161"
        ],
        [
         "7",
         "spearman_r",
         "Pseudobulk",
         "625",
         "0.2061",
         "0.2145",
         "0.0168"
        ]
       ],
       "shape": {
        "columns": 6,
        "rows": 8
       }
      },
      "text/html": [
       "<div>\n",
       "<style scoped>\n",
       "    .dataframe tbody tr th:only-of-type {\n",
       "        vertical-align: middle;\n",
       "    }\n",
       "\n",
       "    .dataframe tbody tr th {\n",
       "        vertical-align: top;\n",
       "    }\n",
       "\n",
       "    .dataframe thead th {\n",
       "        text-align: right;\n",
       "    }\n",
       "</style>\n",
       "<table border=\"1\" class=\"dataframe\">\n",
       "  <thead>\n",
       "    <tr style=\"text-align: right;\">\n",
       "      <th></th>\n",
       "      <th>metric</th>\n",
       "      <th>DataType</th>\n",
       "      <th>N</th>\n",
       "      <th>Mean</th>\n",
       "      <th>Std</th>\n",
       "      <th>95% CI</th>\n",
       "    </tr>\n",
       "  </thead>\n",
       "  <tbody>\n",
       "    <tr>\n",
       "      <th>0</th>\n",
       "      <td>r2_mean</td>\n",
       "      <td>Bulk</td>\n",
       "      <td>625</td>\n",
       "      <td>0.0776</td>\n",
       "      <td>0.1060</td>\n",
       "      <td>0.0083</td>\n",
       "    </tr>\n",
       "    <tr>\n",
       "      <th>1</th>\n",
       "      <td>r2_mean</td>\n",
       "      <td>Pseudobulk</td>\n",
       "      <td>625</td>\n",
       "      <td>0.0644</td>\n",
       "      <td>0.1078</td>\n",
       "      <td>0.0085</td>\n",
       "    </tr>\n",
       "    <tr>\n",
       "      <th>2</th>\n",
       "      <td>rmse_mean</td>\n",
       "      <td>Bulk</td>\n",
       "      <td>625</td>\n",
       "      <td>1.1847</td>\n",
       "      <td>0.3787</td>\n",
       "      <td>0.0297</td>\n",
       "    </tr>\n",
       "    <tr>\n",
       "      <th>3</th>\n",
       "      <td>rmse_mean</td>\n",
       "      <td>Pseudobulk</td>\n",
       "      <td>625</td>\n",
       "      <td>1.1909</td>\n",
       "      <td>0.3755</td>\n",
       "      <td>0.0294</td>\n",
       "    </tr>\n",
       "    <tr>\n",
       "      <th>4</th>\n",
       "      <td>pearson_r</td>\n",
       "      <td>Bulk</td>\n",
       "      <td>625</td>\n",
       "      <td>0.2356</td>\n",
       "      <td>0.2035</td>\n",
       "      <td>0.0160</td>\n",
       "    </tr>\n",
       "    <tr>\n",
       "      <th>5</th>\n",
       "      <td>pearson_r</td>\n",
       "      <td>Pseudobulk</td>\n",
       "      <td>625</td>\n",
       "      <td>0.2071</td>\n",
       "      <td>0.2114</td>\n",
       "      <td>0.0166</td>\n",
       "    </tr>\n",
       "    <tr>\n",
       "      <th>6</th>\n",
       "      <td>spearman_r</td>\n",
       "      <td>Bulk</td>\n",
       "      <td>625</td>\n",
       "      <td>0.2395</td>\n",
       "      <td>0.2058</td>\n",
       "      <td>0.0161</td>\n",
       "    </tr>\n",
       "    <tr>\n",
       "      <th>7</th>\n",
       "      <td>spearman_r</td>\n",
       "      <td>Pseudobulk</td>\n",
       "      <td>625</td>\n",
       "      <td>0.2061</td>\n",
       "      <td>0.2145</td>\n",
       "      <td>0.0168</td>\n",
       "    </tr>\n",
       "  </tbody>\n",
       "</table>\n",
       "</div>"
      ],
      "text/plain": [
       "       metric    DataType    N    Mean     Std  95% CI\n",
       "0     r2_mean        Bulk  625  0.0776  0.1060  0.0083\n",
       "1     r2_mean  Pseudobulk  625  0.0644  0.1078  0.0085\n",
       "2   rmse_mean        Bulk  625  1.1847  0.3787  0.0297\n",
       "3   rmse_mean  Pseudobulk  625  1.1909  0.3755  0.0294\n",
       "4   pearson_r        Bulk  625  0.2356  0.2035  0.0160\n",
       "5   pearson_r  Pseudobulk  625  0.2071  0.2114  0.0166\n",
       "6  spearman_r        Bulk  625  0.2395  0.2058  0.0161\n",
       "7  spearman_r  Pseudobulk  625  0.2061  0.2145  0.0168"
      ]
     },
     "metadata": {},
     "output_type": "display_data"
    }
   ],
   "source": [
    "# %% aggregate stats per data type\n",
    "def agg_stats(df, metric):\n",
    "    g = df.groupby([\"DataType\"], as_index=False)[metric].agg(mean=\"mean\", std=\"std\", n=\"count\")\n",
    "    g[\"se\"] = g[\"std\"] / np.sqrt(g[\"n\"])\n",
    "    g[\"ci95\"] = 1.96 * g[\"se\"]\n",
    "    g[\"metric\"] = metric\n",
    "    return g.rename(columns={\"mean\":\"Mean\",\"std\":\"Std\",\"n\":\"N\",\"ci95\":\"95% CI\"})\n",
    "\n",
    "summary_table = pd.concat([\n",
    "    agg_stats(bulk_df, \"r2_mean\"),\n",
    "    agg_stats(bulk_df, \"rmse_mean\"),\n",
    "    agg_stats(bulk_df, \"pearson_r\"),\n",
    "    agg_stats(bulk_df, \"spearman_r\"),\n",
    "], ignore_index=True)\n",
    "\n",
    "display(summary_table[[\"metric\",\"DataType\",\"N\",\"Mean\",\"Std\",\"95% CI\"]].round(4))\n"
   ]
  },
  {
   "cell_type": "code",
   "execution_count": 11,
   "id": "4dcf5ef6",
   "metadata": {},
   "outputs": [
    {
     "data": {
      "application/vnd.microsoft.datawrangler.viewer.v0+json": {
       "columns": [
        {
         "name": "index",
         "rawType": "int64",
         "type": "integer"
        },
        {
         "name": "DataType",
         "rawType": "object",
         "type": "string"
        },
        {
         "name": "% Pearson p<0.05",
         "rawType": "float64",
         "type": "float"
        },
        {
         "name": "% Spearman p<0.05",
         "rawType": "float64",
         "type": "float"
        },
        {
         "name": "N",
         "rawType": "int64",
         "type": "integer"
        }
       ],
       "ref": "caf45afa-4a5a-46c6-9317-df92f066f0db",
       "rows": [
        [
         "0",
         "Bulk",
         "72.2",
         "74.6",
         "625"
        ],
        [
         "1",
         "Pseudobulk",
         "63.7",
         "70.6",
         "625"
        ]
       ],
       "shape": {
        "columns": 4,
        "rows": 2
       }
      },
      "text/html": [
       "<div>\n",
       "<style scoped>\n",
       "    .dataframe tbody tr th:only-of-type {\n",
       "        vertical-align: middle;\n",
       "    }\n",
       "\n",
       "    .dataframe tbody tr th {\n",
       "        vertical-align: top;\n",
       "    }\n",
       "\n",
       "    .dataframe thead th {\n",
       "        text-align: right;\n",
       "    }\n",
       "</style>\n",
       "<table border=\"1\" class=\"dataframe\">\n",
       "  <thead>\n",
       "    <tr style=\"text-align: right;\">\n",
       "      <th></th>\n",
       "      <th>DataType</th>\n",
       "      <th>% Pearson p&lt;0.05</th>\n",
       "      <th>% Spearman p&lt;0.05</th>\n",
       "      <th>N</th>\n",
       "    </tr>\n",
       "  </thead>\n",
       "  <tbody>\n",
       "    <tr>\n",
       "      <th>0</th>\n",
       "      <td>Bulk</td>\n",
       "      <td>72.2</td>\n",
       "      <td>74.6</td>\n",
       "      <td>625</td>\n",
       "    </tr>\n",
       "    <tr>\n",
       "      <th>1</th>\n",
       "      <td>Pseudobulk</td>\n",
       "      <td>63.7</td>\n",
       "      <td>70.6</td>\n",
       "      <td>625</td>\n",
       "    </tr>\n",
       "  </tbody>\n",
       "</table>\n",
       "</div>"
      ],
      "text/plain": [
       "     DataType  % Pearson p<0.05  % Spearman p<0.05    N\n",
       "0        Bulk              72.2               74.6  625\n",
       "1  Pseudobulk              63.7               70.6  625"
      ]
     },
     "metadata": {},
     "output_type": "display_data"
    }
   ],
   "source": [
    "# %% proportion of significant correlations (p < 0.05) per data type\n",
    "sig_rates = (\n",
    "    bulk_df.assign(sig_pearson = bulk_df[\"pearson_pval\"] < 0.05,\n",
    "                   sig_spearman = bulk_df[\"spearman_pval\"] < 0.05)\n",
    "            .groupby(\"DataType\")\n",
    "            .agg(pearson_rate=(\"sig_pearson\",\"mean\"),\n",
    "                 spearman_rate=(\"sig_spearman\",\"mean\"),\n",
    "                 N=(\"sig_pearson\",\"count\"))\n",
    "            .reset_index()\n",
    ")\n",
    "sig_rates[\"pearson_rate\"] = (100*sig_rates[\"pearson_rate\"]).round(1)\n",
    "sig_rates[\"spearman_rate\"] = (100*sig_rates[\"spearman_rate\"]).round(1)\n",
    "sig_rates.rename(columns={\"pearson_rate\":\"% Pearson p<0.05\",\n",
    "                          \"spearman_rate\":\"% Spearman p<0.05\"}, inplace=True)\n",
    "display(sig_rates)\n"
   ]
  },
  {
   "cell_type": "code",
   "execution_count": 12,
   "id": "d1f0f364",
   "metadata": {},
   "outputs": [
    {
     "data": {
      "application/vnd.microsoft.datawrangler.viewer.v0+json": {
       "columns": [
        {
         "name": "index",
         "rawType": "int64",
         "type": "integer"
        },
        {
         "name": "Metric",
         "rawType": "object",
         "type": "string"
        },
        {
         "name": "RF wins",
         "rawType": "float64",
         "type": "float"
        },
        {
         "name": "EN wins",
         "rawType": "float64",
         "type": "float"
        },
        {
         "name": "Ties",
         "rawType": "float64",
         "type": "float"
        },
        {
         "name": "RF win rate (no ties)",
         "rawType": "float64",
         "type": "float"
        },
        {
         "name": "Sign test p",
         "rawType": "float64",
         "type": "float"
        }
       ],
       "ref": "f3df4c63-ef62-42f7-a6ab-5073bad900f0",
       "rows": [
        [
         "0",
         "r2_mean",
         null,
         null,
         null,
         null,
         null
        ]
       ],
       "shape": {
        "columns": 6,
        "rows": 1
       }
      },
      "text/html": [
       "<div>\n",
       "<style scoped>\n",
       "    .dataframe tbody tr th:only-of-type {\n",
       "        vertical-align: middle;\n",
       "    }\n",
       "\n",
       "    .dataframe tbody tr th {\n",
       "        vertical-align: top;\n",
       "    }\n",
       "\n",
       "    .dataframe thead th {\n",
       "        text-align: right;\n",
       "    }\n",
       "</style>\n",
       "<table border=\"1\" class=\"dataframe\">\n",
       "  <thead>\n",
       "    <tr style=\"text-align: right;\">\n",
       "      <th></th>\n",
       "      <th>Metric</th>\n",
       "      <th>RF wins</th>\n",
       "      <th>EN wins</th>\n",
       "      <th>Ties</th>\n",
       "      <th>RF win rate (no ties)</th>\n",
       "      <th>Sign test p</th>\n",
       "    </tr>\n",
       "  </thead>\n",
       "  <tbody>\n",
       "    <tr>\n",
       "      <th>0</th>\n",
       "      <td>r2_mean</td>\n",
       "      <td>NaN</td>\n",
       "      <td>NaN</td>\n",
       "      <td>NaN</td>\n",
       "      <td>NaN</td>\n",
       "      <td>NaN</td>\n",
       "    </tr>\n",
       "  </tbody>\n",
       "</table>\n",
       "</div>"
      ],
      "text/plain": [
       "    Metric  RF wins  EN wins  Ties  RF win rate (no ties)  Sign test p\n",
       "0  r2_mean      NaN      NaN   NaN                    NaN          NaN"
      ]
     },
     "metadata": {},
     "output_type": "display_data"
    },
    {
     "data": {
      "application/vnd.microsoft.datawrangler.viewer.v0+json": {
       "columns": [
        {
         "name": "index",
         "rawType": "int64",
         "type": "integer"
        },
        {
         "name": "Metric",
         "rawType": "object",
         "type": "string"
        },
        {
         "name": "RF wins",
         "rawType": "float64",
         "type": "float"
        },
        {
         "name": "EN wins",
         "rawType": "float64",
         "type": "float"
        },
        {
         "name": "Ties",
         "rawType": "float64",
         "type": "float"
        },
        {
         "name": "RF win rate (no ties)",
         "rawType": "float64",
         "type": "float"
        },
        {
         "name": "Sign test p",
         "rawType": "float64",
         "type": "float"
        }
       ],
       "ref": "0d608ab3-a1a7-410a-b59e-86ae3e457d0b",
       "rows": [
        [
         "0",
         "rmse_mean",
         null,
         null,
         null,
         null,
         null
        ]
       ],
       "shape": {
        "columns": 6,
        "rows": 1
       }
      },
      "text/html": [
       "<div>\n",
       "<style scoped>\n",
       "    .dataframe tbody tr th:only-of-type {\n",
       "        vertical-align: middle;\n",
       "    }\n",
       "\n",
       "    .dataframe tbody tr th {\n",
       "        vertical-align: top;\n",
       "    }\n",
       "\n",
       "    .dataframe thead th {\n",
       "        text-align: right;\n",
       "    }\n",
       "</style>\n",
       "<table border=\"1\" class=\"dataframe\">\n",
       "  <thead>\n",
       "    <tr style=\"text-align: right;\">\n",
       "      <th></th>\n",
       "      <th>Metric</th>\n",
       "      <th>RF wins</th>\n",
       "      <th>EN wins</th>\n",
       "      <th>Ties</th>\n",
       "      <th>RF win rate (no ties)</th>\n",
       "      <th>Sign test p</th>\n",
       "    </tr>\n",
       "  </thead>\n",
       "  <tbody>\n",
       "    <tr>\n",
       "      <th>0</th>\n",
       "      <td>rmse_mean</td>\n",
       "      <td>NaN</td>\n",
       "      <td>NaN</td>\n",
       "      <td>NaN</td>\n",
       "      <td>NaN</td>\n",
       "      <td>NaN</td>\n",
       "    </tr>\n",
       "  </tbody>\n",
       "</table>\n",
       "</div>"
      ],
      "text/plain": [
       "      Metric  RF wins  EN wins  Ties  RF win rate (no ties)  Sign test p\n",
       "0  rmse_mean      NaN      NaN   NaN                    NaN          NaN"
      ]
     },
     "metadata": {},
     "output_type": "display_data"
    },
    {
     "data": {
      "application/vnd.microsoft.datawrangler.viewer.v0+json": {
       "columns": [
        {
         "name": "index",
         "rawType": "int64",
         "type": "integer"
        },
        {
         "name": "Metric",
         "rawType": "object",
         "type": "string"
        },
        {
         "name": "RF wins",
         "rawType": "float64",
         "type": "float"
        },
        {
         "name": "EN wins",
         "rawType": "float64",
         "type": "float"
        },
        {
         "name": "Ties",
         "rawType": "float64",
         "type": "float"
        },
        {
         "name": "RF win rate (no ties)",
         "rawType": "float64",
         "type": "float"
        },
        {
         "name": "Sign test p",
         "rawType": "float64",
         "type": "float"
        }
       ],
       "ref": "9a26bdf2-6406-4297-b578-7f2168a9fa1b",
       "rows": [
        [
         "0",
         "pearson_r",
         null,
         null,
         null,
         null,
         null
        ]
       ],
       "shape": {
        "columns": 6,
        "rows": 1
       }
      },
      "text/html": [
       "<div>\n",
       "<style scoped>\n",
       "    .dataframe tbody tr th:only-of-type {\n",
       "        vertical-align: middle;\n",
       "    }\n",
       "\n",
       "    .dataframe tbody tr th {\n",
       "        vertical-align: top;\n",
       "    }\n",
       "\n",
       "    .dataframe thead th {\n",
       "        text-align: right;\n",
       "    }\n",
       "</style>\n",
       "<table border=\"1\" class=\"dataframe\">\n",
       "  <thead>\n",
       "    <tr style=\"text-align: right;\">\n",
       "      <th></th>\n",
       "      <th>Metric</th>\n",
       "      <th>RF wins</th>\n",
       "      <th>EN wins</th>\n",
       "      <th>Ties</th>\n",
       "      <th>RF win rate (no ties)</th>\n",
       "      <th>Sign test p</th>\n",
       "    </tr>\n",
       "  </thead>\n",
       "  <tbody>\n",
       "    <tr>\n",
       "      <th>0</th>\n",
       "      <td>pearson_r</td>\n",
       "      <td>NaN</td>\n",
       "      <td>NaN</td>\n",
       "      <td>NaN</td>\n",
       "      <td>NaN</td>\n",
       "      <td>NaN</td>\n",
       "    </tr>\n",
       "  </tbody>\n",
       "</table>\n",
       "</div>"
      ],
      "text/plain": [
       "      Metric  RF wins  EN wins  Ties  RF win rate (no ties)  Sign test p\n",
       "0  pearson_r      NaN      NaN   NaN                    NaN          NaN"
      ]
     },
     "metadata": {},
     "output_type": "display_data"
    },
    {
     "data": {
      "application/vnd.microsoft.datawrangler.viewer.v0+json": {
       "columns": [
        {
         "name": "index",
         "rawType": "int64",
         "type": "integer"
        },
        {
         "name": "Metric",
         "rawType": "object",
         "type": "string"
        },
        {
         "name": "RF wins",
         "rawType": "float64",
         "type": "float"
        },
        {
         "name": "EN wins",
         "rawType": "float64",
         "type": "float"
        },
        {
         "name": "Ties",
         "rawType": "float64",
         "type": "float"
        },
        {
         "name": "RF win rate (no ties)",
         "rawType": "float64",
         "type": "float"
        },
        {
         "name": "Sign test p",
         "rawType": "float64",
         "type": "float"
        }
       ],
       "ref": "f79f45ec-f2d3-4c7a-a868-fbeb37909649",
       "rows": [
        [
         "0",
         "spearman_r",
         null,
         null,
         null,
         null,
         null
        ]
       ],
       "shape": {
        "columns": 6,
        "rows": 1
       }
      },
      "text/html": [
       "<div>\n",
       "<style scoped>\n",
       "    .dataframe tbody tr th:only-of-type {\n",
       "        vertical-align: middle;\n",
       "    }\n",
       "\n",
       "    .dataframe tbody tr th {\n",
       "        vertical-align: top;\n",
       "    }\n",
       "\n",
       "    .dataframe thead th {\n",
       "        text-align: right;\n",
       "    }\n",
       "</style>\n",
       "<table border=\"1\" class=\"dataframe\">\n",
       "  <thead>\n",
       "    <tr style=\"text-align: right;\">\n",
       "      <th></th>\n",
       "      <th>Metric</th>\n",
       "      <th>RF wins</th>\n",
       "      <th>EN wins</th>\n",
       "      <th>Ties</th>\n",
       "      <th>RF win rate (no ties)</th>\n",
       "      <th>Sign test p</th>\n",
       "    </tr>\n",
       "  </thead>\n",
       "  <tbody>\n",
       "    <tr>\n",
       "      <th>0</th>\n",
       "      <td>spearman_r</td>\n",
       "      <td>NaN</td>\n",
       "      <td>NaN</td>\n",
       "      <td>NaN</td>\n",
       "      <td>NaN</td>\n",
       "      <td>NaN</td>\n",
       "    </tr>\n",
       "  </tbody>\n",
       "</table>\n",
       "</div>"
      ],
      "text/plain": [
       "       Metric  RF wins  EN wins  Ties  RF win rate (no ties)  Sign test p\n",
       "0  spearman_r      NaN      NaN   NaN                    NaN          NaN"
      ]
     },
     "metadata": {},
     "output_type": "display_data"
    }
   ],
   "source": [
    "# %% per-drug winners (not applicable with only Elastic Net)\n",
    "summary_r2 = pd.DataFrame([{\"Metric\":\"r2_mean\",\"RF wins\":np.nan,\"EN wins\":np.nan,\"Ties\":np.nan,\n",
    "                            \"RF win rate (no ties)\":np.nan,\"Sign test p\":np.nan}])\n",
    "summary_rmse = pd.DataFrame([{\"Metric\":\"rmse_mean\",\"RF wins\":np.nan,\"EN wins\":np.nan,\"Ties\":np.nan,\n",
    "                              \"RF win rate (no ties)\":np.nan,\"Sign test p\":np.nan}])\n",
    "summary_r = pd.DataFrame([{\"Metric\":\"pearson_r\",\"RF wins\":np.nan,\"EN wins\":np.nan,\"Ties\":np.nan,\n",
    "                           \"RF win rate (no ties)\":np.nan,\"Sign test p\":np.nan}])\n",
    "summary_spearman = pd.DataFrame([{\"Metric\":\"spearman_r\",\"RF wins\":np.nan,\"EN wins\":np.nan,\"Ties\":np.nan,\n",
    "                                  \"RF win rate (no ties)\":np.nan,\"Sign test p\":np.nan}])\n",
    "\n",
    "display(summary_r2)\n",
    "display(summary_rmse)\n",
    "display(summary_r)\n",
    "display(summary_spearman)\n"
   ]
  }
 ],
 "metadata": {
  "kernelspec": {
   "display_name": "tese-env",
   "language": "python",
   "name": "python3"
  },
  "language_info": {
   "codemirror_mode": {
    "name": "ipython",
    "version": 3
   },
   "file_extension": ".py",
   "mimetype": "text/x-python",
   "name": "python",
   "nbconvert_exporter": "python",
   "pygments_lexer": "ipython3",
   "version": "3.10.16"
  }
 },
 "nbformat": 4,
 "nbformat_minor": 5
}
