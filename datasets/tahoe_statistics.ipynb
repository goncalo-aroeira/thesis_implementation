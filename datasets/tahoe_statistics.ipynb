{
 "cells": [
  {
   "cell_type": "code",
   "execution_count": null,
   "metadata": {},
   "outputs": [
    {
     "ename": "",
     "evalue": "",
     "output_type": "error",
     "traceback": [
      "\u001b[1;31mThe Kernel crashed while executing code in the current cell or a previous cell. \n",
      "\u001b[1;31mPlease review the code in the cell(s) to identify a possible cause of the failure. \n",
      "\u001b[1;31mClick <a href='https://aka.ms/vscodeJupyterKernelCrash'>here</a> for more info. \n",
      "\u001b[1;31mView Jupyter <a href='command:jupyter.viewOutput'>log</a> for further details."
     ]
    }
   ],
   "source": [
    "import pandas as pd\n",
    "import pyarrow.dataset as ds\n",
    "import gcsfs\n",
    "\n",
    "# GCS base path\n",
    "gcp_base_path = \"gs://arc-ctc-tahoe100/2025-02-25/\"\n",
    "\n",
    "# Initialize GCS filesystem\n",
    "fs = gcsfs.GCSFileSystem()\n"
   ]
  },
  {
   "cell_type": "code",
   "execution_count": null,
   "metadata": {},
   "outputs": [],
   "source": [
    "# Load the main metadata table\n",
    "obs_path = f\"{gcp_base_path}metadata/obs_metadata.parquet\"\n",
    "\n",
    "# Load a large chunk or the whole thing depending on RAM\n",
    "obs_df = ds.dataset(obs_path, filesystem=fs, format=\"parquet\").to_table().to_pandas()\n",
    "# Optional: limit for testing\n",
    "# obs_df = ds.dataset(obs_path, filesystem=fs, format=\"parquet\").head(100000).to_pandas()\n",
    "\n",
    "# Preview\n",
    "obs_df.head()\n"
   ]
  },
  {
   "cell_type": "code",
   "execution_count": null,
   "metadata": {},
   "outputs": [],
   "source": [
    "# Expected columns: 'drug', 'cell_line', 'cell_name'\n",
    "# We assume 'drug' column contains the actual name (e.g., 'Bestatin (hydrochloride)')\n",
    "# Some versions store it as a list of tuples\n",
    "\n",
    "# Normalize 'drug' column if it's a list of tuples\n",
    "if isinstance(obs_df['drug'].iloc[0], list):\n",
    "    obs_df['drug_name'] = obs_df['drug'].apply(lambda x: x[0][0] if x else None)\n",
    "else:\n",
    "    obs_df['drug_name'] = obs_df['drug']\n",
    "\n",
    "# Extract needed columns\n",
    "tahoe_df = obs_df[['drug_name', 'cell_line']].dropna().drop_duplicates()\n",
    "\n",
    "# Stats\n",
    "num_drugs = tahoe_df['drug_name'].nunique()\n",
    "num_cells = tahoe_df['cell_line'].nunique()\n",
    "num_pairs = tahoe_df.shape[0]\n",
    "\n",
    "print(f\"🧪 Tahoe Dataset Summary:\")\n",
    "print(f\"🔹 Unique Drugs: {num_drugs}\")\n",
    "print(f\"🔹 Unique Cell Lines: {num_cells}\")\n",
    "print(f\"🔹 (Drug, Cell Line) Pairs: {num_pairs}\")\n"
   ]
  },
  {
   "cell_type": "code",
   "execution_count": null,
   "metadata": {},
   "outputs": [],
   "source": [
    "# Load GDSC and scRNA-seq data\n",
    "gdsc_df = pd.read_csv(\"gdsc/gdsc_final_cleaned.csv\", usecols=[\"SANGER_MODEL_ID\"])\n",
    "sc_df = pd.read_csv(\"sc_data/rnaseq_all_data.csv\", usecols=[\"model_id\"])\n",
    "\n",
    "gdsc_ids = set(gdsc_df[\"SANGER_MODEL_ID\"].astype(str))\n",
    "sc_ids = set(sc_df[\"model_id\"].astype(str))\n",
    "tahoe_ids = set(tahoe_df[\"cell_line\"].astype(str))\n",
    "\n",
    "# Overlap\n",
    "overlap_gdsc = tahoe_ids & gdsc_ids\n",
    "overlap_sc = tahoe_ids & sc_ids\n",
    "\n",
    "print(f\"\\n🔗 Overlap Comparison:\")\n",
    "print(f\"🔁 Cell lines in both Tahoe & GDSC: {len(overlap_gdsc)}\")\n",
    "print(f\"🔁 Cell lines in both Tahoe & scRNA-seq: {len(overlap_sc)}\")\n"
   ]
  },
  {
   "cell_type": "code",
   "execution_count": null,
   "metadata": {},
   "outputs": [],
   "source": [
    "summary = {\n",
    "    \"Tahoe Unique Drugs\": num_drugs,\n",
    "    \"Tahoe Unique Cell Lines\": num_cells,\n",
    "    \"Tahoe (Drug, Cell Line) Pairs\": num_pairs,\n",
    "    \"Overlap with GDSC\": len(overlap_gdsc),\n",
    "    \"Overlap with scRNA-seq\": len(overlap_sc)\n",
    "}\n",
    "\n",
    "pd.DataFrame(summary.items(), columns=[\"Metric\", \"Value\"]).to_csv(\"statistics/tahoe_obs_summary.csv\", index=False)\n"
   ]
  }
 ],
 "metadata": {
  "kernelspec": {
   "display_name": "tese-env",
   "language": "python",
   "name": "python3"
  },
  "language_info": {
   "codemirror_mode": {
    "name": "ipython",
    "version": 3
   },
   "file_extension": ".py",
   "mimetype": "text/x-python",
   "name": "python",
   "nbconvert_exporter": "python",
   "pygments_lexer": "ipython3",
   "version": "3.10.16"
  }
 },
 "nbformat": 4,
 "nbformat_minor": 2
}
