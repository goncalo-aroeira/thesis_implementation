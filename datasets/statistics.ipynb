{
 "cells": [
  {
   "cell_type": "code",
   "execution_count": null,
   "metadata": {},
   "outputs": [],
   "source": [
    "import os\n",
    "import polars as pl\n",
    "import numpy as np\n",
    "import matplotlib.pyplot as plt\n",
    "import seaborn as sns\n",
    "from sklearn.decomposition import PCA\n"
   ]
  },
  {
   "cell_type": "code",
   "execution_count": 2,
   "metadata": {},
   "outputs": [],
   "source": [
    "# Create a directory to store statistics and plots\n",
    "output_dir = \"statistics\"\n",
    "os.makedirs(output_dir, exist_ok=True)\n"
   ]
  },
  {
   "cell_type": "code",
   "execution_count": null,
   "metadata": {},
   "outputs": [],
   "source": [
    "gdsc_bulk = pl.read_parquet(\"gdsc/gdsc_final_cleaned.parquet\", usecols=[\"SANGER_MODEL_ID\", \"DRUG_ID\", \"LN_IC50\"])\n",
    "sc_data = pl.read_parquet(\"sc_data/rnaseq_all_data.parquet\", usecols=[\"model_id\", \"gene_symbol\", \"fpkm\"])\n",
    "final_data = pl.read_parquet(\"pseudo_bulk/gdsc_single_cell_aligned.parquet\")\n"
   ]
  },
  {
   "cell_type": "code",
   "execution_count": null,
   "metadata": {},
   "outputs": [
    {
     "name": "stdout",
     "output_type": "stream",
     "text": [
      "📂 Dataset statistics saved to 'statistics/dataset_statistics.csv' 🎉\n"
     ]
    }
   ],
   "source": [
    "# Statistics\n",
    "stats_dict = {\n",
    "    \"Total Cell Lines (GDSC)\": gdsc_bulk[\"SANGER_MODEL_ID\"].nunique(),\n",
    "    \"Total Unique Drugs (GDSC)\": gdsc_bulk[\"DRUG_ID\"].nunique(),\n",
    "    \"Total (Cell Line, Drug) Pairs\": gdsc_bulk.shape[0],\n",
    "    \"Total Unique Genes in Single-Cell\": sc_data[\"gene_symbol\"].nunique(),\n",
    "    \"Total Unique Cell Lines in Single-Cell\": sc_data[\"model_id\"].nunique(),\n",
    "    \"Total Genes After HVG Selection\": final_data.shape[1] - 3,\n",
    "    \"Total Cell Lines in Final Dataset\": final_data[\"SANGER_MODEL_ID\"].nunique(),\n",
    "    \"Total Unique Drugs in Final Dataset\": final_data[\"DRUG_ID\"].nunique(),\n",
    "    \"Total (Cell Line, Drug) Pairs in Final Dataset\": final_data.shape[0],\n",
    "}\n",
    "\n",
    "stats_df = pl.DataFrame(stats_dict.items(), columns=[\"Metric\", \"Value\"])\n",
    "stats_df.to_csv(f\"{output_dir}/dataset_statistics.csv\", index=False)\n",
    "print(\"📂 Dataset statistics saved to 'statistics/dataset_statistics.csv' 🎉\")\n"
   ]
  },
  {
   "cell_type": "code",
   "execution_count": 5,
   "metadata": {},
   "outputs": [],
   "source": [
    "plt.figure(figsize=(8, 5))\n",
    "sns.histplot(final_data[\"LN_IC50\"], bins=50, kde=True, color=\"blue\")\n",
    "plt.xlabel(\"Log IC50\")\n",
    "plt.ylabel(\"Frequency\")\n",
    "plt.title(\"Distribution of Log IC50 Values\")\n",
    "plt.grid()\n",
    "plt.savefig(f\"{output_dir}/ic50_distribution.png\")\n",
    "plt.close()\n"
   ]
  },
  {
   "cell_type": "code",
   "execution_count": null,
   "metadata": {},
   "outputs": [],
   "source": [
    "gene_columns = final_data.columns[3:]\n",
    "correlations = final_data[gene_columns].corrwith(final_data[\"LN_IC50\"]).sort_values()\n",
    "\n",
    "correlations_df = pl.DataFrame({\n",
    "    \"Top Positively Correlated Genes\": correlations.tail(10).index.tolist(),\n",
    "    \"Top Negatively Correlated Genes\": correlations.head(10).index.tolist()\n",
    "})\n",
    "correlations_df.to_csv(f\"{output_dir}/gene_ic50_correlations.csv\", index=False)\n"
   ]
  },
  {
   "cell_type": "code",
   "execution_count": 7,
   "metadata": {},
   "outputs": [],
   "source": [
    "drug_counts = final_data.groupby(\"DRUG_ID\")[\"SANGER_MODEL_ID\"].nunique().sort_values(ascending=False)\n",
    "\n",
    "plt.figure(figsize=(10, 5))\n",
    "sns.histplot(drug_counts, bins=50, kde=True, color=\"green\")\n",
    "plt.xlabel(\"Number of Cell Lines per Drug\")\n",
    "plt.ylabel(\"Frequency\")\n",
    "plt.title(\"Distribution of Cell Line Testing Per Drug\")\n",
    "plt.grid()\n",
    "plt.savefig(f\"{output_dir}/cell_lines_per_drug.png\")\n",
    "plt.close()\n"
   ]
  },
  {
   "cell_type": "code",
   "execution_count": null,
   "metadata": {},
   "outputs": [],
   "source": [
    "gene_std = final_data.iloc[:, 3:].std().sort_values(ascending=False)\n",
    "gene_std_df = pl.DataFrame({\"Gene\": gene_std.index, \"Standard Deviation\": gene_std.values})\n",
    "gene_std_df.to_csv(f\"{output_dir}/most_variable_genes.csv\", index=False)\n"
   ]
  },
  {
   "cell_type": "code",
   "execution_count": 13,
   "metadata": {},
   "outputs": [
    {
     "ename": "ValueError",
     "evalue": "❌ No valid numeric gene expression data found for PCA.",
     "output_type": "error",
     "traceback": [
      "\u001b[31m---------------------------------------------------------------------------\u001b[39m",
      "\u001b[31mValueError\u001b[39m                                Traceback (most recent call last)",
      "\u001b[36mCell\u001b[39m\u001b[36m \u001b[39m\u001b[32mIn[13]\u001b[39m\u001b[32m, line 13\u001b[39m\n\u001b[32m     11\u001b[39m \u001b[38;5;66;03m# Safety check\u001b[39;00m\n\u001b[32m     12\u001b[39m \u001b[38;5;28;01mif\u001b[39;00m numeric_data.empty:\n\u001b[32m---> \u001b[39m\u001b[32m13\u001b[39m     \u001b[38;5;28;01mraise\u001b[39;00m \u001b[38;5;167;01mValueError\u001b[39;00m(\u001b[33m\"\u001b[39m\u001b[33m❌ No valid numeric gene expression data found for PCA.\u001b[39m\u001b[33m\"\u001b[39m)\n\u001b[32m     15\u001b[39m \u001b[38;5;66;03m# PCA\u001b[39;00m\n\u001b[32m     16\u001b[39m pca = PCA(n_components=\u001b[32m2\u001b[39m)\n",
      "\u001b[31mValueError\u001b[39m: ❌ No valid numeric gene expression data found for PCA."
     ]
    }
   ],
   "source": [
    "# Extract gene expression matrix (assuming genes start at column index 3)\n",
    "gene_data = final_data.iloc[:, 3:]\n",
    "\n",
    "# Keep only numeric columns\n",
    "numeric_data = gene_data.select_dtypes(include=[np.number])\n",
    "\n",
    "# Drop columns and rows with too many NaNs\n",
    "numeric_data = numeric_data.dropna(axis=1, how='all')\n",
    "numeric_data = numeric_data.dropna(axis=0)\n",
    "\n",
    "# Safety check\n",
    "if numeric_data.empty:\n",
    "    raise ValueError(\"❌ No valid numeric gene expression data found for PCA.\")\n",
    "\n",
    "# PCA\n",
    "pca = PCA(n_components=2)\n",
    "pca_result = pca.fit_transform(numeric_data)\n",
    "\n",
    "# Plot\n",
    "plt.figure(figsize=(8, 6))\n",
    "plt.scatter(pca_result[:, 0], pca_result[:, 1], alpha=0.5, color=\"purple\")\n",
    "plt.xlabel(\"PCA 1\")\n",
    "plt.ylabel(\"PCA 2\")\n",
    "plt.title(\"PCA of Gene Expression\")\n",
    "plt.grid()\n",
    "plt.savefig(f\"{output_dir}/pca_cell_line_clustering.png\")\n",
    "plt.show()\n"
   ]
  },
  {
   "cell_type": "markdown",
   "metadata": {},
   "source": [
    "print(\"\\n🎯 Dataset analysis completed! The following files have been saved:\")\n",
    "print(f\"- 📊 Dataset statistics: {output_dir}/dataset_statistics.csv\")\n",
    "print(f\"- 🔬 Gene-IC50 correlations: {output_dir}/gene_ic50_correlations.csv\")\n",
    "print(f\"- 🧬 Most variable genes: {output_dir}/most_variable_genes.csv\")\n",
    "print(f\"- 📈 IC50 Distribution Plot: {output_dir}/ic50_distribution.png\")\n",
    "print(f\"- 🔥 Drug Testing Frequency Plot: {output_dir}/cell_lines_per_drug.png\")\n",
    "print(f\"- 🎨 PCA Clustering Plot: {output_dir}/pca_cell_line_clustering.png\")\n"
   ]
  }
 ],
 "metadata": {
  "kernelspec": {
   "display_name": "Python 3",
   "language": "python",
   "name": "python3"
  },
  "language_info": {
   "codemirror_mode": {
    "name": "ipython",
    "version": 3
   },
   "file_extension": ".py",
   "mimetype": "text/x-python",
   "name": "python",
   "nbconvert_exporter": "python",
   "pygments_lexer": "ipython3",
   "version": "3.11.11"
  }
 },
 "nbformat": 4,
 "nbformat_minor": 2
}
