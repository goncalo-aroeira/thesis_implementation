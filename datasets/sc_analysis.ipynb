{
 "cells": [
  {
   "cell_type": "code",
   "execution_count": 1,
   "metadata": {},
   "outputs": [],
   "source": [
    "import polars as pl\n"
   ]
  },
  {
   "cell_type": "code",
   "execution_count": 2,
   "metadata": {},
   "outputs": [
    {
     "name": "stdout",
     "output_type": "stream",
     "text": [
      "Number of Genes (rows): 37606\n",
      "Number of Cell Lines (columns): 1431\n"
     ]
    }
   ],
   "source": [
    "# Load the matrix (genes × cell lines)\n",
    "matrix = pl.read_parquet(\"sc_data/rnaseq_fpkm.parquet\")\n",
    "\n",
    "# Shape: number of genes and cell lines\n",
    "num_genes = matrix.shape[0]\n",
    "num_cell_lines = matrix.shape[1] - 1  # exclude gene ID column\n",
    "\n",
    "# Assuming the first column is gene identifiers (e.g., gene_symbol or Ensembl ID)\n",
    "gene_id_col = matrix.columns[0]\n",
    "cell_line_cols = matrix.columns[1:]\n",
    "\n",
    "print(f\"Number of Genes (rows): {num_genes}\")\n",
    "print(f\"Number of Cell Lines (columns): {num_cell_lines}\")"
   ]
  }
 ],
 "metadata": {
  "kernelspec": {
   "display_name": "tese-env",
   "language": "python",
   "name": "python3"
  },
  "language_info": {
   "codemirror_mode": {
    "name": "ipython",
    "version": 3
   },
   "file_extension": ".py",
   "mimetype": "text/x-python",
   "name": "python",
   "nbconvert_exporter": "python",
   "pygments_lexer": "ipython3",
   "version": "3.10.16"
  }
 },
 "nbformat": 4,
 "nbformat_minor": 2
}
