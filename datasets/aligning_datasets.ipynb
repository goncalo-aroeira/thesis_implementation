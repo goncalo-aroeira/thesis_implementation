{
 "cells": [
  {
   "cell_type": "code",
   "execution_count": 1,
   "metadata": {},
   "outputs": [],
   "source": [
    "import polars as pl\n",
    "import numpy as np\n",
    "import os\n",
    "\n",
    "# Ensure output directory exists\n",
    "os.makedirs(\"pseudo_bulk\", exist_ok=True)\n"
   ]
  },
  {
   "cell_type": "code",
   "execution_count": 2,
   "metadata": {},
   "outputs": [
    {
     "name": "stdout",
     "output_type": "stream",
     "text": [
      "GDSC bulk data loaded successfully.\n",
      "Shape: (575197, 3)\n"
     ]
    },
    {
     "data": {
      "text/html": [
       "<div><style>\n",
       ".dataframe > thead > tr,\n",
       ".dataframe > tbody > tr {\n",
       "  text-align: right;\n",
       "  white-space: pre-wrap;\n",
       "}\n",
       "</style>\n",
       "<small>shape: (5, 3)</small><table border=\"1\" class=\"dataframe\"><thead><tr><th>SANGER_MODEL_ID</th><th>DRUG_ID</th><th>LN_IC50</th></tr><tr><td>str</td><td>i32</td><td>f32</td></tr></thead><tbody><tr><td>&quot;SIDM00374&quot;</td><td>1009</td><td>4.13448</td></tr><tr><td>&quot;SIDM00255&quot;</td><td>268</td><td>-2.236015</td></tr><tr><td>&quot;SIDM01182&quot;</td><td>1012</td><td>1.321538</td></tr><tr><td>&quot;SIDM01160&quot;</td><td>1023</td><td>3.875126</td></tr><tr><td>&quot;SIDM00547&quot;</td><td>1197</td><td>4.457386</td></tr></tbody></table></div>"
      ],
      "text/plain": [
       "shape: (5, 3)\n",
       "┌─────────────────┬─────────┬───────────┐\n",
       "│ SANGER_MODEL_ID ┆ DRUG_ID ┆ LN_IC50   │\n",
       "│ ---             ┆ ---     ┆ ---       │\n",
       "│ str             ┆ i32     ┆ f32       │\n",
       "╞═════════════════╪═════════╪═══════════╡\n",
       "│ SIDM00374       ┆ 1009    ┆ 4.13448   │\n",
       "│ SIDM00255       ┆ 268     ┆ -2.236015 │\n",
       "│ SIDM01182       ┆ 1012    ┆ 1.321538  │\n",
       "│ SIDM01160       ┆ 1023    ┆ 3.875126  │\n",
       "│ SIDM00547       ┆ 1197    ┆ 4.457386  │\n",
       "└─────────────────┴─────────┴───────────┘"
      ]
     },
     "execution_count": 2,
     "metadata": {},
     "output_type": "execute_result"
    }
   ],
   "source": [
    "# Load and optimize GDSC bulk drug response data\n",
    "gdsc_bulk = pl.read_parquet(\"gdsc/gdsc_final_cleaned.parquet\").select([\n",
    "    pl.col(\"SANGER_MODEL_ID\").cast(pl.Utf8),\n",
    "    pl.col(\"DRUG_ID\").cast(pl.Int32),\n",
    "    pl.col(\"LN_IC50\").cast(pl.Float32)\n",
    "])\n",
    "\n",
    "print(\"GDSC bulk data loaded successfully.\")\n",
    "print(f\"Shape: {gdsc_bulk.shape}\")\n",
    "gdsc_bulk.head()\n"
   ]
  },
  {
   "cell_type": "code",
   "execution_count": 3,
   "metadata": {},
   "outputs": [
    {
     "name": "stdout",
     "output_type": "stream",
     "text": [
      "Transposed single-cell data to shape: rows = cell lines, cols = genes\n",
      "Shape: (1431, 37607)\n"
     ]
    },
    {
     "data": {
      "text/html": [
       "<div><style>\n",
       ".dataframe > thead > tr,\n",
       ".dataframe > tbody > tr {\n",
       "  text-align: right;\n",
       "  white-space: pre-wrap;\n",
       "}\n",
       "</style>\n",
       "<small>shape: (5, 37_607)</small><table border=\"1\" class=\"dataframe\"><thead><tr><th>SANGER_MODEL_ID</th><th>model_name</th><th>dataset_name</th><th>data_source</th><th>gene_id</th><th>SIDG00001</th><th>SIDG00002</th><th>SIDG00003</th><th>SIDG00004</th><th>SIDG00005</th><th>SIDG00006</th><th>SIDG00007</th><th>SIDG00008</th><th>SIDG00009</th><th>SIDG00010</th><th>SIDG00011</th><th>SIDG00012</th><th>SIDG00017</th><th>SIDG00019</th><th>SIDG00020</th><th>SIDG00021</th><th>SIDG00022</th><th>SIDG00023</th><th>SIDG00024</th><th>SIDG00025</th><th>SIDG00026</th><th>SIDG00027</th><th>SIDG00028</th><th>SIDG00029</th><th>SIDG00030</th><th>SIDG00031</th><th>SIDG00032</th><th>SIDG00033</th><th>SIDG00034</th><th>SIDG00035</th><th>SIDG00036</th><th>SIDG00037</th><th>&hellip;</th><th>SIDG42441</th><th>SIDG42442</th><th>SIDG42443</th><th>SIDG42444</th><th>SIDG42445</th><th>SIDG42446</th><th>SIDG42447</th><th>SIDG42448</th><th>SIDG42449</th><th>SIDG42450</th><th>SIDG42451</th><th>SIDG42452</th><th>SIDG42453</th><th>SIDG42454</th><th>SIDG42455</th><th>SIDG42456</th><th>SIDG42457</th><th>SIDG42458</th><th>SIDG42459</th><th>SIDG42460</th><th>SIDG42461</th><th>SIDG42462</th><th>SIDG42463</th><th>SIDG42464</th><th>SIDG42466</th><th>SIDG42467</th><th>SIDG42468</th><th>SIDG42469</th><th>SIDG42470</th><th>SIDG42471</th><th>SIDG42472</th><th>SIDG42473</th><th>SIDG42474</th><th>SIDG42475</th><th>SIDG42479</th><th>SIDG42480</th><th>SIDG42481</th></tr><tr><td>str</td><td>f64</td><td>f64</td><td>f64</td><td>f64</td><td>f64</td><td>f64</td><td>f64</td><td>f64</td><td>f64</td><td>f64</td><td>f64</td><td>f64</td><td>f64</td><td>f64</td><td>f64</td><td>f64</td><td>f64</td><td>f64</td><td>f64</td><td>f64</td><td>f64</td><td>f64</td><td>f64</td><td>f64</td><td>f64</td><td>f64</td><td>f64</td><td>f64</td><td>f64</td><td>f64</td><td>f64</td><td>f64</td><td>f64</td><td>f64</td><td>f64</td><td>f64</td><td>&hellip;</td><td>f64</td><td>f64</td><td>f64</td><td>f64</td><td>f64</td><td>f64</td><td>f64</td><td>f64</td><td>f64</td><td>f64</td><td>f64</td><td>f64</td><td>f64</td><td>f64</td><td>f64</td><td>f64</td><td>f64</td><td>f64</td><td>f64</td><td>f64</td><td>f64</td><td>f64</td><td>f64</td><td>f64</td><td>f64</td><td>f64</td><td>f64</td><td>f64</td><td>f64</td><td>f64</td><td>f64</td><td>f64</td><td>f64</td><td>f64</td><td>f64</td><td>f64</td><td>f64</td></tr></thead><tbody><tr><td>&quot;SIDM00001&quot;</td><td>null</td><td>null</td><td>null</td><td>null</td><td>0.16</td><td>0.73</td><td>0.01</td><td>0.1</td><td>0.0</td><td>0.0</td><td>0.0</td><td>0.92</td><td>0.0</td><td>0.0</td><td>0.16</td><td>0.0</td><td>7.28</td><td>4.04</td><td>0.0</td><td>0.0</td><td>0.0</td><td>0.0</td><td>0.0</td><td>0.0</td><td>0.0</td><td>0.0</td><td>5.49</td><td>20.05</td><td>1.53</td><td>2.48</td><td>25.7</td><td>0.89</td><td>11.79</td><td>0.75</td><td>203.63</td><td>10.6</td><td>&hellip;</td><td>0.0</td><td>5.53</td><td>3.35</td><td>7.32</td><td>4.41</td><td>0.75</td><td>1.41</td><td>4.8</td><td>0.0</td><td>2.16</td><td>3.21</td><td>0.1</td><td>0.0</td><td>0.0</td><td>0.0</td><td>2.24</td><td>1.05</td><td>7.2</td><td>0.21</td><td>5.03</td><td>4.34</td><td>10.32</td><td>11.04</td><td>72.98</td><td>0.58</td><td>2.32</td><td>2.7</td><td>0.86</td><td>0.0</td><td>2.73</td><td>8.44</td><td>0.0</td><td>3.53</td><td>4.27</td><td>2.5</td><td>1.81</td><td>0.62</td></tr><tr><td>&quot;SIDM00002&quot;</td><td>null</td><td>null</td><td>null</td><td>null</td><td>0.22</td><td>1.69</td><td>0.0</td><td>0.21</td><td>0.2</td><td>0.16</td><td>0.01</td><td>0.03</td><td>0.0</td><td>0.29</td><td>5.4</td><td>0.0</td><td>25.13</td><td>2.51</td><td>0.11</td><td>0.02</td><td>0.0</td><td>0.03</td><td>0.0</td><td>6.18</td><td>0.11</td><td>2.05</td><td>0.67</td><td>9.66</td><td>1.22</td><td>4.59</td><td>31.14</td><td>0.55</td><td>22.66</td><td>0.12</td><td>53.64</td><td>8.52</td><td>&hellip;</td><td>1.55</td><td>4.29</td><td>7.68</td><td>5.48</td><td>2.58</td><td>0.75</td><td>5.24</td><td>5.82</td><td>0.03</td><td>2.5</td><td>7.11</td><td>2.55</td><td>0.0</td><td>0.0</td><td>0.0</td><td>21.82</td><td>3.23</td><td>10.65</td><td>0.15</td><td>4.06</td><td>8.3</td><td>24.31</td><td>9.22</td><td>30.5</td><td>1.34</td><td>3.38</td><td>15.36</td><td>0.58</td><td>0.0</td><td>8.85</td><td>15.77</td><td>0.0</td><td>6.67</td><td>12.7</td><td>3.24</td><td>1.49</td><td>0.16</td></tr><tr><td>&quot;SIDM00003&quot;</td><td>null</td><td>null</td><td>null</td><td>null</td><td>0.14</td><td>3.33</td><td>0.0</td><td>8.41</td><td>0.24</td><td>0.0</td><td>0.0</td><td>0.0</td><td>0.01</td><td>0.09</td><td>0.0</td><td>0.0</td><td>18.38</td><td>3.74</td><td>0.51</td><td>0.0</td><td>0.0</td><td>0.01</td><td>0.0</td><td>0.0</td><td>0.0</td><td>4.51</td><td>8.32</td><td>21.28</td><td>2.81</td><td>2.51</td><td>35.65</td><td>0.06</td><td>16.7</td><td>0.12</td><td>20.04</td><td>10.36</td><td>&hellip;</td><td>0.01</td><td>3.84</td><td>4.06</td><td>3.19</td><td>1.19</td><td>0.34</td><td>2.8</td><td>4.76</td><td>0.0</td><td>1.73</td><td>1.46</td><td>0.03</td><td>0.0</td><td>0.0</td><td>0.0</td><td>3.64</td><td>5.83</td><td>6.88</td><td>0.11</td><td>2.45</td><td>2.53</td><td>21.46</td><td>23.29</td><td>79.94</td><td>0.67</td><td>2.01</td><td>4.92</td><td>3.83</td><td>0.09</td><td>8.62</td><td>51.84</td><td>0.0</td><td>7.28</td><td>12.9</td><td>2.19</td><td>1.7</td><td>0.56</td></tr><tr><td>&quot;SIDM00005&quot;</td><td>null</td><td>null</td><td>null</td><td>null</td><td>0.87</td><td>2.04</td><td>0.0</td><td>0.23</td><td>1.48</td><td>0.05</td><td>0.15</td><td>2.42</td><td>0.02</td><td>0.14</td><td>0.75</td><td>0.15</td><td>22.81</td><td>8.78</td><td>0.08</td><td>0.0</td><td>0.0</td><td>0.0</td><td>0.0</td><td>0.0</td><td>0.0</td><td>8.7</td><td>2.01</td><td>31.56</td><td>1.1</td><td>101.2</td><td>34.33</td><td>0.18</td><td>17.1</td><td>0.56</td><td>19.34</td><td>6.19</td><td>&hellip;</td><td>0.0</td><td>3.34</td><td>12.35</td><td>7.07</td><td>6.6</td><td>2.79</td><td>1.07</td><td>4.81</td><td>0.0</td><td>1.75</td><td>2.32</td><td>1.39</td><td>0.01</td><td>0.05</td><td>0.01</td><td>5.8</td><td>5.12</td><td>25.7</td><td>0.26</td><td>1.74</td><td>7.89</td><td>4.28</td><td>10.93</td><td>72.11</td><td>1.63</td><td>2.62</td><td>7.53</td><td>1.01</td><td>0.0</td><td>3.96</td><td>6.87</td><td>0.0</td><td>3.37</td><td>7.11</td><td>7.52</td><td>5.02</td><td>0.33</td></tr><tr><td>&quot;SIDM00006&quot;</td><td>null</td><td>null</td><td>null</td><td>null</td><td>0.15</td><td>2.03</td><td>0.01</td><td>23.22</td><td>0.28</td><td>0.0</td><td>0.01</td><td>0.0</td><td>0.01</td><td>0.16</td><td>3.86</td><td>0.0</td><td>7.87</td><td>1.81</td><td>0.12</td><td>0.0</td><td>0.0</td><td>0.02</td><td>0.0</td><td>0.07</td><td>0.02</td><td>3.49</td><td>5.16</td><td>16.44</td><td>4.01</td><td>3.11</td><td>32.19</td><td>0.08</td><td>18.61</td><td>1.53</td><td>67.8</td><td>7.13</td><td>&hellip;</td><td>0.71</td><td>4.09</td><td>3.72</td><td>4.28</td><td>2.41</td><td>3.21</td><td>4.52</td><td>5.17</td><td>0.12</td><td>1.75</td><td>3.39</td><td>2.79</td><td>0.0</td><td>0.0</td><td>0.0</td><td>8.07</td><td>3.21</td><td>7.11</td><td>0.1</td><td>2.53</td><td>5.38</td><td>15.49</td><td>11.14</td><td>29.36</td><td>0.85</td><td>2.23</td><td>4.29</td><td>4.49</td><td>0.0</td><td>7.51</td><td>141.7</td><td>0.0</td><td>3.48</td><td>8.75</td><td>2.94</td><td>1.29</td><td>0.11</td></tr></tbody></table></div>"
      ],
      "text/plain": [
       "shape: (5, 37_607)\n",
       "┌───────────┬───────────┬───────────┬───────────┬───┬───────────┬───────────┬───────────┬──────────┐\n",
       "│ SANGER_MO ┆ model_nam ┆ dataset_n ┆ data_sour ┆ … ┆ SIDG42475 ┆ SIDG42479 ┆ SIDG42480 ┆ SIDG4248 │\n",
       "│ DEL_ID    ┆ e         ┆ ame       ┆ ce        ┆   ┆ ---       ┆ ---       ┆ ---       ┆ 1        │\n",
       "│ ---       ┆ ---       ┆ ---       ┆ ---       ┆   ┆ f64       ┆ f64       ┆ f64       ┆ ---      │\n",
       "│ str       ┆ f64       ┆ f64       ┆ f64       ┆   ┆           ┆           ┆           ┆ f64      │\n",
       "╞═══════════╪═══════════╪═══════════╪═══════════╪═══╪═══════════╪═══════════╪═══════════╪══════════╡\n",
       "│ SIDM00001 ┆ null      ┆ null      ┆ null      ┆ … ┆ 4.27      ┆ 2.5       ┆ 1.81      ┆ 0.62     │\n",
       "│ SIDM00002 ┆ null      ┆ null      ┆ null      ┆ … ┆ 12.7      ┆ 3.24      ┆ 1.49      ┆ 0.16     │\n",
       "│ SIDM00003 ┆ null      ┆ null      ┆ null      ┆ … ┆ 12.9      ┆ 2.19      ┆ 1.7       ┆ 0.56     │\n",
       "│ SIDM00005 ┆ null      ┆ null      ┆ null      ┆ … ┆ 7.11      ┆ 7.52      ┆ 5.02      ┆ 0.33     │\n",
       "│ SIDM00006 ┆ null      ┆ null      ┆ null      ┆ … ┆ 8.75      ┆ 2.94      ┆ 1.29      ┆ 0.11     │\n",
       "└───────────┴───────────┴───────────┴───────────┴───┴───────────┴───────────┴───────────┴──────────┘"
      ]
     },
     "execution_count": 3,
     "metadata": {},
     "output_type": "execute_result"
    }
   ],
   "source": [
    "# Load single-cell gene expression data\n",
    "cell_gene_matrix = pl.read_parquet(\"sc_data/rnaseq_fpkm.parquet\")\n",
    "\n",
    "# Transpose so that rows = cell lines, columns = genes\n",
    "# Polars doesn't support transpose directly, so we use pandas just for this step\n",
    "import pandas as pd\n",
    "\n",
    "cell_gene_df = pd.read_parquet(\"sc_data/rnaseq_fpkm.parquet\")\n",
    "transposed_df = cell_gene_df.set_index(cell_gene_df.columns[0]).transpose()\n",
    "\n",
    "# Reset index to turn cell line names into a column\n",
    "transposed_df.index.name = \"SANGER_MODEL_ID\"\n",
    "transposed_df.reset_index(inplace=True)\n",
    "\n",
    "# Convert back to Polars\n",
    "cell_gene_matrix = pl.from_pandas(transposed_df)\n",
    "\n",
    "print(\"Transposed single-cell data to shape: rows = cell lines, cols = genes\")\n",
    "print(f\"Shape: {cell_gene_matrix.shape}\")\n",
    "cell_gene_matrix.head()\n"
   ]
  },
  {
   "cell_type": "code",
   "execution_count": 4,
   "metadata": {},
   "outputs": [
    {
     "name": "stdout",
     "output_type": "stream",
     "text": [
      "Normalization complete.\n",
      "Normalized Before Shape: (1431, 37607)\n"
     ]
    }
   ],
   "source": [
    "# All gene columns (exclude SANGER_MODEL_ID)\n",
    "gene_cols = [col for col in cell_gene_matrix.columns if col != \"SANGER_MODEL_ID\"]\n",
    "\n",
    "# Normalize before aggregation (log1p on gene columns)\n",
    "normalized_before = cell_gene_matrix.with_columns([\n",
    "    pl.col(col).cast(pl.Float64).log1p().alias(col) for col in gene_cols\n",
    "])\n",
    "\n",
    "# Group by cell line (if needed), then normalize after aggregation\n",
    "# In this setup, there's no need to aggregate — already pseudo-bulked\n",
    "# But if duplicates exist, you could do:\n",
    "pseudo_bulk = normalized_before.group_by(\"SANGER_MODEL_ID\").agg([\n",
    "    pl.col(col).mean().alias(col) for col in gene_cols\n",
    "])\n",
    "\n",
    "normalized_after = pseudo_bulk  # already normalized above\n",
    "\n",
    "print(\"Normalization complete.\")\n",
    "print(f\"Normalized Before Shape: {normalized_before.shape}\")\n"
   ]
  },
  {
   "cell_type": "code",
   "execution_count": 5,
   "metadata": {},
   "outputs": [
    {
     "name": "stdout",
     "output_type": "stream",
     "text": [
      "Filtered to top 2000 highly variable genes.\n",
      "Filtered Shape: (1431, 2001)\n"
     ]
    }
   ],
   "source": [
    "# Compute variance on gene columns\n",
    "def top_variable_genes(df, cols, top_n=2000):\n",
    "    data = df.select(cols).to_pandas().to_numpy()\n",
    "    var = np.var(data, axis=0)\n",
    "    top_indices = np.argsort(var)[-top_n:]\n",
    "    selected = [cols[i] for i in top_indices]\n",
    "    return [\"SANGER_MODEL_ID\"] + selected\n",
    "\n",
    "top_genes = top_variable_genes(normalized_after, gene_cols)\n",
    "\n",
    "filtered_after = normalized_after.select(top_genes)\n",
    "\n",
    "print(\"Filtered to top 2000 highly variable genes.\")\n",
    "print(f\"Filtered Shape: {filtered_after.shape}\")\n"
   ]
  },
  {
   "cell_type": "code",
   "execution_count": 6,
   "metadata": {},
   "outputs": [
    {
     "name": "stdout",
     "output_type": "stream",
     "text": [
      "Merged GDSC with pseudo-bulk expression.\n",
      "Final shape: (575197, 2003)\n"
     ]
    },
    {
     "data": {
      "text/html": [
       "<div><style>\n",
       ".dataframe > thead > tr,\n",
       ".dataframe > tbody > tr {\n",
       "  text-align: right;\n",
       "  white-space: pre-wrap;\n",
       "}\n",
       "</style>\n",
       "<small>shape: (5, 2_003)</small><table border=\"1\" class=\"dataframe\"><thead><tr><th>SANGER_MODEL_ID</th><th>DRUG_ID</th><th>LN_IC50</th><th>SIDG25786</th><th>SIDG14622</th><th>SIDG00004</th><th>SIDG42247</th><th>SIDG37202</th><th>SIDG36305</th><th>SIDG04653</th><th>SIDG37321</th><th>SIDG02118</th><th>SIDG17735</th><th>SIDG00811</th><th>SIDG24309</th><th>SIDG09871</th><th>SIDG08545</th><th>SIDG23953</th><th>SIDG38190</th><th>SIDG01729</th><th>SIDG13511</th><th>SIDG04729</th><th>SIDG08553</th><th>SIDG04194</th><th>SIDG06584</th><th>SIDG42472</th><th>SIDG39049</th><th>SIDG37306</th><th>SIDG17963</th><th>SIDG21777</th><th>SIDG40391</th><th>SIDG01263</th><th>SIDG11425</th><th>SIDG17569</th><th>SIDG10150</th><th>SIDG10408</th><th>SIDG09705</th><th>&hellip;</th><th>SIDG16508</th><th>SIDG16496</th><th>SIDG16659</th><th>SIDG38483</th><th>SIDG16474</th><th>SIDG16470</th><th>SIDG16375</th><th>SIDG16368</th><th>SIDG16366</th><th>SIDG16359</th><th>SIDG16205</th><th>SIDG16201</th><th>SIDG16125</th><th>SIDG40918</th><th>SIDG28470</th><th>SIDG17240</th><th>SIDG28096</th><th>SIDG17129</th><th>SIDG28264</th><th>SIDG28269</th><th>SIDG16994</th><th>SIDG16958</th><th>SIDG05323</th><th>SIDG28468</th><th>SIDG28469</th><th>SIDG03587</th><th>SIDG14433</th><th>SIDG28471</th><th>SIDG28472</th><th>SIDG28473</th><th>SIDG28475</th><th>SIDG06942</th><th>SIDG05279</th><th>SIDG03212</th><th>SIDG40984</th><th>SIDG35827</th><th>SIDG28514</th></tr><tr><td>str</td><td>i32</td><td>f32</td><td>f64</td><td>f64</td><td>f64</td><td>f64</td><td>f64</td><td>f64</td><td>f64</td><td>f64</td><td>f64</td><td>f64</td><td>f64</td><td>f64</td><td>f64</td><td>f64</td><td>f64</td><td>f64</td><td>f64</td><td>f64</td><td>f64</td><td>f64</td><td>f64</td><td>f64</td><td>f64</td><td>f64</td><td>f64</td><td>f64</td><td>f64</td><td>f64</td><td>f64</td><td>f64</td><td>f64</td><td>f64</td><td>f64</td><td>f64</td><td>&hellip;</td><td>f64</td><td>f64</td><td>f64</td><td>f64</td><td>f64</td><td>f64</td><td>f64</td><td>f64</td><td>f64</td><td>f64</td><td>f64</td><td>f64</td><td>f64</td><td>f64</td><td>f64</td><td>f64</td><td>f64</td><td>f64</td><td>f64</td><td>f64</td><td>f64</td><td>f64</td><td>f64</td><td>f64</td><td>f64</td><td>f64</td><td>f64</td><td>f64</td><td>f64</td><td>f64</td><td>f64</td><td>f64</td><td>f64</td><td>f64</td><td>f64</td><td>f64</td><td>f64</td></tr></thead><tbody><tr><td>&quot;SIDM00374&quot;</td><td>1009</td><td>4.13448</td><td>1.541159</td><td>2.737609</td><td>0.307485</td><td>2.309561</td><td>0.357674</td><td>0.0</td><td>2.676903</td><td>0.00995</td><td>0.067659</td><td>1.925707</td><td>0.0</td><td>0.0</td><td>0.0</td><td>4.206333</td><td>0.019803</td><td>0.076961</td><td>5.793044</td><td>0.00995</td><td>1.631199</td><td>0.357674</td><td>2.421257</td><td>0.04879</td><td>3.14329</td><td>0.067659</td><td>1.545433</td><td>0.0</td><td>1.879465</td><td>0.067659</td><td>0.067659</td><td>3.617383</td><td>1.07841</td><td>2.190536</td><td>0.04879</td><td>0.0</td><td>&hellip;</td><td>0.0</td><td>null</td><td>null</td><td>null</td><td>null</td><td>null</td><td>null</td><td>0.0</td><td>0.0</td><td>null</td><td>0.0</td><td>null</td><td>0.00995</td><td>null</td><td>null</td><td>null</td><td>0.0</td><td>0.0</td><td>0.0</td><td>0.0</td><td>null</td><td>null</td><td>null</td><td>0.0</td><td>null</td><td>0.783902</td><td>null</td><td>null</td><td>null</td><td>null</td><td>0.0</td><td>null</td><td>0.239017</td><td>null</td><td>null</td><td>null</td><td>0.0</td></tr><tr><td>&quot;SIDM00255&quot;</td><td>268</td><td>-2.236015</td><td>3.214868</td><td>2.676903</td><td>0.0</td><td>3.4797</td><td>0.559616</td><td>0.019803</td><td>2.280339</td><td>0.113329</td><td>0.231112</td><td>0.019803</td><td>2.726545</td><td>4.130033</td><td>2.313525</td><td>3.609295</td><td>3.251149</td><td>0.0</td><td>1.717395</td><td>2.660959</td><td>2.840831</td><td>1.519513</td><td>2.985177</td><td>2.393339</td><td>2.68239</td><td>2.451867</td><td>0.0</td><td>0.0</td><td>2.151762</td><td>0.173953</td><td>0.00995</td><td>0.067659</td><td>1.706565</td><td>1.637053</td><td>3.810876</td><td>0.231112</td><td>&hellip;</td><td>0.0</td><td>null</td><td>null</td><td>null</td><td>null</td><td>null</td><td>null</td><td>0.0</td><td>0.182322</td><td>null</td><td>0.0</td><td>null</td><td>0.0</td><td>null</td><td>null</td><td>null</td><td>0.336472</td><td>0.09531</td><td>0.875469</td><td>0.0</td><td>null</td><td>null</td><td>null</td><td>1.238374</td><td>null</td><td>1.05779</td><td>null</td><td>null</td><td>null</td><td>null</td><td>0.0</td><td>null</td><td>0.04879</td><td>null</td><td>null</td><td>null</td><td>0.0</td></tr><tr><td>&quot;SIDM01182&quot;</td><td>1012</td><td>1.321538</td><td>1.456287</td><td>1.99606</td><td>0.019803</td><td>1.329724</td><td>1.153732</td><td>0.039221</td><td>2.777576</td><td>0.157004</td><td>0.0</td><td>2.016235</td><td>2.865624</td><td>2.906901</td><td>0.518794</td><td>0.631272</td><td>1.773256</td><td>0.215111</td><td>2.451005</td><td>0.00995</td><td>2.683758</td><td>1.826161</td><td>3.123246</td><td>1.717395</td><td>4.065259</td><td>1.474763</td><td>0.00995</td><td>0.0</td><td>2.969388</td><td>0.182322</td><td>0.039221</td><td>0.536493</td><td>0.122218</td><td>1.350667</td><td>3.367296</td><td>0.500775</td><td>&hellip;</td><td>0.0</td><td>null</td><td>null</td><td>null</td><td>null</td><td>null</td><td>null</td><td>0.0</td><td>0.0</td><td>null</td><td>0.0</td><td>null</td><td>0.0</td><td>null</td><td>null</td><td>null</td><td>0.0</td><td>0.0</td><td>0.231112</td><td>0.0</td><td>null</td><td>null</td><td>null</td><td>0.0</td><td>null</td><td>0.41211</td><td>null</td><td>null</td><td>null</td><td>null</td><td>0.182322</td><td>null</td><td>0.0</td><td>null</td><td>null</td><td>null</td><td>0.0</td></tr><tr><td>&quot;SIDM01160&quot;</td><td>1023</td><td>3.875126</td><td>0.463734</td><td>4.172231</td><td>0.0</td><td>1.244155</td><td>2.76001</td><td>0.609766</td><td>1.144223</td><td>0.131028</td><td>0.019803</td><td>1.134623</td><td>0.058269</td><td>0.500775</td><td>0.139762</td><td>2.791778</td><td>1.722767</td><td>0.364643</td><td>2.446685</td><td>0.223144</td><td>2.876386</td><td>1.368639</td><td>1.623341</td><td>0.039221</td><td>3.501043</td><td>2.048982</td><td>2.193886</td><td>2.237513</td><td>3.151025</td><td>3.046901</td><td>1.675226</td><td>0.788457</td><td>0.157004</td><td>1.627278</td><td>2.942331</td><td>1.791759</td><td>&hellip;</td><td>0.00995</td><td>null</td><td>null</td><td>null</td><td>null</td><td>null</td><td>null</td><td>0.0</td><td>0.0</td><td>null</td><td>0.0</td><td>null</td><td>0.0</td><td>null</td><td>null</td><td>null</td><td>0.019803</td><td>0.0</td><td>0.0</td><td>0.0</td><td>null</td><td>null</td><td>null</td><td>0.0</td><td>null</td><td>0.746688</td><td>null</td><td>null</td><td>null</td><td>null</td><td>0.0</td><td>null</td><td>0.019803</td><td>null</td><td>null</td><td>null</td><td>0.0</td></tr><tr><td>&quot;SIDM00547&quot;</td><td>1197</td><td>4.457386</td><td>0.039221</td><td>1.682688</td><td>0.039221</td><td>0.10436</td><td>1.401183</td><td>0.039221</td><td>0.500775</td><td>3.296947</td><td>0.0</td><td>2.398804</td><td>2.618125</td><td>0.058269</td><td>0.067659</td><td>3.569533</td><td>1.83737</td><td>0.14842</td><td>2.851862</td><td>0.00995</td><td>2.973487</td><td>2.276241</td><td>2.640485</td><td>0.039221</td><td>3.373484</td><td>0.693147</td><td>3.165897</td><td>0.0</td><td>2.921009</td><td>0.198851</td><td>0.019803</td><td>2.910174</td><td>1.418277</td><td>2.75557</td><td>4.174233</td><td>1.790091</td><td>&hellip;</td><td>0.0</td><td>null</td><td>null</td><td>null</td><td>null</td><td>null</td><td>null</td><td>0.0</td><td>0.039221</td><td>null</td><td>0.0</td><td>null</td><td>0.0</td><td>null</td><td>null</td><td>null</td><td>0.0</td><td>0.0</td><td>0.29267</td><td>0.0</td><td>null</td><td>null</td><td>null</td><td>0.604316</td><td>null</td><td>0.500775</td><td>null</td><td>null</td><td>null</td><td>null</td><td>0.0</td><td>null</td><td>0.0</td><td>null</td><td>null</td><td>null</td><td>0.0</td></tr></tbody></table></div>"
      ],
      "text/plain": [
       "shape: (5, 2_003)\n",
       "┌────────────┬─────────┬───────────┬───────────┬───┬───────────┬───────────┬───────────┬───────────┐\n",
       "│ SANGER_MOD ┆ DRUG_ID ┆ LN_IC50   ┆ SIDG25786 ┆ … ┆ SIDG03212 ┆ SIDG40984 ┆ SIDG35827 ┆ SIDG28514 │\n",
       "│ EL_ID      ┆ ---     ┆ ---       ┆ ---       ┆   ┆ ---       ┆ ---       ┆ ---       ┆ ---       │\n",
       "│ ---        ┆ i32     ┆ f32       ┆ f64       ┆   ┆ f64       ┆ f64       ┆ f64       ┆ f64       │\n",
       "│ str        ┆         ┆           ┆           ┆   ┆           ┆           ┆           ┆           │\n",
       "╞════════════╪═════════╪═══════════╪═══════════╪═══╪═══════════╪═══════════╪═══════════╪═══════════╡\n",
       "│ SIDM00374  ┆ 1009    ┆ 4.13448   ┆ 1.541159  ┆ … ┆ null      ┆ null      ┆ null      ┆ 0.0       │\n",
       "│ SIDM00255  ┆ 268     ┆ -2.236015 ┆ 3.214868  ┆ … ┆ null      ┆ null      ┆ null      ┆ 0.0       │\n",
       "│ SIDM01182  ┆ 1012    ┆ 1.321538  ┆ 1.456287  ┆ … ┆ null      ┆ null      ┆ null      ┆ 0.0       │\n",
       "│ SIDM01160  ┆ 1023    ┆ 3.875126  ┆ 0.463734  ┆ … ┆ null      ┆ null      ┆ null      ┆ 0.0       │\n",
       "│ SIDM00547  ┆ 1197    ┆ 4.457386  ┆ 0.039221  ┆ … ┆ null      ┆ null      ┆ null      ┆ 0.0       │\n",
       "└────────────┴─────────┴───────────┴───────────┴───┴───────────┴───────────┴───────────┴───────────┘"
      ]
     },
     "execution_count": 6,
     "metadata": {},
     "output_type": "execute_result"
    }
   ],
   "source": [
    "# Merge with GDSC\n",
    "merged = gdsc_bulk.join(filtered_after, on=\"SANGER_MODEL_ID\", how=\"left\")\n",
    "\n",
    "# Save\n",
    "merged.write_parquet(\"pseudo_bulk/gdsc_single_cell_aligned.parquet\")\n",
    "\n",
    "print(\"Merged GDSC with pseudo-bulk expression.\")\n",
    "print(f\"Final shape: {merged.shape}\")\n",
    "merged.head()\n"
   ]
  }
 ],
 "metadata": {
  "kernelspec": {
   "display_name": "tese-env",
   "language": "python",
   "name": "python3"
  },
  "language_info": {
   "codemirror_mode": {
    "name": "ipython",
    "version": 3
   },
   "file_extension": ".py",
   "mimetype": "text/x-python",
   "name": "python",
   "nbconvert_exporter": "python",
   "pygments_lexer": "ipython3",
   "version": "3.10.16"
  }
 },
 "nbformat": 4,
 "nbformat_minor": 2
}
