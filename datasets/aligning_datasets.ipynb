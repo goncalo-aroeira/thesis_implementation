{
 "cells": [
  {
   "cell_type": "code",
   "execution_count": 2,
   "metadata": {},
   "outputs": [],
   "source": [
    "# Cell 1: Imports and setup\n",
    "import polars as pl\n",
    "import numpy as np\n",
    "import os\n",
    "import pandas as pd\n",
    "\n",
    "# Ensure output directory exists\n",
    "os.makedirs(\"pseudo_bulk\", exist_ok=True)\n"
   ]
  },
  {
   "cell_type": "code",
   "execution_count": 3,
   "metadata": {},
   "outputs": [
    {
     "name": "stdout",
     "output_type": "stream",
     "text": [
      "GDSC bulk data loaded successfully.\n",
      "Shape: (575197, 3)\n"
     ]
    },
    {
     "data": {
      "text/html": [
       "<div><style>\n",
       ".dataframe > thead > tr,\n",
       ".dataframe > tbody > tr {\n",
       "  text-align: right;\n",
       "  white-space: pre-wrap;\n",
       "}\n",
       "</style>\n",
       "<small>shape: (5, 3)</small><table border=\"1\" class=\"dataframe\"><thead><tr><th>SANGER_MODEL_ID</th><th>DRUG_ID</th><th>LN_IC50</th></tr><tr><td>str</td><td>i32</td><td>f32</td></tr></thead><tbody><tr><td>&quot;SIDM00374&quot;</td><td>1009</td><td>4.13448</td></tr><tr><td>&quot;SIDM00255&quot;</td><td>268</td><td>-2.236015</td></tr><tr><td>&quot;SIDM01182&quot;</td><td>1012</td><td>1.321538</td></tr><tr><td>&quot;SIDM01160&quot;</td><td>1023</td><td>3.875126</td></tr><tr><td>&quot;SIDM00547&quot;</td><td>1197</td><td>4.457386</td></tr></tbody></table></div>"
      ],
      "text/plain": [
       "shape: (5, 3)\n",
       "┌─────────────────┬─────────┬───────────┐\n",
       "│ SANGER_MODEL_ID ┆ DRUG_ID ┆ LN_IC50   │\n",
       "│ ---             ┆ ---     ┆ ---       │\n",
       "│ str             ┆ i32     ┆ f32       │\n",
       "╞═════════════════╪═════════╪═══════════╡\n",
       "│ SIDM00374       ┆ 1009    ┆ 4.13448   │\n",
       "│ SIDM00255       ┆ 268     ┆ -2.236015 │\n",
       "│ SIDM01182       ┆ 1012    ┆ 1.321538  │\n",
       "│ SIDM01160       ┆ 1023    ┆ 3.875126  │\n",
       "│ SIDM00547       ┆ 1197    ┆ 4.457386  │\n",
       "└─────────────────┴─────────┴───────────┘"
      ]
     },
     "execution_count": 3,
     "metadata": {},
     "output_type": "execute_result"
    }
   ],
   "source": [
    "# Cell 2: Load and optimize GDSC bulk drug response data\n",
    "gdsc_bulk = pl.read_parquet(\"gdsc/gdsc_final_cleaned.parquet\").select([\n",
    "    pl.col(\"SANGER_MODEL_ID\").cast(pl.Utf8),\n",
    "    pl.col(\"DRUG_ID\").cast(pl.Int32),\n",
    "    pl.col(\"LN_IC50\").cast(pl.Float32)\n",
    "])\n",
    "\n",
    "print(\"GDSC bulk data loaded successfully.\")\n",
    "print(f\"Shape: {gdsc_bulk.shape}\")\n",
    "gdsc_bulk.head()\n"
   ]
  },
  {
   "cell_type": "code",
   "execution_count": 4,
   "metadata": {},
   "outputs": [
    {
     "name": "stdout",
     "output_type": "stream",
     "text": [
      "Transposed single-cell data to shape: rows = cell lines, cols = genes\n",
      "Shape: (1431, 37607)\n"
     ]
    },
    {
     "data": {
      "text/html": [
       "<div><style>\n",
       ".dataframe > thead > tr,\n",
       ".dataframe > tbody > tr {\n",
       "  text-align: right;\n",
       "  white-space: pre-wrap;\n",
       "}\n",
       "</style>\n",
       "<small>shape: (5, 37_607)</small><table border=\"1\" class=\"dataframe\"><thead><tr><th>SANGER_MODEL_ID</th><th>model_name</th><th>dataset_name</th><th>data_source</th><th>gene_id</th><th>SIDG00001</th><th>SIDG00002</th><th>SIDG00003</th><th>SIDG00004</th><th>SIDG00005</th><th>SIDG00006</th><th>SIDG00007</th><th>SIDG00008</th><th>SIDG00009</th><th>SIDG00010</th><th>SIDG00011</th><th>SIDG00012</th><th>SIDG00017</th><th>SIDG00019</th><th>SIDG00020</th><th>SIDG00021</th><th>SIDG00022</th><th>SIDG00023</th><th>SIDG00024</th><th>SIDG00025</th><th>SIDG00026</th><th>SIDG00027</th><th>SIDG00028</th><th>SIDG00029</th><th>SIDG00030</th><th>SIDG00031</th><th>SIDG00032</th><th>SIDG00033</th><th>SIDG00034</th><th>SIDG00035</th><th>SIDG00036</th><th>SIDG00037</th><th>&hellip;</th><th>SIDG42441</th><th>SIDG42442</th><th>SIDG42443</th><th>SIDG42444</th><th>SIDG42445</th><th>SIDG42446</th><th>SIDG42447</th><th>SIDG42448</th><th>SIDG42449</th><th>SIDG42450</th><th>SIDG42451</th><th>SIDG42452</th><th>SIDG42453</th><th>SIDG42454</th><th>SIDG42455</th><th>SIDG42456</th><th>SIDG42457</th><th>SIDG42458</th><th>SIDG42459</th><th>SIDG42460</th><th>SIDG42461</th><th>SIDG42462</th><th>SIDG42463</th><th>SIDG42464</th><th>SIDG42466</th><th>SIDG42467</th><th>SIDG42468</th><th>SIDG42469</th><th>SIDG42470</th><th>SIDG42471</th><th>SIDG42472</th><th>SIDG42473</th><th>SIDG42474</th><th>SIDG42475</th><th>SIDG42479</th><th>SIDG42480</th><th>SIDG42481</th></tr><tr><td>str</td><td>f64</td><td>f64</td><td>f64</td><td>f64</td><td>f64</td><td>f64</td><td>f64</td><td>f64</td><td>f64</td><td>f64</td><td>f64</td><td>f64</td><td>f64</td><td>f64</td><td>f64</td><td>f64</td><td>f64</td><td>f64</td><td>f64</td><td>f64</td><td>f64</td><td>f64</td><td>f64</td><td>f64</td><td>f64</td><td>f64</td><td>f64</td><td>f64</td><td>f64</td><td>f64</td><td>f64</td><td>f64</td><td>f64</td><td>f64</td><td>f64</td><td>f64</td><td>&hellip;</td><td>f64</td><td>f64</td><td>f64</td><td>f64</td><td>f64</td><td>f64</td><td>f64</td><td>f64</td><td>f64</td><td>f64</td><td>f64</td><td>f64</td><td>f64</td><td>f64</td><td>f64</td><td>f64</td><td>f64</td><td>f64</td><td>f64</td><td>f64</td><td>f64</td><td>f64</td><td>f64</td><td>f64</td><td>f64</td><td>f64</td><td>f64</td><td>f64</td><td>f64</td><td>f64</td><td>f64</td><td>f64</td><td>f64</td><td>f64</td><td>f64</td><td>f64</td><td>f64</td></tr></thead><tbody><tr><td>&quot;SIDM00001&quot;</td><td>0.0</td><td>0.0</td><td>0.0</td><td>0.0</td><td>0.16</td><td>0.73</td><td>0.01</td><td>0.1</td><td>0.0</td><td>0.0</td><td>0.0</td><td>0.92</td><td>0.0</td><td>0.0</td><td>0.16</td><td>0.0</td><td>7.28</td><td>4.04</td><td>0.0</td><td>0.0</td><td>0.0</td><td>0.0</td><td>0.0</td><td>0.0</td><td>0.0</td><td>0.0</td><td>5.49</td><td>20.05</td><td>1.53</td><td>2.48</td><td>25.7</td><td>0.89</td><td>11.79</td><td>0.75</td><td>203.63</td><td>10.6</td><td>&hellip;</td><td>0.0</td><td>5.53</td><td>3.35</td><td>7.32</td><td>4.41</td><td>0.75</td><td>1.41</td><td>4.8</td><td>0.0</td><td>2.16</td><td>3.21</td><td>0.1</td><td>0.0</td><td>0.0</td><td>0.0</td><td>2.24</td><td>1.05</td><td>7.2</td><td>0.21</td><td>5.03</td><td>4.34</td><td>10.32</td><td>11.04</td><td>72.98</td><td>0.58</td><td>2.32</td><td>2.7</td><td>0.86</td><td>0.0</td><td>2.73</td><td>8.44</td><td>0.0</td><td>3.53</td><td>4.27</td><td>2.5</td><td>1.81</td><td>0.62</td></tr><tr><td>&quot;SIDM00002&quot;</td><td>0.0</td><td>0.0</td><td>0.0</td><td>0.0</td><td>0.22</td><td>1.69</td><td>0.0</td><td>0.21</td><td>0.2</td><td>0.16</td><td>0.01</td><td>0.03</td><td>0.0</td><td>0.29</td><td>5.4</td><td>0.0</td><td>25.13</td><td>2.51</td><td>0.11</td><td>0.02</td><td>0.0</td><td>0.03</td><td>0.0</td><td>6.18</td><td>0.11</td><td>2.05</td><td>0.67</td><td>9.66</td><td>1.22</td><td>4.59</td><td>31.14</td><td>0.55</td><td>22.66</td><td>0.12</td><td>53.64</td><td>8.52</td><td>&hellip;</td><td>1.55</td><td>4.29</td><td>7.68</td><td>5.48</td><td>2.58</td><td>0.75</td><td>5.24</td><td>5.82</td><td>0.03</td><td>2.5</td><td>7.11</td><td>2.55</td><td>0.0</td><td>0.0</td><td>0.0</td><td>21.82</td><td>3.23</td><td>10.65</td><td>0.15</td><td>4.06</td><td>8.3</td><td>24.31</td><td>9.22</td><td>30.5</td><td>1.34</td><td>3.38</td><td>15.36</td><td>0.58</td><td>0.0</td><td>8.85</td><td>15.77</td><td>0.0</td><td>6.67</td><td>12.7</td><td>3.24</td><td>1.49</td><td>0.16</td></tr><tr><td>&quot;SIDM00003&quot;</td><td>0.0</td><td>0.0</td><td>0.0</td><td>0.0</td><td>0.14</td><td>3.33</td><td>0.0</td><td>8.41</td><td>0.24</td><td>0.0</td><td>0.0</td><td>0.0</td><td>0.01</td><td>0.09</td><td>0.0</td><td>0.0</td><td>18.38</td><td>3.74</td><td>0.51</td><td>0.0</td><td>0.0</td><td>0.01</td><td>0.0</td><td>0.0</td><td>0.0</td><td>4.51</td><td>8.32</td><td>21.28</td><td>2.81</td><td>2.51</td><td>35.65</td><td>0.06</td><td>16.7</td><td>0.12</td><td>20.04</td><td>10.36</td><td>&hellip;</td><td>0.01</td><td>3.84</td><td>4.06</td><td>3.19</td><td>1.19</td><td>0.34</td><td>2.8</td><td>4.76</td><td>0.0</td><td>1.73</td><td>1.46</td><td>0.03</td><td>0.0</td><td>0.0</td><td>0.0</td><td>3.64</td><td>5.83</td><td>6.88</td><td>0.11</td><td>2.45</td><td>2.53</td><td>21.46</td><td>23.29</td><td>79.94</td><td>0.67</td><td>2.01</td><td>4.92</td><td>3.83</td><td>0.09</td><td>8.62</td><td>51.84</td><td>0.0</td><td>7.28</td><td>12.9</td><td>2.19</td><td>1.7</td><td>0.56</td></tr><tr><td>&quot;SIDM00005&quot;</td><td>0.0</td><td>0.0</td><td>0.0</td><td>0.0</td><td>0.87</td><td>2.04</td><td>0.0</td><td>0.23</td><td>1.48</td><td>0.05</td><td>0.15</td><td>2.42</td><td>0.02</td><td>0.14</td><td>0.75</td><td>0.15</td><td>22.81</td><td>8.78</td><td>0.08</td><td>0.0</td><td>0.0</td><td>0.0</td><td>0.0</td><td>0.0</td><td>0.0</td><td>8.7</td><td>2.01</td><td>31.56</td><td>1.1</td><td>101.2</td><td>34.33</td><td>0.18</td><td>17.1</td><td>0.56</td><td>19.34</td><td>6.19</td><td>&hellip;</td><td>0.0</td><td>3.34</td><td>12.35</td><td>7.07</td><td>6.6</td><td>2.79</td><td>1.07</td><td>4.81</td><td>0.0</td><td>1.75</td><td>2.32</td><td>1.39</td><td>0.01</td><td>0.05</td><td>0.01</td><td>5.8</td><td>5.12</td><td>25.7</td><td>0.26</td><td>1.74</td><td>7.89</td><td>4.28</td><td>10.93</td><td>72.11</td><td>1.63</td><td>2.62</td><td>7.53</td><td>1.01</td><td>0.0</td><td>3.96</td><td>6.87</td><td>0.0</td><td>3.37</td><td>7.11</td><td>7.52</td><td>5.02</td><td>0.33</td></tr><tr><td>&quot;SIDM00006&quot;</td><td>0.0</td><td>0.0</td><td>0.0</td><td>0.0</td><td>0.15</td><td>2.03</td><td>0.01</td><td>23.22</td><td>0.28</td><td>0.0</td><td>0.01</td><td>0.0</td><td>0.01</td><td>0.16</td><td>3.86</td><td>0.0</td><td>7.87</td><td>1.81</td><td>0.12</td><td>0.0</td><td>0.0</td><td>0.02</td><td>0.0</td><td>0.07</td><td>0.02</td><td>3.49</td><td>5.16</td><td>16.44</td><td>4.01</td><td>3.11</td><td>32.19</td><td>0.08</td><td>18.61</td><td>1.53</td><td>67.8</td><td>7.13</td><td>&hellip;</td><td>0.71</td><td>4.09</td><td>3.72</td><td>4.28</td><td>2.41</td><td>3.21</td><td>4.52</td><td>5.17</td><td>0.12</td><td>1.75</td><td>3.39</td><td>2.79</td><td>0.0</td><td>0.0</td><td>0.0</td><td>8.07</td><td>3.21</td><td>7.11</td><td>0.1</td><td>2.53</td><td>5.38</td><td>15.49</td><td>11.14</td><td>29.36</td><td>0.85</td><td>2.23</td><td>4.29</td><td>4.49</td><td>0.0</td><td>7.51</td><td>141.7</td><td>0.0</td><td>3.48</td><td>8.75</td><td>2.94</td><td>1.29</td><td>0.11</td></tr></tbody></table></div>"
      ],
      "text/plain": [
       "shape: (5, 37_607)\n",
       "┌───────────┬───────────┬───────────┬───────────┬───┬───────────┬───────────┬───────────┬──────────┐\n",
       "│ SANGER_MO ┆ model_nam ┆ dataset_n ┆ data_sour ┆ … ┆ SIDG42475 ┆ SIDG42479 ┆ SIDG42480 ┆ SIDG4248 │\n",
       "│ DEL_ID    ┆ e         ┆ ame       ┆ ce        ┆   ┆ ---       ┆ ---       ┆ ---       ┆ 1        │\n",
       "│ ---       ┆ ---       ┆ ---       ┆ ---       ┆   ┆ f64       ┆ f64       ┆ f64       ┆ ---      │\n",
       "│ str       ┆ f64       ┆ f64       ┆ f64       ┆   ┆           ┆           ┆           ┆ f64      │\n",
       "╞═══════════╪═══════════╪═══════════╪═══════════╪═══╪═══════════╪═══════════╪═══════════╪══════════╡\n",
       "│ SIDM00001 ┆ 0.0       ┆ 0.0       ┆ 0.0       ┆ … ┆ 4.27      ┆ 2.5       ┆ 1.81      ┆ 0.62     │\n",
       "│ SIDM00002 ┆ 0.0       ┆ 0.0       ┆ 0.0       ┆ … ┆ 12.7      ┆ 3.24      ┆ 1.49      ┆ 0.16     │\n",
       "│ SIDM00003 ┆ 0.0       ┆ 0.0       ┆ 0.0       ┆ … ┆ 12.9      ┆ 2.19      ┆ 1.7       ┆ 0.56     │\n",
       "│ SIDM00005 ┆ 0.0       ┆ 0.0       ┆ 0.0       ┆ … ┆ 7.11      ┆ 7.52      ┆ 5.02      ┆ 0.33     │\n",
       "│ SIDM00006 ┆ 0.0       ┆ 0.0       ┆ 0.0       ┆ … ┆ 8.75      ┆ 2.94      ┆ 1.29      ┆ 0.11     │\n",
       "└───────────┴───────────┴───────────┴───────────┴───┴───────────┴───────────┴───────────┴──────────┘"
      ]
     },
     "execution_count": 4,
     "metadata": {},
     "output_type": "execute_result"
    }
   ],
   "source": [
    "# Cell 3: Load and transpose single-cell gene expression data\n",
    "cell_gene_df = pd.read_parquet(\"sc_data/rnaseq_fpkm.parquet\")\n",
    "transposed_df = cell_gene_df.set_index(cell_gene_df.columns[0]).transpose()\n",
    "\n",
    "# Ensure all values are numeric and fill NAs with zeros or a small value\n",
    "transposed_df = transposed_df.apply(pd.to_numeric, errors='coerce').fillna(0.0)\n",
    "\n",
    "# Reset index to turn cell line names into a column\n",
    "transposed_df.index.name = \"SANGER_MODEL_ID\"\n",
    "transposed_df.reset_index(inplace=True)\n",
    "\n",
    "# Convert back to Polars\n",
    "cell_gene_matrix = pl.from_pandas(transposed_df)\n",
    "\n",
    "print(\"Transposed single-cell data to shape: rows = cell lines, cols = genes\")\n",
    "print(f\"Shape: {cell_gene_matrix.shape}\")\n",
    "cell_gene_matrix.head()\n"
   ]
  },
  {
   "cell_type": "code",
   "execution_count": 5,
   "metadata": {},
   "outputs": [
    {
     "name": "stdout",
     "output_type": "stream",
     "text": [
      "Normalization complete.\n",
      "Normalized Shape: (1431, 37607)\n"
     ]
    }
   ],
   "source": [
    "# Cell 4: Normalize using log1p (safe for 0 and small values)\n",
    "gene_cols = [col for col in cell_gene_matrix.columns if col != \"SANGER_MODEL_ID\"]\n",
    "\n",
    "normalized_before = cell_gene_matrix.with_columns([\n",
    "    pl.col(col).cast(pl.Float64).log1p().alias(col) for col in gene_cols\n",
    "])\n",
    "\n",
    "# Group by SANGER_MODEL_ID (if duplicates exist)\n",
    "pseudo_bulk = normalized_before.group_by(\"SANGER_MODEL_ID\").agg([\n",
    "    pl.col(col).mean().alias(col) for col in gene_cols\n",
    "])\n",
    "\n",
    "print(\"Normalization complete.\")\n",
    "print(f\"Normalized Shape: {pseudo_bulk.shape}\")\n"
   ]
  },
  {
   "cell_type": "code",
   "execution_count": 6,
   "metadata": {},
   "outputs": [
    {
     "name": "stdout",
     "output_type": "stream",
     "text": [
      "Filtered to top 2000 highly variable genes.\n",
      "Filtered Shape: (1431, 2001)\n"
     ]
    }
   ],
   "source": [
    "# Cell 5: Select top 2000 highly variable genes\n",
    "def top_variable_genes(df, cols, top_n=2000):\n",
    "    data = df.select(cols).to_pandas().to_numpy()\n",
    "    var = np.var(data, axis=0)\n",
    "    top_indices = np.argsort(var)[-top_n:]\n",
    "    selected = [cols[i] for i in top_indices]\n",
    "    return [\"SANGER_MODEL_ID\"] + selected\n",
    "\n",
    "top_genes = top_variable_genes(pseudo_bulk, gene_cols)\n",
    "filtered_after = pseudo_bulk.select(top_genes)\n",
    "\n",
    "print(\"Filtered to top 2000 highly variable genes.\")\n",
    "print(f\"Filtered Shape: {filtered_after.shape}\")\n"
   ]
  },
  {
   "cell_type": "code",
   "execution_count": 7,
   "metadata": {},
   "outputs": [
    {
     "name": "stdout",
     "output_type": "stream",
     "text": [
      "Merged GDSC with pseudo-bulk expression.\n",
      "Final shape: (575197, 2003)\n"
     ]
    },
    {
     "data": {
      "text/html": [
       "<div><style>\n",
       ".dataframe > thead > tr,\n",
       ".dataframe > tbody > tr {\n",
       "  text-align: right;\n",
       "  white-space: pre-wrap;\n",
       "}\n",
       "</style>\n",
       "<small>shape: (5, 2_003)</small><table border=\"1\" class=\"dataframe\"><thead><tr><th>SANGER_MODEL_ID</th><th>DRUG_ID</th><th>LN_IC50</th><th>SIDG22565</th><th>SIDG00978</th><th>SIDG03466</th><th>SIDG40295</th><th>SIDG03584</th><th>SIDG09724</th><th>SIDG16884</th><th>SIDG07256</th><th>SIDG38226</th><th>SIDG04097</th><th>SIDG26742</th><th>SIDG40031</th><th>SIDG22627</th><th>SIDG39064</th><th>SIDG21177</th><th>SIDG08780</th><th>SIDG14602</th><th>SIDG17435</th><th>SIDG37000</th><th>SIDG03613</th><th>SIDG37326</th><th>SIDG36219</th><th>SIDG21980</th><th>SIDG24980</th><th>SIDG34491</th><th>SIDG03352</th><th>SIDG17539</th><th>SIDG06860</th><th>SIDG22683</th><th>SIDG02388</th><th>SIDG08619</th><th>SIDG15056</th><th>SIDG11319</th><th>SIDG40701</th><th>&hellip;</th><th>SIDG14055</th><th>SIDG00795</th><th>SIDG37633</th><th>SIDG33598</th><th>SIDG14546</th><th>SIDG03949</th><th>SIDG39685</th><th>SIDG03546</th><th>SIDG36432</th><th>SIDG35053</th><th>SIDG12427</th><th>SIDG05997</th><th>SIDG12423</th><th>SIDG03980</th><th>SIDG11411</th><th>SIDG34262</th><th>SIDG37575</th><th>SIDG17142</th><th>SIDG32797</th><th>SIDG33581</th><th>SIDG13982</th><th>SIDG10609</th><th>SIDG14466</th><th>SIDG37069</th><th>SIDG40258</th><th>SIDG34183</th><th>SIDG14064</th><th>SIDG09225</th><th>SIDG33597</th><th>SIDG00640</th><th>SIDG33601</th><th>SIDG07872</th><th>SIDG36158</th><th>SIDG40707</th><th>SIDG13984</th><th>SIDG14133</th><th>SIDG19416</th></tr><tr><td>str</td><td>i32</td><td>f32</td><td>f64</td><td>f64</td><td>f64</td><td>f64</td><td>f64</td><td>f64</td><td>f64</td><td>f64</td><td>f64</td><td>f64</td><td>f64</td><td>f64</td><td>f64</td><td>f64</td><td>f64</td><td>f64</td><td>f64</td><td>f64</td><td>f64</td><td>f64</td><td>f64</td><td>f64</td><td>f64</td><td>f64</td><td>f64</td><td>f64</td><td>f64</td><td>f64</td><td>f64</td><td>f64</td><td>f64</td><td>f64</td><td>f64</td><td>f64</td><td>&hellip;</td><td>f64</td><td>f64</td><td>f64</td><td>f64</td><td>f64</td><td>f64</td><td>f64</td><td>f64</td><td>f64</td><td>f64</td><td>f64</td><td>f64</td><td>f64</td><td>f64</td><td>f64</td><td>f64</td><td>f64</td><td>f64</td><td>f64</td><td>f64</td><td>f64</td><td>f64</td><td>f64</td><td>f64</td><td>f64</td><td>f64</td><td>f64</td><td>f64</td><td>f64</td><td>f64</td><td>f64</td><td>f64</td><td>f64</td><td>f64</td><td>f64</td><td>f64</td><td>f64</td></tr></thead><tbody><tr><td>&quot;SIDM00374&quot;</td><td>1009</td><td>4.13448</td><td>0.0</td><td>0.09531</td><td>1.23256</td><td>0.0</td><td>1.860975</td><td>0.09531</td><td>0.0</td><td>5.8172</td><td>2.516082</td><td>2.321407</td><td>0.198851</td><td>4.454464</td><td>1.702928</td><td>0.678034</td><td>0.113329</td><td>0.00995</td><td>0.00995</td><td>4.65396</td><td>0.0</td><td>0.198851</td><td>2.508786</td><td>1.656321</td><td>0.019803</td><td>2.442347</td><td>0.0</td><td>0.00995</td><td>4.051089</td><td>0.029559</td><td>0.924259</td><td>0.0</td><td>1.342865</td><td>0.00995</td><td>0.908259</td><td>0.0</td><td>&hellip;</td><td>0.139762</td><td>0.00995</td><td>0.0</td><td>0.019803</td><td>5.354414</td><td>0.067659</td><td>0.0</td><td>1.948763</td><td>7.332592</td><td>0.029559</td><td>0.00995</td><td>0.0</td><td>0.989541</td><td>6.37139</td><td>6.484574</td><td>0.41211</td><td>0.0</td><td>0.00995</td><td>0.0</td><td>0.039221</td><td>1.446919</td><td>0.0</td><td>0.0</td><td>0.076961</td><td>0.0</td><td>0.385262</td><td>0.019803</td><td>0.173953</td><td>1.470176</td><td>0.00995</td><td>0.113329</td><td>0.039221</td><td>1.393766</td><td>5.47185</td><td>0.058269</td><td>0.00995</td><td>8.201465</td></tr><tr><td>&quot;SIDM00255&quot;</td><td>268</td><td>-2.236015</td><td>3.141995</td><td>0.019803</td><td>1.905088</td><td>0.0</td><td>3.955657</td><td>2.503892</td><td>1.860975</td><td>0.00995</td><td>0.029559</td><td>3.347093</td><td>0.506818</td><td>4.51437</td><td>1.373716</td><td>1.131402</td><td>0.029559</td><td>2.468947</td><td>2.315501</td><td>0.019803</td><td>1.975469</td><td>1.238374</td><td>3.161247</td><td>0.963174</td><td>0.0</td><td>2.410542</td><td>0.0</td><td>0.14842</td><td>0.067659</td><td>0.940007</td><td>0.029559</td><td>0.329304</td><td>2.875258</td><td>0.00995</td><td>2.596746</td><td>0.157004</td><td>&hellip;</td><td>0.00995</td><td>0.0</td><td>0.322083</td><td>0.0</td><td>0.832909</td><td>5.260823</td><td>0.0</td><td>0.039221</td><td>0.019803</td><td>0.0</td><td>0.444686</td><td>0.157004</td><td>2.473171</td><td>0.00995</td><td>0.0</td><td>0.10436</td><td>0.00995</td><td>1.121678</td><td>0.0</td><td>0.0</td><td>0.0</td><td>0.019803</td><td>0.0</td><td>0.029559</td><td>5.709201</td><td>0.0</td><td>0.019803</td><td>2.885917</td><td>0.00995</td><td>0.0</td><td>0.029559</td><td>0.357674</td><td>2.512035</td><td>4.614427</td><td>0.058269</td><td>0.157004</td><td>7.795054</td></tr><tr><td>&quot;SIDM01182&quot;</td><td>1012</td><td>1.321538</td><td>1.249902</td><td>3.724005</td><td>0.239017</td><td>0.029559</td><td>1.442202</td><td>0.0</td><td>0.00995</td><td>0.058269</td><td>2.992728</td><td>3.629129</td><td>0.19062</td><td>4.265493</td><td>2.026832</td><td>1.627278</td><td>2.335052</td><td>2.336987</td><td>0.845868</td><td>0.542324</td><td>0.683097</td><td>1.715598</td><td>3.941582</td><td>2.258633</td><td>0.019803</td><td>4.493344</td><td>0.0</td><td>0.916291</td><td>0.039221</td><td>2.982647</td><td>0.0</td><td>0.00995</td><td>0.966984</td><td>1.803359</td><td>1.860975</td><td>0.336472</td><td>&hellip;</td><td>0.139762</td><td>2.620311</td><td>0.322083</td><td>4.828554</td><td>6.391079</td><td>2.294553</td><td>0.029559</td><td>4.184794</td><td>4.696381</td><td>0.215111</td><td>0.215111</td><td>5.248286</td><td>3.339677</td><td>0.165514</td><td>0.364643</td><td>0.113329</td><td>2.872434</td><td>0.19062</td><td>0.076961</td><td>2.759377</td><td>0.518794</td><td>0.392042</td><td>0.231112</td><td>0.086178</td><td>3.837515</td><td>6.43146</td><td>3.892024</td><td>3.3485</td><td>0.165514</td><td>0.086178</td><td>0.04879</td><td>0.24686</td><td>3.275634</td><td>5.75092</td><td>3.068983</td><td>0.270027</td><td>0.0</td></tr><tr><td>&quot;SIDM01160&quot;</td><td>1023</td><td>3.875126</td><td>2.380472</td><td>0.0</td><td>0.10436</td><td>2.385086</td><td>2.057963</td><td>0.457425</td><td>0.371564</td><td>0.173953</td><td>2.593761</td><td>1.671473</td><td>2.577182</td><td>3.222469</td><td>0.8671</td><td>1.913977</td><td>2.612273</td><td>1.406097</td><td>0.029559</td><td>0.951658</td><td>0.970779</td><td>0.207014</td><td>3.440739</td><td>2.767576</td><td>0.09531</td><td>4.493009</td><td>0.0</td><td>0.113329</td><td>0.00995</td><td>2.338917</td><td>0.00995</td><td>0.10436</td><td>0.04879</td><td>1.391282</td><td>1.702928</td><td>1.82777</td><td>&hellip;</td><td>5.901813</td><td>0.058269</td><td>3.353057</td><td>4.990637</td><td>2.286456</td><td>4.581697</td><td>0.00995</td><td>4.73145</td><td>1.108563</td><td>3.093766</td><td>0.09531</td><td>4.907125</td><td>3.903789</td><td>2.228939</td><td>0.00995</td><td>4.547541</td><td>1.61542</td><td>4.777189</td><td>0.019803</td><td>6.286854</td><td>6.774921</td><td>4.869149</td><td>2.513656</td><td>5.995307</td><td>0.04879</td><td>4.351954</td><td>5.932484</td><td>2.254445</td><td>5.023091</td><td>3.135059</td><td>5.982575</td><td>4.023207</td><td>0.00995</td><td>0.00995</td><td>5.367703</td><td>6.523768</td><td>2.87976</td></tr><tr><td>&quot;SIDM00547&quot;</td><td>1197</td><td>4.457386</td><td>1.075002</td><td>0.737164</td><td>0.14842</td><td>0.0</td><td>1.515127</td><td>0.04879</td><td>0.207014</td><td>0.04879</td><td>3.058707</td><td>3.447126</td><td>2.349469</td><td>3.592644</td><td>1.10194</td><td>1.054312</td><td>3.755135</td><td>0.765468</td><td>0.00995</td><td>0.00995</td><td>1.226712</td><td>0.00995</td><td>1.759581</td><td>2.099244</td><td>1.223775</td><td>3.736717</td><td>0.0</td><td>0.336472</td><td>0.029559</td><td>1.731656</td><td>0.708036</td><td>0.0</td><td>1.560248</td><td>1.308333</td><td>2.231089</td><td>0.0</td><td>&hellip;</td><td>0.598837</td><td>1.015231</td><td>1.495149</td><td>6.052959</td><td>2.073172</td><td>1.818077</td><td>3.042139</td><td>1.570697</td><td>3.255786</td><td>4.944211</td><td>0.122218</td><td>2.109</td><td>0.157004</td><td>6.534109</td><td>7.319951</td><td>4.170688</td><td>1.574846</td><td>5.53252</td><td>0.086178</td><td>7.222646</td><td>4.381151</td><td>0.29267</td><td>2.392426</td><td>1.986504</td><td>0.19062</td><td>1.418277</td><td>5.042005</td><td>0.307485</td><td>3.288402</td><td>5.493514</td><td>3.757706</td><td>3.898735</td><td>0.239017</td><td>4.798184</td><td>5.294209</td><td>4.818829</td><td>0.0</td></tr></tbody></table></div>"
      ],
      "text/plain": [
       "shape: (5, 2_003)\n",
       "┌────────────┬─────────┬───────────┬───────────┬───┬───────────┬───────────┬───────────┬───────────┐\n",
       "│ SANGER_MOD ┆ DRUG_ID ┆ LN_IC50   ┆ SIDG22565 ┆ … ┆ SIDG40707 ┆ SIDG13984 ┆ SIDG14133 ┆ SIDG19416 │\n",
       "│ EL_ID      ┆ ---     ┆ ---       ┆ ---       ┆   ┆ ---       ┆ ---       ┆ ---       ┆ ---       │\n",
       "│ ---        ┆ i32     ┆ f32       ┆ f64       ┆   ┆ f64       ┆ f64       ┆ f64       ┆ f64       │\n",
       "│ str        ┆         ┆           ┆           ┆   ┆           ┆           ┆           ┆           │\n",
       "╞════════════╪═════════╪═══════════╪═══════════╪═══╪═══════════╪═══════════╪═══════════╪═══════════╡\n",
       "│ SIDM00374  ┆ 1009    ┆ 4.13448   ┆ 0.0       ┆ … ┆ 5.47185   ┆ 0.058269  ┆ 0.00995   ┆ 8.201465  │\n",
       "│ SIDM00255  ┆ 268     ┆ -2.236015 ┆ 3.141995  ┆ … ┆ 4.614427  ┆ 0.058269  ┆ 0.157004  ┆ 7.795054  │\n",
       "│ SIDM01182  ┆ 1012    ┆ 1.321538  ┆ 1.249902  ┆ … ┆ 5.75092   ┆ 3.068983  ┆ 0.270027  ┆ 0.0       │\n",
       "│ SIDM01160  ┆ 1023    ┆ 3.875126  ┆ 2.380472  ┆ … ┆ 0.00995   ┆ 5.367703  ┆ 6.523768  ┆ 2.87976   │\n",
       "│ SIDM00547  ┆ 1197    ┆ 4.457386  ┆ 1.075002  ┆ … ┆ 4.798184  ┆ 5.294209  ┆ 4.818829  ┆ 0.0       │\n",
       "└────────────┴─────────┴───────────┴───────────┴───┴───────────┴───────────┴───────────┴───────────┘"
      ]
     },
     "execution_count": 7,
     "metadata": {},
     "output_type": "execute_result"
    }
   ],
   "source": [
    "# Cell 6: Merge with GDSC and save\n",
    "merged = gdsc_bulk.join(filtered_after, on=\"SANGER_MODEL_ID\", how=\"left\")\n",
    "\n",
    "print(\"Merged GDSC with pseudo-bulk expression.\")\n",
    "print(f\"Final shape: {merged.shape}\")\n",
    "merged.head()\n"
   ]
  },
  {
   "cell_type": "code",
   "execution_count": 8,
   "metadata": {},
   "outputs": [
    {
     "name": "stdout",
     "output_type": "stream",
     "text": [
      "Saved aligned data to pseudo_bulk/gdsc_single_cell_aligned.parquet\n"
     ]
    }
   ],
   "source": [
    "# Cell 7: Save final dataset\n",
    "merged.write_parquet(\"pseudo_bulk/gdsc_single_cell_aligned.parquet\")\n",
    "print(\"Saved aligned data to pseudo_bulk/gdsc_single_cell_aligned.parquet\")\n"
   ]
  }
 ],
 "metadata": {
  "kernelspec": {
   "display_name": "tese-env",
   "language": "python",
   "name": "python3"
  },
  "language_info": {
   "codemirror_mode": {
    "name": "ipython",
    "version": 3
   },
   "file_extension": ".py",
   "mimetype": "text/x-python",
   "name": "python",
   "nbconvert_exporter": "python",
   "pygments_lexer": "ipython3",
   "version": "3.10.16"
  }
 },
 "nbformat": 4,
 "nbformat_minor": 2
}
